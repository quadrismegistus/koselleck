{
 "cells": [
  {
   "cell_type": "markdown",
   "metadata": {},
   "source": [
    "# Semantic shifts"
   ]
  },
  {
   "cell_type": "code",
   "execution_count": 1,
   "metadata": {},
   "outputs": [
    {
     "name": "stderr",
     "output_type": "stream",
     "text": [
      "[Koselleck] (11:29:06) Alles bereit\n"
     ]
    }
   ],
   "source": [
    "from ipynb.fs.full.koselleck import *"
   ]
  },
  {
   "cell_type": "markdown",
   "metadata": {},
   "source": [
    "## Generating data"
   ]
  },
  {
   "cell_type": "markdown",
   "metadata": {},
   "source": [
    "### Local neighborhood measure"
   ]
  },
  {
   "cell_type": "code",
   "execution_count": 2,
   "metadata": {},
   "outputs": [],
   "source": [
    "def to_lnm(word1_period1,word2_period2,k=25,num_proc=1,cache=True,progress=True):\n",
    "    word1,period1=word1_period1.split('_') if type(word1_period1)==str else word1_period1\n",
    "    word2,period2=word2_period2.split('_') if type(word2_period2)==str else word2_period2\n",
    "\n",
    "    qstr=f'{word1}_{period1},{word2}_{period2},k={k}'\n",
    "    if cache:\n",
    "        with get_veclib('lnm') as vl:\n",
    "            if qstr in vl:\n",
    "                print(\"Found in lnm db:\",qstr)\n",
    "                return vl[qstr]\n",
    "    \n",
    "    dfnbr1=to_nbr(word1,period1,num_proc=num_proc,progress=progress)\n",
    "    dfnbr2=to_nbr(word2,period2,num_proc=num_proc,progress=progress)\n",
    "    \n",
    "    # filter words in both models\n",
    "    dfmetanbr=dfnbr1.iloc[:k].append(dfnbr2.iloc[:k])\n",
    "    metaneighb=list(set(dfmetanbr.index.get_level_values('neighbor')))\n",
    "    \n",
    "    # dists\n",
    "    dfcdist1=cdist(word1,period1,neighbors=metaneighb,progress=progress,num_proc=num_proc).reset_index()\n",
    "    dfcdist2=cdist(word2,period2,neighbors=metaneighb,progress=progress,num_proc=num_proc).reset_index()\n",
    "    \n",
    "    dfcdist1['word_period_run']=list(zip(dfcdist1.word,dfcdist1.period,dfcdist1.run))\n",
    "    dfcdist2['word_period_run']=list(zip(dfcdist2.word,dfcdist2.period,dfcdist2.run))\n",
    "    \n",
    "    dfpiv1=dfcdist1.pivot('word_period_run','neighbor','cdist')\n",
    "    dfpiv2=dfcdist2.pivot('word_period_run','neighbor','cdist')\n",
    "    \n",
    "    dfpiv_dists = cdist_dfpivs(dfpiv1,dfpiv2)\n",
    "    o=[]\n",
    "    for i,row in dfpiv_dists.iterrows():\n",
    "        odx={\n",
    "            'word1':row.i1[0],\n",
    "            'word2':row.i2[0],\n",
    "            'period1':row.i1[1],\n",
    "            'period2':row.i2[1],\n",
    "            'run1':row.i1[2],\n",
    "            'run2':row.i2[2],\n",
    "            'lnm':row.cdist,\n",
    "            'mneighb_size':row['size'],\n",
    "            'neighb1_size':row.size1,\n",
    "            'neighb2_size':row.size2,\n",
    "        }\n",
    "        o+=[odx]\n",
    "    odf=pd.DataFrame(o)\n",
    "    index_cols=['word1','word2','period1','period2','run1','run2']\n",
    "    odf=odf.set_index(index_cols)\n",
    "    \n",
    "    if cache:\n",
    "        with get_veclib('lnm',autocommit=True) as vl:\n",
    "            vl[qstr]=odf\n",
    "    \n",
    "    return odf"
   ]
  },
  {
   "cell_type": "code",
   "execution_count": 3,
   "metadata": {},
   "outputs": [],
   "source": [
    "def cdist_dfpivs(dfpiv1,dfpiv2):\n",
    "    o=[]\n",
    "    for i1,i2 in zip(dfpiv1.index,dfpiv2.index):\n",
    "        dfcmp=dfpiv1.loc[[i1]].append(dfpiv2.loc[[i2]])\n",
    "        dfcmpd=dfcmp.dropna(axis=1)\n",
    "        csim=fastdist.cosine(\n",
    "            dfcmpd.iloc[0].values.astype(float),\n",
    "            dfcmpd.iloc[1].values.astype(float)\n",
    "        )\n",
    "        odx={\n",
    "            'i1':i1,\n",
    "            'i2':i2,\n",
    "            'cdist':1-csim,\n",
    "            'size1':len(dfcmp.iloc[0].dropna()),\n",
    "            'size2':len(dfcmp.iloc[1].dropna()),\n",
    "            'size':len(dfcmpd.columns)\n",
    "        }\n",
    "        o.append(odx)\n",
    "    return pd.DataFrame(o)\n",
    "            "
   ]
  },
  {
   "cell_type": "code",
   "execution_count": 4,
   "metadata": {},
   "outputs": [],
   "source": [
    "# words=get_all_nouns()\n",
    "# word=random.choice(words)\n",
    "# word"
   ]
  },
  {
   "cell_type": "code",
   "execution_count": 5,
   "metadata": {},
   "outputs": [],
   "source": [
    "# odf=to_lnm(f'{word}_1750-1755', f'{word}_1850-1855')\n",
    "# odf"
   ]
  },
  {
   "cell_type": "code",
   "execution_count": 6,
   "metadata": {},
   "outputs": [],
   "source": [
    "# odf=to_lnm('culture_1750-1755','culture_1850-1855')\n",
    "# odf"
   ]
  },
  {
   "cell_type": "code",
   "execution_count": 7,
   "metadata": {},
   "outputs": [],
   "source": [
    "# odf=to_lnm('station_1750-1755','station_1850-1855')\n",
    "# odf.groupby(['word1','word2','period1','period2']).mean()"
   ]
  },
  {
   "cell_type": "code",
   "execution_count": 8,
   "metadata": {},
   "outputs": [],
   "source": [
    "# odf=to_lnm('god_1750-1755','god_1850-1855')\n",
    "# odf.groupby(['word1','word2','period1','period2']).mean()"
   ]
  },
  {
   "cell_type": "markdown",
   "metadata": {},
   "source": [
    "### Scaling up"
   ]
  },
  {
   "cell_type": "code",
   "execution_count": 9,
   "metadata": {},
   "outputs": [],
   "source": [
    "def lnm_postproc(odf):\n",
    "    odf_ac=odf.reset_index().drop('run1',1).drop('run2',1)\n",
    "    odx={\n",
    "        'word1':odf_ac.iloc[0].word1,\n",
    "        'word2':odf_ac.iloc[0].word2,\n",
    "        'period1':odf_ac.iloc[0].period1,\n",
    "        'period2':odf_ac.iloc[0].period2,\n",
    "        **dict(odf_ac.mean()),\n",
    "    }\n",
    "    return odx"
   ]
  },
  {
   "cell_type": "code",
   "execution_count": 10,
   "metadata": {},
   "outputs": [],
   "source": [
    "# lnm_postproc(odf)"
   ]
  },
  {
   "cell_type": "code",
   "execution_count": 11,
   "metadata": {},
   "outputs": [],
   "source": [
    "def lnm_(objd):\n",
    "    res=to_lnm(**objd)\n",
    "    if res is None: res=pd.DataFrame()\n",
    "    return res\n",
    "\n",
    "def _lnm_ww_(obj):\n",
    "    word1,word2,ybin,ymin,ymax,k=obj\n",
    "    wqstr=f'{word1},{word2},ybin={YEARBIN},ymin={YMIN},ymax={YMAX},k={K}'\n",
    "    with get_veclib('lnm',autocommit=False) as vl:\n",
    "        if wqstr in vl: return vl[wqstr]\n",
    "        \n",
    "    o=[]\n",
    "    for odf in iterr:\n",
    "        odx=lnm_postproc(odf)\n",
    "        if odx: o.append(odx)\n",
    "    return pd.DataFrame(o).set_index(['word1','word2','period1','period2'])\n",
    "        \n",
    "\n",
    "def lnm(word_or_words1,word_or_words2=None,period_or_periods=None,k=25,num_proc=1,cache=True):\n",
    "    \n",
    "    ## input\n",
    "    # words1?\n",
    "    words1=tokenize_fast(word_or_words1) if type(word_or_words1)==str else list(word_or_words1)\n",
    "    # words2?\n",
    "    if word_or_words2 is None:\n",
    "        words2=words1\n",
    "    elif type(word_or_words2)==str:\n",
    "        words2=tokenize_fast(word_or_words2)\n",
    "    else:\n",
    "        words2=list(word_or_words2)\n",
    "    # periods?\n",
    "    if period_or_periods is None:\n",
    "        periods=get_default_periods()\n",
    "    elif type(period_or_periods)==str:\n",
    "        periods=tokenize_fast(period_or_periods)\n",
    "    else:\n",
    "        periods=list(period_or_periods)\n",
    "        \n",
    "    ## preproc\n",
    "    objs = [\n",
    "        dict(\n",
    "            word1_period1=(w1,p1),\n",
    "            word2_period2=(w2,p2),\n",
    "            k=k,\n",
    "            num_proc=1,\n",
    "            cache=cache,\n",
    "            progress=False\n",
    "        )\n",
    "        for p1 in periods\n",
    "        for p2 in periods\n",
    "        for w1,w2 in zip(words1,words2)\n",
    "        if p1<p2 or (p1<=p2 and w1!=w2)\n",
    "    ]\n",
    "#     objs=objs[:10]#random.sample(objs,10)\n",
    "    \n",
    "    ## proc\n",
    "    iterr=pmap_iter(\n",
    "        lnm_,\n",
    "        objs,\n",
    "        num_proc=num_proc,\n",
    "        desc='Measuring local neighb. distance across word-periods'\n",
    "    )\n",
    "    \n",
    "    ## postproc\n",
    "    o=[]\n",
    "    for odf in iterr:\n",
    "        odx=lnm_postproc(odf)\n",
    "        if odx: o.append(odx)\n",
    "    return pd.DataFrame(o).set_index(['word1','word2','period1','period2'])"
   ]
  },
  {
   "cell_type": "code",
   "execution_count": 12,
   "metadata": {},
   "outputs": [],
   "source": [
    "# dflnm = lnm('station',num_proc=4)"
   ]
  },
  {
   "cell_type": "code",
   "execution_count": 13,
   "metadata": {},
   "outputs": [],
   "source": [
    "# dflnm.sort_values('lnm')"
   ]
  },
  {
   "cell_type": "markdown",
   "metadata": {},
   "source": [
    "## Importing old data (to save time)"
   ]
  },
  {
   "cell_type": "code",
   "execution_count": 14,
   "metadata": {},
   "outputs": [],
   "source": [
    "K=25"
   ]
  },
  {
   "cell_type": "code",
   "execution_count": 15,
   "metadata": {},
   "outputs": [
    {
     "name": "stderr",
     "output_type": "stream",
     "text": [
      "[Koselleck] (11:29:06) Reformatting old data\n",
      "[Koselleck] (11:29:34) Done\n"
     ]
    },
    {
     "data": {
      "text/html": [
       "<div>\n",
       "<style scoped>\n",
       "    .dataframe tbody tr th:only-of-type {\n",
       "        vertical-align: middle;\n",
       "    }\n",
       "\n",
       "    .dataframe tbody tr th {\n",
       "        vertical-align: top;\n",
       "    }\n",
       "\n",
       "    .dataframe thead th {\n",
       "        text-align: right;\n",
       "    }\n",
       "</style>\n",
       "<table border=\"1\" class=\"dataframe\">\n",
       "  <thead>\n",
       "    <tr style=\"text-align: right;\">\n",
       "      <th></th>\n",
       "      <th>corpus1</th>\n",
       "      <th>period1</th>\n",
       "      <th>run1</th>\n",
       "      <th>corpus2</th>\n",
       "      <th>period2</th>\n",
       "      <th>run2</th>\n",
       "      <th>word1</th>\n",
       "      <th>lnm</th>\n",
       "      <th>k</th>\n",
       "      <th>word2</th>\n",
       "      <th>mneighb_size</th>\n",
       "      <th>neighb1_size</th>\n",
       "      <th>neighb2_size</th>\n",
       "    </tr>\n",
       "  </thead>\n",
       "  <tbody>\n",
       "    <tr>\n",
       "      <th>0</th>\n",
       "      <td>bpo</td>\n",
       "      <td>1720-1725</td>\n",
       "      <td>1</td>\n",
       "      <td>bpo</td>\n",
       "      <td>1730-1735</td>\n",
       "      <td>1</td>\n",
       "      <td>statute</td>\n",
       "      <td>0.100421</td>\n",
       "      <td>25.0</td>\n",
       "      <td>statute</td>\n",
       "      <td>NaN</td>\n",
       "      <td>NaN</td>\n",
       "      <td>NaN</td>\n",
       "    </tr>\n",
       "    <tr>\n",
       "      <th>1</th>\n",
       "      <td>bpo</td>\n",
       "      <td>1720-1725</td>\n",
       "      <td>1</td>\n",
       "      <td>bpo</td>\n",
       "      <td>1730-1735</td>\n",
       "      <td>1</td>\n",
       "      <td>heron</td>\n",
       "      <td>0.189011</td>\n",
       "      <td>25.0</td>\n",
       "      <td>heron</td>\n",
       "      <td>NaN</td>\n",
       "      <td>NaN</td>\n",
       "      <td>NaN</td>\n",
       "    </tr>\n",
       "    <tr>\n",
       "      <th>2</th>\n",
       "      <td>bpo</td>\n",
       "      <td>1720-1725</td>\n",
       "      <td>1</td>\n",
       "      <td>bpo</td>\n",
       "      <td>1730-1735</td>\n",
       "      <td>1</td>\n",
       "      <td>inconvenience</td>\n",
       "      <td>0.125592</td>\n",
       "      <td>25.0</td>\n",
       "      <td>inconvenience</td>\n",
       "      <td>NaN</td>\n",
       "      <td>NaN</td>\n",
       "      <td>NaN</td>\n",
       "    </tr>\n",
       "    <tr>\n",
       "      <th>3</th>\n",
       "      <td>bpo</td>\n",
       "      <td>1720-1725</td>\n",
       "      <td>1</td>\n",
       "      <td>bpo</td>\n",
       "      <td>1730-1735</td>\n",
       "      <td>1</td>\n",
       "      <td>root</td>\n",
       "      <td>0.065087</td>\n",
       "      <td>25.0</td>\n",
       "      <td>root</td>\n",
       "      <td>NaN</td>\n",
       "      <td>NaN</td>\n",
       "      <td>NaN</td>\n",
       "    </tr>\n",
       "    <tr>\n",
       "      <th>4</th>\n",
       "      <td>bpo</td>\n",
       "      <td>1720-1725</td>\n",
       "      <td>1</td>\n",
       "      <td>bpo</td>\n",
       "      <td>1730-1735</td>\n",
       "      <td>1</td>\n",
       "      <td>application</td>\n",
       "      <td>0.072644</td>\n",
       "      <td>25.0</td>\n",
       "      <td>application</td>\n",
       "      <td>NaN</td>\n",
       "      <td>NaN</td>\n",
       "      <td>NaN</td>\n",
       "    </tr>\n",
       "    <tr>\n",
       "      <th>...</th>\n",
       "      <td>...</td>\n",
       "      <td>...</td>\n",
       "      <td>...</td>\n",
       "      <td>...</td>\n",
       "      <td>...</td>\n",
       "      <td>...</td>\n",
       "      <td>...</td>\n",
       "      <td>...</td>\n",
       "      <td>...</td>\n",
       "      <td>...</td>\n",
       "      <td>...</td>\n",
       "      <td>...</td>\n",
       "      <td>...</td>\n",
       "    </tr>\n",
       "    <tr>\n",
       "      <th>20410826</th>\n",
       "      <td>bpo</td>\n",
       "      <td>1955-1960</td>\n",
       "      <td>4</td>\n",
       "      <td>bpo</td>\n",
       "      <td>1950-1955</td>\n",
       "      <td>4</td>\n",
       "      <td>rug</td>\n",
       "      <td>0.061721</td>\n",
       "      <td>25.0</td>\n",
       "      <td>rug</td>\n",
       "      <td>NaN</td>\n",
       "      <td>NaN</td>\n",
       "      <td>NaN</td>\n",
       "    </tr>\n",
       "    <tr>\n",
       "      <th>20410827</th>\n",
       "      <td>bpo</td>\n",
       "      <td>1955-1960</td>\n",
       "      <td>4</td>\n",
       "      <td>bpo</td>\n",
       "      <td>1950-1955</td>\n",
       "      <td>4</td>\n",
       "      <td>stride</td>\n",
       "      <td>0.086377</td>\n",
       "      <td>25.0</td>\n",
       "      <td>stride</td>\n",
       "      <td>NaN</td>\n",
       "      <td>NaN</td>\n",
       "      <td>NaN</td>\n",
       "    </tr>\n",
       "    <tr>\n",
       "      <th>20410828</th>\n",
       "      <td>bpo</td>\n",
       "      <td>1955-1960</td>\n",
       "      <td>4</td>\n",
       "      <td>bpo</td>\n",
       "      <td>1950-1955</td>\n",
       "      <td>4</td>\n",
       "      <td>uncle</td>\n",
       "      <td>0.041325</td>\n",
       "      <td>25.0</td>\n",
       "      <td>uncle</td>\n",
       "      <td>NaN</td>\n",
       "      <td>NaN</td>\n",
       "      <td>NaN</td>\n",
       "    </tr>\n",
       "    <tr>\n",
       "      <th>20410829</th>\n",
       "      <td>bpo</td>\n",
       "      <td>1955-1960</td>\n",
       "      <td>4</td>\n",
       "      <td>bpo</td>\n",
       "      <td>1950-1955</td>\n",
       "      <td>4</td>\n",
       "      <td>variable</td>\n",
       "      <td>0.090544</td>\n",
       "      <td>25.0</td>\n",
       "      <td>variable</td>\n",
       "      <td>NaN</td>\n",
       "      <td>NaN</td>\n",
       "      <td>NaN</td>\n",
       "    </tr>\n",
       "    <tr>\n",
       "      <th>20410830</th>\n",
       "      <td>bpo</td>\n",
       "      <td>1955-1960</td>\n",
       "      <td>4</td>\n",
       "      <td>bpo</td>\n",
       "      <td>1950-1955</td>\n",
       "      <td>4</td>\n",
       "      <td>charger</td>\n",
       "      <td>0.106461</td>\n",
       "      <td>25.0</td>\n",
       "      <td>charger</td>\n",
       "      <td>NaN</td>\n",
       "      <td>NaN</td>\n",
       "      <td>NaN</td>\n",
       "    </tr>\n",
       "  </tbody>\n",
       "</table>\n",
       "<p>20410831 rows × 13 columns</p>\n",
       "</div>"
      ],
      "text/plain": [
       "         corpus1    period1  run1 corpus2    period2  run2          word1  \\\n",
       "0            bpo  1720-1725     1     bpo  1730-1735     1        statute   \n",
       "1            bpo  1720-1725     1     bpo  1730-1735     1          heron   \n",
       "2            bpo  1720-1725     1     bpo  1730-1735     1  inconvenience   \n",
       "3            bpo  1720-1725     1     bpo  1730-1735     1           root   \n",
       "4            bpo  1720-1725     1     bpo  1730-1735     1    application   \n",
       "...          ...        ...   ...     ...        ...   ...            ...   \n",
       "20410826     bpo  1955-1960     4     bpo  1950-1955     4            rug   \n",
       "20410827     bpo  1955-1960     4     bpo  1950-1955     4         stride   \n",
       "20410828     bpo  1955-1960     4     bpo  1950-1955     4          uncle   \n",
       "20410829     bpo  1955-1960     4     bpo  1950-1955     4       variable   \n",
       "20410830     bpo  1955-1960     4     bpo  1950-1955     4        charger   \n",
       "\n",
       "               lnm     k          word2  mneighb_size  neighb1_size  \\\n",
       "0         0.100421  25.0        statute           NaN           NaN   \n",
       "1         0.189011  25.0          heron           NaN           NaN   \n",
       "2         0.125592  25.0  inconvenience           NaN           NaN   \n",
       "3         0.065087  25.0           root           NaN           NaN   \n",
       "4         0.072644  25.0    application           NaN           NaN   \n",
       "...            ...   ...            ...           ...           ...   \n",
       "20410826  0.061721  25.0            rug           NaN           NaN   \n",
       "20410827  0.086377  25.0         stride           NaN           NaN   \n",
       "20410828  0.041325  25.0          uncle           NaN           NaN   \n",
       "20410829  0.090544  25.0       variable           NaN           NaN   \n",
       "20410830  0.106461  25.0        charger           NaN           NaN   \n",
       "\n",
       "          neighb2_size  \n",
       "0                  NaN  \n",
       "1                  NaN  \n",
       "2                  NaN  \n",
       "3                  NaN  \n",
       "4                  NaN  \n",
       "...                ...  \n",
       "20410826           NaN  \n",
       "20410827           NaN  \n",
       "20410828           NaN  \n",
       "20410829           NaN  \n",
       "20410830           NaN  \n",
       "\n",
       "[20410831 rows x 13 columns]"
      ]
     },
     "execution_count": 15,
     "metadata": {},
     "output_type": "execute_result"
    }
   ],
   "source": [
    "print('Reformatting old data')\n",
    "ifn='/home/ryan/github/koselleck/data1/data.all_local_dists.v4.pkl'\n",
    "DF=read_df(ifn).query(f'k=={K}').reset_index()\n",
    "rund=dict((f'run_{i:02}',i) for i in range(1,11))\n",
    "DF.run1=DF.run1.replace(rund)\n",
    "DF.run2=DF.run2.replace(rund)\n",
    "df_done=DF\n",
    "df_done['word2']=df_done.word\n",
    "df_done=df_done.rename({'word':'word1','metaneighb_size':'mneighb_size', 'dist_local':'lnm'},axis=1)\n",
    "df_done['mneighb_size']=np.nan\n",
    "df_done['neighb1_size']=np.nan\n",
    "df_done['neighb2_size']=np.nan\n",
    "print('Done')\n",
    "df_done"
   ]
  },
  {
   "cell_type": "code",
   "execution_count": 16,
   "metadata": {},
   "outputs": [],
   "source": [
    "# print('Grouping')\n",
    "gcols=['word1','word2','period1','period2']\n",
    "# df_done_g = df_done.groupby(gcols)\n",
    "# len(df_done_g)\n",
    "# print('Done')\n",
    "# df_done_g.size()"
   ]
  },
  {
   "cell_type": "code",
   "execution_count": 17,
   "metadata": {},
   "outputs": [],
   "source": [
    "icols=gcols+['run1','run2']\n",
    "valcols=['lnm','mneighb_size','neighb1_size','neighb2_size']\n",
    "\n",
    "# with get_veclib('lnm',autocommit=False) as vl:\n",
    "#     for i,((word1,word2,period1,period2),grp) in enumerate(tqdm(df_done_g,desc=\"Adding to lnm db\")):\n",
    "#         qstr=f'{word1}_{period1},{word2}_{period2},k={K}'\n",
    "#         dfgq=grp.set_index(icols)[valcols]\n",
    "#         vl[qstr]=dfgq\n",
    "#         if i and not i%100:\n",
    "#             vl.commit()\n",
    "#     vl.commit()"
   ]
  },
  {
   "cell_type": "code",
   "execution_count": 22,
   "metadata": {},
   "outputs": [],
   "source": [
    "icols=gcols+['run1','run2']\n",
    "valcols=['lnm','mneighb_size','neighb1_size','neighb2_size']\n",
    "\n",
    "def do_add_db(dfgrp):\n",
    "    word1,word2=dfgrp.iloc[0].word1, dfgrp.iloc[0].word2\n",
    "    wqstr=f'{word1},{word2},ybin={YEARBIN},ymin={YMIN},ymax={YMAX},k={K}'\n",
    "    with get_veclib('lnm',autocommit=False) as vl:\n",
    "        odf=dfgrp.set_index(icols)[valcols]\n",
    "#         display(odf)\n",
    "#         stop\n",
    "        vl[wqstr]=odf\n",
    "        vl.commit()\n",
    "        \n",
    "#         for (word1,word2,period1,period2),grp in dfgrp.groupby(gcols):\n",
    "#             qstr=f'{word1}_{period1},{word2}_{period2},k={K}'\n",
    "#             dfgq=grp.set_index(icols)[valcols]\n",
    "#             vl[qstr]=dfgq\n",
    "#         vl.commit()\n",
    "    return pd.DataFrame([{'success':True}])\n"
   ]
  },
  {
   "cell_type": "code",
   "execution_count": null,
   "metadata": {},
   "outputs": [
    {
     "name": "stderr",
     "output_type": "stream",
     "text": [
      "Mapping do_add_db [x1]:   0%|          | 4/6010 [00:09<3:51:22,  2.31s/it]"
     ]
    }
   ],
   "source": [
    "pmap_groups(\n",
    "    do_add_db,\n",
    "    df_done.groupby(['word1','word2']),\n",
    "    num_proc=1\n",
    ")"
   ]
  },
  {
   "cell_type": "code",
   "execution_count": null,
   "metadata": {},
   "outputs": [],
   "source": []
  },
  {
   "cell_type": "code",
   "execution_count": 20,
   "metadata": {},
   "outputs": [],
   "source": [
    "\n",
    "# def import_into_shift_db(df_done=None,\n",
    "#         ifn=FN_ALL_LOCALDISTS_ORIGDATA,\n",
    "#         icols=['word1','word2','period1','period2','run1','run2'],\n",
    "#         k=25\n",
    "#         ):\n",
    "#     df_done=read_df(ifn).reset_index() if df_done is None else df_done\n",
    "#     df_done.run1=pmap(_fmtrun, df_done.run1)\n",
    "#     df_done.run2=pmap(_fmtrun, df_done.run2)\n",
    "#     df_done['word2']=df_done.word\n",
    "#     df_done=df_done.rename({'word':'word1','metaneighb_size':'mneighb_size', 'dist_local':'lnm'},axis=1)\n",
    "#     return df_done\n",
    "#     df_done=df_done.groupby(icols).mean()[\n",
    "#         ['lnm','mneighb_size','neighb1_size','neighb2_size']\n",
    "#     ]\n",
    "#     print(\"Original data reformatted:\")\n",
    "#     return df_done\n",
    "#     display(df_done)\n",
    "    \n",
    "#     gcols=['word1','word2','period1','period2']\n",
    "#     with get_veclib('lnm',autocommit=False) as vl:\n",
    "#         for i,((word1,word2,period1,period2),grp) in enumerate(tqdm(df_done.groupby(gcols),desc=\"Adding to lnm db\")):\n",
    "#             qstr=f'{word1}_{period1},{word2}_{period2},k={k}'\n",
    "#             vl[qstr]=grp\n",
    "#             if i and not i%100:\n",
    "#                 vl.commit()\n",
    "#         vl.commit()\n",
    "    "
   ]
  },
  {
   "cell_type": "code",
   "execution_count": 21,
   "metadata": {},
   "outputs": [
    {
     "ename": "NameError",
     "evalue": "name 'import_into_shift_db' is not defined",
     "output_type": "error",
     "traceback": [
      "\u001b[0;31m---------------------------------------------------------------------------\u001b[0m",
      "\u001b[0;31mNameError\u001b[0m                                 Traceback (most recent call last)",
      "\u001b[0;32m<ipython-input-21-d68b283877a2>\u001b[0m in \u001b[0;36m<module>\u001b[0;34m\u001b[0m\n\u001b[0;32m----> 1\u001b[0;31m \u001b[0mimport_into_shift_db\u001b[0m\u001b[0;34m(\u001b[0m\u001b[0mDF\u001b[0m\u001b[0;34m)\u001b[0m\u001b[0;34m\u001b[0m\u001b[0;34m\u001b[0m\u001b[0m\n\u001b[0m",
      "\u001b[0;31mNameError\u001b[0m: name 'import_into_shift_db' is not defined"
     ]
    }
   ],
   "source": [
    "import_into_shift_db(DF)"
   ]
  },
  {
   "cell_type": "code",
   "execution_count": null,
   "metadata": {},
   "outputs": [],
   "source": []
  },
  {
   "cell_type": "code",
   "execution_count": null,
   "metadata": {},
   "outputs": [],
   "source": [
    "to_lnm('administration_1720-1725','administration_1725-1730')"
   ]
  },
  {
   "cell_type": "code",
   "execution_count": null,
   "metadata": {},
   "outputs": [],
   "source": [
    "lnm('value')"
   ]
  },
  {
   "cell_type": "code",
   "execution_count": null,
   "metadata": {},
   "outputs": [],
   "source": []
  }
 ],
 "metadata": {
  "kernelspec": {
   "display_name": "Python 3",
   "language": "python",
   "name": "python3"
  },
  "language_info": {
   "codemirror_mode": {
    "name": "ipython",
    "version": 3
   },
   "file_extension": ".py",
   "mimetype": "text/x-python",
   "name": "python",
   "nbconvert_exporter": "python",
   "pygments_lexer": "ipython3",
   "version": "3.7.7"
  },
  "widgets": {
   "application/vnd.jupyter.widget-state+json": {
    "state": {},
    "version_major": 2,
    "version_minor": 0
   }
  }
 },
 "nbformat": 4,
 "nbformat_minor": 4
}
