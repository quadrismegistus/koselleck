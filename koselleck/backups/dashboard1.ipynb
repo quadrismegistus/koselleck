{
 "cells": [
  {
   "cell_type": "markdown",
   "metadata": {},
   "source": [
    "# \"Computing Koselleck\" Dashboard\n",
    "\n",
    "* Please be patient as this page loads. It may take up to a few minutes. Once it loads you'll see a few graphs and tables about the word \"culture\".\n",
    "* You can type in another word and hit \"Analyze\" to see another word.\n",
    "* You can also **scroll to the bottom of the page to see a list of the most changing words**. Click on any of those words to see its data.\n",
    "* Feel free to edit the annotation data on the top right panel. Words with annotation data and marked as valid have a <span style=\"color:lightblue\">blue</span> instead of gray button at the bottom of the page; words marked as invalid (due to OCR errors, etc) have a <span style=\"color:lightcoral\">red</span> background."
   ]
  },
  {
   "cell_type": "code",
   "execution_count": 3,
   "metadata": {},
   "outputs": [
    {
     "name": "stderr",
     "output_type": "stream",
     "text": [
      "[Koselleck] (08:06:40) Bitte warten Sie einen Augenblick... \n"
     ]
    }
   ],
   "source": [
    "from ipynb.fs.full.koselleck import *\n",
    "print('Bitte warten Sie einen Augenblick...',timer=False)"
   ]
  },
  {
   "cell_type": "code",
   "execution_count": 4,
   "metadata": {},
   "outputs": [],
   "source": [
    "# markdwn?"
   ]
  },
  {
   "cell_type": "code",
   "execution_count": 3,
   "metadata": {},
   "outputs": [],
   "source": [
    "WORD='culture'"
   ]
  },
  {
   "cell_type": "code",
   "execution_count": 4,
   "metadata": {},
   "outputs": [],
   "source": [
    "# list of top words\n",
    "dfanno=read_sheet()\n",
    "dfanno.rank_word=dfanno.rank_word.apply(int)\n",
    "dfanno['rank']=dfanno['rank'].apply(int)\n",
    "dfanno=dfanno.sort_values('rank_word')\n",
    "# dfanno"
   ]
  },
  {
   "cell_type": "code",
   "execution_count": 5,
   "metadata": {},
   "outputs": [],
   "source": [
    "all_words_by_nov = list(get_all_novelty_scores().groupby('word').mean().reset_index().sort_values(\n",
    "    'foote_novelty_z',ascending=False).drop_duplicates('word').word)\n",
    "all_words_by_lnm_rank = [w for w in dfanno.index]# if w in set(all_words_by_nov) and dfanno.loc[w]['rank']>0]\n",
    "okwords=set(dfanno.index)|set(all_words_by_lnm_rank)\n",
    "all_words_by_nov = [w for w in all_words_by_nov if w in okwords and dfanno.loc[w]['rank']>0]\n",
    "# dfanno"
   ]
  },
  {
   "cell_type": "code",
   "execution_count": 6,
   "metadata": {},
   "outputs": [],
   "source": [
    "# 'effective' in all_words_by_lnm_rank"
   ]
  },
  {
   "cell_type": "code",
   "execution_count": 7,
   "metadata": {},
   "outputs": [],
   "source": [
    "# 'effective' in all_words_by_nov"
   ]
  },
  {
   "cell_type": "code",
   "execution_count": 2,
   "metadata": {},
   "outputs": [
    {
     "ename": "NameError",
     "evalue": "name 'get_signif_novelty_words' is not defined",
     "output_type": "error",
     "traceback": [
      "\u001b[0;31m---------------------------------------------------------------------------\u001b[0m",
      "\u001b[0;31mNameError\u001b[0m                                 Traceback (most recent call last)",
      "\u001b[0;32m<ipython-input-2-ffdbf1605c05>\u001b[0m in \u001b[0;36m<module>\u001b[0;34m\u001b[0m\n\u001b[0;32m----> 1\u001b[0;31m \u001b[0msignif_words\u001b[0m\u001b[0;34m=\u001b[0m\u001b[0mset\u001b[0m\u001b[0;34m(\u001b[0m\u001b[0mget_signif_novelty_words\u001b[0m\u001b[0;34m(\u001b[0m\u001b[0mp_peak\u001b[0m\u001b[0;34m=\u001b[0m\u001b[0;36m0.05\u001b[0m\u001b[0;34m)\u001b[0m\u001b[0;34m)\u001b[0m\u001b[0;34m\u001b[0m\u001b[0;34m\u001b[0m\u001b[0m\n\u001b[0m\u001b[1;32m      2\u001b[0m \u001b[0mkeywords\u001b[0m\u001b[0;34m=\u001b[0m\u001b[0mget_keywords\u001b[0m\u001b[0;34m(\u001b[0m\u001b[0;34m)\u001b[0m\u001b[0;34m\u001b[0m\u001b[0;34m\u001b[0m\u001b[0m\n\u001b[1;32m      3\u001b[0m \u001b[0mabswords\u001b[0m\u001b[0;34m=\u001b[0m\u001b[0mget_words_ever_abs\u001b[0m\u001b[0;34m(\u001b[0m\u001b[0;34m)\u001b[0m\u001b[0;34m\u001b[0m\u001b[0;34m\u001b[0m\u001b[0m\n",
      "\u001b[0;31mNameError\u001b[0m: name 'get_signif_novelty_words' is not defined"
     ]
    }
   ],
   "source": [
    "signif_words=set(get_signif_novelty_words(p_peak=0.05))\n",
    "keywords=get_keywords()\n",
    "abswords=get_words_ever_abs()"
   ]
  },
  {
   "cell_type": "code",
   "execution_count": null,
   "metadata": {},
   "outputs": [],
   "source": []
  },
  {
   "cell_type": "code",
   "execution_count": 1,
   "metadata": {},
   "outputs": [],
   "source": [
    "# interact_word=interact.options(manual=True, manual_name=\"Show data for word\")\n",
    "\n",
    "def show(word='slavery',num_proc=2):\n",
    "    print('Generating plots',timer=False)\n",
    "    fig_nbrs=plot_nbrs(word,width=8,height=5,ybin=20,year_min=1720,year_max=1900,max_rank1=10,max_rank=10,min_periods=1)\n",
    "    print('Plotting distance matrix')\n",
    "    fig_distmat=plot_historical_semantic_distance_matrix(word)\n",
    "    print('Plotting novelty scores')\n",
    "    fig_nov=plot_novelty_words(word,xlim0=1720,xlim1=1900)\n",
    "    print('Saving temporary files')\n",
    "    with tempfile.TemporaryDirectory() as tmpdirname:\n",
    "        fig1fnfn=os.path.join(tmpdirname,'fig1.png')\n",
    "        fig2fnfn=os.path.join(tmpdirname,'fig2.png')\n",
    "        fig3fnfn=os.path.join(tmpdirname,'fig3.png')\n",
    "        fig_nbrs.save(fig1fnfn)\n",
    "        fig_distmat.save(fig2fnfn)\n",
    "        fig_nov.save(fig3fnfn)\n",
    "        \n",
    "#         print('Creating layout')\n",
    "        with open(fig1fnfn,'rb') as fig1b, open(fig2fnfn,'rb') as fig2b, open(fig3fnfn,'rb') as fig3b:\n",
    "            img1=widgets.Image(value=fig1b.read(),format='png')\n",
    "            img2=widgets.Image(value=fig2b.read(),format='png')\n",
    "            img3=widgets.Image(value=fig3b.read(),format='png')\n",
    "#             vb=VBox([img1,img3,img2])\n",
    "            vl=[img1,img3,img2]\n",
    "            print('Returning')\n",
    "            return vl"
   ]
  },
  {
   "cell_type": "code",
   "execution_count": 10,
   "metadata": {},
   "outputs": [],
   "source": [
    "\n",
    "\n",
    "\n",
    "def do_save(b=None):\n",
    "    global dfanno\n",
    "    print('Reloading metadata before writing',timer=False)\n",
    "    dfanno1=dfanno=read_sheet()\n",
    "    \n",
    "    with output:\n",
    "#         dfanno1=read_sheet()\n",
    "        w=widg_word.value\n",
    "        dfanno1.loc[w,'Changes']=widg_changes.value\n",
    "        dfanno1.loc[w,'From']=widg_from.value\n",
    "        dfanno1.loc[w,'To']=widg_to.value\n",
    "        dfanno1.loc[w,'Notes']=widg_notes.value\n",
    "        dfanno1.loc[w,'is_valid']=widg_valid.value\n",
    "        for b in allbuttons:\n",
    "            if b.description.split()[-1]==w:\n",
    "                b.style.button_color='lightcoral' if widg_valid.value=='n' else 'lightblue'\n",
    "            \n",
    "#         display(dfanno1.loc[w])\n",
    "#         display(dfanno1)\n",
    "        dfanno1.rank_word=dfanno1.rank_word.apply(int)\n",
    "        dfanno1=dfanno1.sort_values('rank_word')\n",
    "        print('Saving online')\n",
    "        write_sheet(dfanno1)\n",
    "        print('Finished')\n",
    "    \n",
    "    \n",
    "    \n",
    "\n",
    "def is_anno(w):\n",
    "    try:\n",
    "        row=dfanno.loc[w]\n",
    "    except KeyError:\n",
    "        return False\n",
    "    anno=False\n",
    "    for k,v in row.items():\n",
    "        if k[0] == k[0].upper() or k=='is_valid':\n",
    "            if v.strip():\n",
    "                anno=True\n",
    "                break\n",
    "    return anno\n",
    "\n",
    "def is_valid(w):\n",
    "    try:\n",
    "        row=dfanno.loc[w]\n",
    "    except KeyError:\n",
    "        return False\n",
    "    # assumes yes\n",
    "    return row.is_valid!='n'\n",
    "\n",
    "def get_color(w,color=None):\n",
    "    if is_anno(w): color='lightblue'\n",
    "    if not is_valid(w): color='lightcoral'\n",
    "    return color\n",
    "\n",
    "\n",
    "def do_anno_save(w,key,value):\n",
    "    dfanno.loc[w,key]=value\n",
    "    with output:\n",
    "        print(f'Saved: {dfanno.loc[w,key]}')\n"
   ]
  },
  {
   "cell_type": "code",
   "execution_count": 29,
   "metadata": {},
   "outputs": [],
   "source": [
    "# @output.capture(clear_output=True)\n",
    "def submit_word(w):\n",
    "    with output:\n",
    "        widg_word.value=w\n",
    "#         word_title.value=markdown.markdown('## '+w)\n",
    "        output.clear_output()\n",
    "        printm('----')\n",
    "        printm('## '+w)\n",
    "        try:\n",
    "            widg_changes.value=dfanno.loc[w,'Changes']\n",
    "            widg_from.value=dfanno.loc[w,'From']\n",
    "            widg_to.value=dfanno.loc[w,'To']\n",
    "            widg_notes.value=dfanno.loc[w,'Notes']\n",
    "            widg_valid.value=dfanno.loc[w,'is_valid']\n",
    "        except KeyError:\n",
    "            widg_changes.value=''\n",
    "            widg_from.value=''\n",
    "            widg_to.value=''\n",
    "            widg_notes.value=''\n",
    "            widg_valid.value=''\n",
    "\n",
    "        try:\n",
    "            dfpsgs=show_sents_word(w,num_proc=4,ybin=50,n=5)\n",
    "            for col in dfpsgs.columns: dfpsgs[col]=dfpsgs[col].apply(highlight_psg)\n",
    "            dfpsgs_md=dfpsgs.reset_index().drop('index',1).to_markdown()\n",
    "            img_nbr,img_nov,img_dist=show(w)\n",
    "            wordinfodf=info_word_comparisons(w)\n",
    "            \n",
    "            stzdf=get_nbr_simple_sattelzeit(w).reset_index().drop('word',1)\n",
    "            rank,perc=np.nan,np.nan\n",
    "            if len(stzdf):\n",
    "                stzrank,stzperc=stzdf.iloc[0]['Change Rank'],stzdf.iloc[0]['Change Percentile']\n",
    "                stzdf=stzdf.drop(['Change Rank', 'Change Percentile'],1)\n",
    "            stzdf_md=stzdf.to_markdown()\n",
    "            \n",
    "            tilts_stz_md=format_tilts_sattelzeit_html(w)\n",
    "            \n",
    "#         except AssertionError as e:\n",
    "        except Exception as e:\n",
    "            print(f'ERROR: Somehow there is insufficient data for this word. Please choose another.\\n\\n{e}')\n",
    "            if widg_valid.value!='n':\n",
    "                widg_valid.value='n'\n",
    "                do_save()\n",
    "            for b in allbuttons:\n",
    "                if b.description.split()[-1]==w:\n",
    "                    b.style.button_color='lightcoral'\n",
    "            display(VBox([\n",
    "                markdwn('## '+w),\n",
    "                markdwn('<span style=\"color:lightcoral\">ERROR: Somehow there is insufficient data for this word. Please choose another.</span>'),\n",
    "                HBox([input_box,annobox])\n",
    "            ]))\n",
    "            return\n",
    "    #         display(show(w),output)\n",
    "    #         display(info_word_comparisons(w),output2)\n",
    "    #         display(Markdown(mpsgs),output2)\n",
    "\n",
    "        hb1=HBox([\n",
    "            VBox([\n",
    "#                 markdwn('### Input'),\n",
    "#                 input_box,\n",
    "                markdwn('### Top 10 closest words over time'),\n",
    "                img_nbr,\n",
    "                markdwn('### Historical semantic distance matrix'),\n",
    "                img_dist,\n",
    "                markdwn('### Foote Novelty plot'),\n",
    "                img_nov\n",
    "            ],layout=Layout(width='50%')),\n",
    "            VBox([\n",
    "                markdwn('### Annotations'),\n",
    "                annobox,\n",
    "                markdwn(f'### Meta neighborhood changes\\n* Change Rank: {int(stzrank):,}\\n* Change Percentile: {int(round(stzperc,0))}%'),\n",
    "                markdwn(stzdf_md),\n",
    "                markdwn('### Top vectors of change'),\n",
    "                markdwn(tilts_stz_md),\n",
    "            ],layout=Layout(width='50%'))\n",
    "        ])\n",
    "        display(hb1)    \n",
    "    \n",
    "        \n",
    "        printm('### Passages')\n",
    "        printm(dfpsgs_md)\n",
    "        \n",
    "#         for btn in allbuttons:\n",
    "#             wx=btn.description.split()[-1]\n",
    "# #             print(wx,get_color(wx))\n",
    "#             btn.style.button_color=get_color(wx)\n",
    "        \n",
    "        "
   ]
  },
  {
   "cell_type": "code",
   "execution_count": 30,
   "metadata": {},
   "outputs": [],
   "source": [
    "def make_button(i,w):\n",
    "    return widgets.Button(\n",
    "        description=f'{i+1}. {w}',\n",
    "        layout=Layout(width='125px', height='25px'),\n",
    "        style=ButtonStyle(button_color=get_color(w))\n",
    "#     ) for i,w in enumerate(dfanno.index[:200])\n",
    "    )\n",
    "def make_buttons(l):\n",
    "    return [make_button(i,w) for i,(_,w) in enumerate(l)]\n"
   ]
  },
  {
   "cell_type": "code",
   "execution_count": 31,
   "metadata": {},
   "outputs": [
    {
     "data": {
      "application/vnd.jupyter.widget-view+json": {
       "model_id": "372d2d56dbff4d32a35bb51dcbb7f65a",
       "version_major": 2,
       "version_minor": 0
      },
      "text/plain": [
       "HBox(children=(Text(value='culture', layout=Layout(width='auto')), Button(description='Analyze', layout=Layout…"
      ]
     },
     "metadata": {},
     "output_type": "display_data"
    },
    {
     "data": {
      "application/vnd.jupyter.widget-view+json": {
       "model_id": "7c3d04b5bfb54811927bdcca225b3beb",
       "version_major": 2,
       "version_minor": 0
      },
      "text/plain": [
       "Output()"
      ]
     },
     "metadata": {},
     "output_type": "display_data"
    }
   ],
   "source": [
    "# define widgets\n",
    "widg_word=widgets.Text(value='culture',layout=Layout(width='auto'))\n",
    "word=widg_word.value\n",
    "widg_word_submit = widgets.Button(description='Analyze',layout=Layout(width='125px'))\n",
    "output = widgets.Output()\n",
    "widg_changes = widgets.Text(value='',description='Changes')\n",
    "widg_from = widgets.Text(value='',description='From')\n",
    "widg_to = widgets.Text(value='',description='To')\n",
    "widg_notes = widgets.Text(value='',description='Notes')\n",
    "widg_valid = widgets.Text(value='',description='is_valid')\n",
    "savebutton = Button(description='Save annotations')\n",
    "# set layout\n",
    "input_box=HBox([widg_word,widg_word_submit])\n",
    "display(input_box)\n",
    "display(output)"
   ]
  },
  {
   "cell_type": "code",
   "execution_count": 32,
   "metadata": {},
   "outputs": [],
   "source": [
    "\n",
    "# define behaviors\n",
    "def on_widg_word_submit(b): submit_word(b.value)\n",
    "def on_widg_word_button_submit(b): submit_word(widg_word.value)\n",
    "def on_widg_word_button_submit_desc(b): submit_word(b.description.split()[-1])\n",
    "# set behaviors\n",
    "widg_word.on_submit(on_widg_word_submit)\n",
    "widg_word_submit.on_click(on_widg_word_button_submit)\n",
    "savebutton.on_click(do_save)\n"
   ]
  },
  {
   "cell_type": "code",
   "execution_count": 33,
   "metadata": {},
   "outputs": [],
   "source": [
    "\n",
    "lim=100\n",
    "\n",
    "# remove invalids?\n",
    "# words_invalid = set(dfanno.query('is_valid==\"n\"').index)\n",
    "all_words_by_lnm_rank=[x for x in all_words_by_lnm_rank if is_valid(x)]\n",
    "all_words_by_nov=[x for x in all_words_by_nov if is_valid(x)]\n",
    "\n",
    "buttons_nov=make_buttons([(i,w) for i,w in enumerate(all_words_by_nov) if w in signif_words][:lim])\n",
    "buttons=make_buttons([(i,w) for i,w in enumerate(all_words_by_lnm_rank)][:lim])\n",
    "buttons_kw=make_buttons([(i,w) for i,w in enumerate(all_words_by_lnm_rank) if w in keywords][:lim])\n",
    "buttons_abs=make_buttons([(i,w) for i,w in enumerate(all_words_by_lnm_rank) if w in abswords][:lim])\n",
    "buttons_nov_and_ch=make_buttons([(i,w) for i,w in enumerate(all_words_by_lnm_rank) if w in signif_words][:lim])\n",
    "\n",
    "\n",
    "## dirs of change\n",
    "\n",
    "\n",
    "\n",
    "\n",
    "\n",
    "allbuttons = buttons + buttons_nov + buttons_kw + buttons_abs + buttons_nov_and_ch\n",
    "buttond={}\n",
    "\n",
    "lim_dir=50\n",
    "\n",
    "okvecs={'+Abs','+Conc','+Ambig','-Ambig','+Collective','+Indiv','+Human','+Object','+Judg','+Perc','+Pos','+Neg','+Polit','+Acad','+Qual','+Quant','+Sing','+Plural','+Time','+Space','+Woman','+Man'}\n",
    "for k,l in tqdm(get_top_changes_stz().items(),desc='Building widgets',position=0,disable=True):\n",
    "    if not k in okvecs: continue\n",
    "    l=[x for x in l if is_valid(x)][:lim_dir]\n",
    "    buttond[k]=make_buttons(list(enumerate(l)))\n",
    "    allbuttons+=buttond[k]\n",
    "#     break\n",
    "\n",
    "for b in allbuttons:\n",
    "    b.on_click(on_widg_word_button_submit_desc)\n"
   ]
  },
  {
   "cell_type": "code",
   "execution_count": 34,
   "metadata": {},
   "outputs": [],
   "source": [
    "annobox=VBox([widg_changes,widg_from,widg_to,widg_notes,widg_valid,savebutton])\n",
    "\n",
    "# hb_top=HBox([\n",
    "#     VBox([\n",
    "#         markdwn('#### Input'),\n",
    "#         input_box\n",
    "#     ]),\n",
    "    \n",
    "# ],layout=Layout(width='100%'))\n",
    "\n",
    "# vbanno=VBox([\n",
    "#         markdwn('#### Annotations'),\n",
    "#         annobox\n",
    "#     ])\n",
    "# word_title=markdwn('## '+WORD)\n",
    "# # display(word_title)\n",
    "# # display(hb_top)"
   ]
  },
  {
   "cell_type": "code",
   "execution_count": 35,
   "metadata": {},
   "outputs": [],
   "source": [
    "\n",
    "#         display(wboxes,output)\n",
    "i=1\n",
    "i2=1\n",
    "i3=5\n",
    "dirchangebox_l = []\n",
    "for k,l in get_top_changes_stz().items():\n",
    "    if not k in buttond: continue\n",
    "    dirchangebox_l.append(\n",
    "        VBox(\n",
    "            [markdwn(f'#### Top {lim_dir} most {k} words')] + \\\n",
    "            [HBox(buttond[k][n:n+i]) for n in range(0,len(buttond[k])+i+1,i)],\n",
    "            layout=Layout(border='1px dotted gray',width='125px')\n",
    "        ),\n",
    "    )\n",
    "dirchangebox=VBox([markdwn('### Directions of change')] + [\n",
    "    HBox(dirchangebox_l[n:n+i3])\n",
    "    for n in range(0,len(dirchangebox_l)+i3+1,i3)\n",
    "])\n",
    "# dirchangebox\n"
   ]
  },
  {
   "cell_type": "code",
   "execution_count": null,
   "metadata": {},
   "outputs": [],
   "source": []
  },
  {
   "cell_type": "code",
   "execution_count": 36,
   "metadata": {},
   "outputs": [],
   "source": [
    "i=1\n",
    "wid='125px'\n",
    "magnchangebox=HBox([\n",
    "    VBox(\n",
    "        [markdwn(f'#### Top {lim} most<br/>changing among novel words (p<0.05)')] + \\\n",
    "        [HBox(buttons_nov_and_ch[n:n+i]) for n in range(0,len(buttons_nov_and_ch)+i+1,i)],\n",
    "        layout=Layout(border='1px dotted gray',width=wid)\n",
    "    ),\n",
    "    VBox(\n",
    "        [markdwn(f'#### Top {lim} most changing words')] + \\\n",
    "        [HBox(buttons[n:n+i]) for n in range(0,len(buttons)+i+1,i)],\n",
    "        layout=Layout(border='1px dotted gray',width=wid)\n",
    "    ),\n",
    "    VBox(\n",
    "        [markdwn(f'#### Top {lim} most \"novel\" words (p<0.05)')] + \\\n",
    "        [HBox(buttons_nov[n:n+i]) for n in range(0,len(buttons_nov)+i+1,i)],\n",
    "        layout=Layout(border='1px dotted gray',width=wid)\n",
    "    ),\n",
    "    VBox(\n",
    "        [markdwn(f'#### Top {lim} most changing keywords')] + \\\n",
    "        [HBox(buttons_kw[n:n+i2]) for n in range(0,len(buttons_kw)+i2+1,i2)],\n",
    "        layout=Layout(border='1px dotted gray',width=wid)\n",
    "    ),\n",
    "    VBox(\n",
    "        [markdwn(f'#### Top {lim} most changing abstractions')] + \\\n",
    "        [HBox(buttons_abs[n:n+i2]) for n in range(0,len(buttons_abs)+i2+1,i2)],\n",
    "        layout=Layout(border='1px dotted gray',width=wid)\n",
    "    )\n",
    "])\n",
    "magnchangebox=VBox([markdwn('### Magnitude of change'), magnchangebox])\n",
    "# magnchangebox"
   ]
  },
  {
   "cell_type": "code",
   "execution_count": 37,
   "metadata": {},
   "outputs": [],
   "source": [
    "\n",
    "\n",
    "\n",
    "hbox_buttons_words=HBox([\n",
    "    magnchangebox,\n",
    "    dirchangebox,\n",
    "])\n",
    "\n",
    "# word_buttons"
   ]
  },
  {
   "cell_type": "code",
   "execution_count": 38,
   "metadata": {},
   "outputs": [
    {
     "data": {
      "application/vnd.jupyter.widget-view+json": {
       "model_id": "e01b66b7c3b146fa9108a70b7c55f4b2",
       "version_major": 2,
       "version_minor": 0
      },
      "text/plain": [
       "HBox(children=(VBox(children=(HTML(value='<h3>Magnitude of change</h3>'), HBox(children=(VBox(children=(HTML(v…"
      ]
     },
     "metadata": {},
     "output_type": "display_data"
    }
   ],
   "source": [
    "\n",
    "display(hbox_buttons_words)"
   ]
  },
  {
   "cell_type": "code",
   "execution_count": 28,
   "metadata": {},
   "outputs": [],
   "source": [
    "submit_word('culture')"
   ]
  },
  {
   "cell_type": "code",
   "execution_count": null,
   "metadata": {},
   "outputs": [],
   "source": []
  }
 ],
 "metadata": {
  "kernelspec": {
   "display_name": "Python 3",
   "language": "python",
   "name": "python3"
  },
  "language_info": {
   "codemirror_mode": {
    "name": "ipython",
    "version": 3
   },
   "file_extension": ".py",
   "mimetype": "text/x-python",
   "name": "python",
   "nbconvert_exporter": "python",
   "pygments_lexer": "ipython3",
   "version": "3.7.7"
  },
  "toc": {
   "base_numbering": 1,
   "nav_menu": {},
   "number_sections": false,
   "sideBar": false,
   "skip_h1_title": false,
   "title_cell": "Table of Contents",
   "title_sidebar": "Contents",
   "toc_cell": false,
   "toc_position": {},
   "toc_section_display": false,
   "toc_window_display": false
  },
  "widgets": {
   "application/vnd.jupyter.widget-state+json": {
    "state": {},
    "version_major": 2,
    "version_minor": 0
   }
  }
 },
 "nbformat": 4,
 "nbformat_minor": 4
}
