{
 "cells": [
  {
   "cell_type": "markdown",
   "metadata": {},
   "source": [
    "# Distances"
   ]
  },
  {
   "cell_type": "code",
   "execution_count": 1,
   "metadata": {},
   "outputs": [
    {
     "name": "stderr",
     "output_type": "stream",
     "text": [
      "[Koselleck] (19:34:16) Alles bereit (+0.0s)\n"
     ]
    }
   ],
   "source": [
    "from ipynb.fs.full.koselleck import *"
   ]
  },
  {
   "cell_type": "code",
   "execution_count": 2,
   "metadata": {},
   "outputs": [],
   "source": [
    "FORCE=False\n",
    "GBY_LOCAL_O=['corpus1', 'corpus2','period1', 'period2', 'word1', 'word2','qstr']"
   ]
  },
  {
   "cell_type": "markdown",
   "metadata": {},
   "source": [
    "## Generating distances en masse"
   ]
  },
  {
   "cell_type": "code",
   "execution_count": 3,
   "metadata": {},
   "outputs": [],
   "source": [
    "def _distvecs(objd): return distvecs(**objd)\n",
    "\n",
    "def distvecs(period=None,run=None,prefix='dvecs',max_num=10000,num_runs=10,\n",
    "             num_proc=1,force=False,progress=True,cache_only=False,cache=True):\n",
    "    \n",
    "    argd=dict(\n",
    "        period=period,run=run,prefix=prefix,\n",
    "        max_num=max_num,num_runs=num_runs,\n",
    "        num_proc=num_proc,force=force,progress=progress,\n",
    "        cache_only=cache_only,cache=cache\n",
    "    )\n",
    "    odf=None\n",
    "    \n",
    "    if period is None:\n",
    "        # load cached word?\n",
    "        objs=[{**argd, **{'period':prd, 'progress':True, 'num_proc':1,'cache_only':True}} for prd in get_default_periods()]\n",
    "        odf=pd.concat(pmap(_distvecs, objs, num_proc=num_proc, desc='Measuring cosine distances across periods', progress=progress))\n",
    "        return odf if not cache_only else pd.DataFrame()\n",
    "    \n",
    "    if run is None:\n",
    "        objs=[{**argd, **{'run':run+1, 'progress':False, 'num_proc':1,'cache_only':True}} for run in range(num_runs)]\n",
    "        odf=pd.concat(pmap(_distvecs, objs, num_proc=num_proc, desc='Measuring cosine distances across runs', progress=progress))\n",
    "        return odf if not cache_only else pd.DataFrame()\n",
    "\n",
    "    # load vecs?\n",
    "    dfvecs=vecs(period=period, run=run)\n",
    "    if not len(dfvecs): return pd.DataFrame()\n",
    "    \n",
    "    pprefix=prefix+'_'+period.split('-')[0]#+'_'+str(run).zfill(2)\n",
    "    ofnfn=os.path.join(PATH_DB,'dvecs',f'data.dvecs.{period}_{run:02}.pkl')\n",
    "    qstr=f'{period}_{run},max_num={max_num}'\n",
    "    if cache and not force:\n",
    "        if os.path.exists(ofnfn):\n",
    "#             print('Found on disk. Loading...')\n",
    "            #with open(ofnfn,'rb') as f: od=pickle.load(f)\n",
    "            odf=read_df(ofnfn)\n",
    "#             print('Finished loading')\n",
    "            return odf if not cache_only else pd.DataFrame()\n",
    "#         with get_veclib(pprefix,autocommit=False) as vl:\n",
    "#             if qstr in vl:\n",
    "#                 print('Found in vector library. Loading')\n",
    "#                 odf=vl[qstr] if not cache_only else pd.DataFrame()\n",
    "#                 print('Finished loading')\n",
    "#                 return odf\n",
    "    # filter\n",
    "    dfvecs=dfvecs.iloc[:max_num+1]\n",
    "    \n",
    "    #distmat!\n",
    "    if progress: print(f'Computing distances for {max_num} words')\n",
    "    dfdist=pd.DataFrame(\n",
    "        fastdist.cosine_pairwise_distance(\n",
    "            dfvecs.values.astype(float),\n",
    "            return_matrix=True\n",
    "        ),\n",
    "        index=dfvecs.index,\n",
    "        columns=dfvecs.index\n",
    "    )\n",
    "    # csim to cdist?\n",
    "    dfdist=2-dfdist\n",
    "    if progress: print('Done')\n",
    "    \n",
    "    # convert to long form\n",
    "#     od = defaultdict(dict)\n",
    "# #     g=nx.Graph()\n",
    "#     for w1 in tqdm(dfdist.index,position=0,disable=not progress):\n",
    "#         for w2,val in dfdist.loc[w1].items():\n",
    "#             if w1<w2:\n",
    "# #                 g.add_edge(w1,w2,cdist=val)\n",
    "#                 od[w1][w2]=val\n",
    "    if cache:\n",
    "        dfdist.to_pickle(ofnfn)\n",
    "        #with open(ofnfn,'wb') as of: pickle.dump(od,of)\n",
    "#         with get_veclib(pprefix,autocommit=True) as vl:\n",
    "#             vl[qstr]=od\n",
    "    return dfdist if not cache_only else pd.DataFrame()"
   ]
  },
  {
   "cell_type": "code",
   "execution_count": 4,
   "metadata": {},
   "outputs": [],
   "source": [
    "# res=distvecs('1780-1785',1).loc['culture'][['culture','represent']]\n",
    "# res"
   ]
  },
  {
   "cell_type": "code",
   "execution_count": 5,
   "metadata": {},
   "outputs": [],
   "source": [
    "# round(distvecs('1780-1785',2).loc['culture'].sort_values(),2)"
   ]
  },
  {
   "cell_type": "code",
   "execution_count": 6,
   "metadata": {},
   "outputs": [
    {
     "name": "stderr",
     "output_type": "stream",
     "text": [
      "Measuring cosine distances across runs [x4]: 100%|██████████| 10/10 [00:15<00:00,  1.59s/it]\n",
      "Measuring cosine distances across runs [x4]: 100%|██████████| 10/10 [00:59<00:00,  5.96s/it]\n",
      "Measuring cosine distances across runs [x4]: 100%|██████████| 10/10 [01:33<00:00,  9.33s/it]\n",
      "Measuring cosine distances across runs [x4]: 100%|██████████| 10/10 [01:14<00:00,  7.43s/it]\n",
      "Measuring cosine distances across runs [x4]: 100%|██████████| 10/10 [00:48<00:00,  4.88s/it]\n",
      "Measuring cosine distances across runs [x4]: 100%|██████████| 10/10 [00:53<00:00,  5.40s/it]\n",
      "Measuring cosine distances across runs [x4]: 100%|██████████| 10/10 [00:53<00:00,  5.34s/it]\n",
      "Measuring cosine distances across runs [x4]: 100%|██████████| 10/10 [00:54<00:00,  5.41s/it]\n",
      "Measuring cosine distances across runs [x4]: 100%|██████████| 10/10 [00:53<00:00,  5.36s/it]\n",
      "Measuring cosine distances across runs [x4]: 100%|██████████| 10/10 [00:53<00:00,  5.33s/it]\n",
      "Measuring cosine distances across runs [x4]: 100%|██████████| 10/10 [00:54<00:00,  5.42s/it]\n",
      "Measuring cosine distances across runs [x4]: 100%|██████████| 10/10 [00:54<00:00,  5.46s/it]\n",
      "Measuring cosine distances across runs [x4]: 100%|██████████| 10/10 [01:01<00:00,  6.14s/it]\n",
      "Measuring cosine distances across runs [x4]: 100%|██████████| 10/10 [00:54<00:00,  5.43s/it]\n",
      "Measuring cosine distances across runs [x4]: 100%|██████████| 10/10 [00:59<00:00,  5.99s/it]\n",
      "Measuring cosine distances across runs [x4]: 100%|██████████| 10/10 [01:04<00:00,  6.42s/it]\n",
      "Measuring cosine distances across runs [x4]: 100%|██████████| 10/10 [00:53<00:00,  5.35s/it]\n",
      "Measuring cosine distances across runs [x4]: 100%|██████████| 10/10 [00:55<00:00,  5.53s/it]\n",
      "Measuring cosine distances across runs [x4]: 100%|██████████| 10/10 [00:55<00:00,  5.50s/it]\n",
      "Measuring cosine distances across runs [x4]: 100%|██████████| 10/10 [00:53<00:00,  5.38s/it]\n",
      "Measuring cosine distances across runs [x4]: 100%|██████████| 10/10 [00:51<00:00,  5.13s/it]\n",
      "Measuring cosine distances across runs [x4]: 100%|██████████| 10/10 [00:51<00:00,  5.12s/it]\n",
      "Measuring cosine distances across runs [x4]: 100%|██████████| 10/10 [00:51<00:00,  5.15s/it]\n",
      "Measuring cosine distances across runs [x4]: 100%|██████████| 10/10 [00:55<00:00,  5.54s/it]\n",
      "Measuring cosine distances across runs [x4]: 100%|██████████| 10/10 [00:54<00:00,  5.49s/it]\n",
      "Measuring cosine distances across runs [x4]: 100%|██████████| 10/10 [00:55<00:00,  5.57s/it]\n",
      "Measuring cosine distances across runs [x4]: 100%|██████████| 10/10 [00:55<00:00,  5.55s/it]\n",
      "Measuring cosine distances across runs [x4]: 100%|██████████| 10/10 [00:55<00:00,  5.54s/it]\n",
      "Measuring cosine distances across runs [x4]: 100%|██████████| 10/10 [00:53<00:00,  5.36s/it]\n",
      "Measuring cosine distances across runs [x4]: 100%|██████████| 10/10 [00:55<00:00,  5.57s/it]\n",
      "Measuring cosine distances across runs [x4]: 100%|██████████| 10/10 [00:56<00:00,  5.64s/it]\n",
      "Measuring cosine distances across runs [x4]: 100%|██████████| 10/10 [00:56<00:00,  5.63s/it]\n",
      "Measuring cosine distances across runs [x4]: 100%|██████████| 10/10 [00:56<00:00,  5.63s/it]\n",
      "Measuring cosine distances across runs [x4]: 100%|██████████| 10/10 [00:55<00:00,  5.54s/it]\n",
      "Measuring cosine distances across runs [x4]: 100%|██████████| 10/10 [00:55<00:00,  5.59s/it]\n",
      "Measuring cosine distances across runs [x4]: 100%|██████████| 10/10 [00:55<00:00,  5.56s/it]\n",
      "Measuring cosine distances across runs [x4]: 100%|██████████| 10/10 [00:55<00:00,  5.52s/it]\n",
      "Measuring cosine distances across runs [x4]: 100%|██████████| 10/10 [00:51<00:00,  5.14s/it]\n",
      "Measuring cosine distances across runs [x4]: 100%|██████████| 10/10 [00:57<00:00,  5.74s/it]\n",
      "Measuring cosine distances across runs [x4]: 100%|██████████| 10/10 [00:58<00:00,  5.80s/it]\n",
      "Measuring cosine distances across runs [x4]: 100%|██████████| 10/10 [00:56<00:00,  5.68s/it]\n",
      "Measuring cosine distances across runs [x4]: 100%|██████████| 10/10 [00:56<00:00,  5.69s/it]\n",
      "Measuring cosine distances across runs [x4]: 100%|██████████| 10/10 [00:57<00:00,  5.78s/it]\n",
      "Measuring cosine distances across runs [x4]: 100%|██████████| 10/10 [00:57<00:00,  5.75s/it]\n",
      "Measuring cosine distances across runs [x4]: 100%|██████████| 10/10 [00:54<00:00,  5.49s/it]\n",
      "Measuring cosine distances across runs [x4]: 100%|██████████| 10/10 [00:56<00:00,  5.62s/it]\n",
      "Measuring cosine distances across runs [x4]: 100%|██████████| 10/10 [00:57<00:00,  5.76s/it]\n",
      "Measuring cosine distances across runs [x4]: 100%|██████████| 10/10 [00:56<00:00,  5.67s/it]\n"
     ]
    }
   ],
   "source": [
    "for prd in get_default_periods():\n",
    "    distvecs(prd,num_proc=4,cache=True,cache_only=True,force=False)"
   ]
  },
  {
   "cell_type": "code",
   "execution_count": null,
   "metadata": {},
   "outputs": [],
   "source": []
  },
  {
   "cell_type": "code",
   "execution_count": null,
   "metadata": {},
   "outputs": [],
   "source": [
    "prds=get_default_periods()\n",
    "runs=list(range(1,11))"
   ]
  },
  {
   "cell_type": "code",
   "execution_count": null,
   "metadata": {},
   "outputs": [],
   "source": [
    "# %%timeit\n",
    "# period=random.choice(prds)\n",
    "# run=random.choice(runs)\n",
    "# period,run"
   ]
  },
  {
   "cell_type": "code",
   "execution_count": null,
   "metadata": {},
   "outputs": [],
   "source": [
    "# %%timeit\n",
    "# distvecs(period,run)#.loc[['culture','virtue']][['culture','virtue']]"
   ]
  },
  {
   "cell_type": "markdown",
   "metadata": {},
   "source": [
    "## Words"
   ]
  },
  {
   "cell_type": "code",
   "execution_count": 8,
   "metadata": {},
   "outputs": [],
   "source": [
    "\n",
    "def do_cdist(objd):\n",
    "    res=cdist(**objd)\n",
    "    if res is None: res=pd.DataFrame()\n",
    "    return res\n",
    "\n",
    "def cdist(word,period=None,run=None,prefix='cdist',neighbors=None,max_num=10000,num_runs=10,num_proc=1,force=False,progress=True,cache_only=False,cache=False):\n",
    "    index_cols=['word','neighbor','period','run']\n",
    "    argd=dict(\n",
    "        word=word,period=period,run=run,prefix=prefix,\n",
    "        neighbors=neighbors,max_num=max_num,num_runs=num_runs,\n",
    "        num_proc=num_proc,force=force,progress=progress,\n",
    "        cache_only=cache_only,cache=cache\n",
    "    )\n",
    "    odf=None\n",
    "    \n",
    "    if type(word)!=str:\n",
    "        objs=[{**argd, **{'word':w, 'progress':False, 'num_proc':1}} for w in word]\n",
    "        odf=pd.concat(pmap(do_cdist, objs, num_proc=num_proc, desc='Measuring cosine distances across words', progress=progress, use_threads=True))\n",
    "        return odf if not cache_only else pd.DataFrame()\n",
    "    \n",
    "    if period is None:\n",
    "        # load cached word?\n",
    "        qstr=f'{word},ymin={YMIN},ymax={YMAX},ybin={YEARBIN}'\n",
    "        if cache:\n",
    "            with get_veclib('cdist',autocommit=False) as vl:\n",
    "                if qstr in vl: return vl[qstr]\n",
    "        \n",
    "        objs=[{**argd, **{'period':prd, 'progress':False, 'num_proc':num_proc}} for prd in get_default_periods()]\n",
    "        odf=pd.concat(pmap(do_cdist, objs, num_proc=1, desc='Measuring cosine distances across periods', progress=progress, use_threads=True))\n",
    "        if cache:\n",
    "            with get_veclib('cdist',autocommit=True) as vl:\n",
    "                vl[qstr]=odf\n",
    "        return odf if not cache_only else pd.DataFrame()\n",
    "    \n",
    "    if run is None:\n",
    "        qstr=f'{word}_{period}'\n",
    "        if not force and cache:\n",
    "            with get_veclib(prefix) as vl: odf=vl.get(qstr)\n",
    "            #odf=vl.get(qstr)\n",
    "        if odf is None:\n",
    "            objs=[{**argd, **{'run':run+1, 'progress':False, 'num_proc':1}} for run in range(num_runs)]\n",
    "            odf=pd.concat(pmap(do_cdist, objs, num_proc=num_proc, desc='Measuring cosine distances across runs', progress=progress, use_threads=True))\n",
    "            if cache: #vl[qstr]=odf\n",
    "                with get_veclib(prefix,autocommit=True) as vl:\n",
    "                    vl[qstr]=odf\n",
    "        return odf if not cache_only else pd.DataFrame()\n",
    "            \n",
    "\n",
    "    # load vecs?\n",
    "    dfdist=distvecs(period,run,cache=True)\n",
    "    distwords=set(dfdist.index)\n",
    "    if not word in distwords: return pd.DataFrame()\n",
    "    \n",
    "    sdist=dfdist.loc[word]\n",
    "    sdist=sdist[distwords-{word}]\n",
    "    sdist=sdist*-1 if sdist.min()<-0.1 else sdist\n",
    "    if neighbors: sdist=sdist[(set(neighbors) & set(sdist.index))]\n",
    "    wddf=pd.DataFrame()\n",
    "    wddf['cdist']=sdist\n",
    "    wddf=wddf.rename_axis('neighbor').sort_values('cdist')\n",
    "    wddf['word']=word\n",
    "    wddf['period']=period\n",
    "    wddf['run']=run\n",
    "    wddf=wddf.reset_index().set_index(index_cols)\n",
    "    return wddf\n"
   ]
  },
  {
   "cell_type": "code",
   "execution_count": 12,
   "metadata": {},
   "outputs": [],
   "source": [
    "# %%timeit\n",
    "# cdist('culture','1760-1765',1)"
   ]
  },
  {
   "cell_type": "code",
   "execution_count": null,
   "metadata": {},
   "outputs": [],
   "source": [
    "dists=cdist('culture',neighbors=['plant','soil','education'],num_proc=1)\n",
    "dists"
   ]
  },
  {
   "cell_type": "code",
   "execution_count": null,
   "metadata": {},
   "outputs": [],
   "source": []
  },
  {
   "cell_type": "code",
   "execution_count": null,
   "metadata": {},
   "outputs": [],
   "source": []
  },
  {
   "cell_type": "code",
   "execution_count": null,
   "metadata": {},
   "outputs": [],
   "source": []
  },
  {
   "cell_type": "code",
   "execution_count": null,
   "metadata": {},
   "outputs": [],
   "source": [
    "distvecs('1770-1775',1)"
   ]
  },
  {
   "cell_type": "code",
   "execution_count": null,
   "metadata": {},
   "outputs": [],
   "source": []
  }
 ],
 "metadata": {
  "kernelspec": {
   "display_name": "Python 3",
   "language": "python",
   "name": "python3"
  },
  "language_info": {
   "codemirror_mode": {
    "name": "ipython",
    "version": 3
   },
   "file_extension": ".py",
   "mimetype": "text/x-python",
   "name": "python",
   "nbconvert_exporter": "python",
   "pygments_lexer": "ipython3",
   "version": "3.7.7"
  },
  "widgets": {
   "application/vnd.jupyter.widget-state+json": {
    "state": {},
    "version_major": 2,
    "version_minor": 0
   }
  }
 },
 "nbformat": 4,
 "nbformat_minor": 4
}
