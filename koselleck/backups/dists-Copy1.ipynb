{
 "cells": [
  {
   "cell_type": "markdown",
   "metadata": {},
   "source": [
    "# Distances"
   ]
  },
  {
   "cell_type": "code",
   "execution_count": 1,
   "metadata": {},
   "outputs": [
    {
     "name": "stderr",
     "output_type": "stream",
     "text": [
      "[Koselleck] (16:43:46) Alles bereit (+0.0s)\n"
     ]
    }
   ],
   "source": [
    "from ipynb.fs.full.koselleck import *"
   ]
  },
  {
   "cell_type": "code",
   "execution_count": 2,
   "metadata": {},
   "outputs": [],
   "source": [
    "FORCE=False\n",
    "GBY_LOCAL_O=['corpus1', 'corpus2','period1', 'period2', 'word1', 'word2','qstr']"
   ]
  },
  {
   "cell_type": "code",
   "execution_count": 3,
   "metadata": {},
   "outputs": [],
   "source": [
    "\n",
    "def do_cdist(objd):\n",
    "    res=cdist(**objd)\n",
    "    if res is None: res=pd.DataFrame()\n",
    "    return res\n",
    "\n",
    "def cdist(word,period=None,run=None,prefix='cdist',neighbors=None,max_num=10000,num_runs=10,num_proc=4,force=False,progress=True,cache_only=False,cache=False):\n",
    "    index_cols=['word','neighbor','period','run']\n",
    "    argd=dict(\n",
    "        word=word,period=period,run=run,prefix=prefix,\n",
    "        neighbors=neighbors,max_num=max_num,num_runs=num_runs,\n",
    "        num_proc=num_proc,force=force,progress=progress,\n",
    "        cache_only=cache_only,cache=cache\n",
    "    )\n",
    "    odf=None\n",
    "    \n",
    "    if type(word)!=str:\n",
    "        objs=[{**argd, **{'word':w, 'progress':False, 'num_proc':1}} for w in word]\n",
    "        odf=pd.concat(pmap(do_cdist, objs, num_proc=num_proc, desc='Measuring cosine distances across words', progress=progress))\n",
    "        return odf if not cache_only else pd.DataFrame()\n",
    "    \n",
    "    if period is None:\n",
    "        # load cached word?\n",
    "        qstr=f'{word},ymin={YMIN},ymax={YMAX},ybin={YEARBIN}'\n",
    "        if cache:\n",
    "            with get_veclib('cdist',autocommit=False) as vl:\n",
    "                if qstr in vl: return vl[qstr]\n",
    "        \n",
    "        objs=[{**argd, **{'period':prd, 'progress':False, 'num_proc':1}} for prd in get_default_periods()]\n",
    "        odf=pd.concat(pmap(do_cdist, objs, num_proc=num_proc, desc='Measuring cosine distances across periods', progress=progress))\n",
    "        if cache:\n",
    "            with get_veclib('cdist',autocommit=True) as vl:\n",
    "                vl[qstr]=odf\n",
    "        return odf if not cache_only else pd.DataFrame()\n",
    "    \n",
    "    if run is None:\n",
    "        qstr=f'{word}_{period}'\n",
    "        if not force and cache:\n",
    "            with get_veclib(prefix) as vl: odf=vl.get(qstr)\n",
    "            #odf=vl.get(qstr)\n",
    "        if odf is None:\n",
    "            objs=[{**argd, **{'run':run+1, 'progress':False, 'num_proc':1}} for run in range(num_runs)]\n",
    "            odf=pd.concat(pmap(do_cdist, objs, num_proc=num_proc, desc='Measuring cosine distances across runs', progress=progress))\n",
    "            if cache: #vl[qstr]=odf\n",
    "                with get_veclib(prefix,autocommit=True) as vl:\n",
    "                    vl[qstr]=odf\n",
    "        return odf if not cache_only else pd.DataFrame()\n",
    "            \n",
    "\n",
    "    # load vecs?\n",
    "    dfvecs=vecs(period=period, run=run)\n",
    "    if dfvecs is None: return pd.DataFrame()\n",
    "    \n",
    "    # word not in vocab?\n",
    "    if not word in set(dfvecs.index): return pd.DataFrame()\n",
    "    \n",
    "    # filter by neighbors?\n",
    "    if neighbors: dfvecs=dfvecs.loc[[w for w in dfvecs.index if w in set(neighbors) or w==word]]\n",
    "\n",
    "    # filter by total?\n",
    "    if max_num and len(dfvecs)>max_num: dfvecs=dfvecs.iloc[:max_num]\n",
    "    \n",
    "    # get arrays\n",
    "    dfu=dfvecs.loc[word]\n",
    "    dfm=dfvecs.drop(word)\n",
    "    \n",
    "#     print(f'Computing cosine from array {dfu.shape} to {dfm.shape}')\n",
    "    res=fastdist.cosine_vector_to_matrix(\n",
    "        dfu.values.astype(float),\n",
    "        dfm.values.astype(float),\n",
    "    )\n",
    "    wdx=dict(zip(dfm.index, res))\n",
    "    wds=1-pd.Series(wdx)\n",
    "    wddf=pd.DataFrame(wds,columns=['cdist']).rename_axis('neighbor').sort_values('cdist')\n",
    "    wddf=wddf.reset_index()\n",
    "    wddf['word']=word\n",
    "    wddf['period']=period\n",
    "    wddf['run']=run\n",
    "    wddf=wddf.set_index(index_cols)\n",
    "    return wddf\n"
   ]
  },
  {
   "cell_type": "code",
   "execution_count": 4,
   "metadata": {},
   "outputs": [],
   "source": [
    "# cdist('reason')"
   ]
  },
  {
   "cell_type": "markdown",
   "metadata": {},
   "source": [
    "## Generating distances en masse"
   ]
  },
  {
   "cell_type": "code",
   "execution_count": 5,
   "metadata": {},
   "outputs": [],
   "source": [
    "def _distvecs(objd): return distvecs(**objd)\n",
    "\n",
    "def distvecs(period=None,run=None,prefix='dvecs',max_num=10000,num_runs=10,\n",
    "             num_proc=1,force=False,progress=True,cache_only=False,cache=True):\n",
    "    \n",
    "    argd=dict(\n",
    "        period=period,run=run,prefix=prefix,\n",
    "        max_num=max_num,num_runs=num_runs,\n",
    "        num_proc=num_proc,force=force,progress=progress,\n",
    "        cache_only=cache_only,cache=cache\n",
    "    )\n",
    "    odf=None\n",
    "    \n",
    "    if period is None:\n",
    "        # load cached word?\n",
    "        objs=[{**argd, **{'period':prd, 'progress':False, 'num_proc':1,'cache_only':True}} for prd in get_default_periods()]\n",
    "        odf=pd.concat(pmap(_distvecs, objs, num_proc=num_proc, desc='Measuring cosine distances across periods', progress=progress))\n",
    "        return odf if not cache_only else pd.DataFrame()\n",
    "    \n",
    "    if run is None:\n",
    "        objs=[{**argd, **{'run':run+1, 'progress':False, 'num_proc':1,'cache_only':True}} for run in range(num_runs)]\n",
    "        odf=pd.concat(pmap(_distvecs, objs, num_proc=num_proc, desc='Measuring cosine distances across runs', progress=progress))\n",
    "        return odf if not cache_only else pd.DataFrame()\n",
    "\n",
    "    # load vecs?\n",
    "    dfvecs=vecs(period=period, run=run)\n",
    "    if not len(dfvecs): return pd.DataFrame()\n",
    "    \n",
    "    qstr=f'{period}_{run},max_num={max_num}'\n",
    "    if cache and not force:\n",
    "        with get_veclib(prefix,autocommit=False) as vl:\n",
    "            if qstr in vl: return vl[qstr] if not cache_only else pd.DataFrame()\n",
    "    \n",
    "    # filter\n",
    "    dfvecs=dfvecs.iloc[:max_num+1]\n",
    "    \n",
    "    #distmat!\n",
    "    if progress: print(f'Computing distances for {max_num} words')\n",
    "    dfdist=pd.DataFrame(\n",
    "        fastdist.cosine_pairwise_distance(\n",
    "            dfvecs.values.astype(float),\n",
    "            return_matrix=True\n",
    "        ),\n",
    "        index=dfvecs.index,\n",
    "        columns=dfvecs.index\n",
    "    )\n",
    "    # csim to cdist?\n",
    "    dfdist=dfdist - 2\n",
    "    if progress: print('Done')\n",
    "    \n",
    "#     # convert to long form\n",
    "# #     if progress: print('Converting to long form')\n",
    "# #     odf=dfdist.rename_axis('word1').reset_index().melt(id_vars=['word1'],var_name='word2',value_name='cdist')\n",
    "# #     odf = odf.query('word1<word2')\n",
    "#     od = defaultdict(dict)\n",
    "#     for w1 in tqdm(dfdist.index,position=0,disable=not progress):\n",
    "#         for w2,val in dfdist.loc[w1].items():\n",
    "#             if w1<w2:\n",
    "#                 od[w1][w2]=val\n",
    "    if cache:\n",
    "        with get_veclib(prefix,autocommit=True) as vl:\n",
    "            vl[qstr]=dfdist\n",
    "    return dfdist if not cache_only else pd.DataFrame()"
   ]
  },
  {
   "cell_type": "code",
   "execution_count": 6,
   "metadata": {},
   "outputs": [],
   "source": [
    "# g=nx.from_edgelist([(0, 1, {'cdist':.5})])\n",
    "# g.size(),g.order()"
   ]
  },
  {
   "cell_type": "code",
   "execution_count": 7,
   "metadata": {},
   "outputs": [],
   "source": [
    "# od=distvecs('1750-1755',1,max_num=10000,cache=True,force=True)\n",
    "# len(od)"
   ]
  },
  {
   "cell_type": "code",
   "execution_count": 8,
   "metadata": {},
   "outputs": [],
   "source": [
    "# random.sample(od.keys(),10)"
   ]
  },
  {
   "cell_type": "code",
   "execution_count": 9,
   "metadata": {},
   "outputs": [],
   "source": [
    "# w2='culture'\n",
    "# matches = {\n",
    "#     **dict((w1,od[w2][w1]) for w1 in tqdm(od[w2])),\n",
    "#     **dict((w1,od[w1][w2]) for w1 in tqdm(od) if w2 in od[w1]),\n",
    "# }\n",
    "# len(matches)"
   ]
  },
  {
   "cell_type": "code",
   "execution_count": 10,
   "metadata": {},
   "outputs": [],
   "source": [
    "# res=distvecs('1750-1755',cache=True,cache_only=True,num_proc=4)#,force=True)\n",
    "# res"
   ]
  },
  {
   "cell_type": "code",
   "execution_count": 27,
   "metadata": {},
   "outputs": [],
   "source": [
    "# res=distvecs(cache=True,cache_only=True,num_proc=1)#,force=True)\n",
    "# res"
   ]
  },
  {
   "cell_type": "code",
   "execution_count": 24,
   "metadata": {},
   "outputs": [],
   "source": [
    "prds=get_default_periods()\n",
    "runs=list(range(1,11))"
   ]
  },
  {
   "cell_type": "code",
   "execution_count": 25,
   "metadata": {},
   "outputs": [
    {
     "data": {
      "text/plain": [
       "('1750-1755', 1)"
      ]
     },
     "execution_count": 25,
     "metadata": {},
     "output_type": "execute_result"
    }
   ],
   "source": [
    "period=random.choice(prds)\n",
    "run=random.choice(runs)\n",
    "period,run\n",
    "\n"
   ]
  },
  {
   "cell_type": "code",
   "execution_count": 28,
   "metadata": {},
   "outputs": [
    {
     "name": "stdout",
     "output_type": "stream",
     "text": [
      "933 ms ± 6.36 ms per loop (mean ± std. dev. of 7 runs, 1 loop each)\n"
     ]
    }
   ],
   "source": [
    "%%timeit\n",
    "distvecs(period,run).loc[['culture','virtue']][['culture','virtue']]"
   ]
  },
  {
   "cell_type": "code",
   "execution_count": 13,
   "metadata": {},
   "outputs": [],
   "source": [
    "# dfvecs=vecs('1750-1755',1)"
   ]
  },
  {
   "cell_type": "code",
   "execution_count": 14,
   "metadata": {},
   "outputs": [
    {
     "data": {
      "text/plain": [
       "745"
      ]
     },
     "execution_count": 14,
     "metadata": {},
     "output_type": "execute_result"
    }
   ],
   "source": [
    "list(dfvecs.index).index('value')"
   ]
  },
  {
   "cell_type": "code",
   "execution_count": null,
   "metadata": {},
   "outputs": [],
   "source": []
  }
 ],
 "metadata": {
  "kernelspec": {
   "display_name": "Python 3",
   "language": "python",
   "name": "python3"
  },
  "language_info": {
   "codemirror_mode": {
    "name": "ipython",
    "version": 3
   },
   "file_extension": ".py",
   "mimetype": "text/x-python",
   "name": "python",
   "nbconvert_exporter": "python",
   "pygments_lexer": "ipython3",
   "version": "3.7.7"
  },
  "widgets": {
   "application/vnd.jupyter.widget-state+json": {
    "state": {},
    "version_major": 2,
    "version_minor": 0
   }
  }
 },
 "nbformat": 4,
 "nbformat_minor": 4
}
