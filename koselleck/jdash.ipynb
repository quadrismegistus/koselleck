{
 "cells": [
  {
   "cell_type": "code",
   "execution_count": 2,
   "metadata": {},
   "outputs": [],
   "source": [
    "from ipynb.fs.full.koselleck import *\n",
    "w='culture'"
   ]
  },
  {
   "cell_type": "code",
   "execution_count": 59,
   "metadata": {},
   "outputs": [],
   "source": [
    "from jupyter_dash import JupyterDash\n",
    "import dash\n",
    "import dash_core_components as dcc\n",
    "import dash_html_components as html\n",
    "from dash.dependencies import Input, Output\n",
    "import plotly.graph_objects as go\n",
    "import dash_bootstrap_components as dbc\n",
    "from dash_table import DataTable, FormatTemplate\n",
    "import plotly.express as px\n",
    "import plotly.io as pio\n",
    "pio.templates.default='simple_white'\n",
    "px.defaults.template='simple_white'"
   ]
  },
  {
   "cell_type": "code",
   "execution_count": 60,
   "metadata": {},
   "outputs": [],
   "source": [
    "def plot_historical_semantic_distance_matrix_px(w,**y):\n",
    "    df=get_historical_semantic_distance_matrix(w,**y)\n",
    "    fig = go.Figure(data=go.Heatmap(z=df, x=df.index, y=df.columns, colorscale='gray',reversescale=True))\n",
    "    fig.update_layout(title=f'Historical-semantic distance matrix for the word \"{w}\"')\n",
    "    return fig"
   ]
  },
  {
   "cell_type": "code",
   "execution_count": 61,
   "metadata": {},
   "outputs": [],
   "source": [
    "# plot_historical_semantic_distance_matrix_px(w)"
   ]
  },
  {
   "cell_type": "markdown",
   "metadata": {},
   "source": [
    "## Neighbor line chart"
   ]
  },
  {
   "cell_type": "code",
   "execution_count": 66,
   "metadata": {},
   "outputs": [
    {
     "data": {
      "text/html": [
       "<div>\n",
       "<style scoped>\n",
       "    .dataframe tbody tr th:only-of-type {\n",
       "        vertical-align: middle;\n",
       "    }\n",
       "\n",
       "    .dataframe tbody tr th {\n",
       "        vertical-align: top;\n",
       "    }\n",
       "\n",
       "    .dataframe thead th {\n",
       "        text-align: right;\n",
       "    }\n",
       "</style>\n",
       "<table border=\"1\" class=\"dataframe\">\n",
       "  <thead>\n",
       "    <tr style=\"text-align: right;\">\n",
       "      <th></th>\n",
       "      <th>neighbor</th>\n",
       "      <th>period</th>\n",
       "      <th>score</th>\n",
       "      <th>rank</th>\n",
       "    </tr>\n",
       "  </thead>\n",
       "  <tbody>\n",
       "    <tr>\n",
       "      <th>10</th>\n",
       "      <td>manufacture</td>\n",
       "      <td>1720</td>\n",
       "      <td>1.891066</td>\n",
       "      <td>1.0</td>\n",
       "    </tr>\n",
       "    <tr>\n",
       "      <th>14</th>\n",
       "      <td>salt</td>\n",
       "      <td>1720</td>\n",
       "      <td>1.910552</td>\n",
       "      <td>2.0</td>\n",
       "    </tr>\n",
       "    <tr>\n",
       "      <th>8</th>\n",
       "      <td>industry</td>\n",
       "      <td>1720</td>\n",
       "      <td>2.885393</td>\n",
       "      <td>3.0</td>\n",
       "    </tr>\n",
       "    <tr>\n",
       "      <th>6</th>\n",
       "      <td>habits</td>\n",
       "      <td>1720</td>\n",
       "      <td>2.917415</td>\n",
       "      <td>4.0</td>\n",
       "    </tr>\n",
       "    <tr>\n",
       "      <th>4</th>\n",
       "      <td>flax</td>\n",
       "      <td>1720</td>\n",
       "      <td>2.928244</td>\n",
       "      <td>5.0</td>\n",
       "    </tr>\n",
       "    <tr>\n",
       "      <th>...</th>\n",
       "      <td>...</td>\n",
       "      <td>...</td>\n",
       "      <td>...</td>\n",
       "      <td>...</td>\n",
       "    </tr>\n",
       "    <tr>\n",
       "      <th>149</th>\n",
       "      <td>growth</td>\n",
       "      <td>1880</td>\n",
       "      <td>39.927283</td>\n",
       "      <td>7.0</td>\n",
       "    </tr>\n",
       "    <tr>\n",
       "      <th>152</th>\n",
       "      <td>industry</td>\n",
       "      <td>1880</td>\n",
       "      <td>39.929727</td>\n",
       "      <td>8.0</td>\n",
       "    </tr>\n",
       "    <tr>\n",
       "      <th>156</th>\n",
       "      <td>physical</td>\n",
       "      <td>1880</td>\n",
       "      <td>39.938625</td>\n",
       "      <td>9.0</td>\n",
       "    </tr>\n",
       "    <tr>\n",
       "      <th>146</th>\n",
       "      <td>development</td>\n",
       "      <td>1880</td>\n",
       "      <td>39.941241</td>\n",
       "      <td>10.0</td>\n",
       "    </tr>\n",
       "    <tr>\n",
       "      <th>153</th>\n",
       "      <td>intellectual</td>\n",
       "      <td>1880</td>\n",
       "      <td>39.950043</td>\n",
       "      <td>11.0</td>\n",
       "    </tr>\n",
       "  </tbody>\n",
       "</table>\n",
       "<p>129 rows × 4 columns</p>\n",
       "</div>"
      ],
      "text/plain": [
       "         neighbor  period      score  rank\n",
       "10    manufacture    1720   1.891066   1.0\n",
       "14           salt    1720   1.910552   2.0\n",
       "8        industry    1720   2.885393   3.0\n",
       "6          habits    1720   2.917415   4.0\n",
       "4            flax    1720   2.928244   5.0\n",
       "..            ...     ...        ...   ...\n",
       "149        growth    1880  39.927283   7.0\n",
       "152      industry    1880  39.929727   8.0\n",
       "156      physical    1880  39.938625   9.0\n",
       "146   development    1880  39.941241  10.0\n",
       "153  intellectual    1880  39.950043  11.0\n",
       "\n",
       "[129 rows x 4 columns]"
      ]
     },
     "execution_count": 66,
     "metadata": {},
     "output_type": "execute_result"
    }
   ],
   "source": [
    "figdf_nbr = plot_nbrs(w,max_rank=25,max_rank1=5,returndata=True,ybin=20)\n",
    "figdf_nbr['period']=[int(y[:4]) for y in figdf_nbr['period']]\n",
    "figdf_nbr"
   ]
  },
  {
   "cell_type": "code",
   "execution_count": 67,
   "metadata": {},
   "outputs": [
    {
     "data": {
      "application/vnd.plotly.v1+json": {
       "config": {
        "plotlyServerURL": "https://plot.ly"
       },
       "data": [
        {
         "hovertemplate": "neighbor=manufacture<br>period=%{x}<br>rank=%{y}<extra></extra>",
         "legendgroup": "",
         "line": {
          "color": "silver",
          "dash": "solid",
          "width": 0.5
         },
         "mode": "lines",
         "name": "",
         "orientation": "v",
         "showlegend": false,
         "type": "scatter",
         "x": [
          1720,
          1740,
          1760,
          1780,
          1800,
          1820,
          1840,
          1860,
          1880
         ],
         "xaxis": "x",
         "y": [
          1,
          8,
          10,
          8,
          14,
          10,
          4,
          4,
          2
         ],
         "yaxis": "y"
        },
        {
         "hovertemplate": "neighbor=salt<br>period=%{x}<br>rank=%{y}<extra></extra>",
         "legendgroup": "",
         "line": {
          "color": "silver",
          "dash": "solid",
          "width": 0.5
         },
         "mode": "lines",
         "name": "",
         "orientation": "v",
         "showlegend": false,
         "type": "scatter",
         "x": [
          1720,
          1740,
          1760,
          1780,
          1800,
          1820
         ],
         "xaxis": "x",
         "y": [
          2,
          7,
          6,
          5,
          6,
          1
         ],
         "yaxis": "y"
        },
        {
         "hovertemplate": "neighbor=industry<br>period=%{x}<br>rank=%{y}<extra></extra>",
         "legendgroup": "",
         "line": {
          "color": "silver",
          "dash": "solid",
          "width": 0.5
         },
         "mode": "lines",
         "name": "",
         "orientation": "v",
         "showlegend": false,
         "type": "scatter",
         "x": [
          1720,
          1740,
          1760,
          1780,
          1800,
          1820,
          1840,
          1860,
          1880
         ],
         "xaxis": "x",
         "y": [
          3,
          12,
          4,
          10,
          5,
          12,
          12,
          11,
          8
         ],
         "yaxis": "y"
        },
        {
         "hovertemplate": "neighbor=habits<br>period=%{x}<br>rank=%{y}<extra></extra>",
         "legendgroup": "",
         "line": {
          "color": "silver",
          "dash": "solid",
          "width": 0.5
         },
         "mode": "lines",
         "name": "",
         "orientation": "v",
         "showlegend": false,
         "type": "scatter",
         "x": [
          1720,
          1740,
          1760,
          1780,
          1800,
          1820,
          1840,
          1860,
          1880
         ],
         "xaxis": "x",
         "y": [
          4,
          6,
          2,
          2,
          1,
          5,
          5,
          7,
          5
         ],
         "yaxis": "y"
        },
        {
         "hovertemplate": "neighbor=flax<br>period=%{x}<br>rank=%{y}<extra></extra>",
         "legendgroup": "",
         "line": {
          "color": "silver",
          "dash": "solid",
          "width": 0.5
         },
         "mode": "lines",
         "name": "",
         "orientation": "v",
         "showlegend": false,
         "type": "scatter",
         "x": [
          1720,
          1740,
          1760,
          1780,
          1800,
          1820
         ],
         "xaxis": "x",
         "y": [
          5,
          13,
          3,
          4,
          7,
          2
         ],
         "yaxis": "y"
        },
        {
         "hovertemplate": "neighbor=manufactures<br>period=%{x}<br>rank=%{y}<extra></extra>",
         "legendgroup": "",
         "line": {
          "color": "silver",
          "dash": "solid",
          "width": 0.5
         },
         "mode": "lines",
         "name": "",
         "orientation": "v",
         "showlegend": false,
         "type": "scatter",
         "x": [
          1720,
          1740,
          1760,
          1780,
          1800,
          1820,
          1840,
          1860,
          1880
         ],
         "xaxis": "x",
         "y": [
          6,
          11,
          11,
          9,
          11,
          13,
          6,
          5,
          3
         ],
         "yaxis": "y"
        },
        {
         "hovertemplate": "neighbor=vegetables<br>period=%{x}<br>rank=%{y}<extra></extra>",
         "legendgroup": "",
         "line": {
          "color": "silver",
          "dash": "solid",
          "width": 0.5
         },
         "mode": "lines",
         "name": "",
         "orientation": "v",
         "showlegend": false,
         "type": "scatter",
         "x": [
          1720,
          1740,
          1760,
          1780,
          1800,
          1820,
          1840
         ],
         "xaxis": "x",
         "y": [
          7,
          15,
          13,
          14,
          9,
          6,
          1
         ],
         "yaxis": "y"
        },
        {
         "hovertemplate": "neighbor=husbandry<br>period=%{x}<br>rank=%{y}<extra></extra>",
         "legendgroup": "",
         "line": {
          "color": "silver",
          "dash": "solid",
          "width": 0.5
         },
         "mode": "lines",
         "name": "",
         "orientation": "v",
         "showlegend": false,
         "type": "scatter",
         "x": [
          1720,
          1740,
          1760,
          1780,
          1800,
          1820
         ],
         "xaxis": "x",
         "y": [
          8,
          5,
          9,
          3,
          15,
          3
         ],
         "yaxis": "y"
        },
        {
         "hovertemplate": "neighbor=physical<br>period=%{x}<br>rank=%{y}<extra></extra>",
         "legendgroup": "",
         "line": {
          "color": "silver",
          "dash": "solid",
          "width": 0.5
         },
         "mode": "lines",
         "name": "",
         "orientation": "v",
         "showlegend": false,
         "type": "scatter",
         "x": [
          1720,
          1740,
          1760,
          1780,
          1800,
          1820,
          1840,
          1860,
          1880
         ],
         "xaxis": "x",
         "y": [
          9,
          3,
          7,
          6,
          4,
          11,
          10,
          10,
          9
         ],
         "yaxis": "y"
        },
        {
         "hovertemplate": "neighbor=growth<br>period=%{x}<br>rank=%{y}<extra></extra>",
         "legendgroup": "",
         "line": {
          "color": "silver",
          "dash": "solid",
          "width": 0.5
         },
         "mode": "lines",
         "name": "",
         "orientation": "v",
         "showlegend": false,
         "type": "scatter",
         "x": [
          1720,
          1740,
          1760,
          1780,
          1800,
          1820,
          1840,
          1860,
          1880
         ],
         "xaxis": "x",
         "y": [
          10,
          16,
          15,
          13,
          13,
          15,
          9,
          8,
          7
         ],
         "yaxis": "y"
        },
        {
         "hovertemplate": "neighbor=plants<br>period=%{x}<br>rank=%{y}<extra></extra>",
         "legendgroup": "",
         "line": {
          "color": "silver",
          "dash": "solid",
          "width": 0.5
         },
         "mode": "lines",
         "name": "",
         "orientation": "v",
         "showlegend": false,
         "type": "scatter",
         "x": [
          1720,
          1740,
          1760,
          1780,
          1800,
          1820,
          1840,
          1860
         ],
         "xaxis": "x",
         "y": [
          11,
          17,
          12,
          12,
          10,
          8,
          3,
          3
         ],
         "yaxis": "y"
        },
        {
         "hovertemplate": "neighbor=sensitive<br>period=%{x}<br>rank=%{y}<extra></extra>",
         "legendgroup": "",
         "line": {
          "color": "silver",
          "dash": "solid",
          "width": 0.5
         },
         "mode": "lines",
         "name": "",
         "orientation": "v",
         "showlegend": false,
         "type": "scatter",
         "x": [
          1740,
          1860,
          1880
         ],
         "xaxis": "x",
         "y": [
          1,
          1,
          1
         ],
         "yaxis": "y"
        },
        {
         "hovertemplate": "neighbor=intellectual<br>period=%{x}<br>rank=%{y}<extra></extra>",
         "legendgroup": "",
         "line": {
          "color": "silver",
          "dash": "solid",
          "width": 0.5
         },
         "mode": "lines",
         "name": "",
         "orientation": "v",
         "showlegend": false,
         "type": "scatter",
         "x": [
          1740,
          1760,
          1780,
          1800,
          1820,
          1840,
          1860,
          1880
         ],
         "xaxis": "x",
         "y": [
          2,
          1,
          1,
          3,
          9,
          8,
          13,
          11
         ],
         "yaxis": "y"
        },
        {
         "hovertemplate": "neighbor=vegetation<br>period=%{x}<br>rank=%{y}<extra></extra>",
         "legendgroup": "",
         "line": {
          "color": "silver",
          "dash": "solid",
          "width": 0.5
         },
         "mode": "lines",
         "name": "",
         "orientation": "v",
         "showlegend": false,
         "type": "scatter",
         "x": [
          1740,
          1760,
          1780,
          1800,
          1820,
          1840,
          1860
         ],
         "xaxis": "x",
         "y": [
          4,
          5,
          7,
          8,
          7,
          2,
          2
         ],
         "yaxis": "y"
        },
        {
         "hovertemplate": "neighbor=agriculture<br>period=%{x}<br>rank=%{y}<extra></extra>",
         "legendgroup": "",
         "line": {
          "color": "silver",
          "dash": "solid",
          "width": 0.5
         },
         "mode": "lines",
         "name": "",
         "orientation": "v",
         "showlegend": false,
         "type": "scatter",
         "x": [
          1740,
          1760,
          1780,
          1800,
          1820,
          1840,
          1860,
          1880
         ],
         "xaxis": "x",
         "y": [
          9,
          14,
          15,
          12,
          14,
          7,
          6,
          4
         ],
         "yaxis": "y"
        },
        {
         "hovertemplate": "neighbor=cultivation<br>period=%{x}<br>rank=%{y}<extra></extra>",
         "legendgroup": "",
         "line": {
          "color": "silver",
          "dash": "solid",
          "width": 0.5
         },
         "mode": "lines",
         "name": "",
         "orientation": "v",
         "showlegend": false,
         "type": "scatter",
         "x": [
          1740,
          1760,
          1780,
          1800,
          1820,
          1840,
          1860,
          1880
         ],
         "xaxis": "x",
         "y": [
          10,
          16,
          16,
          16,
          16,
          13,
          9,
          6
         ],
         "yaxis": "y"
        },
        {
         "hovertemplate": "neighbor=feeds<br>period=%{x}<br>rank=%{y}<extra></extra>",
         "legendgroup": "",
         "line": {
          "color": "silver",
          "dash": "solid",
          "width": 0.5
         },
         "mode": "lines",
         "name": "",
         "orientation": "v",
         "showlegend": false,
         "type": "scatter",
         "x": [
          1740,
          1760,
          1780,
          1800
         ],
         "xaxis": "x",
         "y": [
          14,
          8,
          11,
          2
         ],
         "yaxis": "y"
        },
        {
         "hovertemplate": "neighbor=development<br>period=%{x}<br>rank=%{y}<extra></extra>",
         "legendgroup": "",
         "line": {
          "color": "silver",
          "dash": "solid",
          "width": 0.5
         },
         "mode": "lines",
         "name": "",
         "orientation": "v",
         "showlegend": false,
         "type": "scatter",
         "x": [
          1820,
          1840,
          1860,
          1880
         ],
         "xaxis": "x",
         "y": [
          4,
          11,
          12,
          10
         ],
         "yaxis": "y"
        },
        {
         "hovertemplate": "period=%{x}<br>rank=%{y}<br>neighbor=%{text}<extra></extra>",
         "legendgroup": "",
         "marker": {
          "color": "#1F77B4",
          "opacity": 0,
          "symbol": "circle"
         },
         "mode": "markers+text",
         "name": "",
         "orientation": "v",
         "showlegend": false,
         "text": [
          "manufacture",
          "salt",
          "industry",
          "habits",
          "flax",
          "manufactures",
          "vegetables",
          "husbandry",
          "physical",
          "growth",
          "plants",
          "sensitive",
          "intellectual",
          "physical",
          "vegetation",
          "husbandry",
          "habits",
          "salt",
          "manufacture",
          "agriculture",
          "cultivation",
          "manufactures",
          "industry",
          "flax",
          "feeds",
          "vegetables",
          "growth",
          "plants",
          "intellectual",
          "habits",
          "flax",
          "industry",
          "vegetation",
          "salt",
          "physical",
          "feeds",
          "husbandry",
          "manufacture",
          "manufactures",
          "plants",
          "vegetables",
          "agriculture",
          "growth",
          "cultivation",
          "intellectual",
          "habits",
          "husbandry",
          "flax",
          "salt",
          "physical",
          "vegetation",
          "manufacture",
          "manufactures",
          "industry",
          "feeds",
          "plants",
          "growth",
          "vegetables",
          "agriculture",
          "cultivation",
          "habits",
          "feeds",
          "intellectual",
          "physical",
          "industry",
          "salt",
          "flax",
          "vegetation",
          "vegetables",
          "plants",
          "manufactures",
          "agriculture",
          "growth",
          "manufacture",
          "husbandry",
          "cultivation",
          "salt",
          "flax",
          "husbandry",
          "development",
          "habits",
          "vegetables",
          "vegetation",
          "plants",
          "intellectual",
          "manufacture",
          "physical",
          "industry",
          "manufactures",
          "agriculture",
          "growth",
          "cultivation",
          "vegetables",
          "vegetation",
          "plants",
          "manufacture",
          "habits",
          "manufactures",
          "agriculture",
          "intellectual",
          "growth",
          "physical",
          "development",
          "industry",
          "cultivation",
          "sensitive",
          "vegetation",
          "plants",
          "manufacture",
          "manufactures",
          "agriculture",
          "habits",
          "growth",
          "cultivation",
          "physical",
          "industry",
          "development",
          "intellectual",
          "sensitive",
          "manufacture",
          "manufactures",
          "agriculture",
          "habits",
          "cultivation",
          "growth",
          "industry",
          "physical",
          "development",
          "intellectual"
         ],
         "type": "scatter",
         "x": [
          1720,
          1720,
          1720,
          1720,
          1720,
          1720,
          1720,
          1720,
          1720,
          1720,
          1720,
          1740,
          1740,
          1740,
          1740,
          1740,
          1740,
          1740,
          1740,
          1740,
          1740,
          1740,
          1740,
          1740,
          1740,
          1740,
          1740,
          1740,
          1760,
          1760,
          1760,
          1760,
          1760,
          1760,
          1760,
          1760,
          1760,
          1760,
          1760,
          1760,
          1760,
          1760,
          1760,
          1760,
          1780,
          1780,
          1780,
          1780,
          1780,
          1780,
          1780,
          1780,
          1780,
          1780,
          1780,
          1780,
          1780,
          1780,
          1780,
          1780,
          1800,
          1800,
          1800,
          1800,
          1800,
          1800,
          1800,
          1800,
          1800,
          1800,
          1800,
          1800,
          1800,
          1800,
          1800,
          1800,
          1820,
          1820,
          1820,
          1820,
          1820,
          1820,
          1820,
          1820,
          1820,
          1820,
          1820,
          1820,
          1820,
          1820,
          1820,
          1820,
          1840,
          1840,
          1840,
          1840,
          1840,
          1840,
          1840,
          1840,
          1840,
          1840,
          1840,
          1840,
          1840,
          1860,
          1860,
          1860,
          1860,
          1860,
          1860,
          1860,
          1860,
          1860,
          1860,
          1860,
          1860,
          1860,
          1880,
          1880,
          1880,
          1880,
          1880,
          1880,
          1880,
          1880,
          1880,
          1880,
          1880
         ],
         "xaxis": "x",
         "y": [
          1,
          2,
          3,
          4,
          5,
          6,
          7,
          8,
          9,
          10,
          11,
          1,
          2,
          3,
          4,
          5,
          6,
          7,
          8,
          9,
          10,
          11,
          12,
          13,
          14,
          15,
          16,
          17,
          1,
          2,
          3,
          4,
          5,
          6,
          7,
          8,
          9,
          10,
          11,
          12,
          13,
          14,
          15,
          16,
          1,
          2,
          3,
          4,
          5,
          6,
          7,
          8,
          9,
          10,
          11,
          12,
          13,
          14,
          15,
          16,
          1,
          2,
          3,
          4,
          5,
          6,
          7,
          8,
          9,
          10,
          11,
          12,
          13,
          14,
          15,
          16,
          1,
          2,
          3,
          4,
          5,
          6,
          7,
          8,
          9,
          10,
          11,
          12,
          13,
          14,
          15,
          16,
          1,
          2,
          3,
          4,
          5,
          6,
          7,
          8,
          9,
          10,
          11,
          12,
          13,
          1,
          2,
          3,
          4,
          5,
          6,
          7,
          8,
          9,
          10,
          11,
          12,
          13,
          1,
          2,
          3,
          4,
          5,
          6,
          7,
          8,
          9,
          10,
          11
         ],
         "yaxis": "y"
        }
       ],
       "layout": {
        "template": {
         "data": {
          "bar": [
           {
            "error_x": {
             "color": "rgb(36,36,36)"
            },
            "error_y": {
             "color": "rgb(36,36,36)"
            },
            "marker": {
             "line": {
              "color": "white",
              "width": 0.5
             }
            },
            "type": "bar"
           }
          ],
          "barpolar": [
           {
            "marker": {
             "line": {
              "color": "white",
              "width": 0.5
             }
            },
            "type": "barpolar"
           }
          ],
          "carpet": [
           {
            "aaxis": {
             "endlinecolor": "rgb(36,36,36)",
             "gridcolor": "white",
             "linecolor": "white",
             "minorgridcolor": "white",
             "startlinecolor": "rgb(36,36,36)"
            },
            "baxis": {
             "endlinecolor": "rgb(36,36,36)",
             "gridcolor": "white",
             "linecolor": "white",
             "minorgridcolor": "white",
             "startlinecolor": "rgb(36,36,36)"
            },
            "type": "carpet"
           }
          ],
          "choropleth": [
           {
            "colorbar": {
             "outlinewidth": 1,
             "tickcolor": "rgb(36,36,36)",
             "ticks": "outside"
            },
            "type": "choropleth"
           }
          ],
          "contour": [
           {
            "colorbar": {
             "outlinewidth": 1,
             "tickcolor": "rgb(36,36,36)",
             "ticks": "outside"
            },
            "colorscale": [
             [
              0,
              "#440154"
             ],
             [
              0.1111111111111111,
              "#482878"
             ],
             [
              0.2222222222222222,
              "#3e4989"
             ],
             [
              0.3333333333333333,
              "#31688e"
             ],
             [
              0.4444444444444444,
              "#26828e"
             ],
             [
              0.5555555555555556,
              "#1f9e89"
             ],
             [
              0.6666666666666666,
              "#35b779"
             ],
             [
              0.7777777777777778,
              "#6ece58"
             ],
             [
              0.8888888888888888,
              "#b5de2b"
             ],
             [
              1,
              "#fde725"
             ]
            ],
            "type": "contour"
           }
          ],
          "contourcarpet": [
           {
            "colorbar": {
             "outlinewidth": 1,
             "tickcolor": "rgb(36,36,36)",
             "ticks": "outside"
            },
            "type": "contourcarpet"
           }
          ],
          "heatmap": [
           {
            "colorbar": {
             "outlinewidth": 1,
             "tickcolor": "rgb(36,36,36)",
             "ticks": "outside"
            },
            "colorscale": [
             [
              0,
              "#440154"
             ],
             [
              0.1111111111111111,
              "#482878"
             ],
             [
              0.2222222222222222,
              "#3e4989"
             ],
             [
              0.3333333333333333,
              "#31688e"
             ],
             [
              0.4444444444444444,
              "#26828e"
             ],
             [
              0.5555555555555556,
              "#1f9e89"
             ],
             [
              0.6666666666666666,
              "#35b779"
             ],
             [
              0.7777777777777778,
              "#6ece58"
             ],
             [
              0.8888888888888888,
              "#b5de2b"
             ],
             [
              1,
              "#fde725"
             ]
            ],
            "type": "heatmap"
           }
          ],
          "heatmapgl": [
           {
            "colorbar": {
             "outlinewidth": 1,
             "tickcolor": "rgb(36,36,36)",
             "ticks": "outside"
            },
            "colorscale": [
             [
              0,
              "#440154"
             ],
             [
              0.1111111111111111,
              "#482878"
             ],
             [
              0.2222222222222222,
              "#3e4989"
             ],
             [
              0.3333333333333333,
              "#31688e"
             ],
             [
              0.4444444444444444,
              "#26828e"
             ],
             [
              0.5555555555555556,
              "#1f9e89"
             ],
             [
              0.6666666666666666,
              "#35b779"
             ],
             [
              0.7777777777777778,
              "#6ece58"
             ],
             [
              0.8888888888888888,
              "#b5de2b"
             ],
             [
              1,
              "#fde725"
             ]
            ],
            "type": "heatmapgl"
           }
          ],
          "histogram": [
           {
            "marker": {
             "line": {
              "color": "white",
              "width": 0.6
             }
            },
            "type": "histogram"
           }
          ],
          "histogram2d": [
           {
            "colorbar": {
             "outlinewidth": 1,
             "tickcolor": "rgb(36,36,36)",
             "ticks": "outside"
            },
            "colorscale": [
             [
              0,
              "#440154"
             ],
             [
              0.1111111111111111,
              "#482878"
             ],
             [
              0.2222222222222222,
              "#3e4989"
             ],
             [
              0.3333333333333333,
              "#31688e"
             ],
             [
              0.4444444444444444,
              "#26828e"
             ],
             [
              0.5555555555555556,
              "#1f9e89"
             ],
             [
              0.6666666666666666,
              "#35b779"
             ],
             [
              0.7777777777777778,
              "#6ece58"
             ],
             [
              0.8888888888888888,
              "#b5de2b"
             ],
             [
              1,
              "#fde725"
             ]
            ],
            "type": "histogram2d"
           }
          ],
          "histogram2dcontour": [
           {
            "colorbar": {
             "outlinewidth": 1,
             "tickcolor": "rgb(36,36,36)",
             "ticks": "outside"
            },
            "colorscale": [
             [
              0,
              "#440154"
             ],
             [
              0.1111111111111111,
              "#482878"
             ],
             [
              0.2222222222222222,
              "#3e4989"
             ],
             [
              0.3333333333333333,
              "#31688e"
             ],
             [
              0.4444444444444444,
              "#26828e"
             ],
             [
              0.5555555555555556,
              "#1f9e89"
             ],
             [
              0.6666666666666666,
              "#35b779"
             ],
             [
              0.7777777777777778,
              "#6ece58"
             ],
             [
              0.8888888888888888,
              "#b5de2b"
             ],
             [
              1,
              "#fde725"
             ]
            ],
            "type": "histogram2dcontour"
           }
          ],
          "mesh3d": [
           {
            "colorbar": {
             "outlinewidth": 1,
             "tickcolor": "rgb(36,36,36)",
             "ticks": "outside"
            },
            "type": "mesh3d"
           }
          ],
          "parcoords": [
           {
            "line": {
             "colorbar": {
              "outlinewidth": 1,
              "tickcolor": "rgb(36,36,36)",
              "ticks": "outside"
             }
            },
            "type": "parcoords"
           }
          ],
          "pie": [
           {
            "automargin": true,
            "type": "pie"
           }
          ],
          "scatter": [
           {
            "marker": {
             "colorbar": {
              "outlinewidth": 1,
              "tickcolor": "rgb(36,36,36)",
              "ticks": "outside"
             }
            },
            "type": "scatter"
           }
          ],
          "scatter3d": [
           {
            "line": {
             "colorbar": {
              "outlinewidth": 1,
              "tickcolor": "rgb(36,36,36)",
              "ticks": "outside"
             }
            },
            "marker": {
             "colorbar": {
              "outlinewidth": 1,
              "tickcolor": "rgb(36,36,36)",
              "ticks": "outside"
             }
            },
            "type": "scatter3d"
           }
          ],
          "scattercarpet": [
           {
            "marker": {
             "colorbar": {
              "outlinewidth": 1,
              "tickcolor": "rgb(36,36,36)",
              "ticks": "outside"
             }
            },
            "type": "scattercarpet"
           }
          ],
          "scattergeo": [
           {
            "marker": {
             "colorbar": {
              "outlinewidth": 1,
              "tickcolor": "rgb(36,36,36)",
              "ticks": "outside"
             }
            },
            "type": "scattergeo"
           }
          ],
          "scattergl": [
           {
            "marker": {
             "colorbar": {
              "outlinewidth": 1,
              "tickcolor": "rgb(36,36,36)",
              "ticks": "outside"
             }
            },
            "type": "scattergl"
           }
          ],
          "scattermapbox": [
           {
            "marker": {
             "colorbar": {
              "outlinewidth": 1,
              "tickcolor": "rgb(36,36,36)",
              "ticks": "outside"
             }
            },
            "type": "scattermapbox"
           }
          ],
          "scatterpolar": [
           {
            "marker": {
             "colorbar": {
              "outlinewidth": 1,
              "tickcolor": "rgb(36,36,36)",
              "ticks": "outside"
             }
            },
            "type": "scatterpolar"
           }
          ],
          "scatterpolargl": [
           {
            "marker": {
             "colorbar": {
              "outlinewidth": 1,
              "tickcolor": "rgb(36,36,36)",
              "ticks": "outside"
             }
            },
            "type": "scatterpolargl"
           }
          ],
          "scatterternary": [
           {
            "marker": {
             "colorbar": {
              "outlinewidth": 1,
              "tickcolor": "rgb(36,36,36)",
              "ticks": "outside"
             }
            },
            "type": "scatterternary"
           }
          ],
          "surface": [
           {
            "colorbar": {
             "outlinewidth": 1,
             "tickcolor": "rgb(36,36,36)",
             "ticks": "outside"
            },
            "colorscale": [
             [
              0,
              "#440154"
             ],
             [
              0.1111111111111111,
              "#482878"
             ],
             [
              0.2222222222222222,
              "#3e4989"
             ],
             [
              0.3333333333333333,
              "#31688e"
             ],
             [
              0.4444444444444444,
              "#26828e"
             ],
             [
              0.5555555555555556,
              "#1f9e89"
             ],
             [
              0.6666666666666666,
              "#35b779"
             ],
             [
              0.7777777777777778,
              "#6ece58"
             ],
             [
              0.8888888888888888,
              "#b5de2b"
             ],
             [
              1,
              "#fde725"
             ]
            ],
            "type": "surface"
           }
          ],
          "table": [
           {
            "cells": {
             "fill": {
              "color": "rgb(237,237,237)"
             },
             "line": {
              "color": "white"
             }
            },
            "header": {
             "fill": {
              "color": "rgb(217,217,217)"
             },
             "line": {
              "color": "white"
             }
            },
            "type": "table"
           }
          ]
         },
         "layout": {
          "annotationdefaults": {
           "arrowhead": 0,
           "arrowwidth": 1
          },
          "coloraxis": {
           "colorbar": {
            "outlinewidth": 1,
            "tickcolor": "rgb(36,36,36)",
            "ticks": "outside"
           }
          },
          "colorscale": {
           "diverging": [
            [
             0,
             "rgb(103,0,31)"
            ],
            [
             0.1,
             "rgb(178,24,43)"
            ],
            [
             0.2,
             "rgb(214,96,77)"
            ],
            [
             0.3,
             "rgb(244,165,130)"
            ],
            [
             0.4,
             "rgb(253,219,199)"
            ],
            [
             0.5,
             "rgb(247,247,247)"
            ],
            [
             0.6,
             "rgb(209,229,240)"
            ],
            [
             0.7,
             "rgb(146,197,222)"
            ],
            [
             0.8,
             "rgb(67,147,195)"
            ],
            [
             0.9,
             "rgb(33,102,172)"
            ],
            [
             1,
             "rgb(5,48,97)"
            ]
           ],
           "sequential": [
            [
             0,
             "#440154"
            ],
            [
             0.1111111111111111,
             "#482878"
            ],
            [
             0.2222222222222222,
             "#3e4989"
            ],
            [
             0.3333333333333333,
             "#31688e"
            ],
            [
             0.4444444444444444,
             "#26828e"
            ],
            [
             0.5555555555555556,
             "#1f9e89"
            ],
            [
             0.6666666666666666,
             "#35b779"
            ],
            [
             0.7777777777777778,
             "#6ece58"
            ],
            [
             0.8888888888888888,
             "#b5de2b"
            ],
            [
             1,
             "#fde725"
            ]
           ],
           "sequentialminus": [
            [
             0,
             "#440154"
            ],
            [
             0.1111111111111111,
             "#482878"
            ],
            [
             0.2222222222222222,
             "#3e4989"
            ],
            [
             0.3333333333333333,
             "#31688e"
            ],
            [
             0.4444444444444444,
             "#26828e"
            ],
            [
             0.5555555555555556,
             "#1f9e89"
            ],
            [
             0.6666666666666666,
             "#35b779"
            ],
            [
             0.7777777777777778,
             "#6ece58"
            ],
            [
             0.8888888888888888,
             "#b5de2b"
            ],
            [
             1,
             "#fde725"
            ]
           ]
          },
          "colorway": [
           "#1F77B4",
           "#FF7F0E",
           "#2CA02C",
           "#D62728",
           "#9467BD",
           "#8C564B",
           "#E377C2",
           "#7F7F7F",
           "#BCBD22",
           "#17BECF"
          ],
          "font": {
           "color": "rgb(36,36,36)"
          },
          "geo": {
           "bgcolor": "white",
           "lakecolor": "white",
           "landcolor": "white",
           "showlakes": true,
           "showland": true,
           "subunitcolor": "white"
          },
          "hoverlabel": {
           "align": "left"
          },
          "hovermode": "closest",
          "mapbox": {
           "style": "light"
          },
          "paper_bgcolor": "white",
          "plot_bgcolor": "white",
          "polar": {
           "angularaxis": {
            "gridcolor": "rgb(232,232,232)",
            "linecolor": "rgb(36,36,36)",
            "showgrid": false,
            "showline": true,
            "ticks": "outside"
           },
           "bgcolor": "white",
           "radialaxis": {
            "gridcolor": "rgb(232,232,232)",
            "linecolor": "rgb(36,36,36)",
            "showgrid": false,
            "showline": true,
            "ticks": "outside"
           }
          },
          "scene": {
           "xaxis": {
            "backgroundcolor": "white",
            "gridcolor": "rgb(232,232,232)",
            "gridwidth": 2,
            "linecolor": "rgb(36,36,36)",
            "showbackground": true,
            "showgrid": false,
            "showline": true,
            "ticks": "outside",
            "zeroline": false,
            "zerolinecolor": "rgb(36,36,36)"
           },
           "yaxis": {
            "backgroundcolor": "white",
            "gridcolor": "rgb(232,232,232)",
            "gridwidth": 2,
            "linecolor": "rgb(36,36,36)",
            "showbackground": true,
            "showgrid": false,
            "showline": true,
            "ticks": "outside",
            "zeroline": false,
            "zerolinecolor": "rgb(36,36,36)"
           },
           "zaxis": {
            "backgroundcolor": "white",
            "gridcolor": "rgb(232,232,232)",
            "gridwidth": 2,
            "linecolor": "rgb(36,36,36)",
            "showbackground": true,
            "showgrid": false,
            "showline": true,
            "ticks": "outside",
            "zeroline": false,
            "zerolinecolor": "rgb(36,36,36)"
           }
          },
          "shapedefaults": {
           "fillcolor": "black",
           "line": {
            "width": 0
           },
           "opacity": 0.3
          },
          "ternary": {
           "aaxis": {
            "gridcolor": "rgb(232,232,232)",
            "linecolor": "rgb(36,36,36)",
            "showgrid": false,
            "showline": true,
            "ticks": "outside"
           },
           "baxis": {
            "gridcolor": "rgb(232,232,232)",
            "linecolor": "rgb(36,36,36)",
            "showgrid": false,
            "showline": true,
            "ticks": "outside"
           },
           "bgcolor": "white",
           "caxis": {
            "gridcolor": "rgb(232,232,232)",
            "linecolor": "rgb(36,36,36)",
            "showgrid": false,
            "showline": true,
            "ticks": "outside"
           }
          },
          "title": {
           "x": 0.05
          },
          "xaxis": {
           "automargin": true,
           "gridcolor": "rgb(232,232,232)",
           "linecolor": "rgb(36,36,36)",
           "showgrid": false,
           "showline": true,
           "ticks": "outside",
           "title": {
            "standoff": 15
           },
           "zeroline": false,
           "zerolinecolor": "rgb(36,36,36)"
          },
          "yaxis": {
           "automargin": true,
           "gridcolor": "rgb(232,232,232)",
           "linecolor": "rgb(36,36,36)",
           "showgrid": false,
           "showline": true,
           "ticks": "outside",
           "title": {
            "standoff": 15
           },
           "zeroline": false,
           "zerolinecolor": "rgb(36,36,36)"
          }
         }
        },
        "yaxis": {
         "autorange": "reversed"
        }
       }
      },
      "text/html": [
       "<div>                            <div id=\"564b3ad4-d0a5-4654-8945-1fd054c0324a\" class=\"plotly-graph-div\" style=\"height:525px; width:100%;\"></div>            <script type=\"text/javascript\">                require([\"plotly\"], function(Plotly) {                    window.PLOTLYENV=window.PLOTLYENV || {};                                    if (document.getElementById(\"564b3ad4-d0a5-4654-8945-1fd054c0324a\")) {                    Plotly.newPlot(                        \"564b3ad4-d0a5-4654-8945-1fd054c0324a\",                        [{\"hovertemplate\": \"neighbor=manufacture<br>period=%{x}<br>rank=%{y}<extra></extra>\", \"legendgroup\": \"\", \"line\": {\"color\": \"silver\", \"dash\": \"solid\", \"width\": 0.5}, \"mode\": \"lines\", \"name\": \"\", \"orientation\": \"v\", \"showlegend\": false, \"type\": \"scatter\", \"x\": [1720, 1740, 1760, 1780, 1800, 1820, 1840, 1860, 1880], \"xaxis\": \"x\", \"y\": [1.0, 8.0, 10.0, 8.0, 14.0, 10.0, 4.0, 4.0, 2.0], \"yaxis\": \"y\"}, {\"hovertemplate\": \"neighbor=salt<br>period=%{x}<br>rank=%{y}<extra></extra>\", \"legendgroup\": \"\", \"line\": {\"color\": \"silver\", \"dash\": \"solid\", \"width\": 0.5}, \"mode\": \"lines\", \"name\": \"\", \"orientation\": \"v\", \"showlegend\": false, \"type\": \"scatter\", \"x\": [1720, 1740, 1760, 1780, 1800, 1820], \"xaxis\": \"x\", \"y\": [2.0, 7.0, 6.0, 5.0, 6.0, 1.0], \"yaxis\": \"y\"}, {\"hovertemplate\": \"neighbor=industry<br>period=%{x}<br>rank=%{y}<extra></extra>\", \"legendgroup\": \"\", \"line\": {\"color\": \"silver\", \"dash\": \"solid\", \"width\": 0.5}, \"mode\": \"lines\", \"name\": \"\", \"orientation\": \"v\", \"showlegend\": false, \"type\": \"scatter\", \"x\": [1720, 1740, 1760, 1780, 1800, 1820, 1840, 1860, 1880], \"xaxis\": \"x\", \"y\": [3.0, 12.0, 4.0, 10.0, 5.0, 12.0, 12.0, 11.0, 8.0], \"yaxis\": \"y\"}, {\"hovertemplate\": \"neighbor=habits<br>period=%{x}<br>rank=%{y}<extra></extra>\", \"legendgroup\": \"\", \"line\": {\"color\": \"silver\", \"dash\": \"solid\", \"width\": 0.5}, \"mode\": \"lines\", \"name\": \"\", \"orientation\": \"v\", \"showlegend\": false, \"type\": \"scatter\", \"x\": [1720, 1740, 1760, 1780, 1800, 1820, 1840, 1860, 1880], \"xaxis\": \"x\", \"y\": [4.0, 6.0, 2.0, 2.0, 1.0, 5.0, 5.0, 7.0, 5.0], \"yaxis\": \"y\"}, {\"hovertemplate\": \"neighbor=flax<br>period=%{x}<br>rank=%{y}<extra></extra>\", \"legendgroup\": \"\", \"line\": {\"color\": \"silver\", \"dash\": \"solid\", \"width\": 0.5}, \"mode\": \"lines\", \"name\": \"\", \"orientation\": \"v\", \"showlegend\": false, \"type\": \"scatter\", \"x\": [1720, 1740, 1760, 1780, 1800, 1820], \"xaxis\": \"x\", \"y\": [5.0, 13.0, 3.0, 4.0, 7.0, 2.0], \"yaxis\": \"y\"}, {\"hovertemplate\": \"neighbor=manufactures<br>period=%{x}<br>rank=%{y}<extra></extra>\", \"legendgroup\": \"\", \"line\": {\"color\": \"silver\", \"dash\": \"solid\", \"width\": 0.5}, \"mode\": \"lines\", \"name\": \"\", \"orientation\": \"v\", \"showlegend\": false, \"type\": \"scatter\", \"x\": [1720, 1740, 1760, 1780, 1800, 1820, 1840, 1860, 1880], \"xaxis\": \"x\", \"y\": [6.0, 11.0, 11.0, 9.0, 11.0, 13.0, 6.0, 5.0, 3.0], \"yaxis\": \"y\"}, {\"hovertemplate\": \"neighbor=vegetables<br>period=%{x}<br>rank=%{y}<extra></extra>\", \"legendgroup\": \"\", \"line\": {\"color\": \"silver\", \"dash\": \"solid\", \"width\": 0.5}, \"mode\": \"lines\", \"name\": \"\", \"orientation\": \"v\", \"showlegend\": false, \"type\": \"scatter\", \"x\": [1720, 1740, 1760, 1780, 1800, 1820, 1840], \"xaxis\": \"x\", \"y\": [7.0, 15.0, 13.0, 14.0, 9.0, 6.0, 1.0], \"yaxis\": \"y\"}, {\"hovertemplate\": \"neighbor=husbandry<br>period=%{x}<br>rank=%{y}<extra></extra>\", \"legendgroup\": \"\", \"line\": {\"color\": \"silver\", \"dash\": \"solid\", \"width\": 0.5}, \"mode\": \"lines\", \"name\": \"\", \"orientation\": \"v\", \"showlegend\": false, \"type\": \"scatter\", \"x\": [1720, 1740, 1760, 1780, 1800, 1820], \"xaxis\": \"x\", \"y\": [8.0, 5.0, 9.0, 3.0, 15.0, 3.0], \"yaxis\": \"y\"}, {\"hovertemplate\": \"neighbor=physical<br>period=%{x}<br>rank=%{y}<extra></extra>\", \"legendgroup\": \"\", \"line\": {\"color\": \"silver\", \"dash\": \"solid\", \"width\": 0.5}, \"mode\": \"lines\", \"name\": \"\", \"orientation\": \"v\", \"showlegend\": false, \"type\": \"scatter\", \"x\": [1720, 1740, 1760, 1780, 1800, 1820, 1840, 1860, 1880], \"xaxis\": \"x\", \"y\": [9.0, 3.0, 7.0, 6.0, 4.0, 11.0, 10.0, 10.0, 9.0], \"yaxis\": \"y\"}, {\"hovertemplate\": \"neighbor=growth<br>period=%{x}<br>rank=%{y}<extra></extra>\", \"legendgroup\": \"\", \"line\": {\"color\": \"silver\", \"dash\": \"solid\", \"width\": 0.5}, \"mode\": \"lines\", \"name\": \"\", \"orientation\": \"v\", \"showlegend\": false, \"type\": \"scatter\", \"x\": [1720, 1740, 1760, 1780, 1800, 1820, 1840, 1860, 1880], \"xaxis\": \"x\", \"y\": [10.0, 16.0, 15.0, 13.0, 13.0, 15.0, 9.0, 8.0, 7.0], \"yaxis\": \"y\"}, {\"hovertemplate\": \"neighbor=plants<br>period=%{x}<br>rank=%{y}<extra></extra>\", \"legendgroup\": \"\", \"line\": {\"color\": \"silver\", \"dash\": \"solid\", \"width\": 0.5}, \"mode\": \"lines\", \"name\": \"\", \"orientation\": \"v\", \"showlegend\": false, \"type\": \"scatter\", \"x\": [1720, 1740, 1760, 1780, 1800, 1820, 1840, 1860], \"xaxis\": \"x\", \"y\": [11.0, 17.0, 12.0, 12.0, 10.0, 8.0, 3.0, 3.0], \"yaxis\": \"y\"}, {\"hovertemplate\": \"neighbor=sensitive<br>period=%{x}<br>rank=%{y}<extra></extra>\", \"legendgroup\": \"\", \"line\": {\"color\": \"silver\", \"dash\": \"solid\", \"width\": 0.5}, \"mode\": \"lines\", \"name\": \"\", \"orientation\": \"v\", \"showlegend\": false, \"type\": \"scatter\", \"x\": [1740, 1860, 1880], \"xaxis\": \"x\", \"y\": [1.0, 1.0, 1.0], \"yaxis\": \"y\"}, {\"hovertemplate\": \"neighbor=intellectual<br>period=%{x}<br>rank=%{y}<extra></extra>\", \"legendgroup\": \"\", \"line\": {\"color\": \"silver\", \"dash\": \"solid\", \"width\": 0.5}, \"mode\": \"lines\", \"name\": \"\", \"orientation\": \"v\", \"showlegend\": false, \"type\": \"scatter\", \"x\": [1740, 1760, 1780, 1800, 1820, 1840, 1860, 1880], \"xaxis\": \"x\", \"y\": [2.0, 1.0, 1.0, 3.0, 9.0, 8.0, 13.0, 11.0], \"yaxis\": \"y\"}, {\"hovertemplate\": \"neighbor=vegetation<br>period=%{x}<br>rank=%{y}<extra></extra>\", \"legendgroup\": \"\", \"line\": {\"color\": \"silver\", \"dash\": \"solid\", \"width\": 0.5}, \"mode\": \"lines\", \"name\": \"\", \"orientation\": \"v\", \"showlegend\": false, \"type\": \"scatter\", \"x\": [1740, 1760, 1780, 1800, 1820, 1840, 1860], \"xaxis\": \"x\", \"y\": [4.0, 5.0, 7.0, 8.0, 7.0, 2.0, 2.0], \"yaxis\": \"y\"}, {\"hovertemplate\": \"neighbor=agriculture<br>period=%{x}<br>rank=%{y}<extra></extra>\", \"legendgroup\": \"\", \"line\": {\"color\": \"silver\", \"dash\": \"solid\", \"width\": 0.5}, \"mode\": \"lines\", \"name\": \"\", \"orientation\": \"v\", \"showlegend\": false, \"type\": \"scatter\", \"x\": [1740, 1760, 1780, 1800, 1820, 1840, 1860, 1880], \"xaxis\": \"x\", \"y\": [9.0, 14.0, 15.0, 12.0, 14.0, 7.0, 6.0, 4.0], \"yaxis\": \"y\"}, {\"hovertemplate\": \"neighbor=cultivation<br>period=%{x}<br>rank=%{y}<extra></extra>\", \"legendgroup\": \"\", \"line\": {\"color\": \"silver\", \"dash\": \"solid\", \"width\": 0.5}, \"mode\": \"lines\", \"name\": \"\", \"orientation\": \"v\", \"showlegend\": false, \"type\": \"scatter\", \"x\": [1740, 1760, 1780, 1800, 1820, 1840, 1860, 1880], \"xaxis\": \"x\", \"y\": [10.0, 16.0, 16.0, 16.0, 16.0, 13.0, 9.0, 6.0], \"yaxis\": \"y\"}, {\"hovertemplate\": \"neighbor=feeds<br>period=%{x}<br>rank=%{y}<extra></extra>\", \"legendgroup\": \"\", \"line\": {\"color\": \"silver\", \"dash\": \"solid\", \"width\": 0.5}, \"mode\": \"lines\", \"name\": \"\", \"orientation\": \"v\", \"showlegend\": false, \"type\": \"scatter\", \"x\": [1740, 1760, 1780, 1800], \"xaxis\": \"x\", \"y\": [14.0, 8.0, 11.0, 2.0], \"yaxis\": \"y\"}, {\"hovertemplate\": \"neighbor=development<br>period=%{x}<br>rank=%{y}<extra></extra>\", \"legendgroup\": \"\", \"line\": {\"color\": \"silver\", \"dash\": \"solid\", \"width\": 0.5}, \"mode\": \"lines\", \"name\": \"\", \"orientation\": \"v\", \"showlegend\": false, \"type\": \"scatter\", \"x\": [1820, 1840, 1860, 1880], \"xaxis\": \"x\", \"y\": [4.0, 11.0, 12.0, 10.0], \"yaxis\": \"y\"}, {\"hovertemplate\": \"period=%{x}<br>rank=%{y}<br>neighbor=%{text}<extra></extra>\", \"legendgroup\": \"\", \"marker\": {\"color\": \"#1F77B4\", \"opacity\": 0, \"symbol\": \"circle\"}, \"mode\": \"markers+text\", \"name\": \"\", \"orientation\": \"v\", \"showlegend\": false, \"text\": [\"manufacture\", \"salt\", \"industry\", \"habits\", \"flax\", \"manufactures\", \"vegetables\", \"husbandry\", \"physical\", \"growth\", \"plants\", \"sensitive\", \"intellectual\", \"physical\", \"vegetation\", \"husbandry\", \"habits\", \"salt\", \"manufacture\", \"agriculture\", \"cultivation\", \"manufactures\", \"industry\", \"flax\", \"feeds\", \"vegetables\", \"growth\", \"plants\", \"intellectual\", \"habits\", \"flax\", \"industry\", \"vegetation\", \"salt\", \"physical\", \"feeds\", \"husbandry\", \"manufacture\", \"manufactures\", \"plants\", \"vegetables\", \"agriculture\", \"growth\", \"cultivation\", \"intellectual\", \"habits\", \"husbandry\", \"flax\", \"salt\", \"physical\", \"vegetation\", \"manufacture\", \"manufactures\", \"industry\", \"feeds\", \"plants\", \"growth\", \"vegetables\", \"agriculture\", \"cultivation\", \"habits\", \"feeds\", \"intellectual\", \"physical\", \"industry\", \"salt\", \"flax\", \"vegetation\", \"vegetables\", \"plants\", \"manufactures\", \"agriculture\", \"growth\", \"manufacture\", \"husbandry\", \"cultivation\", \"salt\", \"flax\", \"husbandry\", \"development\", \"habits\", \"vegetables\", \"vegetation\", \"plants\", \"intellectual\", \"manufacture\", \"physical\", \"industry\", \"manufactures\", \"agriculture\", \"growth\", \"cultivation\", \"vegetables\", \"vegetation\", \"plants\", \"manufacture\", \"habits\", \"manufactures\", \"agriculture\", \"intellectual\", \"growth\", \"physical\", \"development\", \"industry\", \"cultivation\", \"sensitive\", \"vegetation\", \"plants\", \"manufacture\", \"manufactures\", \"agriculture\", \"habits\", \"growth\", \"cultivation\", \"physical\", \"industry\", \"development\", \"intellectual\", \"sensitive\", \"manufacture\", \"manufactures\", \"agriculture\", \"habits\", \"cultivation\", \"growth\", \"industry\", \"physical\", \"development\", \"intellectual\"], \"type\": \"scatter\", \"x\": [1720, 1720, 1720, 1720, 1720, 1720, 1720, 1720, 1720, 1720, 1720, 1740, 1740, 1740, 1740, 1740, 1740, 1740, 1740, 1740, 1740, 1740, 1740, 1740, 1740, 1740, 1740, 1740, 1760, 1760, 1760, 1760, 1760, 1760, 1760, 1760, 1760, 1760, 1760, 1760, 1760, 1760, 1760, 1760, 1780, 1780, 1780, 1780, 1780, 1780, 1780, 1780, 1780, 1780, 1780, 1780, 1780, 1780, 1780, 1780, 1800, 1800, 1800, 1800, 1800, 1800, 1800, 1800, 1800, 1800, 1800, 1800, 1800, 1800, 1800, 1800, 1820, 1820, 1820, 1820, 1820, 1820, 1820, 1820, 1820, 1820, 1820, 1820, 1820, 1820, 1820, 1820, 1840, 1840, 1840, 1840, 1840, 1840, 1840, 1840, 1840, 1840, 1840, 1840, 1840, 1860, 1860, 1860, 1860, 1860, 1860, 1860, 1860, 1860, 1860, 1860, 1860, 1860, 1880, 1880, 1880, 1880, 1880, 1880, 1880, 1880, 1880, 1880, 1880], \"xaxis\": \"x\", \"y\": [1.0, 2.0, 3.0, 4.0, 5.0, 6.0, 7.0, 8.0, 9.0, 10.0, 11.0, 1.0, 2.0, 3.0, 4.0, 5.0, 6.0, 7.0, 8.0, 9.0, 10.0, 11.0, 12.0, 13.0, 14.0, 15.0, 16.0, 17.0, 1.0, 2.0, 3.0, 4.0, 5.0, 6.0, 7.0, 8.0, 9.0, 10.0, 11.0, 12.0, 13.0, 14.0, 15.0, 16.0, 1.0, 2.0, 3.0, 4.0, 5.0, 6.0, 7.0, 8.0, 9.0, 10.0, 11.0, 12.0, 13.0, 14.0, 15.0, 16.0, 1.0, 2.0, 3.0, 4.0, 5.0, 6.0, 7.0, 8.0, 9.0, 10.0, 11.0, 12.0, 13.0, 14.0, 15.0, 16.0, 1.0, 2.0, 3.0, 4.0, 5.0, 6.0, 7.0, 8.0, 9.0, 10.0, 11.0, 12.0, 13.0, 14.0, 15.0, 16.0, 1.0, 2.0, 3.0, 4.0, 5.0, 6.0, 7.0, 8.0, 9.0, 10.0, 11.0, 12.0, 13.0, 1.0, 2.0, 3.0, 4.0, 5.0, 6.0, 7.0, 8.0, 9.0, 10.0, 11.0, 12.0, 13.0, 1.0, 2.0, 3.0, 4.0, 5.0, 6.0, 7.0, 8.0, 9.0, 10.0, 11.0], \"yaxis\": \"y\"}],                        {\"template\": {\"data\": {\"bar\": [{\"error_x\": {\"color\": \"rgb(36,36,36)\"}, \"error_y\": {\"color\": \"rgb(36,36,36)\"}, \"marker\": {\"line\": {\"color\": \"white\", \"width\": 0.5}}, \"type\": \"bar\"}], \"barpolar\": [{\"marker\": {\"line\": {\"color\": \"white\", \"width\": 0.5}}, \"type\": \"barpolar\"}], \"carpet\": [{\"aaxis\": {\"endlinecolor\": \"rgb(36,36,36)\", \"gridcolor\": \"white\", \"linecolor\": \"white\", \"minorgridcolor\": \"white\", \"startlinecolor\": \"rgb(36,36,36)\"}, \"baxis\": {\"endlinecolor\": \"rgb(36,36,36)\", \"gridcolor\": \"white\", \"linecolor\": \"white\", \"minorgridcolor\": \"white\", \"startlinecolor\": \"rgb(36,36,36)\"}, \"type\": \"carpet\"}], \"choropleth\": [{\"colorbar\": {\"outlinewidth\": 1, \"tickcolor\": \"rgb(36,36,36)\", \"ticks\": \"outside\"}, \"type\": \"choropleth\"}], \"contour\": [{\"colorbar\": {\"outlinewidth\": 1, \"tickcolor\": \"rgb(36,36,36)\", \"ticks\": \"outside\"}, \"colorscale\": [[0.0, \"#440154\"], [0.1111111111111111, \"#482878\"], [0.2222222222222222, \"#3e4989\"], [0.3333333333333333, \"#31688e\"], [0.4444444444444444, \"#26828e\"], [0.5555555555555556, \"#1f9e89\"], [0.6666666666666666, \"#35b779\"], [0.7777777777777778, \"#6ece58\"], [0.8888888888888888, \"#b5de2b\"], [1.0, \"#fde725\"]], \"type\": \"contour\"}], \"contourcarpet\": [{\"colorbar\": {\"outlinewidth\": 1, \"tickcolor\": \"rgb(36,36,36)\", \"ticks\": \"outside\"}, \"type\": \"contourcarpet\"}], \"heatmap\": [{\"colorbar\": {\"outlinewidth\": 1, \"tickcolor\": \"rgb(36,36,36)\", \"ticks\": \"outside\"}, \"colorscale\": [[0.0, \"#440154\"], [0.1111111111111111, \"#482878\"], [0.2222222222222222, \"#3e4989\"], [0.3333333333333333, \"#31688e\"], [0.4444444444444444, \"#26828e\"], [0.5555555555555556, \"#1f9e89\"], [0.6666666666666666, \"#35b779\"], [0.7777777777777778, \"#6ece58\"], [0.8888888888888888, \"#b5de2b\"], [1.0, \"#fde725\"]], \"type\": \"heatmap\"}], \"heatmapgl\": [{\"colorbar\": {\"outlinewidth\": 1, \"tickcolor\": \"rgb(36,36,36)\", \"ticks\": \"outside\"}, \"colorscale\": [[0.0, \"#440154\"], [0.1111111111111111, \"#482878\"], [0.2222222222222222, \"#3e4989\"], [0.3333333333333333, \"#31688e\"], [0.4444444444444444, \"#26828e\"], [0.5555555555555556, \"#1f9e89\"], [0.6666666666666666, \"#35b779\"], [0.7777777777777778, \"#6ece58\"], [0.8888888888888888, \"#b5de2b\"], [1.0, \"#fde725\"]], \"type\": \"heatmapgl\"}], \"histogram\": [{\"marker\": {\"line\": {\"color\": \"white\", \"width\": 0.6}}, \"type\": \"histogram\"}], \"histogram2d\": [{\"colorbar\": {\"outlinewidth\": 1, \"tickcolor\": \"rgb(36,36,36)\", \"ticks\": \"outside\"}, \"colorscale\": [[0.0, \"#440154\"], [0.1111111111111111, \"#482878\"], [0.2222222222222222, \"#3e4989\"], [0.3333333333333333, \"#31688e\"], [0.4444444444444444, \"#26828e\"], [0.5555555555555556, \"#1f9e89\"], [0.6666666666666666, \"#35b779\"], [0.7777777777777778, \"#6ece58\"], [0.8888888888888888, \"#b5de2b\"], [1.0, \"#fde725\"]], \"type\": \"histogram2d\"}], \"histogram2dcontour\": [{\"colorbar\": {\"outlinewidth\": 1, \"tickcolor\": \"rgb(36,36,36)\", \"ticks\": \"outside\"}, \"colorscale\": [[0.0, \"#440154\"], [0.1111111111111111, \"#482878\"], [0.2222222222222222, \"#3e4989\"], [0.3333333333333333, \"#31688e\"], [0.4444444444444444, \"#26828e\"], [0.5555555555555556, \"#1f9e89\"], [0.6666666666666666, \"#35b779\"], [0.7777777777777778, \"#6ece58\"], [0.8888888888888888, \"#b5de2b\"], [1.0, \"#fde725\"]], \"type\": \"histogram2dcontour\"}], \"mesh3d\": [{\"colorbar\": {\"outlinewidth\": 1, \"tickcolor\": \"rgb(36,36,36)\", \"ticks\": \"outside\"}, \"type\": \"mesh3d\"}], \"parcoords\": [{\"line\": {\"colorbar\": {\"outlinewidth\": 1, \"tickcolor\": \"rgb(36,36,36)\", \"ticks\": \"outside\"}}, \"type\": \"parcoords\"}], \"pie\": [{\"automargin\": true, \"type\": \"pie\"}], \"scatter\": [{\"marker\": {\"colorbar\": {\"outlinewidth\": 1, \"tickcolor\": \"rgb(36,36,36)\", \"ticks\": \"outside\"}}, \"type\": \"scatter\"}], \"scatter3d\": [{\"line\": {\"colorbar\": {\"outlinewidth\": 1, \"tickcolor\": \"rgb(36,36,36)\", \"ticks\": \"outside\"}}, \"marker\": {\"colorbar\": {\"outlinewidth\": 1, \"tickcolor\": \"rgb(36,36,36)\", \"ticks\": \"outside\"}}, \"type\": \"scatter3d\"}], \"scattercarpet\": [{\"marker\": {\"colorbar\": {\"outlinewidth\": 1, \"tickcolor\": \"rgb(36,36,36)\", \"ticks\": \"outside\"}}, \"type\": \"scattercarpet\"}], \"scattergeo\": [{\"marker\": {\"colorbar\": {\"outlinewidth\": 1, \"tickcolor\": \"rgb(36,36,36)\", \"ticks\": \"outside\"}}, \"type\": \"scattergeo\"}], \"scattergl\": [{\"marker\": {\"colorbar\": {\"outlinewidth\": 1, \"tickcolor\": \"rgb(36,36,36)\", \"ticks\": \"outside\"}}, \"type\": \"scattergl\"}], \"scattermapbox\": [{\"marker\": {\"colorbar\": {\"outlinewidth\": 1, \"tickcolor\": \"rgb(36,36,36)\", \"ticks\": \"outside\"}}, \"type\": \"scattermapbox\"}], \"scatterpolar\": [{\"marker\": {\"colorbar\": {\"outlinewidth\": 1, \"tickcolor\": \"rgb(36,36,36)\", \"ticks\": \"outside\"}}, \"type\": \"scatterpolar\"}], \"scatterpolargl\": [{\"marker\": {\"colorbar\": {\"outlinewidth\": 1, \"tickcolor\": \"rgb(36,36,36)\", \"ticks\": \"outside\"}}, \"type\": \"scatterpolargl\"}], \"scatterternary\": [{\"marker\": {\"colorbar\": {\"outlinewidth\": 1, \"tickcolor\": \"rgb(36,36,36)\", \"ticks\": \"outside\"}}, \"type\": \"scatterternary\"}], \"surface\": [{\"colorbar\": {\"outlinewidth\": 1, \"tickcolor\": \"rgb(36,36,36)\", \"ticks\": \"outside\"}, \"colorscale\": [[0.0, \"#440154\"], [0.1111111111111111, \"#482878\"], [0.2222222222222222, \"#3e4989\"], [0.3333333333333333, \"#31688e\"], [0.4444444444444444, \"#26828e\"], [0.5555555555555556, \"#1f9e89\"], [0.6666666666666666, \"#35b779\"], [0.7777777777777778, \"#6ece58\"], [0.8888888888888888, \"#b5de2b\"], [1.0, \"#fde725\"]], \"type\": \"surface\"}], \"table\": [{\"cells\": {\"fill\": {\"color\": \"rgb(237,237,237)\"}, \"line\": {\"color\": \"white\"}}, \"header\": {\"fill\": {\"color\": \"rgb(217,217,217)\"}, \"line\": {\"color\": \"white\"}}, \"type\": \"table\"}]}, \"layout\": {\"annotationdefaults\": {\"arrowhead\": 0, \"arrowwidth\": 1}, \"coloraxis\": {\"colorbar\": {\"outlinewidth\": 1, \"tickcolor\": \"rgb(36,36,36)\", \"ticks\": \"outside\"}}, \"colorscale\": {\"diverging\": [[0.0, \"rgb(103,0,31)\"], [0.1, \"rgb(178,24,43)\"], [0.2, \"rgb(214,96,77)\"], [0.3, \"rgb(244,165,130)\"], [0.4, \"rgb(253,219,199)\"], [0.5, \"rgb(247,247,247)\"], [0.6, \"rgb(209,229,240)\"], [0.7, \"rgb(146,197,222)\"], [0.8, \"rgb(67,147,195)\"], [0.9, \"rgb(33,102,172)\"], [1.0, \"rgb(5,48,97)\"]], \"sequential\": [[0.0, \"#440154\"], [0.1111111111111111, \"#482878\"], [0.2222222222222222, \"#3e4989\"], [0.3333333333333333, \"#31688e\"], [0.4444444444444444, \"#26828e\"], [0.5555555555555556, \"#1f9e89\"], [0.6666666666666666, \"#35b779\"], [0.7777777777777778, \"#6ece58\"], [0.8888888888888888, \"#b5de2b\"], [1.0, \"#fde725\"]], \"sequentialminus\": [[0.0, \"#440154\"], [0.1111111111111111, \"#482878\"], [0.2222222222222222, \"#3e4989\"], [0.3333333333333333, \"#31688e\"], [0.4444444444444444, \"#26828e\"], [0.5555555555555556, \"#1f9e89\"], [0.6666666666666666, \"#35b779\"], [0.7777777777777778, \"#6ece58\"], [0.8888888888888888, \"#b5de2b\"], [1.0, \"#fde725\"]]}, \"colorway\": [\"#1F77B4\", \"#FF7F0E\", \"#2CA02C\", \"#D62728\", \"#9467BD\", \"#8C564B\", \"#E377C2\", \"#7F7F7F\", \"#BCBD22\", \"#17BECF\"], \"font\": {\"color\": \"rgb(36,36,36)\"}, \"geo\": {\"bgcolor\": \"white\", \"lakecolor\": \"white\", \"landcolor\": \"white\", \"showlakes\": true, \"showland\": true, \"subunitcolor\": \"white\"}, \"hoverlabel\": {\"align\": \"left\"}, \"hovermode\": \"closest\", \"mapbox\": {\"style\": \"light\"}, \"paper_bgcolor\": \"white\", \"plot_bgcolor\": \"white\", \"polar\": {\"angularaxis\": {\"gridcolor\": \"rgb(232,232,232)\", \"linecolor\": \"rgb(36,36,36)\", \"showgrid\": false, \"showline\": true, \"ticks\": \"outside\"}, \"bgcolor\": \"white\", \"radialaxis\": {\"gridcolor\": \"rgb(232,232,232)\", \"linecolor\": \"rgb(36,36,36)\", \"showgrid\": false, \"showline\": true, \"ticks\": \"outside\"}}, \"scene\": {\"xaxis\": {\"backgroundcolor\": \"white\", \"gridcolor\": \"rgb(232,232,232)\", \"gridwidth\": 2, \"linecolor\": \"rgb(36,36,36)\", \"showbackground\": true, \"showgrid\": false, \"showline\": true, \"ticks\": \"outside\", \"zeroline\": false, \"zerolinecolor\": \"rgb(36,36,36)\"}, \"yaxis\": {\"backgroundcolor\": \"white\", \"gridcolor\": \"rgb(232,232,232)\", \"gridwidth\": 2, \"linecolor\": \"rgb(36,36,36)\", \"showbackground\": true, \"showgrid\": false, \"showline\": true, \"ticks\": \"outside\", \"zeroline\": false, \"zerolinecolor\": \"rgb(36,36,36)\"}, \"zaxis\": {\"backgroundcolor\": \"white\", \"gridcolor\": \"rgb(232,232,232)\", \"gridwidth\": 2, \"linecolor\": \"rgb(36,36,36)\", \"showbackground\": true, \"showgrid\": false, \"showline\": true, \"ticks\": \"outside\", \"zeroline\": false, \"zerolinecolor\": \"rgb(36,36,36)\"}}, \"shapedefaults\": {\"fillcolor\": \"black\", \"line\": {\"width\": 0}, \"opacity\": 0.3}, \"ternary\": {\"aaxis\": {\"gridcolor\": \"rgb(232,232,232)\", \"linecolor\": \"rgb(36,36,36)\", \"showgrid\": false, \"showline\": true, \"ticks\": \"outside\"}, \"baxis\": {\"gridcolor\": \"rgb(232,232,232)\", \"linecolor\": \"rgb(36,36,36)\", \"showgrid\": false, \"showline\": true, \"ticks\": \"outside\"}, \"bgcolor\": \"white\", \"caxis\": {\"gridcolor\": \"rgb(232,232,232)\", \"linecolor\": \"rgb(36,36,36)\", \"showgrid\": false, \"showline\": true, \"ticks\": \"outside\"}}, \"title\": {\"x\": 0.05}, \"xaxis\": {\"automargin\": true, \"gridcolor\": \"rgb(232,232,232)\", \"linecolor\": \"rgb(36,36,36)\", \"showgrid\": false, \"showline\": true, \"ticks\": \"outside\", \"title\": {\"standoff\": 15}, \"zeroline\": false, \"zerolinecolor\": \"rgb(36,36,36)\"}, \"yaxis\": {\"automargin\": true, \"gridcolor\": \"rgb(232,232,232)\", \"linecolor\": \"rgb(36,36,36)\", \"showgrid\": false, \"showline\": true, \"ticks\": \"outside\", \"title\": {\"standoff\": 15}, \"zeroline\": false, \"zerolinecolor\": \"rgb(36,36,36)\"}}}, \"yaxis\": {\"autorange\": \"reversed\"}},                        {\"responsive\": true}                    ).then(function(){\n",
       "                            \n",
       "var gd = document.getElementById('564b3ad4-d0a5-4654-8945-1fd054c0324a');\n",
       "var x = new MutationObserver(function (mutations, observer) {{\n",
       "        var display = window.getComputedStyle(gd).display;\n",
       "        if (!display || display === 'none') {{\n",
       "            console.log([gd, 'removed!']);\n",
       "            Plotly.purge(gd);\n",
       "            observer.disconnect();\n",
       "        }}\n",
       "}});\n",
       "\n",
       "// Listen for the removal of the full notebook cells\n",
       "var notebookContainer = gd.closest('#notebook-container');\n",
       "if (notebookContainer) {{\n",
       "    x.observe(notebookContainer, {childList: true});\n",
       "}}\n",
       "\n",
       "// Listen for the clearing of the current output cell\n",
       "var outputEl = gd.closest('.output');\n",
       "if (outputEl) {{\n",
       "    x.observe(outputEl, {childList: true});\n",
       "}}\n",
       "\n",
       "                        })                };                });            </script>        </div>"
      ]
     },
     "metadata": {},
     "output_type": "display_data"
    }
   ],
   "source": [
    "fig1 = px.scatter(figdf_nbr, x='period', y='rank', text='neighbor',opacity=0)\n",
    "fig2 = px.line(figdf_nbr, x='period', y='rank',line_group='neighbor')\n",
    "fig2.update_traces(line=dict(color=\"silver\", width=0.5))\n",
    "fig3=go.Figure(data=fig2.data + fig1.data)\n",
    "fig3.update_yaxes(autorange='reversed')\n",
    "fig3"
   ]
  },
  {
   "cell_type": "code",
   "execution_count": 43,
   "metadata": {},
   "outputs": [],
   "source": [
    "go.Figure??"
   ]
  },
  {
   "cell_type": "code",
   "execution_count": 18,
   "metadata": {},
   "outputs": [],
   "source": [
    "px.scatter??"
   ]
  },
  {
   "cell_type": "code",
   "execution_count": 9,
   "metadata": {},
   "outputs": [],
   "source": [
    "plot_nbrs??"
   ]
  },
  {
   "cell_type": "code",
   "execution_count": 7,
   "metadata": {},
   "outputs": [
    {
     "data": {
      "text/html": [
       "<div>\n",
       "<style scoped>\n",
       "    .dataframe tbody tr th:only-of-type {\n",
       "        vertical-align: middle;\n",
       "    }\n",
       "\n",
       "    .dataframe tbody tr th {\n",
       "        vertical-align: top;\n",
       "    }\n",
       "\n",
       "    .dataframe thead th {\n",
       "        text-align: right;\n",
       "    }\n",
       "</style>\n",
       "<table border=\"1\" class=\"dataframe\">\n",
       "  <thead>\n",
       "    <tr style=\"text-align: right;\">\n",
       "      <th></th>\n",
       "      <th>neighbor</th>\n",
       "      <th>period</th>\n",
       "      <th>score</th>\n",
       "      <th>rank</th>\n",
       "    </tr>\n",
       "  </thead>\n",
       "  <tbody>\n",
       "    <tr>\n",
       "      <th>12</th>\n",
       "      <td>manufacture</td>\n",
       "      <td>1720-1740</td>\n",
       "      <td>1.891066</td>\n",
       "      <td>1.0</td>\n",
       "    </tr>\n",
       "    <tr>\n",
       "      <th>28</th>\n",
       "      <td>urns</td>\n",
       "      <td>1720-1740</td>\n",
       "      <td>1.897352</td>\n",
       "      <td>2.0</td>\n",
       "    </tr>\n",
       "    <tr>\n",
       "      <th>22</th>\n",
       "      <td>salt</td>\n",
       "      <td>1720-1740</td>\n",
       "      <td>1.910552</td>\n",
       "      <td>3.0</td>\n",
       "    </tr>\n",
       "    <tr>\n",
       "      <th>10</th>\n",
       "      <td>industry</td>\n",
       "      <td>1720-1740</td>\n",
       "      <td>2.885393</td>\n",
       "      <td>4.0</td>\n",
       "    </tr>\n",
       "    <tr>\n",
       "      <th>8</th>\n",
       "      <td>habits</td>\n",
       "      <td>1720-1740</td>\n",
       "      <td>2.917415</td>\n",
       "      <td>5.0</td>\n",
       "    </tr>\n",
       "    <tr>\n",
       "      <th>...</th>\n",
       "      <td>...</td>\n",
       "      <td>...</td>\n",
       "      <td>...</td>\n",
       "      <td>...</td>\n",
       "    </tr>\n",
       "    <tr>\n",
       "      <th>273</th>\n",
       "      <td>pagan</td>\n",
       "      <td>1880-1900</td>\n",
       "      <td>33.899123</td>\n",
       "      <td>6.0</td>\n",
       "    </tr>\n",
       "    <tr>\n",
       "      <th>277</th>\n",
       "      <td>progressive</td>\n",
       "      <td>1880-1900</td>\n",
       "      <td>38.902566</td>\n",
       "      <td>7.0</td>\n",
       "    </tr>\n",
       "    <tr>\n",
       "      <th>256</th>\n",
       "      <td>agriculture</td>\n",
       "      <td>1880-1900</td>\n",
       "      <td>39.911074</td>\n",
       "      <td>8.0</td>\n",
       "    </tr>\n",
       "    <tr>\n",
       "      <th>264</th>\n",
       "      <td>habits</td>\n",
       "      <td>1880-1900</td>\n",
       "      <td>39.921081</td>\n",
       "      <td>9.0</td>\n",
       "    </tr>\n",
       "    <tr>\n",
       "      <th>257</th>\n",
       "      <td>cultivation</td>\n",
       "      <td>1880-1900</td>\n",
       "      <td>39.922537</td>\n",
       "      <td>10.0</td>\n",
       "    </tr>\n",
       "  </tbody>\n",
       "</table>\n",
       "<p>90 rows × 4 columns</p>\n",
       "</div>"
      ],
      "text/plain": [
       "        neighbor     period      score  rank\n",
       "12   manufacture  1720-1740   1.891066   1.0\n",
       "28          urns  1720-1740   1.897352   2.0\n",
       "22          salt  1720-1740   1.910552   3.0\n",
       "10      industry  1720-1740   2.885393   4.0\n",
       "8         habits  1720-1740   2.917415   5.0\n",
       "..           ...        ...        ...   ...\n",
       "273        pagan  1880-1900  33.899123   6.0\n",
       "277  progressive  1880-1900  38.902566   7.0\n",
       "256  agriculture  1880-1900  39.911074   8.0\n",
       "264       habits  1880-1900  39.921081   9.0\n",
       "257  cultivation  1880-1900  39.922537  10.0\n",
       "\n",
       "[90 rows x 4 columns]"
      ]
     },
     "execution_count": 7,
     "metadata": {},
     "output_type": "execute_result"
    }
   ],
   "source": [
    "figdf_nbr"
   ]
  },
  {
   "cell_type": "code",
   "execution_count": 4,
   "metadata": {},
   "outputs": [],
   "source": [
    "# with open('assets/style.css','w') as of:\n",
    "#     of.write('''\n",
    "# body { font-family: monospace}\n",
    "         \n",
    "             \n",
    "#     ''')\n",
    "    "
   ]
  },
  {
   "cell_type": "code",
   "execution_count": 6,
   "metadata": {},
   "outputs": [],
   "source": [
    "#get_tilts_sattelzeit(w)"
   ]
  },
  {
   "cell_type": "code",
   "execution_count": null,
   "metadata": {},
   "outputs": [],
   "source": []
  },
  {
   "cell_type": "code",
   "execution_count": null,
   "metadata": {},
   "outputs": [],
   "source": []
  },
  {
   "cell_type": "code",
   "execution_count": 13,
   "metadata": {},
   "outputs": [
    {
     "name": "stdout",
     "output_type": "stream",
     "text": [
      "Dash app running on http://192.168.1.163:8052/\n"
     ]
    }
   ],
   "source": [
    "# Build App\n",
    "app = JupyterDash(__name__,external_stylesheets=[dbc.themes.GRID])\n",
    "\n",
    "app.layout = dbc.Container([\n",
    "    dbc.Row(\n",
    "        html.H1(\"JupyterDash Demo\"),\n",
    "    ),\n",
    "    dbc.Row(\n",
    "        dcc.Input(id=\"word\", type=\"text\", value='culture', placeholder=\"culture\", debounce=True),\n",
    "    ),\n",
    "    dbc.Row(\n",
    "        [\n",
    "            dbc.Col(\n",
    "                html.Div([\n",
    "                    html.H3('Graph 1'),\n",
    "                    dcc.Graph(id='graph1'),\n",
    "                ]),\n",
    "#                 width=6\n",
    "            ),\n",
    "            dbc.Col(\n",
    "                html.Div([\n",
    "                    html.H3('Graph 2 '),\n",
    "                    dcc.Graph(id='graph2'),\n",
    "                ]),\n",
    "#                 width=6\n",
    "            )\n",
    "        ]\n",
    "    ),\n",
    "    dbc.Row(\n",
    "        DataTable(\n",
    "            id='dfcr',\n",
    "            data=[],\n",
    "            filter_action=\"native\",\n",
    "            sort_action=\"native\",\n",
    "#             sort_mode=\"multi\",\n",
    "#             column_selectable=\"single\",\n",
    "#             row_selectable=\"multi\",\n",
    "#             row_deletable=True,\n",
    "            selected_columns=[],\n",
    "            selected_rows=[],\n",
    "            page_action=\"native\",\n",
    "            page_current= 0,\n",
    "            page_size=25,\n",
    "        )\n",
    "    )\n",
    "],fluid=True)\n",
    "\n",
    "\n",
    "    \n",
    "\n",
    "# Define callback to update graph\n",
    "@app.callback(Output('graph1', 'figure'),Input(\"word\", \"value\"))\n",
    "def update_figure1(word):\n",
    "    o=plot_historical_semantic_distance_matrix_px(word)\n",
    "    return o\n",
    "\n",
    "@app.callback(Output('graph2', 'figure'),Input(\"word\", \"value\"))\n",
    "def update_figure2(word):\n",
    "    o=plot_historical_semantic_distance_matrix_px('culture')\n",
    "    return o\n",
    "\n",
    "\n",
    "@app.callback(\n",
    "    [Output(\"dfcr\", \"data\"), Output('dfcr', 'columns')],\n",
    "    Input(\"word\", \"value\")\n",
    ")\n",
    "def update_dfcr(word):\n",
    "    df=get_tilts_sattelzeit_word(word).reset_index()\n",
    "    columns=[\n",
    "        dict(\n",
    "            name=col,\n",
    "            id=col,\n",
    "#             format=FormatTemplate.percentage(1)\n",
    "        )\n",
    "        for col in df.columns\n",
    "    ]\n",
    "    return round(df,1).to_dict('records'), columns\n",
    "\n",
    "# Run app and display result inline in the notebook\n",
    "app.run_server(host='192.168.1.163',port=8052,debug=True)"
   ]
  },
  {
   "cell_type": "code",
   "execution_count": 14,
   "metadata": {},
   "outputs": [],
   "source": [
    "dff=get_tilts_sattelzeit()"
   ]
  },
  {
   "cell_type": "code",
   "execution_count": 15,
   "metadata": {},
   "outputs": [
    {
     "data": {
      "text/html": [
       "<div>\n",
       "<style scoped>\n",
       "    .dataframe tbody tr th:only-of-type {\n",
       "        vertical-align: middle;\n",
       "    }\n",
       "\n",
       "    .dataframe tbody tr th {\n",
       "        vertical-align: top;\n",
       "    }\n",
       "\n",
       "    .dataframe thead th {\n",
       "        text-align: right;\n",
       "    }\n",
       "</style>\n",
       "<table border=\"1\" class=\"dataframe\">\n",
       "  <thead>\n",
       "    <tr style=\"text-align: right;\">\n",
       "      <th></th>\n",
       "      <th></th>\n",
       "      <th>1700-1770</th>\n",
       "      <th>(I)</th>\n",
       "      <th>1770-1830</th>\n",
       "      <th>(II)</th>\n",
       "      <th>1830-1900</th>\n",
       "      <th>(III)</th>\n",
       "      <th>abs(III)</th>\n",
       "      <th>change</th>\n",
       "      <th>change_magnitude</th>\n",
       "    </tr>\n",
       "    <tr>\n",
       "      <th>word</th>\n",
       "      <th>vector</th>\n",
       "      <th></th>\n",
       "      <th></th>\n",
       "      <th></th>\n",
       "      <th></th>\n",
       "      <th></th>\n",
       "      <th></th>\n",
       "      <th></th>\n",
       "      <th></th>\n",
       "      <th></th>\n",
       "    </tr>\n",
       "  </thead>\n",
       "  <tbody>\n",
       "    <tr>\n",
       "      <th rowspan=\"5\" valign=\"top\">abandon</th>\n",
       "      <th>Collective-Indiv.RH</th>\n",
       "      <td>15.625464</td>\n",
       "      <td>12.249344</td>\n",
       "      <td>27.874808</td>\n",
       "      <td>31.447740</td>\n",
       "      <td>59.322548</td>\n",
       "      <td>43.697084</td>\n",
       "      <td>43.697084</td>\n",
       "      <td>+Collective</td>\n",
       "      <td>43.697084</td>\n",
       "    </tr>\n",
       "    <tr>\n",
       "      <th>Polit-Acad.HGI</th>\n",
       "      <td>97.739763</td>\n",
       "      <td>-5.800366</td>\n",
       "      <td>91.939397</td>\n",
       "      <td>-3.259766</td>\n",
       "      <td>88.679631</td>\n",
       "      <td>-9.060133</td>\n",
       "      <td>9.060133</td>\n",
       "      <td>+Acad</td>\n",
       "      <td>9.060133</td>\n",
       "    </tr>\n",
       "    <tr>\n",
       "      <th>Woman-Man.VG</th>\n",
       "      <td>26.445140</td>\n",
       "      <td>29.561940</td>\n",
       "      <td>56.007080</td>\n",
       "      <td>1.936550</td>\n",
       "      <td>57.943630</td>\n",
       "      <td>31.498490</td>\n",
       "      <td>31.498490</td>\n",
       "      <td>+Woman</td>\n",
       "      <td>31.498490</td>\n",
       "    </tr>\n",
       "    <tr>\n",
       "      <th>Pos-Neg.HGI</th>\n",
       "      <td>37.810690</td>\n",
       "      <td>4.473437</td>\n",
       "      <td>42.284126</td>\n",
       "      <td>18.527504</td>\n",
       "      <td>60.811630</td>\n",
       "      <td>23.000941</td>\n",
       "      <td>23.000941</td>\n",
       "      <td>+Pos</td>\n",
       "      <td>23.000941</td>\n",
       "    </tr>\n",
       "    <tr>\n",
       "      <th>Abs-Conc.Median</th>\n",
       "      <td>90.022652</td>\n",
       "      <td>0.243229</td>\n",
       "      <td>90.265881</td>\n",
       "      <td>6.988662</td>\n",
       "      <td>97.254543</td>\n",
       "      <td>7.231891</td>\n",
       "      <td>7.231891</td>\n",
       "      <td>+Abs</td>\n",
       "      <td>7.231891</td>\n",
       "    </tr>\n",
       "    <tr>\n",
       "      <th>...</th>\n",
       "      <th>...</th>\n",
       "      <td>...</td>\n",
       "      <td>...</td>\n",
       "      <td>...</td>\n",
       "      <td>...</td>\n",
       "      <td>...</td>\n",
       "      <td>...</td>\n",
       "      <td>...</td>\n",
       "      <td>...</td>\n",
       "      <td>...</td>\n",
       "    </tr>\n",
       "    <tr>\n",
       "      <th rowspan=\"5\" valign=\"top\">zoo</th>\n",
       "      <th>Interp-Desc.HGI</th>\n",
       "      <td>17.982250</td>\n",
       "      <td>-9.461182</td>\n",
       "      <td>8.521067</td>\n",
       "      <td>17.834951</td>\n",
       "      <td>26.356018</td>\n",
       "      <td>8.373768</td>\n",
       "      <td>8.373768</td>\n",
       "      <td></td>\n",
       "      <td>8.373768</td>\n",
       "    </tr>\n",
       "    <tr>\n",
       "      <th>Woman-Man.VG</th>\n",
       "      <td>44.160643</td>\n",
       "      <td>-18.560306</td>\n",
       "      <td>25.600337</td>\n",
       "      <td>27.278185</td>\n",
       "      <td>52.878522</td>\n",
       "      <td>8.717879</td>\n",
       "      <td>8.717879</td>\n",
       "      <td></td>\n",
       "      <td>8.717879</td>\n",
       "    </tr>\n",
       "    <tr>\n",
       "      <th>Judg-Perc.HGI</th>\n",
       "      <td>70.359459</td>\n",
       "      <td>-0.233946</td>\n",
       "      <td>70.125514</td>\n",
       "      <td>-6.850027</td>\n",
       "      <td>63.275486</td>\n",
       "      <td>-7.083973</td>\n",
       "      <td>7.083973</td>\n",
       "      <td></td>\n",
       "      <td>7.083973</td>\n",
       "    </tr>\n",
       "    <tr>\n",
       "      <th>Abs-Conc.Median</th>\n",
       "      <td>16.220231</td>\n",
       "      <td>-9.482225</td>\n",
       "      <td>6.738006</td>\n",
       "      <td>12.675150</td>\n",
       "      <td>19.413155</td>\n",
       "      <td>3.192925</td>\n",
       "      <td>3.192925</td>\n",
       "      <td></td>\n",
       "      <td>3.192925</td>\n",
       "    </tr>\n",
       "    <tr>\n",
       "      <th>Time-Space.HGI</th>\n",
       "      <td>56.765856</td>\n",
       "      <td>-1.755211</td>\n",
       "      <td>55.010645</td>\n",
       "      <td>2.085087</td>\n",
       "      <td>57.095732</td>\n",
       "      <td>0.329876</td>\n",
       "      <td>0.329876</td>\n",
       "      <td></td>\n",
       "      <td>0.329876</td>\n",
       "    </tr>\n",
       "  </tbody>\n",
       "</table>\n",
       "<p>161576 rows × 9 columns</p>\n",
       "</div>"
      ],
      "text/plain": [
       "                             1700-1770        (I)  1770-1830       (II)  \\\n",
       "word    vector                                                            \n",
       "abandon Collective-Indiv.RH  15.625464  12.249344  27.874808  31.447740   \n",
       "        Polit-Acad.HGI       97.739763  -5.800366  91.939397  -3.259766   \n",
       "        Woman-Man.VG         26.445140  29.561940  56.007080   1.936550   \n",
       "        Pos-Neg.HGI          37.810690   4.473437  42.284126  18.527504   \n",
       "        Abs-Conc.Median      90.022652   0.243229  90.265881   6.988662   \n",
       "...                                ...        ...        ...        ...   \n",
       "zoo     Interp-Desc.HGI      17.982250  -9.461182   8.521067  17.834951   \n",
       "        Woman-Man.VG         44.160643 -18.560306  25.600337  27.278185   \n",
       "        Judg-Perc.HGI        70.359459  -0.233946  70.125514  -6.850027   \n",
       "        Abs-Conc.Median      16.220231  -9.482225   6.738006  12.675150   \n",
       "        Time-Space.HGI       56.765856  -1.755211  55.010645   2.085087   \n",
       "\n",
       "                             1830-1900      (III)   abs(III)       change  \\\n",
       "word    vector                                                              \n",
       "abandon Collective-Indiv.RH  59.322548  43.697084  43.697084  +Collective   \n",
       "        Polit-Acad.HGI       88.679631  -9.060133   9.060133        +Acad   \n",
       "        Woman-Man.VG         57.943630  31.498490  31.498490       +Woman   \n",
       "        Pos-Neg.HGI          60.811630  23.000941  23.000941         +Pos   \n",
       "        Abs-Conc.Median      97.254543   7.231891   7.231891         +Abs   \n",
       "...                                ...        ...        ...          ...   \n",
       "zoo     Interp-Desc.HGI      26.356018   8.373768   8.373768                \n",
       "        Woman-Man.VG         52.878522   8.717879   8.717879                \n",
       "        Judg-Perc.HGI        63.275486  -7.083973   7.083973                \n",
       "        Abs-Conc.Median      19.413155   3.192925   3.192925                \n",
       "        Time-Space.HGI       57.095732   0.329876   0.329876                \n",
       "\n",
       "                             change_magnitude  \n",
       "word    vector                                 \n",
       "abandon Collective-Indiv.RH         43.697084  \n",
       "        Polit-Acad.HGI               9.060133  \n",
       "        Woman-Man.VG                31.498490  \n",
       "        Pos-Neg.HGI                 23.000941  \n",
       "        Abs-Conc.Median              7.231891  \n",
       "...                                       ...  \n",
       "zoo     Interp-Desc.HGI              8.373768  \n",
       "        Woman-Man.VG                 8.717879  \n",
       "        Judg-Perc.HGI                7.083973  \n",
       "        Abs-Conc.Median              3.192925  \n",
       "        Time-Space.HGI               0.329876  \n",
       "\n",
       "[161576 rows x 9 columns]"
      ]
     },
     "execution_count": 15,
     "metadata": {},
     "output_type": "execute_result"
    }
   ],
   "source": [
    "dff"
   ]
  },
  {
   "cell_type": "code",
   "execution_count": 9,
   "metadata": {},
   "outputs": [],
   "source": [
    "# dbc.Container??"
   ]
  },
  {
   "cell_type": "code",
   "execution_count": 10,
   "metadata": {},
   "outputs": [],
   "source": [
    "# app.css.append_css({'h3':{'color':'red'}})"
   ]
  },
  {
   "cell_type": "code",
   "execution_count": 11,
   "metadata": {},
   "outputs": [],
   "source": [
    "# dash_table.DataTable??"
   ]
  },
  {
   "cell_type": "code",
   "execution_count": null,
   "metadata": {},
   "outputs": [],
   "source": []
  },
  {
   "cell_type": "code",
   "execution_count": 12,
   "metadata": {},
   "outputs": [
    {
     "ename": "SyntaxError",
     "evalue": "invalid syntax (<ipython-input-12-e31264d54978>, line 1)",
     "output_type": "error",
     "traceback": [
      "\u001b[0;36m  File \u001b[0;32m\"<ipython-input-12-e31264d54978>\"\u001b[0;36m, line \u001b[0;32m1\u001b[0m\n\u001b[0;31m    dbv.`vo\u001b[0m\n\u001b[0m        ^\u001b[0m\n\u001b[0;31mSyntaxError\u001b[0m\u001b[0;31m:\u001b[0m invalid syntax\n"
     ]
    }
   ],
   "source": [
    "dbv.`vo"
   ]
  }
 ],
 "metadata": {
  "kernelspec": {
   "display_name": "Python 3",
   "language": "python",
   "name": "python3"
  },
  "language_info": {
   "codemirror_mode": {
    "name": "ipython",
    "version": 3
   },
   "file_extension": ".py",
   "mimetype": "text/x-python",
   "name": "python",
   "nbconvert_exporter": "python",
   "pygments_lexer": "ipython3",
   "version": "3.7.7"
  },
  "toc": {
   "base_numbering": 1,
   "nav_menu": {},
   "number_sections": false,
   "sideBar": false,
   "skip_h1_title": false,
   "title_cell": "Table of Contents",
   "title_sidebar": "Contents",
   "toc_cell": false,
   "toc_position": {},
   "toc_section_display": false,
   "toc_window_display": false
  },
  "widgets": {
   "application/vnd.jupyter.widget-state+json": {
    "state": {},
    "version_major": 2,
    "version_minor": 0
   }
  }
 },
 "nbformat": 4,
 "nbformat_minor": 4
}
