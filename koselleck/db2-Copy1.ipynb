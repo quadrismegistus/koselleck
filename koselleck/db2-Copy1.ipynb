{
 "cells": [
  {
   "cell_type": "markdown",
   "id": "62b38438-0ff3-46c5-9b24-92b9028348cb",
   "metadata": {},
   "source": [
    "# db2"
   ]
  },
  {
   "cell_type": "code",
   "execution_count": 1,
   "id": "c8ff0e11-bab1-4bfa-8250-50fc47a3487c",
   "metadata": {},
   "outputs": [],
   "source": [
    "from ipynb.fs.full.koselleck import *"
   ]
  },
  {
   "cell_type": "code",
   "execution_count": 2,
   "id": "10cbeaee",
   "metadata": {},
   "outputs": [],
   "source": [
    "!dropdb koselleck\n",
    "!createdb koselleck"
   ]
  },
  {
   "cell_type": "code",
   "execution_count": 3,
   "id": "8381acef-26de-4a65-9ecc-2458b395f617",
   "metadata": {},
   "outputs": [],
   "source": [
    "from peewee import *\n",
    "from playhouse.postgres_ext import *\n",
    "from datetime import datetime as dt\n",
    "from psycopg2.errors import UniqueViolation\n",
    "db=None"
   ]
  },
  {
   "cell_type": "markdown",
   "id": "1958f856",
   "metadata": {},
   "source": [
    "## Model definitions"
   ]
  },
  {
   "cell_type": "code",
   "execution_count": null,
   "id": "094a43bb",
   "metadata": {},
   "outputs": [],
   "source": []
  },
  {
   "cell_type": "code",
   "execution_count": 4,
   "id": "9acf57a9-0d7f-4ec9-9296-6e3208a6c6ab",
   "metadata": {},
   "outputs": [
    {
     "data": {
      "text/plain": [
       "True"
      ]
     },
     "execution_count": 4,
     "metadata": {},
     "output_type": "execute_result"
    }
   ],
   "source": [
    "db=PostgresqlExtDatabase('koselleck')\n",
    "# db = SqliteDatabase('../data/db2.koselleck.sqlite')\n",
    "db.connect()"
   ]
  },
  {
   "cell_type": "code",
   "execution_count": 5,
   "id": "54888961-e2d9-4472-8607-bc1a42defad4",
   "metadata": {},
   "outputs": [],
   "source": [
    "class BaseModel(Model):\n",
    "    class Meta:\n",
    "        database = db"
   ]
  },
  {
   "cell_type": "code",
   "execution_count": 6,
   "id": "3d981197-0791-4830-869a-4d7b23f6c196",
   "metadata": {},
   "outputs": [],
   "source": [
    "class Word(BaseModel):\n",
    "    word = CharField(unique=True)\n",
    "    pos = CharField()\n",
    "    pos0 = CharField()\n",
    "    is_valid = BooleanField()\n",
    "    count = IntegerField()\n",
    "    fpm = FloatField()\n",
    "    rank = IntegerField()"
   ]
  },
  {
   "cell_type": "code",
   "execution_count": 7,
   "id": "54bfa182",
   "metadata": {},
   "outputs": [],
   "source": [
    "class Period(BaseModel):\n",
    "    period = CharField(unique=True)\n",
    "    ymin = IntegerField()\n",
    "    ymax = IntegerField()\n",
    "    ybin = IntegerField()"
   ]
  },
  {
   "cell_type": "code",
   "execution_count": 8,
   "id": "556a9e48",
   "metadata": {},
   "outputs": [],
   "source": [
    "class Corpus(BaseModel):\n",
    "    corpus = CharField(unique=True)\n",
    "    name = CharField(unique=True)"
   ]
  },
  {
   "cell_type": "code",
   "execution_count": 13,
   "id": "13fda942",
   "metadata": {},
   "outputs": [],
   "source": [
    "class WordEmbedding(BaseModel):\n",
    "    path = CharField(unique=True)\n",
    "    period = ForeignKeyField(Period)\n",
    "    run = IntegerField()\n",
    "    corpus = ForeignKeyField(Corpus)\n",
    "    df = BlobField()"
   ]
  },
  {
   "cell_type": "code",
   "execution_count": 12,
   "id": "91d9ce33",
   "metadata": {},
   "outputs": [],
   "source": [
    "# class WordVector(BaseModel):\n",
    "#     word = ForeignKeyField(Word,backref='vectors')\n",
    "#     model = ForeignKeyField(Embedding,backref='vectors')\n",
    "#     vector = ArrayField(field_class=FloatField, index=False)"
   ]
  },
  {
   "cell_type": "code",
   "execution_count": 11,
   "id": "c43292f9-caf1-466c-bf2b-5dcb92d3d9c7",
   "metadata": {},
   "outputs": [
    {
     "ename": "NameError",
     "evalue": "name 'Vector' is not defined",
     "output_type": "error",
     "traceback": [
      "\u001b[0;31m---------------------------------------------------------------------------\u001b[0m",
      "\u001b[0;31mNameError\u001b[0m                                 Traceback (most recent call last)",
      "\u001b[0;32m<ipython-input-11-c1340e18ffe3>\u001b[0m in \u001b[0;36m<module>\u001b[0;34m\u001b[0m\n\u001b[0;32m----> 1\u001b[0;31m \u001b[0;32mclass\u001b[0m \u001b[0mVectorDistance\u001b[0m\u001b[0;34m(\u001b[0m\u001b[0mBaseModel\u001b[0m\u001b[0;34m)\u001b[0m\u001b[0;34m:\u001b[0m\u001b[0;34m\u001b[0m\u001b[0;34m\u001b[0m\u001b[0m\n\u001b[0m\u001b[1;32m      2\u001b[0m     \u001b[0mvector1\u001b[0m\u001b[0;34m=\u001b[0m\u001b[0mForeignKeyField\u001b[0m\u001b[0;34m(\u001b[0m\u001b[0mVector\u001b[0m\u001b[0;34m,\u001b[0m\u001b[0mbackref\u001b[0m\u001b[0;34m=\u001b[0m\u001b[0;34m'dists1'\u001b[0m\u001b[0;34m)\u001b[0m\u001b[0;34m\u001b[0m\u001b[0;34m\u001b[0m\u001b[0m\n\u001b[1;32m      3\u001b[0m     \u001b[0mvector2\u001b[0m\u001b[0;34m=\u001b[0m\u001b[0mForeignKeyField\u001b[0m\u001b[0;34m(\u001b[0m\u001b[0mVector\u001b[0m\u001b[0;34m,\u001b[0m\u001b[0mbackref\u001b[0m\u001b[0;34m=\u001b[0m\u001b[0;34m'dists2'\u001b[0m\u001b[0;34m)\u001b[0m\u001b[0;34m\u001b[0m\u001b[0;34m\u001b[0m\u001b[0m\n\u001b[1;32m      4\u001b[0m     \u001b[0mtype\u001b[0m \u001b[0;34m=\u001b[0m \u001b[0mCharField\u001b[0m\u001b[0;34m(\u001b[0m\u001b[0munique\u001b[0m\u001b[0;34m=\u001b[0m\u001b[0;32mFalse\u001b[0m\u001b[0;34m)\u001b[0m\u001b[0;34m\u001b[0m\u001b[0;34m\u001b[0m\u001b[0m\n\u001b[1;32m      5\u001b[0m     \u001b[0mvalue\u001b[0m \u001b[0;34m=\u001b[0m \u001b[0mFloatField\u001b[0m\u001b[0;34m(\u001b[0m\u001b[0;34m)\u001b[0m\u001b[0;34m\u001b[0m\u001b[0;34m\u001b[0m\u001b[0m\n",
      "\u001b[0;32m<ipython-input-11-c1340e18ffe3>\u001b[0m in \u001b[0;36mVectorDistance\u001b[0;34m()\u001b[0m\n\u001b[1;32m      1\u001b[0m \u001b[0;32mclass\u001b[0m \u001b[0mVectorDistance\u001b[0m\u001b[0;34m(\u001b[0m\u001b[0mBaseModel\u001b[0m\u001b[0;34m)\u001b[0m\u001b[0;34m:\u001b[0m\u001b[0;34m\u001b[0m\u001b[0;34m\u001b[0m\u001b[0m\n\u001b[0;32m----> 2\u001b[0;31m     \u001b[0mvector1\u001b[0m\u001b[0;34m=\u001b[0m\u001b[0mForeignKeyField\u001b[0m\u001b[0;34m(\u001b[0m\u001b[0mVector\u001b[0m\u001b[0;34m,\u001b[0m\u001b[0mbackref\u001b[0m\u001b[0;34m=\u001b[0m\u001b[0;34m'dists1'\u001b[0m\u001b[0;34m)\u001b[0m\u001b[0;34m\u001b[0m\u001b[0;34m\u001b[0m\u001b[0m\n\u001b[0m\u001b[1;32m      3\u001b[0m     \u001b[0mvector2\u001b[0m\u001b[0;34m=\u001b[0m\u001b[0mForeignKeyField\u001b[0m\u001b[0;34m(\u001b[0m\u001b[0mVector\u001b[0m\u001b[0;34m,\u001b[0m\u001b[0mbackref\u001b[0m\u001b[0;34m=\u001b[0m\u001b[0;34m'dists2'\u001b[0m\u001b[0;34m)\u001b[0m\u001b[0;34m\u001b[0m\u001b[0;34m\u001b[0m\u001b[0m\n\u001b[1;32m      4\u001b[0m     \u001b[0mtype\u001b[0m \u001b[0;34m=\u001b[0m \u001b[0mCharField\u001b[0m\u001b[0;34m(\u001b[0m\u001b[0munique\u001b[0m\u001b[0;34m=\u001b[0m\u001b[0;32mFalse\u001b[0m\u001b[0;34m)\u001b[0m\u001b[0;34m\u001b[0m\u001b[0;34m\u001b[0m\u001b[0m\n\u001b[1;32m      5\u001b[0m     \u001b[0mvalue\u001b[0m \u001b[0;34m=\u001b[0m \u001b[0mFloatField\u001b[0m\u001b[0;34m(\u001b[0m\u001b[0;34m)\u001b[0m\u001b[0;34m\u001b[0m\u001b[0;34m\u001b[0m\u001b[0m\n",
      "\u001b[0;31mNameError\u001b[0m: name 'Vector' is not defined"
     ]
    }
   ],
   "source": [
    "class VectorDistance(BaseModel):\n",
    "    vector1=ForeignKeyField(Vector,backref='dists1')\n",
    "    vector2=ForeignKeyField(Vector,backref='dists2')\n",
    "    type = CharField(unique=False)\n",
    "    value = FloatField()\n",
    "    rank = IntegerField()\n",
    "    z = FloatField()\n",
    "    perc = FloatField()"
   ]
  },
  {
   "cell_type": "markdown",
   "id": "fbb75644",
   "metadata": {},
   "source": [
    "## Init"
   ]
  },
  {
   "cell_type": "code",
   "execution_count": null,
   "id": "bef4dfbe",
   "metadata": {},
   "outputs": [],
   "source": []
  },
  {
   "cell_type": "code",
   "execution_count": null,
   "id": "56016e98",
   "metadata": {},
   "outputs": [],
   "source": [
    "models =[Corpus,Period,Embedding,Vector,WordVector,Word,VectorDistance]\n",
    "with db.atomic() as tx:\n",
    "    #db.drop_tables(models)\n",
    "    db.create_tables(models)"
   ]
  },
  {
   "cell_type": "markdown",
   "id": "a422ea93",
   "metadata": {},
   "source": [
    "## Ingest"
   ]
  },
  {
   "cell_type": "code",
   "execution_count": null,
   "id": "a4321a3a",
   "metadata": {},
   "outputs": [],
   "source": [
    "def ingest(cls, data_iter):\n",
    "    with db.atomic() as txn:\n",
    "        for d in data_iter:\n",
    "            try:\n",
    "                cls.create(**d)\n",
    "            except IntegrityError:\n",
    "                db.rollback()"
   ]
  },
  {
   "cell_type": "code",
   "execution_count": null,
   "id": "37ba4850",
   "metadata": {},
   "outputs": [],
   "source": [
    "\n",
    "ingest(Corpus, [dict(corpus='bpo',name='BPO'), dict(corpus='ecco',name='ECCO')])"
   ]
  },
  {
   "cell_type": "markdown",
   "id": "5300be8c",
   "metadata": {},
   "source": [
    "### Ingest words"
   ]
  },
  {
   "cell_type": "code",
   "execution_count": null,
   "id": "d02222d1",
   "metadata": {},
   "outputs": [],
   "source": [
    "done={w.name for w in Word.select()}"
   ]
  },
  {
   "cell_type": "code",
   "execution_count": null,
   "id": "da3781cc",
   "metadata": {},
   "outputs": [],
   "source": [
    "idf=get_corpus().mfw_df().reset_index()\n",
    "idf['is_valid']=idf['pos0'].isin({'n','v','j'})\n",
    "idf=idf[~idf.word.isin(done)]"
   ]
  },
  {
   "cell_type": "code",
   "execution_count": null,
   "id": "4694bd4a",
   "metadata": {},
   "outputs": [],
   "source": [
    "ingest(Word, idf.to_dict('records'))"
   ]
  },
  {
   "cell_type": "markdown",
   "id": "7f51f198",
   "metadata": {},
   "source": [
    "## Ingest periods\n"
   ]
  },
  {
   "cell_type": "code",
   "execution_count": null,
   "id": "11426b44",
   "metadata": {},
   "outputs": [],
   "source": [
    "period_lens={5,20,70}"
   ]
  },
  {
   "cell_type": "code",
   "execution_count": null,
   "id": "49138516",
   "metadata": {},
   "outputs": [],
   "source": [
    "# Models\n",
    "dfmodels = get_pathdf_models(period_len=None)\n",
    "dfmodels = dfmodels[dfmodels.period_len.isin(period_lens)]\n",
    "dfmodels"
   ]
  },
  {
   "cell_type": "markdown",
   "id": "cb428d98",
   "metadata": {},
   "source": [
    "### Periods"
   ]
  },
  {
   "cell_type": "code",
   "execution_count": null,
   "id": "f66e7308",
   "metadata": {},
   "outputs": [],
   "source": [
    "def ingest_periods(dfmodels):\n",
    "    df=dfmodels[['period','period_len','period_start','period_end']].drop_duplicates()\n",
    "    df.columns = ['period', 'ybin', 'ymin', 'ymax']\n",
    "    return ingest(Period, df.to_dict('records'))"
   ]
  },
  {
   "cell_type": "code",
   "execution_count": null,
   "id": "7c8d7dcc",
   "metadata": {},
   "outputs": [],
   "source": [
    "ingest_periods(dfmodels)"
   ]
  },
  {
   "cell_type": "code",
   "execution_count": null,
   "id": "e3bfcf2e",
   "metadata": {},
   "outputs": [],
   "source": [
    "# PATH_MODELS"
   ]
  },
  {
   "cell_type": "markdown",
   "id": "2b4189aa",
   "metadata": {},
   "source": [
    "## Ingest embeddings\n",
    "\n",
    "\n",
    "```python\n",
    "class Embedding(BaseModel):\n",
    "    path = CharField(unique=True)\n",
    "    period = ForeignKeyField(Period)\n",
    "    run = IntegerField()\n",
    "    corpus = ForeignKeyField(Corpus)\n",
    "```"
   ]
  },
  {
   "cell_type": "code",
   "execution_count": null,
   "id": "18c1f648",
   "metadata": {},
   "outputs": [],
   "source": [
    "def model_to_vectors(mpath):\n",
    "    m=load_model(mpath)\n",
    "    return pd.DataFrame(m.wv.vectors, index=[m.wv.index_to_key[i] for i in range(len(m.wv.vectors))])"
   ]
  },
  {
   "cell_type": "code",
   "execution_count": null,
   "id": "2cc06445",
   "metadata": {},
   "outputs": [],
   "source": [
    "# model_to_vectors(dfmodels.iloc[0].path)"
   ]
  },
  {
   "cell_type": "code",
   "execution_count": null,
   "id": "e1ccf01d",
   "metadata": {},
   "outputs": [],
   "source": [
    "def iter_ingest_models(dfmodels):\n",
    "    for i,row in dfmodels.iterrows():\n",
    "        yield dict(\n",
    "            path=os.path.relpath(row.path, PATH_MODELS),\n",
    "            period = Period.get(Period.period==row.period),\n",
    "            run = int(row.run.split('_')[-1]),\n",
    "            corpus = Corpus.get(Corpus.corpus==row.corpus),\n",
    "            df = model_to_vectors(row.path)\n",
    "        )"
   ]
  },
  {
   "cell_type": "code",
   "execution_count": null,
   "id": "21ac62d6",
   "metadata": {},
   "outputs": [],
   "source": [
    "next(iter_ingest_models(dfmodels))"
   ]
  },
  {
   "cell_type": "code",
   "execution_count": null,
   "id": "20bdbb15",
   "metadata": {},
   "outputs": [],
   "source": [
    "ingest(Embedding, iter_ingest_models(dfmodels))"
   ]
  },
  {
   "cell_type": "code",
   "execution_count": null,
   "id": "aded942b",
   "metadata": {},
   "outputs": [],
   "source": [
    "stop"
   ]
  },
  {
   "cell_type": "markdown",
   "id": "5f091441",
   "metadata": {},
   "source": [
    "### Vecs\n",
    "\n",
    "```python\n",
    "class WordVector(Vector):\n",
    "    word = ForeignKeyField(Word,backref='vectors')\n",
    "    model = ForeignKeyField(Embedding,backref='vectors')\n",
    "    vector = ArrayField(field_class=FloatField, index=False)\n",
    "```"
   ]
  },
  {
   "cell_type": "code",
   "execution_count": null,
   "id": "6206c650",
   "metadata": {},
   "outputs": [],
   "source": [
    "class "
   ]
  },
  {
   "cell_type": "code",
   "execution_count": null,
   "id": "93720222",
   "metadata": {},
   "outputs": [],
   "source": [
    "def ingest_vecs_from_model(row):\n",
    "    print(row)\n",
    "    m=load_model(row.path)\n",
    "    with db.atomic() as txn:\n",
    "        words={w.word for w in Word.select()}\n",
    "        pathid=os.path.relpath(row.path, PATH_MODELS)\n",
    "        for word,index in m.wv.key_to_index.items():\n",
    "            if word not in words: continue\n",
    "            vec=m.wv.vectors[index]\n",
    "            yield dict(\n",
    "                word=Word.get(Word.word==word),\n",
    "                model=Embedding.get(Embedding.path==pathid),\n",
    "                vector=np.array([float(x) for x in vec]),\n",
    "            )"
   ]
  },
  {
   "cell_type": "code",
   "execution_count": null,
   "id": "6a5805fd",
   "metadata": {},
   "outputs": [],
   "source": [
    "# next(ingest_vecs_from_model(dfmodels.iloc[0]))"
   ]
  },
  {
   "cell_type": "code",
   "execution_count": null,
   "id": "f5be4d48",
   "metadata": {},
   "outputs": [],
   "source": [
    "def iter_ingest_vecs(dfmodels):\n",
    "    paths=dfmodels.path\n",
    "    for iterr in pmap_iter(\n",
    "        ingest_vecs_from_model,\n",
    "        [row for i,row in dfmodels.iterrows()],\n",
    "        num_proc=1\n",
    "    ):\n",
    "        ingest(WordVector, iterr)\n",
    "        break"
   ]
  },
  {
   "cell_type": "code",
   "execution_count": null,
   "id": "205144f0",
   "metadata": {},
   "outputs": [],
   "source": [
    "# iter_ingest_vecs(dfmodels)"
   ]
  },
  {
   "cell_type": "code",
   "execution_count": null,
   "id": "c4b251c6",
   "metadata": {},
   "outputs": [],
   "source": [
    "\n",
    "# with db.atomic():\n",
    "#     x=WordVector.get(\n",
    "#         WordVector.word==Word.get(Word.word=='virtue')\n",
    "#     )\n",
    "#     print(x)"
   ]
  },
  {
   "cell_type": "raw",
   "id": "608dfbc7",
   "metadata": {},
   "source": []
  },
  {
   "cell_type": "code",
   "execution_count": null,
   "id": "da6b04a8",
   "metadata": {},
   "outputs": [],
   "source": [
    "def get_vecs_from_db(period, run=1):\n",
    "    with db.atomic():\n",
    "        vecs = WordVector.select().join(Embedding).where(\n",
    "            (Embedding.run==run) & (\n",
    "                Embedding.period==Period.get(\n",
    "                    Period.period==period\n",
    "                )\n",
    "            )\n",
    "        )\n",
    "        return pd.DataFrame(\n",
    "            dict((vec.word.word, vec.vector) for vec in tqdm(vecs))\n",
    "        )"
   ]
  },
  {
   "cell_type": "code",
   "execution_count": null,
   "id": "835acf82",
   "metadata": {},
   "outputs": [],
   "source": []
  },
  {
   "cell_type": "code",
   "execution_count": null,
   "id": "de40a82e",
   "metadata": {},
   "outputs": [],
   "source": [
    "get_vecs_from_db('1720-1740')"
   ]
  },
  {
   "cell_type": "code",
   "execution_count": null,
   "id": "464a53a3",
   "metadata": {},
   "outputs": [],
   "source": [
    "vec.word.word"
   ]
  },
  {
   "cell_type": "code",
   "execution_count": null,
   "id": "df8b2b55",
   "metadata": {},
   "outputs": [],
   "source": []
  }
 ],
 "metadata": {
  "kernelspec": {
   "display_name": "Python 3",
   "language": "python",
   "name": "python3"
  },
  "language_info": {
   "codemirror_mode": {
    "name": "ipython",
    "version": 3
   },
   "file_extension": ".py",
   "mimetype": "text/x-python",
   "name": "python",
   "nbconvert_exporter": "python",
   "pygments_lexer": "ipython3",
   "version": "3.8.5"
  },
  "widgets": {
   "application/vnd.jupyter.widget-state+json": {
    "state": {},
    "version_major": 2,
    "version_minor": 0
   }
  }
 },
 "nbformat": 4,
 "nbformat_minor": 5
}
