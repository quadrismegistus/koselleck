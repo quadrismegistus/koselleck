{
 "cells": [
  {
   "cell_type": "markdown",
   "metadata": {},
   "source": [
    "# koselleck\n",
    "Computing Koselleck book chapter\n"
   ]
  },
  {
   "cell_type": "code",
   "execution_count": 2,
   "metadata": {},
   "outputs": [],
   "source": [
    "# Every workbook here starts with this\n",
    "from ipynb.fs.full.koselleck import *"
   ]
  },
  {
   "cell_type": "markdown",
   "metadata": {},
   "source": [
    "## Workflow\n",
    "\n"
   ]
  },
  {
   "cell_type": "markdown",
   "metadata": {},
   "source": [
    "### 1. [Models](koselleck/models.ipynb): Generate word embedding models\n",
    "\n",
    "#### a. Generate skipgrams\n",
    "\n",
    "* Done with LLTK elsewhere\n"
   ]
  },
  {
   "cell_type": "markdown",
   "metadata": {},
   "source": [
    "#### b. Generate models\n",
    "\n",
    "```python\n",
    "def gen_models(\n",
    "        ybin=5,\n",
    "        ymin=1680,\n",
    "        ymax=1970,\n",
    "        num_runs=1,\n",
    "        force=False,\n",
    "        nskip_per_yr=NSKIP_PER_YR\n",
    "    )\n",
    "```\n",
    "\n",
    "* Prominent divisions:\n",
    "    * Half-decade: Used for semantic distance matrices and novelty data\n",
    "    * 20-Years: Used for one version of the neighborhood plots\n",
    "    * 40-years: used for another neighborhood plots\n"
   ]
  },
  {
   "cell_type": "markdown",
   "metadata": {},
   "source": [
    "\n",
    "### 2. [Vecs](koselleck/vecs.ipynb): Saving vector spaces to db\n",
    "\n",
    "* Function for loading and caching vectors:\n",
    "\n",
    "```python\n",
    "def vecs(period,run=1,corpus=DEFAULT_CORPUS,words=[]):\n",
    "    qstr=get_vec_qstr(period,run)\n",
    "    res=None\n",
    "    with get_veclib('vecs',autocommit=False) as vl:\n",
    "        if qstr in vl:\n",
    "            res=vl[qstr]\n",
    "        else:\n",
    "            mpath=os.path.join(PATH_MODELS,corpus,period,f'run_{run:02}','model.bin')\n",
    "            m=load_model(mpath)\n",
    "            data=m.wv.vectors\n",
    "            keys=[m.wv.index_to_key[i] for i in range(len(data))]\n",
    "            res=pd.DataFrame(data, index=keys)\n",
    "            vl[qstr]=res\n",
    "            vl.commit()            \n",
    "        if words: res=res.loc[[i for i in res.index if i in set(words)]]\n",
    "    return res\n",
    "```"
   ]
  },
  {
   "cell_type": "markdown",
   "metadata": {},
   "source": [
    "\n",
    "### 3. [wdist](koselleck/wdists.ipynb): Producing within-model distances"
   ]
  },
  {
   "cell_type": "markdown",
   "metadata": {},
   "source": [
    "### 4. Cdist"
   ]
  },
  {
   "cell_type": "markdown",
   "metadata": {},
   "source": [
    "### 5. Nbr"
   ]
  },
  {
   "cell_type": "markdown",
   "metadata": {},
   "source": [
    "### 6. LNM"
   ]
  },
  {
   "cell_type": "markdown",
   "metadata": {},
   "source": []
  },
  {
   "cell_type": "code",
   "execution_count": null,
   "metadata": {},
   "outputs": [],
   "source": []
  },
  {
   "cell_type": "code",
   "execution_count": null,
   "metadata": {},
   "outputs": [],
   "source": []
  },
  {
   "cell_type": "code",
   "execution_count": null,
   "metadata": {},
   "outputs": [],
   "source": []
  },
  {
   "cell_type": "code",
   "execution_count": null,
   "metadata": {},
   "outputs": [],
   "source": []
  },
  {
   "cell_type": "code",
   "execution_count": null,
   "metadata": {},
   "outputs": [],
   "source": []
  }
 ],
 "metadata": {
  "kernelspec": {
   "display_name": "Python 3",
   "language": "python",
   "name": "python3"
  },
  "language_info": {
   "codemirror_mode": {
    "name": "ipython",
    "version": 3
   },
   "file_extension": ".py",
   "mimetype": "text/x-python",
   "name": "python",
   "nbconvert_exporter": "python",
   "pygments_lexer": "ipython3",
   "version": "3.8.5"
  },
  "widgets": {
   "application/vnd.jupyter.widget-state+json": {
    "state": {
     "00438780f4fc4ee38b557a3dc641e03e": {
      "model_module": "@jupyter-widgets/base",
      "model_module_version": "1.2.0",
      "model_name": "LayoutModel",
      "state": {}
     },
     "039c67c81db7442fa785e53c2749ccce": {
      "model_module": "@jupyter-widgets/controls",
      "model_module_version": "1.5.0",
      "model_name": "HTMLModel",
      "state": {
       "layout": "IPY_MODEL_15bcd7f367474557a1e88fddb44462c4",
       "style": "IPY_MODEL_ad9862024c3e4d27ad2250905c2ff269",
       "value": "<table>\n<thead>\n<tr>\n<th align=\"left\">vector</th>\n<th align=\"left\">(I) 1700-1770</th>\n<th align=\"left\">(II) 1770-1830</th>\n<th align=\"left\">(III) 1830-1900</th>\n<th align=\"left\">(I)→(II)</th>\n<th align=\"left\">(II)→(III)</th>\n<th align=\"left\">(I)→(III)</th>\n</tr>\n</thead>\n<tbody>\n<tr>\n<td align=\"left\"><u>Ambig.NX</u></td>\n<td align=\"left\">31% Ambig</td>\n<td align=\"left\">43% Ambig</td>\n<td align=\"left\"><b><u>78% Ambig</u></b></td>\n<td align=\"left\"><i><b>+11% Ambig</b></i></td>\n<td align=\"left\"><i><b>+35% Ambig</b></i></td>\n<td align=\"left\"><i><b>+46% Ambig</b></i></td>\n</tr>\n<tr>\n<td align=\"left\"><u>Human-Object.VG</u></td>\n<td align=\"left\"><b><u>85% Object</u></b><br/>15% Human</td>\n<td align=\"left\"><b><u>88% Object</u></b><br/>12% Human</td>\n<td align=\"left\">60% Human<br/>40% Object</td>\n<td align=\"left\"><i>+2% Object<br/>+2% Human</i></td>\n<td align=\"left\"><i><b>+47% Human</b><br/>-47% Object</i></td>\n<td align=\"left\"><i><b>+45% Human</b><br/>-45% Object</i></td>\n</tr>\n<tr>\n<td align=\"left\"><u>Abs-Conc.Median</u></td>\n<td align=\"left\">53% Conc<br/>47% Abs</td>\n<td align=\"left\">53% Abs<br/>47% Conc</td>\n<td align=\"left\"><b><u>89% Abs</u></b><br/>11% Conc</td>\n<td align=\"left\"><i>+7% Abs<br/>-7% Conc</i></td>\n<td align=\"left\"><i><b>+35% Abs</b><br/>-35% Conc</i></td>\n<td align=\"left\"><i><b>+42% Abs</b><br/>-42% Conc</i></td>\n</tr>\n<tr>\n<td align=\"left\"><u>Active-Passive.HGI</u></td>\n<td align=\"left\">63% Active<br/>37% Passive</td>\n<td align=\"left\">63% Active<br/>37% Passive</td>\n<td align=\"left\">61% Passive<br/>39% Active</td>\n<td align=\"left\"><i>+0% Passive<br/>+0% Active</i></td>\n<td align=\"left\"><i><b>+23% Passive</b><br/>+23% Active</i></td>\n<td align=\"left\"><i><b>+24% Passive</b><br/>+24% Active</i></td>\n</tr>\n<tr>\n<td align=\"left\"><u>Qual-Quant.HGI</u></td>\n<td align=\"left\">56% Quant<br/>44% Qual</td>\n<td align=\"left\">74% Quant<br/>26% Qual</td>\n<td align=\"left\"><b><u>77% Quant</u></b><br/>23% Qual</td>\n<td align=\"left\"><i><b>+18% Quant</b><br/>+18% Qual</i></td>\n<td align=\"left\"><i>+3% Quant<br/>+3% Qual</i></td>\n<td align=\"left\"><i><b>+21% Quant</b><br/>+21% Qual</i></td>\n</tr>\n<tr>\n<td align=\"left\"><u>Interp-Desc.HGI</u></td>\n<td align=\"left\"><b><u>75% Interp</u></b><br/>25% Desc</td>\n<td align=\"left\"><b><u>78% Interp</u></b><br/>22% Desc</td>\n<td align=\"left\"><b><u>95% Interp</u></b><br/>5% Desc</td>\n<td align=\"left\"><i>+2% Interp<br/>-2% Desc</i></td>\n<td align=\"left\"><i><b>+18% Interp</b><br/>-18% Desc</i></td>\n<td align=\"left\"><i><b>+20% Interp</b><br/>-20% Desc</i></td>\n</tr>\n<tr>\n<td align=\"left\"><u>Freq.M</u></td>\n<td align=\"left\">41% Freq</td>\n<td align=\"left\">44% Freq</td>\n<td align=\"left\">57% Freq</td>\n<td align=\"left\"><i>+3% Freq</i></td>\n<td align=\"left\"><i><b>+14% Freq</b></i></td>\n<td align=\"left\"><i><b>+16% Freq</b></i></td>\n</tr>\n<tr>\n<td align=\"left\"><u>Strong-Weak.HGI</u></td>\n<td align=\"left\"><b><u>82% Strong</u></b><br/>18% Weak</td>\n<td align=\"left\"><b><u>83% Strong</u></b><br/>17% Weak</td>\n<td align=\"left\"><b><u>96% Strong</u></b><br/>4% Weak</td>\n<td align=\"left\"><i>+1% Strong<br/>-1% Weak</i></td>\n<td align=\"left\"><i><b>+13% Strong</b><br/>-13% Weak</i></td>\n<td align=\"left\"><i><b>+14% Strong</b><br/>-14% Weak</i></td>\n</tr>\n<tr>\n<td align=\"left\"><u>Pos-Neg.HGI</u></td>\n<td align=\"left\"><b><u>95% Pos</u></b><br/>5% Neg</td>\n<td align=\"left\"><b><u>92% Pos</u></b><br/>8% Neg</td>\n<td align=\"left\"><b><u>100% Pos</u></b><br/>0% Neg</td>\n<td align=\"left\"><i>+3% Neg<br/>+3% Pos</i></td>\n<td align=\"left\"><i>+8% Pos<br/>-8% Neg</i></td>\n<td align=\"left\"><i>+5% Pos<br/>-5% Neg</i></td>\n</tr>\n<tr>\n<td align=\"left\"><u>Virtue-Vice.HGI</u></td>\n<td align=\"left\"><b><u>95% Virtue</u></b><br/>5% Vice</td>\n<td align=\"left\"><b><u>92% Virtue</u></b><br/>8% Vice</td>\n<td align=\"left\"><b><u>100% Virtue</u></b><br/>0% Vice</td>\n<td align=\"left\"><i>+3% Vice<br/>+3% Virtue</i></td>\n<td align=\"left\"><i>+8% Virtue<br/>-8% Vice</i></td>\n<td align=\"left\"><i>+5% Virtue<br/>-5% Vice</i></td>\n</tr>\n<tr>\n<td align=\"left\"><u>Judg-Perc.HGI</u></td>\n<td align=\"left\">64% Perc<br/>36% Judg</td>\n<td align=\"left\">58% Perc<br/>42% Judg</td>\n<td align=\"left\">59% Perc<br/>41% Judg</td>\n<td align=\"left\"><i>+6% Judg<br/>-6% Perc</i></td>\n<td align=\"left\"><i>+2% Perc<br/>+2% Judg</i></td>\n<td align=\"left\"><i>+5% Judg<br/>-5% Perc</i></td>\n</tr>\n<tr>\n<td align=\"left\"><u>Polit-Acad.HGI</u></td>\n<td align=\"left\"><b><u>94% Acad</u></b><br/>6% Polit</td>\n<td align=\"left\"><b><u>89% Acad</u></b><br/>11% Polit</td>\n<td align=\"left\"><b><u>98% Acad</u></b><br/>2% Polit</td>\n<td align=\"left\"><i>+4% Polit<br/>-4% Acad</i></td>\n<td align=\"left\"><i>+9% Acad<br/>+9% Polit</i></td>\n<td align=\"left\"><i>+4% Acad<br/>+4% Polit</i></td>\n</tr>\n<tr>\n<td align=\"left\"><u>Pleasure-Pain.HGI</u></td>\n<td align=\"left\"><b><u>95% Pleasure</u></b><br/>5% Pain</td>\n<td align=\"left\"><b><u>94% Pleasure</u></b><br/>6% Pain</td>\n<td align=\"left\"><b><u>98% Pleasure</u></b><br/>2% Pain</td>\n<td align=\"left\"><i>+1% Pain<br/>+1% Pleasure</i></td>\n<td align=\"left\"><i>+4% Pleasure<br/>-4% Pain</i></td>\n<td align=\"left\"><i>+3% Pleasure<br/>-3% Pain</i></td>\n</tr>\n<tr>\n<td align=\"left\"><u>Woman-Man.VG</u></td>\n<td align=\"left\">51% Woman<br/>49% Man</td>\n<td align=\"left\">65% Man<br/>35% Woman</td>\n<td align=\"left\">51% Man<br/>49% Woman</td>\n<td align=\"left\"><i><b>+16% Man</b><br/>+16% Woman</i></td>\n<td align=\"left\"><i><b>+14% Woman</b><br/>-14% Man</i></td>\n<td align=\"left\"><i>+2% Man<br/>+2% Woman</i></td>\n</tr>\n<tr>\n<td align=\"left\"><u>Collective-Indiv.RH</u></td>\n<td align=\"left\"><b><u>98% Collective</u></b><br/>2% Indiv</td>\n<td align=\"left\"><b><u>97% Collective</u></b><br/>3% Indiv</td>\n<td align=\"left\"><b><u>99% Collective</u></b><br/>1% Indiv</td>\n<td align=\"left\"><i>+2% Indiv<br/>+2% Collective</i></td>\n<td align=\"left\"><i>+3% Collective<br/>-3% Indiv</i></td>\n<td align=\"left\"><i>+1% Collective<br/>-1% Indiv</i></td>\n</tr>\n<tr>\n<td align=\"left\"><u>Time-Space.HGI</u></td>\n<td align=\"left\">71% Space<br/>29% Time</td>\n<td align=\"left\"><b><u>86% Space</u></b><br/>14% Time</td>\n<td align=\"left\">70% Space<br/>30% Time</td>\n<td align=\"left\"><i><b>+15% Space</b><br/>+15% Time</i></td>\n<td align=\"left\"><i><b>+16% Time</b><br/>-16% Space</i></td>\n<td align=\"left\"><i>+1% Time<br/>-1% Space</i></td>\n</tr>\n</tbody>\n</table>"
      }
     },
     "054d7f062960468bb24717d038d29984": {
      "model_module": "@jupyter-widgets/controls",
      "model_module_version": "1.5.0",
      "model_name": "DescriptionStyleModel",
      "state": {
       "description_width": ""
      }
     },
     "0a6dc48f00054dfd8f34f643773a90dd": {
      "model_module": "@jupyter-widgets/controls",
      "model_module_version": "1.5.0",
      "model_name": "HTMLModel",
      "state": {
       "layout": "IPY_MODEL_55f9e7119c854667b09ca13ee0836883",
       "style": "IPY_MODEL_6154741b7b364baf9e4e28af4c0b0b2a",
       "value": "<table>\n<thead>\n<tr>\n<th align=\"left\">vector</th>\n<th align=\"left\">(I) 1700-1770</th>\n<th align=\"left\">(II) 1770-1830</th>\n<th align=\"left\">(III) 1830-1900</th>\n<th align=\"left\">(I)→(II)</th>\n<th align=\"left\">(II)→(III)</th>\n<th align=\"left\">(I)→(III)</th>\n</tr>\n</thead>\n<tbody>\n<tr>\n<td align=\"left\"><u>Ambig.NX</u></td>\n<td align=\"left\">31% Ambig</td>\n<td align=\"left\">43% Ambig</td>\n<td align=\"left\"><b><u>78% Ambig</u></b></td>\n<td align=\"left\"><i><b>+11% Ambig</b></i></td>\n<td align=\"left\"><i><b>+35% Ambig</b></i></td>\n<td align=\"left\"><i><b>+46% Ambig</b></i></td>\n</tr>\n<tr>\n<td align=\"left\"><u>Human-Object.VG</u></td>\n<td align=\"left\"><b><u>85% Object</u></b><br/>15% Human</td>\n<td align=\"left\"><b><u>88% Object</u></b><br/>12% Human</td>\n<td align=\"left\">60% Human<br/>40% Object</td>\n<td align=\"left\"><i>+2% Object<br/>+2% Human</i></td>\n<td align=\"left\"><i><b>+47% Human</b><br/>-47% Object</i></td>\n<td align=\"left\"><i><b>+45% Human</b><br/>-45% Object</i></td>\n</tr>\n<tr>\n<td align=\"left\"><u>Abs-Conc.Median</u></td>\n<td align=\"left\">53% Conc<br/>47% Abs</td>\n<td align=\"left\">53% Abs<br/>47% Conc</td>\n<td align=\"left\"><b><u>89% Abs</u></b><br/>11% Conc</td>\n<td align=\"left\"><i>+7% Abs<br/>-7% Conc</i></td>\n<td align=\"left\"><i><b>+35% Abs</b><br/>-35% Conc</i></td>\n<td align=\"left\"><i><b>+42% Abs</b><br/>-42% Conc</i></td>\n</tr>\n<tr>\n<td align=\"left\"><u>Active-Passive.HGI</u></td>\n<td align=\"left\">63% Active<br/>37% Passive</td>\n<td align=\"left\">63% Active<br/>37% Passive</td>\n<td align=\"left\">61% Passive<br/>39% Active</td>\n<td align=\"left\"><i>+0% Passive<br/>+0% Active</i></td>\n<td align=\"left\"><i><b>+23% Passive</b><br/>+23% Active</i></td>\n<td align=\"left\"><i><b>+24% Passive</b><br/>+24% Active</i></td>\n</tr>\n<tr>\n<td align=\"left\"><u>Qual-Quant.HGI</u></td>\n<td align=\"left\">56% Quant<br/>44% Qual</td>\n<td align=\"left\">74% Quant<br/>26% Qual</td>\n<td align=\"left\"><b><u>77% Quant</u></b><br/>23% Qual</td>\n<td align=\"left\"><i><b>+18% Quant</b><br/>+18% Qual</i></td>\n<td align=\"left\"><i>+3% Quant<br/>+3% Qual</i></td>\n<td align=\"left\"><i><b>+21% Quant</b><br/>+21% Qual</i></td>\n</tr>\n<tr>\n<td align=\"left\"><u>Interp-Desc.HGI</u></td>\n<td align=\"left\"><b><u>75% Interp</u></b><br/>25% Desc</td>\n<td align=\"left\"><b><u>78% Interp</u></b><br/>22% Desc</td>\n<td align=\"left\"><b><u>95% Interp</u></b><br/>5% Desc</td>\n<td align=\"left\"><i>+2% Interp<br/>-2% Desc</i></td>\n<td align=\"left\"><i><b>+18% Interp</b><br/>-18% Desc</i></td>\n<td align=\"left\"><i><b>+20% Interp</b><br/>-20% Desc</i></td>\n</tr>\n<tr>\n<td align=\"left\"><u>Freq.M</u></td>\n<td align=\"left\">41% Freq</td>\n<td align=\"left\">44% Freq</td>\n<td align=\"left\">57% Freq</td>\n<td align=\"left\"><i>+3% Freq</i></td>\n<td align=\"left\"><i><b>+14% Freq</b></i></td>\n<td align=\"left\"><i><b>+16% Freq</b></i></td>\n</tr>\n<tr>\n<td align=\"left\"><u>Strong-Weak.HGI</u></td>\n<td align=\"left\"><b><u>82% Strong</u></b><br/>18% Weak</td>\n<td align=\"left\"><b><u>83% Strong</u></b><br/>17% Weak</td>\n<td align=\"left\"><b><u>96% Strong</u></b><br/>4% Weak</td>\n<td align=\"left\"><i>+1% Strong<br/>-1% Weak</i></td>\n<td align=\"left\"><i><b>+13% Strong</b><br/>-13% Weak</i></td>\n<td align=\"left\"><i><b>+14% Strong</b><br/>-14% Weak</i></td>\n</tr>\n<tr>\n<td align=\"left\"><u>Pos-Neg.HGI</u></td>\n<td align=\"left\"><b><u>95% Pos</u></b><br/>5% Neg</td>\n<td align=\"left\"><b><u>92% Pos</u></b><br/>8% Neg</td>\n<td align=\"left\"><b><u>100% Pos</u></b><br/>0% Neg</td>\n<td align=\"left\"><i>+3% Neg<br/>+3% Pos</i></td>\n<td align=\"left\"><i>+8% Pos<br/>-8% Neg</i></td>\n<td align=\"left\"><i>+5% Pos<br/>-5% Neg</i></td>\n</tr>\n<tr>\n<td align=\"left\"><u>Virtue-Vice.HGI</u></td>\n<td align=\"left\"><b><u>95% Virtue</u></b><br/>5% Vice</td>\n<td align=\"left\"><b><u>92% Virtue</u></b><br/>8% Vice</td>\n<td align=\"left\"><b><u>100% Virtue</u></b><br/>0% Vice</td>\n<td align=\"left\"><i>+3% Vice<br/>+3% Virtue</i></td>\n<td align=\"left\"><i>+8% Virtue<br/>-8% Vice</i></td>\n<td align=\"left\"><i>+5% Virtue<br/>-5% Vice</i></td>\n</tr>\n<tr>\n<td align=\"left\"><u>Judg-Perc.HGI</u></td>\n<td align=\"left\">64% Perc<br/>36% Judg</td>\n<td align=\"left\">58% Perc<br/>42% Judg</td>\n<td align=\"left\">59% Perc<br/>41% Judg</td>\n<td align=\"left\"><i>+6% Judg<br/>-6% Perc</i></td>\n<td align=\"left\"><i>+2% Perc<br/>+2% Judg</i></td>\n<td align=\"left\"><i>+5% Judg<br/>-5% Perc</i></td>\n</tr>\n<tr>\n<td align=\"left\"><u>Polit-Acad.HGI</u></td>\n<td align=\"left\"><b><u>94% Acad</u></b><br/>6% Polit</td>\n<td align=\"left\"><b><u>89% Acad</u></b><br/>11% Polit</td>\n<td align=\"left\"><b><u>98% Acad</u></b><br/>2% Polit</td>\n<td align=\"left\"><i>+4% Polit<br/>-4% Acad</i></td>\n<td align=\"left\"><i>+9% Acad<br/>+9% Polit</i></td>\n<td align=\"left\"><i>+4% Acad<br/>+4% Polit</i></td>\n</tr>\n<tr>\n<td align=\"left\"><u>Pleasure-Pain.HGI</u></td>\n<td align=\"left\"><b><u>95% Pleasure</u></b><br/>5% Pain</td>\n<td align=\"left\"><b><u>94% Pleasure</u></b><br/>6% Pain</td>\n<td align=\"left\"><b><u>98% Pleasure</u></b><br/>2% Pain</td>\n<td align=\"left\"><i>+1% Pain<br/>+1% Pleasure</i></td>\n<td align=\"left\"><i>+4% Pleasure<br/>-4% Pain</i></td>\n<td align=\"left\"><i>+3% Pleasure<br/>-3% Pain</i></td>\n</tr>\n<tr>\n<td align=\"left\"><u>Woman-Man.VG</u></td>\n<td align=\"left\">51% Woman<br/>49% Man</td>\n<td align=\"left\">65% Man<br/>35% Woman</td>\n<td align=\"left\">51% Man<br/>49% Woman</td>\n<td align=\"left\"><i><b>+16% Man</b><br/>+16% Woman</i></td>\n<td align=\"left\"><i><b>+14% Woman</b><br/>-14% Man</i></td>\n<td align=\"left\"><i>+2% Man<br/>+2% Woman</i></td>\n</tr>\n<tr>\n<td align=\"left\"><u>Collective-Indiv.RH</u></td>\n<td align=\"left\"><b><u>98% Collective</u></b><br/>2% Indiv</td>\n<td align=\"left\"><b><u>97% Collective</u></b><br/>3% Indiv</td>\n<td align=\"left\"><b><u>99% Collective</u></b><br/>1% Indiv</td>\n<td align=\"left\"><i>+2% Indiv<br/>+2% Collective</i></td>\n<td align=\"left\"><i>+3% Collective<br/>-3% Indiv</i></td>\n<td align=\"left\"><i>+1% Collective<br/>-1% Indiv</i></td>\n</tr>\n<tr>\n<td align=\"left\"><u>Time-Space.HGI</u></td>\n<td align=\"left\">71% Space<br/>29% Time</td>\n<td align=\"left\"><b><u>86% Space</u></b><br/>14% Time</td>\n<td align=\"left\">70% Space<br/>30% Time</td>\n<td align=\"left\"><i><b>+15% Space</b><br/>+15% Time</i></td>\n<td align=\"left\"><i><b>+16% Time</b><br/>-16% Space</i></td>\n<td align=\"left\"><i>+1% Time<br/>-1% Space</i></td>\n</tr>\n</tbody>\n</table>"
      }
     },
     "102fbc39fec4493986eaf3505d54762e": {
      "model_module": "@jupyter-widgets/controls",
      "model_module_version": "1.5.0",
      "model_name": "HTMLModel",
      "state": {
       "layout": "IPY_MODEL_00438780f4fc4ee38b557a3dc641e03e",
       "style": "IPY_MODEL_054d7f062960468bb24717d038d29984",
       "value": "<table>\n<thead>\n<tr>\n<th align=\"left\">Neighbor</th>\n<th align=\"right\">Rank for similarity in change vector</th>\n<th align=\"left\">Rank similarity in 1700-1770</th>\n<th align=\"left\">Rank similarity in 1830-1900</th>\n<th align=\"left\">Rank difference between change vector and actual ranks</th>\n<th align=\"left\">Similar vectors of change undergone by the neighbor</th>\n</tr>\n</thead>\n<tbody>\n<tr>\n<td align=\"left\">wider</td>\n<td align=\"right\">11</td>\n<td align=\"left\">3,424</td>\n<td align=\"left\">221</td>\n<td align=\"left\">+210</td>\n<td align=\"left\">+Virtue +Abs +Pos +Judg +Ambig +Strong +Time +Collective +Pleasure +Freq +Interp +Human +Quant +Man +Acad</td>\n</tr>\n<tr>\n<td align=\"left\">earnestness</td>\n<td align=\"right\">13</td>\n<td align=\"left\">4,851</td>\n<td align=\"left\">478</td>\n<td align=\"left\">+465</td>\n<td align=\"left\"></td>\n</tr>\n<tr>\n<td align=\"left\">ideal</td>\n<td align=\"right\">15</td>\n<td align=\"left\">3,002</td>\n<td align=\"left\">133</td>\n<td align=\"left\">+118</td>\n<td align=\"left\">+Virtue +Abs +Pos +Judg +Ambig +Strong +Time +Pleasure +Freq +Interp +Human</td>\n</tr>\n<tr>\n<td align=\"left\">toleration</td>\n<td align=\"right\">16</td>\n<td align=\"left\">4,561</td>\n<td align=\"left\">139</td>\n<td align=\"left\">+123</td>\n<td align=\"left\">+Virtue +Pos +Collective +Interp +Abs +Quant +Acad +Passive</td>\n</tr>\n<tr>\n<td align=\"left\">sympathy</td>\n<td align=\"right\">17</td>\n<td align=\"left\">2,321</td>\n<td align=\"left\">488</td>\n<td align=\"left\">+471</td>\n<td align=\"left\">+Virtue +Abs +Pos +Strong +Time +Freq +Interp +Human +Quant +Man</td>\n</tr>\n<tr>\n<td align=\"left\">evangelical</td>\n<td align=\"right\">18</td>\n<td align=\"left\">3,931</td>\n<td align=\"left\">287</td>\n<td align=\"left\">+269</td>\n<td align=\"left\">+Virtue +Abs +Pos +Judg +Ambig +Pleasure +Freq +Interp +Human +Passive</td>\n</tr>\n<tr>\n<td align=\"left\">supremacy</td>\n<td align=\"right\">20</td>\n<td align=\"left\">8,455</td>\n<td align=\"left\">567</td>\n<td align=\"left\">+547</td>\n<td align=\"left\">+Virtue +Abs +Pos +Time +Collective +Pleasure +Freq +Interp +Human +Quant +Passive</td>\n</tr>\n<tr>\n<td align=\"left\">certificates</td>\n<td align=\"right\">21</td>\n<td align=\"left\">1,461</td>\n<td align=\"left\">1,513</td>\n<td align=\"left\">+1,440</td>\n<td align=\"left\">+Virtue +Abs +Pos +Judg +Strong +Time +Collective +Pleasure +Interp +Human +Quant +Acad</td>\n</tr>\n<tr>\n<td align=\"left\">lofty</td>\n<td align=\"right\">24</td>\n<td align=\"left\">4,172</td>\n<td align=\"left\">728</td>\n<td align=\"left\">+704</td>\n<td align=\"left\">+Virtue +Abs +Pos +Judg +Strong +Freq +Interp +Human +Passive +Quant +Man</td>\n</tr>\n<tr>\n<td align=\"left\">despotism</td>\n<td align=\"right\">26</td>\n<td align=\"left\">6,206</td>\n<td align=\"left\">386</td>\n<td align=\"left\">+360</td>\n<td align=\"left\">+Time +Collective +Freq +Ambig +Quant</td>\n</tr>\n<tr>\n<td align=\"left\">gifts</td>\n<td align=\"right\">27</td>\n<td align=\"left\">1,759</td>\n<td align=\"left\">144</td>\n<td align=\"left\">+117</td>\n<td align=\"left\">+Strong +Time +Freq +Human +Quant +Man +Acad</td>\n</tr>\n<tr>\n<td align=\"left\">aristocracy</td>\n<td align=\"right\">32</td>\n<td align=\"left\">4,518</td>\n<td align=\"left\">212</td>\n<td align=\"left\">+180</td>\n<td align=\"left\"></td>\n</tr>\n<tr>\n<td align=\"left\">feeling</td>\n<td align=\"right\">34</td>\n<td align=\"left\">2,339</td>\n<td align=\"left\">367</td>\n<td align=\"left\">+333</td>\n<td align=\"left\">+Virtue +Abs +Pos +Judg +Ambig +Strong +Time +Collective +Pleasure +Freq +Interp +Human</td>\n</tr>\n<tr>\n<td align=\"left\">theological</td>\n<td align=\"right\">35</td>\n<td align=\"left\">834</td>\n<td align=\"left\">116</td>\n<td align=\"left\">+81</td>\n<td align=\"left\">+Virtue +Abs +Pos +Judg +Strong +Time +Freq +Interp +Human +Quant +Passive</td>\n</tr>\n<tr>\n<td align=\"left\">creed</td>\n<td align=\"right\">37</td>\n<td align=\"left\">7,310</td>\n<td align=\"left\">1,547</td>\n<td align=\"left\">+1,510</td>\n<td align=\"left\">+Virtue +Pos +Judg +Strong +Freq +Interp +Abs +Passive</td>\n</tr>\n<tr>\n<td align=\"left\">element</td>\n<td align=\"right\">38</td>\n<td align=\"left\">1,283</td>\n<td align=\"left\">130</td>\n<td align=\"left\">+92</td>\n<td align=\"left\">+Virtue +Abs +Pos +Judg +Ambig +Strong +Time +Collective +Pleasure +Freq +Interp +Human +Quant +Passive</td>\n</tr>\n<tr>\n<td align=\"left\">emotions</td>\n<td align=\"right\">39</td>\n<td align=\"left\">2,944</td>\n<td align=\"left\">556</td>\n<td align=\"left\">+517</td>\n<td align=\"left\">+Virtue +Abs +Pos +Strong +Time +Collective +Pleasure +Freq +Human +Man +Acad</td>\n</tr>\n<tr>\n<td align=\"left\">priesthood</td>\n<td align=\"right\">41</td>\n<td align=\"left\">3,151</td>\n<td align=\"left\">404</td>\n<td align=\"left\">+363</td>\n<td align=\"left\"></td>\n</tr>\n<tr>\n<td align=\"left\">patriotism</td>\n<td align=\"right\">42</td>\n<td align=\"left\">3,047</td>\n<td align=\"left\">204</td>\n<td align=\"left\">+162</td>\n<td align=\"left\">+Virtue +Strong +Freq +Ambig +Quant +Man</td>\n</tr>\n<tr>\n<td align=\"left\">enterprise</td>\n<td align=\"right\">43</td>\n<td align=\"left\">7,634</td>\n<td align=\"left\">160</td>\n<td align=\"left\">+117</td>\n<td align=\"left\">+Virtue +Abs +Pos +Strong +Collective +Pleasure +Freq +Interp +Human +Quant +Man +Acad</td>\n</tr>\n<tr>\n<td align=\"left\">manhood</td>\n<td align=\"right\">46</td>\n<td align=\"left\">1,350</td>\n<td align=\"left\">137</td>\n<td align=\"left\">+91</td>\n<td align=\"left\">+Virtue +Abs +Pos +Strong +Time +Pleasure +Freq +Interp +Human +Quant +Man</td>\n</tr>\n<tr>\n<td align=\"left\">enthusiasm</td>\n<td align=\"right\">48</td>\n<td align=\"left\">2,659</td>\n<td align=\"left\">308</td>\n<td align=\"left\">+260</td>\n<td align=\"left\">+Virtue +Pos +Ambig +Strong +Time +Pleasure +Freq +Human +Quant</td>\n</tr>\n<tr>\n<td align=\"left\">devout</td>\n<td align=\"right\">49</td>\n<td align=\"left\">6,550</td>\n<td align=\"left\">923</td>\n<td align=\"left\">+874</td>\n<td align=\"left\">+Virtue +Pos +Strong +Pleasure +Freq +Interp +Abs +Passive +Quant +Man</td>\n</tr>\n<tr>\n<td align=\"left\">minded</td>\n<td align=\"right\">50</td>\n<td align=\"left\">9,142</td>\n<td align=\"left\">884</td>\n<td align=\"left\">+834</td>\n<td align=\"left\">+Virtue +Pos +Ambig +Strong +Pleasure +Freq +Human +Man +Acad</td>\n</tr>\n<tr>\n<td align=\"left\">lack</td>\n<td align=\"right\">51</td>\n<td align=\"left\">6,910</td>\n<td align=\"left\">320</td>\n<td align=\"left\">+269</td>\n<td align=\"left\">+Virtue +Abs +Pos +Strong +Collective +Pleasure +Freq +Interp +Human +Passive +Man +Acad</td>\n</tr>\n</tbody>\n</table>"
      }
     },
     "15bcd7f367474557a1e88fddb44462c4": {
      "model_module": "@jupyter-widgets/base",
      "model_module_version": "1.2.0",
      "model_name": "LayoutModel",
      "state": {}
     },
     "23295970a98a4fce988bac422871f0ec": {
      "model_module": "@jupyter-widgets/base",
      "model_module_version": "1.2.0",
      "model_name": "LayoutModel",
      "state": {}
     },
     "4f3e302d4a014a88903425f042f85a6e": {
      "model_module": "@jupyter-widgets/controls",
      "model_module_version": "1.5.0",
      "model_name": "DescriptionStyleModel",
      "state": {
       "description_width": ""
      }
     },
     "4fbe19fbab3b4cb480c2df2d022604b8": {
      "model_module": "@jupyter-widgets/controls",
      "model_module_version": "1.5.0",
      "model_name": "HBoxModel",
      "state": {
       "children": [
        "IPY_MODEL_039c67c81db7442fa785e53c2749ccce",
        "IPY_MODEL_ebc5537d1b2849c6960a12c985bbd231"
       ],
       "layout": "IPY_MODEL_bfc32259b5d64ac78d72c4d65fba3ec7"
      }
     },
     "519abfb825fc4845a44f45fff9c2df3a": {
      "model_module": "@jupyter-widgets/controls",
      "model_module_version": "1.5.0",
      "model_name": "HBoxModel",
      "state": {
       "children": [
        "IPY_MODEL_0a6dc48f00054dfd8f34f643773a90dd",
        "IPY_MODEL_102fbc39fec4493986eaf3505d54762e"
       ],
       "layout": "IPY_MODEL_23295970a98a4fce988bac422871f0ec"
      }
     },
     "55f9e7119c854667b09ca13ee0836883": {
      "model_module": "@jupyter-widgets/base",
      "model_module_version": "1.2.0",
      "model_name": "LayoutModel",
      "state": {}
     },
     "6154741b7b364baf9e4e28af4c0b0b2a": {
      "model_module": "@jupyter-widgets/controls",
      "model_module_version": "1.5.0",
      "model_name": "DescriptionStyleModel",
      "state": {
       "description_width": ""
      }
     },
     "91946c9de4c34a65a34ac2fc60cb1cc0": {
      "model_module": "@jupyter-widgets/base",
      "model_module_version": "1.2.0",
      "model_name": "LayoutModel",
      "state": {}
     },
     "ad9862024c3e4d27ad2250905c2ff269": {
      "model_module": "@jupyter-widgets/controls",
      "model_module_version": "1.5.0",
      "model_name": "DescriptionStyleModel",
      "state": {
       "description_width": ""
      }
     },
     "bfc32259b5d64ac78d72c4d65fba3ec7": {
      "model_module": "@jupyter-widgets/base",
      "model_module_version": "1.2.0",
      "model_name": "LayoutModel",
      "state": {}
     },
     "ebc5537d1b2849c6960a12c985bbd231": {
      "model_module": "@jupyter-widgets/controls",
      "model_module_version": "1.5.0",
      "model_name": "HTMLModel",
      "state": {
       "layout": "IPY_MODEL_91946c9de4c34a65a34ac2fc60cb1cc0",
       "style": "IPY_MODEL_4f3e302d4a014a88903425f042f85a6e",
       "value": "<table>\n<thead>\n<tr>\n<th align=\"left\">Neighbor</th>\n<th align=\"right\">Rank for similarity in change vector</th>\n<th align=\"left\">Rank similarity in 1700-1770</th>\n<th align=\"left\">Rank similarity in 1830-1900</th>\n<th align=\"left\">Rank difference between change vector and actual ranks</th>\n<th align=\"left\">Similar vectors of change undergone by the neighbor</th>\n</tr>\n</thead>\n<tbody>\n<tr>\n<td align=\"left\">wider</td>\n<td align=\"right\">11</td>\n<td align=\"left\">3,424</td>\n<td align=\"left\">221</td>\n<td align=\"left\">+210</td>\n<td align=\"left\">+Virtue +Abs +Pos +Judg +Ambig +Strong +Time +Collective +Pleasure +Freq +Interp +Human +Quant +Man +Acad</td>\n</tr>\n<tr>\n<td align=\"left\">earnestness</td>\n<td align=\"right\">13</td>\n<td align=\"left\">4,851</td>\n<td align=\"left\">478</td>\n<td align=\"left\">+465</td>\n<td align=\"left\"></td>\n</tr>\n<tr>\n<td align=\"left\">ideal</td>\n<td align=\"right\">15</td>\n<td align=\"left\">3,002</td>\n<td align=\"left\">133</td>\n<td align=\"left\">+118</td>\n<td align=\"left\">+Virtue +Abs +Pos +Judg +Ambig +Strong +Time +Pleasure +Freq +Interp +Human</td>\n</tr>\n<tr>\n<td align=\"left\">toleration</td>\n<td align=\"right\">16</td>\n<td align=\"left\">4,561</td>\n<td align=\"left\">139</td>\n<td align=\"left\">+123</td>\n<td align=\"left\">+Virtue +Pos +Collective +Interp +Abs +Quant +Acad +Passive</td>\n</tr>\n<tr>\n<td align=\"left\">sympathy</td>\n<td align=\"right\">17</td>\n<td align=\"left\">2,321</td>\n<td align=\"left\">488</td>\n<td align=\"left\">+471</td>\n<td align=\"left\">+Virtue +Abs +Pos +Strong +Time +Freq +Interp +Human +Quant +Man</td>\n</tr>\n<tr>\n<td align=\"left\">evangelical</td>\n<td align=\"right\">18</td>\n<td align=\"left\">3,931</td>\n<td align=\"left\">287</td>\n<td align=\"left\">+269</td>\n<td align=\"left\">+Virtue +Abs +Pos +Judg +Ambig +Pleasure +Freq +Interp +Human +Passive</td>\n</tr>\n<tr>\n<td align=\"left\">supremacy</td>\n<td align=\"right\">20</td>\n<td align=\"left\">8,455</td>\n<td align=\"left\">567</td>\n<td align=\"left\">+547</td>\n<td align=\"left\">+Virtue +Abs +Pos +Time +Collective +Pleasure +Freq +Interp +Human +Quant +Passive</td>\n</tr>\n<tr>\n<td align=\"left\">certificates</td>\n<td align=\"right\">21</td>\n<td align=\"left\">1,461</td>\n<td align=\"left\">1,513</td>\n<td align=\"left\">+1,440</td>\n<td align=\"left\">+Virtue +Abs +Pos +Judg +Strong +Time +Collective +Pleasure +Interp +Human +Quant +Acad</td>\n</tr>\n<tr>\n<td align=\"left\">lofty</td>\n<td align=\"right\">24</td>\n<td align=\"left\">4,172</td>\n<td align=\"left\">728</td>\n<td align=\"left\">+704</td>\n<td align=\"left\">+Virtue +Abs +Pos +Judg +Strong +Freq +Interp +Human +Passive +Quant +Man</td>\n</tr>\n<tr>\n<td align=\"left\">despotism</td>\n<td align=\"right\">26</td>\n<td align=\"left\">6,206</td>\n<td align=\"left\">386</td>\n<td align=\"left\">+360</td>\n<td align=\"left\">+Time +Collective +Freq +Ambig +Quant</td>\n</tr>\n<tr>\n<td align=\"left\">gifts</td>\n<td align=\"right\">27</td>\n<td align=\"left\">1,759</td>\n<td align=\"left\">144</td>\n<td align=\"left\">+117</td>\n<td align=\"left\">+Strong +Time +Freq +Human +Quant +Man +Acad</td>\n</tr>\n<tr>\n<td align=\"left\">aristocracy</td>\n<td align=\"right\">32</td>\n<td align=\"left\">4,518</td>\n<td align=\"left\">212</td>\n<td align=\"left\">+180</td>\n<td align=\"left\"></td>\n</tr>\n<tr>\n<td align=\"left\">feeling</td>\n<td align=\"right\">34</td>\n<td align=\"left\">2,339</td>\n<td align=\"left\">367</td>\n<td align=\"left\">+333</td>\n<td align=\"left\">+Virtue +Abs +Pos +Judg +Ambig +Strong +Time +Collective +Pleasure +Freq +Interp +Human</td>\n</tr>\n<tr>\n<td align=\"left\">theological</td>\n<td align=\"right\">35</td>\n<td align=\"left\">834</td>\n<td align=\"left\">116</td>\n<td align=\"left\">+81</td>\n<td align=\"left\">+Virtue +Abs +Pos +Judg +Strong +Time +Freq +Interp +Human +Quant +Passive</td>\n</tr>\n<tr>\n<td align=\"left\">creed</td>\n<td align=\"right\">37</td>\n<td align=\"left\">7,310</td>\n<td align=\"left\">1,547</td>\n<td align=\"left\">+1,510</td>\n<td align=\"left\">+Virtue +Pos +Judg +Strong +Freq +Interp +Abs +Passive</td>\n</tr>\n<tr>\n<td align=\"left\">element</td>\n<td align=\"right\">38</td>\n<td align=\"left\">1,283</td>\n<td align=\"left\">130</td>\n<td align=\"left\">+92</td>\n<td align=\"left\">+Virtue +Abs +Pos +Judg +Ambig +Strong +Time +Collective +Pleasure +Freq +Interp +Human +Quant +Passive</td>\n</tr>\n<tr>\n<td align=\"left\">emotions</td>\n<td align=\"right\">39</td>\n<td align=\"left\">2,944</td>\n<td align=\"left\">556</td>\n<td align=\"left\">+517</td>\n<td align=\"left\">+Virtue +Abs +Pos +Strong +Time +Collective +Pleasure +Freq +Human +Man +Acad</td>\n</tr>\n<tr>\n<td align=\"left\">priesthood</td>\n<td align=\"right\">41</td>\n<td align=\"left\">3,151</td>\n<td align=\"left\">404</td>\n<td align=\"left\">+363</td>\n<td align=\"left\"></td>\n</tr>\n<tr>\n<td align=\"left\">patriotism</td>\n<td align=\"right\">42</td>\n<td align=\"left\">3,047</td>\n<td align=\"left\">204</td>\n<td align=\"left\">+162</td>\n<td align=\"left\">+Virtue +Strong +Freq +Ambig +Quant +Man</td>\n</tr>\n<tr>\n<td align=\"left\">enterprise</td>\n<td align=\"right\">43</td>\n<td align=\"left\">7,634</td>\n<td align=\"left\">160</td>\n<td align=\"left\">+117</td>\n<td align=\"left\">+Virtue +Abs +Pos +Strong +Collective +Pleasure +Freq +Interp +Human +Quant +Man +Acad</td>\n</tr>\n<tr>\n<td align=\"left\">manhood</td>\n<td align=\"right\">46</td>\n<td align=\"left\">1,350</td>\n<td align=\"left\">137</td>\n<td align=\"left\">+91</td>\n<td align=\"left\">+Virtue +Abs +Pos +Strong +Time +Pleasure +Freq +Interp +Human +Quant +Man</td>\n</tr>\n<tr>\n<td align=\"left\">enthusiasm</td>\n<td align=\"right\">48</td>\n<td align=\"left\">2,659</td>\n<td align=\"left\">308</td>\n<td align=\"left\">+260</td>\n<td align=\"left\">+Virtue +Pos +Ambig +Strong +Time +Pleasure +Freq +Human +Quant</td>\n</tr>\n<tr>\n<td align=\"left\">devout</td>\n<td align=\"right\">49</td>\n<td align=\"left\">6,550</td>\n<td align=\"left\">923</td>\n<td align=\"left\">+874</td>\n<td align=\"left\">+Virtue +Pos +Strong +Pleasure +Freq +Interp +Abs +Passive +Quant +Man</td>\n</tr>\n<tr>\n<td align=\"left\">minded</td>\n<td align=\"right\">50</td>\n<td align=\"left\">9,142</td>\n<td align=\"left\">884</td>\n<td align=\"left\">+834</td>\n<td align=\"left\">+Virtue +Pos +Ambig +Strong +Pleasure +Freq +Human +Man +Acad</td>\n</tr>\n<tr>\n<td align=\"left\">lack</td>\n<td align=\"right\">51</td>\n<td align=\"left\">6,910</td>\n<td align=\"left\">320</td>\n<td align=\"left\">+269</td>\n<td align=\"left\">+Virtue +Abs +Pos +Strong +Collective +Pleasure +Freq +Interp +Human +Passive +Man +Acad</td>\n</tr>\n</tbody>\n</table>"
      }
     }
    },
    "version_major": 2,
    "version_minor": 0
   }
  }
 },
 "nbformat": 4,
 "nbformat_minor": 4
}
