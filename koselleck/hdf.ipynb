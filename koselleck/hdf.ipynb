{
 "cells": [
  {
   "cell_type": "markdown",
   "id": "62b38438-0ff3-46c5-9b24-92b9028348cb",
   "metadata": {},
   "source": [
    "# db2"
   ]
  },
  {
   "cell_type": "code",
   "execution_count": 1,
   "id": "c8ff0e11-bab1-4bfa-8250-50fc47a3487c",
   "metadata": {},
   "outputs": [],
   "source": [
    "from ipynb.fs.full.koselleck import *"
   ]
  },
  {
   "cell_type": "code",
   "execution_count": 2,
   "id": "f44600eb",
   "metadata": {},
   "outputs": [],
   "source": [
    "PERIOD_LENS={5,20,70}\n",
    "HDF_FORMAT='fixed'"
   ]
  },
  {
   "cell_type": "markdown",
   "id": "1958f856",
   "metadata": {},
   "source": [
    "## Model definitions"
   ]
  },
  {
   "cell_type": "code",
   "execution_count": 3,
   "id": "9acf57a9-0d7f-4ec9-9296-6e3208a6c6ab",
   "metadata": {},
   "outputs": [],
   "source": [
    "#FN_DB=os.path.join(PATH_DATA,'db3.koselleck2.h5')\n",
    "FN_DB='/home/ryan/db2/db.koselleck3.h5'\n",
    "# os.remove(FN_DB)\n",
    "DBOBJ=None"
   ]
  },
  {
   "cell_type": "code",
   "execution_count": 4,
   "id": "5b6affcd",
   "metadata": {},
   "outputs": [],
   "source": [
    "def get_db(mode='a'):\n",
    "    global DBOBJ\n",
    "    if DBOBJ is not None: return DBOBJ\n",
    "    DBOBJ=pd.HDFStore(\n",
    "        FN_DB,\n",
    "        mode=mode,\n",
    "        complevel=9,\n",
    "        complib='blosc'\n",
    "    )\n",
    "    return DBOBJ"
   ]
  },
  {
   "cell_type": "code",
   "execution_count": 5,
   "id": "35881937",
   "metadata": {},
   "outputs": [],
   "source": [
    "# db=get_db()\n",
    "# print(db['/vecs/bpo/1720-1740/1'])"
   ]
  },
  {
   "cell_type": "code",
   "execution_count": 6,
   "id": "18f01e13",
   "metadata": {},
   "outputs": [],
   "source": [
    "def db_has_key(key):\n",
    "    return key in get_db()\n",
    "    with get_db(mode='r') as db:\n",
    "        return key in db"
   ]
  },
  {
   "cell_type": "code",
   "execution_count": 7,
   "id": "e92b7662",
   "metadata": {},
   "outputs": [
    {
     "data": {
      "text/plain": [
       "False"
      ]
     },
     "execution_count": 7,
     "metadata": {},
     "output_type": "execute_result"
    }
   ],
   "source": [
    "db_has_key('test')"
   ]
  },
  {
   "cell_type": "code",
   "execution_count": 8,
   "id": "418f0673",
   "metadata": {},
   "outputs": [],
   "source": [
    "#with get_db() as db: db['test']=pd.Series(['Hello', 'world'])"
   ]
  },
  {
   "cell_type": "markdown",
   "id": "ed403b03",
   "metadata": {},
   "source": [
    "## Vectors"
   ]
  },
  {
   "cell_type": "code",
   "execution_count": 9,
   "id": "b80d9c67",
   "metadata": {},
   "outputs": [
    {
     "name": "stderr",
     "output_type": "stream",
     "text": [
      "Scanning directory for models: 3901it [00:00, 68600.53it/s]\n"
     ]
    }
   ],
   "source": [
    "dfmodels_all = get_pathdf_models(period_len=None)\n",
    "# dfmodels_all"
   ]
  },
  {
   "cell_type": "code",
   "execution_count": 10,
   "id": "c2c422d3",
   "metadata": {},
   "outputs": [],
   "source": [
    "dfmodels=dfmodels_all[dfmodels_all.period_len.isin(PERIOD_LENS)]\n",
    "# dfmodels"
   ]
  },
  {
   "cell_type": "code",
   "execution_count": 11,
   "id": "7bca848e",
   "metadata": {},
   "outputs": [],
   "source": [
    "# %%timeit\n",
    "# vwords=set(get_valid_words())"
   ]
  },
  {
   "cell_type": "code",
   "execution_count": 12,
   "id": "500e2228",
   "metadata": {},
   "outputs": [],
   "source": [
    "def do_hdf_ingest_vecs(row,only_valid_words=True):\n",
    "    mpath=row.path\n",
    "    m=load_model(mpath)\n",
    "    data=m.wv.vectors\n",
    "    keys=[m.wv.index_to_key[i] for i in range(len(data))]\n",
    "    res=pd.DataFrame(data, index=keys)\n",
    "    if only_valid_words:\n",
    "        vwords=set(get_valid_words())\n",
    "        res=res.loc[set(res.index) & vwords]\n",
    "    qstr=f'/vecs/{row.corpus}/{row.period}/{int(row.run.split(\"_\")[-1])}'\n",
    "    return (qstr,res)\n",
    "\n",
    "def hdf_ingest_vecs(dfmodels, only_valid_words=True):\n",
    "    objs = [row for i,row in dfmodels.iterrows()]\n",
    "    iterr=pmap_iter(do_hdf_ingest_vecs, objs, num_proc=1)\n",
    "    for qstr,qdf in iterr:\n",
    "        qdf.to_hdf(FN_DB,key=qstr)"
   ]
  },
  {
   "cell_type": "code",
   "execution_count": 13,
   "id": "f18adf72",
   "metadata": {},
   "outputs": [],
   "source": [
    "def read_hdf(fn,key,**opts):\n",
    "    try:\n",
    "        return pd.read_hdf(fn,key,**opts)\n",
    "    except KeyError:\n",
    "        return pd.DataFrame()"
   ]
  },
  {
   "cell_type": "code",
   "execution_count": 24,
   "id": "fdd90c1f",
   "metadata": {},
   "outputs": [],
   "source": [
    "# hdf_ingest_vecs(dfmodels)"
   ]
  },
  {
   "cell_type": "code",
   "execution_count": 27,
   "id": "20e3a93a",
   "metadata": {},
   "outputs": [],
   "source": [
    "def dbget(key):\n",
    "    try:\n",
    "        return get_db().get(key)\n",
    "    except KeyError:\n",
    "        return pd.DataFrame()"
   ]
  },
  {
   "cell_type": "code",
   "execution_count": 28,
   "id": "de0b0066",
   "metadata": {},
   "outputs": [],
   "source": [
    "def vecs(period,run=1,corpus=DEFAULT_CORPUS):\n",
    "    qstr=f'/vecs/{corpus}/{period}/{run}'\n",
    "    #return get_db().get(qstr)\n",
    "    #return read_hdf(FN_DB,qstr)\n",
    "    return dbget(qstr)"
   ]
  },
  {
   "cell_type": "code",
   "execution_count": 31,
   "id": "6738b5fe",
   "metadata": {},
   "outputs": [],
   "source": [
    "# vecs('1820-1840',423432)"
   ]
  },
  {
   "cell_type": "markdown",
   "id": "f0ecef8f",
   "metadata": {},
   "source": [
    "## Distances"
   ]
  },
  {
   "cell_type": "code",
   "execution_count": 32,
   "id": "61230003",
   "metadata": {},
   "outputs": [],
   "source": [
    "def vecs2dist(dfvecs,only_valid_words=True,lim=None):\n",
    "    if only_valid_words: dfvecs=dfvecs.loc[set(dfvecs.index)&set(get_valid_words())]\n",
    "    if lim: dfvecs=dfvecs[:lim]\n",
    "    dfsim=pd.DataFrame(\n",
    "        fastdist.cosine_pairwise_distance(\n",
    "            dfvecs.values.astype(float),\n",
    "            return_matrix=True\n",
    "        ),\n",
    "        index=dfvecs.index,\n",
    "        columns=dfvecs.index\n",
    "    )\n",
    "    dfdist=1-dfsim\n",
    "    return dfdist"
   ]
  },
  {
   "cell_type": "code",
   "execution_count": 33,
   "id": "9b441f4e",
   "metadata": {},
   "outputs": [],
   "source": [
    "# vecs2dist(vecs(random.choice(periods)))"
   ]
  },
  {
   "cell_type": "code",
   "execution_count": 34,
   "id": "f345d62d-dca3-42b4-92d4-f52113bcb798",
   "metadata": {},
   "outputs": [],
   "source": [
    "def ingest_dists_model(\n",
    "        period,run=1,corpus=DEFAULT_CORPUS,\n",
    "        only_valid_words=True,lim=25000,force=False,**attrs):\n",
    "    dfvecs=vecs(period,run)\n",
    "    dfdist=vecs2dist(dfvecs,only_valid_words=only_valid_words,lim=lim)\n",
    "    return dfdist\n",
    "\n",
    "def ingest_dists_model_(objd): return ingest_dists_model(**objd)"
   ]
  },
  {
   "cell_type": "code",
   "execution_count": 35,
   "id": "bbb8c5a8-c942-460f-b0de-1f1182dcfd6a",
   "metadata": {},
   "outputs": [],
   "source": [
    "def ingest_dists(dfmodels,only_valid_words=True,lim=None,num_proc=1,force=False):\n",
    "    dfmodels['run_int']=dfmodels.run.apply(lambda x: int(x.split('_')[-1]))\n",
    "    objs = [\n",
    "        dict(\n",
    "            period=period,\n",
    "            run=run,\n",
    "            corpus=corpus,\n",
    "            only_valid_words=only_valid_words,\n",
    "            lim=lim,\n",
    "            qstr=f'/dists/{corpus}/{period}/{run}'\n",
    "        )\n",
    "        for period,run,corpus in zip(dfmodels.period, dfmodels.run_int, dfmodels.corpus)\n",
    "    ]\n",
    "    if not force: objs = [d for d in objs if not db_has_key(d['qstr'])]\n",
    "            \n",
    "    iterr=pmap_iter(ingest_dists_model_, objs, num_proc=num_proc)\n",
    "    #with get_db(mode='a') as db:\n",
    "    for idx,odf in zip(objs, iterr):\n",
    "        if odf is None: continue\n",
    "        #odf.to_hdf(FN_DB, key=idx['qstr'])\n",
    "        get_db().put(key=idx['qstr'], value=odf, format=HDF_FORMAT)"
   ]
  },
  {
   "cell_type": "code",
   "execution_count": null,
   "id": "163b5777",
   "metadata": {},
   "outputs": [
    {
     "name": "stderr",
     "output_type": "stream",
     "text": [
      "Mapping ingest_dists_model_() [x1]:   0%|          | 1/983 [00:16<4:31:01, 16.56s/it]"
     ]
    }
   ],
   "source": [
    "ingest_dists(dfmodels,num_proc=1)"
   ]
  },
  {
   "cell_type": "code",
   "execution_count": null,
   "id": "61acdd39",
   "metadata": {},
   "outputs": [],
   "source": []
  },
  {
   "cell_type": "code",
   "execution_count": null,
   "id": "ad88fbca-217d-44ee-875b-09b98149e2ff",
   "metadata": {},
   "outputs": [],
   "source": []
  }
 ],
 "metadata": {
  "kernelspec": {
   "display_name": "Python 3",
   "language": "python",
   "name": "python3"
  },
  "language_info": {
   "codemirror_mode": {
    "name": "ipython",
    "version": 3
   },
   "file_extension": ".py",
   "mimetype": "text/x-python",
   "name": "python",
   "nbconvert_exporter": "python",
   "pygments_lexer": "ipython3",
   "version": "3.8.5"
  },
  "widgets": {
   "application/vnd.jupyter.widget-state+json": {
    "state": {},
    "version_major": 2,
    "version_minor": 0
   }
  }
 },
 "nbformat": 4,
 "nbformat_minor": 5
}
