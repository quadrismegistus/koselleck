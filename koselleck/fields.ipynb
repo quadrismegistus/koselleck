{
 "cells": [
  {
   "cell_type": "markdown",
   "metadata": {},
   "source": [
    "# Semantic fields"
   ]
  },
  {
   "cell_type": "code",
   "execution_count": 4,
   "metadata": {},
   "outputs": [
    {
     "name": "stderr",
     "output_type": "stream",
     "text": [
      "[Koselleck] (22:23:02) Alles bereit (+0.1s)\n"
     ]
    }
   ],
   "source": [
    "from ipynb.fs.full.koselleck import *"
   ]
  },
  {
   "cell_type": "markdown",
   "metadata": {},
   "source": [
    "## Words to use everywhere"
   ]
  },
  {
   "cell_type": "code",
   "execution_count": 5,
   "metadata": {},
   "outputs": [],
   "source": [
    "def get_stopwords(ifn=FN_STOPWORDS):\n",
    "    with open(ifn) as f:\n",
    "        return set(tokenize_fast(f.read()))"
   ]
  },
  {
   "cell_type": "code",
   "execution_count": 6,
   "metadata": {},
   "outputs": [
    {
     "data": {
      "text/plain": [
       "(1929,\n",
       " ['hr',\n",
       "  'meself',\n",
       "  'whee',\n",
       "  'n2',\n",
       "  'finally',\n",
       "  'working',\n",
       "  'twelfth',\n",
       "  'approximately',\n",
       "  'over',\n",
       "  'two-thousand'])"
      ]
     },
     "execution_count": 6,
     "metadata": {},
     "output_type": "execute_result"
    }
   ],
   "source": [
    "stops=get_stopwords()\n",
    "len(stops),random.sample(stops,10)"
   ]
  },
  {
   "cell_type": "code",
   "execution_count": 7,
   "metadata": {},
   "outputs": [],
   "source": [
    "def get_valid_words(only_pos={'nn1'},max_rank=25000,force=False,lim=None,remove_stopwords=True):\n",
    "    posstr='-'.join(sorted(list(only_pos)))\n",
    "    if remove_stopwords: stops=get_stopwords()\n",
    "    fnfn=FN_WORDS if not only_pos else FN_WORDS.replace('.txt',f'.{posstr}.txt')\n",
    "    if not force and os.path.exists(fnfn):\n",
    "        with open(fnfn) as f:\n",
    "            words=tokenize_fast(f.read())\n",
    "            \n",
    "    else:\n",
    "        C=get_corpus()\n",
    "        mfwdf=C.mfw_df(only_pos=only_pos).query(f'ranks_avg<={max_rank}')\n",
    "        words = list(mfwdf.index)\n",
    "        with open(fnfn,'w') as of:\n",
    "            of.write('\\n'.join(words))\n",
    "    words=[w for w in words if not remove_stopwords or w not in stops]\n",
    "    return words[:lim]"
   ]
  },
  {
   "cell_type": "code",
   "execution_count": 8,
   "metadata": {},
   "outputs": [
    {
     "data": {
      "text/plain": [
       "(5911,\n",
       " ['house',\n",
       "  'tile',\n",
       "  'church',\n",
       "  'hand',\n",
       "  'book',\n",
       "  'author',\n",
       "  'street',\n",
       "  'power',\n",
       "  'head',\n",
       "  'history'])"
      ]
     },
     "execution_count": 8,
     "metadata": {},
     "output_type": "execute_result"
    }
   ],
   "source": [
    "words=get_valid_words(force=False)\n",
    "len(words),words[:10]"
   ]
  },
  {
   "cell_type": "markdown",
   "metadata": {},
   "source": [
    "### All nouns?"
   ]
  },
  {
   "cell_type": "code",
   "execution_count": 13,
   "metadata": {},
   "outputs": [],
   "source": [
    "def get_all_nouns(**y):\n",
    "    return get_valid_words(only_pos={'nn1','nn2'},**y)"
   ]
  },
  {
   "cell_type": "code",
   "execution_count": 16,
   "metadata": {},
   "outputs": [],
   "source": [
    "def get_all_nouns_adjs(**y):\n",
    "    return get_valid_words(only_pos={'nn1','nn2','jj'},**y)"
   ]
  },
  {
   "cell_type": "code",
   "execution_count": 15,
   "metadata": {},
   "outputs": [
    {
     "data": {
      "text/plain": [
       "(11820,\n",
       " ['suddenness',\n",
       "  'moorish',\n",
       "  'judgement',\n",
       "  'compression',\n",
       "  'heartfelt',\n",
       "  'impotent',\n",
       "  'residents',\n",
       "  'indignant',\n",
       "  'sparrow',\n",
       "  'park'])"
      ]
     },
     "execution_count": 15,
     "metadata": {},
     "output_type": "execute_result"
    }
   ],
   "source": [
    "allnouns=get_all_nouns()\n",
    "len(allnouns),random.sample(allnouns,10)"
   ]
  },
  {
   "cell_type": "code",
   "execution_count": 17,
   "metadata": {},
   "outputs": [
    {
     "data": {
      "text/plain": [
       "(11820,\n",
       " ['long',\n",
       "  'ill',\n",
       "  'house',\n",
       "  'young',\n",
       "  'tile',\n",
       "  'church',\n",
       "  'general',\n",
       "  'english',\n",
       "  'hand',\n",
       "  'public'])"
      ]
     },
     "execution_count": 17,
     "metadata": {},
     "output_type": "execute_result"
    }
   ],
   "source": [
    "allwords=get_all_nouns_adjs()\n",
    "len(allwords),allwords[:10]"
   ]
  },
  {
   "cell_type": "markdown",
   "metadata": {},
   "source": [
    "### Top nouns"
   ]
  },
  {
   "cell_type": "code",
   "execution_count": 29,
   "metadata": {},
   "outputs": [],
   "source": [
    "def get_top_nouns(): return get_all_nouns(lim=2000)"
   ]
  },
  {
   "cell_type": "code",
   "execution_count": 32,
   "metadata": {},
   "outputs": [
    {
     "data": {
      "text/plain": [
       "(8942,\n",
       " ['punt',\n",
       "  'cloister',\n",
       "  'legion',\n",
       "  'void',\n",
       "  'successor',\n",
       "  'ridicule',\n",
       "  'cattle',\n",
       "  'shopkeepers',\n",
       "  'phase',\n",
       "  'twill'])"
      ]
     },
     "execution_count": 32,
     "metadata": {},
     "output_type": "execute_result"
    }
   ],
   "source": [
    "topnouns = set(get_all_nouns())\n",
    "len(topnouns),random.sample(topnouns,10)"
   ]
  },
  {
   "cell_type": "code",
   "execution_count": 33,
   "metadata": {},
   "outputs": [
    {
     "name": "stderr",
     "output_type": "stream",
     "text": [
      "[Koselleck] (13:08:11) culture is in topnouns\n",
      "[Koselleck] (13:08:11) progress is in topnouns\n",
      "[Koselleck] (13:08:11) value is in topnouns\n",
      "[Koselleck] (13:08:11) liberty is in topnouns\n",
      "[Koselleck] (13:08:11) sensibility is in topnouns\n"
     ]
    }
   ],
   "source": [
    "# Test if in there\n",
    "for kw in ['culture','progress','value','liberty','sensibility']:\n",
    "    print(f'{kw} is in topnouns' if kw in topnouns else f'{fk} is not in topnouns')"
   ]
  },
  {
   "cell_type": "markdown",
   "metadata": {},
   "source": [
    "## Keywords"
   ]
  },
  {
   "cell_type": "code",
   "execution_count": 34,
   "metadata": {},
   "outputs": [],
   "source": [
    "def get_keywords_df(url=URL_KEYWORDS,just_words=False):\n",
    "    df=pd.read_csv(url).fillna('')\n",
    "    df['word']=df.word.apply(lambda x: x.lower())\n",
    "    # df=df[~df.word.isin({'?',''})]\n",
    "    return df.set_index('word')"
   ]
  },
  {
   "cell_type": "code",
   "execution_count": 36,
   "metadata": {},
   "outputs": [
    {
     "data": {
      "text/html": [
       "<div>\n",
       "<style scoped>\n",
       "    .dataframe tbody tr th:only-of-type {\n",
       "        vertical-align: middle;\n",
       "    }\n",
       "\n",
       "    .dataframe tbody tr th {\n",
       "        vertical-align: top;\n",
       "    }\n",
       "\n",
       "    .dataframe thead th {\n",
       "        text-align: right;\n",
       "    }\n",
       "</style>\n",
       "<table border=\"1\" class=\"dataframe\">\n",
       "  <thead>\n",
       "    <tr style=\"text-align: right;\">\n",
       "      <th></th>\n",
       "      <th>changes</th>\n",
       "      <th>explanation</th>\n",
       "      <th>in_author</th>\n",
       "      <th>process</th>\n",
       "      <th>change_type</th>\n",
       "      <th>from</th>\n",
       "      <th>toward</th>\n",
       "      <th>when</th>\n",
       "      <th>use</th>\n",
       "      <th>note_transl</th>\n",
       "      <th>Word</th>\n",
       "      <th>Wort</th>\n",
       "    </tr>\n",
       "    <tr>\n",
       "      <th>word</th>\n",
       "      <th></th>\n",
       "      <th></th>\n",
       "      <th></th>\n",
       "      <th></th>\n",
       "      <th></th>\n",
       "      <th></th>\n",
       "      <th></th>\n",
       "      <th></th>\n",
       "      <th></th>\n",
       "      <th></th>\n",
       "      <th></th>\n",
       "      <th></th>\n",
       "    </tr>\n",
       "  </thead>\n",
       "  <tbody>\n",
       "    <tr>\n",
       "      <th>?</th>\n",
       "      <td></td>\n",
       "      <td></td>\n",
       "      <td>Koselleck</td>\n",
       "      <td></td>\n",
       "      <td></td>\n",
       "      <td></td>\n",
       "      <td></td>\n",
       "      <td></td>\n",
       "      <td></td>\n",
       "      <td>Separation of powers</td>\n",
       "      <td>?</td>\n",
       "      <td>Gewaltenteilung</td>\n",
       "    </tr>\n",
       "    <tr>\n",
       "      <th>?</th>\n",
       "      <td></td>\n",
       "      <td></td>\n",
       "      <td>Koselleck</td>\n",
       "      <td></td>\n",
       "      <td></td>\n",
       "      <td></td>\n",
       "      <td></td>\n",
       "      <td></td>\n",
       "      <td></td>\n",
       "      <td></td>\n",
       "      <td>?</td>\n",
       "      <td>Stand</td>\n",
       "    </tr>\n",
       "    <tr>\n",
       "      <th>?</th>\n",
       "      <td></td>\n",
       "      <td></td>\n",
       "      <td>Koselleck</td>\n",
       "      <td></td>\n",
       "      <td></td>\n",
       "      <td></td>\n",
       "      <td></td>\n",
       "      <td></td>\n",
       "      <td></td>\n",
       "      <td></td>\n",
       "      <td>?</td>\n",
       "      <td>Völkerrecht</td>\n",
       "    </tr>\n",
       "    <tr>\n",
       "      <th>?</th>\n",
       "      <td></td>\n",
       "      <td></td>\n",
       "      <td>Koselleck</td>\n",
       "      <td></td>\n",
       "      <td></td>\n",
       "      <td></td>\n",
       "      <td></td>\n",
       "      <td></td>\n",
       "      <td></td>\n",
       "      <td></td>\n",
       "      <td>?</td>\n",
       "      <td>politischer Körper</td>\n",
       "    </tr>\n",
       "    <tr>\n",
       "      <th>?</th>\n",
       "      <td></td>\n",
       "      <td></td>\n",
       "      <td>Koselleck</td>\n",
       "      <td></td>\n",
       "      <td></td>\n",
       "      <td></td>\n",
       "      <td></td>\n",
       "      <td></td>\n",
       "      <td></td>\n",
       "      <td></td>\n",
       "      <td>?</td>\n",
       "      <td>Obrigkeit</td>\n",
       "    </tr>\n",
       "    <tr>\n",
       "      <th>...</th>\n",
       "      <td>...</td>\n",
       "      <td>...</td>\n",
       "      <td>...</td>\n",
       "      <td>...</td>\n",
       "      <td>...</td>\n",
       "      <td>...</td>\n",
       "      <td>...</td>\n",
       "      <td>...</td>\n",
       "      <td>...</td>\n",
       "      <td>...</td>\n",
       "      <td>...</td>\n",
       "      <td>...</td>\n",
       "    </tr>\n",
       "    <tr>\n",
       "      <th>western</th>\n",
       "      <td></td>\n",
       "      <td></td>\n",
       "      <td>Williams</td>\n",
       "      <td></td>\n",
       "      <td></td>\n",
       "      <td></td>\n",
       "      <td></td>\n",
       "      <td></td>\n",
       "      <td></td>\n",
       "      <td></td>\n",
       "      <td>Western</td>\n",
       "      <td></td>\n",
       "    </tr>\n",
       "    <tr>\n",
       "      <th>work</th>\n",
       "      <td>Man-- Interp++ Freq+ Sing+ Virtue+ Pos+ Perc- Acad+ Active+</td>\n",
       "      <td></td>\n",
       "      <td>Williams</td>\n",
       "      <td></td>\n",
       "      <td></td>\n",
       "      <td></td>\n",
       "      <td></td>\n",
       "      <td></td>\n",
       "      <td></td>\n",
       "      <td></td>\n",
       "      <td>Work</td>\n",
       "      <td></td>\n",
       "    </tr>\n",
       "    <tr>\n",
       "      <th>work</th>\n",
       "      <td>Man-- Interp++ Freq+ Sing+ Virtue+ Pos+ Perc- Acad+ Active+</td>\n",
       "      <td></td>\n",
       "      <td>Koselleck</td>\n",
       "      <td></td>\n",
       "      <td></td>\n",
       "      <td></td>\n",
       "      <td></td>\n",
       "      <td></td>\n",
       "      <td></td>\n",
       "      <td></td>\n",
       "      <td>Work</td>\n",
       "      <td>Arbeit</td>\n",
       "    </tr>\n",
       "    <tr>\n",
       "      <th>world</th>\n",
       "      <td>Interp-- Sing+ Freq+ Abs-</td>\n",
       "      <td></td>\n",
       "      <td>Koselleck</td>\n",
       "      <td></td>\n",
       "      <td></td>\n",
       "      <td></td>\n",
       "      <td></td>\n",
       "      <td></td>\n",
       "      <td></td>\n",
       "      <td></td>\n",
       "      <td>World</td>\n",
       "      <td>Welt</td>\n",
       "    </tr>\n",
       "    <tr>\n",
       "      <th>crisis</th>\n",
       "      <td></td>\n",
       "      <td>Medical meaning dominant until early modern period; took on religious and theological meanings in later C18; became a term of secular apocalypse in application to french and american revolutions. Now expressive of a new sense of time. NOT in GG: never crystallized into a basic concept.</td>\n",
       "      <td>KoselleckJHI</td>\n",
       "      <td></td>\n",
       "      <td></td>\n",
       "      <td></td>\n",
       "      <td></td>\n",
       "      <td></td>\n",
       "      <td></td>\n",
       "      <td></td>\n",
       "      <td></td>\n",
       "      <td></td>\n",
       "    </tr>\n",
       "  </tbody>\n",
       "</table>\n",
       "<p>252 rows × 12 columns</p>\n",
       "</div>"
      ],
      "text/plain": [
       "                                                             changes  \\\n",
       "word                                                                   \n",
       "?                                                                      \n",
       "?                                                                      \n",
       "?                                                                      \n",
       "?                                                                      \n",
       "?                                                                      \n",
       "...                                                              ...   \n",
       "western                                                                \n",
       "work     Man-- Interp++ Freq+ Sing+ Virtue+ Pos+ Perc- Acad+ Active+   \n",
       "work     Man-- Interp++ Freq+ Sing+ Virtue+ Pos+ Perc- Acad+ Active+   \n",
       "world                                      Interp-- Sing+ Freq+ Abs-   \n",
       "crisis                                                                 \n",
       "\n",
       "                                                                                                                                                                                                                                                                                            explanation  \\\n",
       "word                                                                                                                                                                                                                                                                                                      \n",
       "?                                                                                                                                                                                                                                                                                                         \n",
       "?                                                                                                                                                                                                                                                                                                         \n",
       "?                                                                                                                                                                                                                                                                                                         \n",
       "?                                                                                                                                                                                                                                                                                                         \n",
       "?                                                                                                                                                                                                                                                                                                         \n",
       "...                                                                                                                                                                                                                                                                                                 ...   \n",
       "western                                                                                                                                                                                                                                                                                                   \n",
       "work                                                                                                                                                                                                                                                                                                      \n",
       "work                                                                                                                                                                                                                                                                                                      \n",
       "world                                                                                                                                                                                                                                                                                                     \n",
       "crisis   Medical meaning dominant until early modern period; took on religious and theological meanings in later C18; became a term of secular apocalypse in application to french and american revolutions. Now expressive of a new sense of time. NOT in GG: never crystallized into a basic concept.   \n",
       "\n",
       "            in_author process change_type from toward when use  \\\n",
       "word                                                             \n",
       "?           Koselleck                                            \n",
       "?           Koselleck                                            \n",
       "?           Koselleck                                            \n",
       "?           Koselleck                                            \n",
       "?           Koselleck                                            \n",
       "...               ...     ...         ...  ...    ...  ...  ..   \n",
       "western      Williams                                            \n",
       "work         Williams                                            \n",
       "work        Koselleck                                            \n",
       "world       Koselleck                                            \n",
       "crisis   KoselleckJHI                                            \n",
       "\n",
       "                  note_transl     Word                Wort  \n",
       "word                                                        \n",
       "?        Separation of powers        ?     Gewaltenteilung  \n",
       "?                                    ?               Stand  \n",
       "?                                    ?         Völkerrecht  \n",
       "?                                    ?  politischer Körper  \n",
       "?                                    ?           Obrigkeit  \n",
       "...                       ...      ...                 ...  \n",
       "western                        Western                      \n",
       "work                              Work                      \n",
       "work                              Work              Arbeit  \n",
       "world                            World                Welt  \n",
       "crisis                                                      \n",
       "\n",
       "[252 rows x 12 columns]"
      ]
     },
     "execution_count": 36,
     "metadata": {},
     "output_type": "execute_result"
    }
   ],
   "source": [
    "dfkw=get_keywords_df()\n",
    "dfkw"
   ]
  },
  {
   "cell_type": "code",
   "execution_count": 44,
   "metadata": {},
   "outputs": [],
   "source": [
    "# as list\n",
    "def get_keywords():\n",
    "    return set(x for x in get_keywords_df().index if x and x[0].isalpha() and not ' ' in x)\n",
    "get_keywords_l = get_keywords"
   ]
  },
  {
   "cell_type": "code",
   "execution_count": 46,
   "metadata": {},
   "outputs": [
    {
     "data": {
      "text/plain": [
       "(213,\n",
       " ['consensus',\n",
       "  'city',\n",
       "  'monarchy',\n",
       "  'civil',\n",
       "  'imperialism',\n",
       "  'job',\n",
       "  'commercialism',\n",
       "  'capitalism',\n",
       "  'fiction',\n",
       "  'culture'])"
      ]
     },
     "execution_count": 46,
     "metadata": {},
     "output_type": "execute_result"
    }
   ],
   "source": [
    "kwl=get_keywords()\n",
    "len(kwl),random.sample(kwl,10)"
   ]
  },
  {
   "cell_type": "code",
   "execution_count": 50,
   "metadata": {},
   "outputs": [
    {
     "data": {
      "text/plain": [
       "Counter({True: 132, False: 81})"
      ]
     },
     "execution_count": 50,
     "metadata": {},
     "output_type": "execute_result"
    }
   ],
   "source": [
    "# test in topnouns\n",
    "Counter(x in topnouns for x in kwl)"
   ]
  },
  {
   "cell_type": "markdown",
   "metadata": {},
   "source": [
    "## Keywords"
   ]
  },
  {
   "cell_type": "code",
   "execution_count": 61,
   "metadata": {},
   "outputs": [],
   "source": [
    "def get_origfields():\n",
    "    with open(FN_ORIGFIELDS,'rb') as f:\n",
    "        return pickle.load(f)"
   ]
  },
  {
   "cell_type": "code",
   "execution_count": 65,
   "metadata": {},
   "outputs": [
    {
     "data": {
      "text/plain": [
       "(24,\n",
       " ['Abs-Conc.MT-Conc.Abs.orig',\n",
       "  'Abs-Conc.LSN-Hapt.Neither.orig',\n",
       "  'Abs-Conc.PAV-Imag.Conc.orig',\n",
       "  'Abs-Conc.LSN-Imag.Conc.orig',\n",
       "  'Abs-Conc.MRC-Imag.Neither.orig',\n",
       "  'Abs-Conc.MT-Conc.Conc.orig',\n",
       "  'Abs-Conc.LSN-Imag.Neither.orig',\n",
       "  'Abs-Conc.MRC-Imag.Abs.orig',\n",
       "  'Abs-Conc.LSN-Imag.Abs.orig',\n",
       "  'Abs-Conc.PAV-Imag.Neither.orig'])"
      ]
     },
     "execution_count": 65,
     "metadata": {},
     "output_type": "execute_result"
    }
   ],
   "source": [
    "origfields=get_origfields()\n",
    "len(origfields),random.sample(origfields.keys(),10)"
   ]
  },
  {
   "cell_type": "code",
   "execution_count": 67,
   "metadata": {},
   "outputs": [],
   "source": [
    "def get_fields():\n",
    "    with open(FN_FIELDS) as f:\n",
    "        fieldd={**json.load(f), **get_origfields()}\n",
    "        return fieldd"
   ]
  },
  {
   "cell_type": "code",
   "execution_count": 70,
   "metadata": {},
   "outputs": [
    {
     "data": {
      "text/plain": [
       "(316,\n",
       " ['HGI.Pain',\n",
       "  'HGI.DIST',\n",
       "  'HGI.DIM',\n",
       "  'HGI.Quan',\n",
       "  'HGI.RcEnds',\n",
       "  'REF.stopwords',\n",
       "  'RH.AbstractValues_MoralValuation',\n",
       "  'HGI.IPadj',\n",
       "  'VG.Human',\n",
       "  'RH.HardSeed_ActionVerbs'])"
      ]
     },
     "execution_count": 70,
     "metadata": {},
     "output_type": "execute_result"
    }
   ],
   "source": [
    "fields=get_fields()\n",
    "len(fields),random.sample(fields.keys(),10)"
   ]
  }
 ],
 "metadata": {
  "kernelspec": {
   "display_name": "Python 3",
   "language": "python",
   "name": "python3"
  },
  "language_info": {
   "codemirror_mode": {
    "name": "ipython",
    "version": 3
   },
   "file_extension": ".py",
   "mimetype": "text/x-python",
   "name": "python",
   "nbconvert_exporter": "python",
   "pygments_lexer": "ipython3",
   "version": "3.7.7"
  },
  "widgets": {
   "application/vnd.jupyter.widget-state+json": {
    "state": {},
    "version_major": 2,
    "version_minor": 0
   }
  }
 },
 "nbformat": 4,
 "nbformat_minor": 4
}
