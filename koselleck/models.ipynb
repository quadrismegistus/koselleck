{
 "cells": [
  {
   "cell_type": "markdown",
   "metadata": {},
   "source": [
    "# Word embedding models"
   ]
  },
  {
   "cell_type": "code",
   "execution_count": 4,
   "metadata": {},
   "outputs": [
    {
     "name": "stderr",
     "output_type": "stream",
     "text": [
      "[Koselleck] (17:38:42) Alles bereit (+0.0s)\n"
     ]
    }
   ],
   "source": [
    "from ipynb.fs.full.koselleck import *"
   ]
  },
  {
   "cell_type": "markdown",
   "metadata": {},
   "source": [
    "## Skipgrams"
   ]
  },
  {
   "cell_type": "markdown",
   "metadata": {},
   "source": [
    "### Generated elsewhere..."
   ]
  },
  {
   "cell_type": "markdown",
   "metadata": {},
   "source": [
    "### Loading"
   ]
  },
  {
   "cell_type": "code",
   "execution_count": 5,
   "metadata": {},
   "outputs": [],
   "source": [
    "def get_skipgrams(idir=PATH_SKIPGRAMS_YR,skipgram_n=25, calc_numlines=False):\n",
    "    odf=pd.DataFrame([\n",
    "        {\n",
    "            'corpus':fn.split('.')[2],\n",
    "            'year':int([x for x in fn.split('.') if x.isdigit()][0]),\n",
    "#             'period_end':int([x for x in fn.split('.') if x.isdigit()][-1]),\n",
    "            'path':os.path.join(idir,fn)\n",
    "        }\n",
    "        for fn in os.listdir(idir)\n",
    "        if fn.startswith('data.skipgrams')\n",
    "    ]).sort_values(['corpus','year'])\n",
    "    if calc_numlines:\n",
    "        odf['num_lines']=odf.path.progress_apply(get_numlines)\n",
    "        odf['num_words']=odf['num_lines']*skipgram_n\n",
    "    return odf#.query('1680<=year<1970')"
   ]
  },
  {
   "cell_type": "code",
   "execution_count": 6,
   "metadata": {},
   "outputs": [],
   "source": [
    "# get_skipgrams()"
   ]
  },
  {
   "cell_type": "code",
   "execution_count": 7,
   "metadata": {},
   "outputs": [],
   "source": [
    "# dfskip=get_skipgrams(calc_numlines=True)\n",
    "# dfskip['period']=dfskip.year.apply(lambda y: periodize(y,YEARBIN))\n",
    "# dfskip"
   ]
  },
  {
   "cell_type": "code",
   "execution_count": 8,
   "metadata": {},
   "outputs": [],
   "source": [
    "# dfskip.groupby('period').num_words.sum()"
   ]
  },
  {
   "cell_type": "code",
   "execution_count": 9,
   "metadata": {},
   "outputs": [],
   "source": [
    "def get_dfskipruns(dfskip,num_runs=10,incl_existing=False):\n",
    "    dfskipruns=pd.concat([\n",
    "        dfskip.assign(run=f'run_{str(i+1).zfill(2)}')\n",
    "        for i in range(num_runs)\n",
    "    ])\n",
    "    dfskipruns['opath']=dfskipruns.apply(lambda row: os.path.join(PATH_MODELS_NEW,row.corpus,row.period,row.run,'model.bin'),1)\n",
    "    dfskipruns['opath_exists']=dfskipruns.opath.apply(lambda x: os.path.exists(x))\n",
    "    if not incl_existing: dfskipruns=dfskipruns[dfskipruns.opath_exists==False]\n",
    "    return dfskipruns"
   ]
  },
  {
   "cell_type": "code",
   "execution_count": 10,
   "metadata": {},
   "outputs": [],
   "source": [
    "# get_dfskipruns(dfskip,num_runs=2)"
   ]
  },
  {
   "cell_type": "markdown",
   "metadata": {},
   "source": [
    "## Generate models"
   ]
  },
  {
   "cell_type": "code",
   "execution_count": 11,
   "metadata": {},
   "outputs": [],
   "source": [
    "def gen_and_save_model(dfskip,nskip=DEFAULT_NUM_SKIP,force=False,vector_size=100,window=10,min_count=5,epochs=10,workers=8,verbose=False):\n",
    "    row=dfskip.iloc[0]\n",
    "    odir=os.path.join(PATH_MODELS_NEW,row.corpus,row.period,row.run)\n",
    "    ofnfn=os.path.join(odir,'model.bin')\n",
    "    if force or not os.path.exists(ofnfn):\n",
    "        ensure_dir_exists(odir)\n",
    "        ss=SkipgramsSamplers(dfskip.path, nskip)\n",
    "        disable_gensim_logging() if not verbose else enable_gensim_logging()\n",
    "        model = Word2Vec(sentences=ss,vector_size=vector_size,window=window,min_count=min_count,epochs=epochs,workers=workers)\n",
    "        model.save(ofnfn)\n",
    "    return pd.DataFrame([{'fnfn':ofnfn}])\n"
   ]
  },
  {
   "cell_type": "code",
   "execution_count": 12,
   "metadata": {},
   "outputs": [],
   "source": [
    "# fnfn=gen_and_save_model(get_dfskipruns(dfskip).iloc[:1], force=True).fnfn.iloc[0]\n",
    "# load_model(fnfn).wv.most_similar('value')"
   ]
  },
  {
   "cell_type": "code",
   "execution_count": 13,
   "metadata": {},
   "outputs": [],
   "source": [
    "# res=pmap_groups(\n",
    "#     gen_and_save_model,\n",
    "#     dfskipruns.groupby(['period','run']),\n",
    "#     num_proc=4,\n",
    "#     kwargs=dict(force=True, nskip=NSKIP_PER_YR)\n",
    "# )"
   ]
  },
  {
   "cell_type": "code",
   "execution_count": 14,
   "metadata": {},
   "outputs": [],
   "source": [
    "def gen_models(\n",
    "        ybin=5,\n",
    "        ymin=1680,\n",
    "        ymax=1970,\n",
    "        num_runs=1,\n",
    "        force=False,\n",
    "        nskip_per_yr=NSKIP_PER_YR\n",
    "    ):\n",
    "    dfskip=get_skipgrams(calc_numlines=False).query(f'{ymin}<=year<{ymax}')\n",
    "    dfskip['period']=dfskip.year.apply(lambda y: periodize(y,ybin))\n",
    "    dfskipruns=get_dfskipruns(dfskip, num_runs=num_runs, incl_existing=force)\n",
    "    dfgrps=dfskipruns.groupby(['period','run'])\n",
    "    print(f'Generating {len(dfgrps)} new models over {dfskipruns.period.nunique()} periods and {dfskipruns.run.nunique()} runs')\n",
    "    return pmap_groups(\n",
    "        gen_and_save_model,\n",
    "        dfskipruns.groupby(['period','run']),\n",
    "        num_proc=4,\n",
    "        kwargs=dict(force=force, nskip=nskip_per_yr)\n",
    "    )"
   ]
  },
  {
   "cell_type": "code",
   "execution_count": 15,
   "metadata": {},
   "outputs": [],
   "source": [
    "# gen_models(num_runs=10)"
   ]
  },
  {
   "cell_type": "markdown",
   "metadata": {},
   "source": [
    "## Test models"
   ]
  },
  {
   "cell_type": "markdown",
   "metadata": {},
   "source": [
    "### Getting model paths"
   ]
  },
  {
   "cell_type": "code",
   "execution_count": 16,
   "metadata": {},
   "outputs": [],
   "source": [
    "\n",
    "            \n",
    "def get_model_paths(model_dir=PATH_MODELS,model_fn='model.bin',vocab_fn='vocab.txt',period_len=None):\n",
    "    \"\"\"\n",
    "    Get all models' paths\n",
    "    \"\"\"\n",
    "    ld=[]\n",
    "    for root,dirs,fns in tqdm(os.walk(model_dir),desc='Scanning directory for models'):\n",
    "        if model_fn in fns:\n",
    "            corpus,period,run=root.split('/')[-3:]\n",
    "            if not 'run_' in run:\n",
    "                corpus,period=root.split('/')[-2:]\n",
    "                run=None\n",
    "            dx={\n",
    "                'corpus':corpus,\n",
    "                'period_start':int(period.split('-')[0]),\n",
    "                'period_end':int(period.split('-')[-1]),\n",
    "                'path':os.path.join(root,model_fn),\n",
    "                'path_vocab':os.path.join(root,vocab_fn)\n",
    "            }\n",
    "            if run is not None: dx['run']=run\n",
    "            if period_len and int(dx['period_end'])-int(dx['period_start'])!=period_len:\n",
    "                continue\n",
    "            ld.append(dx)\n",
    "    return ld"
   ]
  },
  {
   "cell_type": "code",
   "execution_count": 17,
   "metadata": {},
   "outputs": [
    {
     "data": {
      "text/plain": [
       "(1720, 1900, 5)"
      ]
     },
     "execution_count": 17,
     "metadata": {},
     "output_type": "execute_result"
    }
   ],
   "source": [
    "YMIN,YMAX,YEARBIN"
   ]
  },
  {
   "cell_type": "code",
   "execution_count": 18,
   "metadata": {},
   "outputs": [],
   "source": [
    "def get_pathdf_models(period_len=YEARBIN,ymin=YMIN,ymax=YMAX):\n",
    "    pathdf=pd.DataFrame(get_model_paths(PATH_MODELS_BPO, 'model.bin'))#.sort_values(['period_start','run'])\n",
    "    pathdf['period']=[f'{x}-{y}' for x,y in zip(pathdf.period_start, pathdf.period_end)]\n",
    "    pathdf['period_len']=pathdf.period_end - pathdf.period_start\n",
    "    pathdf['qstr']=[\n",
    "        f'vecs({period}_{run.split(\"_\")[-1]})'\n",
    "        for period,run in zip(pathdf.period, pathdf.run)\n",
    "    ]\n",
    "    if period_len: pathdf=pathdf[pathdf.period_len==period_len]\n",
    "    if ymin: pathdf=pathdf[pathdf.period_start>=ymin]\n",
    "    if ymax: pathdf=pathdf[pathdf.period_end<=ymax]\n",
    "    return pathdf[~pathdf.period.isnull()].sort_values('period_start')"
   ]
  },
  {
   "cell_type": "code",
   "execution_count": 19,
   "metadata": {},
   "outputs": [],
   "source": [
    "# get_pathdf_models()"
   ]
  },
  {
   "cell_type": "code",
   "execution_count": 20,
   "metadata": {},
   "outputs": [],
   "source": [
    "def get_default_models(ymin=YMIN,ymax=YMAX,ybin=YEARBIN,num_runs=10):\n",
    "    if os.path.exists(FN_DEFAULT_MODEL_PATHS):\n",
    "        odf=read_df(FN_DEFAULT_MODEL_PATHS)\n",
    "    else:\n",
    "        odf=get_pathdf_models(period_len=ybin)\n",
    "        odf.to_pickle(FN_DEFAULT_MODEL_PATHS)\n",
    "    return odf.query(f'{ymin}<=period_start & period_end<={ymax} & run<=\"run_{num_runs:02}\"')\n",
    "    \n",
    "\n",
    "def get_default_periods(**y):\n",
    "    return sorted(list(set(get_default_models(**y).period)))"
   ]
  },
  {
   "cell_type": "code",
   "execution_count": 1,
   "metadata": {},
   "outputs": [],
   "source": [
    "# get_default_periods()"
   ]
  },
  {
   "cell_type": "markdown",
   "metadata": {},
   "source": [
    "## Input prep"
   ]
  },
  {
   "cell_type": "code",
   "execution_count": 22,
   "metadata": {},
   "outputs": [],
   "source": [
    "def get_periods_runs(period_or_periods=None,run_or_runs=None,num_runs=10):\n",
    "    periods=period_or_periods\n",
    "    if periods is None: periods=get_default_periods()\n",
    "    if type(periods)==str: periods=tokenize_fast(periods)\n",
    "    periods=set(periods)\n",
    "    runs=run_or_runs    \n",
    "    if runs is None: runs=list(range(1,num_runs+1))\n",
    "    if type(runs)==int: runs=[runs]\n",
    "    if type(runs)==str: runs=[int(runs)]\n",
    "    runs=set(runs)\n",
    "    return periods,runs"
   ]
  },
  {
   "cell_type": "code",
   "execution_count": 2,
   "metadata": {},
   "outputs": [],
   "source": [
    "# get_periods_runs('1770-1775,1780-1785')"
   ]
  },
  {
   "cell_type": "code",
   "execution_count": 24,
   "metadata": {},
   "outputs": [],
   "source": [
    "# get_default_models()"
   ]
  },
  {
   "cell_type": "code",
   "execution_count": 25,
   "metadata": {},
   "outputs": [],
   "source": [
    "# get_default_periods(ymin=1800)"
   ]
  },
  {
   "cell_type": "markdown",
   "metadata": {},
   "source": [
    "### Loading models"
   ]
  },
  {
   "cell_type": "code",
   "execution_count": 4,
   "metadata": {},
   "outputs": [],
   "source": [
    "\n",
    "def load_model(path_model,path_vocab=None,min_count=None,cache_bin=True,cache=False):\n",
    "    global MODEL_CACHE\n",
    "    \n",
    "    if cache and path_model in MODEL_CACHE: return MODEL_CACHE[path_model]\n",
    "#     print('Loading',path_model)\n",
    "    model=do_load_model(path_model,path_vocab=path_vocab,min_count=min_count,cache_bin=cache_bin)\n",
    "    return model\n",
    "    \n",
    "def do_load_model(path_model,path_vocab=None,min_count=None,cache_bin=True):\n",
    "#     print('>> loading',path_model)\n",
    "    path_model_bin=path_model.split('.txt')[0]+'.bin' if not path_model.endswith('.bin') else path_model\n",
    "    if os.path.exists(path_model_bin):\n",
    "        model=gensim.models.KeyedVectors.load(path_model_bin,mmap='r')\n",
    "    elif os.path.exists(path_model):\n",
    "        if not path_vocab: path_vocab=os.path.join(os.path.dirname(path_model,'vocab.txt'))\n",
    "        if os.path.exists(path_vocab):\n",
    "            model = gensim.models.KeyedVectors.load_word2vec_format(path_model,path_vocab)\n",
    "            if min_count: filter_model(model,min_count=min_count)\n",
    "        else:\n",
    "            model = gensim.models.KeyedVectors.load_word2vec_format(path_model)\n",
    "        if cache_bin:\n",
    "            model.save(path_model_bin)\n",
    "    else:\n",
    "        print('!!??',path_model)\n",
    "        stop\n",
    "        return None\n",
    "#     print(path_model, len(model.wv.key_to_index))\n",
    "    return model\n",
    "    "
   ]
  },
  {
   "cell_type": "code",
   "execution_count": null,
   "metadata": {},
   "outputs": [],
   "source": []
  },
  {
   "cell_type": "code",
   "execution_count": 5,
   "metadata": {},
   "outputs": [],
   "source": [
    "# row = get_default_models().sample(n=1).iloc[0]\n",
    "# load_model_row(row)"
   ]
  },
  {
   "cell_type": "code",
   "execution_count": 42,
   "metadata": {},
   "outputs": [],
   "source": [
    "# m=load_model('/home/ryan/github/koselleck/data1/models/bpo/1805-1810/run_25/model.bin')\n",
    "# m.wv.most_similar('virtue')"
   ]
  },
  {
   "cell_type": "code",
   "execution_count": 41,
   "metadata": {},
   "outputs": [],
   "source": [
    "# m=load_model('/home/ryan/github/koselleck/data1/models/bpo/1945-1950/run_07/model.bin')\n",
    "# m.wv.most_similar(['king','woman'],['man'])"
   ]
  },
  {
   "cell_type": "code",
   "execution_count": 30,
   "metadata": {},
   "outputs": [],
   "source": [
    "def test_models(dfmodels,gby=['period','run']):\n",
    "    o=[]\n",
    "    dfgrp=dfmodels.groupby(gby)\n",
    "    for period,dfg in tqdm(sorted(dfgrp)):#, total=len(dfgrp)):\n",
    "        path=dfg.iloc[-1].path\n",
    "        m=load_model(path)\n",
    "        try:\n",
    "            testvec=m.wv.most_similar(['king','woman'],['man'],topn=25)\n",
    "        except KeyError:\n",
    "            continue\n",
    "        testvec_wl=[x for x,y in testvec]\n",
    "        has_queen='queen' in set(testvec_wl)\n",
    "        odx={\n",
    "            **dict(zip(gby,period)),\n",
    "            'has_queen':has_queen,\n",
    "            'rank_queen':testvec_wl.index('queen') if has_queen else np.nan,\n",
    "            'neighborhood':', '.join(testvec_wl),\n",
    "        }\n",
    "        o+=[odx]\n",
    "#         break\n",
    "    return pd.DataFrame(o)"
   ]
  },
  {
   "cell_type": "code",
   "execution_count": 31,
   "metadata": {},
   "outputs": [],
   "source": [
    "# dfmodels = get_pathdf_models().query('period_len==5')\n",
    "# dftests  = test_models(dfmodels)\n",
    "# dftests.to_csv('../../data/data.model.tests.csv')\n",
    "# dftests.query('has_queen==True').groupby('period').size()\n",
    "# dftests"
   ]
  },
  {
   "cell_type": "code",
   "execution_count": 32,
   "metadata": {},
   "outputs": [],
   "source": [
    "def get_new_veclib_word_data_path(word):\n",
    "    ofn=os.path.join(PATH_DB,'cdists',f'data.cdists.{word}.pkl.gz')\n",
    "    odir=os.path.dirname(ofn)\n",
    "    if not os.path.exists(odir): os.makedirs(odir)\n",
    "    return ofn"
   ]
  },
  {
   "cell_type": "code",
   "execution_count": 33,
   "metadata": {},
   "outputs": [
    {
     "data": {
      "text/plain": [
       "'/home/ryan/github/koselleck/db/cdists/data.cdists.virtue.pkl.gz'"
      ]
     },
     "execution_count": 33,
     "metadata": {},
     "output_type": "execute_result"
    }
   ],
   "source": [
    "get_new_veclib_word_data_path('virtue')"
   ]
  },
  {
   "cell_type": "code",
   "execution_count": 34,
   "metadata": {},
   "outputs": [],
   "source": [
    "def get_veclib_word_data(word,progress=True,cache=True,cache_only=False,force=False,remove_old=True,\n",
    "                        periods=None):\n",
    "    if progress: print(f'Loading cdist data for \"{word}\"')\n",
    "    odf=pd.DataFrame()\n",
    "    fnfn=get_new_veclib_word_data_path(word)\n",
    "    oldfnfn=get_old_veclib_word_data_path(word)\n",
    "    if cache and not force and os.path.exists(fnfn):\n",
    "        try:\n",
    "            odf=read_df(fnfn)\n",
    "            if progress: print(f'Finished loading cdist data from pkl for \"{word}\"')\n",
    "        except Exception as e:\n",
    "            print('!!',e)\n",
    "    if not len(odf):\n",
    "        if not os.path.exists(oldfnfn):\n",
    "            if progress: print(f'No file found at {oldfnfn}')\n",
    "        else:\n",
    "            with get_veclib_word(word) as vl:\n",
    "                dfdist=pd.DataFrame(dict(vl.items())).T.rename_axis('period_run_')\n",
    "                dfdist['period_'],dfdist['run_']=zip(*[x.split('_') for x in dfdist.index])\n",
    "                dfdist['run_']=dfdist['run_'].apply(int)\n",
    "                odf=dfdist.reset_index().drop('period_run_',1).set_index(['period_','run_'])\n",
    "                if cache:\n",
    "                    if progress: print(f'Saving dfdist to \"{fnfn}\"')\n",
    "                    odf.to_pickle(fnfn)\n",
    "                    if remove_old and os.path.exists(oldfnfn):\n",
    "                        if progress: print(f'Removing old data from \"{oldfnfn}\"')\n",
    "                        os.remove(oldfnfn)\n",
    "                if progress: print(f'Finished loading cdist data from sqlite for \"{word}\"')\n",
    "    if not len(odf): return odf\n",
    "    odf['word_']=word\n",
    "    odf=odf.reset_index()\n",
    "    \n",
    "    if periods is None: periods=set(get_default_periods())\n",
    "    odf=odf[odf.period_.isin(periods)]\n",
    "    odf=odf.set_index(['word_','period_','run_']).rename_axis(['word','period','run'])\n",
    "    return odf"
   ]
  },
  {
   "cell_type": "code",
   "execution_count": 35,
   "metadata": {},
   "outputs": [],
   "source": [
    "# dfdist=get_veclib_word_data('histories',force=False,remove_old=False,cache_only=False)\n",
    "# dfdist"
   ]
  },
  {
   "cell_type": "code",
   "execution_count": 36,
   "metadata": {},
   "outputs": [],
   "source": [
    "def get_all_words_in_sqlite_data():\n",
    "    fns=os.listdir(os.path.join(PATH_DB,'wvecs'))\n",
    "    words=[fn.split('.sqlite')[0].split('.')[-1] for fn in fns]\n",
    "    return words"
   ]
  },
  {
   "cell_type": "code",
   "execution_count": 37,
   "metadata": {},
   "outputs": [],
   "source": [
    "# words=get_all_words_in_sqlite_data()\n",
    "# len(words),random.sample(words,10)"
   ]
  },
  {
   "cell_type": "code",
   "execution_count": 38,
   "metadata": {},
   "outputs": [],
   "source": [
    "def _get_veclib_word_data_(objd): return get_veclib_word_data(**objd)\n",
    "def reformat_all_sqlite_data(words=None,lim=None,num_proc=1,remove_old=True):\n",
    "    words=get_all_words_in_sqlite_data()[:lim] if words is None else list(words)[:lim]\n",
    "    return pmap(\n",
    "        _get_veclib_word_data_,\n",
    "        [dict(word=word,progress=False,cache=True,force=True,remove_old=remove_old,\n",
    "              cache_only=True) for word in words],\n",
    "        num_proc=num_proc,\n",
    "        desc='Reformatting old sqlite data into pkl files',\n",
    "        use_threads=False\n",
    "    )"
   ]
  },
  {
   "cell_type": "code",
   "execution_count": 39,
   "metadata": {},
   "outputs": [],
   "source": [
    "# words=get_valid_words()\n",
    "# random.shuffle(words)\n",
    "# res=reformat_all_sqlite_data(words,lim=None,num_proc=4)"
   ]
  },
  {
   "cell_type": "code",
   "execution_count": null,
   "metadata": {},
   "outputs": [],
   "source": []
  },
  {
   "cell_type": "code",
   "execution_count": null,
   "metadata": {},
   "outputs": [],
   "source": []
  },
  {
   "cell_type": "markdown",
   "metadata": {},
   "source": [
    "## Misc. functions"
   ]
  },
  {
   "cell_type": "code",
   "execution_count": 40,
   "metadata": {},
   "outputs": [],
   "source": [
    "\n",
    "\n",
    "def measure_ambiguity(model,words=None,topn=10):\n",
    "    dfdist=to_dist(model,words=words)\n",
    "    g=to_semnet_from_dist(dfdist,topn=topn)\n",
    "    s=pd.Series(nx.clustering(g)).sort_values()\n",
    "    amb=1-s\n",
    "    return amb\n",
    "\n",
    "def to_dist(m,words=None,z=1,norm=1,maxwords=10000):\n",
    "    if words is None:\n",
    "        words=[m.wv.index_to_key[i] for i in range(maxwords)]\n",
    "    else:\n",
    "        words=set(words) & set(m.wv.key_to_index.keys())\n",
    "    words=list(words)\n",
    "    vecs = np.array([m.wv[w] for w in words], dtype=np.float64)\n",
    "    omatrix = fastdist.cosine_pairwise_distance(vecs, return_matrix=True)\n",
    "    odf = round(pd.DataFrame(omatrix, index=words, columns=words),6)\n",
    "    maxv=odf.max().max()\n",
    "    odf=odf.replace({maxv:np.nan})\n",
    "    if norm: odf=maxv - odf\n",
    "    if z: odf=(odf - odf.mean().mean())/odf.std().std()\n",
    "    return odf\n",
    "\n",
    "def to_semnet_from_dist(dfdist,cutoff=3,topn=10):\n",
    "    g=nx.Graph()\n",
    "    for word1 in dfdist.columns:\n",
    "        for word2,val in dfdist[word1].sort_values(ascending=True).iloc[:topn].items():\n",
    "            g.add_edge(word1,word2,weight=val*-1)\n",
    "    return g\n",
    "\n",
    "def measure_ambiguity(model,words=None,topn=10,z=False):\n",
    "    dfdist=to_dist(model,words=words)\n",
    "    g=to_semnet_from_dist(dfdist,topn=topn)\n",
    "    s=pd.Series(nx.clustering(g)).sort_values()\n",
    "    amb=1-s\n",
    "    if z: amb=(amb - amb.mean())/amb.std()\n",
    "    return amb\n",
    "\n",
    "def get_any_model(dfpath=None):\n",
    "    if dfpath is None: dfpath=get_pathdf_models_bydecade()\n",
    "    row=dfpath.sample(n=1).iloc[0]\n",
    "    return load_model_row(row)\n",
    "\n",
    "def measure_freq(model,words=None,tf=True,z=False):\n",
    "    mwords=set(model.wv.key_to_index.keys())\n",
    "    words=mwords if not words else mwords&set(words)\n",
    "    vocabd=dict(\n",
    "        (\n",
    "            w,\n",
    "            model.wv.get_vecattr(w,'count')\n",
    "        )\n",
    "        for w in words\n",
    "    )\n",
    "    svocab=pd.Series(vocabd)\n",
    "    if tf: svocab=svocab / svocab.sum()\n",
    "    if z: svocab=(svocab - svocab.mean()) / svocab.std()\n",
    "    return svocab\n",
    "\n",
    "INFLECTER=None\n",
    "def measure_singularism(m,words=None,z=True):\n",
    "    global INFLECTER\n",
    "    if INFLECTER is None:\n",
    "        import inflect\n",
    "        INFLECTER=inflect.engine() \n",
    "    p=INFLECTER\n",
    "\n",
    "    if not words: words=get_valid_words()\n",
    "    words=list(set(words) & set(m.wv.key_to_index.keys()))\n",
    "    words_plurals = pmap(p.plural_noun, words, num_proc=1, progress=False)\n",
    "    s=measure_freq(m,words=set(words+words_plurals),z=z)\n",
    "    sd=dict(s)\n",
    "    odf=pd.DataFrame([\n",
    "        {'word':ws, 'word_pural':wp, 'freq_sing':sd.get(ws), 'freq_plural':sd.get(wp)}\n",
    "        for ws,wp in zip(words,words_plurals)\n",
    "        if ws!=wp\n",
    "    ])\n",
    "    odf['freq_diff']=odf['freq_sing']-odf['freq_plural']\n",
    "    odf['rank_sing']=odf['freq_sing'].rank(ascending=True)\n",
    "    odf['rank_plural']=odf['freq_plural'].rank(ascending=True)\n",
    "    odf['rank_diff']=odf['rank_sing']-odf['rank_plural']\n",
    "    if z:\n",
    "        for x in odf.select_dtypes('number').columns:\n",
    "            odf[x]=(odf[x] - odf[x].mean())/odf[x].std()\n",
    "    return odf.set_index('word').sort_values('rank_diff').dropna()\n"
   ]
  },
  {
   "cell_type": "code",
   "execution_count": null,
   "metadata": {},
   "outputs": [],
   "source": []
  },
  {
   "cell_type": "code",
   "execution_count": null,
   "metadata": {},
   "outputs": [],
   "source": []
  }
 ],
 "metadata": {
  "kernelspec": {
   "display_name": "Python 3",
   "language": "python",
   "name": "python3"
  },
  "language_info": {
   "codemirror_mode": {
    "name": "ipython",
    "version": 3
   },
   "file_extension": ".py",
   "mimetype": "text/x-python",
   "name": "python",
   "nbconvert_exporter": "python",
   "pygments_lexer": "ipython3",
   "version": "3.7.7"
  },
  "widgets": {
   "application/vnd.jupyter.widget-state+json": {
    "state": {},
    "version_major": 2,
    "version_minor": 0
   }
  }
 },
 "nbformat": 4,
 "nbformat_minor": 4
}
