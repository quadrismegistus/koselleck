{
 "cells": [
  {
   "cell_type": "markdown",
   "id": "4cf297ab-c4f4-43f5-9111-5a54a5cff3f8",
   "metadata": {},
   "source": [
    "## ldist: Local neighborhood distances"
   ]
  },
  {
   "cell_type": "code",
   "execution_count": 2,
   "id": "4b11c5a1",
   "metadata": {},
   "outputs": [],
   "source": [
    "from ipynb.fs.full.koselleck import *"
   ]
  },
  {
   "cell_type": "code",
   "execution_count": 12,
   "id": "1a5a6bb5-f920-49d2-bc3d-93b2cfb3c688",
   "metadata": {},
   "outputs": [],
   "source": [
    "INDEX_LDIST=['word1','word2','corpus1','corpus2','period1','period2']\n",
    "\n",
    "def ldist_qstr(col1,col2,k,incl_words):\n",
    "    return f\"{col1}/{col2}/k={k}/incl_words={incl_words}\"\n",
    "\n",
    "def ldist_word_qstr(word,ymin=YMIN_DISTMAT,ymax=YMAX_DISTMAT,ybin=YBIN_DISTMAT,k=K,\n",
    "                    corpus=DEFAULT_CORPUS):\n",
    "    return f'{word}/{corpus}/{ymin}-{ymax}_{ybin}'\n",
    "\n",
    "def ldist(word_or_words, all_periods=False, **ldist_iter_opts):\n",
    "    l=[res for res in ldist_iter(word_or_words, **ldist_iter_opts)]\n",
    "    odf=pd.concat(l) if len(l) else pd.DataFrame()\n",
    "    if len(odf) and all_periods:\n",
    "        odf=odf.reset_index()\n",
    "        odf=odf.append(odf.assign(period1=odf.period2, period2=odf.period1))\n",
    "        odf=odf.set_index(INDEX_LDIST).sort_index()\n",
    "    return odf\n",
    "\n",
    "def ldist_iter(word_or_words, force=False, num_proc=1,\n",
    "               ymin=YMIN_DISTMAT,ymax=YMAX_DISTMAT,ybin=YBIN_DISTMAT,k=K,\n",
    "               corpus=DEFAULT_CORPUS,commit_byword=False,progress=True,cache=True,\n",
    "               **ldist_word_opts):\n",
    "    objs=[\n",
    "        dict(word=w, force=force, progress=False, num_proc=1,# if commit_byword else num_proc,\n",
    "             commit=not commit_byword, return_dict=False, qstr=ldist_word_qstr(\n",
    "                w,ymin=ymin,ymax=ymax,ybin=ybin,k=k,corpus=corpus\n",
    "             ), **ldist_word_opts)\n",
    "        for w in to_words(word_or_words)\n",
    "    ]\n",
    "    \n",
    "    iterr=pmap_iter(\n",
    "        ldist_word_,\n",
    "        objs,\n",
    "        num_proc=num_proc,#1 if not commit_byword else num_proc,\n",
    "        progress=progress if len(objs)>1 else False,\n",
    "        kwargs=dict(ymin=ymin,ybin=ybin,ymax=ymax,k=k,commit=cache,progress=progress if len(objs)==1 else False)\n",
    "    )\n",
    "        #for i,dbd in enumerate(iterr):\n",
    "        #    for qstr,odx in dbd.items(): db[qstr]=odx\n",
    "        #    if i and not i%100: db.commit()\n",
    "        #    odf=pd.DataFrame(dbd.values())\n",
    "    \n",
    "    if commit_byword:\n",
    "        with get_db('ldist',mode='c') as db:\n",
    "            for i,(obj,odf) in enumerate(zip(objs,iterr)):\n",
    "                if odf is not None and len(odf):\n",
    "                    db[obj['qstr']]=odf\n",
    "                    yield odf\n",
    "                if i and not i%10: db.commit()\n",
    "            db.commit()\n",
    "    else:\n",
    "        yield from iterr\n",
    "    \n",
    "def ldist_word_(objd, **attrs):\n",
    "    o={**objd, **attrs}\n",
    "    return ldist_word(**o)\n",
    "def ldist_word(word,\n",
    "               k=K,\n",
    "               incl_words=False,\n",
    "               force=False,\n",
    "               progress=True,\n",
    "               num_proc=1,\n",
    "               ybin=YBIN_DISTMAT,\n",
    "               ymin=YMIN_DISTMAT,\n",
    "               ymax=YMAX_DISTMAT,\n",
    "               return_dict=False,\n",
    "               commit=True,\n",
    "               **wdist_opts):\n",
    "    dfdist=wdist(word, ybin=ybin, ymin=ymin, ymax=ymax, **wdist_opts)\n",
    "    l=[]\n",
    "    qcols=[\n",
    "        (col1,col2,ldist_qstr(col1,col2,k,incl_words))\n",
    "        for col1 in dfdist.columns for col2 in dfdist.columns if col1<col2\n",
    "    ]\n",
    "    dbdone,dbqueue={},{}\n",
    "    if force or not commit:\n",
    "        ql=qcols\n",
    "    else:\n",
    "        with get_db('ldist',mode='r') as db:\n",
    "            for q in qcols:\n",
    "                if q[-1] in db:\n",
    "                    dbdone[q[-1]]=db[q[-1]]\n",
    "            ql=[q for q in qcols if not q[-1] in dbdone]\n",
    "    \n",
    "    if len(ql):\n",
    "        objs = [\n",
    "            (dfdist[col1],dfdist[col2],k,incl_words)\n",
    "            for col1,col2,qstr in ql\n",
    "        ]\n",
    "        \n",
    "        iterr = pmap_iter(do_ldist, objs, num_proc=num_proc, progress=progress)\n",
    "        for (col1,col2,qstr),odx in zip(ql,iterr):\n",
    "            odx['word1'],odx['corpus1'],odx['period1']=col1.split('_')\n",
    "            odx['word2'],odx['corpus2'],odx['period2']=col2.split('_')\n",
    "            dbqueue[qstr]=odx\n",
    "        iterr.close()\n",
    "        \n",
    "        if commit:\n",
    "            with get_db('ldist',mode='c') as db:\n",
    "                for qstr,odx in dbqueue.items():\n",
    "                    db[qstr]=odx\n",
    "                db.commit()\n",
    "    \n",
    "    dbd={**dbdone, **dbqueue}\n",
    "    if return_dict: return dbd\n",
    "    odf=pd.DataFrame(dbd.values())\n",
    "    if len(odf): odf=odf.set_index(INDEX_LDIST).sort_index()\n",
    "    return odf\n",
    "    \n",
    "    \n",
    "    \n",
    "    \n",
    "    \n",
    "def do_ldist(obj):\n",
    "    s1,s2,k,incl_words=obj\n",
    "    s1,s2=s1.dropna(),s2.dropna()\n",
    "    valid_words_now=set(s1.index) & set(s2.index)\n",
    "    s1=s1.loc[valid_words_now].sort_values()\n",
    "    s2=s2.loc[valid_words_now].sort_values()\n",
    "\n",
    "    # get top words for each\n",
    "    nb1=s1.iloc[:k].index\n",
    "    nb2=s2.iloc[:k].index\n",
    "\n",
    "    # get meta neighborhoods\n",
    "    mnb=list(set(nb1)|set(nb2))\n",
    "    nb1s=s1.loc[mnb]\n",
    "    nb2s=s2.loc[mnb]\n",
    "\n",
    "    # try to get distance\n",
    "    try:\n",
    "        #print(f'Computing: {col1} vs {col2}')\n",
    "        distdists = 1-fastdist.cosine(nb1s.values.astype(float), nb2s.values.astype(float))\n",
    "    except ZeroDivisionError as e:\n",
    "        distdists=np.nan\n",
    "\n",
    "    # return dict as df\n",
    "    odx={\n",
    "        'dist':distdists,\n",
    "        'mneighb_size':len(mnb),\n",
    "        'neighb1_size':len(nb1),\n",
    "        'neighb2_size':len(nb2),\n",
    "        'neighb1':', '.join(nb1) if incl_words else '',\n",
    "        'neighb2':', '.join(nb2) if incl_words else '',\n",
    "    }\n",
    "    return odx"
   ]
  },
  {
   "cell_type": "code",
   "execution_count": 13,
   "id": "a628274b-0716-4006-92d1-51c4c514cbf4",
   "metadata": {},
   "outputs": [
    {
     "name": "stderr",
     "output_type": "stream",
     "text": [
      "Mapping ldist_word_() [x1]: 100%|██████████| 3/3 [00:12<00:00,  4.24s/it]\n"
     ]
    }
   ],
   "source": [
    "# wl=random.sample(get_valid_words(),3)\n",
    "wl=get_valid_words()\n",
    "for odf in ldist_iter(wl,ymin=1680,ymax=1960,num_proc=4):\n",
    "    #display(odf)\n",
    "    #break\n",
    "    pass"
   ]
  },
  {
   "cell_type": "code",
   "execution_count": null,
   "id": "2c8866e1",
   "metadata": {},
   "outputs": [],
   "source": [
    "stop"
   ]
  },
  {
   "cell_type": "code",
   "execution_count": 4,
   "id": "30dac437-93b3-4514-8b82-c658ec752536",
   "metadata": {},
   "outputs": [],
   "source": [
    "# w=random.choice(get_valid_words())\n",
    "# ldist(w,ybin=20,all_periods=True)"
   ]
  },
  {
   "cell_type": "markdown",
   "id": "cbf17328",
   "metadata": {},
   "source": [
    "## Speed of change"
   ]
  },
  {
   "cell_type": "code",
   "execution_count": 5,
   "id": "adf60445",
   "metadata": {},
   "outputs": [],
   "source": [
    "# def speed(words):\n",
    "    \n",
    "def speed_word(word, ybin=YBIN_DISTMAT, **ldist_opts):\n",
    "    def is_bef_aft(row):\n",
    "        return row.period2.split('-')[0] == row.period1.split('-')[-1]\n",
    "    \n",
    "    dists=ldist(word, ybin=ybin, all_periods=True,**ldist_opts).reset_index()\n",
    "    dists_wanted = dists[dists.apply(is_bef_aft,axis=1)]\n",
    "    return dists_wanted\n",
    "    \n",
    "    groups=list(dists.groupby('period1'))\n",
    "    l=[]\n",
    "    for period,pdf in dists.groupby('period1'):\n",
    "        for i,p2 in enumerate(sorted(pdf.period2)):\n",
    "            if p2>=period: break\n",
    "        period_justbefore = pdf.iloc[i-1]\n",
    "        o=dict(\n",
    "            **dict(period_justbefore),\n",
    "        )\n",
    "        l+=[o]\n",
    "    return pd.DataFrame(l)"
   ]
  },
  {
   "cell_type": "code",
   "execution_count": 6,
   "id": "62b94aae",
   "metadata": {},
   "outputs": [],
   "source": [
    "# dfnov=get_nov_data_summarised()\n",
    "# dfnov"
   ]
  },
  {
   "cell_type": "code",
   "execution_count": 7,
   "id": "bd931d25",
   "metadata": {},
   "outputs": [],
   "source": [
    "# dfnov.p_peak.sort_values()"
   ]
  },
  {
   "cell_type": "code",
   "execution_count": 12,
   "id": "86ce9bf1",
   "metadata": {},
   "outputs": [],
   "source": [
    "novwords=set(get_signif_novelty_words())\n",
    "# novwords"
   ]
  },
  {
   "cell_type": "code",
   "execution_count": 14,
   "id": "6507baa9",
   "metadata": {},
   "outputs": [
    {
     "data": {
      "text/plain": [
       "True"
      ]
     },
     "execution_count": 14,
     "metadata": {},
     "output_type": "execute_result"
    }
   ],
   "source": [
    "'culture' in novwords"
   ]
  },
  {
   "cell_type": "code",
   "execution_count": 26,
   "id": "8a2e10ac",
   "metadata": {},
   "outputs": [
    {
     "name": "stderr",
     "output_type": "stream",
     "text": [
      "Mapping do_ldist() [x1]:  97%|█████████▋| 35/36 [00:00<00:00, 49.24it/s]\n"
     ]
    },
    {
     "data": {
      "text/plain": [
       "<AxesSubplot:title={'center':'edges'}, xlabel='period2'>"
      ]
     },
     "execution_count": 26,
     "metadata": {},
     "output_type": "execute_result"
    },
    {
     "data": {
      "image/png": "[encoded data removed]",
      "text/plain": [
       "<Figure size 432x288 with 1 Axes>"
      ]
     },
     "metadata": {
      "needs_background": "light"
     },
     "output_type": "display_data"
    }
   ],
   "source": [
    "w=random.choice(list(novwords))\n",
    "odf=speed_word(w,ybin=20)\n",
    "odf.plot(x='period2',y='dist',kind='line',title=w)"
   ]
  },
  {
   "cell_type": "code",
   "execution_count": 24,
   "id": "9902a22a",
   "metadata": {},
   "outputs": [
    {
     "data": {
      "text/html": [
       "<div>\n",
       "<style scoped>\n",
       "    .dataframe tbody tr th:only-of-type {\n",
       "        vertical-align: middle;\n",
       "    }\n",
       "\n",
       "    .dataframe tbody tr th {\n",
       "        vertical-align: top;\n",
       "    }\n",
       "\n",
       "    .dataframe thead th {\n",
       "        text-align: right;\n",
       "    }\n",
       "</style>\n",
       "<table border=\"1\" class=\"dataframe\">\n",
       "  <thead>\n",
       "    <tr style=\"text-align: right;\">\n",
       "      <th></th>\n",
       "      <th></th>\n",
       "      <th>foote_novelty</th>\n",
       "      <th>foote_size</th>\n",
       "      <th>p_peak</th>\n",
       "      <th>p_trough</th>\n",
       "    </tr>\n",
       "    <tr>\n",
       "      <th>word</th>\n",
       "      <th>period</th>\n",
       "      <th></th>\n",
       "      <th></th>\n",
       "      <th></th>\n",
       "      <th></th>\n",
       "    </tr>\n",
       "  </thead>\n",
       "  <tbody>\n",
       "    <tr>\n",
       "      <th rowspan=\"6\" valign=\"top\">monday</th>\n",
       "      <th>1755-1760</th>\n",
       "      <td>2.148106</td>\n",
       "      <td>4</td>\n",
       "      <td>0.00</td>\n",
       "      <td>1.0</td>\n",
       "    </tr>\n",
       "    <tr>\n",
       "      <th>1830-1835</th>\n",
       "      <td>1.748778</td>\n",
       "      <td>4</td>\n",
       "      <td>0.04</td>\n",
       "      <td>1.0</td>\n",
       "    </tr>\n",
       "    <tr>\n",
       "      <th>1755-1760</th>\n",
       "      <td>3.516130</td>\n",
       "      <td>5</td>\n",
       "      <td>0.00</td>\n",
       "      <td>1.0</td>\n",
       "    </tr>\n",
       "    <tr>\n",
       "      <th>1825-1830</th>\n",
       "      <td>2.795799</td>\n",
       "      <td>5</td>\n",
       "      <td>0.02</td>\n",
       "      <td>1.0</td>\n",
       "    </tr>\n",
       "    <tr>\n",
       "      <th>1755-1760</th>\n",
       "      <td>4.256656</td>\n",
       "      <td>6</td>\n",
       "      <td>0.01</td>\n",
       "      <td>1.0</td>\n",
       "    </tr>\n",
       "    <tr>\n",
       "      <th>1760-1765</th>\n",
       "      <td>4.065956</td>\n",
       "      <td>6</td>\n",
       "      <td>0.04</td>\n",
       "      <td>1.0</td>\n",
       "    </tr>\n",
       "  </tbody>\n",
       "</table>\n",
       "</div>"
      ],
      "text/plain": [
       "                  foote_novelty  foote_size  p_peak  p_trough\n",
       "word   period                                                \n",
       "monday 1755-1760       2.148106           4    0.00       1.0\n",
       "       1830-1835       1.748778           4    0.04       1.0\n",
       "       1755-1760       3.516130           5    0.00       1.0\n",
       "       1825-1830       2.795799           5    0.02       1.0\n",
       "       1755-1760       4.256656           6    0.01       1.0\n",
       "       1760-1765       4.065956           6    0.04       1.0"
      ]
     },
     "execution_count": 24,
     "metadata": {},
     "output_type": "execute_result"
    }
   ],
   "source": [
    "nov('monday').query('p_peak<0.05')"
   ]
  },
  {
   "cell_type": "code",
   "execution_count": null,
   "id": "3b2d2a6a",
   "metadata": {},
   "outputs": [],
   "source": []
  },
  {
   "cell_type": "code",
   "execution_count": null,
   "id": "f1f023f6",
   "metadata": {},
   "outputs": [],
   "source": []
  },
  {
   "cell_type": "code",
   "execution_count": null,
   "id": "acf45df0",
   "metadata": {},
   "outputs": [],
   "source": []
  }
 ],
 "metadata": {
  "kernelspec": {
   "display_name": "Python 3",
   "language": "python",
   "name": "python3"
  },
  "language_info": {
   "codemirror_mode": {
    "name": "ipython",
    "version": 3
   },
   "file_extension": ".py",
   "mimetype": "text/x-python",
   "name": "python",
   "nbconvert_exporter": "python",
   "pygments_lexer": "ipython3",
   "version": "3.8.5"
  },
  "widgets": {
   "application/vnd.jupyter.widget-state+json": {
    "state": {},
    "version_major": 2,
    "version_minor": 0
   }
  }
 },
 "nbformat": 4,
 "nbformat_minor": 5
}
