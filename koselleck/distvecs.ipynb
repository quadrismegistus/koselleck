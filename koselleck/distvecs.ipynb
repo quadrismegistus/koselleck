{
 "cells": [
  {
   "cell_type": "markdown",
   "metadata": {},
   "source": [
    "# Distances"
   ]
  },
  {
   "cell_type": "code",
   "execution_count": null,
   "metadata": {},
   "outputs": [],
   "source": [
    "from ipynb.fs.full.koselleck import *"
   ]
  },
  {
   "cell_type": "code",
   "execution_count": null,
   "metadata": {},
   "outputs": [],
   "source": [
    "FORCE=False\n",
    "GBY_LOCAL_O=['corpus1', 'corpus2','period1', 'period2', 'word1', 'word2','qstr']"
   ]
  },
  {
   "cell_type": "markdown",
   "metadata": {},
   "source": [
    "## Generating distances en masse"
   ]
  },
  {
   "cell_type": "code",
   "execution_count": null,
   "metadata": {},
   "outputs": [],
   "source": [
    "def _distvecs(objd): return distvecs(**objd)\n",
    "\n",
    "def distvecs(period=None,run=None,prefix='dvecs',max_num=10000,num_runs=10,\n",
    "             num_proc=1,force=False,progress=True,cache_only=True,cache=True):\n",
    "    \n",
    "    argd=dict(\n",
    "        period=period,run=run,prefix=prefix,\n",
    "        max_num=max_num,num_runs=num_runs,\n",
    "        num_proc=num_proc,force=force,progress=progress,\n",
    "        cache_only=cache_only,cache=cache\n",
    "    )\n",
    "    odf=None\n",
    "    \n",
    "    if period is None:\n",
    "        # load cached word?\n",
    "        objs=[{**argd, **{'period':prd, 'progress':True, 'num_proc':1,'cache_only':True}} for prd in get_default_periods()]\n",
    "        odf=pd.concat(pmap(_distvecs, objs, num_proc=num_proc, desc='Measuring cosine distances across periods', progress=progress))\n",
    "        return odf if not cache_only else pd.DataFrame()\n",
    "    \n",
    "    if run is None:\n",
    "        objs=[{**argd, **{'run':run+1, 'progress':True, 'num_proc':1,'cache_only':True}} for run in range(num_runs)]\n",
    "        odf=pd.concat(pmap(_distvecs, objs, num_proc=num_proc, desc='Measuring cosine distances across runs', progress=progress))\n",
    "        return odf if not cache_only else pd.DataFrame()\n",
    "\n",
    "    # load vecs?\n",
    "    dfvecs=vecs(period=period, run=run)\n",
    "    if not len(dfvecs): return pd.DataFrame()\n",
    "    \n",
    "    pprefix=prefix+'_'+period.split('-')[0]+'_'+str(run).zfill(2)\n",
    "#     ofnfn=os.path.join(PATH_DB,'dvecs',f'data.dvecs.{period}_{run:02}.pkl')\n",
    "#     qstr=f'{period}_{run},max_num={max_num}'\n",
    "#     if cache and not force:\n",
    "# #         if os.path.exists(ofnfn):\n",
    "# #             print('Found on disk. Loading...')\n",
    "#             #with open(ofnfn,'rb') as f: od=pickle.load(f)\n",
    "# #             odf=read_df(ofnfn)\n",
    "# #             print('Finished loading')\n",
    "# #             return odf if not cache_only else pd.DataFrame()\n",
    "#         with get_veclib(pprefix,autocommit=False) as vl:\n",
    "#             if len()\n",
    "#             if qstr in vl:\n",
    "#                 print('Found in vector library. Loading')\n",
    "#                 odf=vl[qstr] if not cache_only else pd.DataFrame()\n",
    "#                 print('Finished loading')\n",
    "#                 return odf\n",
    "    # filter\n",
    "    dfvecs=dfvecs.iloc[:max_num]\n",
    "    \n",
    "    #distmat!\n",
    "    if progress: print(f'Computing distances for {max_num} words')\n",
    "    dfdist=pd.DataFrame(\n",
    "        fastdist.cosine_pairwise_distance(\n",
    "            dfvecs.values.astype(float),\n",
    "            return_matrix=True\n",
    "        ),\n",
    "        index=dfvecs.index,\n",
    "        columns=dfvecs.index\n",
    "    )\n",
    "    # csim to cdist?\n",
    "    dfdist=2-dfdist\n",
    "    if progress: print('Done')\n",
    "    \n",
    "    \n",
    "    \n",
    "    # convert to long form\n",
    "#     od = defaultdict(dict)\n",
    "# #     g=nx.Graph()\n",
    "    if cache:\n",
    "#         with get_veclib(pprefix,autocommit=False) as vl:\n",
    "#             for i,w1 in enumerate(tqdm(dfdist.index,position=0,disable=not progress)):\n",
    "#                 vl[w1]=dfdist.loc[w1]\n",
    "# #                 if i and not i%100: vl.commit()\n",
    "#             vl.commit()\n",
    "        def tryword(w1):\n",
    "            try:\n",
    "                with get_veclib(prefix=w1,folders=['wvecs'],autocommit=False) as vl:\n",
    "                    qstr=f'{period}_{run:02}'\n",
    "                    if force or qstr not in vl:\n",
    "                        vl[qstr]=dfdist.loc[w1]\n",
    "                        vl.commit()\n",
    "            except Exception as e:\n",
    "                print('!!',e)\n",
    "                return w1\n",
    "            return 0\n",
    "\n",
    "        tryagain=[]\n",
    "        for i,w1 in enumerate(tqdm(dfdist.index,position=0,disable=not progress)):\n",
    "            res=tryword(w1)\n",
    "            if res!=0: tryagain+=[w1]\n",
    "        for i,w1 in enumerate(tqdm(tryagain,position=0,disable=not progress)):\n",
    "            res=tryword(w1)\n",
    "        \n",
    "        \n",
    "                \n",
    "            \n",
    "#             if w1<w2:\n",
    "# #                 g.add_edge(w1,w2,cdist=val)\n",
    "#                 od[w1][w2]=val\n",
    "#     if cache:\n",
    "#         dfdist.to_pickle(ofnfn)\n",
    "        #with open(ofnfn,'wb') as of: pickle.dump(od,of)\n",
    "#         with get_veclib(pprefix,autocommit=True) as vl:\n",
    "#             vl[qstr]=od\n",
    "    return dfdist if not cache_only else pd.DataFrame()"
   ]
  },
  {
   "cell_type": "code",
   "execution_count": null,
   "metadata": {},
   "outputs": [],
   "source": [
    "# res=distvecs('1780-1785',1)#.loc['culture'][['culture','represent']]\n",
    "# res"
   ]
  },
  {
   "cell_type": "code",
   "execution_count": null,
   "metadata": {},
   "outputs": [],
   "source": [
    "# res=distvecs('1780-1785',num_proc=4)#.loc['culture'][['culture','represent']]\n",
    "# res"
   ]
  },
  {
   "cell_type": "code",
   "execution_count": null,
   "metadata": {},
   "outputs": [],
   "source": [
    "for prd in get_default_periods():\n",
    "    if prd<\"1750\": continue\n",
    "    print(prd)\n",
    "    distvecs(prd,num_proc=1,cache=True,cache_only=True,force=False)"
   ]
  },
  {
   "cell_type": "code",
   "execution_count": null,
   "metadata": {},
   "outputs": [],
   "source": []
  },
  {
   "cell_type": "code",
   "execution_count": null,
   "metadata": {},
   "outputs": [],
   "source": [
    "print('Done!')"
   ]
  },
  {
   "cell_type": "code",
   "execution_count": null,
   "metadata": {},
   "outputs": [],
   "source": []
  },
  {
   "cell_type": "code",
   "execution_count": null,
   "metadata": {},
   "outputs": [],
   "source": []
  }
 ],
 "metadata": {
  "kernelspec": {
   "display_name": "Python 3",
   "language": "python",
   "name": "python3"
  },
  "language_info": {
   "codemirror_mode": {
    "name": "ipython",
    "version": 3
   },
   "file_extension": ".py",
   "mimetype": "text/x-python",
   "name": "python",
   "nbconvert_exporter": "python",
   "pygments_lexer": "ipython3",
   "version": "3.7.7"
  },
  "widgets": {
   "application/vnd.jupyter.widget-state+json": {
    "state": {},
    "version_major": 2,
    "version_minor": 0
   }
  }
 },
 "nbformat": 4,
 "nbformat_minor": 4
}
