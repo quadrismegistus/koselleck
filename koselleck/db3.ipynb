{
 "cells": [
  {
   "cell_type": "markdown",
   "id": "62b38438-0ff3-46c5-9b24-92b9028348cb",
   "metadata": {},
   "source": [
    "# db2"
   ]
  },
  {
   "cell_type": "code",
   "execution_count": 1,
   "id": "c8ff0e11-bab1-4bfa-8250-50fc47a3487c",
   "metadata": {},
   "outputs": [],
   "source": [
    "from ipynb.fs.full.koselleck import *\n",
    "import shelve\n",
    "PERIOD_LENS={5,20,70}\n",
    "MAX_RUNS=10"
   ]
  },
  {
   "cell_type": "markdown",
   "id": "1958f856",
   "metadata": {},
   "source": [
    "## Model definitions"
   ]
  },
  {
   "cell_type": "code",
   "execution_count": 44,
   "id": "9f4208a9",
   "metadata": {},
   "outputs": [],
   "source": [
    "# Use sqlite dictionary\n",
    "def get_db_sqlitedict(prefix,folders=[],autocommit=False,\n",
    "                      mode='c'):\n",
    "    o=[PATH_DB] + folders + [f'db.kos2.{prefix}.sqlite']\n",
    "    ofnfn=os.path.join(*o)\n",
    "    if not os.path.exists(ofnfn): mode='c'\n",
    "    return SqliteDict(\n",
    "        ofnfn,\n",
    "        tablename='data',\n",
    "        autocommit=autocommit,\n",
    "        flag='r' if mode=='r' else 'c',\n",
    "        timeout=30\n",
    "    )"
   ]
  },
  {
   "cell_type": "code",
   "execution_count": 10,
   "id": "fce8c45d",
   "metadata": {},
   "outputs": [],
   "source": [
    "# SqliteDict??"
   ]
  },
  {
   "cell_type": "code",
   "execution_count": 11,
   "id": "275cdab2",
   "metadata": {},
   "outputs": [],
   "source": [
    "# !pip install -U git+https://github.com/RaRe-Technologies/sqlitedict"
   ]
  },
  {
   "cell_type": "code",
   "execution_count": 12,
   "id": "18f01e13",
   "metadata": {},
   "outputs": [],
   "source": [
    "def get_db_shelf(name=None,mode='r'):\n",
    "    fn=FN_DB if not name else FN_DB.replace('.shelf',f'.{name}.shelf')\n",
    "    return shelve.open(fn,flag=mode)"
   ]
  },
  {
   "cell_type": "code",
   "execution_count": 45,
   "id": "83d9339a",
   "metadata": {},
   "outputs": [],
   "source": [
    "def get_db(name=None,mode='r'):\n",
    "    return get_db_sqlitedict(\n",
    "        name,\n",
    "        autocommit=mode=='w',\n",
    "        mode=mode\n",
    "    )"
   ]
  },
  {
   "cell_type": "code",
   "execution_count": 14,
   "id": "568c5eb9",
   "metadata": {},
   "outputs": [],
   "source": [
    "with get_db('testing','w') as db:\n",
    "    db['test']=[1,2,3]"
   ]
  },
  {
   "cell_type": "code",
   "execution_count": 15,
   "id": "7749e46e",
   "metadata": {},
   "outputs": [
    {
     "name": "stderr",
     "output_type": "stream",
     "text": [
      "[Koselleck] (09:15:51) [1, 2, 3] (+28.0s)\n"
     ]
    }
   ],
   "source": [
    "with get_db('testing') as db:\n",
    "    print(db['test'])"
   ]
  },
  {
   "cell_type": "code",
   "execution_count": 16,
   "id": "cfc39e86",
   "metadata": {},
   "outputs": [],
   "source": [
    "def db_split_key(key):\n",
    "    if key.startswith('/'): key=key[1:]\n",
    "    prefix,key=key.split('/',1)\n",
    "    return prefix,key\n",
    "def db_get_keys(prefix):\n",
    "    with get_db(prefix,mode='r') as db: return set(db.keys())\n",
    "def db_has_key(key,prefix=None):\n",
    "    if prefix is None: prefix,key=db_split_key(key)\n",
    "    with get_db(prefix,mode='r') as db: return key in db\n",
    "def dbget(key,default=pd.DataFrame(),prefix=None):\n",
    "    if prefix is None: prefix,key=db_split_key(key)\n",
    "    with get_db(prefix,mode='r') as db:\n",
    "        return db.get(key,default)\n",
    "def dbput(key,val,prefix=None):\n",
    "    if prefix is None:prefix,key=db_split_key(key)\n",
    "    with get_db(prefix,mode='c') as db:\n",
    "        db[key]=val"
   ]
  },
  {
   "cell_type": "code",
   "execution_count": 17,
   "id": "99f4dfd0",
   "metadata": {},
   "outputs": [],
   "source": [
    "# dbput('/testing/hello',[2523325235])"
   ]
  },
  {
   "cell_type": "code",
   "execution_count": 18,
   "id": "9b71f926",
   "metadata": {},
   "outputs": [],
   "source": [
    "# db_get_keys('testing')"
   ]
  },
  {
   "cell_type": "code",
   "execution_count": 19,
   "id": "67c9f599",
   "metadata": {},
   "outputs": [],
   "source": [
    "# dbget('/testing/hello')"
   ]
  },
  {
   "cell_type": "code",
   "execution_count": 20,
   "id": "6c21eb4a",
   "metadata": {},
   "outputs": [],
   "source": [
    "# dbget('/test/hello')\n",
    "# dbput('/test/hello','goodbye')"
   ]
  },
  {
   "cell_type": "code",
   "execution_count": 21,
   "id": "f501b068",
   "metadata": {},
   "outputs": [],
   "source": [
    "# Import into its own shelf\n",
    "# with shelve.open('/home/ryan/db/db.koselleck7.shelve') as db1:\n",
    "#     keys=list(db1.keys())\n",
    "#     dkeys=[x for x in keys if x.startswith('/dists/')]\n",
    "#     for k in tqdm(dkeys):\n",
    "#         kdf=db1[k]\n",
    "#         dbput(k, kdf)"
   ]
  },
  {
   "cell_type": "code",
   "execution_count": null,
   "id": "369da1ab",
   "metadata": {},
   "outputs": [],
   "source": []
  },
  {
   "cell_type": "code",
   "execution_count": 22,
   "id": "b1830ae5",
   "metadata": {},
   "outputs": [],
   "source": [
    "# db_get_keys('vecs')"
   ]
  },
  {
   "cell_type": "code",
   "execution_count": 23,
   "id": "1d8c215b",
   "metadata": {},
   "outputs": [],
   "source": [
    "# len(db_get_keys('vecs'))"
   ]
  },
  {
   "cell_type": "code",
   "execution_count": 24,
   "id": "f3dfda90",
   "metadata": {},
   "outputs": [],
   "source": [
    "# ls -ltrh ~/db/"
   ]
  },
  {
   "cell_type": "code",
   "execution_count": 25,
   "id": "cc4fff39",
   "metadata": {},
   "outputs": [],
   "source": [
    "# dbput('test',pd.Series([1,2]))"
   ]
  }
 ],
 "metadata": {
  "kernelspec": {
   "display_name": "Python 3",
   "language": "python",
   "name": "python3"
  },
  "language_info": {
   "codemirror_mode": {
    "name": "ipython",
    "version": 3
   },
   "file_extension": ".py",
   "mimetype": "text/x-python",
   "name": "python",
   "nbconvert_exporter": "python",
   "pygments_lexer": "ipython3",
   "version": "3.8.5"
  },
  "widgets": {
   "application/vnd.jupyter.widget-state+json": {
    "state": {},
    "version_major": 2,
    "version_minor": 0
   }
  }
 },
 "nbformat": 4,
 "nbformat_minor": 5
}
