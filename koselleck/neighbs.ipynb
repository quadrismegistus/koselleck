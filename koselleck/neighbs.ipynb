{
 "cells": [
  {
   "cell_type": "markdown",
   "metadata": {},
   "source": [
    "# Neighbs"
   ]
  },
  {
   "cell_type": "code",
   "execution_count": 6,
   "metadata": {},
   "outputs": [],
   "source": [
    "from ipynb.fs.full.koselleck import *"
   ]
  },
  {
   "cell_type": "code",
   "execution_count": 14,
   "metadata": {},
   "outputs": [],
   "source": [
    "def do_nbr_word(dfgrp,max_rank=NBR_MAX_RANK,num_proc=1,progress=True):\n",
    "    words_with_data=set(dfgrp.columns)\n",
    "    o=[]\n",
    "    for (word,period,run),wprdf in dfgrp.groupby(['word_','period_','run_']):\n",
    "        row=wprdf.iloc[0].dropna().sort_values()\n",
    "        to_drop={word} | (set(row.index) - words_with_data)\n",
    "        row=row.drop(to_drop)\n",
    "        o+=[\n",
    "            {\n",
    "                'word':word,\n",
    "                'period':period,\n",
    "                'run':run,\n",
    "                'neighbor':nb,\n",
    "                'cdist':val,\n",
    "                'rank':i+1\n",
    "            } for i,(nb,val) in enumerate(row.items())\n",
    "            if i<max_rank\n",
    "        ]\n",
    "    dfprd=pd.DataFrame(o)\n",
    "    gby=['word','period','neighbor']\n",
    "    dfprdg=dfprd.groupby(gby)\n",
    "    dfprd=dfprd.reset_index().set_index(gby)\n",
    "    dfprd['count']=dfprdg.size()\n",
    "    dfprd['score']=[(c - (cd/10)) for c,cd in zip(dfprd['count'], dfprd['cdist'])]\n",
    "    odf=dfprd.groupby(gby).agg(dict(\n",
    "        count=np.median,\n",
    "        score=np.mean,\n",
    "#         run=np.max,\n",
    "        cdist=np.mean\n",
    "    ))\n",
    "    odf['rank']=odf['score'].rank(ascending=False,method='min').apply(int)\n",
    "    odf=odf.drop('score',1).sort_values('rank')\n",
    "#     odf=odf.rename({'run':'num_runs'},axis=1)\n",
    "    if max_rank: odf=odf[odf['rank']<=max_rank]\n",
    "    return odf.reset_index().drop(['word','period'],axis=1)\n",
    "\n",
    "def nbr_word(word,period_or_periods=None,run_or_runs=None,num_runs=10,num_proc=1,progress=True,\n",
    "             max_rank=NBR_MAX_RANK,cache=True,cache_only=False,force=False,pmap_use_cache=False):\n",
    "    if progress: print(f'Running nbr_word({word})')\n",
    "    qstr=f'{word},max_rank={max_rank},ymin={YMIN},ymax={YMAX},ybin={YEARBIN}'\n",
    "    if cache and not force:\n",
    "        with get_veclib('nbr') as vl:\n",
    "            if qstr in vl:\n",
    "                if progress: print(f'Finished running nbr_word({word})')\n",
    "                return vl[qstr] if not cache_only else pd.DataFrame()\n",
    "    \n",
    "    dfc = cdist_word(word,period_or_periods,num_proc=num_proc,progress=progress)\n",
    "    if not len(dfc): return pd.DataFrame()\n",
    "    odf=pmap_groups(\n",
    "        do_nbr_word,\n",
    "        dfc.rename_axis(['word_','period_','run_']).groupby(['word_','period_']),\n",
    "        kwargs=dict(max_rank=max_rank,num_proc=1,progress=False),\n",
    "        num_proc=num_proc,\n",
    "        progress=progress,\n",
    "        use_cache=pmap_use_cache\n",
    "    )\n",
    "    if not len(odf): return pd.DataFrame()\n",
    "    odf=odf.rename_axis(['word','period']).reset_index().set_index(['word','period','neighbor'])\n",
    "    if cache:\n",
    "        with get_veclib('nbr',autocommit=True) as vl:\n",
    "            vl[qstr]=odf\n",
    "    \n",
    "    if progress: print(f'Finished running nbr_word({word})')\n",
    "    return odf if not cache_only else pd.DataFrame()"
   ]
  },
  {
   "cell_type": "code",
   "execution_count": 15,
   "metadata": {},
   "outputs": [
    {
     "name": "stderr",
     "output_type": "stream",
     "text": [
      "[Koselleck] (10:15:34) Running nbr_word(station) (+102.4s)\n",
      "[Koselleck] (10:15:34) Loading cdist data for \"station\" (+0.0s)\n",
      "[Koselleck] (10:15:34) Finished loading cdist data from pkl for \"station\" (+0.4s)\n",
      "[Koselleck] (10:15:34) Finished running cdist_word(station) (+0.2s)\n",
      "Mapping do_nbr_word [x1]: 100%|██████████| 48/48 [00:03<00:00, 12.94it/s]\n",
      "[Koselleck] (10:15:38) Finished running nbr_word(station) (+3.9s)\n"
     ]
    }
   ],
   "source": [
    "dfnbr=nbr_word('station',force=True,progress=1,num_proc=1)#,max_rank=25)"
   ]
  },
  {
   "cell_type": "code",
   "execution_count": 17,
   "metadata": {},
   "outputs": [],
   "source": [
    "# dfnbr.groupby('period').size()"
   ]
  },
  {
   "cell_type": "code",
   "execution_count": 4,
   "metadata": {},
   "outputs": [
    {
     "name": "stderr",
     "output_type": "stream",
     "text": [
      "[Koselleck] (19:35:17) Running nbr_word(despotism) (+0.0s)\n",
      "[Koselleck] (19:35:17) Finished running nbr_word(despotism) (+0.0s)\n"
     ]
    },
    {
     "data": {
      "text/html": [
       "<div>\n",
       "<style scoped>\n",
       "    .dataframe tbody tr th:only-of-type {\n",
       "        vertical-align: middle;\n",
       "    }\n",
       "\n",
       "    .dataframe tbody tr th {\n",
       "        vertical-align: top;\n",
       "    }\n",
       "\n",
       "    .dataframe thead th {\n",
       "        text-align: right;\n",
       "    }\n",
       "</style>\n",
       "<table border=\"1\" class=\"dataframe\">\n",
       "  <thead>\n",
       "    <tr style=\"text-align: right;\">\n",
       "      <th></th>\n",
       "      <th></th>\n",
       "      <th></th>\n",
       "      <th>count</th>\n",
       "      <th>cdist</th>\n",
       "      <th>rank</th>\n",
       "    </tr>\n",
       "    <tr>\n",
       "      <th>word</th>\n",
       "      <th>period</th>\n",
       "      <th>neighbor</th>\n",
       "      <th></th>\n",
       "      <th></th>\n",
       "      <th></th>\n",
       "    </tr>\n",
       "  </thead>\n",
       "  <tbody>\n",
       "    <tr>\n",
       "      <th rowspan=\"11\" valign=\"top\">despotism</th>\n",
       "      <th rowspan=\"5\" valign=\"top\">1765-1770</th>\n",
       "      <th>regal</th>\n",
       "      <td>8</td>\n",
       "      <td>0.769257</td>\n",
       "      <td>1</td>\n",
       "    </tr>\n",
       "    <tr>\n",
       "      <th>tyranny</th>\n",
       "      <td>7</td>\n",
       "      <td>0.736510</td>\n",
       "      <td>2</td>\n",
       "    </tr>\n",
       "    <tr>\n",
       "      <th>despotic</th>\n",
       "      <td>7</td>\n",
       "      <td>0.788323</td>\n",
       "      <td>3</td>\n",
       "    </tr>\n",
       "    <tr>\n",
       "      <th>slavery</th>\n",
       "      <td>6</td>\n",
       "      <td>0.812143</td>\n",
       "      <td>4</td>\n",
       "    </tr>\n",
       "    <tr>\n",
       "      <th>tyrannical</th>\n",
       "      <td>5</td>\n",
       "      <td>0.754684</td>\n",
       "      <td>5</td>\n",
       "    </tr>\n",
       "    <tr>\n",
       "      <th>...</th>\n",
       "      <th>...</th>\n",
       "      <td>...</td>\n",
       "      <td>...</td>\n",
       "      <td>...</td>\n",
       "    </tr>\n",
       "    <tr>\n",
       "      <th rowspan=\"5\" valign=\"top\">1885-1890</th>\n",
       "      <th>emancipation</th>\n",
       "      <td>1</td>\n",
       "      <td>0.692456</td>\n",
       "      <td>21</td>\n",
       "    </tr>\n",
       "    <tr>\n",
       "      <th>prussian</th>\n",
       "      <td>1</td>\n",
       "      <td>0.696914</td>\n",
       "      <td>22</td>\n",
       "    </tr>\n",
       "    <tr>\n",
       "      <th>degradation</th>\n",
       "      <td>1</td>\n",
       "      <td>0.697513</td>\n",
       "      <td>23</td>\n",
       "    </tr>\n",
       "    <tr>\n",
       "      <th>catholics</th>\n",
       "      <td>1</td>\n",
       "      <td>0.699194</td>\n",
       "      <td>24</td>\n",
       "    </tr>\n",
       "    <tr>\n",
       "      <th>rulers</th>\n",
       "      <td>1</td>\n",
       "      <td>0.699196</td>\n",
       "      <td>25</td>\n",
       "    </tr>\n",
       "  </tbody>\n",
       "</table>\n",
       "<p>625 rows × 3 columns</p>\n",
       "</div>"
      ],
      "text/plain": [
       "                                  count     cdist  rank\n",
       "word      period    neighbor                           \n",
       "despotism 1765-1770 regal             8  0.769257     1\n",
       "                    tyranny           7  0.736510     2\n",
       "                    despotic          7  0.788323     3\n",
       "                    slavery           6  0.812143     4\n",
       "                    tyrannical        5  0.754684     5\n",
       "...                                 ...       ...   ...\n",
       "          1885-1890 emancipation      1  0.692456    21\n",
       "                    prussian          1  0.696914    22\n",
       "                    degradation       1  0.697513    23\n",
       "                    catholics         1  0.699194    24\n",
       "                    rulers            1  0.699196    25\n",
       "\n",
       "[625 rows x 3 columns]"
      ]
     },
     "execution_count": 4,
     "metadata": {},
     "output_type": "execute_result"
    }
   ],
   "source": [
    "nbr_word('despotism',num_proc=4,cache=True)"
   ]
  },
  {
   "cell_type": "code",
   "execution_count": 5,
   "metadata": {},
   "outputs": [],
   "source": [
    "def _nbr_(objd): return nbr_word(**objd)\n",
    "\n",
    "def nbr(word_or_words,period_or_periods=None,run_or_runs=None,max_rank=NBR_MAX_RANK,num_runs=10,\n",
    "        num_proc=1,force=False,progress=True,cache_only=False,cache=True,use_threads=False,\n",
    "        pmap_use_cache=False):\n",
    "    index_cols=['word','neighbor','period','run']\n",
    "    words=tokenize_fast(word_or_words) if type(word_or_words)==str else list(word_or_words)\n",
    "    objs=[\n",
    "        dict(\n",
    "            word=word,\n",
    "            period_or_periods=period_or_periods,\n",
    "            run_or_runs=run_or_runs,\n",
    "            num_runs=num_runs,\n",
    "            num_proc=1 if len(words)>1 else num_proc,\n",
    "            progress=False if len(words)>1 else progress,\n",
    "            max_rank=NBR_MAX_RANK,\n",
    "            cache=cache,\n",
    "            cache_only=cache_only,\n",
    "            force=force,\n",
    "            pmap_use_cache=pmap_use_cache\n",
    "        ) for word in words\n",
    "    ]\n",
    "    o=pmap(\n",
    "        _nbr_,\n",
    "        objs,\n",
    "        num_proc=num_proc if len(words)>1 else 1,\n",
    "        progress=progress if len(words)>1 else False,\n",
    "        desc='Gathering word neighborhoods',\n",
    "        use_threads=use_threads\n",
    "    )\n",
    "    return pd.concat(o) if len(o) else pd.DataFrame()\n"
   ]
  },
  {
   "cell_type": "code",
   "execution_count": 6,
   "metadata": {},
   "outputs": [
    {
     "name": "stderr",
     "output_type": "stream",
     "text": [
      "Gathering word neighborhoods [x4]: 100%|██████████| 5/5 [00:00<00:00, 253.33it/s]\n"
     ]
    },
    {
     "data": {
      "text/html": [
       "<div>\n",
       "<style scoped>\n",
       "    .dataframe tbody tr th:only-of-type {\n",
       "        vertical-align: middle;\n",
       "    }\n",
       "\n",
       "    .dataframe tbody tr th {\n",
       "        vertical-align: top;\n",
       "    }\n",
       "\n",
       "    .dataframe thead th {\n",
       "        text-align: right;\n",
       "    }\n",
       "</style>\n",
       "<table border=\"1\" class=\"dataframe\">\n",
       "  <thead>\n",
       "    <tr style=\"text-align: right;\">\n",
       "      <th></th>\n",
       "      <th></th>\n",
       "      <th></th>\n",
       "      <th>count</th>\n",
       "      <th>cdist</th>\n",
       "      <th>rank</th>\n",
       "    </tr>\n",
       "    <tr>\n",
       "      <th>word</th>\n",
       "      <th>period</th>\n",
       "      <th>neighbor</th>\n",
       "      <th></th>\n",
       "      <th></th>\n",
       "      <th></th>\n",
       "    </tr>\n",
       "  </thead>\n",
       "  <tbody>\n",
       "    <tr>\n",
       "      <th rowspan=\"5\" valign=\"top\">virtues</th>\n",
       "      <th rowspan=\"5\" valign=\"top\">1720-1725</th>\n",
       "      <th>wisdom</th>\n",
       "      <td>10</td>\n",
       "      <td>0.923790</td>\n",
       "      <td>1</td>\n",
       "    </tr>\n",
       "    <tr>\n",
       "      <th>esteem</th>\n",
       "      <td>9</td>\n",
       "      <td>0.940699</td>\n",
       "      <td>2</td>\n",
       "    </tr>\n",
       "    <tr>\n",
       "      <th>piety</th>\n",
       "      <td>9</td>\n",
       "      <td>0.953068</td>\n",
       "      <td>3</td>\n",
       "    </tr>\n",
       "    <tr>\n",
       "      <th>glorious</th>\n",
       "      <td>9</td>\n",
       "      <td>1.003024</td>\n",
       "      <td>4</td>\n",
       "    </tr>\n",
       "    <tr>\n",
       "      <th>qualities</th>\n",
       "      <td>8</td>\n",
       "      <td>0.882740</td>\n",
       "      <td>5</td>\n",
       "    </tr>\n",
       "    <tr>\n",
       "      <th>...</th>\n",
       "      <th>...</th>\n",
       "      <th>...</th>\n",
       "      <td>...</td>\n",
       "      <td>...</td>\n",
       "      <td>...</td>\n",
       "    </tr>\n",
       "    <tr>\n",
       "      <th rowspan=\"5\" valign=\"top\">kingdoms</th>\n",
       "      <th rowspan=\"5\" valign=\"top\">1915-1920</th>\n",
       "      <th>treaties</th>\n",
       "      <td>4</td>\n",
       "      <td>0.809415</td>\n",
       "      <td>21</td>\n",
       "    </tr>\n",
       "    <tr>\n",
       "      <th>scotland</th>\n",
       "      <td>4</td>\n",
       "      <td>0.812085</td>\n",
       "      <td>22</td>\n",
       "    </tr>\n",
       "    <tr>\n",
       "      <th>groups</th>\n",
       "      <td>3</td>\n",
       "      <td>0.729139</td>\n",
       "      <td>23</td>\n",
       "    </tr>\n",
       "    <tr>\n",
       "      <th>province</th>\n",
       "      <td>3</td>\n",
       "      <td>0.740160</td>\n",
       "      <td>24</td>\n",
       "    </tr>\n",
       "    <tr>\n",
       "      <th>rights</th>\n",
       "      <td>3</td>\n",
       "      <td>0.775766</td>\n",
       "      <td>25</td>\n",
       "    </tr>\n",
       "  </tbody>\n",
       "</table>\n",
       "<p>5575 rows × 3 columns</p>\n",
       "</div>"
      ],
      "text/plain": [
       "                              count     cdist  rank\n",
       "word     period    neighbor                        \n",
       "virtues  1720-1725 wisdom        10  0.923790     1\n",
       "                   esteem         9  0.940699     2\n",
       "                   piety          9  0.953068     3\n",
       "                   glorious       9  1.003024     4\n",
       "                   qualities      8  0.882740     5\n",
       "...                             ...       ...   ...\n",
       "kingdoms 1915-1920 treaties       4  0.809415    21\n",
       "                   scotland       4  0.812085    22\n",
       "                   groups         3  0.729139    23\n",
       "                   province       3  0.740160    24\n",
       "                   rights         3  0.775766    25\n",
       "\n",
       "[5575 rows x 3 columns]"
      ]
     },
     "execution_count": 6,
     "metadata": {},
     "output_type": "execute_result"
    }
   ],
   "source": [
    "nbr(['virtues','representations','virtue','territories','kingdoms'],num_proc=4)"
   ]
  },
  {
   "cell_type": "markdown",
   "metadata": {},
   "source": [
    "## Speed tests\n",
    "\n",
    "Winner was:\n",
    "\n",
    "```python\n",
    "%%timeit\n",
    "nbr(random.sample(get_valid_words(),10),num_proc=6,cache_only=True)\n",
    "```\n",
    "\n",
    "with ~2.5s/word on average."
   ]
  },
  {
   "cell_type": "code",
   "execution_count": 7,
   "metadata": {},
   "outputs": [],
   "source": [
    "# @interact\n",
    "# def spw(spw=2.5,numword=len(get_valid_words())):\n",
    "#     print(f'ETA: {round( (spw * numword) / 60 / 60,1)} hours')"
   ]
  },
  {
   "cell_type": "code",
   "execution_count": 8,
   "metadata": {},
   "outputs": [],
   "source": [
    "# %%timeit\n",
    "# nbr(random.sample(get_valid_words(),10),num_proc=6,cache_only=True)"
   ]
  },
  {
   "cell_type": "code",
   "execution_count": 9,
   "metadata": {},
   "outputs": [],
   "source": [
    "# %%timeit\n",
    "# nbr(random.sample(get_valid_words(),10),num_proc=6,cache_only=True,pmap_use_cache=True)"
   ]
  },
  {
   "cell_type": "code",
   "execution_count": 10,
   "metadata": {},
   "outputs": [],
   "source": [
    "# %%timeit\n",
    "# nbr(random.sample(get_valid_words(),10),num_proc=4,cache_only=True)"
   ]
  },
  {
   "cell_type": "code",
   "execution_count": 11,
   "metadata": {},
   "outputs": [],
   "source": [
    "# %%timeit\n",
    "# nbr(random.sample(get_valid_words(),10),num_proc=1,cache_only=True)"
   ]
  },
  {
   "cell_type": "code",
   "execution_count": 12,
   "metadata": {},
   "outputs": [],
   "source": [
    "# %%timeit\n",
    "# nbr(random.sample(get_valid_words(),10),num_proc=4,cache_only=True,use_threads=True)"
   ]
  },
  {
   "cell_type": "code",
   "execution_count": 13,
   "metadata": {},
   "outputs": [],
   "source": [
    "# %%timeit\n",
    "# nbr(random.sample(get_valid_words(),10),num_proc=8,cache_only=True,use_threads=True)"
   ]
  },
  {
   "cell_type": "markdown",
   "metadata": {},
   "source": [
    "## Importing older data"
   ]
  },
  {
   "cell_type": "code",
   "execution_count": 14,
   "metadata": {},
   "outputs": [],
   "source": [
    "def load_older_data_neighbs(ifn=FN_ALL_NEIGHBS):\n",
    "    df=read_df(ifn)\n",
    "    df=df.query(f'\"{YMIN}\"<=period<\"{YMAX}\"')\n",
    "    df['cdist']=1-df['csim']\n",
    "    df['num_runs']=10\n",
    "    df['count']=df['count'].apply(int)\n",
    "    odf=df.set_index(['word','neighbor','period'])[['count','num_runs','cdist','rank']]\n",
    "    return odf"
   ]
  },
  {
   "cell_type": "code",
   "execution_count": 15,
   "metadata": {},
   "outputs": [],
   "source": [
    "# dfold=load_older_data_neighbs()\n",
    "# dfold"
   ]
  },
  {
   "cell_type": "code",
   "execution_count": 16,
   "metadata": {},
   "outputs": [],
   "source": [
    "def import_older_data_neighbs(df):\n",
    "    with get_veclib('nbr',autocommit=False) as vl:\n",
    "        for i,(word,wdf) in enumerate(tqdm(df.groupby('word'))):\n",
    "            wqstr=f'{word},ymin={YMIN},ymax={YMAX},ybin={YEARBIN}'\n",
    "            if not wqstr in vl:\n",
    "                vl[wqstr]=wdf\n",
    "            if i and not i%100: vl.commit()\n",
    "        vl.commit()"
   ]
  },
  {
   "cell_type": "code",
   "execution_count": 17,
   "metadata": {},
   "outputs": [],
   "source": [
    "# import_older_data_neighbs(dfold)"
   ]
  },
  {
   "cell_type": "markdown",
   "metadata": {},
   "source": [
    "## Regenerating data"
   ]
  },
  {
   "cell_type": "code",
   "execution_count": 18,
   "metadata": {},
   "outputs": [
    {
     "data": {
      "text/plain": [
       "(5911,\n",
       " ['assassin',\n",
       "  'action',\n",
       "  'chancellor',\n",
       "  'enthusiast',\n",
       "  'glen',\n",
       "  'cur',\n",
       "  'versification',\n",
       "  'hammer',\n",
       "  'salt',\n",
       "  'epidemic'])"
      ]
     },
     "execution_count": 18,
     "metadata": {},
     "output_type": "execute_result"
    }
   ],
   "source": [
    "words=get_valid_words()\n",
    "random.shuffle(words)\n",
    "len(words),words[:10]"
   ]
  },
  {
   "cell_type": "code",
   "execution_count": 19,
   "metadata": {},
   "outputs": [
    {
     "name": "stderr",
     "output_type": "stream",
     "text": [
      "Gathering word neighborhoods [x4]:   9%|▉         | 560/5911 [17:36<7:08:58,  4.81s/it] [Koselleck] (19:52:59) !! Ran out of input (+1061.4s)\n",
      "Gathering word neighborhoods [x4]:  10%|▉         | 577/5911 [17:53<3:41:47,  2.49s/it][Koselleck] (19:53:26) !! not enough values to unpack (expected 2, got 0) (+27.1s)\n",
      "Gathering word neighborhoods [x4]:  16%|█▌        | 951/5911 [30:16<2:36:23,  1.89s/it] [Koselleck] (20:05:38) !! not enough values to unpack (expected 2, got 0) (+1820.9s)\n",
      "Gathering word neighborhoods [x4]:  26%|██▌       | 1510/5911 [49:09<2:58:36,  2.44s/it] [Koselleck] (20:24:35) !! not enough values to unpack (expected 2, got 0) (+2957.7s)\n",
      "Gathering word neighborhoods [x4]:  28%|██▊       | 1643/5911 [52:18<2:59:39,  2.53s/it][Koselleck] (20:27:36) !! not enough values to unpack (expected 2, got 0) (+3139.0s)\n",
      "Gathering word neighborhoods [x4]:  28%|██▊       | 1674/5911 [53:15<3:44:29,  3.18s/it][Koselleck] (20:28:38) !! not enough values to unpack (expected 2, got 0) (+243.1s)\n",
      "Gathering word neighborhoods [x4]:  32%|███▏      | 1888/5911 [1:00:24<2:00:00,  1.79s/it][Koselleck] (20:35:42) !! not enough values to unpack (expected 2, got 0) (+2536.0s)\n",
      "Gathering word neighborhoods [x4]:  37%|███▋      | 2196/5911 [1:11:13<3:29:01,  3.38s/it] [Koselleck] (20:46:46) !! not enough values to unpack (expected 2, got 0) (+2468.1s)\n",
      "Gathering word neighborhoods [x4]:  37%|███▋      | 2198/5911 [1:11:29<4:56:11,  4.79s/it][Koselleck] (20:46:48) !! not enough values to unpack (expected 2, got 0) (+1151.8s)\n",
      "Gathering word neighborhoods [x4]:  40%|███▉      | 2336/5911 [1:14:56<1:35:03,  1.60s/it][Koselleck] (20:50:16) !! not enough values to unpack (expected 2, got 0) (+209.1s)\n",
      "Gathering word neighborhoods [x4]:  41%|████      | 2407/5911 [1:17:26<3:30:47,  3.61s/it][Koselleck] (20:52:44) !! Ran out of input (+148.5s)\n",
      "Gathering word neighborhoods [x4]:  49%|████▉     | 2893/5911 [1:32:58<1:46:23,  2.12s/it][Koselleck] (21:08:23) !! not enough values to unpack (expected 2, got 0) (+2384.9s)\n",
      "Gathering word neighborhoods [x4]:  60%|██████    | 3568/5911 [1:56:08<3:18:50,  5.09s/it][Koselleck] (21:31:29) !! not enough values to unpack (expected 2, got 0) (+3347.4s)\n",
      "Gathering word neighborhoods [x4]:  66%|██████▋   | 3922/5911 [2:08:10<1:08:48,  2.08s/it][Koselleck] (21:43:29) !! not enough values to unpack (expected 2, got 0) (+719.4s)\n",
      "Gathering word neighborhoods [x4]:  75%|███████▌  | 4458/5911 [2:25:45<51:53,  2.14s/it]  [Koselleck] (22:01:03) !! not enough values to unpack (expected 2, got 0) (+3160.0s)\n",
      "Gathering word neighborhoods [x4]:  76%|███████▋  | 4512/5911 [2:27:09<42:17,  1.81s/it]  [Koselleck] (22:02:28) !! not enough values to unpack (expected 2, got 0) (+1139.0s)\n",
      "Gathering word neighborhoods [x4]:  91%|█████████ | 5369/5911 [2:54:39<26:43,  2.96s/it]  [Koselleck] (22:29:58) !! Error -3 while decompressing data: invalid block type (+6189.4s)\n",
      "Gathering word neighborhoods [x4]: 100%|██████████| 5911/5911 [3:12:54<00:00,  1.96s/it]  \n"
     ]
    },
    {
     "data": {
      "text/html": [
       "<div>\n",
       "<style scoped>\n",
       "    .dataframe tbody tr th:only-of-type {\n",
       "        vertical-align: middle;\n",
       "    }\n",
       "\n",
       "    .dataframe tbody tr th {\n",
       "        vertical-align: top;\n",
       "    }\n",
       "\n",
       "    .dataframe thead th {\n",
       "        text-align: right;\n",
       "    }\n",
       "</style>\n",
       "<table border=\"1\" class=\"dataframe\">\n",
       "  <thead>\n",
       "    <tr style=\"text-align: right;\">\n",
       "      <th></th>\n",
       "    </tr>\n",
       "  </thead>\n",
       "  <tbody>\n",
       "  </tbody>\n",
       "</table>\n",
       "</div>"
      ],
      "text/plain": [
       "Empty DataFrame\n",
       "Columns: []\n",
       "Index: []"
      ]
     },
     "execution_count": 19,
     "metadata": {},
     "output_type": "execute_result"
    }
   ],
   "source": [
    "nbr(words,num_proc=4,cache_only=True,pmap_use_cache=False)"
   ]
  },
  {
   "cell_type": "code",
   "execution_count": 1,
   "metadata": {},
   "outputs": [],
   "source": [
    "## Plot neighbors"
   ]
  },
  {
   "cell_type": "code",
   "execution_count": 2,
   "metadata": {},
   "outputs": [
    {
     "ename": "NameError",
     "evalue": "name 'YMIN' is not defined",
     "output_type": "error",
     "traceback": [
      "\u001b[0;31m---------------------------------------------------------------------------\u001b[0m",
      "\u001b[0;31mNameError\u001b[0m                                 Traceback (most recent call last)",
      "\u001b[0;32m<ipython-input-2-2b382d0e04a5>\u001b[0m in \u001b[0;36m<module>\u001b[0;34m\u001b[0m\n\u001b[1;32m      9\u001b[0m         \u001b[0msave\u001b[0m\u001b[0;34m=\u001b[0m\u001b[0;32mFalse\u001b[0m\u001b[0;34m,\u001b[0m\u001b[0;34m\u001b[0m\u001b[0;34m\u001b[0m\u001b[0m\n\u001b[1;32m     10\u001b[0m         \u001b[0mshowdata\u001b[0m\u001b[0;34m=\u001b[0m\u001b[0;32mFalse\u001b[0m\u001b[0;34m,\u001b[0m\u001b[0;34m\u001b[0m\u001b[0;34m\u001b[0m\u001b[0m\n\u001b[0;32m---> 11\u001b[0;31m         \u001b[0myear_min\u001b[0m\u001b[0;34m=\u001b[0m\u001b[0mYMIN\u001b[0m\u001b[0;34m,\u001b[0m\u001b[0;34m\u001b[0m\u001b[0;34m\u001b[0m\u001b[0m\n\u001b[0m\u001b[1;32m     12\u001b[0m         \u001b[0myear_max\u001b[0m\u001b[0;34m=\u001b[0m\u001b[0mYMAX\u001b[0m\u001b[0;34m,\u001b[0m\u001b[0;34m\u001b[0m\u001b[0;34m\u001b[0m\u001b[0m\n\u001b[1;32m     13\u001b[0m         \u001b[0mybin\u001b[0m\u001b[0;34m=\u001b[0m\u001b[0;36m20\u001b[0m\u001b[0;34m,\u001b[0m\u001b[0;34m\u001b[0m\u001b[0;34m\u001b[0m\u001b[0m\n",
      "\u001b[0;31mNameError\u001b[0m: name 'YMIN' is not defined"
     ]
    }
   ],
   "source": [
    "def plot_nbrs(\n",
    "        word='station',\n",
    "        vnum='v18-newnbr-20y-5-v-20',\n",
    "        min_periods=2,\n",
    "        max_rank=20,\n",
    "        max_rank1=5,\n",
    "        width=8,\n",
    "        height=6,\n",
    "        save=False,\n",
    "        showdata=False,\n",
    "        year_min=YMIN,\n",
    "        year_max=YMAX,\n",
    "        ybin=20,\n",
    "        num_proc=2):\n",
    "    w=word\n",
    "    dfres=nbr(w,num_proc=num_proc,progress=False)\n",
    "    \n",
    "#     if w in set(dfres.index):\n",
    "    if len(dfres):\n",
    "        wdf=dfres.loc[w].reset_index()\n",
    "        \n",
    "        wdf=wdf.query(f'period>=\"{year_min}\"')\n",
    "        wdf=wdf.query(f'period<\"{year_max}\"')\n",
    "        wdf=wdf[wdf['rank']<=max_rank]\n",
    "        \n",
    "        \n",
    "        wdf['period_orig']=wdf['period']\n",
    "        wdf['period']=[periodize(int(y.split('-')[0]),ybin) for y in wdf.period_orig]\n",
    "        wdf=wdf.groupby(['period','neighbor']).mean().reset_index()        \n",
    "        words_ever_high=set(wdf[wdf['rank']<=max_rank1].neighbor)\n",
    "        \n",
    "        figdf=wdf\n",
    "        figdf=figdf[figdf.neighbor.isin(words_ever_high)].groupby(['neighbor','period']).mean().reset_index()\n",
    "        wdfp=figdf.pivot('neighbor','period','rank')\n",
    "        figdf=wdfp.reset_index().melt(id_vars=['neighbor'],value_name='rank')\n",
    "        \n",
    "        figdf=figdf.groupby('neighbor').filter(lambda gdf: len(gdf.dropna())>=min_periods)\n",
    "        \n",
    "        \n",
    "        \n",
    "        figdf=pd.concat(\n",
    "            grp.assign(rank3=(grp['rank']).rank(method='first'))\n",
    "            for i,grp in figdf.groupby('period')\n",
    "        )\n",
    "        figdf=figdf[figdf.rank3<=max_rank]\n",
    "        figdf=figdf.sort_values('rank')\n",
    "        if showdata: display(figdf)\n",
    "                        \n",
    "        # start fig\n",
    "        fig=start_fig(\n",
    "            figdf,\n",
    "            x='period',\n",
    "            y='rank3',\n",
    "            label='neighbor',\n",
    "#             group='neighbor',\n",
    "#             color='neighbor',\n",
    "#             fill='conc',\n",
    "            figure_size=(width,height)\n",
    "        ) + p9.geom_line(p9.aes(group='neighbor'),size=0.5) + p9.scale_y_reverse()\n",
    "        \n",
    "        first_appearances=figdf.sort_values('period').drop_duplicates('neighbor')\n",
    "        other_appearances=figdf.loc[set(figdf.index) - set(first_appearances.index)]\n",
    "        \n",
    "        fig+=p9.geom_label(size=6.5,data=other_appearances)\n",
    "        fig+=p9.geom_label(size=6.5,fill='#BBBBBB',fontweight='bold',data=first_appearances)\n",
    "        \n",
    "        fig+=p9.scale_fill_gradient(low='white',high='#999999')\n",
    "#         fig+=p9.scale_color_gradient(low='white',high='#999999')\n",
    "        fig+=p9.labs(\n",
    "            title=f'Changing associations of \"{w}\"',\n",
    "            x='Date of semantic model',\n",
    "            y=f'Proximity to \"{w}\" →',\n",
    "            fill='Concreteness'\n",
    "        )\n",
    "        if save:\n",
    "            ofn=f'fig.changing_simple.{w}.{vnum}.png'\n",
    "            fig.save(f'figures/{ofn}')\n",
    "            fig.save(f'/home/ryan/Markdown/Drafts/TheGreatAbstraction/figures/{ofn}')\n",
    "#         display(fig)\n",
    "#         return figdf\n",
    "        return fig\n",
    "    else:\n",
    "        return f'!! {w} not in data'\n",
    "    \n",
    "    \n",
    "# res=interact_manual(plot_nbrs)\n",
    "# # res()"
   ]
  },
  {
   "cell_type": "code",
   "execution_count": null,
   "metadata": {},
   "outputs": [],
   "source": []
  }
 ],
 "metadata": {
  "kernelspec": {
   "display_name": "Python 3",
   "language": "python",
   "name": "python3"
  },
  "language_info": {
   "codemirror_mode": {
    "name": "ipython",
    "version": 3
   },
   "file_extension": ".py",
   "mimetype": "text/x-python",
   "name": "python",
   "nbconvert_exporter": "python",
   "pygments_lexer": "ipython3",
   "version": "3.7.7"
  },
  "toc": {
   "base_numbering": 1,
   "nav_menu": {},
   "number_sections": false,
   "sideBar": false,
   "skip_h1_title": false,
   "title_cell": "Table of Contents",
   "title_sidebar": "Contents",
   "toc_cell": false,
   "toc_position": {},
   "toc_section_display": false,
   "toc_window_display": false
  },
  "widgets": {
   "application/vnd.jupyter.widget-state+json": {
    "state": {},
    "version_major": 2,
    "version_minor": 0
   }
  }
 },
 "nbformat": 4,
 "nbformat_minor": 4
}
