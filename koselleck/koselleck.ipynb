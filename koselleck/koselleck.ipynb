{
 "cells": [
  {
   "cell_type": "markdown",
   "metadata": {},
   "source": [
    "# Koselleck"
   ]
  },
  {
   "cell_type": "markdown",
   "metadata": {},
   "source": [
    "## Non-local imports"
   ]
  },
  {
   "cell_type": "markdown",
   "metadata": {},
   "source": [
    "### stdlib"
   ]
  },
  {
   "cell_type": "code",
   "execution_count": 1,
   "metadata": {},
   "outputs": [],
   "source": [
    "import os,sys,time,random,ujson,json,warnings\n",
    "import pickle5 as pickle\n",
    "from pprint import pprint\n",
    "import logging\n",
    "from collections import Counter,defaultdict"
   ]
  },
  {
   "cell_type": "code",
   "execution_count": 3,
   "metadata": {},
   "outputs": [],
   "source": [
    "# settings\n",
    "warnings.filterwarnings('ignore')"
   ]
  },
  {
   "cell_type": "markdown",
   "metadata": {},
   "source": [
    "### other"
   ]
  },
  {
   "cell_type": "code",
   "execution_count": 1,
   "metadata": {},
   "outputs": [
    {
     "name": "stderr",
     "output_type": "stream",
     "text": [
      "/home/ryan/miniconda3/lib/python3.7/site-packages/tqdm/std.py:668: FutureWarning: The Panel class is removed from pandas. Accessing it from the top-level namespace will also be removed in the next version\n"
     ]
    }
   ],
   "source": [
    "import gensim\n",
    "import networkx as nx\n",
    "import plotnine as p9\n",
    "import pandas as pd\n",
    "import numpy as np\n",
    "from fastdist import fastdist\n",
    "from tqdm import tqdm\n",
    "tqdm.pandas()\n",
    "from scipy.stats import ttest_ind\n",
    "try:\n",
    "    from ipywidgets import interact, interactive, fixed, interact_manual\n",
    "    import ipywidgets as widgets\n",
    "except ImportError as e:\n",
    "    pass\n",
    "from ftfy import fix_text\n",
    "import cv2\n",
    "from pandas.core.groupby.groupby import DataError\n",
    "from gensim.models import KeyedVectors,Word2Vec\n",
    "from loguru import logger\n",
    "from scipy.spatial.distance import cosine\n",
    "from scipy.stats import percentileofscore\n",
    "import matplotlib.pyplot as plt\n",
    "from matplotlib.collections import LineCollection\n",
    "try:\n",
    "    from IPython.display import Image\n",
    "    from ipywidgets import interact, interactive, fixed, interact_manual\n",
    "    import ipywidgets as widgets\n",
    "except ImportError as e:\n",
    "    print('!!',e)\n",
    "    pass\n",
    "from sqlitedict import SqliteDict\n",
    "pd.options.display.max_colwidth=None\n",
    "import pandas as pd\n",
    "import gspread\n",
    "from gspread_pandas import Spread, Client\n",
    "from IPython.display import Markdown\n",
    "import markdown "
   ]
  },
  {
   "cell_type": "code",
   "execution_count": 3,
   "metadata": {},
   "outputs": [],
   "source": [
    "from ipywidgets import *"
   ]
  },
  {
   "cell_type": "code",
   "execution_count": 5,
   "metadata": {},
   "outputs": [],
   "source": [
    "## custom\n",
    "import lltk"
   ]
  },
  {
   "cell_type": "markdown",
   "metadata": {},
   "source": [
    "### Logging"
   ]
  },
  {
   "cell_type": "code",
   "execution_count": 5,
   "metadata": {},
   "outputs": [],
   "source": [
    "def disable_gensim_logging():\n",
    "    for log_name, log_obj in logging.Logger.manager.loggerDict.items():\n",
    "        if log_name.startswith('gensim'):\n",
    "            log_obj.disabled=True\n",
    "\n",
    "def enable_gensim_logging():\n",
    "    for log_name, log_obj in logging.Logger.manager.loggerDict.items():\n",
    "        if log_name.startswith('gensim'):\n",
    "            log_obj.disabled=False"
   ]
  },
  {
   "cell_type": "code",
   "execution_count": 6,
   "metadata": {},
   "outputs": [],
   "source": [
    "disable_gensim_logging()"
   ]
  },
  {
   "cell_type": "code",
   "execution_count": 28,
   "metadata": {},
   "outputs": [],
   "source": [
    "logging.Logger.manager.loggerDict['sqlitedict'].disabled=True\n",
    "logger.remove()\n",
    "logger.add(sys.stderr, format=\"[Koselleck] ({time:HH:mm:ss}) {message}\", level=\"INFO\")\n",
    "LASTTIME=time.time()\n",
    "def log(*x,timer=True,**y): \n",
    "    global LASTTIME\n",
    "    now=time.time()\n",
    "    lstr=f'(+{round(now-LASTTIME,1)}s)' if timer else ''\n",
    "    x=list(x) + [lstr]\n",
    "    logger.info(' '.join(str(xx) for xx in x),**y)\n",
    "    LASTTIME=now\n",
    "print = log"
   ]
  },
  {
   "cell_type": "markdown",
   "metadata": {},
   "source": [
    "## Local imports"
   ]
  },
  {
   "cell_type": "code",
   "execution_count": 9,
   "metadata": {},
   "outputs": [
    {
     "data": {
      "text/plain": [
       "'/home/ryan/github/koselleck/koselleck'"
      ]
     },
     "execution_count": 9,
     "metadata": {},
     "output_type": "execute_result"
    }
   ],
   "source": [
    "here=os.path.dirname(os.path.realpath(\"__file__\"))\n",
    "here"
   ]
  },
  {
   "cell_type": "code",
   "execution_count": 10,
   "metadata": {},
   "outputs": [
    {
     "data": {
      "text/plain": [
       "'/home/ryan/github/koselleck'"
      ]
     },
     "execution_count": 10,
     "metadata": {},
     "output_type": "execute_result"
    }
   ],
   "source": [
    "root=os.path.dirname(os.path.abspath(os.path.join(here)))\n",
    "root"
   ]
  },
  {
   "cell_type": "code",
   "execution_count": 11,
   "metadata": {},
   "outputs": [
    {
     "data": {
      "text/plain": [
       "'/home/ryan/github/koselleck/lib'"
      ]
     },
     "execution_count": 11,
     "metadata": {},
     "output_type": "execute_result"
    }
   ],
   "source": [
    "PATH_LIB=os.path.join(root,'lib')\n",
    "PATH_LIB"
   ]
  },
  {
   "cell_type": "code",
   "execution_count": 12,
   "metadata": {},
   "outputs": [],
   "source": [
    "# Semi-custom imports -@HACK\n",
    "sys.path.append(os.path.join(PATH_LIB,'Noise-Aware-Alignment'))\n",
    "# sys.path.append(os.path.join(PATH_LIB,'abslithist'))\n",
    "sys.path.append(os.path.join(PATH_LIB,'yapmap'))\n",
    "from noise_aware import noise_aware\n",
    "from yapmap import *\n",
    "# from abslithist import *"
   ]
  },
  {
   "cell_type": "code",
   "execution_count": 13,
   "metadata": {},
   "outputs": [],
   "source": [
    "# other paths\n",
    "PATH_DATA=os.path.join(root,'data')\n",
    "PATH_DATA_HD=os.path.join(root,'data1')\n",
    "PATH_FIGS=os.path.join(root,'figures')\n",
    "PATH_SKIPGRAMS=os.path.join(PATH_DATA_HD,'skipgrams')\n",
    "PATH_MODELS=os.path.join(PATH_DATA_HD,'models')\n",
    "PATH_SKIPGRAMS_YR=os.path.join(PATH_SKIPGRAMS,'years')\n",
    "PATH_FIELDS=os.path.join(PATH_DATA,'fields')\n",
    "PATH_MODELS_BPO=os.path.join(PATH_MODELS,'bpo')\n",
    "PATH_DB=os.path.join(root,'db')"
   ]
  },
  {
   "cell_type": "code",
   "execution_count": 14,
   "metadata": {},
   "outputs": [],
   "source": [
    "# urls\n",
    "URL_KEYWORDS='https://docs.google.com/spreadsheets/d/e/2PACX-1vRzHA7iqgW7BB9SCtR0Nr3Dge5zSkY9C6lOkUMFV7Bd4Bhap6LVR3sWrXnjovUNhL9HAUNUJNRB62rD/pub?gid=0&single=true&output=csv'\n",
    "UPROOT='/Markdown/Drafts/TheGreatAbstraction/figures/'\n",
    "GSPREAD_NAME='ComputingKoselleck'"
   ]
  },
  {
   "cell_type": "code",
   "execution_count": 15,
   "metadata": {},
   "outputs": [],
   "source": [
    "# # filenames\n",
    "# FN_CHANGE_RUNS_AVG = os.path.join(PATH_DATA,'data.measured_change.runs_avg.v2.csv')\n",
    "# FN_CHANGE_RUNS = os.path.join(PATH_DATA,'data.measured_change.runs.v2.csv')\n",
    "# FN_DATA_CACHE_DEC=os.path.join(PATH_DATA,'data.cache.decade_level_data.pkl')\n",
    "# FN_VECTOR_SCORES_DIFFMEANS=os.path.join(PATH_DATA,'data.vector_scores_across_models.diff_means.csv')\n",
    "# FN_FREQ_DEC_MODELS=os.path.join(PATH_DATA,'data.freq_across_decade_models.csv')\n",
    "# FN_DATA_PACEOFCHANGE = os.path.join(PATH_DATA,'data.semantic_change_over_decades.1run.v10-local-k50-halfdec.pkl')\n",
    "# FN_NOVELTY_DATA=os.path.join(PATH_DATA,'data.words_by_rateofchange.v4.pkl')\n",
    "# FN_ALL_LOCALDISTS_V2=os.path.join(PATH_DATA,'data.all_local_dists.v5.pkl')\n",
    "# FN_ALL_LOCALDISTS_V2_CACHE=os.path.join(PATH_DATA,'data.all_local_dists.v5.cache.pkl')\n",
    "# FN_ALL_LOCALDISTS=os.path.join(PATH_DATA,'data.all_local_dists.v3.pkl')\n",
    "# FN_ALL_LOCALDISTS_CACHE=os.path.join(PATH_DATA,'data.all_local_dists.v3.cache.pkl')\n",
    "# FN_NOV_ALL_BYWORD = os.path.join(PATH_DATA,'data.novelty.by_word.pkl')\n",
    "# FN_ALL_NEIGHBS=os.path.join(PATH_DATA,'data.all_local_neighbs.v2.pkl')\n",
    "# FN_ALL_NEIGHBS_SIMPLE=os.path.join(PATH_DATA,'data.all_local_neighbs.v2.simple.pkl')\n",
    "# FN_ALL_MODEL_CACHE=os.path.join(PATH_DATA,'data.all_models_halfdec.pkl')\n",
    "# FN_ALL_NEIGHBS_SIMPLE=os.path.join(PATH_DATA,'data.all_local_neighbs.v2.simple.pkl')\n",
    "# FN_VECLIB=os.path.join(PATH_DATA,'data.veclib.dbm')\n",
    "# FN_AMBIGUITY=os.path.join(PATH_DATA,'data.ambiguity.runs.csv')\n",
    "# PATH_FIELD_WILLIAMS_SRC=os.path.join(PATH_FIELDS,'williams-src.txt')\n",
    "# PATH_FIELD_WILLIAMS=os.path.join(PATH_FIELDS,'williams.txt')\n",
    "# PATH_FIELD_KOSELLECK_SRC=os.path.join(PATH_FIELDS,'koselleck-src.txt')\n",
    "# PATH_FIELD_KOSELLECK=os.path.join(PATH_FIELDS,'koselleck.txt')\n",
    "# FN_NOVELTY_DATA=os.path.join(PATH_DATA,'data.words_by_rateofchange.pkl')\n"
   ]
  },
  {
   "cell_type": "code",
   "execution_count": 2,
   "metadata": {},
   "outputs": [
    {
     "ename": "NameError",
     "evalue": "name 'os' is not defined",
     "output_type": "error",
     "traceback": [
      "\u001b[0;31m---------------------------------------------------------------------------\u001b[0m",
      "\u001b[0;31mNameError\u001b[0m                                 Traceback (most recent call last)",
      "\u001b[0;32m<ipython-input-2-135579460bf1>\u001b[0m in \u001b[0;36m<module>\u001b[0;34m\u001b[0m\n\u001b[0;32m----> 1\u001b[0;31m \u001b[0mFN_WORDS\u001b[0m\u001b[0;34m=\u001b[0m\u001b[0mos\u001b[0m\u001b[0;34m.\u001b[0m\u001b[0mpath\u001b[0m\u001b[0;34m.\u001b[0m\u001b[0mjoin\u001b[0m\u001b[0;34m(\u001b[0m\u001b[0mPATH_DATA\u001b[0m\u001b[0;34m,\u001b[0m\u001b[0;34m'data.mfw.txt'\u001b[0m\u001b[0;34m)\u001b[0m\u001b[0;34m\u001b[0m\u001b[0;34m\u001b[0m\u001b[0m\n\u001b[0m\u001b[1;32m      2\u001b[0m \u001b[0mFN_STOPWORDS\u001b[0m\u001b[0;34m=\u001b[0m\u001b[0mos\u001b[0m\u001b[0;34m.\u001b[0m\u001b[0mpath\u001b[0m\u001b[0;34m.\u001b[0m\u001b[0mjoin\u001b[0m\u001b[0;34m(\u001b[0m\u001b[0mPATH_DATA\u001b[0m\u001b[0;34m,\u001b[0m\u001b[0;34m'stopwords.txt'\u001b[0m\u001b[0;34m)\u001b[0m\u001b[0;34m\u001b[0m\u001b[0;34m\u001b[0m\u001b[0m\n\u001b[1;32m      3\u001b[0m \u001b[0mFN_FIELDS\u001b[0m\u001b[0;34m=\u001b[0m\u001b[0mos\u001b[0m\u001b[0;34m.\u001b[0m\u001b[0mpath\u001b[0m\u001b[0;34m.\u001b[0m\u001b[0mjoin\u001b[0m\u001b[0;34m(\u001b[0m\u001b[0mPATH_DATA\u001b[0m\u001b[0;34m,\u001b[0m\u001b[0;34m'data.fields.json'\u001b[0m\u001b[0;34m)\u001b[0m\u001b[0;34m\u001b[0m\u001b[0;34m\u001b[0m\u001b[0m\n\u001b[1;32m      4\u001b[0m \u001b[0mFN_ORIGFIELDS\u001b[0m\u001b[0;34m=\u001b[0m\u001b[0mos\u001b[0m\u001b[0;34m.\u001b[0m\u001b[0mpath\u001b[0m\u001b[0;34m.\u001b[0m\u001b[0mjoin\u001b[0m\u001b[0;34m(\u001b[0m\u001b[0mPATH_DATA\u001b[0m\u001b[0;34m,\u001b[0m\u001b[0;34m'data.origfields.pkl'\u001b[0m\u001b[0;34m)\u001b[0m\u001b[0;34m\u001b[0m\u001b[0;34m\u001b[0m\u001b[0m\n\u001b[1;32m      5\u001b[0m \u001b[0mFN_DEFAULT_MODEL_PATHS\u001b[0m\u001b[0;34m=\u001b[0m\u001b[0mos\u001b[0m\u001b[0;34m.\u001b[0m\u001b[0mpath\u001b[0m\u001b[0;34m.\u001b[0m\u001b[0mjoin\u001b[0m\u001b[0;34m(\u001b[0m\u001b[0mPATH_DATA\u001b[0m\u001b[0;34m,\u001b[0m\u001b[0;34m'data.model.paths.default.pkl'\u001b[0m\u001b[0;34m)\u001b[0m\u001b[0;34m\u001b[0m\u001b[0;34m\u001b[0m\u001b[0m\n",
      "\u001b[0;31mNameError\u001b[0m: name 'os' is not defined"
     ]
    }
   ],
   "source": [
    "FN_WORDS=os.path.join(PATH_DATA,'data.mfw.txt')\n",
    "FN_STOPWORDS=os.path.join(PATH_DATA,'stopwords.txt')\n",
    "FN_FIELDS=os.path.join(PATH_DATA,'data.fields.json')\n",
    "FN_ORIGFIELDS=os.path.join(PATH_DATA,'data.origfields.pkl')\n",
    "FN_DEFAULT_MODEL_PATHS=os.path.join(PATH_DATA,'data.model.paths.default.pkl')\n",
    "FN_ALL_LOCALDISTS_ORIGDATA=os.path.join(PATH_DATA_HD,'data.all_local_dists.v4.pkl')\n",
    "FN_ALL_NEIGHBS=os.path.join(PATH_DATA_HD,'data.all_local_neighbs.v2.pkl')\n",
    "FN_NOV_CACHE=os.path.join(PATH_DATA_HD,'data.nov_cache.pkl')\n",
    "FN_VECTOR_SCORES_RUNS=os.path.join(PATH_DATA,'data.vector_scores_across_models.v2.pkl')\n",
    "FN_VECTOR_SCORES_TTEST=os.path.join(PATH_DATA,'data.vector_scores_across_models.v2.ttests.pkl')\n",
    "FN_LNM_TTEST=os.path.join(PATH_DATA,'data.lnm.ttests.pkl')"
   ]
  },
  {
   "cell_type": "code",
   "execution_count": 1,
   "metadata": {},
   "outputs": [],
   "source": [
    "# # blank objects\n",
    "# DF_LOCALDISTS=None\n",
    "DFVECSCORES=None\n",
    "DFALLNOV=None\n",
    "# VECLIB={}\n",
    "# DF_MODELS_DL=None\n",
    "# NEIGHB_SIMPLE_D=None\n",
    "MODEL_CACHE={}"
   ]
  },
  {
   "cell_type": "markdown",
   "metadata": {},
   "source": [
    "## Config defaults"
   ]
  },
  {
   "cell_type": "code",
   "execution_count": 1,
   "metadata": {},
   "outputs": [],
   "source": [
    "DEFAULT_NUM_SKIP=20000\n",
    "NSKIP_PER_YR=20000\n",
    "YMIN=1720\n",
    "YMAX=1900\n",
    "FIELD_ABS_KEY='Abs-Conc.Median'\n",
    "FOOTE_W=5\n",
    "YEARBIN=5\n",
    "K=10\n",
    "NBR_MAX_RANK=1000"
   ]
  },
  {
   "cell_type": "code",
   "execution_count": 19,
   "metadata": {},
   "outputs": [],
   "source": [
    "# Corpus defaults\n",
    "CNAME='BPO'"
   ]
  },
  {
   "cell_type": "markdown",
   "metadata": {},
   "source": [
    "## Local imports"
   ]
  },
  {
   "cell_type": "code",
   "execution_count": 1,
   "metadata": {},
   "outputs": [
    {
     "name": "stderr",
     "output_type": "stream",
     "text": [
      "[Koselleck] (06:04:31) Alles bereit (+0.0s)\n"
     ]
    }
   ],
   "source": [
    "from ipynb.fs.defs.tools import *\n",
    "from ipynb.fs.defs.corpora import *\n",
    "from ipynb.fs.defs.db import *\n",
    "from ipynb.fs.defs.fields import *\n",
    "from ipynb.fs.defs.models import *\n",
    "from ipynb.fs.defs.vecs import *\n",
    "from ipynb.fs.defs.distvecs import *\n",
    "from ipynb.fs.defs.cdists import *\n",
    "from ipynb.fs.defs.neighbs import *\n",
    "from ipynb.fs.defs.shifts import *\n",
    "from ipynb.fs.defs.distmat import *\n",
    "from ipynb.fs.defs.novelty import *\n",
    "from ipynb.fs.defs.tilts import *\n",
    "from ipynb.fs.defs.info import *\n",
    "from ipynb.fs.defs.info import *\n",
    "from ipynb.fs.defs.passages import *\n"
   ]
  },
  {
   "cell_type": "code",
   "execution_count": null,
   "metadata": {},
   "outputs": [],
   "source": [
    "print('Alles bereit')"
   ]
  },
  {
   "cell_type": "code",
   "execution_count": null,
   "metadata": {},
   "outputs": [],
   "source": [
    "YMAX"
   ]
  },
  {
   "cell_type": "code",
   "execution_count": null,
   "metadata": {},
   "outputs": [],
   "source": []
  }
 ],
 "metadata": {
  "kernelspec": {
   "display_name": "Python 3",
   "language": "python",
   "name": "python3"
  },
  "language_info": {
   "codemirror_mode": {
    "name": "ipython",
    "version": 3
   },
   "file_extension": ".py",
   "mimetype": "text/x-python",
   "name": "python",
   "nbconvert_exporter": "python",
   "pygments_lexer": "ipython3",
   "version": "3.7.7"
  },
  "toc": {
   "base_numbering": 1,
   "nav_menu": {},
   "number_sections": false,
   "sideBar": false,
   "skip_h1_title": false,
   "title_cell": "Table of Contents",
   "title_sidebar": "Contents",
   "toc_cell": false,
   "toc_position": {},
   "toc_section_display": false,
   "toc_window_display": false
  },
  "widgets": {
   "application/vnd.jupyter.widget-state+json": {
    "state": {},
    "version_major": 2,
    "version_minor": 0
   }
  }
 },
 "nbformat": 4,
 "nbformat_minor": 4
}
