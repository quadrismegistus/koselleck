{
 "cells": [
  {
   "cell_type": "markdown",
   "id": "62b38438-0ff3-46c5-9b24-92b9028348cb",
   "metadata": {},
   "source": [
    "# db2"
   ]
  },
  {
   "cell_type": "code",
   "execution_count": 1,
   "id": "c8ff0e11-bab1-4bfa-8250-50fc47a3487c",
   "metadata": {},
   "outputs": [],
   "source": [
    "from ipynb.fs.full.koselleck import *"
   ]
  },
  {
   "cell_type": "code",
   "execution_count": 2,
   "id": "10cbeaee",
   "metadata": {},
   "outputs": [],
   "source": [
    "# !dropdb koselleck\n",
    "# !createdb koselleck"
   ]
  },
  {
   "cell_type": "code",
   "execution_count": 3,
   "id": "8381acef-26de-4a65-9ecc-2458b395f617",
   "metadata": {},
   "outputs": [],
   "source": [
    "from peewee import *\n",
    "from playhouse.postgres_ext import *\n",
    "from datetime import datetime as dt\n",
    "from psycopg2.errors import UniqueViolation\n",
    "db=None"
   ]
  },
  {
   "cell_type": "markdown",
   "id": "1958f856",
   "metadata": {},
   "source": [
    "## Model definitions"
   ]
  },
  {
   "cell_type": "code",
   "execution_count": null,
   "id": "094a43bb",
   "metadata": {},
   "outputs": [],
   "source": []
  },
  {
   "cell_type": "code",
   "execution_count": 4,
   "id": "9acf57a9-0d7f-4ec9-9296-6e3208a6c6ab",
   "metadata": {},
   "outputs": [
    {
     "data": {
      "text/plain": [
       "True"
      ]
     },
     "execution_count": 4,
     "metadata": {},
     "output_type": "execute_result"
    }
   ],
   "source": [
    "# db=PostgresqlExtDatabase('koselleck')\n",
    "FN_DB=os.path.join(PATH_DATA,'db2.koselleck.v2.sqlite')\n",
    "os.remove(FN_DB)\n",
    "db = SqliteDatabase(FN_DB)\n",
    "db.connect()"
   ]
  },
  {
   "cell_type": "code",
   "execution_count": 5,
   "id": "54888961-e2d9-4472-8607-bc1a42defad4",
   "metadata": {},
   "outputs": [],
   "source": [
    "class BaseModel(Model):\n",
    "    class Meta:\n",
    "        database = db"
   ]
  },
  {
   "cell_type": "code",
   "execution_count": 6,
   "id": "3d981197-0791-4830-869a-4d7b23f6c196",
   "metadata": {},
   "outputs": [],
   "source": [
    "class Word(BaseModel):\n",
    "    word = CharField(unique=True)\n",
    "    pos = CharField()\n",
    "    pos0 = CharField()\n",
    "    is_valid = BooleanField()\n",
    "    count = IntegerField()\n",
    "    fpm = FloatField()\n",
    "    rank = IntegerField()"
   ]
  },
  {
   "cell_type": "code",
   "execution_count": 7,
   "id": "54bfa182",
   "metadata": {},
   "outputs": [],
   "source": [
    "class Period(BaseModel):\n",
    "    period = CharField(unique=True)\n",
    "    ymin = IntegerField()\n",
    "    ymax = IntegerField()\n",
    "    ybin = IntegerField()"
   ]
  },
  {
   "cell_type": "code",
   "execution_count": 8,
   "id": "556a9e48",
   "metadata": {},
   "outputs": [],
   "source": [
    "class Corpus(BaseModel):\n",
    "    corpus = CharField(unique=True)\n",
    "    name = CharField(unique=True)"
   ]
  },
  {
   "cell_type": "code",
   "execution_count": 9,
   "id": "13fda942",
   "metadata": {},
   "outputs": [],
   "source": [
    "class Embedding(BaseModel):\n",
    "    path = CharField(unique=True)\n",
    "    period = ForeignKeyField(Period)\n",
    "    run = IntegerField()\n",
    "    corpus = ForeignKeyField(Corpus)\n",
    "#     df = BlobField()"
   ]
  },
  {
   "cell_type": "code",
   "execution_count": 10,
   "id": "91d9ce33",
   "metadata": {},
   "outputs": [],
   "source": [
    "class Vector(BaseModel):\n",
    "    word = ForeignKeyField(Word,backref='vectors')\n",
    "    model = ForeignKeyField(Embedding,backref='vectors')\n",
    "    #vector = ArrayField(field_class=FloatField, index=False)\n",
    "    vector = BlobField()"
   ]
  },
  {
   "cell_type": "code",
   "execution_count": 11,
   "id": "c43292f9-caf1-466c-bf2b-5dcb92d3d9c7",
   "metadata": {},
   "outputs": [],
   "source": [
    "# class Distance(BaseModel):\n",
    "#     word1=ForeignKeyField(Word,backref='dists1')\n",
    "#     word2=ForeignKeyField(Word,backref='dists2')\n",
    "#     model1=ForeignKeyField(Embedding)\n",
    "#     model2=ForeignKeyField(Embedding)\n",
    "#     type = CharField(unique=False)\n",
    "#     value = FloatField()\n",
    "#     rank = IntegerField()\n",
    "#     z = FloatField()\n",
    "#     perc = FloatField()"
   ]
  },
  {
   "cell_type": "code",
   "execution_count": 12,
   "id": "89daaf6c",
   "metadata": {},
   "outputs": [],
   "source": [
    "class Distance(BaseModel):\n",
    "    #vector1=ForeignKeyField(Vector)\n",
    "    #vector2=ForeignKeyField(Vector)\n",
    "    type = CharField(unique=False)\n",
    "    \n",
    "    word1=ForeignKeyField(Word)\n",
    "    word2=ForeignKeyField(Word)\n",
    "    \n",
    "    model1=ForeignKeyField(Embedding)\n",
    "    model2=ForeignKeyField(Embedding)\n",
    "    \n",
    "    value = FloatField()\n",
    "#     rank = IntegerField()\n",
    "#     z = FloatField()\n",
    "#     perc = FloatField()"
   ]
  },
  {
   "cell_type": "markdown",
   "id": "fbb75644",
   "metadata": {},
   "source": [
    "## Init"
   ]
  },
  {
   "cell_type": "code",
   "execution_count": 13,
   "id": "56016e98",
   "metadata": {},
   "outputs": [],
   "source": [
    "models =[Corpus,Period,Word,Embedding,Vector,Distance]\n",
    "with db.atomic() as tx:\n",
    "    #db.drop_tables(models)\n",
    "    db.create_tables(models)"
   ]
  },
  {
   "cell_type": "markdown",
   "id": "a422ea93",
   "metadata": {},
   "source": [
    "## Ingest"
   ]
  },
  {
   "cell_type": "code",
   "execution_count": 14,
   "id": "a4321a3a",
   "metadata": {},
   "outputs": [],
   "source": [
    "def ingest(cls, data_iter, batchsize=100):\n",
    "    with db.atomic() as txn:\n",
    "        for i,d in enumerate(data_iter):\n",
    "            try:\n",
    "                cls.create(**d)\n",
    "            except IntegrityError:\n",
    "                db.rollback()\n",
    "#             if i and not i%batchsize:\n",
    "#                 txn.commit()\n",
    "#         txt.commit()"
   ]
  },
  {
   "cell_type": "code",
   "execution_count": 15,
   "id": "37ba4850",
   "metadata": {},
   "outputs": [],
   "source": [
    "\n",
    "ingest(Corpus, [dict(corpus='bpo',name='BPO'), dict(corpus='ecco',name='ECCO')])"
   ]
  },
  {
   "cell_type": "markdown",
   "id": "5300be8c",
   "metadata": {},
   "source": [
    "### Ingest words"
   ]
  },
  {
   "cell_type": "code",
   "execution_count": 16,
   "id": "b6797076",
   "metadata": {},
   "outputs": [],
   "source": [
    "mfwdfn=os.path.join(PATH_DATA,'data.mfwdf.pkl')\n",
    "#get_corpus().mfw_df().to_pickle(mfwdfn)\n",
    "mfwdf=pd.read_pickle(mfwdfn)"
   ]
  },
  {
   "cell_type": "code",
   "execution_count": 17,
   "id": "d02222d1",
   "metadata": {},
   "outputs": [],
   "source": [
    "done={w.name for w in Word.select()}"
   ]
  },
  {
   "cell_type": "code",
   "execution_count": 18,
   "id": "da3781cc",
   "metadata": {},
   "outputs": [],
   "source": [
    "idf=mfwdf.reset_index()\n",
    "idf['is_valid']=idf['pos0'].isin({'n','v','j'})\n",
    "idf=idf[~idf.word.isin(done)]"
   ]
  },
  {
   "cell_type": "code",
   "execution_count": 19,
   "id": "4694bd4a",
   "metadata": {},
   "outputs": [],
   "source": [
    "ingest(Word, idf.to_dict('records'))"
   ]
  },
  {
   "cell_type": "markdown",
   "id": "7f51f198",
   "metadata": {},
   "source": [
    "## Ingest periods\n"
   ]
  },
  {
   "cell_type": "code",
   "execution_count": 20,
   "id": "11426b44",
   "metadata": {},
   "outputs": [],
   "source": [
    "period_lens={5,20,70}"
   ]
  },
  {
   "cell_type": "code",
   "execution_count": 21,
   "id": "49138516",
   "metadata": {},
   "outputs": [
    {
     "name": "stderr",
     "output_type": "stream",
     "text": [
      "Scanning directory for models: 3901it [00:00, 63888.03it/s]\n"
     ]
    },
    {
     "data": {
      "text/html": [
       "<div>\n",
       "<style scoped>\n",
       "    .dataframe tbody tr th:only-of-type {\n",
       "        vertical-align: middle;\n",
       "    }\n",
       "\n",
       "    .dataframe tbody tr th {\n",
       "        vertical-align: top;\n",
       "    }\n",
       "\n",
       "    .dataframe thead th {\n",
       "        text-align: right;\n",
       "    }\n",
       "</style>\n",
       "<table border=\"1\" class=\"dataframe\">\n",
       "  <thead>\n",
       "    <tr style=\"text-align: right;\">\n",
       "      <th></th>\n",
       "      <th>corpus</th>\n",
       "      <th>period_start</th>\n",
       "      <th>period_end</th>\n",
       "      <th>path</th>\n",
       "      <th>path_vocab</th>\n",
       "      <th>run</th>\n",
       "      <th>period</th>\n",
       "      <th>period_len</th>\n",
       "      <th>qstr</th>\n",
       "    </tr>\n",
       "  </thead>\n",
       "  <tbody>\n",
       "    <tr>\n",
       "      <th>2090</th>\n",
       "      <td>bpo</td>\n",
       "      <td>1720</td>\n",
       "      <td>1740</td>\n",
       "      <td>/home/ryan/github/koselleck/data1/models/bpo/1720-1740/run_01/model.bin</td>\n",
       "      <td>/home/ryan/github/koselleck/data1/models/bpo/1720-1740/run_01/vocab.txt</td>\n",
       "      <td>run_01</td>\n",
       "      <td>1720-1740</td>\n",
       "      <td>20</td>\n",
       "      <td>vecs(1720-1740_01)</td>\n",
       "    </tr>\n",
       "    <tr>\n",
       "      <th>2091</th>\n",
       "      <td>bpo</td>\n",
       "      <td>1720</td>\n",
       "      <td>1740</td>\n",
       "      <td>/home/ryan/github/koselleck/data1/models/bpo/1720-1740/run_05/model.bin</td>\n",
       "      <td>/home/ryan/github/koselleck/data1/models/bpo/1720-1740/run_05/vocab.txt</td>\n",
       "      <td>run_05</td>\n",
       "      <td>1720-1740</td>\n",
       "      <td>20</td>\n",
       "      <td>vecs(1720-1740_05)</td>\n",
       "    </tr>\n",
       "    <tr>\n",
       "      <th>2092</th>\n",
       "      <td>bpo</td>\n",
       "      <td>1720</td>\n",
       "      <td>1740</td>\n",
       "      <td>/home/ryan/github/koselleck/data1/models/bpo/1720-1740/run_10/model.bin</td>\n",
       "      <td>/home/ryan/github/koselleck/data1/models/bpo/1720-1740/run_10/vocab.txt</td>\n",
       "      <td>run_10</td>\n",
       "      <td>1720-1740</td>\n",
       "      <td>20</td>\n",
       "      <td>vecs(1720-1740_10)</td>\n",
       "    </tr>\n",
       "    <tr>\n",
       "      <th>2093</th>\n",
       "      <td>bpo</td>\n",
       "      <td>1720</td>\n",
       "      <td>1740</td>\n",
       "      <td>/home/ryan/github/koselleck/data1/models/bpo/1720-1740/run_02/model.bin</td>\n",
       "      <td>/home/ryan/github/koselleck/data1/models/bpo/1720-1740/run_02/vocab.txt</td>\n",
       "      <td>run_02</td>\n",
       "      <td>1720-1740</td>\n",
       "      <td>20</td>\n",
       "      <td>vecs(1720-1740_02)</td>\n",
       "    </tr>\n",
       "    <tr>\n",
       "      <th>2094</th>\n",
       "      <td>bpo</td>\n",
       "      <td>1720</td>\n",
       "      <td>1740</td>\n",
       "      <td>/home/ryan/github/koselleck/data1/models/bpo/1720-1740/run_08/model.bin</td>\n",
       "      <td>/home/ryan/github/koselleck/data1/models/bpo/1720-1740/run_08/vocab.txt</td>\n",
       "      <td>run_08</td>\n",
       "      <td>1720-1740</td>\n",
       "      <td>20</td>\n",
       "      <td>vecs(1720-1740_08)</td>\n",
       "    </tr>\n",
       "    <tr>\n",
       "      <th>...</th>\n",
       "      <td>...</td>\n",
       "      <td>...</td>\n",
       "      <td>...</td>\n",
       "      <td>...</td>\n",
       "      <td>...</td>\n",
       "      <td>...</td>\n",
       "      <td>...</td>\n",
       "      <td>...</td>\n",
       "      <td>...</td>\n",
       "    </tr>\n",
       "    <tr>\n",
       "      <th>1851</th>\n",
       "      <td>bpo</td>\n",
       "      <td>1895</td>\n",
       "      <td>1900</td>\n",
       "      <td>/home/ryan/github/koselleck/data1/models/bpo/1895-1900/run_11/model.bin</td>\n",
       "      <td>/home/ryan/github/koselleck/data1/models/bpo/1895-1900/run_11/vocab.txt</td>\n",
       "      <td>run_11</td>\n",
       "      <td>1895-1900</td>\n",
       "      <td>5</td>\n",
       "      <td>vecs(1895-1900_11)</td>\n",
       "    </tr>\n",
       "    <tr>\n",
       "      <th>1853</th>\n",
       "      <td>bpo</td>\n",
       "      <td>1895</td>\n",
       "      <td>1900</td>\n",
       "      <td>/home/ryan/github/koselleck/data1/models/bpo/1895-1900/run_04/model.bin</td>\n",
       "      <td>/home/ryan/github/koselleck/data1/models/bpo/1895-1900/run_04/vocab.txt</td>\n",
       "      <td>run_04</td>\n",
       "      <td>1895-1900</td>\n",
       "      <td>5</td>\n",
       "      <td>vecs(1895-1900_04)</td>\n",
       "    </tr>\n",
       "    <tr>\n",
       "      <th>1854</th>\n",
       "      <td>bpo</td>\n",
       "      <td>1895</td>\n",
       "      <td>1900</td>\n",
       "      <td>/home/ryan/github/koselleck/data1/models/bpo/1895-1900/run_12/model.bin</td>\n",
       "      <td>/home/ryan/github/koselleck/data1/models/bpo/1895-1900/run_12/vocab.txt</td>\n",
       "      <td>run_12</td>\n",
       "      <td>1895-1900</td>\n",
       "      <td>5</td>\n",
       "      <td>vecs(1895-1900_12)</td>\n",
       "    </tr>\n",
       "    <tr>\n",
       "      <th>1847</th>\n",
       "      <td>bpo</td>\n",
       "      <td>1895</td>\n",
       "      <td>1900</td>\n",
       "      <td>/home/ryan/github/koselleck/data1/models/bpo/1895-1900/run_06/model.bin</td>\n",
       "      <td>/home/ryan/github/koselleck/data1/models/bpo/1895-1900/run_06/vocab.txt</td>\n",
       "      <td>run_06</td>\n",
       "      <td>1895-1900</td>\n",
       "      <td>5</td>\n",
       "      <td>vecs(1895-1900_06)</td>\n",
       "    </tr>\n",
       "    <tr>\n",
       "      <th>1844</th>\n",
       "      <td>bpo</td>\n",
       "      <td>1895</td>\n",
       "      <td>1900</td>\n",
       "      <td>/home/ryan/github/koselleck/data1/models/bpo/1895-1900/run_03/model.bin</td>\n",
       "      <td>/home/ryan/github/koselleck/data1/models/bpo/1895-1900/run_03/vocab.txt</td>\n",
       "      <td>run_03</td>\n",
       "      <td>1895-1900</td>\n",
       "      <td>5</td>\n",
       "      <td>vecs(1895-1900_03)</td>\n",
       "    </tr>\n",
       "  </tbody>\n",
       "</table>\n",
       "<p>1002 rows × 9 columns</p>\n",
       "</div>"
      ],
      "text/plain": [
       "     corpus  period_start  period_end  \\\n",
       "2090    bpo          1720        1740   \n",
       "2091    bpo          1720        1740   \n",
       "2092    bpo          1720        1740   \n",
       "2093    bpo          1720        1740   \n",
       "2094    bpo          1720        1740   \n",
       "...     ...           ...         ...   \n",
       "1851    bpo          1895        1900   \n",
       "1853    bpo          1895        1900   \n",
       "1854    bpo          1895        1900   \n",
       "1847    bpo          1895        1900   \n",
       "1844    bpo          1895        1900   \n",
       "\n",
       "                                                                         path  \\\n",
       "2090  /home/ryan/github/koselleck/data1/models/bpo/1720-1740/run_01/model.bin   \n",
       "2091  /home/ryan/github/koselleck/data1/models/bpo/1720-1740/run_05/model.bin   \n",
       "2092  /home/ryan/github/koselleck/data1/models/bpo/1720-1740/run_10/model.bin   \n",
       "2093  /home/ryan/github/koselleck/data1/models/bpo/1720-1740/run_02/model.bin   \n",
       "2094  /home/ryan/github/koselleck/data1/models/bpo/1720-1740/run_08/model.bin   \n",
       "...                                                                       ...   \n",
       "1851  /home/ryan/github/koselleck/data1/models/bpo/1895-1900/run_11/model.bin   \n",
       "1853  /home/ryan/github/koselleck/data1/models/bpo/1895-1900/run_04/model.bin   \n",
       "1854  /home/ryan/github/koselleck/data1/models/bpo/1895-1900/run_12/model.bin   \n",
       "1847  /home/ryan/github/koselleck/data1/models/bpo/1895-1900/run_06/model.bin   \n",
       "1844  /home/ryan/github/koselleck/data1/models/bpo/1895-1900/run_03/model.bin   \n",
       "\n",
       "                                                                   path_vocab  \\\n",
       "2090  /home/ryan/github/koselleck/data1/models/bpo/1720-1740/run_01/vocab.txt   \n",
       "2091  /home/ryan/github/koselleck/data1/models/bpo/1720-1740/run_05/vocab.txt   \n",
       "2092  /home/ryan/github/koselleck/data1/models/bpo/1720-1740/run_10/vocab.txt   \n",
       "2093  /home/ryan/github/koselleck/data1/models/bpo/1720-1740/run_02/vocab.txt   \n",
       "2094  /home/ryan/github/koselleck/data1/models/bpo/1720-1740/run_08/vocab.txt   \n",
       "...                                                                       ...   \n",
       "1851  /home/ryan/github/koselleck/data1/models/bpo/1895-1900/run_11/vocab.txt   \n",
       "1853  /home/ryan/github/koselleck/data1/models/bpo/1895-1900/run_04/vocab.txt   \n",
       "1854  /home/ryan/github/koselleck/data1/models/bpo/1895-1900/run_12/vocab.txt   \n",
       "1847  /home/ryan/github/koselleck/data1/models/bpo/1895-1900/run_06/vocab.txt   \n",
       "1844  /home/ryan/github/koselleck/data1/models/bpo/1895-1900/run_03/vocab.txt   \n",
       "\n",
       "         run     period  period_len                qstr  \n",
       "2090  run_01  1720-1740          20  vecs(1720-1740_01)  \n",
       "2091  run_05  1720-1740          20  vecs(1720-1740_05)  \n",
       "2092  run_10  1720-1740          20  vecs(1720-1740_10)  \n",
       "2093  run_02  1720-1740          20  vecs(1720-1740_02)  \n",
       "2094  run_08  1720-1740          20  vecs(1720-1740_08)  \n",
       "...      ...        ...         ...                 ...  \n",
       "1851  run_11  1895-1900           5  vecs(1895-1900_11)  \n",
       "1853  run_04  1895-1900           5  vecs(1895-1900_04)  \n",
       "1854  run_12  1895-1900           5  vecs(1895-1900_12)  \n",
       "1847  run_06  1895-1900           5  vecs(1895-1900_06)  \n",
       "1844  run_03  1895-1900           5  vecs(1895-1900_03)  \n",
       "\n",
       "[1002 rows x 9 columns]"
      ]
     },
     "execution_count": 21,
     "metadata": {},
     "output_type": "execute_result"
    }
   ],
   "source": [
    "# Models\n",
    "dfmodels = get_pathdf_models(period_len=None)\n",
    "dfmodels = dfmodels[dfmodels.period_len.isin(period_lens)]\n",
    "dfmodels"
   ]
  },
  {
   "cell_type": "markdown",
   "id": "cb428d98",
   "metadata": {},
   "source": [
    "### Periods"
   ]
  },
  {
   "cell_type": "code",
   "execution_count": 22,
   "id": "f66e7308",
   "metadata": {},
   "outputs": [],
   "source": [
    "def ingest_periods(dfmodels):\n",
    "    df=dfmodels[\n",
    "        ['period','period_len','period_start','period_end']\n",
    "    ].drop_duplicates()\n",
    "    df.columns = ['period', 'ybin', 'ymin', 'ymax']\n",
    "    return ingest(Period, df.to_dict('records'))"
   ]
  },
  {
   "cell_type": "code",
   "execution_count": 23,
   "id": "7c8d7dcc",
   "metadata": {},
   "outputs": [],
   "source": [
    "ingest_periods(dfmodels)"
   ]
  },
  {
   "cell_type": "code",
   "execution_count": 24,
   "id": "e3bfcf2e",
   "metadata": {},
   "outputs": [],
   "source": [
    "# PATH_MODELS"
   ]
  },
  {
   "cell_type": "markdown",
   "id": "2b4189aa",
   "metadata": {},
   "source": [
    "## Ingest embeddings\n",
    "\n",
    "\n",
    "```python\n",
    "class Embedding(BaseModel):\n",
    "    path = CharField(unique=True)\n",
    "    period = ForeignKeyField(Period)\n",
    "    run = IntegerField()\n",
    "    corpus = ForeignKeyField(Corpus)\n",
    "```"
   ]
  },
  {
   "cell_type": "code",
   "execution_count": 25,
   "id": "18c1f648",
   "metadata": {},
   "outputs": [],
   "source": [
    "# def model_to_vectors(mpath):\n",
    "#     m=load_model(mpath)\n",
    "#     return pd.DataFrame(m.wv.vectors, index=[m.wv.index_to_key[i] for i in range(len(m.wv.vectors))])"
   ]
  },
  {
   "cell_type": "code",
   "execution_count": 26,
   "id": "2cc06445",
   "metadata": {},
   "outputs": [],
   "source": [
    "# model_to_vectors(dfmodels.iloc[0].path)"
   ]
  },
  {
   "cell_type": "code",
   "execution_count": 27,
   "id": "5196f862",
   "metadata": {},
   "outputs": [],
   "source": [
    "# pickle.dump(dfmodels)\n",
    "def ingest_model_row(row):\n",
    "    d=dict(\n",
    "        path=os.path.relpath(row.path, PATH_MODELS),\n",
    "        period = Period.get(Period.period==row.period),\n",
    "        run = int(row.run.split('_')[-1]),\n",
    "        corpus = Corpus.get(Corpus.corpus==row.corpus),\n",
    "#         df = pickle.dumps(model_to_vectors(row.path))\n",
    "    )\n",
    "    return d"
   ]
  },
  {
   "cell_type": "code",
   "execution_count": 28,
   "id": "e1ccf01d",
   "metadata": {},
   "outputs": [],
   "source": [
    "def iter_ingest_models(dfmodels):\n",
    "    objs=[row for i,row in dfmodels.iterrows()]\n",
    "    yield from pmap_iter(\n",
    "        ingest_model_row,\n",
    "        objs,\n",
    "        num_proc=1\n",
    "    )"
   ]
  },
  {
   "cell_type": "code",
   "execution_count": 29,
   "id": "5267cd46",
   "metadata": {},
   "outputs": [],
   "source": [
    "# o=next(iter_ingest_models(dfmodels))"
   ]
  },
  {
   "cell_type": "code",
   "execution_count": 30,
   "id": "20bdbb15",
   "metadata": {},
   "outputs": [
    {
     "name": "stderr",
     "output_type": "stream",
     "text": [
      "Mapping ingest_model_row() [x1]: 100%|██████████| 1002/1002 [00:00<00:00, 1544.08it/s]\n"
     ]
    }
   ],
   "source": [
    "ingest(Embedding, iter_ingest_models(dfmodels), batchsize=2)"
   ]
  },
  {
   "cell_type": "markdown",
   "id": "5f091441",
   "metadata": {},
   "source": [
    "### Vecs\n",
    "\n",
    "```python\n",
    "class WordVector(Vector):\n",
    "    word = ForeignKeyField(Word,backref='vectors')\n",
    "    model = ForeignKeyField(Embedding,backref='vectors')\n",
    "    vector = ArrayField(field_class=FloatField, index=False)\n",
    "```"
   ]
  },
  {
   "cell_type": "code",
   "execution_count": 31,
   "id": "b818a936",
   "metadata": {},
   "outputs": [],
   "source": [
    "dbd_word = dict((w.word,w) for w in Word.select())\n",
    "dbd_path = dict((x.path,x) for x in Embedding.select())"
   ]
  },
  {
   "cell_type": "code",
   "execution_count": 32,
   "id": "93720222",
   "metadata": {},
   "outputs": [],
   "source": [
    "def ingest_vecs_from_model(row):\n",
    "    m=load_model(row.path)\n",
    "    l=[]\n",
    "#     with db.atomic() as txn:\n",
    "    words={w.word for w in Word.select()}\n",
    "    pathid=os.path.relpath(row.path, PATH_MODELS)\n",
    "    for word,index in m.wv.key_to_index.items():\n",
    "        if word not in words: continue\n",
    "        vec=m.wv.vectors[index]\n",
    "        o=dict(\n",
    "            word=dbd_word.get(word),\n",
    "            model=dbd_path.get(pathid),\n",
    "            vector=pickle.dumps(vec)#[float(x) for x in vec],\n",
    "        )\n",
    "        l.append(o)\n",
    "    return l"
   ]
  },
  {
   "cell_type": "code",
   "execution_count": 33,
   "id": "6a5805fd",
   "metadata": {},
   "outputs": [],
   "source": [
    "# next(ingest_vecs_from_model(dfmodels.iloc[0]))"
   ]
  },
  {
   "cell_type": "code",
   "execution_count": 34,
   "id": "f5be4d48",
   "metadata": {},
   "outputs": [],
   "source": [
    "def iter_ingest_vecs(dfmodels,num_proc=1):\n",
    "    paths=dfmodels.path\n",
    "    for iterr in pmap_iter(\n",
    "        ingest_vecs_from_model,\n",
    "        [row for i,row in dfmodels.iterrows()],\n",
    "        num_proc=num_proc\n",
    "        ):\n",
    "        \n",
    "        ingest(Vector, iterr)"
   ]
  },
  {
   "cell_type": "code",
   "execution_count": 35,
   "id": "205144f0",
   "metadata": {},
   "outputs": [],
   "source": [
    "# iter_ingest_vecs(dfmodels)"
   ]
  },
  {
   "cell_type": "code",
   "execution_count": 36,
   "id": "efdc6688",
   "metadata": {},
   "outputs": [],
   "source": [
    "# stop\n",
    "# ingest(Vector, iter_ingest_vecs(dfmodels))"
   ]
  },
  {
   "cell_type": "code",
   "execution_count": 37,
   "id": "da6b04a8",
   "metadata": {},
   "outputs": [],
   "source": [
    "def get_vecs_from_db(period, run=1):\n",
    "    with db.atomic():\n",
    "        vecs = Vector.select().join(Embedding).where(\n",
    "            (Embedding.run==run) & (\n",
    "                Embedding.period==Period.get(\n",
    "                    Period.period==period\n",
    "                )\n",
    "            )\n",
    "        )\n",
    "        return pd.DataFrame(dict((vec.word.word, pickle.loads(vec.vector)) for vec in tqdm(vecs))).T\n",
    "        #)"
   ]
  },
  {
   "cell_type": "code",
   "execution_count": 38,
   "id": "de40a82e",
   "metadata": {},
   "outputs": [],
   "source": [
    "# vecs('1720-1740')"
   ]
  },
  {
   "cell_type": "markdown",
   "id": "80362f73-7870-4abf-8d81-bef8f0617878",
   "metadata": {},
   "source": [
    "## Distances\n",
    "\n",
    "```python\n",
    "class Distance(BaseModel):\n",
    "    #vector1=ForeignKeyField(Vector)\n",
    "    #vector2=ForeignKeyField(Vector)\n",
    "    type = CharField(unique=False)\n",
    "    \n",
    "    word1=ForeignKeyField(Word)\n",
    "    word2=ForeignKeyField(Word)\n",
    "    \n",
    "    model1=ForeignKeyField(Embedding)\n",
    "    model2=ForeignKeyField(Embedding)\n",
    "    \n",
    "    value = FloatField()\n",
    "#     rank = IntegerField()\n",
    "#     z = FloatField()\n",
    "#     perc = FloatField()\n",
    "```"
   ]
  },
  {
   "cell_type": "code",
   "execution_count": 39,
   "id": "1c1dcbaf-f7c3-4050-8663-facd3034a621",
   "metadata": {},
   "outputs": [],
   "source": [
    "def get_valid_words_from_db():\n",
    "    with db.atomic(): return {w.word for w in Word.select().where(Word.is_valid==True)}\n",
    "get_valid_words = get_valid_words_from_db"
   ]
  },
  {
   "cell_type": "code",
   "execution_count": 40,
   "id": "f0c949a9-aa9d-4b49-9c6c-8c905914781e",
   "metadata": {},
   "outputs": [],
   "source": [
    "# get_valid_words_from_db()"
   ]
  },
  {
   "cell_type": "code",
   "execution_count": 41,
   "id": "f345d62d-dca3-42b4-92d4-f52113bcb798",
   "metadata": {},
   "outputs": [],
   "source": [
    "def ingest_dists_model(period,run=1,only_valid_words=True,lim=25000):\n",
    "    embed = Embedding.get((Embedding.period==Period.get(Period.period==period)) & (Embedding.run==run))\n",
    "    \n",
    "    dfvecs=vecs(period,run)\n",
    "    if only_valid_words: dfvecs=dfvecs.loc[set(dfvecs.index)&get_valid_words()]\n",
    "    if lim: dfvecs=dfvecs[:lim]\n",
    "    print(dfvecs.shape)\n",
    "    dfsim=pd.DataFrame(\n",
    "        fastdist.cosine_pairwise_distance(\n",
    "            dfvecs.values.astype(float),\n",
    "            return_matrix=True\n",
    "        ),\n",
    "        index=dfvecs.index,\n",
    "        columns=dfvecs.index\n",
    "    )\n",
    "    dfdist=1-dfsim\n",
    "    \n",
    "    dfmelt=dfdist.rename_axis('word1').reset_index().melt(id_vars=['word1'],var_name='word2',value_name='value')\n",
    "    dfmelt=dfmelt.query('word1<word2')\n",
    "#     dfmelt['rank']=dfmelt.value.rank(ascending=False)\n",
    "#     dfmelt['z']=(dfmelt.value - dfmelt.value.mean())/dfmelt.value.std()\n",
    "#     dfmelt['perc']=dfmelt['rank'] / len(dfmelt) * 100\n",
    "    \n",
    "    def iterr():\n",
    "        for w1,w2,v in tqdm(zip(dfmelt.word1,dfmelt.word2,dfmelt.value), total=len(dfmelt)):\n",
    "            yield dict(\n",
    "                type='cos',\n",
    "                word1=dbd_word.get(w1),\n",
    "                word2=dbd_word.get(w2),\n",
    "                model1=embed,\n",
    "                model2=embed,\n",
    "                value=v\n",
    "            )\n",
    "    \n",
    "    return ingest(Distance, iterr())"
   ]
  },
  {
   "cell_type": "code",
   "execution_count": 42,
   "id": "bbb8c5a8-c942-460f-b0de-1f1182dcfd6a",
   "metadata": {},
   "outputs": [
    {
     "name": "stderr",
     "output_type": "stream",
     "text": [
      "[Koselleck] (18:36:32) (13486, 100) (+4.6s)\n",
      "  2%|▏         | 1480055/90929355 [03:51<4:01:32, 6172.11it/s]\n",
      "KeyboardInterrupt\n",
      "\n"
     ]
    }
   ],
   "source": [
    "ingest_dists_model('1720-1740')"
   ]
  },
  {
   "cell_type": "code",
   "execution_count": null,
   "id": "7f800867-6574-46e5-8363-c6ba8013cb46",
   "metadata": {},
   "outputs": [],
   "source": [
    "Distance.select().where(Distance.word1==Word.get(Word.word=='creeping')).first()"
   ]
  },
  {
   "cell_type": "code",
   "execution_count": null,
   "id": "b0fcfb3a-cc86-4a22-b0e6-6556cf39209b",
   "metadata": {},
   "outputs": [],
   "source": [
    "# len(list(Distance.select()))"
   ]
  },
  {
   "cell_type": "code",
   "execution_count": null,
   "id": "30974b9b-a6f4-4f5e-b9f8-d2d52cf757c1",
   "metadata": {},
   "outputs": [],
   "source": []
  }
 ],
 "metadata": {
  "kernelspec": {
   "display_name": "Python 3",
   "language": "python",
   "name": "python3"
  },
  "language_info": {
   "codemirror_mode": {
    "name": "ipython",
    "version": 3
   },
   "file_extension": ".py",
   "mimetype": "text/x-python",
   "name": "python",
   "nbconvert_exporter": "python",
   "pygments_lexer": "ipython3",
   "version": "3.8.5"
  },
  "widgets": {
   "application/vnd.jupyter.widget-state+json": {
    "state": {},
    "version_major": 2,
    "version_minor": 0
   }
  }
 },
 "nbformat": 4,
 "nbformat_minor": 5
}
