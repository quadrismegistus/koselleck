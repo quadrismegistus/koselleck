{
 "cells": [
  {
   "cell_type": "markdown",
   "metadata": {},
   "source": [
    "# Word embedding models"
   ]
  },
  {
   "cell_type": "code",
   "execution_count": 3,
   "metadata": {},
   "outputs": [],
   "source": [
    "from koselleck import *"
   ]
  },
  {
   "cell_type": "markdown",
   "metadata": {},
   "source": [
    "## Cache existing data in db"
   ]
  },
  {
   "cell_type": "code",
   "execution_count": 4,
   "metadata": {},
   "outputs": [],
   "source": [
    "# save_vecs_in_db(num_proc=1)"
   ]
  },
  {
   "cell_type": "code",
   "execution_count": 5,
   "metadata": {},
   "outputs": [],
   "source": [
    "vl=get_veclib('vecs')"
   ]
  },
  {
   "cell_type": "code",
   "execution_count": 9,
   "metadata": {},
   "outputs": [],
   "source": [
    "# list(vl.keys())"
   ]
  },
  {
   "cell_type": "code",
   "execution_count": null,
   "metadata": {},
   "outputs": [],
   "source": []
  },
  {
   "cell_type": "code",
   "execution_count": 33,
   "metadata": {},
   "outputs": [],
   "source": []
  },
  {
   "cell_type": "code",
   "execution_count": 37,
   "metadata": {},
   "outputs": [
    {
     "ename": "NameError",
     "evalue": "name 'dfmodels' is not defined",
     "output_type": "error",
     "traceback": [
      "\u001b[0;31m---------------------------------------------------------------------------\u001b[0m",
      "\u001b[0;31mNameError\u001b[0m                                 Traceback (most recent call last)",
      "\u001b[0;32m<ipython-input-37-1c5cf66579f8>\u001b[0m in \u001b[0;36m<module>\u001b[0;34m\u001b[0m\n\u001b[0;32m----> 1\u001b[0;31m \u001b[0mdfmodels\u001b[0m\u001b[0;34m\u001b[0m\u001b[0;34m\u001b[0m\u001b[0m\n\u001b[0m",
      "\u001b[0;31mNameError\u001b[0m: name 'dfmodels' is not defined"
     ]
    }
   ],
   "source": []
  },
  {
   "cell_type": "code",
   "execution_count": 32,
   "metadata": {},
   "outputs": [
    {
     "data": {
      "text/html": [
       "<div>\n",
       "<style scoped>\n",
       "    .dataframe tbody tr th:only-of-type {\n",
       "        vertical-align: middle;\n",
       "    }\n",
       "\n",
       "    .dataframe tbody tr th {\n",
       "        vertical-align: top;\n",
       "    }\n",
       "\n",
       "    .dataframe thead th {\n",
       "        text-align: right;\n",
       "    }\n",
       "</style>\n",
       "<table border=\"1\" class=\"dataframe\">\n",
       "  <thead>\n",
       "    <tr style=\"text-align: right;\">\n",
       "      <th></th>\n",
       "      <th>0</th>\n",
       "      <th>1</th>\n",
       "      <th>2</th>\n",
       "      <th>3</th>\n",
       "      <th>4</th>\n",
       "      <th>5</th>\n",
       "      <th>6</th>\n",
       "      <th>7</th>\n",
       "      <th>8</th>\n",
       "      <th>9</th>\n",
       "      <th>...</th>\n",
       "      <th>90</th>\n",
       "      <th>91</th>\n",
       "      <th>92</th>\n",
       "      <th>93</th>\n",
       "      <th>94</th>\n",
       "      <th>95</th>\n",
       "      <th>96</th>\n",
       "      <th>97</th>\n",
       "      <th>98</th>\n",
       "      <th>99</th>\n",
       "    </tr>\n",
       "  </thead>\n",
       "  <tbody>\n",
       "    <tr>\n",
       "      <th>the</th>\n",
       "      <td>0.518834</td>\n",
       "      <td>0.112339</td>\n",
       "      <td>0.354481</td>\n",
       "      <td>1.326438</td>\n",
       "      <td>-0.350878</td>\n",
       "      <td>1.323567</td>\n",
       "      <td>-0.152572</td>\n",
       "      <td>0.241625</td>\n",
       "      <td>0.098877</td>\n",
       "      <td>-0.079031</td>\n",
       "      <td>...</td>\n",
       "      <td>-0.000588</td>\n",
       "      <td>-0.067636</td>\n",
       "      <td>1.035088</td>\n",
       "      <td>-0.258235</td>\n",
       "      <td>-0.470933</td>\n",
       "      <td>-0.608469</td>\n",
       "      <td>0.038985</td>\n",
       "      <td>0.250557</td>\n",
       "      <td>0.250846</td>\n",
       "      <td>0.047013</td>\n",
       "    </tr>\n",
       "    <tr>\n",
       "      <th>of</th>\n",
       "      <td>-0.352763</td>\n",
       "      <td>0.553724</td>\n",
       "      <td>-0.055193</td>\n",
       "      <td>1.560007</td>\n",
       "      <td>-0.436875</td>\n",
       "      <td>0.806038</td>\n",
       "      <td>-0.453449</td>\n",
       "      <td>1.287194</td>\n",
       "      <td>-1.133802</td>\n",
       "      <td>-0.261347</td>\n",
       "      <td>...</td>\n",
       "      <td>0.147312</td>\n",
       "      <td>-0.008487</td>\n",
       "      <td>1.155754</td>\n",
       "      <td>-1.370358</td>\n",
       "      <td>-0.499677</td>\n",
       "      <td>-0.171854</td>\n",
       "      <td>0.341440</td>\n",
       "      <td>-0.103620</td>\n",
       "      <td>-0.160002</td>\n",
       "      <td>0.178899</td>\n",
       "    </tr>\n",
       "    <tr>\n",
       "      <th>to</th>\n",
       "      <td>0.214600</td>\n",
       "      <td>0.678866</td>\n",
       "      <td>-0.436494</td>\n",
       "      <td>0.772427</td>\n",
       "      <td>0.170232</td>\n",
       "      <td>2.645017</td>\n",
       "      <td>0.343733</td>\n",
       "      <td>-1.033259</td>\n",
       "      <td>0.416046</td>\n",
       "      <td>0.296791</td>\n",
       "      <td>...</td>\n",
       "      <td>-0.810945</td>\n",
       "      <td>-0.645016</td>\n",
       "      <td>0.598870</td>\n",
       "      <td>-1.679335</td>\n",
       "      <td>-0.539725</td>\n",
       "      <td>-1.543595</td>\n",
       "      <td>0.039166</td>\n",
       "      <td>0.912559</td>\n",
       "      <td>1.334654</td>\n",
       "      <td>-2.360000</td>\n",
       "    </tr>\n",
       "    <tr>\n",
       "      <th>and</th>\n",
       "      <td>-0.744995</td>\n",
       "      <td>0.243157</td>\n",
       "      <td>0.385076</td>\n",
       "      <td>1.661384</td>\n",
       "      <td>1.101202</td>\n",
       "      <td>1.322934</td>\n",
       "      <td>-0.390144</td>\n",
       "      <td>0.393504</td>\n",
       "      <td>0.710245</td>\n",
       "      <td>-0.126497</td>\n",
       "      <td>...</td>\n",
       "      <td>-1.179631</td>\n",
       "      <td>-0.442142</td>\n",
       "      <td>0.615115</td>\n",
       "      <td>-1.465211</td>\n",
       "      <td>-0.630602</td>\n",
       "      <td>-0.440380</td>\n",
       "      <td>-0.159276</td>\n",
       "      <td>1.070248</td>\n",
       "      <td>-0.170253</td>\n",
       "      <td>0.250179</td>\n",
       "    </tr>\n",
       "    <tr>\n",
       "      <th>in</th>\n",
       "      <td>-0.441625</td>\n",
       "      <td>0.526975</td>\n",
       "      <td>0.996545</td>\n",
       "      <td>1.096613</td>\n",
       "      <td>-0.980460</td>\n",
       "      <td>0.987092</td>\n",
       "      <td>0.991870</td>\n",
       "      <td>0.590672</td>\n",
       "      <td>-1.330634</td>\n",
       "      <td>0.027227</td>\n",
       "      <td>...</td>\n",
       "      <td>-0.266627</td>\n",
       "      <td>-0.190203</td>\n",
       "      <td>1.840565</td>\n",
       "      <td>-1.020965</td>\n",
       "      <td>-0.100212</td>\n",
       "      <td>-1.303767</td>\n",
       "      <td>-0.322558</td>\n",
       "      <td>0.159598</td>\n",
       "      <td>-0.345350</td>\n",
       "      <td>-0.231719</td>\n",
       "    </tr>\n",
       "    <tr>\n",
       "      <th>...</th>\n",
       "      <td>...</td>\n",
       "      <td>...</td>\n",
       "      <td>...</td>\n",
       "      <td>...</td>\n",
       "      <td>...</td>\n",
       "      <td>...</td>\n",
       "      <td>...</td>\n",
       "      <td>...</td>\n",
       "      <td>...</td>\n",
       "      <td>...</td>\n",
       "      <td>...</td>\n",
       "      <td>...</td>\n",
       "      <td>...</td>\n",
       "      <td>...</td>\n",
       "      <td>...</td>\n",
       "      <td>...</td>\n",
       "      <td>...</td>\n",
       "      <td>...</td>\n",
       "      <td>...</td>\n",
       "      <td>...</td>\n",
       "      <td>...</td>\n",
       "    </tr>\n",
       "    <tr>\n",
       "      <th>angelis</th>\n",
       "      <td>-0.019318</td>\n",
       "      <td>-0.084302</td>\n",
       "      <td>0.269294</td>\n",
       "      <td>0.113684</td>\n",
       "      <td>0.166686</td>\n",
       "      <td>0.046743</td>\n",
       "      <td>0.103498</td>\n",
       "      <td>0.018679</td>\n",
       "      <td>-0.129501</td>\n",
       "      <td>-0.184194</td>\n",
       "      <td>...</td>\n",
       "      <td>0.307812</td>\n",
       "      <td>0.246739</td>\n",
       "      <td>0.126733</td>\n",
       "      <td>-0.021164</td>\n",
       "      <td>0.025616</td>\n",
       "      <td>0.037745</td>\n",
       "      <td>-0.128690</td>\n",
       "      <td>0.147227</td>\n",
       "      <td>0.044234</td>\n",
       "      <td>-0.112729</td>\n",
       "    </tr>\n",
       "    <tr>\n",
       "      <th>pyrats</th>\n",
       "      <td>-0.078977</td>\n",
       "      <td>-0.116150</td>\n",
       "      <td>-0.007428</td>\n",
       "      <td>-0.307214</td>\n",
       "      <td>-0.003595</td>\n",
       "      <td>-0.048145</td>\n",
       "      <td>0.060895</td>\n",
       "      <td>0.073208</td>\n",
       "      <td>0.060787</td>\n",
       "      <td>-0.228901</td>\n",
       "      <td>...</td>\n",
       "      <td>0.016941</td>\n",
       "      <td>0.492123</td>\n",
       "      <td>0.133330</td>\n",
       "      <td>0.020916</td>\n",
       "      <td>0.386024</td>\n",
       "      <td>0.326242</td>\n",
       "      <td>0.366853</td>\n",
       "      <td>0.021573</td>\n",
       "      <td>-0.399174</td>\n",
       "      <td>0.015134</td>\n",
       "    </tr>\n",
       "    <tr>\n",
       "      <th>pastoral</th>\n",
       "      <td>-0.030481</td>\n",
       "      <td>0.006958</td>\n",
       "      <td>-0.040011</td>\n",
       "      <td>-0.077788</td>\n",
       "      <td>0.027891</td>\n",
       "      <td>-0.003338</td>\n",
       "      <td>-0.121442</td>\n",
       "      <td>-0.048619</td>\n",
       "      <td>-0.166454</td>\n",
       "      <td>0.192653</td>\n",
       "      <td>...</td>\n",
       "      <td>-0.004803</td>\n",
       "      <td>0.091070</td>\n",
       "      <td>-0.085037</td>\n",
       "      <td>-0.224614</td>\n",
       "      <td>-0.134571</td>\n",
       "      <td>0.191833</td>\n",
       "      <td>0.035105</td>\n",
       "      <td>-0.147031</td>\n",
       "      <td>0.109892</td>\n",
       "      <td>-0.020265</td>\n",
       "    </tr>\n",
       "    <tr>\n",
       "      <th>rattle</th>\n",
       "      <td>-0.073694</td>\n",
       "      <td>-0.003752</td>\n",
       "      <td>0.151062</td>\n",
       "      <td>0.150766</td>\n",
       "      <td>0.117401</td>\n",
       "      <td>-0.104978</td>\n",
       "      <td>0.091885</td>\n",
       "      <td>0.295049</td>\n",
       "      <td>0.025139</td>\n",
       "      <td>0.077934</td>\n",
       "      <td>...</td>\n",
       "      <td>0.157638</td>\n",
       "      <td>-0.194139</td>\n",
       "      <td>0.038654</td>\n",
       "      <td>-0.128295</td>\n",
       "      <td>0.054549</td>\n",
       "      <td>0.052017</td>\n",
       "      <td>-0.091437</td>\n",
       "      <td>0.116301</td>\n",
       "      <td>-0.019780</td>\n",
       "      <td>-0.199177</td>\n",
       "    </tr>\n",
       "    <tr>\n",
       "      <th>dita</th>\n",
       "      <td>0.095733</td>\n",
       "      <td>0.375058</td>\n",
       "      <td>-0.084486</td>\n",
       "      <td>-0.004779</td>\n",
       "      <td>0.442066</td>\n",
       "      <td>-0.013012</td>\n",
       "      <td>0.352868</td>\n",
       "      <td>0.180063</td>\n",
       "      <td>0.050293</td>\n",
       "      <td>-0.164341</td>\n",
       "      <td>...</td>\n",
       "      <td>0.245800</td>\n",
       "      <td>-0.017149</td>\n",
       "      <td>0.071803</td>\n",
       "      <td>0.135274</td>\n",
       "      <td>0.226233</td>\n",
       "      <td>0.197718</td>\n",
       "      <td>0.361371</td>\n",
       "      <td>-0.243880</td>\n",
       "      <td>0.034827</td>\n",
       "      <td>-0.071983</td>\n",
       "    </tr>\n",
       "  </tbody>\n",
       "</table>\n",
       "<p>24348 rows × 100 columns</p>\n",
       "</div>"
      ],
      "text/plain": [
       "                0         1         2         3         4         5   \\\n",
       "the       0.518834  0.112339  0.354481  1.326438 -0.350878  1.323567   \n",
       "of       -0.352763  0.553724 -0.055193  1.560007 -0.436875  0.806038   \n",
       "to        0.214600  0.678866 -0.436494  0.772427  0.170232  2.645017   \n",
       "and      -0.744995  0.243157  0.385076  1.661384  1.101202  1.322934   \n",
       "in       -0.441625  0.526975  0.996545  1.096613 -0.980460  0.987092   \n",
       "...            ...       ...       ...       ...       ...       ...   \n",
       "angelis  -0.019318 -0.084302  0.269294  0.113684  0.166686  0.046743   \n",
       "pyrats   -0.078977 -0.116150 -0.007428 -0.307214 -0.003595 -0.048145   \n",
       "pastoral -0.030481  0.006958 -0.040011 -0.077788  0.027891 -0.003338   \n",
       "rattle   -0.073694 -0.003752  0.151062  0.150766  0.117401 -0.104978   \n",
       "dita      0.095733  0.375058 -0.084486 -0.004779  0.442066 -0.013012   \n",
       "\n",
       "                6         7         8         9   ...        90        91  \\\n",
       "the      -0.152572  0.241625  0.098877 -0.079031  ... -0.000588 -0.067636   \n",
       "of       -0.453449  1.287194 -1.133802 -0.261347  ...  0.147312 -0.008487   \n",
       "to        0.343733 -1.033259  0.416046  0.296791  ... -0.810945 -0.645016   \n",
       "and      -0.390144  0.393504  0.710245 -0.126497  ... -1.179631 -0.442142   \n",
       "in        0.991870  0.590672 -1.330634  0.027227  ... -0.266627 -0.190203   \n",
       "...            ...       ...       ...       ...  ...       ...       ...   \n",
       "angelis   0.103498  0.018679 -0.129501 -0.184194  ...  0.307812  0.246739   \n",
       "pyrats    0.060895  0.073208  0.060787 -0.228901  ...  0.016941  0.492123   \n",
       "pastoral -0.121442 -0.048619 -0.166454  0.192653  ... -0.004803  0.091070   \n",
       "rattle    0.091885  0.295049  0.025139  0.077934  ...  0.157638 -0.194139   \n",
       "dita      0.352868  0.180063  0.050293 -0.164341  ...  0.245800 -0.017149   \n",
       "\n",
       "                92        93        94        95        96        97  \\\n",
       "the       1.035088 -0.258235 -0.470933 -0.608469  0.038985  0.250557   \n",
       "of        1.155754 -1.370358 -0.499677 -0.171854  0.341440 -0.103620   \n",
       "to        0.598870 -1.679335 -0.539725 -1.543595  0.039166  0.912559   \n",
       "and       0.615115 -1.465211 -0.630602 -0.440380 -0.159276  1.070248   \n",
       "in        1.840565 -1.020965 -0.100212 -1.303767 -0.322558  0.159598   \n",
       "...            ...       ...       ...       ...       ...       ...   \n",
       "angelis   0.126733 -0.021164  0.025616  0.037745 -0.128690  0.147227   \n",
       "pyrats    0.133330  0.020916  0.386024  0.326242  0.366853  0.021573   \n",
       "pastoral -0.085037 -0.224614 -0.134571  0.191833  0.035105 -0.147031   \n",
       "rattle    0.038654 -0.128295  0.054549  0.052017 -0.091437  0.116301   \n",
       "dita      0.071803  0.135274  0.226233  0.197718  0.361371 -0.243880   \n",
       "\n",
       "                98        99  \n",
       "the       0.250846  0.047013  \n",
       "of       -0.160002  0.178899  \n",
       "to        1.334654 -2.360000  \n",
       "and      -0.170253  0.250179  \n",
       "in       -0.345350 -0.231719  \n",
       "...            ...       ...  \n",
       "angelis   0.044234 -0.112729  \n",
       "pyrats   -0.399174  0.015134  \n",
       "pastoral  0.109892 -0.020265  \n",
       "rattle   -0.019780 -0.199177  \n",
       "dita      0.034827 -0.071983  \n",
       "\n",
       "[24348 rows x 100 columns]"
      ]
     },
     "execution_count": 32,
     "metadata": {},
     "output_type": "execute_result"
    }
   ],
   "source": [
    "get_vecs('1720-1725')"
   ]
  },
  {
   "cell_type": "code",
   "execution_count": null,
   "metadata": {},
   "outputs": [],
   "source": []
  },
  {
   "cell_type": "code",
   "execution_count": null,
   "metadata": {},
   "outputs": [],
   "source": []
  },
  {
   "cell_type": "code",
   "execution_count": null,
   "metadata": {},
   "outputs": [],
   "source": []
  },
  {
   "cell_type": "code",
   "execution_count": 8,
   "metadata": {},
   "outputs": [],
   "source": [
    "dbget('vec(virtue_1720-1725)')"
   ]
  },
  {
   "cell_type": "code",
   "execution_count": null,
   "metadata": {},
   "outputs": [],
   "source": [
    "stop"
   ]
  },
  {
   "cell_type": "markdown",
   "metadata": {},
   "source": [
    "## Generate data"
   ]
  },
  {
   "cell_type": "markdown",
   "metadata": {},
   "source": [
    "### Create models"
   ]
  },
  {
   "cell_type": "code",
   "execution_count": null,
   "metadata": {},
   "outputs": [],
   "source": [
    "def get_skipgrams(idir=PATH_SKIPGRAMS_YR,skipgram_n=25, calc_numlines=False):\n",
    "    odf=pd.DataFrame([\n",
    "        {\n",
    "            'corpus':fn.split('.')[2],\n",
    "            'year':int([x for x in fn.split('.') if x.isdigit()][0]),\n",
    "#             'period_end':int([x for x in fn.split('.') if x.isdigit()][-1]),\n",
    "            'path':os.path.join(idir,fn)\n",
    "        }\n",
    "        for fn in os.listdir(idir)\n",
    "        if fn.startswith('data.skipgrams')\n",
    "    ]).sort_values(['corpus','year'])\n",
    "    if calc_numlines:\n",
    "        odf['num_lines']=odf.path.progress_apply(get_numlines)\n",
    "        odf['num_words']=odf['num_lines']*skipgram_n\n",
    "    return odf#.query('1680<=year<1970')"
   ]
  },
  {
   "cell_type": "code",
   "execution_count": null,
   "metadata": {},
   "outputs": [],
   "source": [
    "# get_skipgrams()"
   ]
  },
  {
   "cell_type": "code",
   "execution_count": null,
   "metadata": {},
   "outputs": [],
   "source": [
    "dfskip=get_skipgrams(calc_numlines=True)\n",
    "# dfskip=dfskip.query('1720<=year<1900')\n",
    "dfskip['period']=dfskip.year.apply(lambda y: periodize(y,YEARBIN))\n",
    "dfskip"
   ]
  },
  {
   "cell_type": "code",
   "execution_count": null,
   "metadata": {},
   "outputs": [],
   "source": [
    "# dfskip.groupby('period').num_words.sum()"
   ]
  },
  {
   "cell_type": "code",
   "execution_count": null,
   "metadata": {},
   "outputs": [],
   "source": [
    "def get_dfskipruns(dfskip,num_runs=10,incl_existing=False):\n",
    "    dfskipruns=pd.concat([\n",
    "        dfskip.assign(run=f'run_{str(i+1).zfill(2)}')\n",
    "        for i in range(num_runs)\n",
    "    ])\n",
    "    dfskipruns['opath']=dfskipruns.apply(lambda row: os.path.join(PATH_MODELS_NEW,row.corpus,row.period,row.run,'model.bin'),1)\n",
    "    dfskipruns['opath_exists']=dfskipruns.opath.apply(lambda x: os.path.exists(x))\n",
    "    if not incl_existing: dfskipruns=dfskipruns[dfskipruns.opath_exists==False]\n",
    "    return dfskipruns"
   ]
  },
  {
   "cell_type": "code",
   "execution_count": null,
   "metadata": {},
   "outputs": [],
   "source": [
    "# get_dfskipruns(dfskip,num_runs=2)"
   ]
  },
  {
   "cell_type": "code",
   "execution_count": null,
   "metadata": {},
   "outputs": [],
   "source": [
    "def gen_and_save_model(dfskip,nskip=DEFAULT_NUM_SKIP,force=False,vector_size=100,window=10,min_count=5,epochs=10,workers=8,verbose=False):\n",
    "    row=dfskip.iloc[0]\n",
    "    odir=os.path.join(PATH_MODELS_NEW,row.corpus,row.period,row.run)\n",
    "    ofnfn=os.path.join(odir,'model.bin')\n",
    "    if force or not os.path.exists(ofnfn):\n",
    "        ensure_dir_exists(odir)\n",
    "        ss=SkipgramsSamplers(dfskip.path, nskip)\n",
    "        disable_gensim_logging() if not verbose else enable_gensim_logging()\n",
    "        model = Word2Vec(sentences=ss,vector_size=vector_size,window=window,min_count=min_count,epochs=epochs,workers=workers)\n",
    "        model.save(ofnfn)\n",
    "    return pd.DataFrame([{'fnfn':ofnfn}])\n"
   ]
  },
  {
   "cell_type": "code",
   "execution_count": null,
   "metadata": {},
   "outputs": [],
   "source": [
    "# fnfn=gen_and_save_model(get_dfskipruns(dfskip).iloc[:1], force=True).fnfn.iloc[0]\n",
    "# load_model(fnfn).wv.most_similar('value')"
   ]
  },
  {
   "cell_type": "code",
   "execution_count": null,
   "metadata": {},
   "outputs": [],
   "source": [
    "# res=pmap_groups(\n",
    "#     gen_and_save_model,\n",
    "#     dfskipruns.groupby(['period','run']),\n",
    "#     num_proc=4,\n",
    "#     kwargs=dict(force=True, nskip=NSKIP_PER_YR)\n",
    "# )"
   ]
  },
  {
   "cell_type": "code",
   "execution_count": null,
   "metadata": {},
   "outputs": [],
   "source": [
    "def gen_models(\n",
    "        ybin=5,\n",
    "        ymin=1680,\n",
    "        ymax=1970,\n",
    "        num_runs=1,\n",
    "        force=False,\n",
    "        nskip_per_yr=NSKIP_PER_YR\n",
    "    ):\n",
    "    dfskip=get_skipgrams(calc_numlines=False).query(f'{ymin}<=year<{ymax}')\n",
    "    dfskip['period']=dfskip.year.apply(lambda y: periodize(y,ybin))\n",
    "    dfskipruns=get_dfskipruns(dfskip, num_runs=num_runs, incl_existing=force)\n",
    "    dfgrps=dfskipruns.groupby(['period','run'])\n",
    "    print(f'Generating {len(dfgrps)} new models over {dfskipruns.period.nunique()} periods and {dfskipruns.run.nunique()} runs')\n",
    "    return pmap_groups(\n",
    "        gen_and_save_model,\n",
    "        dfskipruns.groupby(['period','run']),\n",
    "        num_proc=4,\n",
    "        kwargs=dict(force=force, nskip=nskip_per_yr)\n",
    "    )"
   ]
  },
  {
   "cell_type": "code",
   "execution_count": null,
   "metadata": {},
   "outputs": [],
   "source": [
    "gen_models(num_runs=10)"
   ]
  },
  {
   "cell_type": "markdown",
   "metadata": {},
   "source": [
    "## Test models"
   ]
  },
  {
   "cell_type": "code",
   "execution_count": null,
   "metadata": {},
   "outputs": [],
   "source": [
    "m=load_model('/home/ryan/github/koselleck/data/models/bpo/1805-1810/run_25/model.bin')\n",
    "m.wv.most_similar('virtue')"
   ]
  },
  {
   "cell_type": "code",
   "execution_count": null,
   "metadata": {},
   "outputs": [],
   "source": [
    "m=load_model('/home/ryan/github/koselleck/data/models/bpo/1965-1970/run_07/model.bin')\n",
    "m.wv.most_similar(['king','woman'],['man'])"
   ]
  },
  {
   "cell_type": "code",
   "execution_count": null,
   "metadata": {},
   "outputs": [],
   "source": [
    "def test_models(dfmodels,gby=['period','run']):\n",
    "    o=[]\n",
    "    dfgrp=dfmodels.groupby(gby)\n",
    "    for period,dfg in tqdm(sorted(dfgrp)):#, total=len(dfgrp)):\n",
    "        path=dfg.iloc[-1].path\n",
    "        m=load_model(path)\n",
    "        try:\n",
    "            testvec=m.wv.most_similar(['king','woman'],['man'],topn=25)\n",
    "        except KeyError:\n",
    "            continue\n",
    "        testvec_wl=[x for x,y in testvec]\n",
    "        has_queen='queen' in set(testvec_wl)\n",
    "        odx={\n",
    "            **dict(zip(gby,period)),\n",
    "            'has_queen':has_queen,\n",
    "            'rank_queen':testvec_wl.index('queen') if has_queen else np.nan,\n",
    "            'neighborhood':', '.join(testvec_wl),\n",
    "        }\n",
    "        o+=[odx]\n",
    "#         break\n",
    "    return pd.DataFrame(o)"
   ]
  },
  {
   "cell_type": "code",
   "execution_count": null,
   "metadata": {},
   "outputs": [],
   "source": [
    "dfmodels = get_pathdf_models().query('period_len==5')\n",
    "dftests  = test_models(dfmodels)\n",
    "dftests"
   ]
  },
  {
   "cell_type": "code",
   "execution_count": null,
   "metadata": {},
   "outputs": [],
   "source": [
    "dftests.to_csv('../../data/data.model.tests.csv')"
   ]
  },
  {
   "cell_type": "code",
   "execution_count": null,
   "metadata": {},
   "outputs": [],
   "source": [
    "dftests.query('has_queen==True').groupby('period').size()"
   ]
  },
  {
   "cell_type": "code",
   "execution_count": null,
   "metadata": {},
   "outputs": [],
   "source": []
  }
 ],
 "metadata": {
  "kernelspec": {
   "display_name": "Python 3",
   "language": "python",
   "name": "python3"
  },
  "language_info": {
   "codemirror_mode": {
    "name": "ipython",
    "version": 3
   },
   "file_extension": ".py",
   "mimetype": "text/x-python",
   "name": "python",
   "nbconvert_exporter": "python",
   "pygments_lexer": "ipython3",
   "version": "3.7.7"
  },
  "widgets": {
   "application/vnd.jupyter.widget-state+json": {
    "state": {},
    "version_major": 2,
    "version_minor": 0
   }
  }
 },
 "nbformat": 4,
 "nbformat_minor": 4
}
