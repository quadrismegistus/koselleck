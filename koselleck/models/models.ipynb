{
 "cells": [
  {
   "cell_type": "markdown",
   "metadata": {},
   "source": [
    "# Word embedding models"
   ]
  },
  {
   "cell_type": "code",
   "execution_count": 3,
   "metadata": {},
   "outputs": [],
   "source": [
    "from koselleck import *"
   ]
  },
  {
   "cell_type": "code",
   "execution_count": null,
   "metadata": {},
   "outputs": [],
   "source": []
  },
  {
   "cell_type": "code",
   "execution_count": 4,
   "metadata": {},
   "outputs": [
    {
     "data": {
      "text/plain": [
       "\u001b[0;31mSignature:\u001b[0m \u001b[0mget_neighbors\u001b[0m\u001b[0;34m(\u001b[0m\u001b[0mw\u001b[0m\u001b[0;34m,\u001b[0m \u001b[0mm1\u001b[0m\u001b[0;34m,\u001b[0m \u001b[0mm2\u001b[0m\u001b[0;34m=\u001b[0m\u001b[0;32mNone\u001b[0m\u001b[0;34m,\u001b[0m \u001b[0mtopn\u001b[0m\u001b[0;34m=\u001b[0m\u001b[0;36m25\u001b[0m\u001b[0;34m,\u001b[0m \u001b[0mwide\u001b[0m\u001b[0;34m=\u001b[0m\u001b[0;32mTrue\u001b[0m\u001b[0;34m)\u001b[0m\u001b[0;34m\u001b[0m\u001b[0;34m\u001b[0m\u001b[0m\n",
       "\u001b[0;31mDocstring:\u001b[0m <no docstring>\n",
       "\u001b[0;31mSource:\u001b[0m   \n",
       "\u001b[0;32mdef\u001b[0m \u001b[0mget_neighbors\u001b[0m\u001b[0;34m(\u001b[0m\u001b[0mw\u001b[0m\u001b[0;34m,\u001b[0m\u001b[0mm1\u001b[0m\u001b[0;34m,\u001b[0m\u001b[0mm2\u001b[0m\u001b[0;34m=\u001b[0m\u001b[0;32mNone\u001b[0m\u001b[0;34m,\u001b[0m\u001b[0mtopn\u001b[0m\u001b[0;34m=\u001b[0m\u001b[0;36m25\u001b[0m\u001b[0;34m,\u001b[0m\u001b[0mwide\u001b[0m\u001b[0;34m=\u001b[0m\u001b[0;32mTrue\u001b[0m\u001b[0;34m)\u001b[0m\u001b[0;34m:\u001b[0m\u001b[0;34m\u001b[0m\n",
       "\u001b[0;34m\u001b[0m    \u001b[0mms\u001b[0m\u001b[0;34m=\u001b[0m\u001b[0;34m[\u001b[0m\u001b[0mm1\u001b[0m\u001b[0;34m,\u001b[0m\u001b[0mm2\u001b[0m\u001b[0;34m]\u001b[0m \u001b[0;32mif\u001b[0m \u001b[0mm2\u001b[0m \u001b[0;32mis\u001b[0m \u001b[0;32mnot\u001b[0m \u001b[0;32mNone\u001b[0m \u001b[0;32melse\u001b[0m \u001b[0;34m[\u001b[0m\u001b[0mm1\u001b[0m\u001b[0;34m]\u001b[0m\u001b[0;34m\u001b[0m\n",
       "\u001b[0;34m\u001b[0m    \u001b[0mdf\u001b[0m\u001b[0;34m=\u001b[0m\u001b[0mpd\u001b[0m\u001b[0;34m.\u001b[0m\u001b[0mDataFrame\u001b[0m\u001b[0;34m(\u001b[0m\u001b[0;34m[\u001b[0m\u001b[0;34m\u001b[0m\n",
       "\u001b[0;34m\u001b[0m        \u001b[0;34m{\u001b[0m\u001b[0;34m\u001b[0m\n",
       "\u001b[0;34m\u001b[0m            \u001b[0;34m'word1'\u001b[0m\u001b[0;34m:\u001b[0m\u001b[0mw\u001b[0m\u001b[0;34m,\u001b[0m\u001b[0;34m\u001b[0m\n",
       "\u001b[0;34m\u001b[0m            \u001b[0;34m'word2'\u001b[0m\u001b[0;34m:\u001b[0m\u001b[0mw2\u001b[0m\u001b[0;34m,\u001b[0m\u001b[0;34m\u001b[0m\n",
       "\u001b[0;34m\u001b[0m            \u001b[0;34m'model'\u001b[0m\u001b[0;34m:\u001b[0m\u001b[0mmi\u001b[0m\u001b[0;34m,\u001b[0m\u001b[0;34m\u001b[0m\n",
       "\u001b[0;34m\u001b[0m            \u001b[0;34m'csim'\u001b[0m\u001b[0;34m:\u001b[0m\u001b[0mcsim\u001b[0m\u001b[0;34m,\u001b[0m\u001b[0;34m\u001b[0m\n",
       "\u001b[0;34m\u001b[0m            \u001b[0;34m'crank'\u001b[0m\u001b[0;34m:\u001b[0m\u001b[0mwi\u001b[0m\u001b[0;34m\u001b[0m\n",
       "\u001b[0;34m\u001b[0m        \u001b[0;34m}\u001b[0m\u001b[0;34m\u001b[0m\n",
       "\u001b[0;34m\u001b[0m        \u001b[0;32mfor\u001b[0m \u001b[0mmi\u001b[0m\u001b[0;34m,\u001b[0m\u001b[0mm\u001b[0m \u001b[0;32min\u001b[0m \u001b[0menumerate\u001b[0m\u001b[0;34m(\u001b[0m\u001b[0mms\u001b[0m\u001b[0;34m)\u001b[0m\u001b[0;34m\u001b[0m\n",
       "\u001b[0;34m\u001b[0m        \u001b[0;32mfor\u001b[0m \u001b[0mwi\u001b[0m\u001b[0;34m,\u001b[0m\u001b[0;34m(\u001b[0m\u001b[0mw2\u001b[0m\u001b[0;34m,\u001b[0m\u001b[0mcsim\u001b[0m\u001b[0;34m)\u001b[0m \u001b[0;32min\u001b[0m \u001b[0menumerate\u001b[0m\u001b[0;34m(\u001b[0m\u001b[0mm\u001b[0m\u001b[0;34m.\u001b[0m\u001b[0mwv\u001b[0m\u001b[0;34m.\u001b[0m\u001b[0mmost_similar\u001b[0m\u001b[0;34m(\u001b[0m\u001b[0mw\u001b[0m\u001b[0;34m,\u001b[0m\u001b[0mtopn\u001b[0m\u001b[0;34m=\u001b[0m\u001b[0mtopn\u001b[0m\u001b[0;34m)\u001b[0m\u001b[0;34m)\u001b[0m\u001b[0;34m\u001b[0m\n",
       "\u001b[0;34m\u001b[0m    \u001b[0;34m]\u001b[0m\u001b[0;34m)\u001b[0m\u001b[0;34m\u001b[0m\n",
       "\u001b[0;34m\u001b[0m    \u001b[0;32mif\u001b[0m \u001b[0;32mnot\u001b[0m \u001b[0mwide\u001b[0m\u001b[0;34m:\u001b[0m\u001b[0;34m\u001b[0m\n",
       "\u001b[0;34m\u001b[0m        \u001b[0;32mreturn\u001b[0m \u001b[0mdf\u001b[0m\u001b[0;34m\u001b[0m\n",
       "\u001b[0;34m\u001b[0m    \u001b[0;32melse\u001b[0m\u001b[0;34m:\u001b[0m\u001b[0;34m\u001b[0m\n",
       "\u001b[0;34m\u001b[0m        \u001b[0modf\u001b[0m\u001b[0;34m=\u001b[0m\u001b[0;32mNone\u001b[0m\u001b[0;34m\u001b[0m\n",
       "\u001b[0;34m\u001b[0m        \u001b[0;32mfor\u001b[0m \u001b[0mi\u001b[0m\u001b[0;34m,\u001b[0m\u001b[0mgdf\u001b[0m \u001b[0;32min\u001b[0m \u001b[0msorted\u001b[0m\u001b[0;34m(\u001b[0m\u001b[0mdf\u001b[0m\u001b[0;34m.\u001b[0m\u001b[0mgroupby\u001b[0m\u001b[0;34m(\u001b[0m\u001b[0;34m'model'\u001b[0m\u001b[0;34m)\u001b[0m\u001b[0;34m)\u001b[0m\u001b[0;34m:\u001b[0m\u001b[0;34m\u001b[0m\n",
       "\u001b[0;34m\u001b[0m            \u001b[0mgdf\u001b[0m\u001b[0;34m=\u001b[0m\u001b[0mgdf\u001b[0m\u001b[0;34m.\u001b[0m\u001b[0mset_index\u001b[0m\u001b[0;34m(\u001b[0m\u001b[0;34m'crank'\u001b[0m\u001b[0;34m)\u001b[0m\u001b[0;34m.\u001b[0m\u001b[0msort_index\u001b[0m\u001b[0;34m(\u001b[0m\u001b[0;34m)\u001b[0m\u001b[0;34m\u001b[0m\n",
       "\u001b[0;34m\u001b[0m            \u001b[0;32mif\u001b[0m \u001b[0modf\u001b[0m \u001b[0;32mis\u001b[0m \u001b[0;32mNone\u001b[0m\u001b[0;34m:\u001b[0m \u001b[0modf\u001b[0m\u001b[0;34m=\u001b[0m\u001b[0mpd\u001b[0m\u001b[0;34m.\u001b[0m\u001b[0mDataFrame\u001b[0m\u001b[0;34m(\u001b[0m\u001b[0mindex\u001b[0m\u001b[0;34m=\u001b[0m\u001b[0mgdf\u001b[0m\u001b[0;34m.\u001b[0m\u001b[0mindex\u001b[0m\u001b[0;34m)\u001b[0m\u001b[0;34m\u001b[0m\n",
       "\u001b[0;34m\u001b[0m            \u001b[0modf\u001b[0m\u001b[0;34m[\u001b[0m\u001b[0;34mf'model_{i}'\u001b[0m\u001b[0;34m]\u001b[0m\u001b[0;34m=\u001b[0m\u001b[0mgdf\u001b[0m\u001b[0;34m.\u001b[0m\u001b[0mword2\u001b[0m\u001b[0;34m\u001b[0m\n",
       "\u001b[0;34m\u001b[0m        \u001b[0;32mreturn\u001b[0m \u001b[0modf\u001b[0m\u001b[0;34m\u001b[0m\u001b[0;34m\u001b[0m\u001b[0m\n",
       "\u001b[0;31mFile:\u001b[0m      ~/github/koselleck/koselleck/embeddings.py\n",
       "\u001b[0;31mType:\u001b[0m      function\n"
      ]
     },
     "metadata": {},
     "output_type": "display_data"
    }
   ],
   "source": [
    "get_neighbors??"
   ]
  },
  {
   "cell_type": "code",
   "execution_count": null,
   "metadata": {},
   "outputs": [],
   "source": []
  },
  {
   "cell_type": "markdown",
   "metadata": {},
   "source": [
    "## Cache existing data in db"
   ]
  },
  {
   "cell_type": "code",
   "execution_count": 2,
   "metadata": {},
   "outputs": [
    {
     "name": "stderr",
     "output_type": "stream",
     "text": [
      "opening Sqlite table 'vecs' in '/home/ryan/github/koselleck/data/db/db.koselleck.vecs.sqlite'\n",
      "Mapping do_save_vecs_in_db() [x4]: 100%|██████████| 480/480 [01:44<00:00,  4.61it/s]\n"
     ]
    }
   ],
   "source": [
    "save_vecs_in_db(num_proc=4)"
   ]
  },
  {
   "cell_type": "code",
   "execution_count": 2,
   "metadata": {},
   "outputs": [
    {
     "name": "stderr",
     "output_type": "stream",
     "text": [
      "Mapping do_save_vecs_in_db() [x4]: 100%|██████████| 480/480 [01:47<00:00,  4.48it/s]\n"
     ]
    }
   ],
   "source": [
    "save_vecs_in_db(num_proc=4)"
   ]
  },
  {
   "cell_type": "code",
   "execution_count": null,
   "metadata": {},
   "outputs": [],
   "source": []
  },
  {
   "cell_type": "code",
   "execution_count": null,
   "metadata": {},
   "outputs": [],
   "source": []
  },
  {
   "cell_type": "code",
   "execution_count": null,
   "metadata": {},
   "outputs": [],
   "source": []
  },
  {
   "cell_type": "code",
   "execution_count": null,
   "metadata": {},
   "outputs": [],
   "source": [
    "vecs()"
   ]
  },
  {
   "cell_type": "code",
   "execution_count": null,
   "metadata": {},
   "outputs": [],
   "source": []
  },
  {
   "cell_type": "code",
   "execution_count": null,
   "metadata": {},
   "outputs": [],
   "source": []
  },
  {
   "cell_type": "code",
   "execution_count": 5,
   "metadata": {},
   "outputs": [],
   "source": [
    "vl=get_veclib('vecs')"
   ]
  },
  {
   "cell_type": "code",
   "execution_count": 9,
   "metadata": {},
   "outputs": [],
   "source": [
    "# list(vl.keys())"
   ]
  },
  {
   "cell_type": "code",
   "execution_count": null,
   "metadata": {},
   "outputs": [],
   "source": [
    "stop"
   ]
  },
  {
   "cell_type": "code",
   "execution_count": 33,
   "metadata": {},
   "outputs": [],
   "source": []
  },
  {
   "cell_type": "code",
   "execution_count": 17,
   "metadata": {},
   "outputs": [
    {
     "data": {
      "text/html": [
       "<div>\n",
       "<style scoped>\n",
       "    .dataframe tbody tr th:only-of-type {\n",
       "        vertical-align: middle;\n",
       "    }\n",
       "\n",
       "    .dataframe tbody tr th {\n",
       "        vertical-align: top;\n",
       "    }\n",
       "\n",
       "    .dataframe thead th {\n",
       "        text-align: right;\n",
       "    }\n",
       "</style>\n",
       "<table border=\"1\" class=\"dataframe\">\n",
       "  <thead>\n",
       "    <tr style=\"text-align: right;\">\n",
       "      <th></th>\n",
       "      <th>0</th>\n",
       "      <th>1</th>\n",
       "      <th>2</th>\n",
       "      <th>3</th>\n",
       "      <th>4</th>\n",
       "      <th>5</th>\n",
       "      <th>6</th>\n",
       "      <th>7</th>\n",
       "      <th>8</th>\n",
       "      <th>9</th>\n",
       "      <th>...</th>\n",
       "      <th>90</th>\n",
       "      <th>91</th>\n",
       "      <th>92</th>\n",
       "      <th>93</th>\n",
       "      <th>94</th>\n",
       "      <th>95</th>\n",
       "      <th>96</th>\n",
       "      <th>97</th>\n",
       "      <th>98</th>\n",
       "      <th>99</th>\n",
       "    </tr>\n",
       "  </thead>\n",
       "  <tbody>\n",
       "    <tr>\n",
       "      <th>the</th>\n",
       "      <td>0.473669</td>\n",
       "      <td>-0.106946</td>\n",
       "      <td>0.157871</td>\n",
       "      <td>0.064637</td>\n",
       "      <td>-0.003224</td>\n",
       "      <td>0.656484</td>\n",
       "      <td>-0.105191</td>\n",
       "      <td>0.112247</td>\n",
       "      <td>1.487899</td>\n",
       "      <td>0.010959</td>\n",
       "      <td>...</td>\n",
       "      <td>0.455802</td>\n",
       "      <td>-0.480213</td>\n",
       "      <td>1.241615</td>\n",
       "      <td>-0.572774</td>\n",
       "      <td>-0.326102</td>\n",
       "      <td>0.343117</td>\n",
       "      <td>-0.877381</td>\n",
       "      <td>0.278451</td>\n",
       "      <td>-0.992694</td>\n",
       "      <td>-1.611975</td>\n",
       "    </tr>\n",
       "    <tr>\n",
       "      <th>of</th>\n",
       "      <td>-0.022396</td>\n",
       "      <td>0.088112</td>\n",
       "      <td>-0.120756</td>\n",
       "      <td>0.601107</td>\n",
       "      <td>0.319101</td>\n",
       "      <td>-1.807469</td>\n",
       "      <td>-0.429939</td>\n",
       "      <td>1.053778</td>\n",
       "      <td>0.033382</td>\n",
       "      <td>-0.791587</td>\n",
       "      <td>...</td>\n",
       "      <td>-0.111624</td>\n",
       "      <td>-0.644188</td>\n",
       "      <td>0.732212</td>\n",
       "      <td>-0.583835</td>\n",
       "      <td>-0.842624</td>\n",
       "      <td>1.188061</td>\n",
       "      <td>-0.231490</td>\n",
       "      <td>1.103414</td>\n",
       "      <td>-0.483656</td>\n",
       "      <td>-1.469839</td>\n",
       "    </tr>\n",
       "    <tr>\n",
       "      <th>to</th>\n",
       "      <td>1.792318</td>\n",
       "      <td>0.554737</td>\n",
       "      <td>-0.739299</td>\n",
       "      <td>0.143966</td>\n",
       "      <td>0.024411</td>\n",
       "      <td>1.497402</td>\n",
       "      <td>-1.329036</td>\n",
       "      <td>-1.202589</td>\n",
       "      <td>1.221623</td>\n",
       "      <td>0.785355</td>\n",
       "      <td>...</td>\n",
       "      <td>-0.956781</td>\n",
       "      <td>-0.908250</td>\n",
       "      <td>1.239368</td>\n",
       "      <td>-0.731752</td>\n",
       "      <td>-1.470767</td>\n",
       "      <td>0.815075</td>\n",
       "      <td>-0.810960</td>\n",
       "      <td>-0.446697</td>\n",
       "      <td>1.278480</td>\n",
       "      <td>-1.667818</td>\n",
       "    </tr>\n",
       "    <tr>\n",
       "      <th>and</th>\n",
       "      <td>1.015325</td>\n",
       "      <td>-0.656740</td>\n",
       "      <td>0.109203</td>\n",
       "      <td>-0.312618</td>\n",
       "      <td>0.504945</td>\n",
       "      <td>0.101595</td>\n",
       "      <td>-0.676754</td>\n",
       "      <td>0.695306</td>\n",
       "      <td>0.895752</td>\n",
       "      <td>0.256065</td>\n",
       "      <td>...</td>\n",
       "      <td>-0.074896</td>\n",
       "      <td>0.028524</td>\n",
       "      <td>1.421799</td>\n",
       "      <td>-0.337816</td>\n",
       "      <td>-0.631439</td>\n",
       "      <td>-0.020605</td>\n",
       "      <td>0.324697</td>\n",
       "      <td>0.152265</td>\n",
       "      <td>-0.159660</td>\n",
       "      <td>-1.029040</td>\n",
       "    </tr>\n",
       "    <tr>\n",
       "      <th>in</th>\n",
       "      <td>-0.844093</td>\n",
       "      <td>-0.517567</td>\n",
       "      <td>-0.083109</td>\n",
       "      <td>0.436985</td>\n",
       "      <td>0.565679</td>\n",
       "      <td>0.297170</td>\n",
       "      <td>0.412478</td>\n",
       "      <td>1.055781</td>\n",
       "      <td>-0.486433</td>\n",
       "      <td>0.486129</td>\n",
       "      <td>...</td>\n",
       "      <td>-0.950282</td>\n",
       "      <td>-0.606701</td>\n",
       "      <td>1.267293</td>\n",
       "      <td>-0.386480</td>\n",
       "      <td>-0.234282</td>\n",
       "      <td>0.977757</td>\n",
       "      <td>0.183932</td>\n",
       "      <td>2.416256</td>\n",
       "      <td>-1.333853</td>\n",
       "      <td>-0.703754</td>\n",
       "    </tr>\n",
       "    <tr>\n",
       "      <th>...</th>\n",
       "      <td>...</td>\n",
       "      <td>...</td>\n",
       "      <td>...</td>\n",
       "      <td>...</td>\n",
       "      <td>...</td>\n",
       "      <td>...</td>\n",
       "      <td>...</td>\n",
       "      <td>...</td>\n",
       "      <td>...</td>\n",
       "      <td>...</td>\n",
       "      <td>...</td>\n",
       "      <td>...</td>\n",
       "      <td>...</td>\n",
       "      <td>...</td>\n",
       "      <td>...</td>\n",
       "      <td>...</td>\n",
       "      <td>...</td>\n",
       "      <td>...</td>\n",
       "      <td>...</td>\n",
       "      <td>...</td>\n",
       "      <td>...</td>\n",
       "    </tr>\n",
       "    <tr>\n",
       "      <th>lwp</th>\n",
       "      <td>0.004429</td>\n",
       "      <td>-0.088704</td>\n",
       "      <td>-0.072314</td>\n",
       "      <td>-0.006049</td>\n",
       "      <td>-0.106655</td>\n",
       "      <td>-0.210816</td>\n",
       "      <td>0.042529</td>\n",
       "      <td>0.176739</td>\n",
       "      <td>0.068044</td>\n",
       "      <td>-0.050715</td>\n",
       "      <td>...</td>\n",
       "      <td>0.072268</td>\n",
       "      <td>0.091187</td>\n",
       "      <td>0.153558</td>\n",
       "      <td>-0.029034</td>\n",
       "      <td>0.037162</td>\n",
       "      <td>-0.009522</td>\n",
       "      <td>0.093188</td>\n",
       "      <td>0.018297</td>\n",
       "      <td>0.056745</td>\n",
       "      <td>-0.234281</td>\n",
       "    </tr>\n",
       "    <tr>\n",
       "      <th>scut</th>\n",
       "      <td>0.087382</td>\n",
       "      <td>0.189057</td>\n",
       "      <td>0.199472</td>\n",
       "      <td>0.253323</td>\n",
       "      <td>0.065417</td>\n",
       "      <td>-0.077732</td>\n",
       "      <td>0.157637</td>\n",
       "      <td>0.328398</td>\n",
       "      <td>-0.008661</td>\n",
       "      <td>0.112979</td>\n",
       "      <td>...</td>\n",
       "      <td>-0.122499</td>\n",
       "      <td>0.069879</td>\n",
       "      <td>-0.017118</td>\n",
       "      <td>-0.134644</td>\n",
       "      <td>0.254794</td>\n",
       "      <td>-0.017945</td>\n",
       "      <td>-0.030729</td>\n",
       "      <td>-0.008236</td>\n",
       "      <td>-0.124368</td>\n",
       "      <td>-0.393111</td>\n",
       "    </tr>\n",
       "    <tr>\n",
       "      <th>eras</th>\n",
       "      <td>-0.052435</td>\n",
       "      <td>0.234638</td>\n",
       "      <td>0.004772</td>\n",
       "      <td>0.163921</td>\n",
       "      <td>0.071496</td>\n",
       "      <td>-0.452706</td>\n",
       "      <td>0.168584</td>\n",
       "      <td>0.434802</td>\n",
       "      <td>-0.270504</td>\n",
       "      <td>-0.300793</td>\n",
       "      <td>...</td>\n",
       "      <td>0.286194</td>\n",
       "      <td>0.128699</td>\n",
       "      <td>0.272772</td>\n",
       "      <td>-0.134437</td>\n",
       "      <td>0.332998</td>\n",
       "      <td>0.091798</td>\n",
       "      <td>0.030149</td>\n",
       "      <td>-0.168987</td>\n",
       "      <td>-0.104180</td>\n",
       "      <td>-0.153753</td>\n",
       "    </tr>\n",
       "    <tr>\n",
       "      <th>heiau</th>\n",
       "      <td>-0.097873</td>\n",
       "      <td>0.086641</td>\n",
       "      <td>-0.028302</td>\n",
       "      <td>-0.103358</td>\n",
       "      <td>0.055717</td>\n",
       "      <td>-0.108400</td>\n",
       "      <td>0.077790</td>\n",
       "      <td>0.109701</td>\n",
       "      <td>-0.047668</td>\n",
       "      <td>-0.103743</td>\n",
       "      <td>...</td>\n",
       "      <td>0.012839</td>\n",
       "      <td>-0.026876</td>\n",
       "      <td>0.100193</td>\n",
       "      <td>-0.151117</td>\n",
       "      <td>0.146897</td>\n",
       "      <td>0.121632</td>\n",
       "      <td>-0.033672</td>\n",
       "      <td>-0.028547</td>\n",
       "      <td>-0.082556</td>\n",
       "      <td>0.029754</td>\n",
       "    </tr>\n",
       "    <tr>\n",
       "      <th>arch'd</th>\n",
       "      <td>0.015966</td>\n",
       "      <td>0.177152</td>\n",
       "      <td>0.129423</td>\n",
       "      <td>0.082970</td>\n",
       "      <td>0.247098</td>\n",
       "      <td>0.082206</td>\n",
       "      <td>0.036903</td>\n",
       "      <td>0.343592</td>\n",
       "      <td>0.091719</td>\n",
       "      <td>0.149750</td>\n",
       "      <td>...</td>\n",
       "      <td>0.169337</td>\n",
       "      <td>0.041952</td>\n",
       "      <td>0.207161</td>\n",
       "      <td>-0.294684</td>\n",
       "      <td>0.434852</td>\n",
       "      <td>0.289123</td>\n",
       "      <td>0.213159</td>\n",
       "      <td>0.019700</td>\n",
       "      <td>-0.038359</td>\n",
       "      <td>0.051800</td>\n",
       "    </tr>\n",
       "  </tbody>\n",
       "</table>\n",
       "<p>24273 rows × 100 columns</p>\n",
       "</div>"
      ],
      "text/plain": [
       "              0         1         2         3         4         5         6   \\\n",
       "the     0.473669 -0.106946  0.157871  0.064637 -0.003224  0.656484 -0.105191   \n",
       "of     -0.022396  0.088112 -0.120756  0.601107  0.319101 -1.807469 -0.429939   \n",
       "to      1.792318  0.554737 -0.739299  0.143966  0.024411  1.497402 -1.329036   \n",
       "and     1.015325 -0.656740  0.109203 -0.312618  0.504945  0.101595 -0.676754   \n",
       "in     -0.844093 -0.517567 -0.083109  0.436985  0.565679  0.297170  0.412478   \n",
       "...          ...       ...       ...       ...       ...       ...       ...   \n",
       "lwp     0.004429 -0.088704 -0.072314 -0.006049 -0.106655 -0.210816  0.042529   \n",
       "scut    0.087382  0.189057  0.199472  0.253323  0.065417 -0.077732  0.157637   \n",
       "eras   -0.052435  0.234638  0.004772  0.163921  0.071496 -0.452706  0.168584   \n",
       "heiau  -0.097873  0.086641 -0.028302 -0.103358  0.055717 -0.108400  0.077790   \n",
       "arch'd  0.015966  0.177152  0.129423  0.082970  0.247098  0.082206  0.036903   \n",
       "\n",
       "              7         8         9   ...        90        91        92  \\\n",
       "the     0.112247  1.487899  0.010959  ...  0.455802 -0.480213  1.241615   \n",
       "of      1.053778  0.033382 -0.791587  ... -0.111624 -0.644188  0.732212   \n",
       "to     -1.202589  1.221623  0.785355  ... -0.956781 -0.908250  1.239368   \n",
       "and     0.695306  0.895752  0.256065  ... -0.074896  0.028524  1.421799   \n",
       "in      1.055781 -0.486433  0.486129  ... -0.950282 -0.606701  1.267293   \n",
       "...          ...       ...       ...  ...       ...       ...       ...   \n",
       "lwp     0.176739  0.068044 -0.050715  ...  0.072268  0.091187  0.153558   \n",
       "scut    0.328398 -0.008661  0.112979  ... -0.122499  0.069879 -0.017118   \n",
       "eras    0.434802 -0.270504 -0.300793  ...  0.286194  0.128699  0.272772   \n",
       "heiau   0.109701 -0.047668 -0.103743  ...  0.012839 -0.026876  0.100193   \n",
       "arch'd  0.343592  0.091719  0.149750  ...  0.169337  0.041952  0.207161   \n",
       "\n",
       "              93        94        95        96        97        98        99  \n",
       "the    -0.572774 -0.326102  0.343117 -0.877381  0.278451 -0.992694 -1.611975  \n",
       "of     -0.583835 -0.842624  1.188061 -0.231490  1.103414 -0.483656 -1.469839  \n",
       "to     -0.731752 -1.470767  0.815075 -0.810960 -0.446697  1.278480 -1.667818  \n",
       "and    -0.337816 -0.631439 -0.020605  0.324697  0.152265 -0.159660 -1.029040  \n",
       "in     -0.386480 -0.234282  0.977757  0.183932  2.416256 -1.333853 -0.703754  \n",
       "...          ...       ...       ...       ...       ...       ...       ...  \n",
       "lwp    -0.029034  0.037162 -0.009522  0.093188  0.018297  0.056745 -0.234281  \n",
       "scut   -0.134644  0.254794 -0.017945 -0.030729 -0.008236 -0.124368 -0.393111  \n",
       "eras   -0.134437  0.332998  0.091798  0.030149 -0.168987 -0.104180 -0.153753  \n",
       "heiau  -0.151117  0.146897  0.121632 -0.033672 -0.028547 -0.082556  0.029754  \n",
       "arch'd -0.294684  0.434852  0.289123  0.213159  0.019700 -0.038359  0.051800  \n",
       "\n",
       "[24273 rows x 100 columns]"
      ]
     },
     "execution_count": 17,
     "metadata": {},
     "output_type": "execute_result"
    }
   ],
   "source": [
    "vecs('1720-1725',2)"
   ]
  },
  {
   "cell_type": "code",
   "execution_count": null,
   "metadata": {},
   "outputs": [],
   "source": []
  },
  {
   "cell_type": "code",
   "execution_count": null,
   "metadata": {},
   "outputs": [],
   "source": []
  },
  {
   "cell_type": "code",
   "execution_count": null,
   "metadata": {},
   "outputs": [],
   "source": []
  },
  {
   "cell_type": "code",
   "execution_count": 8,
   "metadata": {},
   "outputs": [],
   "source": [
    "dbget('vec(virtue_1720-1725)')"
   ]
  },
  {
   "cell_type": "code",
   "execution_count": null,
   "metadata": {},
   "outputs": [],
   "source": [
    "stop"
   ]
  },
  {
   "cell_type": "markdown",
   "metadata": {},
   "source": [
    "## Generate data"
   ]
  },
  {
   "cell_type": "markdown",
   "metadata": {},
   "source": [
    "### Create models"
   ]
  },
  {
   "cell_type": "code",
   "execution_count": null,
   "metadata": {},
   "outputs": [],
   "source": [
    "def get_skipgrams(idir=PATH_SKIPGRAMS_YR,skipgram_n=25, calc_numlines=False):\n",
    "    odf=pd.DataFrame([\n",
    "        {\n",
    "            'corpus':fn.split('.')[2],\n",
    "            'year':int([x for x in fn.split('.') if x.isdigit()][0]),\n",
    "#             'period_end':int([x for x in fn.split('.') if x.isdigit()][-1]),\n",
    "            'path':os.path.join(idir,fn)\n",
    "        }\n",
    "        for fn in os.listdir(idir)\n",
    "        if fn.startswith('data.skipgrams')\n",
    "    ]).sort_values(['corpus','year'])\n",
    "    if calc_numlines:\n",
    "        odf['num_lines']=odf.path.progress_apply(get_numlines)\n",
    "        odf['num_words']=odf['num_lines']*skipgram_n\n",
    "    return odf#.query('1680<=year<1970')"
   ]
  },
  {
   "cell_type": "code",
   "execution_count": null,
   "metadata": {},
   "outputs": [],
   "source": [
    "# get_skipgrams()"
   ]
  },
  {
   "cell_type": "code",
   "execution_count": null,
   "metadata": {},
   "outputs": [],
   "source": [
    "dfskip=get_skipgrams(calc_numlines=True)\n",
    "# dfskip=dfskip.query('1720<=year<1900')\n",
    "dfskip['period']=dfskip.year.apply(lambda y: periodize(y,YEARBIN))\n",
    "dfskip"
   ]
  },
  {
   "cell_type": "code",
   "execution_count": null,
   "metadata": {},
   "outputs": [],
   "source": [
    "# dfskip.groupby('period').num_words.sum()"
   ]
  },
  {
   "cell_type": "code",
   "execution_count": null,
   "metadata": {},
   "outputs": [],
   "source": [
    "def get_dfskipruns(dfskip,num_runs=10,incl_existing=False):\n",
    "    dfskipruns=pd.concat([\n",
    "        dfskip.assign(run=f'run_{str(i+1).zfill(2)}')\n",
    "        for i in range(num_runs)\n",
    "    ])\n",
    "    dfskipruns['opath']=dfskipruns.apply(lambda row: os.path.join(PATH_MODELS_NEW,row.corpus,row.period,row.run,'model.bin'),1)\n",
    "    dfskipruns['opath_exists']=dfskipruns.opath.apply(lambda x: os.path.exists(x))\n",
    "    if not incl_existing: dfskipruns=dfskipruns[dfskipruns.opath_exists==False]\n",
    "    return dfskipruns"
   ]
  },
  {
   "cell_type": "code",
   "execution_count": null,
   "metadata": {},
   "outputs": [],
   "source": [
    "# get_dfskipruns(dfskip,num_runs=2)"
   ]
  },
  {
   "cell_type": "code",
   "execution_count": null,
   "metadata": {},
   "outputs": [],
   "source": [
    "def gen_and_save_model(dfskip,nskip=DEFAULT_NUM_SKIP,force=False,vector_size=100,window=10,min_count=5,epochs=10,workers=8,verbose=False):\n",
    "    row=dfskip.iloc[0]\n",
    "    odir=os.path.join(PATH_MODELS_NEW,row.corpus,row.period,row.run)\n",
    "    ofnfn=os.path.join(odir,'model.bin')\n",
    "    if force or not os.path.exists(ofnfn):\n",
    "        ensure_dir_exists(odir)\n",
    "        ss=SkipgramsSamplers(dfskip.path, nskip)\n",
    "        disable_gensim_logging() if not verbose else enable_gensim_logging()\n",
    "        model = Word2Vec(sentences=ss,vector_size=vector_size,window=window,min_count=min_count,epochs=epochs,workers=workers)\n",
    "        model.save(ofnfn)\n",
    "    return pd.DataFrame([{'fnfn':ofnfn}])\n"
   ]
  },
  {
   "cell_type": "code",
   "execution_count": null,
   "metadata": {},
   "outputs": [],
   "source": [
    "# fnfn=gen_and_save_model(get_dfskipruns(dfskip).iloc[:1], force=True).fnfn.iloc[0]\n",
    "# load_model(fnfn).wv.most_similar('value')"
   ]
  },
  {
   "cell_type": "code",
   "execution_count": null,
   "metadata": {},
   "outputs": [],
   "source": [
    "# res=pmap_groups(\n",
    "#     gen_and_save_model,\n",
    "#     dfskipruns.groupby(['period','run']),\n",
    "#     num_proc=4,\n",
    "#     kwargs=dict(force=True, nskip=NSKIP_PER_YR)\n",
    "# )"
   ]
  },
  {
   "cell_type": "code",
   "execution_count": null,
   "metadata": {},
   "outputs": [],
   "source": [
    "def gen_models(\n",
    "        ybin=5,\n",
    "        ymin=1680,\n",
    "        ymax=1970,\n",
    "        num_runs=1,\n",
    "        force=False,\n",
    "        nskip_per_yr=NSKIP_PER_YR\n",
    "    ):\n",
    "    dfskip=get_skipgrams(calc_numlines=False).query(f'{ymin}<=year<{ymax}')\n",
    "    dfskip['period']=dfskip.year.apply(lambda y: periodize(y,ybin))\n",
    "    dfskipruns=get_dfskipruns(dfskip, num_runs=num_runs, incl_existing=force)\n",
    "    dfgrps=dfskipruns.groupby(['period','run'])\n",
    "    print(f'Generating {len(dfgrps)} new models over {dfskipruns.period.nunique()} periods and {dfskipruns.run.nunique()} runs')\n",
    "    return pmap_groups(\n",
    "        gen_and_save_model,\n",
    "        dfskipruns.groupby(['period','run']),\n",
    "        num_proc=4,\n",
    "        kwargs=dict(force=force, nskip=nskip_per_yr)\n",
    "    )"
   ]
  },
  {
   "cell_type": "code",
   "execution_count": null,
   "metadata": {},
   "outputs": [],
   "source": [
    "gen_models(num_runs=10)"
   ]
  },
  {
   "cell_type": "markdown",
   "metadata": {},
   "source": [
    "## Test models"
   ]
  },
  {
   "cell_type": "code",
   "execution_count": null,
   "metadata": {},
   "outputs": [],
   "source": [
    "m=load_model('/home/ryan/github/koselleck/data/models/bpo/1805-1810/run_25/model.bin')\n",
    "m.wv.most_similar('virtue')"
   ]
  },
  {
   "cell_type": "code",
   "execution_count": null,
   "metadata": {},
   "outputs": [],
   "source": [
    "m=load_model('/home/ryan/github/koselleck/data/models/bpo/1965-1970/run_07/model.bin')\n",
    "m.wv.most_similar(['king','woman'],['man'])"
   ]
  },
  {
   "cell_type": "code",
   "execution_count": null,
   "metadata": {},
   "outputs": [],
   "source": [
    "def test_models(dfmodels,gby=['period','run']):\n",
    "    o=[]\n",
    "    dfgrp=dfmodels.groupby(gby)\n",
    "    for period,dfg in tqdm(sorted(dfgrp)):#, total=len(dfgrp)):\n",
    "        path=dfg.iloc[-1].path\n",
    "        m=load_model(path)\n",
    "        try:\n",
    "            testvec=m.wv.most_similar(['king','woman'],['man'],topn=25)\n",
    "        except KeyError:\n",
    "            continue\n",
    "        testvec_wl=[x for x,y in testvec]\n",
    "        has_queen='queen' in set(testvec_wl)\n",
    "        odx={\n",
    "            **dict(zip(gby,period)),\n",
    "            'has_queen':has_queen,\n",
    "            'rank_queen':testvec_wl.index('queen') if has_queen else np.nan,\n",
    "            'neighborhood':', '.join(testvec_wl),\n",
    "        }\n",
    "        o+=[odx]\n",
    "#         break\n",
    "    return pd.DataFrame(o)"
   ]
  },
  {
   "cell_type": "code",
   "execution_count": null,
   "metadata": {},
   "outputs": [],
   "source": [
    "dfmodels = get_pathdf_models().query('period_len==5')\n",
    "dftests  = test_models(dfmodels)\n",
    "dftests"
   ]
  },
  {
   "cell_type": "code",
   "execution_count": null,
   "metadata": {},
   "outputs": [],
   "source": [
    "dftests.to_csv('../../data/data.model.tests.csv')"
   ]
  },
  {
   "cell_type": "code",
   "execution_count": null,
   "metadata": {},
   "outputs": [],
   "source": [
    "dftests.query('has_queen==True').groupby('period').size()"
   ]
  },
  {
   "cell_type": "code",
   "execution_count": null,
   "metadata": {},
   "outputs": [],
   "source": []
  }
 ],
 "metadata": {
  "kernelspec": {
   "display_name": "Python 3",
   "language": "python",
   "name": "python3"
  },
  "language_info": {
   "codemirror_mode": {
    "name": "ipython",
    "version": 3
   },
   "file_extension": ".py",
   "mimetype": "text/x-python",
   "name": "python",
   "nbconvert_exporter": "python",
   "pygments_lexer": "ipython3",
   "version": "3.7.7"
  },
  "widgets": {
   "application/vnd.jupyter.widget-state+json": {
    "state": {},
    "version_major": 2,
    "version_minor": 0
   }
  }
 },
 "nbformat": 4,
 "nbformat_minor": 4
}
