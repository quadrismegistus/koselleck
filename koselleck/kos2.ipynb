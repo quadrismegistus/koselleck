{
 "cells": [
  {
   "cell_type": "markdown",
   "id": "b56fc5b9-e20d-4978-bac9-de4c5353d231",
   "metadata": {},
   "source": [
    "# Simplified functions"
   ]
  },
  {
   "cell_type": "code",
   "execution_count": 47,
   "id": "a56e8fd9-7912-43f1-b49c-ba3e135b50a4",
   "metadata": {},
   "outputs": [],
   "source": [
    "from ipynb.fs.full.koselleck import *"
   ]
  },
  {
   "cell_type": "code",
   "execution_count": 23,
   "id": "6870566c",
   "metadata": {},
   "outputs": [],
   "source": [
    "def get_abs_words(vecname='Abs-Conc.Median',cutoff=2):\n",
    "    #df=get_all_signif_changes()\n",
    "    df=get_vector_scores()\n",
    "    s=df.groupby('word').mean()[vecname].sort_values(ascending=False)\n",
    "    return s[s>cutoff].index"
   ]
  },
  {
   "cell_type": "code",
   "execution_count": 24,
   "id": "3667cc5a",
   "metadata": {},
   "outputs": [],
   "source": [
    "# dfdist = distmats(get_abs_words(), num_proc=2)"
   ]
  },
  {
   "cell_type": "code",
   "execution_count": 25,
   "id": "c7572ffc-422d-438a-9d31-3141532c5be3",
   "metadata": {},
   "outputs": [],
   "source": [
    "# dfdist"
   ]
  },
  {
   "cell_type": "code",
   "execution_count": null,
   "id": "16fcba49",
   "metadata": {},
   "outputs": [],
   "source": []
  },
  {
   "cell_type": "code",
   "execution_count": null,
   "id": "2dd920be",
   "metadata": {},
   "outputs": [],
   "source": []
  }
 ],
 "metadata": {
  "kernelspec": {
   "display_name": "Python 3",
   "language": "python",
   "name": "python3"
  },
  "language_info": {
   "codemirror_mode": {
    "name": "ipython",
    "version": 3
   },
   "file_extension": ".py",
   "mimetype": "text/x-python",
   "name": "python",
   "nbconvert_exporter": "python",
   "pygments_lexer": "ipython3",
   "version": "3.8.5"
  },
  "widgets": {
   "application/vnd.jupyter.widget-state+json": {
    "state": {},
    "version_major": 2,
    "version_minor": 0
   }
  }
 },
 "nbformat": 4,
 "nbformat_minor": 5
}
