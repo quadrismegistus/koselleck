{
 "cells": [
  {
   "cell_type": "markdown",
   "id": "62b38438-0ff3-46c5-9b24-92b9028348cb",
   "metadata": {},
   "source": [
    "# db2"
   ]
  },
  {
   "cell_type": "code",
   "execution_count": 1,
   "id": "c8ff0e11-bab1-4bfa-8250-50fc47a3487c",
   "metadata": {},
   "outputs": [],
   "source": [
    "from ipynb.fs.full.koselleck import *\n",
    "import shelve\n",
    "PERIOD_LENS={5,20,70}\n",
    "MAX_RUNS=10"
   ]
  },
  {
   "cell_type": "markdown",
   "id": "1958f856",
   "metadata": {},
   "source": [
    "## Model definitions"
   ]
  },
  {
   "cell_type": "code",
   "execution_count": 44,
   "id": "9f4208a9",
   "metadata": {},
   "outputs": [],
   "source": [
    "# Use sqlite dictionary\n",
    "def get_db_sqlitedict(prefix,folders=[],autocommit=False,\n",
    "                      mode='c'):\n",
    "    o=[PATH_DB] + folders + [f'db.kos2.{prefix}.sqlite']\n",
    "    ofnfn=os.path.join(*o)\n",
    "    if not os.path.exists(ofnfn): mode='c'\n",
    "    return SqliteDict(\n",
    "        ofnfn,\n",
    "        tablename='data',\n",
    "        autocommit=autocommit,\n",
    "        flag='r' if mode=='r' else 'c',\n",
    "        timeout=30\n",
    "    )"
   ]
  },
  {
   "cell_type": "code",
   "execution_count": 10,
   "id": "fce8c45d",
   "metadata": {},
   "outputs": [],
   "source": [
    "# SqliteDict??"
   ]
  },
  {
   "cell_type": "code",
   "execution_count": 11,
   "id": "275cdab2",
   "metadata": {},
   "outputs": [],
   "source": [
    "# !pip install -U git+https://github.com/RaRe-Technologies/sqlitedict"
   ]
  },
  {
   "cell_type": "code",
   "execution_count": 12,
   "id": "18f01e13",
   "metadata": {},
   "outputs": [],
   "source": [
    "def get_db_shelf(name=None,mode='r'):\n",
    "    fn=FN_DB if not name else FN_DB.replace('.shelf',f'.{name}.shelf')\n",
    "    return shelve.open(fn,flag=mode)"
   ]
  },
  {
   "cell_type": "code",
   "execution_count": 45,
   "id": "83d9339a",
   "metadata": {},
   "outputs": [],
   "source": [
    "def get_db(name=None,mode='r'):\n",
    "    return get_db_sqlitedict(\n",
    "        name,\n",
    "        autocommit=mode=='w',\n",
    "        mode=mode\n",
    "    )"
   ]
  },
  {
   "cell_type": "code",
   "execution_count": 14,
   "id": "568c5eb9",
   "metadata": {},
   "outputs": [],
   "source": [
    "with get_db('testing','w') as db:\n",
    "    db['test']=[1,2,3]"
   ]
  },
  {
   "cell_type": "code",
   "execution_count": 15,
   "id": "7749e46e",
   "metadata": {},
   "outputs": [
    {
     "name": "stderr",
     "output_type": "stream",
     "text": [
      "[Koselleck] (09:15:51) [1, 2, 3] (+28.0s)\n"
     ]
    }
   ],
   "source": [
    "with get_db('testing') as db:\n",
    "    print(db['test'])"
   ]
  },
  {
   "cell_type": "code",
   "execution_count": 16,
   "id": "cfc39e86",
   "metadata": {},
   "outputs": [],
   "source": [
    "def db_split_key(key):\n",
    "    if key.startswith('/'): key=key[1:]\n",
    "    prefix,key=key.split('/',1)\n",
    "    return prefix,key\n",
    "def db_get_keys(prefix):\n",
    "    with get_db(prefix,mode='r') as db: return set(db.keys())\n",
    "def db_has_key(key,prefix=None):\n",
    "    if prefix is None: prefix,key=db_split_key(key)\n",
    "    with get_db(prefix,mode='r') as db: return key in db\n",
    "def dbget(key,default=pd.DataFrame(),prefix=None):\n",
    "    if prefix is None: prefix,key=db_split_key(key)\n",
    "    with get_db(prefix,mode='r') as db:\n",
    "        return db.get(key,default)\n",
    "def dbput(key,val,prefix=None):\n",
    "    if prefix is None:prefix,key=db_split_key(key)\n",
    "    with get_db(prefix,mode='c') as db:\n",
    "        db[key]=val"
   ]
  },
  {
   "cell_type": "code",
   "execution_count": 17,
   "id": "99f4dfd0",
   "metadata": {},
   "outputs": [],
   "source": [
    "# dbput('/testing/hello',[2523325235])"
   ]
  },
  {
   "cell_type": "code",
   "execution_count": 18,
   "id": "9b71f926",
   "metadata": {},
   "outputs": [],
   "source": [
    "# db_get_keys('testing')"
   ]
  },
  {
   "cell_type": "code",
   "execution_count": 19,
   "id": "67c9f599",
   "metadata": {},
   "outputs": [],
   "source": [
    "# dbget('/testing/hello')"
   ]
  },
  {
   "cell_type": "code",
   "execution_count": 20,
   "id": "6c21eb4a",
   "metadata": {},
   "outputs": [],
   "source": [
    "# dbget('/test/hello')\n",
    "# dbput('/test/hello','goodbye')"
   ]
  },
  {
   "cell_type": "code",
   "execution_count": 21,
   "id": "f501b068",
   "metadata": {},
   "outputs": [],
   "source": [
    "# Import into its own shelf\n",
    "# with shelve.open('/home/ryan/db/db.koselleck7.shelve') as db1:\n",
    "#     keys=list(db1.keys())\n",
    "#     dkeys=[x for x in keys if x.startswith('/dists/')]\n",
    "#     for k in tqdm(dkeys):\n",
    "#         kdf=db1[k]\n",
    "#         dbput(k, kdf)"
   ]
  },
  {
   "cell_type": "code",
   "execution_count": null,
   "id": "369da1ab",
   "metadata": {},
   "outputs": [],
   "source": []
  },
  {
   "cell_type": "code",
   "execution_count": 22,
   "id": "b1830ae5",
   "metadata": {},
   "outputs": [],
   "source": [
    "# db_get_keys('vecs')"
   ]
  },
  {
   "cell_type": "code",
   "execution_count": 23,
   "id": "1d8c215b",
   "metadata": {},
   "outputs": [],
   "source": [
    "# len(db_get_keys('vecs'))"
   ]
  },
  {
   "cell_type": "code",
   "execution_count": 24,
   "id": "f3dfda90",
   "metadata": {},
   "outputs": [],
   "source": [
    "# ls -ltrh ~/db/"
   ]
  },
  {
   "cell_type": "code",
   "execution_count": 25,
   "id": "cc4fff39",
   "metadata": {},
   "outputs": [],
   "source": [
    "# dbput('test',pd.Series([1,2]))"
   ]
  },
  {
   "cell_type": "markdown",
   "id": "ed403b03",
   "metadata": {},
   "source": [
    "## Vectors"
   ]
  },
  {
   "cell_type": "code",
   "execution_count": 26,
   "id": "b80d9c67",
   "metadata": {},
   "outputs": [
    {
     "name": "stderr",
     "output_type": "stream",
     "text": [
      "Scanning directory for models: 3901it [00:02, 1655.58it/s]\n"
     ]
    }
   ],
   "source": [
    "dfmodels_all = get_pathdf_models(period_len=None)\n",
    "dfmodels_all['run_int'] = dfmodels_all['run'].apply(lambda x: int(x.split('_')[-1]))\n",
    "dfmodels=dfmodels_all[dfmodels_all.period_len.isin(PERIOD_LENS)].query(f'run_int<={MAX_RUNS}')\n",
    "# dfmodels"
   ]
  },
  {
   "cell_type": "code",
   "execution_count": 27,
   "id": "500e2228",
   "metadata": {},
   "outputs": [],
   "source": [
    "def do_ingest_vecs(row,only_valid_words=True):\n",
    "    mpath=row.path\n",
    "    m=load_model(mpath)\n",
    "    data=m.wv.vectors\n",
    "    keys=[m.wv.index_to_key[i] for i in range(len(data))]\n",
    "    res=pd.DataFrame(data, index=keys)\n",
    "    if only_valid_words:\n",
    "        vwords=set(get_valid_words())\n",
    "        res=res.loc[set(res.index) & vwords]\n",
    "    return res\n",
    "\n",
    "def ingest_vecs(dfmodels, only_valid_words=True,num_proc=1,force=False):\n",
    "    with get_db('vecs',mode='a') as db:\n",
    "        df=dfmodels.assign(qstr=[\n",
    "            f'{row.corpus}/{row.period}/{row.run_int}'\n",
    "            for i,row in dfmodels.iterrows()\n",
    "        ])\n",
    "        done=set(db.keys())\n",
    "        if not force: df=df[~df.qstr.isin(done)]\n",
    "        objs=[row for i,row in df.iterrows()]\n",
    "        iterr=pmap_iter(do_ingest_vecs, objs, num_proc=num_proc)\n",
    "        for i,(row,qdf) in enumerate(zip(objs,iterr)):\n",
    "            db[row.qstr]=qdf\n",
    "            if i and not i%10: db.commit()\n",
    "        db.commit()"
   ]
  },
  {
   "cell_type": "code",
   "execution_count": 31,
   "id": "0725c03f",
   "metadata": {},
   "outputs": [],
   "source": [
    "# !rm /home/ryan/db/db.kos2.vecs.sqlite\n",
    "# ingest_vecs(dfmodels,num_proc=4)"
   ]
  },
  {
   "cell_type": "code",
   "execution_count": 32,
   "id": "de0b0066",
   "metadata": {},
   "outputs": [],
   "source": [
    "def vecs(period,run=1,corpus=DEFAULT_CORPUS):\n",
    "    qstr=f'/vecs/{corpus}/{period}/{run}'\n",
    "    return dbget(qstr,pd.DataFrame())"
   ]
  },
  {
   "cell_type": "code",
   "execution_count": 33,
   "id": "6738b5fe",
   "metadata": {},
   "outputs": [],
   "source": [
    "# vecs('1820-1840',1)"
   ]
  },
  {
   "cell_type": "markdown",
   "id": "f0ecef8f",
   "metadata": {},
   "source": [
    "## Distances"
   ]
  },
  {
   "cell_type": "code",
   "execution_count": 34,
   "id": "61230003",
   "metadata": {},
   "outputs": [],
   "source": [
    "def vecs2dist(dfvecs,only_valid_words=True,lim=None):\n",
    "    if only_valid_words:\n",
    "        dfvecs=dfvecs.loc[\n",
    "            set(dfvecs.index)&set(get_valid_words())\n",
    "        ]\n",
    "    if lim: dfvecs=dfvecs[:lim]\n",
    "    dfsim=pd.DataFrame(\n",
    "        fastdist.cosine_pairwise_distance(\n",
    "            dfvecs.values.astype(float),\n",
    "            return_matrix=True\n",
    "        ),\n",
    "        index=dfvecs.index,\n",
    "        columns=dfvecs.index\n",
    "    )\n",
    "    dfdist=1-dfsim\n",
    "    return dfdist"
   ]
  },
  {
   "cell_type": "code",
   "execution_count": 35,
   "id": "9b441f4e",
   "metadata": {},
   "outputs": [],
   "source": [
    "# X=vecs(random.choice(get_default_periods()))\n",
    "# X"
   ]
  },
  {
   "cell_type": "code",
   "execution_count": 36,
   "id": "130a37e7",
   "metadata": {},
   "outputs": [],
   "source": [
    "# o=vecs2dist(X)\n",
    "# o"
   ]
  },
  {
   "cell_type": "code",
   "execution_count": 37,
   "id": "db2fffe5",
   "metadata": {},
   "outputs": [],
   "source": [
    "def do_ingest_dists(dfperiod,progress=False,max_runs=10):\n",
    "    df=None\n",
    "    dfperiod=dfperiod[dfperiod.run_int<=max_runs]\n",
    "    iterr=zip(dfperiod.corpus, dfperiod.period, dfperiod.run_int)\n",
    "    if progress:\n",
    "        iterr=tqdm(iterr,total=len(dfperiod),position=0)\n",
    "    for corpus,period,run in iterr:\n",
    "        dfvecs=vecs(corpus=corpus, period=period, run=run)\n",
    "        dfdist=vecs2dist(dfvecs)\n",
    "        if df is None:\n",
    "            df=dfdist\n",
    "        else:\n",
    "            df3=pd.concat([df,dfdist])\n",
    "            df=df3.groupby(df3.index).mean()\n",
    "    return df"
   ]
  },
  {
   "cell_type": "code",
   "execution_count": 38,
   "id": "e7762a83",
   "metadata": {},
   "outputs": [],
   "source": [
    "# for i,dfprd in dfmodels.groupby(['corpus','period']): pass\n",
    "# dfdist=do_ingest_dists(dfprd,progress=True)\n",
    "# dfdist"
   ]
  },
  {
   "cell_type": "code",
   "execution_count": 39,
   "id": "9ac5a856",
   "metadata": {},
   "outputs": [],
   "source": [
    "# db_has_key('/vecs/bpo/1720-1740/1')"
   ]
  },
  {
   "cell_type": "code",
   "execution_count": 40,
   "id": "64a98451",
   "metadata": {},
   "outputs": [],
   "source": [
    "\n",
    "def ingest_dists(dfmodels,num_proc=1,force=False):\n",
    "    key_grp = [\n",
    "        (f'/dists/{corpus}/{period}', gdf)\n",
    "        for (corpus,period),gdf in dfmodels.groupby(\n",
    "            ['corpus','period']\n",
    "        )\n",
    "    ]\n",
    "    with get_db('wdists',mode='a') as db:\n",
    "        if not force:\n",
    "            key_grp=[\n",
    "                (k,v) for k,v in key_grp\n",
    "                if k not in db\n",
    "            ]\n",
    "        iterr=tqdm(key_grp,position=0)\n",
    "        for key,grp in iterr:\n",
    "            prefix,key2 = db_split_key(key)\n",
    "            iterr.set_description(key)\n",
    "            odf=do_ingest_dists(grp,progress=True)\n",
    "            for wordcol in odf:\n",
    "                qstr=f'{wordcol}/{key2}'\n",
    "                db[qstr]=odf[wordcol]\n",
    "            db.commit()\n",
    "    \n",
    "        \n",
    "#     keys,grps=zip(*key_grp)\n",
    "#     iterr=pmap_iter(\n",
    "#         do_ingest_dists,\n",
    "#         grps,\n",
    "#         num_proc=num_proc\n",
    "#     )\n",
    "#     for key,res in zip(keys,iterr): dbput(key,res)"
   ]
  },
  {
   "cell_type": "code",
   "execution_count": 41,
   "id": "42bf7ab1",
   "metadata": {},
   "outputs": [],
   "source": [
    "# !rm ../db/db.kos2.wdists.sqlite"
   ]
  },
  {
   "cell_type": "code",
   "execution_count": 42,
   "id": "3d66f947",
   "metadata": {},
   "outputs": [],
   "source": [
    "# ingest_dists(dfmodels,force=True)"
   ]
  },
  {
   "cell_type": "code",
   "execution_count": 43,
   "id": "5357bde1",
   "metadata": {},
   "outputs": [
    {
     "name": "stderr",
     "output_type": "stream",
     "text": [
      " 10%|█         | 68710/657649 [00:09<01:23, 7038.41it/s]\n"
     ]
    },
    {
     "ename": "KeyboardInterrupt",
     "evalue": "",
     "output_type": "error",
     "traceback": [
      "\u001b[0;31m---------------------------------------------------------------------------\u001b[0m",
      "\u001b[0;31mKeyboardInterrupt\u001b[0m                         Traceback (most recent call last)",
      "\u001b[0;32m<ipython-input-43-d80f16a476f6>\u001b[0m in \u001b[0;36m<module>\u001b[0;34m\u001b[0m\n\u001b[1;32m      4\u001b[0m \u001b[0;31m#     for i,(k,v) in enumerate(tqdm(idb.items())):\u001b[0m\u001b[0;34m\u001b[0m\u001b[0;34m\u001b[0m\u001b[0;34m\u001b[0m\u001b[0m\n\u001b[1;32m      5\u001b[0m     \u001b[0;32mfor\u001b[0m \u001b[0mi\u001b[0m\u001b[0;34m,\u001b[0m\u001b[0mk\u001b[0m \u001b[0;32min\u001b[0m \u001b[0menumerate\u001b[0m\u001b[0;34m(\u001b[0m\u001b[0mtqdm\u001b[0m\u001b[0;34m(\u001b[0m\u001b[0midb\u001b[0m\u001b[0;34m.\u001b[0m\u001b[0mkeys\u001b[0m\u001b[0;34m(\u001b[0m\u001b[0;34m)\u001b[0m\u001b[0;34m)\u001b[0m\u001b[0;34m)\u001b[0m\u001b[0;34m:\u001b[0m\u001b[0;34m\u001b[0m\u001b[0;34m\u001b[0m\u001b[0m\n\u001b[0;32m----> 6\u001b[0;31m         \u001b[0;32mif\u001b[0m \u001b[0;32mnot\u001b[0m \u001b[0mforce\u001b[0m \u001b[0;32mand\u001b[0m \u001b[0mk\u001b[0m \u001b[0;32min\u001b[0m \u001b[0modb\u001b[0m\u001b[0;34m:\u001b[0m \u001b[0;32mcontinue\u001b[0m\u001b[0;34m\u001b[0m\u001b[0;34m\u001b[0m\u001b[0m\n\u001b[0m\u001b[1;32m      7\u001b[0m         \u001b[0modb\u001b[0m\u001b[0;34m[\u001b[0m\u001b[0mk\u001b[0m\u001b[0;34m]\u001b[0m\u001b[0;34m=\u001b[0m\u001b[0midb\u001b[0m\u001b[0;34m[\u001b[0m\u001b[0mk\u001b[0m\u001b[0;34m]\u001b[0m\u001b[0;34m\u001b[0m\u001b[0;34m\u001b[0m\u001b[0m\n\u001b[1;32m      8\u001b[0m         \u001b[0;32mif\u001b[0m \u001b[0mi\u001b[0m \u001b[0;32mand\u001b[0m \u001b[0;32mnot\u001b[0m \u001b[0mi\u001b[0m\u001b[0;34m%\u001b[0m\u001b[0;36m1000\u001b[0m\u001b[0;34m:\u001b[0m \u001b[0modb\u001b[0m\u001b[0;34m.\u001b[0m\u001b[0mcommit\u001b[0m\u001b[0;34m(\u001b[0m\u001b[0;34m)\u001b[0m\u001b[0;34m\u001b[0m\u001b[0;34m\u001b[0m\u001b[0m\n",
      "\u001b[0;32m~/miniconda3/lib/python3.8/site-packages/sqlitedict.py\u001b[0m in \u001b[0;36m__contains__\u001b[0;34m(self, key)\u001b[0m\n\u001b[1;32m    248\u001b[0m     \u001b[0;32mdef\u001b[0m \u001b[0m__contains__\u001b[0m\u001b[0;34m(\u001b[0m\u001b[0mself\u001b[0m\u001b[0;34m,\u001b[0m \u001b[0mkey\u001b[0m\u001b[0;34m)\u001b[0m\u001b[0;34m:\u001b[0m\u001b[0;34m\u001b[0m\u001b[0;34m\u001b[0m\u001b[0m\n\u001b[1;32m    249\u001b[0m         \u001b[0mHAS_ITEM\u001b[0m \u001b[0;34m=\u001b[0m \u001b[0;34m'SELECT 1 FROM \"%s\" WHERE key = ?'\u001b[0m \u001b[0;34m%\u001b[0m \u001b[0mself\u001b[0m\u001b[0;34m.\u001b[0m\u001b[0mtablename\u001b[0m\u001b[0;34m\u001b[0m\u001b[0;34m\u001b[0m\u001b[0m\n\u001b[0;32m--> 250\u001b[0;31m         \u001b[0;32mreturn\u001b[0m \u001b[0mself\u001b[0m\u001b[0;34m.\u001b[0m\u001b[0mconn\u001b[0m\u001b[0;34m.\u001b[0m\u001b[0mselect_one\u001b[0m\u001b[0;34m(\u001b[0m\u001b[0mHAS_ITEM\u001b[0m\u001b[0;34m,\u001b[0m \u001b[0;34m(\u001b[0m\u001b[0mkey\u001b[0m\u001b[0;34m,\u001b[0m\u001b[0;34m)\u001b[0m\u001b[0;34m)\u001b[0m \u001b[0;32mis\u001b[0m \u001b[0;32mnot\u001b[0m \u001b[0;32mNone\u001b[0m\u001b[0;34m\u001b[0m\u001b[0;34m\u001b[0m\u001b[0m\n\u001b[0m\u001b[1;32m    251\u001b[0m \u001b[0;34m\u001b[0m\u001b[0m\n\u001b[1;32m    252\u001b[0m     \u001b[0;32mdef\u001b[0m \u001b[0m__getitem__\u001b[0m\u001b[0;34m(\u001b[0m\u001b[0mself\u001b[0m\u001b[0;34m,\u001b[0m \u001b[0mkey\u001b[0m\u001b[0;34m)\u001b[0m\u001b[0;34m:\u001b[0m\u001b[0;34m\u001b[0m\u001b[0;34m\u001b[0m\u001b[0m\n",
      "\u001b[0;32m~/miniconda3/lib/python3.8/site-packages/sqlitedict.py\u001b[0m in \u001b[0;36mselect_one\u001b[0;34m(self, req, arg)\u001b[0m\n\u001b[1;32m    547\u001b[0m         \u001b[0;34m\"\"\"Return only the first row of the SELECT, or None if there are no matching rows.\"\"\"\u001b[0m\u001b[0;34m\u001b[0m\u001b[0;34m\u001b[0m\u001b[0m\n\u001b[1;32m    548\u001b[0m         \u001b[0;32mtry\u001b[0m\u001b[0;34m:\u001b[0m\u001b[0;34m\u001b[0m\u001b[0;34m\u001b[0m\u001b[0m\n\u001b[0;32m--> 549\u001b[0;31m             \u001b[0;32mreturn\u001b[0m \u001b[0mnext\u001b[0m\u001b[0;34m(\u001b[0m\u001b[0miter\u001b[0m\u001b[0;34m(\u001b[0m\u001b[0mself\u001b[0m\u001b[0;34m.\u001b[0m\u001b[0mselect\u001b[0m\u001b[0;34m(\u001b[0m\u001b[0mreq\u001b[0m\u001b[0;34m,\u001b[0m \u001b[0marg\u001b[0m\u001b[0;34m)\u001b[0m\u001b[0;34m)\u001b[0m\u001b[0;34m)\u001b[0m\u001b[0;34m\u001b[0m\u001b[0;34m\u001b[0m\u001b[0m\n\u001b[0m\u001b[1;32m    550\u001b[0m         \u001b[0;32mexcept\u001b[0m \u001b[0mStopIteration\u001b[0m\u001b[0;34m:\u001b[0m\u001b[0;34m\u001b[0m\u001b[0;34m\u001b[0m\u001b[0m\n\u001b[1;32m    551\u001b[0m             \u001b[0;32mreturn\u001b[0m \u001b[0;32mNone\u001b[0m\u001b[0;34m\u001b[0m\u001b[0;34m\u001b[0m\u001b[0m\n",
      "\u001b[0;32m~/miniconda3/lib/python3.8/site-packages/sqlitedict.py\u001b[0m in \u001b[0;36mselect\u001b[0;34m(self, req, arg)\u001b[0m\n\u001b[1;32m    536\u001b[0m         \"\"\"\n\u001b[1;32m    537\u001b[0m         \u001b[0mres\u001b[0m \u001b[0;34m=\u001b[0m \u001b[0mQueue\u001b[0m\u001b[0;34m(\u001b[0m\u001b[0;34m)\u001b[0m  \u001b[0;31m# results of the select will appear as items in this queue\u001b[0m\u001b[0;34m\u001b[0m\u001b[0;34m\u001b[0m\u001b[0m\n\u001b[0;32m--> 538\u001b[0;31m         \u001b[0mself\u001b[0m\u001b[0;34m.\u001b[0m\u001b[0mexecute\u001b[0m\u001b[0;34m(\u001b[0m\u001b[0mreq\u001b[0m\u001b[0;34m,\u001b[0m \u001b[0marg\u001b[0m\u001b[0;34m,\u001b[0m \u001b[0mres\u001b[0m\u001b[0;34m)\u001b[0m\u001b[0;34m\u001b[0m\u001b[0;34m\u001b[0m\u001b[0m\n\u001b[0m\u001b[1;32m    539\u001b[0m         \u001b[0;32mwhile\u001b[0m \u001b[0;32mTrue\u001b[0m\u001b[0;34m:\u001b[0m\u001b[0;34m\u001b[0m\u001b[0;34m\u001b[0m\u001b[0m\n\u001b[1;32m    540\u001b[0m             \u001b[0mrec\u001b[0m \u001b[0;34m=\u001b[0m \u001b[0mres\u001b[0m\u001b[0;34m.\u001b[0m\u001b[0mget\u001b[0m\u001b[0;34m(\u001b[0m\u001b[0;34m)\u001b[0m\u001b[0;34m\u001b[0m\u001b[0;34m\u001b[0m\u001b[0m\n",
      "\u001b[0;32m~/miniconda3/lib/python3.8/site-packages/sqlitedict.py\u001b[0m in \u001b[0;36mexecute\u001b[0;34m(self, req, arg, res)\u001b[0m\n\u001b[1;32m    519\u001b[0m         \u001b[0;31m# jython take a severe performance impact for throwing exceptions\u001b[0m\u001b[0;34m\u001b[0m\u001b[0;34m\u001b[0m\u001b[0;34m\u001b[0m\u001b[0m\n\u001b[1;32m    520\u001b[0m         \u001b[0;31m# so often.\u001b[0m\u001b[0;34m\u001b[0m\u001b[0;34m\u001b[0m\u001b[0;34m\u001b[0m\u001b[0m\n\u001b[0;32m--> 521\u001b[0;31m         \u001b[0mstack\u001b[0m \u001b[0;34m=\u001b[0m \u001b[0mtraceback\u001b[0m\u001b[0;34m.\u001b[0m\u001b[0mextract_stack\u001b[0m\u001b[0;34m(\u001b[0m\u001b[0;34m)\u001b[0m\u001b[0;34m[\u001b[0m\u001b[0;34m:\u001b[0m\u001b[0;34m-\u001b[0m\u001b[0;36m1\u001b[0m\u001b[0;34m]\u001b[0m\u001b[0;34m\u001b[0m\u001b[0;34m\u001b[0m\u001b[0m\n\u001b[0m\u001b[1;32m    522\u001b[0m         \u001b[0mself\u001b[0m\u001b[0;34m.\u001b[0m\u001b[0mreqs\u001b[0m\u001b[0;34m.\u001b[0m\u001b[0mput\u001b[0m\u001b[0;34m(\u001b[0m\u001b[0;34m(\u001b[0m\u001b[0mreq\u001b[0m\u001b[0;34m,\u001b[0m \u001b[0marg\u001b[0m \u001b[0;32mor\u001b[0m \u001b[0mtuple\u001b[0m\u001b[0;34m(\u001b[0m\u001b[0;34m)\u001b[0m\u001b[0;34m,\u001b[0m \u001b[0mres\u001b[0m\u001b[0;34m,\u001b[0m \u001b[0mstack\u001b[0m\u001b[0;34m)\u001b[0m\u001b[0;34m)\u001b[0m\u001b[0;34m\u001b[0m\u001b[0;34m\u001b[0m\u001b[0m\n\u001b[1;32m    523\u001b[0m \u001b[0;34m\u001b[0m\u001b[0m\n",
      "\u001b[0;32m~/miniconda3/lib/python3.8/traceback.py\u001b[0m in \u001b[0;36mextract_stack\u001b[0;34m(f, limit)\u001b[0m\n\u001b[1;32m    209\u001b[0m     \u001b[0;32mif\u001b[0m \u001b[0mf\u001b[0m \u001b[0;32mis\u001b[0m \u001b[0;32mNone\u001b[0m\u001b[0;34m:\u001b[0m\u001b[0;34m\u001b[0m\u001b[0;34m\u001b[0m\u001b[0m\n\u001b[1;32m    210\u001b[0m         \u001b[0mf\u001b[0m \u001b[0;34m=\u001b[0m \u001b[0msys\u001b[0m\u001b[0;34m.\u001b[0m\u001b[0m_getframe\u001b[0m\u001b[0;34m(\u001b[0m\u001b[0;34m)\u001b[0m\u001b[0;34m.\u001b[0m\u001b[0mf_back\u001b[0m\u001b[0;34m\u001b[0m\u001b[0;34m\u001b[0m\u001b[0m\n\u001b[0;32m--> 211\u001b[0;31m     \u001b[0mstack\u001b[0m \u001b[0;34m=\u001b[0m \u001b[0mStackSummary\u001b[0m\u001b[0;34m.\u001b[0m\u001b[0mextract\u001b[0m\u001b[0;34m(\u001b[0m\u001b[0mwalk_stack\u001b[0m\u001b[0;34m(\u001b[0m\u001b[0mf\u001b[0m\u001b[0;34m)\u001b[0m\u001b[0;34m,\u001b[0m \u001b[0mlimit\u001b[0m\u001b[0;34m=\u001b[0m\u001b[0mlimit\u001b[0m\u001b[0;34m)\u001b[0m\u001b[0;34m\u001b[0m\u001b[0;34m\u001b[0m\u001b[0m\n\u001b[0m\u001b[1;32m    212\u001b[0m     \u001b[0mstack\u001b[0m\u001b[0;34m.\u001b[0m\u001b[0mreverse\u001b[0m\u001b[0;34m(\u001b[0m\u001b[0;34m)\u001b[0m\u001b[0;34m\u001b[0m\u001b[0;34m\u001b[0m\u001b[0m\n\u001b[1;32m    213\u001b[0m     \u001b[0;32mreturn\u001b[0m \u001b[0mstack\u001b[0m\u001b[0;34m\u001b[0m\u001b[0;34m\u001b[0m\u001b[0m\n",
      "\u001b[0;32m~/miniconda3/lib/python3.8/traceback.py\u001b[0m in \u001b[0;36mextract\u001b[0;34m(klass, frame_gen, limit, lookup_lines, capture_locals)\u001b[0m\n\u001b[1;32m    364\u001b[0m         \u001b[0;32mif\u001b[0m \u001b[0mlookup_lines\u001b[0m\u001b[0;34m:\u001b[0m\u001b[0;34m\u001b[0m\u001b[0;34m\u001b[0m\u001b[0m\n\u001b[1;32m    365\u001b[0m             \u001b[0;32mfor\u001b[0m \u001b[0mf\u001b[0m \u001b[0;32min\u001b[0m \u001b[0mresult\u001b[0m\u001b[0;34m:\u001b[0m\u001b[0;34m\u001b[0m\u001b[0;34m\u001b[0m\u001b[0m\n\u001b[0;32m--> 366\u001b[0;31m                 \u001b[0mf\u001b[0m\u001b[0;34m.\u001b[0m\u001b[0mline\u001b[0m\u001b[0;34m\u001b[0m\u001b[0;34m\u001b[0m\u001b[0m\n\u001b[0m\u001b[1;32m    367\u001b[0m         \u001b[0;32mreturn\u001b[0m \u001b[0mresult\u001b[0m\u001b[0;34m\u001b[0m\u001b[0;34m\u001b[0m\u001b[0m\n\u001b[1;32m    368\u001b[0m \u001b[0;34m\u001b[0m\u001b[0m\n",
      "\u001b[0;32m~/miniconda3/lib/python3.8/traceback.py\u001b[0m in \u001b[0;36mline\u001b[0;34m(self)\u001b[0m\n\u001b[1;32m    286\u001b[0m     \u001b[0;32mdef\u001b[0m \u001b[0mline\u001b[0m\u001b[0;34m(\u001b[0m\u001b[0mself\u001b[0m\u001b[0;34m)\u001b[0m\u001b[0;34m:\u001b[0m\u001b[0;34m\u001b[0m\u001b[0;34m\u001b[0m\u001b[0m\n\u001b[1;32m    287\u001b[0m         \u001b[0;32mif\u001b[0m \u001b[0mself\u001b[0m\u001b[0;34m.\u001b[0m\u001b[0m_line\u001b[0m \u001b[0;32mis\u001b[0m \u001b[0;32mNone\u001b[0m\u001b[0;34m:\u001b[0m\u001b[0;34m\u001b[0m\u001b[0;34m\u001b[0m\u001b[0m\n\u001b[0;32m--> 288\u001b[0;31m             \u001b[0mself\u001b[0m\u001b[0;34m.\u001b[0m\u001b[0m_line\u001b[0m \u001b[0;34m=\u001b[0m \u001b[0mlinecache\u001b[0m\u001b[0;34m.\u001b[0m\u001b[0mgetline\u001b[0m\u001b[0;34m(\u001b[0m\u001b[0mself\u001b[0m\u001b[0;34m.\u001b[0m\u001b[0mfilename\u001b[0m\u001b[0;34m,\u001b[0m \u001b[0mself\u001b[0m\u001b[0;34m.\u001b[0m\u001b[0mlineno\u001b[0m\u001b[0;34m)\u001b[0m\u001b[0;34m.\u001b[0m\u001b[0mstrip\u001b[0m\u001b[0;34m(\u001b[0m\u001b[0;34m)\u001b[0m\u001b[0;34m\u001b[0m\u001b[0;34m\u001b[0m\u001b[0m\n\u001b[0m\u001b[1;32m    289\u001b[0m         \u001b[0;32mreturn\u001b[0m \u001b[0mself\u001b[0m\u001b[0;34m.\u001b[0m\u001b[0m_line\u001b[0m\u001b[0;34m\u001b[0m\u001b[0;34m\u001b[0m\u001b[0m\n\u001b[1;32m    290\u001b[0m \u001b[0;34m\u001b[0m\u001b[0m\n",
      "\u001b[0;31mKeyboardInterrupt\u001b[0m: "
     ]
    }
   ],
   "source": [
    "# import\n",
    "force=False\n",
    "with get_db_shelf('wdists',mode='r') as idb, get_db('wdists',mode='a') as odb:\n",
    "#     for i,(k,v) in enumerate(tqdm(idb.items())): \n",
    "    for i,k in enumerate(tqdm(idb.keys())): \n",
    "        if not force and k in odb: continue\n",
    "        odb[k]=idb[k]\n",
    "        if i and not i%1000: odb.commit()\n",
    "    odb.commit()\n",
    "stop"
   ]
  },
  {
   "cell_type": "code",
   "execution_count": null,
   "id": "cc73c03a",
   "metadata": {},
   "outputs": [],
   "source": [
    "# db_get_keys('wdists')"
   ]
  },
  {
   "cell_type": "code",
   "execution_count": null,
   "id": "7f321d0a",
   "metadata": {},
   "outputs": [],
   "source": [
    "# dbget('/dists/bpo/1720-1740')"
   ]
  },
  {
   "cell_type": "code",
   "execution_count": null,
   "id": "6d48d1e0",
   "metadata": {},
   "outputs": [],
   "source": []
  },
  {
   "cell_type": "code",
   "execution_count": null,
   "id": "f345d62d-dca3-42b4-92d4-f52113bcb798",
   "metadata": {},
   "outputs": [],
   "source": [
    "# def ingest_dists_model(\n",
    "#         period,run=1,corpus=DEFAULT_CORPUS,\n",
    "#         only_valid_words=True,lim=25000,force=False,**attrs):\n",
    "#     dfvecs=vecs(period,run)\n",
    "#     dfdist=vecs2dist(dfvecs,only_valid_words=only_valid_words,lim=lim)\n",
    "#     return dfdist\n",
    "\n",
    "# def ingest_dists_model_(objd): return ingest_dists_model(**objd)"
   ]
  },
  {
   "cell_type": "code",
   "execution_count": null,
   "id": "bbb8c5a8-c942-460f-b0de-1f1182dcfd6a",
   "metadata": {},
   "outputs": [],
   "source": [
    "# def ingest_dists(dfmodels,only_valid_words=True,lim=None,num_proc=1,force=False):\n",
    "#     dfmodels['run_int']=dfmodels.run.apply(lambda x: int(x.split('_')[-1]))\n",
    "#     objs = [\n",
    "#         dict(\n",
    "#             period=period,\n",
    "#             run=run,\n",
    "#             corpus=corpus,\n",
    "#             only_valid_words=only_valid_words,\n",
    "#             lim=lim,\n",
    "#             qstr=f'/dists/{corpus}/{period}/{run}'\n",
    "#         )\n",
    "#         for period,run,corpus in zip(dfmodels.period, dfmodels.run_int, dfmodels.corpus)\n",
    "#     ]\n",
    "#     if not force: objs = [d for d in objs if not db_has_key(d['qstr'])]\n",
    "            \n",
    "#     iterr=pmap_iter(ingest_dists_model_, objs[:100], num_proc=num_proc)\n",
    "#     #with get_db(mode='a') as db:\n",
    "#     db=get_db()\n",
    "#     for i,(idx,odf) in enumerate(zip(objs, iterr)):\n",
    "#         if odf is None: continue\n",
    "#         db[idx['qstr']] = odf\n",
    "#         #if i and not i%10: db.sync()\n",
    "#         db.sync()"
   ]
  },
  {
   "cell_type": "code",
   "execution_count": null,
   "id": "163b5777",
   "metadata": {},
   "outputs": [],
   "source": [
    "# ingest_dists(dfmodels,num_proc=1)"
   ]
  },
  {
   "cell_type": "code",
   "execution_count": null,
   "id": "ad88fbca-217d-44ee-875b-09b98149e2ff",
   "metadata": {},
   "outputs": [],
   "source": [
    "# !ls -lSh ~/db/ | head"
   ]
  },
  {
   "cell_type": "code",
   "execution_count": null,
   "id": "566f8e6b",
   "metadata": {},
   "outputs": [],
   "source": []
  }
 ],
 "metadata": {
  "kernelspec": {
   "display_name": "Python 3",
   "language": "python",
   "name": "python3"
  },
  "language_info": {
   "codemirror_mode": {
    "name": "ipython",
    "version": 3
   },
   "file_extension": ".py",
   "mimetype": "text/x-python",
   "name": "python",
   "nbconvert_exporter": "python",
   "pygments_lexer": "ipython3",
   "version": "3.8.5"
  },
  "widgets": {
   "application/vnd.jupyter.widget-state+json": {
    "state": {},
    "version_major": 2,
    "version_minor": 0
   }
  }
 },
 "nbformat": 4,
 "nbformat_minor": 5
}
