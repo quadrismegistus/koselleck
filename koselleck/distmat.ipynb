{
 "cells": [
  {
   "cell_type": "code",
   "execution_count": 1,
   "metadata": {},
   "outputs": [],
   "source": [
    "from ipynb.fs.full.koselleck import *"
   ]
  },
  {
   "cell_type": "code",
   "execution_count": 2,
   "metadata": {},
   "outputs": [],
   "source": [
    "\n",
    "\n",
    "\n",
    "def get_historical_semantic_distance_matrix(\n",
    "        words=None,\n",
    "        df_dists=None,\n",
    "        dist_key='lnm',\n",
    "        ymin=YMIN_DISTMAT,\n",
    "        ymax=YMAX_DISTMAT,\n",
    "        ybin=YBIN_DISTMAT,\n",
    "        k=K,\n",
    "        interpolate=False,\n",
    "        normalize=False,\n",
    "        num_proc=1,\n",
    "        progress=True,\n",
    "        add_missing_periods=True,\n",
    "        num_runs=NUM_RUNS_LNM,\n",
    "        force=False,\n",
    "        **lnm_opts):\n",
    "    \n",
    "    try:\n",
    "        df_dists=lnm(words,ymin=ymin,ymax=ymax,ybin=ybin,k=k,num_proc=num_proc,force=force,\n",
    "                    num_runs=num_runs,**lnm_opts)\n",
    "        odfi=df_dists.groupby(['period1','period2']).mean().reset_index()\n",
    "        odfi[f'{dist_key}_perc']=odfi[dist_key].rank(ascending=True) / len(odfi) * 100\n",
    "        odfi=odfi.append(odfi.assign(period1=odfi.period2,period2=odfi.period1))\n",
    "\n",
    "        if add_missing_periods:\n",
    "            all_periods = set(get_periods_bystep(ymin=ymin,ymax=ymax,ybin=ybin))\n",
    "            missing_periods = all_periods - set(odfi.period1) - set(odfi.period2)\n",
    "            odfi=odfi.append(pd.DataFrame([\n",
    "                dict(period1=p1, period2=p2, dist_key=np.nan, dist_key_perc=np.nan)\n",
    "                for p1 in missing_periods\n",
    "                for p2 in missing_periods\n",
    "                if p1!=p2\n",
    "            ]))\n",
    "        \n",
    "        odfp=odfi.pivot('period1','period2',f'{dist_key}_perc')#.fillna(0)\n",
    "#         odfp=odfi.pivot('period1','period2',dist_key)#.fillna(0)\n",
    "        if interpolate:\n",
    "            for idx in odfp.index:\n",
    "                odfp.loc[idx] = odfp.loc[idx].interpolate(limit_direction='both')\n",
    "            for col in odfp.columns:\n",
    "                odfp[col] = odfp[col].interpolate(limit_direction='both')\n",
    "            odfp=odfp.replace({0:np.nan})\n",
    "        if normalize:\n",
    "            for col in odfp.columns:\n",
    "#                 odfp[col]=(odfp[col] - odfp[col].mean()) / odfp[col].std()\n",
    "                odfp[col]=(odfp[col] / odfp[col].sum())# * 100# / odfp[col].std()\n",
    "            \n",
    "        return odfp\n",
    "    except KeyError:\n",
    "        return pd.DataFrame()\n"
   ]
  },
  {
   "cell_type": "code",
   "execution_count": 3,
   "metadata": {},
   "outputs": [],
   "source": [
    "#get_historical_semantic_distance_matrix('culture',ymin=1700,ymax=1900,ybin=20)"
   ]
  },
  {
   "cell_type": "code",
   "execution_count": 4,
   "metadata": {},
   "outputs": [],
   "source": [
    "# get_historical_semantic_distance_matrix('station').sort_values('1890-1895')"
   ]
  },
  {
   "cell_type": "markdown",
   "metadata": {},
   "source": [
    "## Plot"
   ]
  },
  {
   "cell_type": "code",
   "execution_count": null,
   "metadata": {},
   "outputs": [],
   "source": []
  },
  {
   "cell_type": "code",
   "execution_count": 5,
   "metadata": {},
   "outputs": [],
   "source": [
    "def plot_distmat(distdf,xcol='period1',ycol='period2',value_name='lnm_perc',\n",
    "                 use_color=False,xlim=None,ylim=None,title='Distance matrix',ofn=None,force=False,\n",
    "                 invert=False,**y):\n",
    "    if ofn:\n",
    "        ofnfn=os.path.join(PATH_FIGS,ofn)\n",
    "        if not force and os.path.exists(ofnfn): return ofnfn\n",
    "    \n",
    "    \n",
    "    distdfm=distdf.reset_index().melt(id_vars=[xcol],value_name=value_name)#.dropna()\n",
    "    \n",
    "    \n",
    "    fig=start_fig(\n",
    "        distdfm,\n",
    "        x=f'factor({xcol})',\n",
    "        y=f'factor({ycol})',\n",
    "        fill=value_name,\n",
    "        **y\n",
    "    )\n",
    "    fig+=p9.geom_tile()\n",
    "    if not use_color:\n",
    "        if not invert:\n",
    "            fig+=p9.scale_fill_gradient(high='#111111',low='#FFFFFF')   \n",
    "        else:\n",
    "            fig+=p9.scale_fill_gradient(low='#111111',high='#FFFFFF')   \n",
    "    else:\n",
    "        fig+=p9.scale_fill_distiller(type='div',palette=5)\n",
    "    fig+=p9.theme(\n",
    "        axis_text_x=p9.element_text(angle=90)\n",
    "    )\n",
    "    fig+=p9.labs(\n",
    "        x='Date of semantic model',\n",
    "        y='Date of semantic model',\n",
    "        fill='Semantic distance\\n(LNM percentile)',\n",
    "        title=title\n",
    "    )\n",
    "    if ofn:\n",
    "        fig.save(ofnfn)\n",
    "        if PATH_FIGS2: fig.save(os.path.join(PATH_FIGS2,ofn))\n",
    "        return ofnfn\n",
    "        \n",
    "    return fig\n",
    "\n",
    "\n",
    "def plot_historical_semantic_distance_matrix(words,save=False,force=False,force_data=False,dist_key='lnm',interpolate=False,vnum='v35',**y):\n",
    "    wstr=words.strip() if type(words)==str else '-'.join(words)\n",
    "    wstr2=words.strip() if type(words)==str else ', '.join(words)\n",
    "    res=plot_distmat(\n",
    "        get_historical_semantic_distance_matrix(\n",
    "            words,\n",
    "            dist_key=dist_key,\n",
    "            interpolate=interpolate,\n",
    "            force=force_data,\n",
    "            **y\n",
    "        ),#.fillna(0),\n",
    "        figure_size=(8,8),\n",
    "        ofn=f'fig.{wstr}.distmat.{vnum}.png' if save else None,\n",
    "        title=f'Historical-semantic distance matrix for ‘{wstr2}’',\n",
    "        force=force\n",
    "    )\n",
    "    return print_img(res) if save else res\n",
    "\n"
   ]
  },
  {
   "cell_type": "code",
   "execution_count": null,
   "metadata": {},
   "outputs": [],
   "source": []
  },
  {
   "cell_type": "code",
   "execution_count": 6,
   "metadata": {},
   "outputs": [],
   "source": [
    "# plot_historical_semantic_distance_matrix('culture',force=True,k=10,ymin=1700,ymax=1900,ybin=5,num_proc=4)"
   ]
  },
  {
   "cell_type": "code",
   "execution_count": 7,
   "metadata": {},
   "outputs": [],
   "source": [
    "def gettodaysdate(): return time.strftime('%Y-%m-%d')"
   ]
  },
  {
   "cell_type": "code",
   "execution_count": 8,
   "metadata": {},
   "outputs": [],
   "source": [
    "def iplot_historical_semantic_distance_matrix(w='culture', **attrs):\n",
    "    attrs={**dict(\n",
    "        words=w,\n",
    "        force=True,\n",
    "        dist_key=fixed('lnm'),\n",
    "        k=10,\n",
    "        ymin=1720,\n",
    "        ymax=1900,\n",
    "        ybin=5,\n",
    "        force_data=False,\n",
    "        vnum=gettodaysdate(),\n",
    "        save=False,\n",
    "        num_runs=3,\n",
    "        num_proc=3),**attrs}\n",
    "    res=interact_manual_plot(plot_historical_semantic_distance_matrix, **attrs)\n",
    "    return res"
   ]
  },
  {
   "cell_type": "code",
   "execution_count": 9,
   "metadata": {},
   "outputs": [
    {
     "data": {
      "application/vnd.jupyter.widget-view+json": {
       "model_id": "30d8611e0e12459e8af20fb69ee805eb",
       "version_major": 2,
       "version_minor": 0
      },
      "text/plain": [
       "interactive(children=(Text(value='liberty', description='words'), Checkbox(value=False, description='save'), C…"
      ]
     },
     "metadata": {},
     "output_type": "display_data"
    }
   ],
   "source": [
    "res=iplot_historical_semantic_distance_matrix('liberty')"
   ]
  },
  {
   "cell_type": "code",
   "execution_count": null,
   "metadata": {},
   "outputs": [],
   "source": []
  }
 ],
 "metadata": {
  "kernelspec": {
   "display_name": "Python 3",
   "language": "python",
   "name": "python3"
  },
  "language_info": {
   "codemirror_mode": {
    "name": "ipython",
    "version": 3
   },
   "file_extension": ".py",
   "mimetype": "text/x-python",
   "name": "python",
   "nbconvert_exporter": "python",
   "pygments_lexer": "ipython3",
   "version": "3.7.7"
  },
  "toc": {
   "base_numbering": 1,
   "nav_menu": {},
   "number_sections": false,
   "sideBar": false,
   "skip_h1_title": false,
   "title_cell": "Table of Contents",
   "title_sidebar": "Contents",
   "toc_cell": false,
   "toc_position": {},
   "toc_section_display": false,
   "toc_window_display": false
  },
  "widgets": {
   "application/vnd.jupyter.widget-state+json": {
    "state": {},
    "version_major": 2,
    "version_minor": 0
   }
  }
 },
 "nbformat": 4,
 "nbformat_minor": 4
}
