{
 "cells": [
  {
   "cell_type": "code",
   "execution_count": 1,
   "metadata": {},
   "outputs": [],
   "source": [
    "from koselleck import *"
   ]
  },
  {
   "cell_type": "code",
   "execution_count": 2,
   "metadata": {},
   "outputs": [],
   "source": [
    "df=read_df('../../data/data.all_local_neighbs.v2.pkl')"
   ]
  },
  {
   "cell_type": "code",
   "execution_count": 3,
   "metadata": {},
   "outputs": [],
   "source": [
    "df['cdist']=1-df['csim']"
   ]
  },
  {
   "cell_type": "code",
   "execution_count": 17,
   "metadata": {},
   "outputs": [],
   "source": [
    "# df[(df.word=='culture') & (df.period=='1730-1735')]"
   ]
  },
  {
   "cell_type": "code",
   "execution_count": 18,
   "metadata": {},
   "outputs": [],
   "source": [
    "# for i,dfprd in tqdm(df.groupby(['word','period'])): break"
   ]
  },
  {
   "cell_type": "code",
   "execution_count": 19,
   "metadata": {},
   "outputs": [],
   "source": [
    "# dfprd"
   ]
  },
  {
   "cell_type": "code",
   "execution_count": 9,
   "metadata": {},
   "outputs": [],
   "source": [
    "# dfprd.set_index(['word','neighbor','period'])[['cdist','count','rank']]"
   ]
  },
  {
   "cell_type": "code",
   "execution_count": 12,
   "metadata": {},
   "outputs": [],
   "source": [
    "def redo_dfprd(dfprd,lim=100):\n",
    "    odf=dfprd.reset_index().set_index(\n",
    "        ['word','neighbor','period']\n",
    "    )[['cdist','count','rank']].iloc[:lim]\n",
    "    odf['count']=odf['count'].apply(int)\n",
    "    return odf"
   ]
  },
  {
   "cell_type": "code",
   "execution_count": 14,
   "metadata": {},
   "outputs": [],
   "source": [
    "# redo_dfprd(dfprd)"
   ]
  },
  {
   "cell_type": "code",
   "execution_count": 15,
   "metadata": {},
   "outputs": [],
   "source": [
    "# Import into\n",
    "def import_nbrs(df):\n",
    "    with get_veclib('nbr',autocommit=False) as vl:\n",
    "        for i,((w,p),dfprd) in enumerate(tqdm(df.groupby(['word','period']))):\n",
    "            odf=redo_dfprd(dfprd)\n",
    "            qstr=f'{w}_{p}'\n",
    "            vl[qstr]=odf\n",
    "            if i and not i%100: vl.commit()\n",
    "        vl.commit()"
   ]
  },
  {
   "cell_type": "code",
   "execution_count": 16,
   "metadata": {},
   "outputs": [
    {
     "name": "stderr",
     "output_type": "stream",
     "text": [
      "100%|██████████| 276494/276494 [16:07<00:00, 285.77it/s]\n"
     ]
    }
   ],
   "source": [
    "import_nbrs(df)"
   ]
  },
  {
   "cell_type": "code",
   "execution_count": null,
   "metadata": {},
   "outputs": [],
   "source": []
  }
 ],
 "metadata": {
  "kernelspec": {
   "display_name": "Python 3",
   "language": "python",
   "name": "python3"
  },
  "language_info": {
   "codemirror_mode": {
    "name": "ipython",
    "version": 3
   },
   "file_extension": ".py",
   "mimetype": "text/x-python",
   "name": "python",
   "nbconvert_exporter": "python",
   "pygments_lexer": "ipython3",
   "version": "3.7.7"
  },
  "widgets": {
   "application/vnd.jupyter.widget-state+json": {
    "state": {},
    "version_major": 2,
    "version_minor": 0
   }
  }
 },
 "nbformat": 4,
 "nbformat_minor": 4
}
