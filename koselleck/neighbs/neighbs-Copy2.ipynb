{
 "cells": [
  {
   "cell_type": "markdown",
   "metadata": {},
   "source": [
    "# Neighbs"
   ]
  },
  {
   "cell_type": "code",
   "execution_count": 1,
   "metadata": {},
   "outputs": [],
   "source": [
    "from koselleck import *"
   ]
  },
  {
   "cell_type": "code",
   "execution_count": 3,
   "metadata": {},
   "outputs": [],
   "source": [
    "def to_nbr(dfc,progress=True):\n",
    "    vl=get_veclib('nbr')\n",
    "    o=[]\n",
    "    for (wrd,prd),dfprd in tqdm(dfc.groupby(['word','period']),desc='Computing neighborhood',disable=not progress):\n",
    "        qstr=f'nbr({wrd}_{prd})'\n",
    "        if qstr in vl:\n",
    "            odf=vl[qstr]\n",
    "        else:\n",
    "            dfprdg=dfprd.groupby('neighbor')\n",
    "            dfprd=dfprd.reset_index().set_index('neighbor')\n",
    "            dfprd['count']=dfprdg.size()\n",
    "            dfprd['score']=[(c - (cd/10)) for c,cd in zip(dfprd['count'], dfprd['cdist'])]\n",
    "            odf=dfprd.groupby(['period','neighbor']).mean().reset_index()\n",
    "            odf['rank']=odf['score'].rank(ascending=False,method='min').apply(int)\n",
    "            odf=odf.sort_values('rank')\n",
    "            vl[qstr]=odf\n",
    "        o.append(odf)\n",
    "    return pd.concat(o).sort_values('score',ascending=False) if len(o) else pd.DataFrame()"
   ]
  },
  {
   "cell_type": "code",
   "execution_count": 4,
   "metadata": {},
   "outputs": [],
   "source": [
    "def to_nbr(word,period,max_rank=1000,force=False,cache_only=False,num_proc=1,progress=True):\n",
    "    qstr=f'{word}_{period}'\n",
    "    odf=pd.DataFrame()\n",
    "    with get_veclib('nbr',autocommit=True) as vl:\n",
    "        if qstr in vl:\n",
    "            odf=vl.get(qstr)\n",
    "        else:\n",
    "            gby=['word','neighbor','period']\n",
    "            dfprd = cdist(word,period,num_proc=num_proc,progress=progress)\n",
    "            dfprdg=dfprd.groupby(gby)\n",
    "            dfprd=dfprd.reset_index().set_index(gby)\n",
    "            dfprd['count']=dfprdg.size()\n",
    "            dfprd['score']=[(c - (cd/10)) for c,cd in zip(dfprd['count'], dfprd['cdist'])]\n",
    "            odf=dfprd.groupby(gby).mean()\n",
    "            odf['rank']=odf['score'].rank(ascending=False,method='min').apply(int)\n",
    "            odf=odf.sort_values('rank')\n",
    "            if max_rank: odf=odf[odf['rank']<=max_rank]\n",
    "            vl[qstr]=odf\n",
    "    return odf if not cache_only else pd.DataFrame()"
   ]
  },
  {
   "cell_type": "code",
   "execution_count": 5,
   "metadata": {},
   "outputs": [],
   "source": [
    "def nbr_(argd): return to_nbr(**argd)\n",
    "\n",
    "def nbr(word_or_words,period_or_periods=None,prefix='nbr',neighbors=None,\n",
    "        max_rank=1000,force=False,cache_only=False,num_proc=1):\n",
    "    # preproc input\n",
    "    words=tokenize_fast(word_or_words) if type(word_or_words)==str else list(word_or_words)\n",
    "    if period_or_periods is None:\n",
    "        periods=get_default_periods()\n",
    "    elif type(period_or_periods)==str:\n",
    "        periods=tokenize_fast(period_or_periods)\n",
    "    else:\n",
    "        periods=list(period_or_periods)\n",
    "    # get objs\n",
    "    objs = [\n",
    "        dict(word=word,period=period,max_rank=max_rank,force=force,cache_only=cache_only,num_proc=1,progress=False)\n",
    "        for word in words\n",
    "        for period in periods\n",
    "    ]\n",
    "    # map\n",
    "    return pd.concat(pmap(\n",
    "        nbr_,\n",
    "        objs,\n",
    "        num_proc=num_proc,\n",
    "        desc='Computing neighborhoods across word-periods'\n",
    "    ))\n",
    "    \n",
    "    "
   ]
  },
  {
   "cell_type": "code",
   "execution_count": null,
   "metadata": {},
   "outputs": [
    {
     "name": "stderr",
     "output_type": "stream",
     "text": [
      "Computing neighborhoods across word-periods [x1]:  48%|████▊     | 46/96 [00:00<00:00, 90.07it/s]"
     ]
    }
   ],
   "source": [
    "nbr('virtue,progress',num_proc=1)"
   ]
  },
  {
   "cell_type": "code",
   "execution_count": null,
   "metadata": {},
   "outputs": [],
   "source": []
  },
  {
   "cell_type": "code",
   "execution_count": null,
   "metadata": {},
   "outputs": [],
   "source": [
    "# def do_nbr(objd):\n",
    "#     res=nbr(**objd)\n",
    "#     if res is None: res=pd.DataFrame()\n",
    "#     return res\n",
    "\n",
    "\n",
    "# def nbr(word,period=None,run=None,prefix='nbr',neighbors=None,max_num=None,num_runs=10,num_proc=4,force=False,progress=True,cache_only=False):\n",
    "#     index_cols=['word','neighbor','period','run']\n",
    "#     argd=dict(\n",
    "#         word=word,period=period,run=run,prefix=prefix,\n",
    "#         neighbors=neighbors,max_num=max_num,num_runs=num_runs,\n",
    "#         num_proc=num_proc,force=force,progress=progress,\n",
    "#         cache_only=cache_only\n",
    "#     )\n",
    "#     odf=None\n",
    "    \n",
    "#     if type(word)!=str:\n",
    "#         objs=[{**argd, **{'word':w, 'progress':False, 'num_proc':1}} for w in word]\n",
    "#         odf=pd.concat(pmap(do_nbr, objs, num_proc=num_proc, desc='Computing neighborhoods across words', progress=progress))\n",
    "#         return odf if not cache_only else pd.DataFrame()\n",
    "        \n",
    "#     if period is None:\n",
    "#         objs=[{**argd, **{'period':prd, 'progress':False, 'num_proc':1}} for prd in get_default_periods()]\n",
    "#         odf=pd.concat(pmap(do_nbr, objs, num_proc=num_proc, desc='Computing neighborhoods across periods', progress=progress))\n",
    "#         return odf if not cache_only else pd.DataFrame()\n",
    "\n",
    "#     if run is None:\n",
    "#         qstr=f'{word}_{period}'\n",
    "#         if not force:\n",
    "#             with get_veclib(prefix) as vl: odf=vl.get(qstr)\n",
    "#         if odf is None:\n",
    "#             objs=[{**argd, **{'run':run+1, 'progress':False, 'num_proc':1}} for run in range(num_runs)]\n",
    "#             odf=pd.concat(pmap(do_nbr, objs, num_proc=num_proc, desc='Computing neighborhoods across runs', progress=progress))\n",
    "#             with get_veclib(prefix,autocommit=True) as vl: vl[qstr]=odf\n",
    "#         if not cache_only and neighbors:\n",
    "#             neighbors=set(tokenize_fast(neighbors)) if type(neighbors)==str else set(neighbors)\n",
    "#             odf=odf.reset_index()\n",
    "#             odf=odf[odf.neighbor.isin(neighbors)]\n",
    "#             odf=odf.set_index(index_cols)\n",
    "        \n",
    "#         return odf if not cache_only else pd.DataFrame()\n",
    "            \n",
    "#     # otherwise\n",
    "\n",
    "#     # get?\n",
    "#     if type(run)==int: run=str(run).zfill(2)\n",
    "#     dfvecs=vecs(period=period, run=run)\n",
    "#     if dfvecs is None:\n",
    "#         print(wqstr,'!?')\n",
    "#         return pd.DataFrame()\n",
    "#     if not words: words=dfvecs.index\n",
    "#     words=set(words)\n",
    "#     if not word in words: return pd.DataFrame()    \n",
    "#     dfu=dfvecs.loc[word]\n",
    "#     if max_num and len(dfvecs)>max_num: dfvecs=dfvecs.iloc[:max_num]\n",
    "#     dfm=dfvecs.drop(word)\n",
    "#     res=fastdist.cosine_vector_to_matrix(\n",
    "#         dfu.values.astype(float),\n",
    "#         dfm.values.astype(float),\n",
    "#     )\n",
    "#     wdx=dict(\n",
    "#         (x,1-y)\n",
    "#         for x,y in zip(dfm.index, res)\n",
    "#     )\n",
    "#     wds=pd.Series(wdx)#.sort_values()\n",
    "#     wddf=pd.DataFrame(wds,columns=['nbr']).rename_axis('neighbor').sort_values('nbr')\n",
    "\n",
    "#     wddf=wddf.reset_index()\n",
    "#     wddf['word']=word\n",
    "#     wddf['period']=period\n",
    "#     wddf['run']=run\n",
    "#     wddf=wddf.set_index(index_cols)\n",
    "#     return wddf\n",
    "#     return pd.DataFrame()\n",
    "   \n",
    "\n",
    "\n",
    "\n"
   ]
  },
  {
   "cell_type": "code",
   "execution_count": null,
   "metadata": {},
   "outputs": [],
   "source": []
  },
  {
   "cell_type": "code",
   "execution_count": 19,
   "metadata": {},
   "outputs": [
    {
     "name": "stderr",
     "output_type": "stream",
     "text": [
      "Computing neighborhood: 100%|██████████| 48/48 [00:00<00:00, 54.81it/s]\n"
     ]
    }
   ],
   "source": [
    "dfnbr=to_nbr(dfc)"
   ]
  },
  {
   "cell_type": "code",
   "execution_count": 25,
   "metadata": {},
   "outputs": [
    {
     "data": {
      "text/html": [
       "<div>\n",
       "<style scoped>\n",
       "    .dataframe tbody tr th:only-of-type {\n",
       "        vertical-align: middle;\n",
       "    }\n",
       "\n",
       "    .dataframe tbody tr th {\n",
       "        vertical-align: top;\n",
       "    }\n",
       "\n",
       "    .dataframe thead th {\n",
       "        text-align: right;\n",
       "    }\n",
       "</style>\n",
       "<table border=\"1\" class=\"dataframe\">\n",
       "  <thead>\n",
       "    <tr style=\"text-align: right;\">\n",
       "      <th></th>\n",
       "      <th>period</th>\n",
       "      <th>neighbor</th>\n",
       "      <th>cdist</th>\n",
       "      <th>count</th>\n",
       "      <th>score</th>\n",
       "      <th>rank</th>\n",
       "    </tr>\n",
       "  </thead>\n",
       "  <tbody>\n",
       "    <tr>\n",
       "      <th>41199</th>\n",
       "      <td>1840-1845</td>\n",
       "      <td>wisdom</td>\n",
       "      <td>0.226419</td>\n",
       "      <td>10</td>\n",
       "      <td>9.977358</td>\n",
       "      <td>1</td>\n",
       "    </tr>\n",
       "    <tr>\n",
       "      <th>40004</th>\n",
       "      <td>1825-1830</td>\n",
       "      <td>wisdom</td>\n",
       "      <td>0.226866</td>\n",
       "      <td>10</td>\n",
       "      <td>9.977313</td>\n",
       "      <td>1</td>\n",
       "    </tr>\n",
       "    <tr>\n",
       "      <th>36938</th>\n",
       "      <td>1800-1805</td>\n",
       "      <td>wisdom</td>\n",
       "      <td>0.227134</td>\n",
       "      <td>10</td>\n",
       "      <td>9.977287</td>\n",
       "      <td>1</td>\n",
       "    </tr>\n",
       "    <tr>\n",
       "      <th>35893</th>\n",
       "      <td>1800-1805</td>\n",
       "      <td>virtuous</td>\n",
       "      <td>0.229836</td>\n",
       "      <td>10</td>\n",
       "      <td>9.977016</td>\n",
       "      <td>2</td>\n",
       "    </tr>\n",
       "    <tr>\n",
       "      <th>34127</th>\n",
       "      <td>1795-1800</td>\n",
       "      <td>virtuous</td>\n",
       "      <td>0.230758</td>\n",
       "      <td>10</td>\n",
       "      <td>9.976924</td>\n",
       "      <td>1</td>\n",
       "    </tr>\n",
       "    <tr>\n",
       "      <th>...</th>\n",
       "      <td>...</td>\n",
       "      <td>...</td>\n",
       "      <td>...</td>\n",
       "      <td>...</td>\n",
       "      <td>...</td>\n",
       "      <td>...</td>\n",
       "    </tr>\n",
       "    <tr>\n",
       "      <th>528</th>\n",
       "      <td>1725-1730</td>\n",
       "      <td>advantage</td>\n",
       "      <td>0.662187</td>\n",
       "      <td>10</td>\n",
       "      <td>9.933781</td>\n",
       "      <td>96</td>\n",
       "    </tr>\n",
       "    <tr>\n",
       "      <th>18385</th>\n",
       "      <td>1725-1730</td>\n",
       "      <td>lover</td>\n",
       "      <td>0.662554</td>\n",
       "      <td>10</td>\n",
       "      <td>9.933745</td>\n",
       "      <td>97</td>\n",
       "    </tr>\n",
       "    <tr>\n",
       "      <th>22595</th>\n",
       "      <td>1725-1730</td>\n",
       "      <td>pernicious</td>\n",
       "      <td>0.662954</td>\n",
       "      <td>10</td>\n",
       "      <td>9.933705</td>\n",
       "      <td>98</td>\n",
       "    </tr>\n",
       "    <tr>\n",
       "      <th>7422</th>\n",
       "      <td>1725-1730</td>\n",
       "      <td>cultivated</td>\n",
       "      <td>0.663067</td>\n",
       "      <td>10</td>\n",
       "      <td>9.933693</td>\n",
       "      <td>99</td>\n",
       "    </tr>\n",
       "    <tr>\n",
       "      <th>25851</th>\n",
       "      <td>1725-1730</td>\n",
       "      <td>revelation</td>\n",
       "      <td>0.663096</td>\n",
       "      <td>10</td>\n",
       "      <td>9.933690</td>\n",
       "      <td>100</td>\n",
       "    </tr>\n",
       "  </tbody>\n",
       "</table>\n",
       "<p>4800 rows × 6 columns</p>\n",
       "</div>"
      ],
      "text/plain": [
       "          period    neighbor     cdist  count     score  rank\n",
       "41199  1840-1845      wisdom  0.226419     10  9.977358     1\n",
       "40004  1825-1830      wisdom  0.226866     10  9.977313     1\n",
       "36938  1800-1805      wisdom  0.227134     10  9.977287     1\n",
       "35893  1800-1805    virtuous  0.229836     10  9.977016     2\n",
       "34127  1795-1800    virtuous  0.230758     10  9.976924     1\n",
       "...          ...         ...       ...    ...       ...   ...\n",
       "528    1725-1730   advantage  0.662187     10  9.933781    96\n",
       "18385  1725-1730       lover  0.662554     10  9.933745    97\n",
       "22595  1725-1730  pernicious  0.662954     10  9.933705    98\n",
       "7422   1725-1730  cultivated  0.663067     10  9.933693    99\n",
       "25851  1725-1730  revelation  0.663096     10  9.933690   100\n",
       "\n",
       "[4800 rows x 6 columns]"
      ]
     },
     "execution_count": 25,
     "metadata": {},
     "output_type": "execute_result"
    }
   ],
   "source": [
    "dfnbr[dfnbr['rank']<=100]"
   ]
  },
  {
   "cell_type": "code",
   "execution_count": null,
   "metadata": {},
   "outputs": [],
   "source": []
  },
  {
   "cell_type": "code",
   "execution_count": null,
   "metadata": {},
   "outputs": [],
   "source": []
  },
  {
   "cell_type": "code",
   "execution_count": null,
   "metadata": {},
   "outputs": [],
   "source": []
  },
  {
   "cell_type": "code",
   "execution_count": 18,
   "metadata": {},
   "outputs": [],
   "source": [
    "# def nbr() # @TODO"
   ]
  },
  {
   "cell_type": "code",
   "execution_count": 32,
   "metadata": {},
   "outputs": [],
   "source": [
    "dfc=cdist('culture','1780-1785',1)"
   ]
  },
  {
   "cell_type": "code",
   "execution_count": null,
   "metadata": {},
   "outputs": [],
   "source": []
  },
  {
   "cell_type": "code",
   "execution_count": null,
   "metadata": {},
   "outputs": [],
   "source": [
    "get_vecs('1740-1745_01')"
   ]
  },
  {
   "cell_type": "code",
   "execution_count": null,
   "metadata": {},
   "outputs": [],
   "source": [
    "# dbget('vecs(1720-1725_02)')"
   ]
  },
  {
   "cell_type": "code",
   "execution_count": null,
   "metadata": {},
   "outputs": [],
   "source": []
  },
  {
   "cell_type": "code",
   "execution_count": null,
   "metadata": {},
   "outputs": [],
   "source": [
    "vl=get_veclib('vecs')"
   ]
  },
  {
   "cell_type": "code",
   "execution_count": null,
   "metadata": {},
   "outputs": [],
   "source": [
    "for k in vl:\n",
    "    print(k)\n",
    "    break"
   ]
  },
  {
   "cell_type": "code",
   "execution_count": null,
   "metadata": {},
   "outputs": [],
   "source": [
    "f"
   ]
  },
  {
   "cell_type": "markdown",
   "metadata": {},
   "source": [
    "## Gen data"
   ]
  },
  {
   "cell_type": "code",
   "execution_count": null,
   "metadata": {},
   "outputs": [],
   "source": [
    "gen_neighbors('virtue,value,station,culture,integrity')"
   ]
  },
  {
   "cell_type": "code",
   "execution_count": null,
   "metadata": {},
   "outputs": [],
   "source": []
  },
  {
   "cell_type": "code",
   "execution_count": null,
   "metadata": {},
   "outputs": [],
   "source": [
    "dbget('nbr(culture)')"
   ]
  },
  {
   "cell_type": "code",
   "execution_count": null,
   "metadata": {},
   "outputs": [],
   "source": [
    "# dbget('lsn(culture_1925-1930_bpo,culture_1940_1945_bpo,k=25)')"
   ]
  },
  {
   "cell_type": "code",
   "execution_count": null,
   "metadata": {},
   "outputs": [],
   "source": []
  },
  {
   "cell_type": "code",
   "execution_count": null,
   "metadata": {},
   "outputs": [],
   "source": []
  },
  {
   "cell_type": "code",
   "execution_count": null,
   "metadata": {},
   "outputs": [],
   "source": []
  },
  {
   "cell_type": "code",
   "execution_count": null,
   "metadata": {},
   "outputs": [],
   "source": []
  },
  {
   "cell_type": "code",
   "execution_count": null,
   "metadata": {},
   "outputs": [],
   "source": []
  },
  {
   "cell_type": "code",
   "execution_count": null,
   "metadata": {},
   "outputs": [],
   "source": [
    "dfmodels = get_pathdf_models(period_len=5).query('run<=\"run_10\" & period_start>=1720')\n",
    "for i,grp in dfmodels.groupby(['corpus','period']): pass\n",
    "grp"
   ]
  },
  {
   "cell_type": "code",
   "execution_count": null,
   "metadata": {},
   "outputs": [],
   "source": [
    "odf=do_gen_neighbs(grp,progress=True)\n",
    "odf[odf.word=='value']"
   ]
  },
  {
   "cell_type": "code",
   "execution_count": null,
   "metadata": {},
   "outputs": [],
   "source": [
    "dfneighbs = gen_all_neighbors(lim=None,force=1)\n",
    "dfneighbs"
   ]
  },
  {
   "cell_type": "markdown",
   "metadata": {},
   "source": [
    "## Load data"
   ]
  },
  {
   "cell_type": "code",
   "execution_count": null,
   "metadata": {},
   "outputs": [],
   "source": [
    "dfneighbs = get_all_neighbors()\n",
    "dfneighbs"
   ]
  },
  {
   "cell_type": "code",
   "execution_count": null,
   "metadata": {},
   "outputs": [],
   "source": []
  },
  {
   "cell_type": "code",
   "execution_count": null,
   "metadata": {},
   "outputs": [],
   "source": [
    "dfneighbstr=get_all_neighbors_strsummary(force=True)\n",
    "dfneighbstr"
   ]
  },
  {
   "cell_type": "code",
   "execution_count": null,
   "metadata": {},
   "outputs": [],
   "source": [
    "dfneighbstr.loc['culture']"
   ]
  },
  {
   "cell_type": "code",
   "execution_count": null,
   "metadata": {},
   "outputs": [],
   "source": [
    "dfneighbstr.loc['history']"
   ]
  },
  {
   "cell_type": "code",
   "execution_count": null,
   "metadata": {},
   "outputs": [],
   "source": []
  }
 ],
 "metadata": {
  "kernelspec": {
   "display_name": "Python 3",
   "language": "python",
   "name": "python3"
  },
  "language_info": {
   "codemirror_mode": {
    "name": "ipython",
    "version": 3
   },
   "file_extension": ".py",
   "mimetype": "text/x-python",
   "name": "python",
   "nbconvert_exporter": "python",
   "pygments_lexer": "ipython3",
   "version": "3.7.7"
  },
  "widgets": {
   "application/vnd.jupyter.widget-state+json": {
    "state": {},
    "version_major": 2,
    "version_minor": 0
   }
  }
 },
 "nbformat": 4,
 "nbformat_minor": 4
}
