{
 "cells": [
  {
   "cell_type": "markdown",
   "metadata": {},
   "source": [
    "# Databases"
   ]
  },
  {
   "cell_type": "code",
   "execution_count": 1,
   "metadata": {},
   "outputs": [
    {
     "name": "stderr",
     "output_type": "stream",
     "text": [
      "[Koselleck] (11:03:11) Alles bereit (+0.0s)\n"
     ]
    }
   ],
   "source": [
    "from ipynb.fs.full.koselleck import *"
   ]
  },
  {
   "cell_type": "markdown",
   "metadata": {},
   "source": [
    "## \"Vector library\""
   ]
  },
  {
   "cell_type": "code",
   "execution_count": 2,
   "metadata": {},
   "outputs": [],
   "source": [
    "# Use sqlite dictionary\n",
    "def get_veclib(prefix,folders=[],autocommit=False):\n",
    "    o=[PATH_DB] + folders + [f'db.koselleck.{prefix}.sqlite']\n",
    "    ofnfn=os.path.join(*o)\n",
    "    with SqliteDict(\n",
    "            ofnfn,\n",
    "            tablename=prefix,\n",
    "            autocommit=autocommit) as vl:\n",
    "        return vl"
   ]
  },
  {
   "cell_type": "code",
   "execution_count": null,
   "metadata": {},
   "outputs": [],
   "source": []
  },
  {
   "cell_type": "code",
   "execution_count": 3,
   "metadata": {},
   "outputs": [],
   "source": [
    "# with get_veclib('test') as vl:\n",
    "#     vl['test']={'a':1, 'b':[1,2,3]}"
   ]
  },
  {
   "cell_type": "code",
   "execution_count": 4,
   "metadata": {},
   "outputs": [],
   "source": [
    "# with get_veclib('test') as vl:\n",
    "#     print(vl['test'])"
   ]
  },
  {
   "cell_type": "markdown",
   "metadata": {},
   "source": [
    "### For words"
   ]
  },
  {
   "cell_type": "code",
   "execution_count": 5,
   "metadata": {},
   "outputs": [],
   "source": [
    "def get_old_veclib_word_data_path(word):\n",
    "    return os.path.join(PATH_DB,'wvecs',f'db.koselleck.{word}.sqlite')"
   ]
  },
  {
   "cell_type": "code",
   "execution_count": 6,
   "metadata": {},
   "outputs": [
    {
     "data": {
      "text/plain": [
       "'/home/ryan/github/koselleck/db/wvecs/db.koselleck.virtue.sqlite'"
      ]
     },
     "execution_count": 6,
     "metadata": {},
     "output_type": "execute_result"
    }
   ],
   "source": [
    "get_old_veclib_word_data_path('virtue')"
   ]
  },
  {
   "cell_type": "code",
   "execution_count": 7,
   "metadata": {},
   "outputs": [],
   "source": [
    "def get_veclib_word(word,autocommit=False):\n",
    "    return get_veclib(word,folders=['wvecs'],autocommit=autocommit)"
   ]
  },
  {
   "cell_type": "code",
   "execution_count": 8,
   "metadata": {},
   "outputs": [
    {
     "name": "stderr",
     "output_type": "stream",
     "text": [
      "[Koselleck] (11:03:13) the           1.802881\n",
      "of            1.828824\n",
      "to            1.967362\n",
      "and           1.651759\n",
      "in            2.057616\n",
      "                ...   \n",
      "hempen        1.837815\n",
      "thanked       2.099394\n",
      "eleanor       2.316896\n",
      "bland's       2.591566\n",
      "accomplish    1.603269\n",
      "Name: virtue, Length: 10000, dtype: float64 (+2.2s)\n"
     ]
    }
   ],
   "source": [
    "with get_veclib_word('virtue') as vl: print(vl['1720-1725_01'])"
   ]
  },
  {
   "cell_type": "code",
   "execution_count": null,
   "metadata": {},
   "outputs": [],
   "source": []
  }
 ],
 "metadata": {
  "kernelspec": {
   "display_name": "Python 3",
   "language": "python",
   "name": "python3"
  },
  "language_info": {
   "codemirror_mode": {
    "name": "ipython",
    "version": 3
   },
   "file_extension": ".py",
   "mimetype": "text/x-python",
   "name": "python",
   "nbconvert_exporter": "python",
   "pygments_lexer": "ipython3",
   "version": "3.8.5"
  },
  "widgets": {
   "application/vnd.jupyter.widget-state+json": {
    "state": {},
    "version_major": 2,
    "version_minor": 0
   }
  }
 },
 "nbformat": 4,
 "nbformat_minor": 4
}
