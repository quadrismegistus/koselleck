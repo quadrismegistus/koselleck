{
 "cells": [
  {
   "cell_type": "markdown",
   "metadata": {},
   "source": [
    "# Vectors"
   ]
  },
  {
   "cell_type": "code",
   "execution_count": 2,
   "metadata": {},
   "outputs": [],
   "source": [
    "from ipynb.fs.full.koselleck import *"
   ]
  },
  {
   "cell_type": "code",
   "execution_count": 5,
   "metadata": {},
   "outputs": [
    {
     "name": "stderr",
     "output_type": "stream",
     "text": [
      "Scanning directory for models: 3945it [00:00, 34445.03it/s]\n"
     ]
    }
   ],
   "source": [
    "dfmodels=get_pathdf_models(period_len=20)\n",
    "# dfmodels"
   ]
  },
  {
   "cell_type": "code",
   "execution_count": 19,
   "metadata": {},
   "outputs": [],
   "source": [
    "def do_ingest_vecs(row,only_valid_words=True):\n",
    "    mpath=row.path\n",
    "    m=load_model(mpath)\n",
    "    data=m.wv.vectors\n",
    "    keys=[m.wv.index_to_key[i] for i in range(len(data))]\n",
    "    res=pd.DataFrame(data, index=keys)\n",
    "    if only_valid_words:\n",
    "        vwords=set(get_valid_words())\n",
    "        res=res.loc[set(res.index) & vwords]\n",
    "    return res\n"
   ]
  },
  {
   "cell_type": "code",
   "execution_count": 20,
   "metadata": {},
   "outputs": [],
   "source": [
    "# do_ingest_vecs(dfmodels.iloc[0])"
   ]
  },
  {
   "cell_type": "code",
   "execution_count": 6,
   "metadata": {},
   "outputs": [],
   "source": [
    "\n",
    "def ingest_vecs(dfmodels=None, only_valid_words=True,num_proc=1,force=False):\n",
    "    if dfmodels is None:\n",
    "        dfmodels_all = get_pathdf_models(period_len=None)\n",
    "        dfmodels=dfmodels_all[dfmodels_all.period_len.isin(PERIOD_LENS)].query(f'run_int<={MAX_RUNS}')\n",
    "        # dfmodels\n",
    "    dfmodels['run_int'] = dfmodels['run'].apply(lambda x: int(x.split('_')[-1]))\n",
    "    with get_db('vecs',mode='a') as db:\n",
    "        df=dfmodels.assign(qstr=[\n",
    "            f'{row.corpus}/{row.period}/{row.run_int}'\n",
    "            for i,row in dfmodels.iterrows()\n",
    "        ])\n",
    "        done=set(db.keys())\n",
    "        if not force: df=df[~df.qstr.isin(done)]\n",
    "        objs=[row for i,row in df.iterrows()]\n",
    "        iterr=pmap_iter(do_ingest_vecs, objs, num_proc=num_proc)\n",
    "        for i,(row,qdf) in enumerate(zip(objs,iterr)):\n",
    "            db[row.qstr]=qdf\n",
    "            if i and not i%10: db.commit()\n",
    "        db.commit()"
   ]
  },
  {
   "cell_type": "code",
   "execution_count": 22,
   "metadata": {},
   "outputs": [],
   "source": [
    "ingest_vecs(dfmodels,num_proc=4)"
   ]
  },
  {
   "cell_type": "code",
   "execution_count": null,
   "metadata": {},
   "outputs": [],
   "source": []
  },
  {
   "cell_type": "code",
   "execution_count": 23,
   "metadata": {},
   "outputs": [],
   "source": [
    "def vecs(period,run=1,corpus=DEFAULT_CORPUS):\n",
    "    qstr=f'/vecs/{corpus}/{period}/{run}'\n",
    "    return dbget(qstr,pd.DataFrame())"
   ]
  },
  {
   "cell_type": "code",
   "execution_count": 25,
   "metadata": {},
   "outputs": [],
   "source": [
    "# vecs('1920-1925')"
   ]
  },
  {
   "cell_type": "code",
   "execution_count": null,
   "metadata": {},
   "outputs": [],
   "source": []
  }
 ],
 "metadata": {
  "kernelspec": {
   "display_name": "Python 3",
   "language": "python",
   "name": "python3"
  },
  "language_info": {
   "codemirror_mode": {
    "name": "ipython",
    "version": 3
   },
   "file_extension": ".py",
   "mimetype": "text/x-python",
   "name": "python",
   "nbconvert_exporter": "python",
   "pygments_lexer": "ipython3",
   "version": "3.8.5"
  },
  "toc": {
   "base_numbering": 1,
   "nav_menu": {},
   "number_sections": false,
   "sideBar": false,
   "skip_h1_title": false,
   "title_cell": "Table of Contents",
   "title_sidebar": "Contents",
   "toc_cell": false,
   "toc_position": {},
   "toc_section_display": false,
   "toc_window_display": false
  },
  "widgets": {
   "application/vnd.jupyter.widget-state+json": {
    "state": {},
    "version_major": 2,
    "version_minor": 0
   }
  }
 },
 "nbformat": 4,
 "nbformat_minor": 4
}
