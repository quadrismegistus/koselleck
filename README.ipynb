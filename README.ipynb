{
 "cells": [
  {
   "cell_type": "markdown",
   "metadata": {},
   "source": [
    "# koselleck\n",
    "Computing Koselleck book chapter\n",
    "\n",
    "\n",
    "## Workflow\n",
    "\n",
    "### 1. [Models](koselleck/models.ipynb): Generate word embedding models\n",
    "\n",
    "#### a. Generate skipgrams\n",
    "\n",
    "* Done with LLTK elsewhere\n",
    "\n",
    "#### b. Generate models\n",
    "\n",
    "```python\n",
    "def gen_models(\n",
    "        ybin=5,\n",
    "        ymin=1680,\n",
    "        ymax=1970,\n",
    "        num_runs=1,\n",
    "        force=False,\n",
    "        nskip_per_yr=NSKIP_PER_YR\n",
    "    )\n",
    "```\n",
    "\n",
    "* Prominent divisions:\n",
    "    * Half-decade: Used for semantic distance matrices and novelty data\n",
    "    * 20-Years: Used for one version of the neighborhood plots\n",
    "    * 40-years: used for another neighborhood plots\n",
    "\n",
    "### 2. [Vecs](koselleck/vecs.ipynb): Saving vector spaces to db\n",
    "\n",
    "* Function for loading and caching vectors:\n",
    "\n",
    "```python\n",
    "def vecs(period,run=1,corpus=DEFAULT_CORPUS,words=[]):\n",
    "    qstr=get_vec_qstr(period,run)\n",
    "    res=None\n",
    "    with get_veclib('vecs',autocommit=False) as vl:\n",
    "        if qstr in vl:\n",
    "            res=vl[qstr]\n",
    "        else:\n",
    "            mpath=os.path.join(PATH_MODELS,corpus,period,f'run_{run:02}','model.bin')\n",
    "            m=load_model(mpath)\n",
    "            data=m.wv.vectors\n",
    "            keys=[m.wv.index_to_key[i] for i in range(len(data))]\n",
    "            res=pd.DataFrame(data, index=keys)\n",
    "            vl[qstr]=res\n",
    "            vl.commit()            \n",
    "        if words: res=res.loc[[i for i in res.index if i in set(words)]]\n",
    "    return res\n",
    "```\n",
    "\n",
    "### 3. [Distvecs](koselleck/distvecs.ipynb): Producing within-model distances for given words"
   ]
  },
  {
   "cell_type": "code",
   "execution_count": null,
   "metadata": {},
   "outputs": [],
   "source": []
  },
  {
   "cell_type": "code",
   "execution_count": null,
   "metadata": {},
   "outputs": [],
   "source": []
  },
  {
   "cell_type": "code",
   "execution_count": null,
   "metadata": {},
   "outputs": [],
   "source": []
  }
 ],
 "metadata": {
  "kernelspec": {
   "display_name": "Python 3",
   "language": "python",
   "name": "python3"
  },
  "language_info": {
   "codemirror_mode": {
    "name": "ipython",
    "version": 3
   },
   "file_extension": ".py",
   "mimetype": "text/x-python",
   "name": "python",
   "nbconvert_exporter": "python",
   "pygments_lexer": "ipython3",
   "version": "3.7.7"
  },
  "widgets": {
   "application/vnd.jupyter.widget-state+json": {
    "state": {},
    "version_major": 2,
    "version_minor": 0
   }
  }
 },
 "nbformat": 4,
 "nbformat_minor": 4
}
