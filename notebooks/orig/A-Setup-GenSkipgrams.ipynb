{
 "cells": [
  {
   "cell_type": "markdown",
   "metadata": {},
   "source": [
    "# BPO"
   ]
  },
  {
   "cell_type": "code",
   "execution_count": 1,
   "metadata": {},
   "outputs": [],
   "source": [
    "from koselleck import *"
   ]
  },
  {
   "cell_type": "code",
   "execution_count": 2,
   "metadata": {},
   "outputs": [
    {
     "data": {
      "text/html": [
       "<div>\n",
       "<style scoped>\n",
       "    .dataframe tbody tr th:only-of-type {\n",
       "        vertical-align: middle;\n",
       "    }\n",
       "\n",
       "    .dataframe tbody tr th {\n",
       "        vertical-align: top;\n",
       "    }\n",
       "\n",
       "    .dataframe thead th {\n",
       "        text-align: right;\n",
       "    }\n",
       "</style>\n",
       "<table border=\"1\" class=\"dataframe\">\n",
       "  <thead>\n",
       "    <tr style=\"text-align: right;\">\n",
       "      <th></th>\n",
       "      <th>i_para</th>\n",
       "      <th>i_sent</th>\n",
       "      <th>i_word</th>\n",
       "      <th>tok</th>\n",
       "      <th>tokl</th>\n",
       "      <th>tokl_mod</th>\n",
       "      <th>tokl_ocr</th>\n",
       "      <th>is_punct</th>\n",
       "      <th>is_recog</th>\n",
       "      <th>is_stopword</th>\n",
       "    </tr>\n",
       "    <tr>\n",
       "      <th>i_tok</th>\n",
       "      <th></th>\n",
       "      <th></th>\n",
       "      <th></th>\n",
       "      <th></th>\n",
       "      <th></th>\n",
       "      <th></th>\n",
       "      <th></th>\n",
       "      <th></th>\n",
       "      <th></th>\n",
       "      <th></th>\n",
       "    </tr>\n",
       "  </thead>\n",
       "  <tbody>\n",
       "    <tr>\n",
       "      <th>0</th>\n",
       "      <td>0</td>\n",
       "      <td>0</td>\n",
       "      <td>0</td>\n",
       "      <td>Tbe</td>\n",
       "      <td>tbe</td>\n",
       "      <td>tbe</td>\n",
       "      <td>the</td>\n",
       "      <td>0</td>\n",
       "      <td>1</td>\n",
       "      <td>0</td>\n",
       "    </tr>\n",
       "    <tr>\n",
       "      <th>1</th>\n",
       "      <td>0</td>\n",
       "      <td>0</td>\n",
       "      <td>0</td>\n",
       "      <td></td>\n",
       "      <td></td>\n",
       "      <td></td>\n",
       "      <td></td>\n",
       "      <td>1</td>\n",
       "      <td>0</td>\n",
       "      <td>0</td>\n",
       "    </tr>\n",
       "    <tr>\n",
       "      <th>2</th>\n",
       "      <td>0</td>\n",
       "      <td>0</td>\n",
       "      <td>1</td>\n",
       "      <td>Hiftory</td>\n",
       "      <td>hiftory</td>\n",
       "      <td>hiftory</td>\n",
       "      <td>history</td>\n",
       "      <td>0</td>\n",
       "      <td>1</td>\n",
       "      <td>0</td>\n",
       "    </tr>\n",
       "  </tbody>\n",
       "</table>\n",
       "</div>"
      ],
      "text/plain": [
       "       i_para  i_sent  i_word      tok     tokl tokl_mod tokl_ocr  is_punct  \\\n",
       "i_tok                                                                         \n",
       "0           0       0       0      Tbe      tbe      tbe      the         0   \n",
       "1           0       0       0                                             1   \n",
       "2           0       0       1  Hiftory  hiftory  hiftory  history         0   \n",
       "\n",
       "       is_recog  is_stopword  \n",
       "i_tok                         \n",
       "0             1            0  \n",
       "1             0            0  \n",
       "2             1            0  "
      ]
     },
     "execution_count": 2,
     "metadata": {},
     "output_type": "execute_result"
    }
   ],
   "source": [
    "to_sents('Tbe Hiftory',correct_ocr=True)"
   ]
  },
  {
   "cell_type": "code",
   "execution_count": 3,
   "metadata": {},
   "outputs": [],
   "source": [
    "# get_wordlist??"
   ]
  },
  {
   "cell_type": "code",
   "execution_count": 39,
   "metadata": {},
   "outputs": [],
   "source": [
    "def iter_skipgrams(path_txt, n=25,max_len_char=1000000,max_yield=10000):\n",
    "    try:\n",
    "        if os.path.exists(path_txt):\n",
    "            with open(path_txt) as f:\n",
    "                txt=''.join(ln for ln in f if not ln.startswith('#'))\n",
    "        else:\n",
    "            txt=path_txt\n",
    "        txt=fix_text(txt[:max_len_char])\n",
    "        df=to_sents(txt)\n",
    "        df=df[df.is_recog==True]\n",
    "        df=df[df.is_punct==False]\n",
    "        df['i_psg']=divide_by_sent_windows(df,nmin=n)\n",
    "        done=0\n",
    "        for ipsg,ipsgdf in df.groupby('i_psg'):\n",
    "            if ipsgdf.is_recog.sum()>=n:\n",
    "                yield ' '.join(ipsgdf.tokl_ocr).replace('  ',' ')\n",
    "                done+=1\n",
    "                if done>=max_yield: break\n",
    "    except Exception:\n",
    "        pass"
   ]
  },
  {
   "cell_type": "code",
   "execution_count": 40,
   "metadata": {},
   "outputs": [
    {
     "data": {
      "text/plain": [
       "'three books for the english teacher dr manual of english prosody published by messrs macmillan will be found useful to those who believe that children should be led to appreciate the music of poetry'"
      ]
     },
     "execution_count": 40,
     "metadata": {},
     "output_type": "execute_result"
    }
   ],
   "source": [
    "next(iter_skipgrams(C.t.path_txt))"
   ]
  },
  {
   "cell_type": "code",
   "execution_count": 41,
   "metadata": {},
   "outputs": [],
   "source": [
    "# next(iter_skipgrams('The hiftory of fable'))"
   ]
  },
  {
   "cell_type": "code",
   "execution_count": 42,
   "metadata": {},
   "outputs": [],
   "source": [
    "def get_skipgrams(*x,**y): return list(iter_skipgrams(*x,**y))"
   ]
  },
  {
   "cell_type": "code",
   "execution_count": 43,
   "metadata": {},
   "outputs": [],
   "source": [
    "# get_skipgrams(C.meta.path_txt[0])"
   ]
  },
  {
   "cell_type": "code",
   "execution_count": 44,
   "metadata": {},
   "outputs": [],
   "source": [
    "def iter_skipgrams_paths(paths_txt,num_proc=1,**attrs):\n",
    "    for skips in pmap_iter(\n",
    "        get_skipgrams,\n",
    "        paths_txt,\n",
    "        num_proc=num_proc,\n",
    "        **attrs\n",
    "    ):\n",
    "        yield from skips"
   ]
  },
  {
   "cell_type": "code",
   "execution_count": 45,
   "metadata": {},
   "outputs": [
    {
     "name": "stderr",
     "output_type": "stream",
     "text": [
      "Mapping get_skipgrams() [x1]:   0%|          | 0/50449 [00:01<?, ?it/s]\n"
     ]
    },
    {
     "data": {
      "text/plain": [
       "'ana juice or umpire grapes is british vermouth and wine of which we can all be justly proud inspiration to the creation of good vermouth belongs special flair'"
      ]
     },
     "execution_count": 45,
     "metadata": {},
     "output_type": "execute_result"
    }
   ],
   "source": [
    "next(iter_skipgrams_paths(C.meta.path_txt))"
   ]
  },
  {
   "cell_type": "code",
   "execution_count": 46,
   "metadata": {},
   "outputs": [],
   "source": [
    "def periodize(y):\n",
    "    if 1700<=y<1770: return '1700-1770'\n",
    "    if 1770<=y<1830: return '1770-1830'\n",
    "    if 1830<=y<1900: return '1830-1900'\n",
    "    "
   ]
  },
  {
   "cell_type": "code",
   "execution_count": 48,
   "metadata": {},
   "outputs": [],
   "source": [
    "def do_gen_skipgrams_periods(pdf,num_proc=1):\n",
    "    period=pdf.period[0]\n",
    "    ofn=os.path.join(PATH_SKIPGRAMS_YR,f'data.skipgrams.bpo.{period}.txt')\n",
    "    if os.path.exists(ofn): return pd.DataFrame()\n",
    "    with open(ofn,'w') as of:\n",
    "        for skp in iter_skipgrams_paths(pdf.sample(frac=1).path_txt, num_proc=num_proc, progress=False, desc=f'Saving {os.path.basename(ofn)}'):\n",
    "            if skp:\n",
    "                of.write(skp+'\\n')\n",
    "    return pd.DataFrame()\n",
    "\n",
    "def gen_skipgrams_periods(meta,num_proc=1,**y):\n",
    "    meta=meta.query('1680<=year<1980')\n",
    "    meta['period']=meta.year//1*1\n",
    "    pmap_groups(do_gen_skipgrams_periods, meta.groupby('period'), num_proc=num_proc, desc='Saving skipgrams', **y)"
   ]
  },
  {
   "cell_type": "code",
   "execution_count": null,
   "metadata": {},
   "outputs": [
    {
     "name": "stderr",
     "output_type": "stream",
     "text": [
      "Saving skipgrams [x7]:  92%|█████████▏| 266/289 [5:07:00<05:14, 13.68s/it]   "
     ]
    }
   ],
   "source": [
    "gen_skipgrams_periods(C.meta, num_proc=7)"
   ]
  },
  {
   "cell_type": "code",
   "execution_count": null,
   "metadata": {},
   "outputs": [],
   "source": []
  }
 ],
 "metadata": {
  "kernelspec": {
   "display_name": "Python 3",
   "language": "python",
   "name": "python3"
  },
  "language_info": {
   "codemirror_mode": {
    "name": "ipython",
    "version": 3
   },
   "file_extension": ".py",
   "mimetype": "text/x-python",
   "name": "python",
   "nbconvert_exporter": "python",
   "pygments_lexer": "ipython3",
   "version": "3.7.7"
  },
  "widgets": {
   "application/vnd.jupyter.widget-state+json": {
    "state": {},
    "version_major": 2,
    "version_minor": 0
   }
  }
 },
 "nbformat": 4,
 "nbformat_minor": 4
}
