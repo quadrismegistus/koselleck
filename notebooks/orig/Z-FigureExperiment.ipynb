{
 "cells": [
  {
   "cell_type": "code",
   "execution_count": 1,
   "metadata": {},
   "outputs": [],
   "source": [
    "from koselleck import *"
   ]
  },
  {
   "cell_type": "code",
   "execution_count": 2,
   "metadata": {},
   "outputs": [],
   "source": [
    "vectors = get_vector_names()\n",
    "dfchange = get_dfchange().dropna()\n",
    "dfchange = dfchange[dfchange.is_clean_noiseaware==True]\n",
    "# dfchange"
   ]
  },
  {
   "cell_type": "code",
   "execution_count": 3,
   "metadata": {},
   "outputs": [
    {
     "data": {
      "application/vnd.jupyter.widget-view+json": {
       "model_id": "d2d8cf669cd34e2da63a2b9535d99219",
       "version_major": 2,
       "version_minor": 0
      },
      "text/plain": [
       "interactive(children=(Text(value='value', description='w'), IntSlider(value=1, description='rolling', max=5, m…"
      ]
     },
     "metadata": {},
     "output_type": "display_data"
    }
   ],
   "source": [
    "iplot_word_info(w='value')"
   ]
  },
  {
   "cell_type": "code",
   "execution_count": 4,
   "metadata": {},
   "outputs": [
    {
     "data": {
      "application/vnd.jupyter.widget-view+json": {
       "model_id": "784ae42b692e44bbacd84a0982ff92f9",
       "version_major": 2,
       "version_minor": 0
      },
      "text/plain": [
       "interactive(children=(Dropdown(description='vec', index=2, options=('Abs-Conc.Median', 'Active-Passive.HGI', '…"
      ]
     },
     "metadata": {},
     "output_type": "display_data"
    },
    {
     "data": {
      "text/plain": [
       "<function __main__.show_top(vec='Ambig.NX', sby='mean_diff_t')>"
      ]
     },
     "execution_count": 4,
     "metadata": {},
     "output_type": "execute_result"
    }
   ],
   "source": [
    "words_ever_abs=get_words_ever_abs()\n",
    "def show_top(vec='Ambig.NX',sby='mean_diff_t'):\n",
    "    pd.options.display.max_rows=25\n",
    "    vdf=dfchange[[c for c in dfchange.columns if c.endswith(vec)]]\n",
    "    vdf.columns=[c[:-(len(vec)+1)] for c in vdf.columns]\n",
    "    vdf=vdf.loc[words_ever_abs & set(vdf.index)]\n",
    "    vdf=vdf.sort_values(sby,ascending=False)\n",
    "    printm('### '+vec)\n",
    "    printm(f'* **+{vec.split(\"-\")[-1].split(\".\")[0]}**: '+ ', '.join(vdf.iloc[:100].index))\n",
    "    printm(f'* **+{vec.split(\"-\")[0].split(\".\")[0]}**: '+ ', '.join(vdf.sort_values(sby,ascending=True).iloc[:100].index))\n",
    "    return vdf\n",
    "\n",
    "interact(show_top, vec=sorted(vectors), sby=['mean1','mean2','mean_diff','mean_diff_t','mean_diff_t_abs'])"
   ]
  },
  {
   "cell_type": "code",
   "execution_count": 5,
   "metadata": {},
   "outputs": [],
   "source": [
    "# list(dfchange.columns)"
   ]
  },
  {
   "cell_type": "code",
   "execution_count": null,
   "metadata": {},
   "outputs": [],
   "source": []
  }
 ],
 "metadata": {
  "kernelspec": {
   "display_name": "Python 3",
   "language": "python",
   "name": "python3"
  },
  "language_info": {
   "codemirror_mode": {
    "name": "ipython",
    "version": 3
   },
   "file_extension": ".py",
   "mimetype": "text/x-python",
   "name": "python",
   "nbconvert_exporter": "python",
   "pygments_lexer": "ipython3",
   "version": "3.7.7"
  },
  "widgets": {
   "application/vnd.jupyter.widget-state+json": {
    "state": {},
    "version_major": 2,
    "version_minor": 0
   }
  }
 },
 "nbformat": 4,
 "nbformat_minor": 4
}
