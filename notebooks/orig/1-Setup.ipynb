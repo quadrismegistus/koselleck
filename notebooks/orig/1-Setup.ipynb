{
 "cells": [
  {
   "cell_type": "markdown",
   "metadata": {},
   "source": [
    "# Computing Koselleck"
   ]
  },
  {
   "cell_type": "code",
   "execution_count": 1,
   "metadata": {},
   "outputs": [],
   "source": [
    "from koselleck import *"
   ]
  },
  {
   "cell_type": "code",
   "execution_count": 6,
   "metadata": {},
   "outputs": [
    {
     "data": {
      "text/html": [
       "<div>\n",
       "<style scoped>\n",
       "    .dataframe tbody tr th:only-of-type {\n",
       "        vertical-align: middle;\n",
       "    }\n",
       "\n",
       "    .dataframe tbody tr th {\n",
       "        vertical-align: top;\n",
       "    }\n",
       "\n",
       "    .dataframe thead th {\n",
       "        text-align: right;\n",
       "    }\n",
       "</style>\n",
       "<table border=\"1\" class=\"dataframe\">\n",
       "  <thead>\n",
       "    <tr style=\"text-align: right;\">\n",
       "      <th></th>\n",
       "      <th>corpus</th>\n",
       "      <th>period_start</th>\n",
       "      <th>period_end</th>\n",
       "      <th>path</th>\n",
       "      <th>path_vocab</th>\n",
       "      <th>run</th>\n",
       "    </tr>\n",
       "  </thead>\n",
       "  <tbody>\n",
       "    <tr>\n",
       "      <th>0</th>\n",
       "      <td>bpo</td>\n",
       "      <td>1830</td>\n",
       "      <td>1840</td>\n",
       "      <td>/home/ryan/DH/data/models/bpo/1830-1840/run_17...</td>\n",
       "      <td>/home/ryan/DH/data/models/bpo/1830-1840/run_17...</td>\n",
       "      <td>run_17</td>\n",
       "    </tr>\n",
       "    <tr>\n",
       "      <th>1</th>\n",
       "      <td>bpo</td>\n",
       "      <td>1830</td>\n",
       "      <td>1840</td>\n",
       "      <td>/home/ryan/DH/data/models/bpo/1830-1840/run_20...</td>\n",
       "      <td>/home/ryan/DH/data/models/bpo/1830-1840/run_20...</td>\n",
       "      <td>run_20</td>\n",
       "    </tr>\n",
       "    <tr>\n",
       "      <th>2</th>\n",
       "      <td>bpo</td>\n",
       "      <td>1830</td>\n",
       "      <td>1840</td>\n",
       "      <td>/home/ryan/DH/data/models/bpo/1830-1840/run_24...</td>\n",
       "      <td>/home/ryan/DH/data/models/bpo/1830-1840/run_24...</td>\n",
       "      <td>run_24</td>\n",
       "    </tr>\n",
       "    <tr>\n",
       "      <th>3</th>\n",
       "      <td>bpo</td>\n",
       "      <td>1830</td>\n",
       "      <td>1840</td>\n",
       "      <td>/home/ryan/DH/data/models/bpo/1830-1840/run_09...</td>\n",
       "      <td>/home/ryan/DH/data/models/bpo/1830-1840/run_09...</td>\n",
       "      <td>run_09</td>\n",
       "    </tr>\n",
       "    <tr>\n",
       "      <th>4</th>\n",
       "      <td>bpo</td>\n",
       "      <td>1830</td>\n",
       "      <td>1840</td>\n",
       "      <td>/home/ryan/DH/data/models/bpo/1830-1840/run_14...</td>\n",
       "      <td>/home/ryan/DH/data/models/bpo/1830-1840/run_14...</td>\n",
       "      <td>run_14</td>\n",
       "    </tr>\n",
       "    <tr>\n",
       "      <th>...</th>\n",
       "      <td>...</td>\n",
       "      <td>...</td>\n",
       "      <td>...</td>\n",
       "      <td>...</td>\n",
       "      <td>...</td>\n",
       "      <td>...</td>\n",
       "    </tr>\n",
       "    <tr>\n",
       "      <th>545</th>\n",
       "      <td>bpo</td>\n",
       "      <td>1880</td>\n",
       "      <td>1890</td>\n",
       "      <td>/home/ryan/DH/data/models/bpo/1880-1890/run_19...</td>\n",
       "      <td>/home/ryan/DH/data/models/bpo/1880-1890/run_19...</td>\n",
       "      <td>run_19</td>\n",
       "    </tr>\n",
       "    <tr>\n",
       "      <th>546</th>\n",
       "      <td>bpo</td>\n",
       "      <td>1880</td>\n",
       "      <td>1890</td>\n",
       "      <td>/home/ryan/DH/data/models/bpo/1880-1890/run_15...</td>\n",
       "      <td>/home/ryan/DH/data/models/bpo/1880-1890/run_15...</td>\n",
       "      <td>run_15</td>\n",
       "    </tr>\n",
       "    <tr>\n",
       "      <th>547</th>\n",
       "      <td>bpo</td>\n",
       "      <td>1880</td>\n",
       "      <td>1890</td>\n",
       "      <td>/home/ryan/DH/data/models/bpo/1880-1890/run_10...</td>\n",
       "      <td>/home/ryan/DH/data/models/bpo/1880-1890/run_10...</td>\n",
       "      <td>run_10</td>\n",
       "    </tr>\n",
       "    <tr>\n",
       "      <th>548</th>\n",
       "      <td>bpo</td>\n",
       "      <td>1880</td>\n",
       "      <td>1890</td>\n",
       "      <td>/home/ryan/DH/data/models/bpo/1880-1890/run_02...</td>\n",
       "      <td>/home/ryan/DH/data/models/bpo/1880-1890/run_02...</td>\n",
       "      <td>run_02</td>\n",
       "    </tr>\n",
       "    <tr>\n",
       "      <th>549</th>\n",
       "      <td>bpo</td>\n",
       "      <td>1880</td>\n",
       "      <td>1890</td>\n",
       "      <td>/home/ryan/DH/data/models/bpo/1880-1890/run_08...</td>\n",
       "      <td>/home/ryan/DH/data/models/bpo/1880-1890/run_08...</td>\n",
       "      <td>run_08</td>\n",
       "    </tr>\n",
       "  </tbody>\n",
       "</table>\n",
       "<p>550 rows × 6 columns</p>\n",
       "</div>"
      ],
      "text/plain": [
       "    corpus period_start period_end  \\\n",
       "0      bpo         1830       1840   \n",
       "1      bpo         1830       1840   \n",
       "2      bpo         1830       1840   \n",
       "3      bpo         1830       1840   \n",
       "4      bpo         1830       1840   \n",
       "..     ...          ...        ...   \n",
       "545    bpo         1880       1890   \n",
       "546    bpo         1880       1890   \n",
       "547    bpo         1880       1890   \n",
       "548    bpo         1880       1890   \n",
       "549    bpo         1880       1890   \n",
       "\n",
       "                                                  path  \\\n",
       "0    /home/ryan/DH/data/models/bpo/1830-1840/run_17...   \n",
       "1    /home/ryan/DH/data/models/bpo/1830-1840/run_20...   \n",
       "2    /home/ryan/DH/data/models/bpo/1830-1840/run_24...   \n",
       "3    /home/ryan/DH/data/models/bpo/1830-1840/run_09...   \n",
       "4    /home/ryan/DH/data/models/bpo/1830-1840/run_14...   \n",
       "..                                                 ...   \n",
       "545  /home/ryan/DH/data/models/bpo/1880-1890/run_19...   \n",
       "546  /home/ryan/DH/data/models/bpo/1880-1890/run_15...   \n",
       "547  /home/ryan/DH/data/models/bpo/1880-1890/run_10...   \n",
       "548  /home/ryan/DH/data/models/bpo/1880-1890/run_02...   \n",
       "549  /home/ryan/DH/data/models/bpo/1880-1890/run_08...   \n",
       "\n",
       "                                            path_vocab     run  \n",
       "0    /home/ryan/DH/data/models/bpo/1830-1840/run_17...  run_17  \n",
       "1    /home/ryan/DH/data/models/bpo/1830-1840/run_20...  run_20  \n",
       "2    /home/ryan/DH/data/models/bpo/1830-1840/run_24...  run_24  \n",
       "3    /home/ryan/DH/data/models/bpo/1830-1840/run_09...  run_09  \n",
       "4    /home/ryan/DH/data/models/bpo/1830-1840/run_14...  run_14  \n",
       "..                                                 ...     ...  \n",
       "545  /home/ryan/DH/data/models/bpo/1880-1890/run_19...  run_19  \n",
       "546  /home/ryan/DH/data/models/bpo/1880-1890/run_15...  run_15  \n",
       "547  /home/ryan/DH/data/models/bpo/1880-1890/run_10...  run_10  \n",
       "548  /home/ryan/DH/data/models/bpo/1880-1890/run_02...  run_02  \n",
       "549  /home/ryan/DH/data/models/bpo/1880-1890/run_08...  run_08  \n",
       "\n",
       "[550 rows x 6 columns]"
      ]
     },
     "execution_count": 6,
     "metadata": {},
     "output_type": "execute_result"
    }
   ],
   "source": [
    "df=pd.DataFrame(get_model_paths(MODELS_PATH+'/bpo',model_fn='model.txt.gz'))\n",
    "df"
   ]
  },
  {
   "cell_type": "code",
   "execution_count": 3,
   "metadata": {},
   "outputs": [
    {
     "data": {
      "text/plain": [
       "'/home/ryan/DH/data/models/bpo/1830-1840/run_17/model.txt.gz'"
      ]
     },
     "execution_count": 3,
     "metadata": {},
     "output_type": "execute_result"
    }
   ],
   "source": [
    "df"
   ]
  },
  {
   "cell_type": "code",
   "execution_count": null,
   "metadata": {},
   "outputs": [],
   "source": []
  },
  {
   "cell_type": "code",
   "execution_count": 4,
   "metadata": {},
   "outputs": [
    {
     "data": {
      "text/plain": [
       "'/home/ryan/github/abslithist/data/models'"
      ]
     },
     "execution_count": 4,
     "metadata": {},
     "output_type": "execute_result"
    }
   ],
   "source": [
    "PATH_MODELS"
   ]
  },
  {
   "cell_type": "code",
   "execution_count": 7,
   "metadata": {},
   "outputs": [],
   "source": [
    "from abslithist import *"
   ]
  },
  {
   "cell_type": "code",
   "execution_count": 9,
   "metadata": {},
   "outputs": [],
   "source": [
    "# get_origfields()"
   ]
  },
  {
   "cell_type": "code",
   "execution_count": 15,
   "metadata": {},
   "outputs": [
    {
     "name": "stderr",
     "output_type": "stream",
     "text": [
      "loading word counts from /home/ryan/DH/data/models/bpo/1830-1840/run_17/vocab.txt\n",
      "loading projection weights from /home/ryan/DH/data/models/bpo/1830-1840/run_17/model.txt.gz\n",
      "loaded (133889, 300) matrix from /home/ryan/DH/data/models/bpo/1830-1840/run_17/model.txt.gz\n",
      "precomputing L2-norms of word weight vectors\n"
     ]
    }
   ],
   "source": [
    "m=load_model(df.iloc[0].path, df.iloc[0].path_vocab, 10)"
   ]
  },
  {
   "cell_type": "code",
   "execution_count": 17,
   "metadata": {},
   "outputs": [],
   "source": [
    "fieldvecs = get_fieldvecs_in_model(m, contrasts=get_origcontrasts())"
   ]
  },
  {
   "cell_type": "code",
   "execution_count": null,
   "metadata": {},
   "outputs": [],
   "source": []
  }
 ],
 "metadata": {
  "kernelspec": {
   "display_name": "Python 3",
   "language": "python",
   "name": "python3"
  },
  "language_info": {
   "codemirror_mode": {
    "name": "ipython",
    "version": 3
   },
   "file_extension": ".py",
   "mimetype": "text/x-python",
   "name": "python",
   "nbconvert_exporter": "python",
   "pygments_lexer": "ipython3",
   "version": "3.7.7"
  },
  "widgets": {
   "application/vnd.jupyter.widget-state+json": {
    "state": {},
    "version_major": 2,
    "version_minor": 0
   }
  }
 },
 "nbformat": 4,
 "nbformat_minor": 4
}
