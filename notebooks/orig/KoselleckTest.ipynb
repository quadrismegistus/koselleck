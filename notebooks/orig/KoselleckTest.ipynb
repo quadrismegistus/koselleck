{
 "cells": [
  {
   "cell_type": "code",
   "execution_count": null,
   "metadata": {},
   "outputs": [],
   "source": [
    "# Test BPO\n",
    "from koselleck import *\n",
    "from abslithist import *"
   ]
  },
  {
   "cell_type": "code",
   "execution_count": null,
   "metadata": {},
   "outputs": [],
   "source": [
    "pathdf=get_model_paths_df(os.path.join(MODELS_PATH,'bpo'), 'wordvecs.Abs-Conc.MT.txt').sort_values('period_start')\n",
    "pathdf"
   ]
  },
  {
   "cell_type": "code",
   "execution_count": null,
   "metadata": {},
   "outputs": [],
   "source": [
    "o=[]\n",
    "for dec,path in tqdm(zip(pathdf.period_start, pathdf.path)):\n",
    "    ddf=pd.read_csv(path,sep='\\t')\n",
    "    ddf['dec']=int(dec)\n",
    "    o.append(ddf)\n",
    "odf=pd.concat(o)\n",
    "odf"
   ]
  },
  {
   "cell_type": "code",
   "execution_count": null,
   "metadata": {},
   "outputs": [],
   "source": [
    "word2count=dict(odf.word.value_counts())\n",
    "odf['num_decs']=odf.word.apply(lambda x: word2count.get(x))\n",
    "word2count"
   ]
  },
  {
   "cell_type": "code",
   "execution_count": null,
   "metadata": {},
   "outputs": [],
   "source": [
    "odf"
   ]
  },
  {
   "cell_type": "code",
   "execution_count": null,
   "metadata": {},
   "outputs": [],
   "source": [
    "wordc=odf.word.value_counts()\n",
    "word_ok=set(wordc[wordc>=3].index)\n",
    "word_ok={w for w in word_ok if w and w[0].isalpha()}\n",
    "len(word_ok), len(wordc), len(wordc)-len(word_ok)"
   ]
  },
  {
   "cell_type": "code",
   "execution_count": null,
   "metadata": {},
   "outputs": [],
   "source": [
    "odf2=odf[odf.word.isin(word_ok)].dropna().sort_values('cdist')\n",
    "odf2=odf2[odf2.dec>=1700]\n",
    "odf2"
   ]
  },
  {
   "cell_type": "code",
   "execution_count": null,
   "metadata": {},
   "outputs": [],
   "source": [
    "pivdf=odf2.pivot('word','dec','cdist')\n",
    "pivdf"
   ]
  },
  {
   "cell_type": "code",
   "execution_count": null,
   "metadata": {},
   "outputs": [],
   "source": [
    "pivdf.to_csv('data/data.pivot.word-to-abs-by-dec.csv')"
   ]
  },
  {
   "cell_type": "code",
   "execution_count": null,
   "metadata": {},
   "outputs": [],
   "source": [
    "pivdfz=pd.DataFrame(index=pivdf.index, columns=pivdf.columns)\n",
    "for c in pivdf.columns: pivdfz[c]=(pivdf[c] - pivdf[c].mean()) / pivdf[c].std()\n",
    "pivdfz"
   ]
  },
  {
   "cell_type": "code",
   "execution_count": null,
   "metadata": {},
   "outputs": [],
   "source": [
    "pivdfz.loc['growth'].rolling(3).mean().plot()"
   ]
  },
  {
   "cell_type": "code",
   "execution_count": null,
   "metadata": {},
   "outputs": [],
   "source": [
    "word2count['virtue']"
   ]
  },
  {
   "cell_type": "code",
   "execution_count": null,
   "metadata": {},
   "outputs": [],
   "source": [
    "from fastdist import fastdist\n"
   ]
  },
  {
   "cell_type": "code",
   "execution_count": null,
   "metadata": {},
   "outputs": [],
   "source": [
    "u=pivdfz.loc['station']\n",
    "m=pivdfz\n",
    "res=fastdist.vector_to_matrix_distance(u.values, m.values, fastdist.cosine, \"cosine\")\n",
    "res"
   ]
  },
  {
   "cell_type": "code",
   "execution_count": null,
   "metadata": {},
   "outputs": [],
   "source": [
    "m['_cult']=res\n",
    "m[~m._cult.isna()].sort_values('_cult',ascending=False).head(20)"
   ]
  },
  {
   "cell_type": "code",
   "execution_count": null,
   "metadata": {},
   "outputs": [],
   "source": []
  },
  {
   "cell_type": "code",
   "execution_count": null,
   "metadata": {},
   "outputs": [],
   "source": [
    "fastdist.matrix_pairwise_distance(m.values,fastdist.euclidean, \"euclidean\", return_matrix=True)"
   ]
  },
  {
   "cell_type": "code",
   "execution_count": null,
   "metadata": {},
   "outputs": [],
   "source": []
  },
  {
   "cell_type": "code",
   "execution_count": null,
   "metadata": {},
   "outputs": [],
   "source": []
  }
 ],
 "metadata": {
  "kernelspec": {
   "display_name": "Python 3",
   "language": "python",
   "name": "python3"
  },
  "language_info": {
   "codemirror_mode": {
    "name": "ipython",
    "version": 3
   },
   "file_extension": ".py",
   "mimetype": "text/x-python",
   "name": "python",
   "nbconvert_exporter": "python",
   "pygments_lexer": "ipython3",
   "version": "3.7.7"
  },
  "widgets": {
   "application/vnd.jupyter.widget-state+json": {
    "state": {},
    "version_major": 2,
    "version_minor": 0
   }
  }
 },
 "nbformat": 4,
 "nbformat_minor": 4
}
