{
 "cells": [
  {
   "cell_type": "code",
   "execution_count": null,
   "metadata": {},
   "outputs": [],
   "source": [
    "from koselleck import *"
   ]
  },
  {
   "cell_type": "code",
   "execution_count": null,
   "metadata": {},
   "outputs": [],
   "source": [
    "def get_paths_to_compare(ofnfn='data/data.all_local_dists.paths.csv',force=False):\n",
    "    if not force and os.path.exists(ofnfn): \n",
    "        odf=read_df(ofnfn)\n",
    "    else:\n",
    "        dfpaths=get_model_paths_df(PATH_MODELS_BPO, 'dists.pkl').query('(period_end-period_start)==5')\n",
    "        dfpaths['period']=[f'{x}-{y}' for x,y in zip(dfpaths.period_start, dfpaths.period_end)]\n",
    "        o=[]\n",
    "        for i1,row1 in tqdm(dfpaths.iterrows(), total=len(dfpaths)):\n",
    "            for i2,row2 in dfpaths.iterrows():\n",
    "                if row1.run!=row2.run: continue\n",
    "                if i1>=i2: continue\n",
    "                o+=[{\n",
    "                    **dict((k+'1',v) for k,v in row1.items()),\n",
    "                    **dict((k+'2',v) for k,v in row2.items())\n",
    "                }]\n",
    "        odf=pd.DataFrame(o)\n",
    "        odf.to_csv(ofnfn,index=False)\n",
    "    return odf.sort_values(['period_start1','period_start2','run1','run2'])"
   ]
  },
  {
   "cell_type": "code",
   "execution_count": null,
   "metadata": {},
   "outputs": [],
   "source": [
    "dfpaths_cmp = get_paths_to_compare(force=True)\n",
    "dfpaths_cmp"
   ]
  },
  {
   "cell_type": "code",
   "execution_count": null,
   "metadata": {},
   "outputs": [],
   "source": [
    "def do_gen_cross_model_dist(pathdf,progress=False,k=25):\n",
    "    row=pathdf.iloc[0]\n",
    "    dfdist1_orig=read_df(row.path1)\n",
    "    \n",
    "    o=[]\n",
    "    iterr=tqdm(pathdf.path2,position=0) if progress else pathdf.path2\n",
    "    for i2 in range(1,len(pathdf)):\n",
    "        row2=pathdf.iloc[i2]\n",
    "        \n",
    "#     for path2 in pathdf.path2:\n",
    "        dfdist2_orig=read_df(row2.path2)\n",
    "\n",
    "        words = list(set(dfdist1_orig.columns) & set(dfdist2_orig.columns))\n",
    "        dfdist1=dfdist1_orig[words].loc[words]\n",
    "        dfdist2=dfdist2_orig[words].loc[words]\n",
    "\n",
    "        iter2 = tqdm(words,position=0) if progress else words\n",
    "        for w in iter2:\n",
    "            neighb1=dfdist1[w].sort_values().iloc[1:k+1].index\n",
    "            neighb2=dfdist2[w].sort_values().iloc[1:k+1].index\n",
    "            metaneighb=list(set(neighb1)|set(neighb2))\n",
    "\n",
    "            vector1=[dfdist1[w].loc[wx] for wx in metaneighb]\n",
    "            vector2=[dfdist2[w].loc[wx] for wx in metaneighb]\n",
    "\n",
    "            csim=fastdist.cosine(vector1,vector2) # returns similarity not distane!!\n",
    "            dist=1-csim\n",
    "\n",
    "            o+=[{\n",
    "                'corpus2':row2.corpus2,'period2':row2.period2,'run2':row2.run2,\n",
    "                'word':w, 'dist_local':dist}]\n",
    "    return pd.DataFrame(o)\n",
    "    "
   ]
  },
  {
   "cell_type": "code",
   "execution_count": null,
   "metadata": {},
   "outputs": [],
   "source": [
    "# odf=do_gen_cross_model_dist(dfpaths_cmp.iloc[:10], progress=True)\n",
    "# odf.sort_values('dist_local')"
   ]
  },
  {
   "cell_type": "code",
   "execution_count": null,
   "metadata": {},
   "outputs": [],
   "source": [
    "def gen_cross_model_dist(dfpaths,lim=None,num_proc=1):\n",
    "    return pmap_groups(\n",
    "        do_gen_cross_model_dist,\n",
    "#         dfpaths.iloc[:lim].groupby(['corpus1','corpus2','period1','period2','run1','run2']),\n",
    "        dfpaths.iloc[:lim].groupby(['corpus1','period1','run1']),\n",
    "        num_proc=num_proc,\n",
    "    )"
   ]
  },
  {
   "cell_type": "code",
   "execution_count": null,
   "metadata": {},
   "outputs": [],
   "source": [
    "dfpaths_cmp_f = dfpaths_cmp#.query('run1<\"run_02\" & run2<\"run_02\"')\n",
    "# dfpaths_cmp_f"
   ]
  },
  {
   "cell_type": "code",
   "execution_count": null,
   "metadata": {},
   "outputs": [],
   "source": [
    "odf=gen_cross_model_dist(\n",
    "    dfpaths_cmp_f,\n",
    "    num_proc=5,\n",
    "    lim=None\n",
    ")\n",
    "odf.to_pickle('data/data.all_local_dists.pkl')"
   ]
  },
  {
   "cell_type": "code",
   "execution_count": null,
   "metadata": {},
   "outputs": [],
   "source": [
    "odf.sort_values('dist_local')"
   ]
  },
  {
   "cell_type": "code",
   "execution_count": null,
   "metadata": {},
   "outputs": [],
   "source": []
  }
 ],
 "metadata": {
  "kernelspec": {
   "display_name": "Python 3",
   "language": "python",
   "name": "python3"
  },
  "language_info": {
   "codemirror_mode": {
    "name": "ipython",
    "version": 3
   },
   "file_extension": ".py",
   "mimetype": "text/x-python",
   "name": "python",
   "nbconvert_exporter": "python",
   "pygments_lexer": "ipython3",
   "version": "3.8.3"
  },
  "widgets": {
   "application/vnd.jupyter.widget-state+json": {
    "state": {},
    "version_major": 2,
    "version_minor": 0
   }
  }
 },
 "nbformat": 4,
 "nbformat_minor": 4
}
