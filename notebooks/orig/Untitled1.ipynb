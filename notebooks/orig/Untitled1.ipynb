{
 "cells": [
  {
   "cell_type": "code",
   "execution_count": 4,
   "metadata": {},
   "outputs": [],
   "source": [
    "from koselleck import *"
   ]
  },
  {
   "cell_type": "code",
   "execution_count": 60,
   "metadata": {},
   "outputs": [
    {
     "data": {
      "text/plain": [
       "word\n",
       "muff             ~Noisy\n",
       "slate            ~Noisy\n",
       "stile            ~Noisy\n",
       "frill          +Changed\n",
       "tact             ~Noisy\n",
       "                 ...   \n",
       "love           -Changed\n",
       "grief          -Changed\n",
       "truth          -Changed\n",
       "translation    -Changed\n",
       "treatise       -Changed\n",
       "Name: class_change, Length: 4824, dtype: object"
      ]
     },
     "execution_count": 60,
     "metadata": {},
     "output_type": "execute_result"
    }
   ],
   "source": [
    "dfchange=get_dfchange()\n",
    "dfchange.class_change"
   ]
  },
  {
   "cell_type": "code",
   "execution_count": 57,
   "metadata": {},
   "outputs": [],
   "source": [
    "vectors = get_vector_names()\n",
    "\n",
    "def show_top(vec='Abs-Conc.Median',sby='mean_diff_t'):\n",
    "    pd.options.display.max_rows=25\n",
    "    vdf=dfchange[[c for c in dfchange.columns if c.endswith(vec)]]\n",
    "    vdf.columns=[c[:-(len(vec)+1)] for c in vdf.columns]\n",
    "    vdf=vdf.sort_values(sby,ascending=False)\n",
    "    printm('### '+vec)\n",
    "    printm('* **Top 100 words**: '+ ', '.join(vdf.iloc[:100].index))\n",
    "    printm('* **Bottom 100 words**: '+ ', '.join(vdf.sort_values(sby,ascending=True).iloc[:100].index))\n",
    "    return vdf"
   ]
  },
  {
   "cell_type": "code",
   "execution_count": 58,
   "metadata": {},
   "outputs": [],
   "source": [
    "# show_top(vectors[0])"
   ]
  },
  {
   "cell_type": "code",
   "execution_count": 59,
   "metadata": {},
   "outputs": [
    {
     "data": {
      "application/vnd.jupyter.widget-view+json": {
       "model_id": "23d8c7fc4b4e46f380cb0cdcc34a8747",
       "version_major": 2,
       "version_minor": 0
      },
      "text/plain": [
       "interactive(children=(Dropdown(description='vec', index=7, options=('Freq.M', 'Woman-Man.VG', 'Polit-Acad.HGI'…"
      ]
     },
     "metadata": {},
     "output_type": "display_data"
    },
    {
     "data": {
      "text/plain": [
       "<function __main__.show_top(vec='Abs-Conc.Median', sby='mean_diff_t')>"
      ]
     },
     "execution_count": 59,
     "metadata": {},
     "output_type": "execute_result"
    }
   ],
   "source": [
    "interact(show_top, vec=vectors, sby=['mean1','mean2','mean_diff','mean_diff_t','mean_diff_t_abs'])"
   ]
  },
  {
   "cell_type": "code",
   "execution_count": null,
   "metadata": {},
   "outputs": [],
   "source": []
  },
  {
   "cell_type": "code",
   "execution_count": null,
   "metadata": {},
   "outputs": [],
   "source": []
  },
  {
   "cell_type": "code",
   "execution_count": 5,
   "metadata": {},
   "outputs": [
    {
     "data": {
      "text/html": [
       "<div>\n",
       "<style scoped>\n",
       "    .dataframe tbody tr th:only-of-type {\n",
       "        vertical-align: middle;\n",
       "    }\n",
       "\n",
       "    .dataframe tbody tr th {\n",
       "        vertical-align: top;\n",
       "    }\n",
       "\n",
       "    .dataframe thead th {\n",
       "        text-align: right;\n",
       "    }\n",
       "</style>\n",
       "<table border=\"1\" class=\"dataframe\">\n",
       "  <thead>\n",
       "    <tr style=\"text-align: right;\">\n",
       "      <th></th>\n",
       "      <th></th>\n",
       "      <th></th>\n",
       "      <th>word</th>\n",
       "      <th>Abs-Conc.Median</th>\n",
       "      <th>Woman-Man.VG</th>\n",
       "      <th>Human-Object.VG</th>\n",
       "      <th>Pleasure-Pain.HGI</th>\n",
       "      <th>Interp-Desc.HGI</th>\n",
       "      <th>Polit-Acad.HGI</th>\n",
       "      <th>Qual-Quant.HGI</th>\n",
       "      <th>Time-Space.HGI</th>\n",
       "      <th>Pos-Neg.HGI</th>\n",
       "      <th>Strong-Weak.HGI</th>\n",
       "      <th>Active-Passive.HGI</th>\n",
       "      <th>Ambig.NX</th>\n",
       "      <th>Freq.M</th>\n",
       "    </tr>\n",
       "    <tr>\n",
       "      <th>corpus</th>\n",
       "      <th>period</th>\n",
       "      <th>run</th>\n",
       "      <th></th>\n",
       "      <th></th>\n",
       "      <th></th>\n",
       "      <th></th>\n",
       "      <th></th>\n",
       "      <th></th>\n",
       "      <th></th>\n",
       "      <th></th>\n",
       "      <th></th>\n",
       "      <th></th>\n",
       "      <th></th>\n",
       "      <th></th>\n",
       "      <th></th>\n",
       "      <th></th>\n",
       "    </tr>\n",
       "  </thead>\n",
       "  <tbody>\n",
       "    <tr>\n",
       "      <th rowspan=\"11\" valign=\"top\">bpo</th>\n",
       "      <th rowspan=\"5\" valign=\"top\">1680-1690</th>\n",
       "      <th>run_01</th>\n",
       "      <td>lane</td>\n",
       "      <td>-2.483134</td>\n",
       "      <td>-0.235502</td>\n",
       "      <td>-0.186116</td>\n",
       "      <td>-1.866360</td>\n",
       "      <td>-0.265112</td>\n",
       "      <td>-0.917638</td>\n",
       "      <td>1.616664</td>\n",
       "      <td>-1.422240</td>\n",
       "      <td>-1.125153</td>\n",
       "      <td>0.687542</td>\n",
       "      <td>2.470112</td>\n",
       "      <td>-4.445574</td>\n",
       "      <td>0.037798</td>\n",
       "    </tr>\n",
       "    <tr>\n",
       "      <th>run_01</th>\n",
       "      <td>sermon</td>\n",
       "      <td>-2.388534</td>\n",
       "      <td>-0.701400</td>\n",
       "      <td>0.024315</td>\n",
       "      <td>-2.054366</td>\n",
       "      <td>-0.271518</td>\n",
       "      <td>-0.858428</td>\n",
       "      <td>1.649853</td>\n",
       "      <td>-1.495062</td>\n",
       "      <td>-1.185452</td>\n",
       "      <td>0.664949</td>\n",
       "      <td>2.470020</td>\n",
       "      <td>-3.230632</td>\n",
       "      <td>0.360052</td>\n",
       "    </tr>\n",
       "    <tr>\n",
       "      <th>run_01</th>\n",
       "      <td>street</td>\n",
       "      <td>-2.292043</td>\n",
       "      <td>-0.118967</td>\n",
       "      <td>-0.473321</td>\n",
       "      <td>-1.796022</td>\n",
       "      <td>-0.301607</td>\n",
       "      <td>-0.611056</td>\n",
       "      <td>1.118064</td>\n",
       "      <td>-1.210363</td>\n",
       "      <td>-1.109309</td>\n",
       "      <td>0.726035</td>\n",
       "      <td>2.074973</td>\n",
       "      <td>-3.435956</td>\n",
       "      <td>0.330756</td>\n",
       "    </tr>\n",
       "    <tr>\n",
       "      <th>run_01</th>\n",
       "      <td>sir</td>\n",
       "      <td>-2.276922</td>\n",
       "      <td>-2.038116</td>\n",
       "      <td>2.185661</td>\n",
       "      <td>-2.329914</td>\n",
       "      <td>-1.539692</td>\n",
       "      <td>-2.976701</td>\n",
       "      <td>2.321312</td>\n",
       "      <td>0.334780</td>\n",
       "      <td>-2.602805</td>\n",
       "      <td>-1.543643</td>\n",
       "      <td>1.216685</td>\n",
       "      <td>1.044497</td>\n",
       "      <td>1.766250</td>\n",
       "    </tr>\n",
       "    <tr>\n",
       "      <th>run_01</th>\n",
       "      <td>gate</td>\n",
       "      <td>-2.240157</td>\n",
       "      <td>-0.138460</td>\n",
       "      <td>-0.640849</td>\n",
       "      <td>-1.494840</td>\n",
       "      <td>-0.690724</td>\n",
       "      <td>-0.853216</td>\n",
       "      <td>1.013274</td>\n",
       "      <td>-1.340083</td>\n",
       "      <td>-1.283006</td>\n",
       "      <td>0.421856</td>\n",
       "      <td>1.688697</td>\n",
       "      <td>-1.827801</td>\n",
       "      <td>-0.196568</td>\n",
       "    </tr>\n",
       "    <tr>\n",
       "      <th>...</th>\n",
       "      <th>...</th>\n",
       "      <td>...</td>\n",
       "      <td>...</td>\n",
       "      <td>...</td>\n",
       "      <td>...</td>\n",
       "      <td>...</td>\n",
       "      <td>...</td>\n",
       "      <td>...</td>\n",
       "      <td>...</td>\n",
       "      <td>...</td>\n",
       "      <td>...</td>\n",
       "      <td>...</td>\n",
       "      <td>...</td>\n",
       "      <td>...</td>\n",
       "      <td>...</td>\n",
       "    </tr>\n",
       "    <tr>\n",
       "      <th rowspan=\"5\" valign=\"top\">1890-1900</th>\n",
       "      <th>run_01</th>\n",
       "      <td>mistrust</td>\n",
       "      <td>2.941013</td>\n",
       "      <td>0.194648</td>\n",
       "      <td>1.104429</td>\n",
       "      <td>-1.430903</td>\n",
       "      <td>1.875910</td>\n",
       "      <td>1.913239</td>\n",
       "      <td>0.750985</td>\n",
       "      <td>0.464846</td>\n",
       "      <td>-0.495058</td>\n",
       "      <td>-0.268779</td>\n",
       "      <td>-3.109725</td>\n",
       "      <td>-0.936455</td>\n",
       "      <td>-0.365017</td>\n",
       "    </tr>\n",
       "    <tr>\n",
       "      <th>run_01</th>\n",
       "      <td>reprobation</td>\n",
       "      <td>2.943587</td>\n",
       "      <td>-0.685920</td>\n",
       "      <td>1.383457</td>\n",
       "      <td>-0.955701</td>\n",
       "      <td>1.669335</td>\n",
       "      <td>0.797919</td>\n",
       "      <td>0.246286</td>\n",
       "      <td>0.357208</td>\n",
       "      <td>-0.212275</td>\n",
       "      <td>0.259738</td>\n",
       "      <td>-1.803050</td>\n",
       "      <td>-0.579363</td>\n",
       "      <td>-0.382202</td>\n",
       "    </tr>\n",
       "    <tr>\n",
       "      <th>run_01</th>\n",
       "      <td>distrust</td>\n",
       "      <td>2.963716</td>\n",
       "      <td>-0.300408</td>\n",
       "      <td>1.061623</td>\n",
       "      <td>-0.944893</td>\n",
       "      <td>2.214191</td>\n",
       "      <td>1.447785</td>\n",
       "      <td>0.375394</td>\n",
       "      <td>0.132104</td>\n",
       "      <td>0.063215</td>\n",
       "      <td>0.027951</td>\n",
       "      <td>-3.149167</td>\n",
       "      <td>-1.049534</td>\n",
       "      <td>-0.281197</td>\n",
       "    </tr>\n",
       "    <tr>\n",
       "      <th>run_01</th>\n",
       "      <td>toleration</td>\n",
       "      <td>3.064616</td>\n",
       "      <td>-0.486962</td>\n",
       "      <td>1.328912</td>\n",
       "      <td>0.812182</td>\n",
       "      <td>2.735547</td>\n",
       "      <td>1.484133</td>\n",
       "      <td>-1.065555</td>\n",
       "      <td>0.704821</td>\n",
       "      <td>1.868020</td>\n",
       "      <td>1.833697</td>\n",
       "      <td>-1.250486</td>\n",
       "      <td>0.746978</td>\n",
       "      <td>-0.325944</td>\n",
       "    </tr>\n",
       "    <tr>\n",
       "      <th>run_01</th>\n",
       "      <td>sanity</td>\n",
       "      <td>3.116329</td>\n",
       "      <td>-0.016794</td>\n",
       "      <td>1.204023</td>\n",
       "      <td>0.741042</td>\n",
       "      <td>2.263699</td>\n",
       "      <td>-0.735530</td>\n",
       "      <td>0.366648</td>\n",
       "      <td>0.674047</td>\n",
       "      <td>1.623482</td>\n",
       "      <td>0.428133</td>\n",
       "      <td>-2.978690</td>\n",
       "      <td>0.015790</td>\n",
       "      <td>-0.352371</td>\n",
       "    </tr>\n",
       "  </tbody>\n",
       "</table>\n",
       "<p>955436 rows × 14 columns</p>\n",
       "</div>"
      ],
      "text/plain": [
       "                                word  Abs-Conc.Median  Woman-Man.VG  \\\n",
       "corpus period    run                                                  \n",
       "bpo    1680-1690 run_01         lane        -2.483134     -0.235502   \n",
       "                 run_01       sermon        -2.388534     -0.701400   \n",
       "                 run_01       street        -2.292043     -0.118967   \n",
       "                 run_01          sir        -2.276922     -2.038116   \n",
       "                 run_01         gate        -2.240157     -0.138460   \n",
       "...                              ...              ...           ...   \n",
       "       1890-1900 run_01     mistrust         2.941013      0.194648   \n",
       "                 run_01  reprobation         2.943587     -0.685920   \n",
       "                 run_01     distrust         2.963716     -0.300408   \n",
       "                 run_01   toleration         3.064616     -0.486962   \n",
       "                 run_01       sanity         3.116329     -0.016794   \n",
       "\n",
       "                         Human-Object.VG  Pleasure-Pain.HGI  Interp-Desc.HGI  \\\n",
       "corpus period    run                                                           \n",
       "bpo    1680-1690 run_01        -0.186116          -1.866360        -0.265112   \n",
       "                 run_01         0.024315          -2.054366        -0.271518   \n",
       "                 run_01        -0.473321          -1.796022        -0.301607   \n",
       "                 run_01         2.185661          -2.329914        -1.539692   \n",
       "                 run_01        -0.640849          -1.494840        -0.690724   \n",
       "...                                  ...                ...              ...   \n",
       "       1890-1900 run_01         1.104429          -1.430903         1.875910   \n",
       "                 run_01         1.383457          -0.955701         1.669335   \n",
       "                 run_01         1.061623          -0.944893         2.214191   \n",
       "                 run_01         1.328912           0.812182         2.735547   \n",
       "                 run_01         1.204023           0.741042         2.263699   \n",
       "\n",
       "                         Polit-Acad.HGI  Qual-Quant.HGI  Time-Space.HGI  \\\n",
       "corpus period    run                                                      \n",
       "bpo    1680-1690 run_01       -0.917638        1.616664       -1.422240   \n",
       "                 run_01       -0.858428        1.649853       -1.495062   \n",
       "                 run_01       -0.611056        1.118064       -1.210363   \n",
       "                 run_01       -2.976701        2.321312        0.334780   \n",
       "                 run_01       -0.853216        1.013274       -1.340083   \n",
       "...                                 ...             ...             ...   \n",
       "       1890-1900 run_01        1.913239        0.750985        0.464846   \n",
       "                 run_01        0.797919        0.246286        0.357208   \n",
       "                 run_01        1.447785        0.375394        0.132104   \n",
       "                 run_01        1.484133       -1.065555        0.704821   \n",
       "                 run_01       -0.735530        0.366648        0.674047   \n",
       "\n",
       "                         Pos-Neg.HGI  Strong-Weak.HGI  Active-Passive.HGI  \\\n",
       "corpus period    run                                                        \n",
       "bpo    1680-1690 run_01    -1.125153         0.687542            2.470112   \n",
       "                 run_01    -1.185452         0.664949            2.470020   \n",
       "                 run_01    -1.109309         0.726035            2.074973   \n",
       "                 run_01    -2.602805        -1.543643            1.216685   \n",
       "                 run_01    -1.283006         0.421856            1.688697   \n",
       "...                              ...              ...                 ...   \n",
       "       1890-1900 run_01    -0.495058        -0.268779           -3.109725   \n",
       "                 run_01    -0.212275         0.259738           -1.803050   \n",
       "                 run_01     0.063215         0.027951           -3.149167   \n",
       "                 run_01     1.868020         1.833697           -1.250486   \n",
       "                 run_01     1.623482         0.428133           -2.978690   \n",
       "\n",
       "                         Ambig.NX    Freq.M  \n",
       "corpus period    run                         \n",
       "bpo    1680-1690 run_01 -4.445574  0.037798  \n",
       "                 run_01 -3.230632  0.360052  \n",
       "                 run_01 -3.435956  0.330756  \n",
       "                 run_01  1.044497  1.766250  \n",
       "                 run_01 -1.827801 -0.196568  \n",
       "...                           ...       ...  \n",
       "       1890-1900 run_01 -0.936455 -0.365017  \n",
       "                 run_01 -0.579363 -0.382202  \n",
       "                 run_01 -1.049534 -0.281197  \n",
       "                 run_01  0.746978 -0.325944  \n",
       "                 run_01  0.015790 -0.352371  \n",
       "\n",
       "[955436 rows x 14 columns]"
      ]
     },
     "execution_count": 5,
     "metadata": {},
     "output_type": "execute_result"
    }
   ],
   "source": [
    "df=pd.read_pickle(FN_VECTOR_SCORES_RUNS)\n",
    "df"
   ]
  },
  {
   "cell_type": "code",
   "execution_count": 11,
   "metadata": {},
   "outputs": [
    {
     "data": {
      "text/html": [
       "<div>\n",
       "<style scoped>\n",
       "    .dataframe tbody tr th:only-of-type {\n",
       "        vertical-align: middle;\n",
       "    }\n",
       "\n",
       "    .dataframe tbody tr th {\n",
       "        vertical-align: top;\n",
       "    }\n",
       "\n",
       "    .dataframe thead th {\n",
       "        text-align: right;\n",
       "    }\n",
       "</style>\n",
       "<table border=\"1\" class=\"dataframe\">\n",
       "  <thead>\n",
       "    <tr style=\"text-align: right;\">\n",
       "      <th></th>\n",
       "      <th>Abs-Conc.Median</th>\n",
       "      <th>Woman-Man.VG</th>\n",
       "      <th>Human-Object.VG</th>\n",
       "      <th>Pleasure-Pain.HGI</th>\n",
       "      <th>Interp-Desc.HGI</th>\n",
       "      <th>Polit-Acad.HGI</th>\n",
       "      <th>Qual-Quant.HGI</th>\n",
       "      <th>Time-Space.HGI</th>\n",
       "      <th>Pos-Neg.HGI</th>\n",
       "      <th>Strong-Weak.HGI</th>\n",
       "      <th>Active-Passive.HGI</th>\n",
       "      <th>Ambig.NX</th>\n",
       "      <th>Freq.M</th>\n",
       "    </tr>\n",
       "  </thead>\n",
       "  <tbody>\n",
       "    <tr>\n",
       "      <th>Strong-Weak.HGI</th>\n",
       "      <td>0.366536</td>\n",
       "      <td>-0.523252</td>\n",
       "      <td>0.099769</td>\n",
       "      <td>0.302269</td>\n",
       "      <td>0.539116</td>\n",
       "      <td>0.228900</td>\n",
       "      <td>-0.602623</td>\n",
       "      <td>0.170838</td>\n",
       "      <td>0.519255</td>\n",
       "      <td>1.000000</td>\n",
       "      <td>0.463991</td>\n",
       "      <td>0.006900</td>\n",
       "      <td>0.108957</td>\n",
       "    </tr>\n",
       "    <tr>\n",
       "      <th>Interp-Desc.HGI</th>\n",
       "      <td>0.931147</td>\n",
       "      <td>-0.269466</td>\n",
       "      <td>0.525149</td>\n",
       "      <td>0.426369</td>\n",
       "      <td>1.000000</td>\n",
       "      <td>0.012144</td>\n",
       "      <td>-0.411537</td>\n",
       "      <td>0.411644</td>\n",
       "      <td>0.693169</td>\n",
       "      <td>0.539116</td>\n",
       "      <td>-0.312263</td>\n",
       "      <td>0.107043</td>\n",
       "      <td>0.093311</td>\n",
       "    </tr>\n",
       "    <tr>\n",
       "      <th>Active-Passive.HGI</th>\n",
       "      <td>-0.503232</td>\n",
       "      <td>-0.380899</td>\n",
       "      <td>-0.280840</td>\n",
       "      <td>-0.208320</td>\n",
       "      <td>-0.312263</td>\n",
       "      <td>0.093353</td>\n",
       "      <td>-0.375965</td>\n",
       "      <td>-0.077108</td>\n",
       "      <td>-0.192916</td>\n",
       "      <td>0.463991</td>\n",
       "      <td>1.000000</td>\n",
       "      <td>-0.114928</td>\n",
       "      <td>-0.026416</td>\n",
       "    </tr>\n",
       "    <tr>\n",
       "      <th>Time-Space.HGI</th>\n",
       "      <td>0.502481</td>\n",
       "      <td>-0.185656</td>\n",
       "      <td>0.639614</td>\n",
       "      <td>0.130112</td>\n",
       "      <td>0.411644</td>\n",
       "      <td>0.136513</td>\n",
       "      <td>-0.373645</td>\n",
       "      <td>1.000000</td>\n",
       "      <td>0.284488</td>\n",
       "      <td>0.170838</td>\n",
       "      <td>-0.077108</td>\n",
       "      <td>-0.038153</td>\n",
       "      <td>0.142956</td>\n",
       "    </tr>\n",
       "    <tr>\n",
       "      <th>Abs-Conc.Median</th>\n",
       "      <td>1.000000</td>\n",
       "      <td>-0.205241</td>\n",
       "      <td>0.608349</td>\n",
       "      <td>0.374857</td>\n",
       "      <td>0.931147</td>\n",
       "      <td>0.093805</td>\n",
       "      <td>-0.310353</td>\n",
       "      <td>0.502481</td>\n",
       "      <td>0.607797</td>\n",
       "      <td>0.366536</td>\n",
       "      <td>-0.503232</td>\n",
       "      <td>0.127928</td>\n",
       "      <td>0.117057</td>\n",
       "    </tr>\n",
       "    <tr>\n",
       "      <th>Pos-Neg.HGI</th>\n",
       "      <td>0.607797</td>\n",
       "      <td>-0.042431</td>\n",
       "      <td>0.440469</td>\n",
       "      <td>0.889778</td>\n",
       "      <td>0.693169</td>\n",
       "      <td>-0.279536</td>\n",
       "      <td>-0.252771</td>\n",
       "      <td>0.284488</td>\n",
       "      <td>1.000000</td>\n",
       "      <td>0.519255</td>\n",
       "      <td>-0.192916</td>\n",
       "      <td>0.059045</td>\n",
       "      <td>0.113257</td>\n",
       "    </tr>\n",
       "    <tr>\n",
       "      <th>Freq.M</th>\n",
       "      <td>0.117057</td>\n",
       "      <td>-0.041570</td>\n",
       "      <td>0.076946</td>\n",
       "      <td>0.064442</td>\n",
       "      <td>0.093311</td>\n",
       "      <td>0.065497</td>\n",
       "      <td>-0.144577</td>\n",
       "      <td>0.142956</td>\n",
       "      <td>0.113257</td>\n",
       "      <td>0.108957</td>\n",
       "      <td>-0.026416</td>\n",
       "      <td>-0.078580</td>\n",
       "      <td>1.000000</td>\n",
       "    </tr>\n",
       "    <tr>\n",
       "      <th>Polit-Acad.HGI</th>\n",
       "      <td>0.093805</td>\n",
       "      <td>-0.091433</td>\n",
       "      <td>0.053544</td>\n",
       "      <td>-0.347924</td>\n",
       "      <td>0.012144</td>\n",
       "      <td>1.000000</td>\n",
       "      <td>-0.137993</td>\n",
       "      <td>0.136513</td>\n",
       "      <td>-0.279536</td>\n",
       "      <td>0.228900</td>\n",
       "      <td>0.093353</td>\n",
       "      <td>0.019653</td>\n",
       "      <td>0.065497</td>\n",
       "    </tr>\n",
       "    <tr>\n",
       "      <th>Human-Object.VG</th>\n",
       "      <td>0.608349</td>\n",
       "      <td>-0.126028</td>\n",
       "      <td>1.000000</td>\n",
       "      <td>0.323869</td>\n",
       "      <td>0.525149</td>\n",
       "      <td>0.053544</td>\n",
       "      <td>-0.110660</td>\n",
       "      <td>0.639614</td>\n",
       "      <td>0.440469</td>\n",
       "      <td>0.099769</td>\n",
       "      <td>-0.280840</td>\n",
       "      <td>0.053213</td>\n",
       "      <td>0.076946</td>\n",
       "    </tr>\n",
       "    <tr>\n",
       "      <th>Pleasure-Pain.HGI</th>\n",
       "      <td>0.374857</td>\n",
       "      <td>0.119921</td>\n",
       "      <td>0.323869</td>\n",
       "      <td>1.000000</td>\n",
       "      <td>0.426369</td>\n",
       "      <td>-0.347924</td>\n",
       "      <td>-0.003660</td>\n",
       "      <td>0.130112</td>\n",
       "      <td>0.889778</td>\n",
       "      <td>0.302269</td>\n",
       "      <td>-0.208320</td>\n",
       "      <td>0.059565</td>\n",
       "      <td>0.064442</td>\n",
       "    </tr>\n",
       "    <tr>\n",
       "      <th>Ambig.NX</th>\n",
       "      <td>0.127928</td>\n",
       "      <td>0.021349</td>\n",
       "      <td>0.053213</td>\n",
       "      <td>0.059565</td>\n",
       "      <td>0.107043</td>\n",
       "      <td>0.019653</td>\n",
       "      <td>0.028556</td>\n",
       "      <td>-0.038153</td>\n",
       "      <td>0.059045</td>\n",
       "      <td>0.006900</td>\n",
       "      <td>-0.114928</td>\n",
       "      <td>1.000000</td>\n",
       "      <td>-0.078580</td>\n",
       "    </tr>\n",
       "    <tr>\n",
       "      <th>Woman-Man.VG</th>\n",
       "      <td>-0.205241</td>\n",
       "      <td>1.000000</td>\n",
       "      <td>-0.126028</td>\n",
       "      <td>0.119921</td>\n",
       "      <td>-0.269466</td>\n",
       "      <td>-0.091433</td>\n",
       "      <td>0.405071</td>\n",
       "      <td>-0.185656</td>\n",
       "      <td>-0.042431</td>\n",
       "      <td>-0.523252</td>\n",
       "      <td>-0.380899</td>\n",
       "      <td>0.021349</td>\n",
       "      <td>-0.041570</td>\n",
       "    </tr>\n",
       "    <tr>\n",
       "      <th>Qual-Quant.HGI</th>\n",
       "      <td>-0.310353</td>\n",
       "      <td>0.405071</td>\n",
       "      <td>-0.110660</td>\n",
       "      <td>-0.003660</td>\n",
       "      <td>-0.411537</td>\n",
       "      <td>-0.137993</td>\n",
       "      <td>1.000000</td>\n",
       "      <td>-0.373645</td>\n",
       "      <td>-0.252771</td>\n",
       "      <td>-0.602623</td>\n",
       "      <td>-0.375965</td>\n",
       "      <td>0.028556</td>\n",
       "      <td>-0.144577</td>\n",
       "    </tr>\n",
       "  </tbody>\n",
       "</table>\n",
       "</div>"
      ],
      "text/plain": [
       "                    Abs-Conc.Median  Woman-Man.VG  Human-Object.VG  \\\n",
       "Strong-Weak.HGI            0.366536     -0.523252         0.099769   \n",
       "Interp-Desc.HGI            0.931147     -0.269466         0.525149   \n",
       "Active-Passive.HGI        -0.503232     -0.380899        -0.280840   \n",
       "Time-Space.HGI             0.502481     -0.185656         0.639614   \n",
       "Abs-Conc.Median            1.000000     -0.205241         0.608349   \n",
       "Pos-Neg.HGI                0.607797     -0.042431         0.440469   \n",
       "Freq.M                     0.117057     -0.041570         0.076946   \n",
       "Polit-Acad.HGI             0.093805     -0.091433         0.053544   \n",
       "Human-Object.VG            0.608349     -0.126028         1.000000   \n",
       "Pleasure-Pain.HGI          0.374857      0.119921         0.323869   \n",
       "Ambig.NX                   0.127928      0.021349         0.053213   \n",
       "Woman-Man.VG              -0.205241      1.000000        -0.126028   \n",
       "Qual-Quant.HGI            -0.310353      0.405071        -0.110660   \n",
       "\n",
       "                    Pleasure-Pain.HGI  Interp-Desc.HGI  Polit-Acad.HGI  \\\n",
       "Strong-Weak.HGI              0.302269         0.539116        0.228900   \n",
       "Interp-Desc.HGI              0.426369         1.000000        0.012144   \n",
       "Active-Passive.HGI          -0.208320        -0.312263        0.093353   \n",
       "Time-Space.HGI               0.130112         0.411644        0.136513   \n",
       "Abs-Conc.Median              0.374857         0.931147        0.093805   \n",
       "Pos-Neg.HGI                  0.889778         0.693169       -0.279536   \n",
       "Freq.M                       0.064442         0.093311        0.065497   \n",
       "Polit-Acad.HGI              -0.347924         0.012144        1.000000   \n",
       "Human-Object.VG              0.323869         0.525149        0.053544   \n",
       "Pleasure-Pain.HGI            1.000000         0.426369       -0.347924   \n",
       "Ambig.NX                     0.059565         0.107043        0.019653   \n",
       "Woman-Man.VG                 0.119921        -0.269466       -0.091433   \n",
       "Qual-Quant.HGI              -0.003660        -0.411537       -0.137993   \n",
       "\n",
       "                    Qual-Quant.HGI  Time-Space.HGI  Pos-Neg.HGI  \\\n",
       "Strong-Weak.HGI          -0.602623        0.170838     0.519255   \n",
       "Interp-Desc.HGI          -0.411537        0.411644     0.693169   \n",
       "Active-Passive.HGI       -0.375965       -0.077108    -0.192916   \n",
       "Time-Space.HGI           -0.373645        1.000000     0.284488   \n",
       "Abs-Conc.Median          -0.310353        0.502481     0.607797   \n",
       "Pos-Neg.HGI              -0.252771        0.284488     1.000000   \n",
       "Freq.M                   -0.144577        0.142956     0.113257   \n",
       "Polit-Acad.HGI           -0.137993        0.136513    -0.279536   \n",
       "Human-Object.VG          -0.110660        0.639614     0.440469   \n",
       "Pleasure-Pain.HGI        -0.003660        0.130112     0.889778   \n",
       "Ambig.NX                  0.028556       -0.038153     0.059045   \n",
       "Woman-Man.VG              0.405071       -0.185656    -0.042431   \n",
       "Qual-Quant.HGI            1.000000       -0.373645    -0.252771   \n",
       "\n",
       "                    Strong-Weak.HGI  Active-Passive.HGI  Ambig.NX    Freq.M  \n",
       "Strong-Weak.HGI            1.000000            0.463991  0.006900  0.108957  \n",
       "Interp-Desc.HGI            0.539116           -0.312263  0.107043  0.093311  \n",
       "Active-Passive.HGI         0.463991            1.000000 -0.114928 -0.026416  \n",
       "Time-Space.HGI             0.170838           -0.077108 -0.038153  0.142956  \n",
       "Abs-Conc.Median            0.366536           -0.503232  0.127928  0.117057  \n",
       "Pos-Neg.HGI                0.519255           -0.192916  0.059045  0.113257  \n",
       "Freq.M                     0.108957           -0.026416 -0.078580  1.000000  \n",
       "Polit-Acad.HGI             0.228900            0.093353  0.019653  0.065497  \n",
       "Human-Object.VG            0.099769           -0.280840  0.053213  0.076946  \n",
       "Pleasure-Pain.HGI          0.302269           -0.208320  0.059565  0.064442  \n",
       "Ambig.NX                   0.006900           -0.114928  1.000000 -0.078580  \n",
       "Woman-Man.VG              -0.523252           -0.380899  0.021349 -0.041570  \n",
       "Qual-Quant.HGI            -0.602623           -0.375965  0.028556 -0.144577  "
      ]
     },
     "execution_count": 11,
     "metadata": {},
     "output_type": "execute_result"
    }
   ],
   "source": [
    "df.corr().sort_values('Qual-Quant.HGI')"
   ]
  },
  {
   "cell_type": "code",
   "execution_count": null,
   "metadata": {},
   "outputs": [],
   "source": []
  },
  {
   "cell_type": "code",
   "execution_count": null,
   "metadata": {},
   "outputs": [],
   "source": []
  }
 ],
 "metadata": {
  "kernelspec": {
   "display_name": "Python 3",
   "language": "python",
   "name": "python3"
  },
  "language_info": {
   "codemirror_mode": {
    "name": "ipython",
    "version": 3
   },
   "file_extension": ".py",
   "mimetype": "text/x-python",
   "name": "python",
   "nbconvert_exporter": "python",
   "pygments_lexer": "ipython3",
   "version": "3.7.7"
  },
  "widgets": {
   "application/vnd.jupyter.widget-state+json": {
    "state": {
     "01d67e83537d4b81bcd7173d3c9579de": {
      "model_module": "@jupyter-widgets/controls",
      "model_module_version": "1.5.0",
      "model_name": "DescriptionStyleModel",
      "state": {
       "description_width": ""
      }
     },
     "027f4d2994af49aa95076b9552c7e295": {
      "model_module": "@jupyter-widgets/base",
      "model_module_version": "1.2.0",
      "model_name": "LayoutModel",
      "state": {}
     },
     "047e84c9c890491db2da41bb55b3fba2": {
      "model_module": "@jupyter-widgets/controls",
      "model_module_version": "1.5.0",
      "model_name": "DropdownModel",
      "state": {
       "_options_labels": [
        "mean1",
        "mean2",
        "mean_diff"
       ],
       "description": "sby",
       "index": 1,
       "layout": "IPY_MODEL_e54073d73d8042ffa57f479a6bd2ad81",
       "style": "IPY_MODEL_11d78a14259a458a9d555a7053dabaea"
      }
     },
     "048a201472e84cc996fcdd3a22559bc2": {
      "model_module": "@jupyter-widgets/controls",
      "model_module_version": "1.5.0",
      "model_name": "DropdownModel",
      "state": {
       "_options_labels": [
        "mean1",
        "mean2",
        "mean_diff"
       ],
       "description": "sby",
       "index": 1,
       "layout": "IPY_MODEL_15492e5f678048eb891b94beedef497a",
       "style": "IPY_MODEL_1c5a8389bcf543e685fc2fb246131cea"
      }
     },
     "0666da978622403e9c59c315b1149c13": {
      "model_module": "@jupyter-widgets/base",
      "model_module_version": "1.2.0",
      "model_name": "LayoutModel",
      "state": {}
     },
     "0c54281fcd7842ae9e31f4687b10de48": {
      "model_module": "@jupyter-widgets/controls",
      "model_module_version": "1.5.0",
      "model_name": "DropdownModel",
      "state": {
       "_options_labels": [
        "Freq.M",
        "Woman-Man.VG",
        "Polit-Acad.HGI",
        "Qual-Quant.HGI",
        "Active-Passive.HGI",
        "Pleasure-Pain.HGI",
        "Interp-Desc.HGI",
        "Abs-Conc.Median",
        "Pos-Neg.HGI",
        "Human-Object.VG",
        "Strong-Weak.HGI",
        "Time-Space.HGI",
        "Ambig.NX"
       ],
       "description": "vec",
       "index": 5,
       "layout": "IPY_MODEL_0c967e99424d453d810e806b7259d37d",
       "style": "IPY_MODEL_9b0b82ff69004208b119cfb75a1086ce"
      }
     },
     "0c967e99424d453d810e806b7259d37d": {
      "model_module": "@jupyter-widgets/base",
      "model_module_version": "1.2.0",
      "model_name": "LayoutModel",
      "state": {}
     },
     "0e642914ee5d4f25b657dd430f5fe694": {
      "model_module": "@jupyter-widgets/base",
      "model_module_version": "1.2.0",
      "model_name": "LayoutModel",
      "state": {}
     },
     "0f741e9e51f34e899fe0c471bf4484cb": {
      "model_module": "@jupyter-widgets/output",
      "model_module_version": "1.0.0",
      "model_name": "OutputModel",
      "state": {
       "layout": "IPY_MODEL_a6fc2d2089104ecca1c1fdba45f262f7",
       "outputs": [
        {
         "data": {
          "text/html": "<div>\n<style scoped>\n    .dataframe tbody tr th:only-of-type {\n        vertical-align: middle;\n    }\n\n    .dataframe tbody tr th {\n        vertical-align: top;\n    }\n\n    .dataframe thead th {\n        text-align: right;\n    }\n</style>\n<table border=\"1\" class=\"dataframe\">\n  <thead>\n    <tr style=\"text-align: right;\">\n      <th></th>\n      <th>mean1</th>\n      <th>mean2</th>\n      <th>mean_diff</th>\n      <th>mean_diff_t</th>\n      <th>mean_diff_p</th>\n      <th>mean_diff_t_abs</th>\n      <th>len1</th>\n      <th>len2</th>\n      <th>trun</th>\n      <th>year1</th>\n      <th>year2</th>\n      <th>perc_mean_diff_t_abs</th>\n    </tr>\n    <tr>\n      <th>word</th>\n      <th></th>\n      <th></th>\n      <th></th>\n      <th></th>\n      <th></th>\n      <th></th>\n      <th></th>\n      <th></th>\n      <th></th>\n      <th></th>\n      <th></th>\n      <th></th>\n    </tr>\n  </thead>\n  <tbody>\n    <tr>\n      <th>chill</th>\n      <td>1.607881</td>\n      <td>2.927050</td>\n      <td>1.319169</td>\n      <td>-20.766757</td>\n      <td>9.585161e-46</td>\n      <td>20.766757</td>\n      <td>100.0</td>\n      <td>100.0</td>\n      <td>12.0</td>\n      <td>1745.0</td>\n      <td>1850.0</td>\n      <td>86.434255</td>\n    </tr>\n    <tr>\n      <th>glow</th>\n      <td>1.716335</td>\n      <td>2.785022</td>\n      <td>1.068687</td>\n      <td>-16.006926</td>\n      <td>1.411616e-32</td>\n      <td>16.006926</td>\n      <td>100.0</td>\n      <td>100.0</td>\n      <td>12.0</td>\n      <td>1740.0</td>\n      <td>1850.0</td>\n      <td>76.203107</td>\n    </tr>\n    <tr>\n      <th>visage</th>\n      <td>1.665382</td>\n      <td>2.775261</td>\n      <td>1.109879</td>\n      <td>-18.757246</td>\n      <td>1.327097e-40</td>\n      <td>18.757246</td>\n      <td>100.0</td>\n      <td>100.0</td>\n      <td>12.0</td>\n      <td>1745.0</td>\n      <td>1850.0</td>\n      <td>82.777567</td>\n    </tr>\n    <tr>\n      <th>zephyr</th>\n      <td>2.124510</td>\n      <td>2.644091</td>\n      <td>0.519581</td>\n      <td>-11.803239</td>\n      <td>4.685558e-18</td>\n      <td>11.803239</td>\n      <td>100.0</td>\n      <td>100.0</td>\n      <td>12.0</td>\n      <td>1750.0</td>\n      <td>1850.0</td>\n      <td>62.239485</td>\n    </tr>\n    <tr>\n      <th>curling</th>\n      <td>1.519736</td>\n      <td>2.568897</td>\n      <td>1.049161</td>\n      <td>-11.242424</td>\n      <td>2.408364e-21</td>\n      <td>11.242424</td>\n      <td>100.0</td>\n      <td>100.0</td>\n      <td>12.0</td>\n      <td>1740.0</td>\n      <td>1850.0</td>\n      <td>59.681698</td>\n    </tr>\n    <tr>\n      <th>glitter</th>\n      <td>1.601417</td>\n      <td>2.519531</td>\n      <td>0.918114</td>\n      <td>-27.803556</td>\n      <td>2.815099e-65</td>\n      <td>27.803556</td>\n      <td>100.0</td>\n      <td>100.0</td>\n      <td>12.0</td>\n      <td>1750.0</td>\n      <td>1850.0</td>\n      <td>94.069723</td>\n    </tr>\n    <tr>\n      <th>glare</th>\n      <td>1.971488</td>\n      <td>2.515189</td>\n      <td>0.543701</td>\n      <td>-12.197514</td>\n      <td>3.761962e-19</td>\n      <td>12.197514</td>\n      <td>100.0</td>\n      <td>100.0</td>\n      <td>12.0</td>\n      <td>1745.0</td>\n      <td>1850.0</td>\n      <td>63.471012</td>\n    </tr>\n    <tr>\n      <th>sparkle</th>\n      <td>1.693213</td>\n      <td>2.512589</td>\n      <td>0.819376</td>\n      <td>-24.103117</td>\n      <td>2.953520e-57</td>\n      <td>24.103117</td>\n      <td>100.0</td>\n      <td>100.0</td>\n      <td>12.0</td>\n      <td>1755.0</td>\n      <td>1850.0</td>\n      <td>90.981432</td>\n    </tr>\n    <tr>\n      <th>raven</th>\n      <td>0.814954</td>\n      <td>2.506295</td>\n      <td>1.691341</td>\n      <td>-14.582610</td>\n      <td>3.478573e-31</td>\n      <td>14.582610</td>\n      <td>100.0</td>\n      <td>100.0</td>\n      <td>12.0</td>\n      <td>1735.0</td>\n      <td>1850.0</td>\n      <td>71.864343</td>\n    </tr>\n    <tr>\n      <th>kindling</th>\n      <td>1.436685</td>\n      <td>2.490993</td>\n      <td>1.054308</td>\n      <td>-16.621203</td>\n      <td>6.875032e-35</td>\n      <td>16.621203</td>\n      <td>100.0</td>\n      <td>100.0</td>\n      <td>12.0</td>\n      <td>1745.0</td>\n      <td>1850.0</td>\n      <td>77.870405</td>\n    </tr>\n    <tr>\n      <th>sheen</th>\n      <td>0.157688</td>\n      <td>2.490217</td>\n      <td>2.332529</td>\n      <td>-42.666833</td>\n      <td>8.209051e-94</td>\n      <td>42.666833</td>\n      <td>100.0</td>\n      <td>100.0</td>\n      <td>12.0</td>\n      <td>1745.0</td>\n      <td>1850.0</td>\n      <td>98.787419</td>\n    </tr>\n    <tr>\n      <th>lark</th>\n      <td>1.460937</td>\n      <td>2.488445</td>\n      <td>1.027508</td>\n      <td>-12.212945</td>\n      <td>2.966978e-21</td>\n      <td>12.212945</td>\n      <td>100.0</td>\n      <td>100.0</td>\n      <td>12.0</td>\n      <td>1735.0</td>\n      <td>1850.0</td>\n      <td>63.546798</td>\n    </tr>\n    <tr>\n      <th>face</th>\n      <td>1.340338</td>\n      <td>2.464131</td>\n      <td>1.123794</td>\n      <td>-23.259959</td>\n      <td>1.535458e-52</td>\n      <td>23.259959</td>\n      <td>100.0</td>\n      <td>100.0</td>\n      <td>12.0</td>\n      <td>1730.0</td>\n      <td>1850.0</td>\n      <td>90.109890</td>\n    </tr>\n    <tr>\n      <th>frown</th>\n      <td>1.329480</td>\n      <td>2.459693</td>\n      <td>1.130213</td>\n      <td>-10.848155</td>\n      <td>5.363763e-20</td>\n      <td>10.848155</td>\n      <td>100.0</td>\n      <td>100.0</td>\n      <td>12.0</td>\n      <td>1735.0</td>\n      <td>1850.0</td>\n      <td>57.768094</td>\n    </tr>\n    <tr>\n      <th>cheek</th>\n      <td>1.559062</td>\n      <td>2.447897</td>\n      <td>0.888836</td>\n      <td>-9.548801</td>\n      <td>1.261386e-15</td>\n      <td>9.548801</td>\n      <td>100.0</td>\n      <td>100.0</td>\n      <td>12.0</td>\n      <td>1735.0</td>\n      <td>1850.0</td>\n      <td>51.724138</td>\n    </tr>\n    <tr>\n      <th>brow</th>\n      <td>1.655045</td>\n      <td>2.438425</td>\n      <td>0.783380</td>\n      <td>-10.720846</td>\n      <td>2.397532e-18</td>\n      <td>10.720846</td>\n      <td>100.0</td>\n      <td>100.0</td>\n      <td>12.0</td>\n      <td>1730.0</td>\n      <td>1850.0</td>\n      <td>57.142857</td>\n    </tr>\n    <tr>\n      <th>glade</th>\n      <td>1.835469</td>\n      <td>2.434280</td>\n      <td>0.598810</td>\n      <td>-13.225044</td>\n      <td>2.394857e-25</td>\n      <td>13.225044</td>\n      <td>100.0</td>\n      <td>100.0</td>\n      <td>12.0</td>\n      <td>1745.0</td>\n      <td>1850.0</td>\n      <td>66.976127</td>\n    </tr>\n    <tr>\n      <th>gleam</th>\n      <td>1.956527</td>\n      <td>2.424279</td>\n      <td>0.467752</td>\n      <td>-12.348415</td>\n      <td>3.229188e-22</td>\n      <td>12.348415</td>\n      <td>100.0</td>\n      <td>100.0</td>\n      <td>12.0</td>\n      <td>1745.0</td>\n      <td>1850.0</td>\n      <td>63.982569</td>\n    </tr>\n    <tr>\n      <th>radiance</th>\n      <td>1.904144</td>\n      <td>2.408665</td>\n      <td>0.504520</td>\n      <td>-11.190586</td>\n      <td>7.259150e-18</td>\n      <td>11.190586</td>\n      <td>100.0</td>\n      <td>100.0</td>\n      <td>12.0</td>\n      <td>1750.0</td>\n      <td>1850.0</td>\n      <td>59.511178</td>\n    </tr>\n    <tr>\n      <th>nymph</th>\n      <td>1.884945</td>\n      <td>2.404171</td>\n      <td>0.519226</td>\n      <td>-10.416847</td>\n      <td>4.982720e-18</td>\n      <td>10.416847</td>\n      <td>100.0</td>\n      <td>100.0</td>\n      <td>12.0</td>\n      <td>1735.0</td>\n      <td>1850.0</td>\n      <td>56.100796</td>\n    </tr>\n    <tr>\n      <th>sunshine</th>\n      <td>1.546438</td>\n      <td>2.383760</td>\n      <td>0.837322</td>\n      <td>-23.961675</td>\n      <td>4.284117e-50</td>\n      <td>23.961675</td>\n      <td>100.0</td>\n      <td>100.0</td>\n      <td>12.0</td>\n      <td>1755.0</td>\n      <td>1850.0</td>\n      <td>90.791967</td>\n    </tr>\n    <tr>\n      <th>shade</th>\n      <td>1.475693</td>\n      <td>2.368839</td>\n      <td>0.893146</td>\n      <td>-10.028676</td>\n      <td>3.981741e-15</td>\n      <td>10.028676</td>\n      <td>100.0</td>\n      <td>100.0</td>\n      <td>12.0</td>\n      <td>1730.0</td>\n      <td>1850.0</td>\n      <td>54.225085</td>\n    </tr>\n    <tr>\n      <th>fawn</th>\n      <td>1.384544</td>\n      <td>2.337806</td>\n      <td>0.953262</td>\n      <td>-18.274898</td>\n      <td>4.698873e-40</td>\n      <td>18.274898</td>\n      <td>100.0</td>\n      <td>100.0</td>\n      <td>12.0</td>\n      <td>1745.0</td>\n      <td>1850.0</td>\n      <td>81.640773</td>\n    </tr>\n    <tr>\n      <th>foam</th>\n      <td>1.712251</td>\n      <td>2.330547</td>\n      <td>0.618296</td>\n      <td>-12.406763</td>\n      <td>1.166878e-23</td>\n      <td>12.406763</td>\n      <td>100.0</td>\n      <td>100.0</td>\n      <td>12.0</td>\n      <td>1740.0</td>\n      <td>1850.0</td>\n      <td>64.323607</td>\n    </tr>\n    <tr>\n      <th>spray</th>\n      <td>1.751512</td>\n      <td>2.326984</td>\n      <td>0.575472</td>\n      <td>-9.846782</td>\n      <td>1.943847e-14</td>\n      <td>9.846782</td>\n      <td>100.0</td>\n      <td>100.0</td>\n      <td>12.0</td>\n      <td>1745.0</td>\n      <td>1850.0</td>\n      <td>53.239864</td>\n    </tr>\n  </tbody>\n</table>\n</div>",
          "text/plain": "             mean1     mean2  mean_diff  mean_diff_t   mean_diff_p  \\\nword                                                                 \nchill     1.607881  2.927050   1.319169   -20.766757  9.585161e-46   \nglow      1.716335  2.785022   1.068687   -16.006926  1.411616e-32   \nvisage    1.665382  2.775261   1.109879   -18.757246  1.327097e-40   \nzephyr    2.124510  2.644091   0.519581   -11.803239  4.685558e-18   \ncurling   1.519736  2.568897   1.049161   -11.242424  2.408364e-21   \nglitter   1.601417  2.519531   0.918114   -27.803556  2.815099e-65   \nglare     1.971488  2.515189   0.543701   -12.197514  3.761962e-19   \nsparkle   1.693213  2.512589   0.819376   -24.103117  2.953520e-57   \nraven     0.814954  2.506295   1.691341   -14.582610  3.478573e-31   \nkindling  1.436685  2.490993   1.054308   -16.621203  6.875032e-35   \nsheen     0.157688  2.490217   2.332529   -42.666833  8.209051e-94   \nlark      1.460937  2.488445   1.027508   -12.212945  2.966978e-21   \nface      1.340338  2.464131   1.123794   -23.259959  1.535458e-52   \nfrown     1.329480  2.459693   1.130213   -10.848155  5.363763e-20   \ncheek     1.559062  2.447897   0.888836    -9.548801  1.261386e-15   \nbrow      1.655045  2.438425   0.783380   -10.720846  2.397532e-18   \nglade     1.835469  2.434280   0.598810   -13.225044  2.394857e-25   \ngleam     1.956527  2.424279   0.467752   -12.348415  3.229188e-22   \nradiance  1.904144  2.408665   0.504520   -11.190586  7.259150e-18   \nnymph     1.884945  2.404171   0.519226   -10.416847  4.982720e-18   \nsunshine  1.546438  2.383760   0.837322   -23.961675  4.284117e-50   \nshade     1.475693  2.368839   0.893146   -10.028676  3.981741e-15   \nfawn      1.384544  2.337806   0.953262   -18.274898  4.698873e-40   \nfoam      1.712251  2.330547   0.618296   -12.406763  1.166878e-23   \nspray     1.751512  2.326984   0.575472    -9.846782  1.943847e-14   \n\n          mean_diff_t_abs   len1   len2  trun   year1   year2  \\\nword                                                            \nchill           20.766757  100.0  100.0  12.0  1745.0  1850.0   \nglow            16.006926  100.0  100.0  12.0  1740.0  1850.0   \nvisage          18.757246  100.0  100.0  12.0  1745.0  1850.0   \nzephyr          11.803239  100.0  100.0  12.0  1750.0  1850.0   \ncurling         11.242424  100.0  100.0  12.0  1740.0  1850.0   \nglitter         27.803556  100.0  100.0  12.0  1750.0  1850.0   \nglare           12.197514  100.0  100.0  12.0  1745.0  1850.0   \nsparkle         24.103117  100.0  100.0  12.0  1755.0  1850.0   \nraven           14.582610  100.0  100.0  12.0  1735.0  1850.0   \nkindling        16.621203  100.0  100.0  12.0  1745.0  1850.0   \nsheen           42.666833  100.0  100.0  12.0  1745.0  1850.0   \nlark            12.212945  100.0  100.0  12.0  1735.0  1850.0   \nface            23.259959  100.0  100.0  12.0  1730.0  1850.0   \nfrown           10.848155  100.0  100.0  12.0  1735.0  1850.0   \ncheek            9.548801  100.0  100.0  12.0  1735.0  1850.0   \nbrow            10.720846  100.0  100.0  12.0  1730.0  1850.0   \nglade           13.225044  100.0  100.0  12.0  1745.0  1850.0   \ngleam           12.348415  100.0  100.0  12.0  1745.0  1850.0   \nradiance        11.190586  100.0  100.0  12.0  1750.0  1850.0   \nnymph           10.416847  100.0  100.0  12.0  1735.0  1850.0   \nsunshine        23.961675  100.0  100.0  12.0  1755.0  1850.0   \nshade           10.028676  100.0  100.0  12.0  1730.0  1850.0   \nfawn            18.274898  100.0  100.0  12.0  1745.0  1850.0   \nfoam            12.406763  100.0  100.0  12.0  1740.0  1850.0   \nspray            9.846782  100.0  100.0  12.0  1745.0  1850.0   \n\n          perc_mean_diff_t_abs  \nword                            \nchill                86.434255  \nglow                 76.203107  \nvisage               82.777567  \nzephyr               62.239485  \ncurling              59.681698  \nglitter              94.069723  \nglare                63.471012  \nsparkle              90.981432  \nraven                71.864343  \nkindling             77.870405  \nsheen                98.787419  \nlark                 63.546798  \nface                 90.109890  \nfrown                57.768094  \ncheek                51.724138  \nbrow                 57.142857  \nglade                66.976127  \ngleam                63.982569  \nradiance             59.511178  \nnymph                56.100796  \nsunshine             90.791967  \nshade                54.225085  \nfawn                 81.640773  \nfoam                 64.323607  \nspray                53.239864  "
         },
         "metadata": {},
         "output_type": "display_data"
        }
       ]
      }
     },
     "0fc9656d38b1413eaf5a94d2bd8335d4": {
      "model_module": "@jupyter-widgets/base",
      "model_module_version": "1.2.0",
      "model_name": "LayoutModel",
      "state": {}
     },
     "103b3f39f27749aa9e01e0edca7078c4": {
      "model_module": "@jupyter-widgets/controls",
      "model_module_version": "1.5.0",
      "model_name": "DescriptionStyleModel",
      "state": {
       "description_width": ""
      }
     },
     "11d78a14259a458a9d555a7053dabaea": {
      "model_module": "@jupyter-widgets/controls",
      "model_module_version": "1.5.0",
      "model_name": "DescriptionStyleModel",
      "state": {
       "description_width": ""
      }
     },
     "1318a6ee44654b80b60372b35348061b": {
      "model_module": "@jupyter-widgets/base",
      "model_module_version": "1.2.0",
      "model_name": "LayoutModel",
      "state": {}
     },
     "15492e5f678048eb891b94beedef497a": {
      "model_module": "@jupyter-widgets/base",
      "model_module_version": "1.2.0",
      "model_name": "LayoutModel",
      "state": {}
     },
     "18eb4f5c84d64bebbda5306672b98fc1": {
      "model_module": "@jupyter-widgets/controls",
      "model_module_version": "1.5.0",
      "model_name": "DescriptionStyleModel",
      "state": {
       "description_width": ""
      }
     },
     "1c5a8389bcf543e685fc2fb246131cea": {
      "model_module": "@jupyter-widgets/controls",
      "model_module_version": "1.5.0",
      "model_name": "DescriptionStyleModel",
      "state": {
       "description_width": ""
      }
     },
     "1cd0025c83434e2ba07068d62e9aa5d8": {
      "model_module": "@jupyter-widgets/output",
      "model_module_version": "1.0.0",
      "model_name": "OutputModel",
      "state": {
       "layout": "IPY_MODEL_f78cc1acc5cf4c96b1327558316fdf16",
       "outputs": [
        {
         "data": {
          "text/markdown": "### Qual-Quant.HGI",
          "text/plain": "<IPython.core.display.Markdown object>"
         },
         "metadata": {},
         "output_type": "display_data"
        },
        {
         "data": {
          "text/markdown": "* **Top 100 words**: chill, glow, visage, zephyr, curling, glitter, glare, sparkle, raven, kindling, sheen, lark, face, frown, cheek, brow, glade, gleam, radiance, nymph, sunshine, shade, fawn, foam, spray, primrose, rainbow, dart, blackness, twilight, lip, rose, smile, hue, gait, touch, breeze, mood, gliding, hoar, curl, gloom, softness, sky, eye, breast, mask, plume, breath, breathing, gust, pallor, heaving, dove, thorn, light, mantle, blast, perfume, whiteness, serenity, hawthorn, roughness, tinge, blaze, fragrance, dash, brake, dew, wand, countenance, haze, flash, scent, lily, brightness, moan, verdure, blush, melting, shadow, broom, mist, woodland, garb, lair, sadness, butterfly, fiend, bosom, gaze, warmth, smell, couch, sweetness, morn, wave, tempest, bloom, heart",
          "text/plain": "<IPython.core.display.Markdown object>"
         },
         "metadata": {},
         "output_type": "display_data"
        },
        {
         "data": {
          "text/markdown": "* **Bottom 100 words**: number, sum, amount, rental, surplus, revenue, augmentation, deficit, income, cost, payment, valuation, reduction, stipend, computation, salary, subsidy, premium, subscription, tonnage, division, equivalent, multiplication, reckoning, dollar, loan, dividend, year, annuity, contingent, capital, ratio, majority, remainder, cent, proportion, list, calculation, fund, purchase, indemnity, distribution, endowment, specie, schedule, tithe, debt, numbering, profit, expense, residue, maintenance, freehold, option, value, property, pension, qualification, mortgage, establishment, diminution, farthing, population, compensation, appropriation, donation, bulk, taxation, money, allowance, limitation, sale, pound, admission, fee, penny, sales, issue, accommodation, resident, subscriber, hiring, lease, contract, series, saving, remission, week, supplement, expiration, currency, quarter, certificate, tax, rate, colony, treasury, postage, deduction, collection",
          "text/plain": "<IPython.core.display.Markdown object>"
         },
         "metadata": {},
         "output_type": "display_data"
        },
        {
         "data": {
          "text/html": "<div>\n<style scoped>\n    .dataframe tbody tr th:only-of-type {\n        vertical-align: middle;\n    }\n\n    .dataframe tbody tr th {\n        vertical-align: top;\n    }\n\n    .dataframe thead th {\n        text-align: right;\n    }\n</style>\n<table border=\"1\" class=\"dataframe\">\n  <thead>\n    <tr style=\"text-align: right;\">\n      <th></th>\n      <th>mean1</th>\n      <th>mean2</th>\n      <th>mean_diff</th>\n      <th>mean_diff_t</th>\n      <th>mean_diff_p</th>\n      <th>mean_diff_t_abs</th>\n      <th>len1</th>\n      <th>len2</th>\n      <th>trun</th>\n      <th>year1</th>\n      <th>year2</th>\n      <th>perc_mean_diff_t_abs</th>\n    </tr>\n    <tr>\n      <th>word</th>\n      <th></th>\n      <th></th>\n      <th></th>\n      <th></th>\n      <th></th>\n      <th></th>\n      <th></th>\n      <th></th>\n      <th></th>\n      <th></th>\n      <th></th>\n      <th></th>\n    </tr>\n  </thead>\n  <tbody>\n    <tr>\n      <th>chill</th>\n      <td>1.607881</td>\n      <td>2.927050</td>\n      <td>1.319169</td>\n      <td>-20.766757</td>\n      <td>9.585161e-46</td>\n      <td>20.766757</td>\n      <td>100.0</td>\n      <td>100.0</td>\n      <td>12.0</td>\n      <td>1745.0</td>\n      <td>1850.0</td>\n      <td>86.434255</td>\n    </tr>\n    <tr>\n      <th>glow</th>\n      <td>1.716335</td>\n      <td>2.785022</td>\n      <td>1.068687</td>\n      <td>-16.006926</td>\n      <td>1.411616e-32</td>\n      <td>16.006926</td>\n      <td>100.0</td>\n      <td>100.0</td>\n      <td>12.0</td>\n      <td>1740.0</td>\n      <td>1850.0</td>\n      <td>76.203107</td>\n    </tr>\n    <tr>\n      <th>visage</th>\n      <td>1.665382</td>\n      <td>2.775261</td>\n      <td>1.109879</td>\n      <td>-18.757246</td>\n      <td>1.327097e-40</td>\n      <td>18.757246</td>\n      <td>100.0</td>\n      <td>100.0</td>\n      <td>12.0</td>\n      <td>1745.0</td>\n      <td>1850.0</td>\n      <td>82.777567</td>\n    </tr>\n    <tr>\n      <th>zephyr</th>\n      <td>2.124510</td>\n      <td>2.644091</td>\n      <td>0.519581</td>\n      <td>-11.803239</td>\n      <td>4.685558e-18</td>\n      <td>11.803239</td>\n      <td>100.0</td>\n      <td>100.0</td>\n      <td>12.0</td>\n      <td>1750.0</td>\n      <td>1850.0</td>\n      <td>62.239485</td>\n    </tr>\n    <tr>\n      <th>curling</th>\n      <td>1.519736</td>\n      <td>2.568897</td>\n      <td>1.049161</td>\n      <td>-11.242424</td>\n      <td>2.408364e-21</td>\n      <td>11.242424</td>\n      <td>100.0</td>\n      <td>100.0</td>\n      <td>12.0</td>\n      <td>1740.0</td>\n      <td>1850.0</td>\n      <td>59.681698</td>\n    </tr>\n    <tr>\n      <th>...</th>\n      <td>...</td>\n      <td>...</td>\n      <td>...</td>\n      <td>...</td>\n      <td>...</td>\n      <td>...</td>\n      <td>...</td>\n      <td>...</td>\n      <td>...</td>\n      <td>...</td>\n      <td>...</td>\n      <td>...</td>\n    </tr>\n    <tr>\n      <th>surplus</th>\n      <td>-2.522613</td>\n      <td>-4.188278</td>\n      <td>-1.665665</td>\n      <td>22.724337</td>\n      <td>1.215453e-51</td>\n      <td>22.724337</td>\n      <td>100.0</td>\n      <td>100.0</td>\n      <td>12.0</td>\n      <td>1740.0</td>\n      <td>1850.0</td>\n      <td>89.503600</td>\n    </tr>\n    <tr>\n      <th>rental</th>\n      <td>-1.414640</td>\n      <td>-4.222027</td>\n      <td>-2.807387</td>\n      <td>49.115898</td>\n      <td>8.726370e-109</td>\n      <td>49.115898</td>\n      <td>100.0</td>\n      <td>100.0</td>\n      <td>12.0</td>\n      <td>1740.0</td>\n      <td>1850.0</td>\n      <td>99.166351</td>\n    </tr>\n    <tr>\n      <th>amount</th>\n      <td>-3.809981</td>\n      <td>-4.284673</td>\n      <td>-0.474692</td>\n      <td>4.039138</td>\n      <td>8.145769e-04</td>\n      <td>4.039138</td>\n      <td>100.0</td>\n      <td>100.0</td>\n      <td>12.0</td>\n      <td>1730.0</td>\n      <td>1850.0</td>\n      <td>22.375900</td>\n    </tr>\n    <tr>\n      <th>sum</th>\n      <td>-3.442634</td>\n      <td>-4.460166</td>\n      <td>-1.017532</td>\n      <td>17.215116</td>\n      <td>2.627404e-36</td>\n      <td>17.215116</td>\n      <td>100.0</td>\n      <td>100.0</td>\n      <td>12.0</td>\n      <td>1730.0</td>\n      <td>1850.0</td>\n      <td>79.158772</td>\n    </tr>\n    <tr>\n      <th>number</th>\n      <td>-3.737667</td>\n      <td>-4.890998</td>\n      <td>-1.153331</td>\n      <td>27.906703</td>\n      <td>3.764008e-65</td>\n      <td>27.906703</td>\n      <td>100.0</td>\n      <td>100.0</td>\n      <td>12.0</td>\n      <td>1730.0</td>\n      <td>1850.0</td>\n      <td>94.126563</td>\n    </tr>\n  </tbody>\n</table>\n<p>4824 rows × 12 columns</p>\n</div>",
          "text/plain": "            mean1     mean2  mean_diff  mean_diff_t    mean_diff_p  \\\nword                                                                 \nchill    1.607881  2.927050   1.319169   -20.766757   9.585161e-46   \nglow     1.716335  2.785022   1.068687   -16.006926   1.411616e-32   \nvisage   1.665382  2.775261   1.109879   -18.757246   1.327097e-40   \nzephyr   2.124510  2.644091   0.519581   -11.803239   4.685558e-18   \ncurling  1.519736  2.568897   1.049161   -11.242424   2.408364e-21   \n...           ...       ...        ...          ...            ...   \nsurplus -2.522613 -4.188278  -1.665665    22.724337   1.215453e-51   \nrental  -1.414640 -4.222027  -2.807387    49.115898  8.726370e-109   \namount  -3.809981 -4.284673  -0.474692     4.039138   8.145769e-04   \nsum     -3.442634 -4.460166  -1.017532    17.215116   2.627404e-36   \nnumber  -3.737667 -4.890998  -1.153331    27.906703   3.764008e-65   \n\n         mean_diff_t_abs   len1   len2  trun   year1   year2  \\\nword                                                           \nchill          20.766757  100.0  100.0  12.0  1745.0  1850.0   \nglow           16.006926  100.0  100.0  12.0  1740.0  1850.0   \nvisage         18.757246  100.0  100.0  12.0  1745.0  1850.0   \nzephyr         11.803239  100.0  100.0  12.0  1750.0  1850.0   \ncurling        11.242424  100.0  100.0  12.0  1740.0  1850.0   \n...                  ...    ...    ...   ...     ...     ...   \nsurplus        22.724337  100.0  100.0  12.0  1740.0  1850.0   \nrental         49.115898  100.0  100.0  12.0  1740.0  1850.0   \namount          4.039138  100.0  100.0  12.0  1730.0  1850.0   \nsum            17.215116  100.0  100.0  12.0  1730.0  1850.0   \nnumber         27.906703  100.0  100.0  12.0  1730.0  1850.0   \n\n         perc_mean_diff_t_abs  \nword                           \nchill               86.434255  \nglow                76.203107  \nvisage              82.777567  \nzephyr              62.239485  \ncurling             59.681698  \n...                       ...  \nsurplus             89.503600  \nrental              99.166351  \namount              22.375900  \nsum                 79.158772  \nnumber              94.126563  \n\n[4824 rows x 12 columns]"
         },
         "metadata": {},
         "output_type": "display_data"
        }
       ]
      }
     },
     "23d8c7fc4b4e46f380cb0cdcc34a8747": {
      "model_module": "@jupyter-widgets/controls",
      "model_module_version": "1.5.0",
      "model_name": "VBoxModel",
      "state": {
       "_dom_classes": [
        "widget-interact"
       ],
       "children": [
        "IPY_MODEL_2bfe563943754b5bac9df7d14aad4e9e",
        "IPY_MODEL_ee4b715c7d0449a3899cc54828806a06",
        "IPY_MODEL_f049b4528a0c4ed8bb00d62b83a5b2d0"
       ],
       "layout": "IPY_MODEL_545060dca4af4e208177a725d7e4e8ca"
      }
     },
     "2bfe563943754b5bac9df7d14aad4e9e": {
      "model_module": "@jupyter-widgets/controls",
      "model_module_version": "1.5.0",
      "model_name": "DropdownModel",
      "state": {
       "_options_labels": [
        "Freq.M",
        "Woman-Man.VG",
        "Polit-Acad.HGI",
        "Qual-Quant.HGI",
        "Active-Passive.HGI",
        "Pleasure-Pain.HGI",
        "Interp-Desc.HGI",
        "Abs-Conc.Median",
        "Pos-Neg.HGI",
        "Human-Object.VG",
        "Strong-Weak.HGI",
        "Time-Space.HGI",
        "Ambig.NX"
       ],
       "description": "vec",
       "index": 2,
       "layout": "IPY_MODEL_0e642914ee5d4f25b657dd430f5fe694",
       "style": "IPY_MODEL_a45cf65617fd41e79a97455b23dd8a08"
      }
     },
     "3062b30880f647618f1edf1108bf386a": {
      "model_module": "@jupyter-widgets/base",
      "model_module_version": "1.2.0",
      "model_name": "LayoutModel",
      "state": {}
     },
     "33e273889a2b44f39eedc26e45a3905f": {
      "model_module": "@jupyter-widgets/controls",
      "model_module_version": "1.5.0",
      "model_name": "DescriptionStyleModel",
      "state": {
       "description_width": ""
      }
     },
     "34a62721c4e241c195c2e62781b87d09": {
      "model_module": "@jupyter-widgets/controls",
      "model_module_version": "1.5.0",
      "model_name": "DropdownModel",
      "state": {
       "_options_labels": [
        "Freq.M",
        "Woman-Man.VG",
        "Polit-Acad.HGI",
        "Qual-Quant.HGI",
        "Active-Passive.HGI",
        "Pleasure-Pain.HGI",
        "Interp-Desc.HGI",
        "Abs-Conc.Median",
        "Pos-Neg.HGI",
        "Human-Object.VG",
        "Strong-Weak.HGI",
        "Time-Space.HGI",
        "Ambig.NX"
       ],
       "description": "vec",
       "index": 6,
       "layout": "IPY_MODEL_8b34060845024cf694a0b23690f40c31",
       "style": "IPY_MODEL_b1f319a53a514414b1c7239bd81b8a60"
      }
     },
     "34f4b787bb5646428cfaa66c669cca2b": {
      "model_module": "@jupyter-widgets/controls",
      "model_module_version": "1.5.0",
      "model_name": "DropdownModel",
      "state": {
       "_options_labels": [
        "mean1",
        "mean2",
        "mean_diff",
        "mean_diff_t_abs"
       ],
       "description": "sby",
       "index": 2,
       "layout": "IPY_MODEL_f9522daf6c5d4aa09e4152e898586c5a",
       "style": "IPY_MODEL_3f6faf5786bc4cf0a6e0993a0f2cdf78"
      }
     },
     "362b5a8798974ba48b36d45c9e7ceda1": {
      "model_module": "@jupyter-widgets/base",
      "model_module_version": "1.2.0",
      "model_name": "LayoutModel",
      "state": {}
     },
     "36c3dc2645f240b9906f45e39ea2b1eb": {
      "model_module": "@jupyter-widgets/base",
      "model_module_version": "1.2.0",
      "model_name": "LayoutModel",
      "state": {}
     },
     "3776f5401fd641b29e2e624d06643859": {
      "model_module": "@jupyter-widgets/controls",
      "model_module_version": "1.5.0",
      "model_name": "DescriptionStyleModel",
      "state": {
       "description_width": ""
      }
     },
     "3842e849467849c8a14c825b8fc35825": {
      "model_module": "@jupyter-widgets/base",
      "model_module_version": "1.2.0",
      "model_name": "LayoutModel",
      "state": {}
     },
     "3915d402ccde42099e57857f436153fc": {
      "model_module": "@jupyter-widgets/base",
      "model_module_version": "1.2.0",
      "model_name": "LayoutModel",
      "state": {}
     },
     "39a885984cc94874809749b3a6381851": {
      "model_module": "@jupyter-widgets/base",
      "model_module_version": "1.2.0",
      "model_name": "LayoutModel",
      "state": {}
     },
     "3af6f24144cd4b449e4c682818eb2cd0": {
      "model_module": "@jupyter-widgets/controls",
      "model_module_version": "1.5.0",
      "model_name": "DropdownModel",
      "state": {
       "_options_labels": [
        "mean1",
        "mean2",
        "mean_diff",
        "mean_diff_t",
        "mean_diff_t_abs"
       ],
       "description": "sby",
       "index": 3,
       "layout": "IPY_MODEL_0666da978622403e9c59c315b1149c13",
       "style": "IPY_MODEL_729601f0093745c1a71ab9f954c603ab"
      }
     },
     "3c7428816c7d415b90bed4a483aedc6e": {
      "model_module": "@jupyter-widgets/controls",
      "model_module_version": "1.5.0",
      "model_name": "DropdownModel",
      "state": {
       "_options_labels": [
        "Freq.M",
        "Woman-Man.VG",
        "Polit-Acad.HGI",
        "Qual-Quant.HGI",
        "Active-Passive.HGI",
        "Pleasure-Pain.HGI",
        "Interp-Desc.HGI",
        "Abs-Conc.Median",
        "Pos-Neg.HGI",
        "Human-Object.VG",
        "Strong-Weak.HGI",
        "Time-Space.HGI",
        "Ambig.NX"
       ],
       "description": "vec",
       "index": 2,
       "layout": "IPY_MODEL_4420bd4b78904963a96b9b59c72cc1c3",
       "style": "IPY_MODEL_4da192f53d674d318805bcdef437d3f7"
      }
     },
     "3d2300acc19c4c918cf11cc9669b56a3": {
      "model_module": "@jupyter-widgets/base",
      "model_module_version": "1.2.0",
      "model_name": "LayoutModel",
      "state": {}
     },
     "3e3cdaf0dac644c3beebcefa6debba2f": {
      "model_module": "@jupyter-widgets/controls",
      "model_module_version": "1.5.0",
      "model_name": "DescriptionStyleModel",
      "state": {
       "description_width": ""
      }
     },
     "3f6faf5786bc4cf0a6e0993a0f2cdf78": {
      "model_module": "@jupyter-widgets/controls",
      "model_module_version": "1.5.0",
      "model_name": "DescriptionStyleModel",
      "state": {
       "description_width": ""
      }
     },
     "40a0c767320942639703ead192a82cd5": {
      "model_module": "@jupyter-widgets/controls",
      "model_module_version": "1.5.0",
      "model_name": "VBoxModel",
      "state": {
       "_dom_classes": [
        "widget-interact"
       ],
       "children": [
        "IPY_MODEL_a2f1853730ca46ad920ed21daf914940",
        "IPY_MODEL_ea569c2dfd334979980cb826a1ee7f63",
        "IPY_MODEL_91935d89191d4f368a56726d0b8e4902"
       ],
       "layout": "IPY_MODEL_d0e5a532ebfc43218c0ea5d98a45035b"
      }
     },
     "424f6a14059c4cfb82bd2b7046ceeded": {
      "model_module": "@jupyter-widgets/output",
      "model_module_version": "1.0.0",
      "model_name": "OutputModel",
      "state": {
       "layout": "IPY_MODEL_78de7963541b44bc98eadcf5a515abde",
       "outputs": [
        {
         "data": {
          "text/markdown": "### Interp-Desc.HGI",
          "text/plain": "<IPython.core.display.Markdown object>"
         },
         "metadata": {},
         "output_type": "display_data"
        },
        {
         "data": {
          "text/markdown": "* **Top 100 words**: lack, organization, tact, transportation, sect, retention, aid, contribution, advert, role, viewing, consummation, manufacturing, league, engineer, chef, cloth, park, blockade, trait, labourer, regime, value, breadth, data, gallery, china, career, watt, enterprise, school, veto, dealing, negro, test, archdeacon, communication, lace, builder, transfer, piracy, goal, corps, turkey, record, lunacy, canning, canal, goldsmith, exposition, architect, par, training, goodwill, failure, estimate, drawback, amount, clue, suppression, mining, delineation, absence, comp, collateral, recognition, strand, focus, incorporation, feature, committee, gurney, missionary, guild, cycle, commander, street, site, cabinet, maker, cape, intrigue, suit, advocate, surveyor, burglary, lecturer, cotton, lending, coal, gazette, square, restoration, gentlewoman, reformer, unwillingness, regeneration, pendant, derby, vindication",
          "text/plain": "<IPython.core.display.Markdown object>"
         },
         "metadata": {},
         "output_type": "display_data"
        },
        {
         "data": {
          "text/markdown": "* **Bottom 100 words**: muff, stile, mud, belt, moss, stall, fence, railing, frill, jelly, sitting, slate, standing, stretch, rill, moving, conduit, ledge, tress, kicking, stew, bouquet, glory, patch, perspiration, demon, peak, gasp, greeting, thistle, gig, swing, punt, haft, wile, bang, slice, leek, exertion, divan, cur, loon, soul, filly, darling, helm, froth, reel, kiss, jib, mutt, blessing, trail, dive, voice, heaven, rake, thinking, sob, runner, silence, tarn, cone, tick, rap, clearing, breath, thud, applause, chime, breathing, shadow, groan, slit, jug, rage, lump, kilt, boom, tuft, haze, mug, dart, hip, tray, goodness, lather, kite, mercy, git, chatter, succession, conversation, joy, murmur, hush, happiness, moan, cove, malice",
          "text/plain": "<IPython.core.display.Markdown object>"
         },
         "metadata": {},
         "output_type": "display_data"
        },
        {
         "data": {
          "text/html": "<div>\n<style scoped>\n    .dataframe tbody tr th:only-of-type {\n        vertical-align: middle;\n    }\n\n    .dataframe tbody tr th {\n        vertical-align: top;\n    }\n\n    .dataframe thead th {\n        text-align: right;\n    }\n</style>\n<table border=\"1\" class=\"dataframe\">\n  <thead>\n    <tr style=\"text-align: right;\">\n      <th></th>\n      <th>mean1</th>\n      <th>mean2</th>\n      <th>mean_diff</th>\n      <th>mean_diff_t</th>\n      <th>mean_diff_p</th>\n      <th>mean_diff_t_abs</th>\n      <th>len1</th>\n      <th>len2</th>\n      <th>trun</th>\n      <th>year1</th>\n      <th>year2</th>\n      <th>perc_mean_diff_t_abs</th>\n    </tr>\n    <tr>\n      <th>word</th>\n      <th></th>\n      <th></th>\n      <th></th>\n      <th></th>\n      <th></th>\n      <th></th>\n      <th></th>\n      <th></th>\n      <th></th>\n      <th></th>\n      <th></th>\n      <th></th>\n    </tr>\n  </thead>\n  <tbody>\n    <tr>\n      <th>lack</th>\n      <td>-1.410444</td>\n      <td>0.775912</td>\n      <td>2.186356</td>\n      <td>-41.007672</td>\n      <td>5.053033e-94</td>\n      <td>41.007672</td>\n      <td>100.0</td>\n      <td>100.0</td>\n      <td>12.0</td>\n      <td>1730.0</td>\n      <td>1850.0</td>\n      <td>97.877984</td>\n    </tr>\n    <tr>\n      <th>organization</th>\n      <td>0.306316</td>\n      <td>2.408556</td>\n      <td>2.102240</td>\n      <td>-54.771379</td>\n      <td>3.360033e-112</td>\n      <td>54.771379</td>\n      <td>100.0</td>\n      <td>100.0</td>\n      <td>12.0</td>\n      <td>1755.0</td>\n      <td>1850.0</td>\n      <td>99.298977</td>\n    </tr>\n    <tr>\n      <th>tact</th>\n      <td>-0.308964</td>\n      <td>1.790855</td>\n      <td>2.099819</td>\n      <td>-66.750628</td>\n      <td>7.853663e-122</td>\n      <td>66.750628</td>\n      <td>100.0</td>\n      <td>100.0</td>\n      <td>12.0</td>\n      <td>1745.0</td>\n      <td>1850.0</td>\n      <td>99.696855</td>\n    </tr>\n    <tr>\n      <th>transportation</th>\n      <td>-0.866032</td>\n      <td>1.185027</td>\n      <td>2.051060</td>\n      <td>-85.206177</td>\n      <td>9.647048e-151</td>\n      <td>85.206177</td>\n      <td>100.0</td>\n      <td>100.0</td>\n      <td>12.0</td>\n      <td>1735.0</td>\n      <td>1850.0</td>\n      <td>99.981053</td>\n    </tr>\n    <tr>\n      <th>sect</th>\n      <td>-0.787048</td>\n      <td>1.178697</td>\n      <td>1.965745</td>\n      <td>-26.304761</td>\n      <td>4.536480e-60</td>\n      <td>26.304761</td>\n      <td>100.0</td>\n      <td>100.0</td>\n      <td>12.0</td>\n      <td>1730.0</td>\n      <td>1850.0</td>\n      <td>91.568776</td>\n    </tr>\n    <tr>\n      <th>...</th>\n      <td>...</td>\n      <td>...</td>\n      <td>...</td>\n      <td>...</td>\n      <td>...</td>\n      <td>...</td>\n      <td>...</td>\n      <td>...</td>\n      <td>...</td>\n      <td>...</td>\n      <td>...</td>\n      <td>...</td>\n    </tr>\n    <tr>\n      <th>moss</th>\n      <td>0.828226</td>\n      <td>-1.578286</td>\n      <td>-2.406511</td>\n      <td>30.620531</td>\n      <td>7.659925e-73</td>\n      <td>30.620531</td>\n      <td>100.0</td>\n      <td>100.0</td>\n      <td>12.0</td>\n      <td>1730.0</td>\n      <td>1850.0</td>\n      <td>94.259189</td>\n    </tr>\n    <tr>\n      <th>belt</th>\n      <td>0.981652</td>\n      <td>-1.435899</td>\n      <td>-2.417551</td>\n      <td>45.245331</td>\n      <td>4.505767e-102</td>\n      <td>45.245331</td>\n      <td>100.0</td>\n      <td>100.0</td>\n      <td>12.0</td>\n      <td>1730.0</td>\n      <td>1850.0</td>\n      <td>98.616900</td>\n    </tr>\n    <tr>\n      <th>mud</th>\n      <td>0.746706</td>\n      <td>-2.052500</td>\n      <td>-2.799206</td>\n      <td>46.683471</td>\n      <td>6.175708e-105</td>\n      <td>46.683471</td>\n      <td>100.0</td>\n      <td>100.0</td>\n      <td>12.0</td>\n      <td>1730.0</td>\n      <td>1850.0</td>\n      <td>98.787419</td>\n    </tr>\n    <tr>\n      <th>stile</th>\n      <td>1.086786</td>\n      <td>-2.092531</td>\n      <td>-3.179317</td>\n      <td>52.984559</td>\n      <td>2.366869e-111</td>\n      <td>52.984559</td>\n      <td>100.0</td>\n      <td>100.0</td>\n      <td>12.0</td>\n      <td>1730.0</td>\n      <td>1850.0</td>\n      <td>99.204244</td>\n    </tr>\n    <tr>\n      <th>muff</th>\n      <td>1.625526</td>\n      <td>-1.617805</td>\n      <td>-3.243331</td>\n      <td>70.990694</td>\n      <td>1.106674e-139</td>\n      <td>70.990694</td>\n      <td>100.0</td>\n      <td>100.0</td>\n      <td>12.0</td>\n      <td>1730.0</td>\n      <td>1850.0</td>\n      <td>99.810534</td>\n    </tr>\n  </tbody>\n</table>\n<p>4824 rows × 12 columns</p>\n</div>",
          "text/plain": "                   mean1     mean2  mean_diff  mean_diff_t    mean_diff_p  \\\nword                                                                        \nlack           -1.410444  0.775912   2.186356   -41.007672   5.053033e-94   \norganization    0.306316  2.408556   2.102240   -54.771379  3.360033e-112   \ntact           -0.308964  1.790855   2.099819   -66.750628  7.853663e-122   \ntransportation -0.866032  1.185027   2.051060   -85.206177  9.647048e-151   \nsect           -0.787048  1.178697   1.965745   -26.304761   4.536480e-60   \n...                  ...       ...        ...          ...            ...   \nmoss            0.828226 -1.578286  -2.406511    30.620531   7.659925e-73   \nbelt            0.981652 -1.435899  -2.417551    45.245331  4.505767e-102   \nmud             0.746706 -2.052500  -2.799206    46.683471  6.175708e-105   \nstile           1.086786 -2.092531  -3.179317    52.984559  2.366869e-111   \nmuff            1.625526 -1.617805  -3.243331    70.990694  1.106674e-139   \n\n                mean_diff_t_abs   len1   len2  trun   year1   year2  \\\nword                                                                  \nlack                  41.007672  100.0  100.0  12.0  1730.0  1850.0   \norganization          54.771379  100.0  100.0  12.0  1755.0  1850.0   \ntact                  66.750628  100.0  100.0  12.0  1745.0  1850.0   \ntransportation        85.206177  100.0  100.0  12.0  1735.0  1850.0   \nsect                  26.304761  100.0  100.0  12.0  1730.0  1850.0   \n...                         ...    ...    ...   ...     ...     ...   \nmoss                  30.620531  100.0  100.0  12.0  1730.0  1850.0   \nbelt                  45.245331  100.0  100.0  12.0  1730.0  1850.0   \nmud                   46.683471  100.0  100.0  12.0  1730.0  1850.0   \nstile                 52.984559  100.0  100.0  12.0  1730.0  1850.0   \nmuff                  70.990694  100.0  100.0  12.0  1730.0  1850.0   \n\n                perc_mean_diff_t_abs  \nword                                  \nlack                       97.877984  \norganization               99.298977  \ntact                       99.696855  \ntransportation             99.981053  \nsect                       91.568776  \n...                              ...  \nmoss                       94.259189  \nbelt                       98.616900  \nmud                        98.787419  \nstile                      99.204244  \nmuff                       99.810534  \n\n[4824 rows x 12 columns]"
         },
         "metadata": {},
         "output_type": "display_data"
        }
       ]
      }
     },
     "4420bd4b78904963a96b9b59c72cc1c3": {
      "model_module": "@jupyter-widgets/base",
      "model_module_version": "1.2.0",
      "model_name": "LayoutModel",
      "state": {}
     },
     "46033b6dc5404d8bb4e2be566bddcf34": {
      "model_module": "@jupyter-widgets/controls",
      "model_module_version": "1.5.0",
      "model_name": "DescriptionStyleModel",
      "state": {
       "description_width": ""
      }
     },
     "48c00b6520d0461598c4f476c038f265": {
      "model_module": "@jupyter-widgets/controls",
      "model_module_version": "1.5.0",
      "model_name": "DescriptionStyleModel",
      "state": {
       "description_width": ""
      }
     },
     "49e692446fba45c79e3d96be8620648e": {
      "model_module": "@jupyter-widgets/base",
      "model_module_version": "1.2.0",
      "model_name": "LayoutModel",
      "state": {}
     },
     "4da192f53d674d318805bcdef437d3f7": {
      "model_module": "@jupyter-widgets/controls",
      "model_module_version": "1.5.0",
      "model_name": "DescriptionStyleModel",
      "state": {
       "description_width": ""
      }
     },
     "4e1f7657edad427c95b4ffbb2f2f4649": {
      "model_module": "@jupyter-widgets/controls",
      "model_module_version": "1.5.0",
      "model_name": "VBoxModel",
      "state": {
       "_dom_classes": [
        "widget-interact"
       ],
       "children": [
        "IPY_MODEL_3c7428816c7d415b90bed4a483aedc6e",
        "IPY_MODEL_047e84c9c890491db2da41bb55b3fba2",
        "IPY_MODEL_dbb7c60f0ffd49b5a63c149bdd0478cc"
       ],
       "layout": "IPY_MODEL_62b900e624d741ef9689ac2b32bf3d5c"
      }
     },
     "5392f13bd3c9412194f9b5239b410116": {
      "model_module": "@jupyter-widgets/controls",
      "model_module_version": "1.5.0",
      "model_name": "VBoxModel",
      "state": {
       "_dom_classes": [
        "widget-interact"
       ],
       "children": [
        "IPY_MODEL_da4366d4961046bc90faf0cb3361409a",
        "IPY_MODEL_d3b45a05ac42445382b41b439f81e310",
        "IPY_MODEL_ece5e4172ba44edb89411f45246a9abd"
       ],
       "layout": "IPY_MODEL_c572f5a15a1e48eeaa14508534a1d890"
      }
     },
     "545060dca4af4e208177a725d7e4e8ca": {
      "model_module": "@jupyter-widgets/base",
      "model_module_version": "1.2.0",
      "model_name": "LayoutModel",
      "state": {}
     },
     "5ba1d3f7e4ad4e61800e10610d3291b0": {
      "model_module": "@jupyter-widgets/base",
      "model_module_version": "1.2.0",
      "model_name": "LayoutModel",
      "state": {}
     },
     "62b900e624d741ef9689ac2b32bf3d5c": {
      "model_module": "@jupyter-widgets/base",
      "model_module_version": "1.2.0",
      "model_name": "LayoutModel",
      "state": {}
     },
     "696e212b1b46470e9b108cdd52668d38": {
      "model_module": "@jupyter-widgets/controls",
      "model_module_version": "1.5.0",
      "model_name": "VBoxModel",
      "state": {
       "_dom_classes": [
        "widget-interact"
       ],
       "children": [
        "IPY_MODEL_34a62721c4e241c195c2e62781b87d09",
        "IPY_MODEL_34f4b787bb5646428cfaa66c669cca2b",
        "IPY_MODEL_424f6a14059c4cfb82bd2b7046ceeded"
       ],
       "layout": "IPY_MODEL_f2378ed7998c4f62a80522f4cbc80e68"
      }
     },
     "6a184e44b4704477ad3afbbc66d5ba1a": {
      "model_module": "@jupyter-widgets/controls",
      "model_module_version": "1.5.0",
      "model_name": "VBoxModel",
      "state": {
       "_dom_classes": [
        "widget-interact"
       ],
       "children": [
        "IPY_MODEL_89b1b7fc50a248129e6c7a59f73665ed",
        "IPY_MODEL_a4074595c99c495eba2cc361654d7740",
        "IPY_MODEL_0f741e9e51f34e899fe0c471bf4484cb"
       ],
       "layout": "IPY_MODEL_f510c9d649484d9b91f164a66cf3c0b4"
      }
     },
     "729601f0093745c1a71ab9f954c603ab": {
      "model_module": "@jupyter-widgets/controls",
      "model_module_version": "1.5.0",
      "model_name": "DescriptionStyleModel",
      "state": {
       "description_width": ""
      }
     },
     "7655b2e743e14f53937c1672fe762795": {
      "model_module": "@jupyter-widgets/output",
      "model_module_version": "1.0.0",
      "model_name": "OutputModel",
      "state": {
       "layout": "IPY_MODEL_a13b2645084f4e6b825def5f6bde4f14",
       "outputs": [
        {
         "data": {
          "text/markdown": "### Abs-Conc.Median",
          "text/plain": "<IPython.core.display.Markdown object>"
         },
         "metadata": {},
         "output_type": "display_data"
        },
        {
         "data": {
          "text/markdown": "* Top 100 words: mean1, mean2, mean_diff, mean_diff_t, mean_diff_p, mean_diff_t_abs, len1, len2, trun, year1, year2, perc_mean_diff_t_abs",
          "text/plain": "<IPython.core.display.Markdown object>"
         },
         "metadata": {},
         "output_type": "display_data"
        },
        {
         "data": {
          "text/markdown": "* Bottom 100 words: mean1, mean2, mean_diff, mean_diff_t, mean_diff_p, mean_diff_t_abs, len1, len2, trun, year1, year2, perc_mean_diff_t_abs",
          "text/plain": "<IPython.core.display.Markdown object>"
         },
         "metadata": {},
         "output_type": "display_data"
        },
        {
         "data": {
          "text/html": "<div>\n<style scoped>\n    .dataframe tbody tr th:only-of-type {\n        vertical-align: middle;\n    }\n\n    .dataframe tbody tr th {\n        vertical-align: top;\n    }\n\n    .dataframe thead th {\n        text-align: right;\n    }\n</style>\n<table border=\"1\" class=\"dataframe\">\n  <thead>\n    <tr style=\"text-align: right;\">\n      <th></th>\n      <th>mean1</th>\n      <th>mean2</th>\n      <th>mean_diff</th>\n      <th>mean_diff_t</th>\n      <th>mean_diff_p</th>\n      <th>mean_diff_t_abs</th>\n      <th>len1</th>\n      <th>len2</th>\n      <th>trun</th>\n      <th>year1</th>\n      <th>year2</th>\n      <th>perc_mean_diff_t_abs</th>\n    </tr>\n    <tr>\n      <th>word</th>\n      <th></th>\n      <th></th>\n      <th></th>\n      <th></th>\n      <th></th>\n      <th></th>\n      <th></th>\n      <th></th>\n      <th></th>\n      <th></th>\n      <th></th>\n      <th></th>\n    </tr>\n  </thead>\n  <tbody>\n    <tr>\n      <th>disregard</th>\n      <td>2.540521</td>\n      <td>3.213270</td>\n      <td>0.672749</td>\n      <td>-22.914245</td>\n      <td>5.886934e-54</td>\n      <td>22.914245</td>\n      <td>100.0</td>\n      <td>100.0</td>\n      <td>12.0</td>\n      <td>1745.0</td>\n      <td>1850.0</td>\n      <td>85.467980</td>\n    </tr>\n    <tr>\n      <th>distrust</th>\n      <td>1.561001</td>\n      <td>3.017556</td>\n      <td>1.456554</td>\n      <td>-32.738469</td>\n      <td>2.974695e-75</td>\n      <td>32.738469</td>\n      <td>100.0</td>\n      <td>100.0</td>\n      <td>12.0</td>\n      <td>1740.0</td>\n      <td>1850.0</td>\n      <td>94.448655</td>\n    </tr>\n    <tr>\n      <th>toleration</th>\n      <td>1.969707</td>\n      <td>2.861850</td>\n      <td>0.892144</td>\n      <td>-15.263428</td>\n      <td>1.244022e-27</td>\n      <td>15.263428</td>\n      <td>100.0</td>\n      <td>100.0</td>\n      <td>12.0</td>\n      <td>1730.0</td>\n      <td>1850.0</td>\n      <td>70.045472</td>\n    </tr>\n    <tr>\n      <th>perversion</th>\n      <td>1.809191</td>\n      <td>2.834038</td>\n      <td>1.024847</td>\n      <td>-36.158570</td>\n      <td>2.587911e-80</td>\n      <td>36.158570</td>\n      <td>100.0</td>\n      <td>100.0</td>\n      <td>12.0</td>\n      <td>1755.0</td>\n      <td>1850.0</td>\n      <td>96.002274</td>\n    </tr>\n    <tr>\n      <th>vindication</th>\n      <td>1.425063</td>\n      <td>2.772257</td>\n      <td>1.347194</td>\n      <td>-22.685324</td>\n      <td>7.123409e-53</td>\n      <td>22.685324</td>\n      <td>100.0</td>\n      <td>100.0</td>\n      <td>12.0</td>\n      <td>1730.0</td>\n      <td>1850.0</td>\n      <td>84.975369</td>\n    </tr>\n    <tr>\n      <th>...</th>\n      <td>...</td>\n      <td>...</td>\n      <td>...</td>\n      <td>...</td>\n      <td>...</td>\n      <td>...</td>\n      <td>...</td>\n      <td>...</td>\n      <td>...</td>\n      <td>...</td>\n      <td>...</td>\n      <td>...</td>\n    </tr>\n    <tr>\n      <th>broom</th>\n      <td>-1.845064</td>\n      <td>-2.461926</td>\n      <td>-0.616861</td>\n      <td>31.789852</td>\n      <td>2.343827e-75</td>\n      <td>31.789852</td>\n      <td>100.0</td>\n      <td>100.0</td>\n      <td>12.0</td>\n      <td>1745.0</td>\n      <td>1850.0</td>\n      <td>94.012884</td>\n    </tr>\n    <tr>\n      <th>pond</th>\n      <td>-1.921880</td>\n      <td>-2.480243</td>\n      <td>-0.558364</td>\n      <td>8.658859</td>\n      <td>3.070528e-12</td>\n      <td>8.658859</td>\n      <td>100.0</td>\n      <td>100.0</td>\n      <td>12.0</td>\n      <td>1730.0</td>\n      <td>1850.0</td>\n      <td>45.604396</td>\n    </tr>\n    <tr>\n      <th>wood</th>\n      <td>-2.254080</td>\n      <td>-2.511966</td>\n      <td>-0.257886</td>\n      <td>11.758895</td>\n      <td>5.130237e-18</td>\n      <td>11.758895</td>\n      <td>100.0</td>\n      <td>100.0</td>\n      <td>12.0</td>\n      <td>1730.0</td>\n      <td>1850.0</td>\n      <td>58.696476</td>\n    </tr>\n    <tr>\n      <th>trough</th>\n      <td>-1.614068</td>\n      <td>-2.594086</td>\n      <td>-0.980018</td>\n      <td>16.048875</td>\n      <td>7.393692e-33</td>\n      <td>16.048875</td>\n      <td>100.0</td>\n      <td>100.0</td>\n      <td>12.0</td>\n      <td>1745.0</td>\n      <td>1850.0</td>\n      <td>72.243274</td>\n    </tr>\n    <tr>\n      <th>stack</th>\n      <td>-1.601659</td>\n      <td>-2.616738</td>\n      <td>-1.015080</td>\n      <td>22.094936</td>\n      <td>1.025807e-51</td>\n      <td>22.094936</td>\n      <td>100.0</td>\n      <td>100.0</td>\n      <td>12.0</td>\n      <td>1745.0</td>\n      <td>1850.0</td>\n      <td>84.122774</td>\n    </tr>\n  </tbody>\n</table>\n<p>4824 rows × 12 columns</p>\n</div>",
          "text/plain": "                mean1     mean2  mean_diff  mean_diff_t   mean_diff_p  \\\nword                                                                    \ndisregard    2.540521  3.213270   0.672749   -22.914245  5.886934e-54   \ndistrust     1.561001  3.017556   1.456554   -32.738469  2.974695e-75   \ntoleration   1.969707  2.861850   0.892144   -15.263428  1.244022e-27   \nperversion   1.809191  2.834038   1.024847   -36.158570  2.587911e-80   \nvindication  1.425063  2.772257   1.347194   -22.685324  7.123409e-53   \n...               ...       ...        ...          ...           ...   \nbroom       -1.845064 -2.461926  -0.616861    31.789852  2.343827e-75   \npond        -1.921880 -2.480243  -0.558364     8.658859  3.070528e-12   \nwood        -2.254080 -2.511966  -0.257886    11.758895  5.130237e-18   \ntrough      -1.614068 -2.594086  -0.980018    16.048875  7.393692e-33   \nstack       -1.601659 -2.616738  -1.015080    22.094936  1.025807e-51   \n\n             mean_diff_t_abs   len1   len2  trun   year1   year2  \\\nword                                                               \ndisregard          22.914245  100.0  100.0  12.0  1745.0  1850.0   \ndistrust           32.738469  100.0  100.0  12.0  1740.0  1850.0   \ntoleration         15.263428  100.0  100.0  12.0  1730.0  1850.0   \nperversion         36.158570  100.0  100.0  12.0  1755.0  1850.0   \nvindication        22.685324  100.0  100.0  12.0  1730.0  1850.0   \n...                      ...    ...    ...   ...     ...     ...   \nbroom              31.789852  100.0  100.0  12.0  1745.0  1850.0   \npond                8.658859  100.0  100.0  12.0  1730.0  1850.0   \nwood               11.758895  100.0  100.0  12.0  1730.0  1850.0   \ntrough             16.048875  100.0  100.0  12.0  1745.0  1850.0   \nstack              22.094936  100.0  100.0  12.0  1745.0  1850.0   \n\n             perc_mean_diff_t_abs  \nword                               \ndisregard               85.467980  \ndistrust                94.448655  \ntoleration              70.045472  \nperversion              96.002274  \nvindication             84.975369  \n...                           ...  \nbroom                   94.012884  \npond                    45.604396  \nwood                    58.696476  \ntrough                  72.243274  \nstack                   84.122774  \n\n[4824 rows x 12 columns]"
         },
         "metadata": {},
         "output_type": "display_data"
        }
       ]
      }
     },
     "78de7963541b44bc98eadcf5a515abde": {
      "model_module": "@jupyter-widgets/base",
      "model_module_version": "1.2.0",
      "model_name": "LayoutModel",
      "state": {}
     },
     "7b3ad6d34f4a4a778ac41db010e740f0": {
      "model_module": "@jupyter-widgets/controls",
      "model_module_version": "1.5.0",
      "model_name": "DropdownModel",
      "state": {
       "_options_labels": [
        "Freq.M",
        "Woman-Man.VG",
        "Polit-Acad.HGI",
        "Qual-Quant.HGI",
        "Active-Passive.HGI",
        "Pleasure-Pain.HGI",
        "Interp-Desc.HGI",
        "Abs-Conc.Median",
        "Pos-Neg.HGI",
        "Human-Object.VG",
        "Strong-Weak.HGI",
        "Time-Space.HGI",
        "Ambig.NX"
       ],
       "description": "vec",
       "index": 7,
       "layout": "IPY_MODEL_49e692446fba45c79e3d96be8620648e",
       "style": "IPY_MODEL_18eb4f5c84d64bebbda5306672b98fc1"
      }
     },
     "7e1a0a4ef3ad44f1827c2273b4f92dfc": {
      "model_module": "@jupyter-widgets/controls",
      "model_module_version": "1.5.0",
      "model_name": "DropdownModel",
      "state": {
       "_options_labels": [
        "Freq.M",
        "Woman-Man.VG",
        "Polit-Acad.HGI",
        "Qual-Quant.HGI",
        "Active-Passive.HGI",
        "Pleasure-Pain.HGI",
        "Interp-Desc.HGI",
        "Abs-Conc.Median",
        "Pos-Neg.HGI",
        "Human-Object.VG",
        "Strong-Weak.HGI",
        "Time-Space.HGI",
        "Ambig.NX"
       ],
       "description": "vec",
       "index": 7,
       "layout": "IPY_MODEL_8121927d16d84824b71db0d4e72eff1c",
       "style": "IPY_MODEL_b3ea96129ac4481d82c05bba830ef0a7"
      }
     },
     "8121927d16d84824b71db0d4e72eff1c": {
      "model_module": "@jupyter-widgets/base",
      "model_module_version": "1.2.0",
      "model_name": "LayoutModel",
      "state": {}
     },
     "813b59dec0504fe0972df5ed91bf16d0": {
      "model_module": "@jupyter-widgets/base",
      "model_module_version": "1.2.0",
      "model_name": "LayoutModel",
      "state": {}
     },
     "826a20f153574bc29e7d5b8989215e0b": {
      "model_module": "@jupyter-widgets/controls",
      "model_module_version": "1.5.0",
      "model_name": "VBoxModel",
      "state": {
       "_dom_classes": [
        "widget-interact"
       ],
       "children": [
        "IPY_MODEL_0c54281fcd7842ae9e31f4687b10de48",
        "IPY_MODEL_a9dc5882c9c749bd85a85c536f7647b3",
        "IPY_MODEL_df013df55bd6471cb7e2936374e419de"
       ],
       "layout": "IPY_MODEL_3915d402ccde42099e57857f436153fc"
      }
     },
     "82e165fcb10742a1b7b28f451a52789e": {
      "model_module": "@jupyter-widgets/base",
      "model_module_version": "1.2.0",
      "model_name": "LayoutModel",
      "state": {}
     },
     "873295160aaa44a29db1c64730fa2a74": {
      "model_module": "@jupyter-widgets/controls",
      "model_module_version": "1.5.0",
      "model_name": "DropdownModel",
      "state": {
       "_options_labels": [
        "mean1",
        "mean2",
        "mean_diff"
       ],
       "description": "sby",
       "index": 1,
       "layout": "IPY_MODEL_c8208c3e53b04249a49e7e889ed54594",
       "style": "IPY_MODEL_3776f5401fd641b29e2e624d06643859"
      }
     },
     "89b1b7fc50a248129e6c7a59f73665ed": {
      "model_module": "@jupyter-widgets/controls",
      "model_module_version": "1.5.0",
      "model_name": "DropdownModel",
      "state": {
       "_options_labels": [
        "Freq.M",
        "Woman-Man.VG",
        "Polit-Acad.HGI",
        "Qual-Quant.HGI",
        "Active-Passive.HGI",
        "Pleasure-Pain.HGI",
        "Interp-Desc.HGI",
        "Abs-Conc.Median",
        "Pos-Neg.HGI",
        "Human-Object.VG",
        "Strong-Weak.HGI",
        "Time-Space.HGI",
        "Ambig.NX"
       ],
       "description": "vec",
       "index": 3,
       "layout": "IPY_MODEL_d83002a7268d42368cf272d985da3572",
       "style": "IPY_MODEL_3e3cdaf0dac644c3beebcefa6debba2f"
      }
     },
     "8b34060845024cf694a0b23690f40c31": {
      "model_module": "@jupyter-widgets/base",
      "model_module_version": "1.2.0",
      "model_name": "LayoutModel",
      "state": {}
     },
     "8b8b23dd9dbf48bfb1d4ddbbdac10666": {
      "model_module": "@jupyter-widgets/controls",
      "model_module_version": "1.5.0",
      "model_name": "DropdownModel",
      "state": {
       "_options_labels": [
        "Freq.M",
        "Woman-Man.VG",
        "Polit-Acad.HGI",
        "Qual-Quant.HGI",
        "Active-Passive.HGI",
        "Pleasure-Pain.HGI",
        "Interp-Desc.HGI",
        "Abs-Conc.Median",
        "Pos-Neg.HGI",
        "Human-Object.VG",
        "Strong-Weak.HGI",
        "Time-Space.HGI",
        "Ambig.NX"
       ],
       "description": "vec",
       "index": 3,
       "layout": "IPY_MODEL_0fc9656d38b1413eaf5a94d2bd8335d4",
       "style": "IPY_MODEL_dcf00019966c4baca9015e3d468e3a23"
      }
     },
     "91935d89191d4f368a56726d0b8e4902": {
      "model_module": "@jupyter-widgets/output",
      "model_module_version": "1.0.0",
      "model_name": "OutputModel",
      "state": {
       "layout": "IPY_MODEL_027f4d2994af49aa95076b9552c7e295",
       "outputs": [
        {
         "data": {
          "text/html": "<div>\n<style scoped>\n    .dataframe tbody tr th:only-of-type {\n        vertical-align: middle;\n    }\n\n    .dataframe tbody tr th {\n        vertical-align: top;\n    }\n\n    .dataframe thead th {\n        text-align: right;\n    }\n</style>\n<table border=\"1\" class=\"dataframe\">\n  <thead>\n    <tr style=\"text-align: right;\">\n      <th></th>\n      <th>mean1</th>\n      <th>mean2</th>\n      <th>mean_diff</th>\n      <th>mean_diff_t</th>\n      <th>mean_diff_p</th>\n      <th>mean_diff_t_abs</th>\n      <th>len1</th>\n      <th>len2</th>\n      <th>trun</th>\n      <th>year1</th>\n      <th>year2</th>\n      <th>perc_mean_diff_t_abs</th>\n    </tr>\n    <tr>\n      <th>word</th>\n      <th></th>\n      <th></th>\n      <th></th>\n      <th></th>\n      <th></th>\n      <th></th>\n      <th></th>\n      <th></th>\n      <th></th>\n      <th></th>\n      <th></th>\n      <th></th>\n    </tr>\n  </thead>\n  <tbody>\n    <tr>\n      <th>time</th>\n      <td>18.409038</td>\n      <td>23.046066</td>\n      <td>4.637028</td>\n      <td>-15.547187</td>\n      <td>9.646339e-30</td>\n      <td>15.547187</td>\n      <td>100.0</td>\n      <td>100.0</td>\n      <td>12.0</td>\n      <td>1730.0</td>\n      <td>1850.0</td>\n      <td>55.001895</td>\n    </tr>\n    <tr>\n      <th>man</th>\n      <td>11.834063</td>\n      <td>17.137068</td>\n      <td>5.303005</td>\n      <td>-20.331115</td>\n      <td>5.990307e-46</td>\n      <td>20.331115</td>\n      <td>100.0</td>\n      <td>100.0</td>\n      <td>12.0</td>\n      <td>1730.0</td>\n      <td>1850.0</td>\n      <td>66.767715</td>\n    </tr>\n    <tr>\n      <th>life</th>\n      <td>5.981286</td>\n      <td>14.376826</td>\n      <td>8.395540</td>\n      <td>-34.731618</td>\n      <td>2.344421e-79</td>\n      <td>34.731618</td>\n      <td>100.0</td>\n      <td>100.0</td>\n      <td>12.0</td>\n      <td>1730.0</td>\n      <td>1850.0</td>\n      <td>85.126942</td>\n    </tr>\n    <tr>\n      <th>day</th>\n      <td>12.152250</td>\n      <td>13.914722</td>\n      <td>1.762472</td>\n      <td>-9.811934</td>\n      <td>2.940161e-15</td>\n      <td>9.811934</td>\n      <td>100.0</td>\n      <td>100.0</td>\n      <td>12.0</td>\n      <td>1730.0</td>\n      <td>1850.0</td>\n      <td>36.623721</td>\n    </tr>\n    <tr>\n      <th>work</th>\n      <td>3.330915</td>\n      <td>11.988014</td>\n      <td>8.657099</td>\n      <td>-53.569561</td>\n      <td>3.010755e-110</td>\n      <td>53.569561</td>\n      <td>100.0</td>\n      <td>100.0</td>\n      <td>12.0</td>\n      <td>1730.0</td>\n      <td>1850.0</td>\n      <td>94.353922</td>\n    </tr>\n    <tr>\n      <th>sir</th>\n      <td>11.306831</td>\n      <td>11.492451</td>\n      <td>0.185620</td>\n      <td>-0.534000</td>\n      <td>4.450003e-01</td>\n      <td>1.027170</td>\n      <td>100.0</td>\n      <td>100.0</td>\n      <td>12.0</td>\n      <td>1730.0</td>\n      <td>1850.0</td>\n      <td>2.823039</td>\n    </tr>\n    <tr>\n      <th>part</th>\n      <td>9.945438</td>\n      <td>11.207822</td>\n      <td>1.262384</td>\n      <td>-6.266154</td>\n      <td>2.384626e-06</td>\n      <td>6.266154</td>\n      <td>100.0</td>\n      <td>100.0</td>\n      <td>12.0</td>\n      <td>1730.0</td>\n      <td>1850.0</td>\n      <td>23.796893</td>\n    </tr>\n    <tr>\n      <th>place</th>\n      <td>7.305839</td>\n      <td>10.920815</td>\n      <td>3.614976</td>\n      <td>-29.098078</td>\n      <td>1.959592e-68</td>\n      <td>29.098078</td>\n      <td>100.0</td>\n      <td>100.0</td>\n      <td>12.0</td>\n      <td>1730.0</td>\n      <td>1850.0</td>\n      <td>79.973475</td>\n    </tr>\n    <tr>\n      <th>lord</th>\n      <td>9.154251</td>\n      <td>10.163454</td>\n      <td>1.009203</td>\n      <td>-3.611946</td>\n      <td>7.735927e-03</td>\n      <td>3.611946</td>\n      <td>100.0</td>\n      <td>100.0</td>\n      <td>12.0</td>\n      <td>1730.0</td>\n      <td>1850.0</td>\n      <td>13.395225</td>\n    </tr>\n    <tr>\n      <th>church</th>\n      <td>6.824540</td>\n      <td>9.920653</td>\n      <td>3.096113</td>\n      <td>-7.938356</td>\n      <td>7.491186e-10</td>\n      <td>7.938356</td>\n      <td>100.0</td>\n      <td>100.0</td>\n      <td>12.0</td>\n      <td>1730.0</td>\n      <td>1850.0</td>\n      <td>29.935582</td>\n    </tr>\n    <tr>\n      <th>house</th>\n      <td>8.944046</td>\n      <td>9.823390</td>\n      <td>0.879344</td>\n      <td>-4.294535</td>\n      <td>1.375803e-03</td>\n      <td>4.294535</td>\n      <td>100.0</td>\n      <td>100.0</td>\n      <td>12.0</td>\n      <td>1730.0</td>\n      <td>1850.0</td>\n      <td>16.786662</td>\n    </tr>\n    <tr>\n      <th>tile</th>\n      <td>3.553447</td>\n      <td>9.706173</td>\n      <td>6.152726</td>\n      <td>-13.585610</td>\n      <td>7.161962e-25</td>\n      <td>13.585610</td>\n      <td>100.0</td>\n      <td>100.0</td>\n      <td>12.0</td>\n      <td>1730.0</td>\n      <td>1850.0</td>\n      <td>49.355817</td>\n    </tr>\n    <tr>\n      <th>way</th>\n      <td>6.681516</td>\n      <td>9.538346</td>\n      <td>2.856831</td>\n      <td>-16.891456</td>\n      <td>3.461989e-36</td>\n      <td>16.891456</td>\n      <td>100.0</td>\n      <td>100.0</td>\n      <td>12.0</td>\n      <td>1730.0</td>\n      <td>1850.0</td>\n      <td>58.620690</td>\n    </tr>\n    <tr>\n      <th>country</th>\n      <td>7.467092</td>\n      <td>8.938209</td>\n      <td>1.471117</td>\n      <td>-6.011583</td>\n      <td>4.638079e-06</td>\n      <td>6.011583</td>\n      <td>100.0</td>\n      <td>100.0</td>\n      <td>12.0</td>\n      <td>1730.0</td>\n      <td>1850.0</td>\n      <td>23.020083</td>\n    </tr>\n    <tr>\n      <th>people</th>\n      <td>8.558758</td>\n      <td>8.648607</td>\n      <td>0.089848</td>\n      <td>-0.408560</td>\n      <td>5.989536e-01</td>\n      <td>0.600771</td>\n      <td>100.0</td>\n      <td>100.0</td>\n      <td>12.0</td>\n      <td>1730.0</td>\n      <td>1850.0</td>\n      <td>0.075786</td>\n    </tr>\n    <tr>\n      <th>street</th>\n      <td>1.510444</td>\n      <td>7.836161</td>\n      <td>6.325717</td>\n      <td>-39.733638</td>\n      <td>8.206714e-89</td>\n      <td>39.733638</td>\n      <td>100.0</td>\n      <td>100.0</td>\n      <td>12.0</td>\n      <td>1730.0</td>\n      <td>1850.0</td>\n      <td>89.086775</td>\n    </tr>\n    <tr>\n      <th>world</th>\n      <td>5.049347</td>\n      <td>7.793025</td>\n      <td>2.743678</td>\n      <td>-28.894529</td>\n      <td>2.358523e-69</td>\n      <td>28.894529</td>\n      <td>100.0</td>\n      <td>100.0</td>\n      <td>12.0</td>\n      <td>1730.0</td>\n      <td>1850.0</td>\n      <td>79.802956</td>\n    </tr>\n    <tr>\n      <th>year</th>\n      <td>6.480964</td>\n      <td>7.525920</td>\n      <td>1.044955</td>\n      <td>-7.484583</td>\n      <td>1.724132e-09</td>\n      <td>7.484583</td>\n      <td>100.0</td>\n      <td>100.0</td>\n      <td>12.0</td>\n      <td>1730.0</td>\n      <td>1850.0</td>\n      <td>28.211444</td>\n    </tr>\n    <tr>\n      <th>state</th>\n      <td>4.143843</td>\n      <td>7.304399</td>\n      <td>3.160556</td>\n      <td>-17.289466</td>\n      <td>1.142190e-33</td>\n      <td>17.289466</td>\n      <td>100.0</td>\n      <td>100.0</td>\n      <td>12.0</td>\n      <td>1730.0</td>\n      <td>1850.0</td>\n      <td>59.473285</td>\n    </tr>\n    <tr>\n      <th>hand</th>\n      <td>3.852778</td>\n      <td>7.293569</td>\n      <td>3.440791</td>\n      <td>-33.711591</td>\n      <td>1.125423e-78</td>\n      <td>33.711591</td>\n      <td>100.0</td>\n      <td>100.0</td>\n      <td>12.0</td>\n      <td>1730.0</td>\n      <td>1850.0</td>\n      <td>84.425919</td>\n    </tr>\n    <tr>\n      <th>love</th>\n      <td>3.768437</td>\n      <td>6.981558</td>\n      <td>3.213121</td>\n      <td>-21.445917</td>\n      <td>1.751657e-47</td>\n      <td>21.445917</td>\n      <td>100.0</td>\n      <td>100.0</td>\n      <td>12.0</td>\n      <td>1730.0</td>\n      <td>1850.0</td>\n      <td>69.173930</td>\n    </tr>\n    <tr>\n      <th>god</th>\n      <td>5.987515</td>\n      <td>6.908448</td>\n      <td>0.920933</td>\n      <td>-4.894653</td>\n      <td>3.600946e-04</td>\n      <td>4.894653</td>\n      <td>100.0</td>\n      <td>100.0</td>\n      <td>12.0</td>\n      <td>1730.0</td>\n      <td>1850.0</td>\n      <td>18.908678</td>\n    </tr>\n    <tr>\n      <th>mind</th>\n      <td>3.105749</td>\n      <td>6.675535</td>\n      <td>3.569786</td>\n      <td>-28.903878</td>\n      <td>3.653617e-68</td>\n      <td>28.903878</td>\n      <td>100.0</td>\n      <td>100.0</td>\n      <td>12.0</td>\n      <td>1730.0</td>\n      <td>1850.0</td>\n      <td>79.821902</td>\n    </tr>\n    <tr>\n      <th>name</th>\n      <td>3.746018</td>\n      <td>6.531256</td>\n      <td>2.785238</td>\n      <td>-36.678465</td>\n      <td>6.429474e-84</td>\n      <td>36.678465</td>\n      <td>100.0</td>\n      <td>100.0</td>\n      <td>12.0</td>\n      <td>1730.0</td>\n      <td>1850.0</td>\n      <td>86.680561</td>\n    </tr>\n    <tr>\n      <th>character</th>\n      <td>0.891404</td>\n      <td>6.479833</td>\n      <td>5.588429</td>\n      <td>-44.819111</td>\n      <td>1.053638e-101</td>\n      <td>44.819111</td>\n      <td>100.0</td>\n      <td>100.0</td>\n      <td>12.0</td>\n      <td>1730.0</td>\n      <td>1850.0</td>\n      <td>91.455097</td>\n    </tr>\n  </tbody>\n</table>\n</div>",
          "text/plain": "               mean1      mean2  mean_diff  mean_diff_t    mean_diff_p  \\\nword                                                                     \ntime       18.409038  23.046066   4.637028   -15.547187   9.646339e-30   \nman        11.834063  17.137068   5.303005   -20.331115   5.990307e-46   \nlife        5.981286  14.376826   8.395540   -34.731618   2.344421e-79   \nday        12.152250  13.914722   1.762472    -9.811934   2.940161e-15   \nwork        3.330915  11.988014   8.657099   -53.569561  3.010755e-110   \nsir        11.306831  11.492451   0.185620    -0.534000   4.450003e-01   \npart        9.945438  11.207822   1.262384    -6.266154   2.384626e-06   \nplace       7.305839  10.920815   3.614976   -29.098078   1.959592e-68   \nlord        9.154251  10.163454   1.009203    -3.611946   7.735927e-03   \nchurch      6.824540   9.920653   3.096113    -7.938356   7.491186e-10   \nhouse       8.944046   9.823390   0.879344    -4.294535   1.375803e-03   \ntile        3.553447   9.706173   6.152726   -13.585610   7.161962e-25   \nway         6.681516   9.538346   2.856831   -16.891456   3.461989e-36   \ncountry     7.467092   8.938209   1.471117    -6.011583   4.638079e-06   \npeople      8.558758   8.648607   0.089848    -0.408560   5.989536e-01   \nstreet      1.510444   7.836161   6.325717   -39.733638   8.206714e-89   \nworld       5.049347   7.793025   2.743678   -28.894529   2.358523e-69   \nyear        6.480964   7.525920   1.044955    -7.484583   1.724132e-09   \nstate       4.143843   7.304399   3.160556   -17.289466   1.142190e-33   \nhand        3.852778   7.293569   3.440791   -33.711591   1.125423e-78   \nlove        3.768437   6.981558   3.213121   -21.445917   1.751657e-47   \ngod         5.987515   6.908448   0.920933    -4.894653   3.600946e-04   \nmind        3.105749   6.675535   3.569786   -28.903878   3.653617e-68   \nname        3.746018   6.531256   2.785238   -36.678465   6.429474e-84   \ncharacter   0.891404   6.479833   5.588429   -44.819111  1.053638e-101   \n\n           mean_diff_t_abs   len1   len2  trun   year1   year2  \\\nword                                                             \ntime             15.547187  100.0  100.0  12.0  1730.0  1850.0   \nman              20.331115  100.0  100.0  12.0  1730.0  1850.0   \nlife             34.731618  100.0  100.0  12.0  1730.0  1850.0   \nday               9.811934  100.0  100.0  12.0  1730.0  1850.0   \nwork             53.569561  100.0  100.0  12.0  1730.0  1850.0   \nsir               1.027170  100.0  100.0  12.0  1730.0  1850.0   \npart              6.266154  100.0  100.0  12.0  1730.0  1850.0   \nplace            29.098078  100.0  100.0  12.0  1730.0  1850.0   \nlord              3.611946  100.0  100.0  12.0  1730.0  1850.0   \nchurch            7.938356  100.0  100.0  12.0  1730.0  1850.0   \nhouse             4.294535  100.0  100.0  12.0  1730.0  1850.0   \ntile             13.585610  100.0  100.0  12.0  1730.0  1850.0   \nway              16.891456  100.0  100.0  12.0  1730.0  1850.0   \ncountry           6.011583  100.0  100.0  12.0  1730.0  1850.0   \npeople            0.600771  100.0  100.0  12.0  1730.0  1850.0   \nstreet           39.733638  100.0  100.0  12.0  1730.0  1850.0   \nworld            28.894529  100.0  100.0  12.0  1730.0  1850.0   \nyear              7.484583  100.0  100.0  12.0  1730.0  1850.0   \nstate            17.289466  100.0  100.0  12.0  1730.0  1850.0   \nhand             33.711591  100.0  100.0  12.0  1730.0  1850.0   \nlove             21.445917  100.0  100.0  12.0  1730.0  1850.0   \ngod               4.894653  100.0  100.0  12.0  1730.0  1850.0   \nmind             28.903878  100.0  100.0  12.0  1730.0  1850.0   \nname             36.678465  100.0  100.0  12.0  1730.0  1850.0   \ncharacter        44.819111  100.0  100.0  12.0  1730.0  1850.0   \n\n           perc_mean_diff_t_abs  \nword                             \ntime                  55.001895  \nman                   66.767715  \nlife                  85.126942  \nday                   36.623721  \nwork                  94.353922  \nsir                    2.823039  \npart                  23.796893  \nplace                 79.973475  \nlord                  13.395225  \nchurch                29.935582  \nhouse                 16.786662  \ntile                  49.355817  \nway                   58.620690  \ncountry               23.020083  \npeople                 0.075786  \nstreet                89.086775  \nworld                 79.802956  \nyear                  28.211444  \nstate                 59.473285  \nhand                  84.425919  \nlove                  69.173930  \ngod                   18.908678  \nmind                  79.821902  \nname                  86.680561  \ncharacter             91.455097  "
         },
         "metadata": {},
         "output_type": "display_data"
        }
       ]
      }
     },
     "953e94255a904404b7014f1bf2b16c02": {
      "model_module": "@jupyter-widgets/output",
      "model_module_version": "1.0.0",
      "model_name": "OutputModel",
      "state": {
       "layout": "IPY_MODEL_39a885984cc94874809749b3a6381851",
       "outputs": [
        {
         "data": {
          "text/markdown": "### Abs-Conc.Median",
          "text/plain": "<IPython.core.display.Markdown object>"
         },
         "metadata": {},
         "output_type": "display_data"
        },
        {
         "data": {
          "text/markdown": "* **Top 100 words**: precision, muff, peak, stall, world, mud, frill, fad, bouquet, jib, fee, belt, promise, satisfaction, intention, preservation, occasion, leek, jelly, security, accommodation, succession, railing, stile, patch, squirrel, safety, loon, hand, filly, tray, pattern, fence, material, hall, doll, dress, majesty, inclination, posterity, screen, article, gig, recess, affair, kingdom, modelling, nymph, happiness, helm, kilt, exertion, example, slate, biscuit, glory, merit, divan, consequence, performance, punt, neighbour, mutt, cone, cider, thing, broom, plaid, appearance, person, moss, commerce, ornament, goodness, blast, empire, water, mercy, pea, pleasure, wisdom, haft, light, spray, design, concern, honour, mule, instance, hive, family, argument, carpet, tank, figure, ledge, business, way, wreath, ice",
          "text/plain": "<IPython.core.display.Markdown object>"
         },
         "metadata": {},
         "output_type": "display_data"
        },
        {
         "data": {
          "text/markdown": "* **Bottom 100 words**: tact, transportation, sadness, league, childe, irritation, congratulation, canning, lecturer, loathing, delineation, encore, feud, cessation, diocese, exaggeration, chant, coldness, labourer, regime, drawback, recognition, communication, lack, singer, regeneration, papacy, retaliation, peninsula, cycle, cloth, archdeacon, contentment, park, discouragement, longing, burglary, hostility, organization, distraction, adjournment, annoyance, martyrdom, burst, caring, craving, lunacy, clue, compulsion, indigestion, exhaust, goal, tuesday, deception, deduction, missionary, vita, retention, sympathy, lord, remonstrance, elder, absolution, monday, ending, lane, reservation, abstinence, penalty, incorporation, breadth, ruler, herald, ache, cross, acquittal, rebuke, anticipation, viscount, width, utterance, brandy, sneer, perversion, case, sunday, trash, goo, rector, bishopric, chaplain, confiscation, inexperience, negro, goldsmith, decease, renunciation, coming, endowment, temperament",
          "text/plain": "<IPython.core.display.Markdown object>"
         },
         "metadata": {},
         "output_type": "display_data"
        },
        {
         "data": {
          "text/html": "<div>\n<style scoped>\n    .dataframe tbody tr th:only-of-type {\n        vertical-align: middle;\n    }\n\n    .dataframe tbody tr th {\n        vertical-align: top;\n    }\n\n    .dataframe thead th {\n        text-align: right;\n    }\n</style>\n<table border=\"1\" class=\"dataframe\">\n  <thead>\n    <tr style=\"text-align: right;\">\n      <th></th>\n      <th>mean1</th>\n      <th>mean2</th>\n      <th>mean_diff</th>\n      <th>mean_diff_t</th>\n      <th>mean_diff_p</th>\n      <th>mean_diff_t_abs</th>\n      <th>len1</th>\n      <th>len2</th>\n      <th>trun</th>\n      <th>year1</th>\n      <th>year2</th>\n      <th>perc_mean_diff_t_abs</th>\n    </tr>\n    <tr>\n      <th>word</th>\n      <th></th>\n      <th></th>\n      <th></th>\n      <th></th>\n      <th></th>\n      <th></th>\n      <th></th>\n      <th></th>\n      <th></th>\n      <th></th>\n      <th></th>\n      <th></th>\n    </tr>\n  </thead>\n  <tbody>\n    <tr>\n      <th>precision</th>\n      <td>1.765049</td>\n      <td>0.846667</td>\n      <td>-0.918382</td>\n      <td>89.662807</td>\n      <td>8.375788e-158</td>\n      <td>89.662807</td>\n      <td>100.0</td>\n      <td>100.0</td>\n      <td>12.0</td>\n      <td>1755.0</td>\n      <td>1850.0</td>\n      <td>99.943160</td>\n    </tr>\n    <tr>\n      <th>muff</th>\n      <td>1.859575</td>\n      <td>-1.436619</td>\n      <td>-3.296194</td>\n      <td>61.292078</td>\n      <td>5.384890e-122</td>\n      <td>61.292078</td>\n      <td>100.0</td>\n      <td>100.0</td>\n      <td>12.0</td>\n      <td>1730.0</td>\n      <td>1850.0</td>\n      <td>99.507389</td>\n    </tr>\n    <tr>\n      <th>peak</th>\n      <td>0.783453</td>\n      <td>-1.357562</td>\n      <td>-2.141015</td>\n      <td>58.488503</td>\n      <td>1.460063e-116</td>\n      <td>58.488503</td>\n      <td>100.0</td>\n      <td>100.0</td>\n      <td>12.0</td>\n      <td>1730.0</td>\n      <td>1850.0</td>\n      <td>99.298977</td>\n    </tr>\n    <tr>\n      <th>stall</th>\n      <td>0.667131</td>\n      <td>-1.858759</td>\n      <td>-2.525889</td>\n      <td>57.348811</td>\n      <td>1.299174e-110</td>\n      <td>57.348811</td>\n      <td>100.0</td>\n      <td>100.0</td>\n      <td>12.0</td>\n      <td>1730.0</td>\n      <td>1850.0</td>\n      <td>99.280030</td>\n    </tr>\n    <tr>\n      <th>world</th>\n      <td>1.828731</td>\n      <td>1.056634</td>\n      <td>-0.772097</td>\n      <td>55.187889</td>\n      <td>8.052171e-114</td>\n      <td>55.187889</td>\n      <td>100.0</td>\n      <td>100.0</td>\n      <td>12.0</td>\n      <td>1730.0</td>\n      <td>1850.0</td>\n      <td>99.052671</td>\n    </tr>\n    <tr>\n      <th>...</th>\n      <td>...</td>\n      <td>...</td>\n      <td>...</td>\n      <td>...</td>\n      <td>...</td>\n      <td>...</td>\n      <td>...</td>\n      <td>...</td>\n      <td>...</td>\n      <td>...</td>\n      <td>...</td>\n      <td>...</td>\n    </tr>\n    <tr>\n      <th>childe</th>\n      <td>-1.289888</td>\n      <td>0.397474</td>\n      <td>1.687362</td>\n      <td>-62.148662</td>\n      <td>2.541015e-123</td>\n      <td>62.148662</td>\n      <td>100.0</td>\n      <td>100.0</td>\n      <td>12.0</td>\n      <td>1700.0</td>\n      <td>1850.0</td>\n      <td>99.583175</td>\n    </tr>\n    <tr>\n      <th>league</th>\n      <td>-0.743702</td>\n      <td>0.787490</td>\n      <td>1.531192</td>\n      <td>-65.882734</td>\n      <td>7.322342e-127</td>\n      <td>65.882734</td>\n      <td>100.0</td>\n      <td>100.0</td>\n      <td>12.0</td>\n      <td>1730.0</td>\n      <td>1850.0</td>\n      <td>99.677908</td>\n    </tr>\n    <tr>\n      <th>sadness</th>\n      <td>-0.114554</td>\n      <td>1.203162</td>\n      <td>1.317716</td>\n      <td>-68.021992</td>\n      <td>5.197875e-134</td>\n      <td>68.021992</td>\n      <td>100.0</td>\n      <td>100.0</td>\n      <td>12.0</td>\n      <td>1745.0</td>\n      <td>1850.0</td>\n      <td>99.734748</td>\n    </tr>\n    <tr>\n      <th>transportation</th>\n      <td>-0.730492</td>\n      <td>1.212057</td>\n      <td>1.942549</td>\n      <td>-81.850952</td>\n      <td>6.633809e-150</td>\n      <td>81.850952</td>\n      <td>100.0</td>\n      <td>100.0</td>\n      <td>12.0</td>\n      <td>1735.0</td>\n      <td>1850.0</td>\n      <td>99.848427</td>\n    </tr>\n    <tr>\n      <th>tact</th>\n      <td>-0.532936</td>\n      <td>1.487205</td>\n      <td>2.020141</td>\n      <td>-87.819962</td>\n      <td>3.607899e-148</td>\n      <td>87.819962</td>\n      <td>100.0</td>\n      <td>100.0</td>\n      <td>12.0</td>\n      <td>1745.0</td>\n      <td>1850.0</td>\n      <td>99.924214</td>\n    </tr>\n  </tbody>\n</table>\n<p>4824 rows × 12 columns</p>\n</div>",
          "text/plain": "                   mean1     mean2  mean_diff  mean_diff_t    mean_diff_p  \\\nword                                                                        \nprecision       1.765049  0.846667  -0.918382    89.662807  8.375788e-158   \nmuff            1.859575 -1.436619  -3.296194    61.292078  5.384890e-122   \npeak            0.783453 -1.357562  -2.141015    58.488503  1.460063e-116   \nstall           0.667131 -1.858759  -2.525889    57.348811  1.299174e-110   \nworld           1.828731  1.056634  -0.772097    55.187889  8.052171e-114   \n...                  ...       ...        ...          ...            ...   \nchilde         -1.289888  0.397474   1.687362   -62.148662  2.541015e-123   \nleague         -0.743702  0.787490   1.531192   -65.882734  7.322342e-127   \nsadness        -0.114554  1.203162   1.317716   -68.021992  5.197875e-134   \ntransportation -0.730492  1.212057   1.942549   -81.850952  6.633809e-150   \ntact           -0.532936  1.487205   2.020141   -87.819962  3.607899e-148   \n\n                mean_diff_t_abs   len1   len2  trun   year1   year2  \\\nword                                                                  \nprecision             89.662807  100.0  100.0  12.0  1755.0  1850.0   \nmuff                  61.292078  100.0  100.0  12.0  1730.0  1850.0   \npeak                  58.488503  100.0  100.0  12.0  1730.0  1850.0   \nstall                 57.348811  100.0  100.0  12.0  1730.0  1850.0   \nworld                 55.187889  100.0  100.0  12.0  1730.0  1850.0   \n...                         ...    ...    ...   ...     ...     ...   \nchilde                62.148662  100.0  100.0  12.0  1700.0  1850.0   \nleague                65.882734  100.0  100.0  12.0  1730.0  1850.0   \nsadness               68.021992  100.0  100.0  12.0  1745.0  1850.0   \ntransportation        81.850952  100.0  100.0  12.0  1735.0  1850.0   \ntact                  87.819962  100.0  100.0  12.0  1745.0  1850.0   \n\n                perc_mean_diff_t_abs  \nword                                  \nprecision                  99.943160  \nmuff                       99.507389  \npeak                       99.298977  \nstall                      99.280030  \nworld                      99.052671  \n...                              ...  \nchilde                     99.583175  \nleague                     99.677908  \nsadness                    99.734748  \ntransportation             99.848427  \ntact                       99.924214  \n\n[4824 rows x 12 columns]"
         },
         "metadata": {},
         "output_type": "display_data"
        }
       ]
      }
     },
     "960a2104b6c94f99b474b5acc2dba13f": {
      "model_module": "@jupyter-widgets/base",
      "model_module_version": "1.2.0",
      "model_name": "LayoutModel",
      "state": {}
     },
     "965ec0f699ec4213881775ecd34052c1": {
      "model_module": "@jupyter-widgets/base",
      "model_module_version": "1.2.0",
      "model_name": "LayoutModel",
      "state": {}
     },
     "998e632bf53445d59989723247371251": {
      "model_module": "@jupyter-widgets/base",
      "model_module_version": "1.2.0",
      "model_name": "LayoutModel",
      "state": {}
     },
     "9b0b82ff69004208b119cfb75a1086ce": {
      "model_module": "@jupyter-widgets/controls",
      "model_module_version": "1.5.0",
      "model_name": "DescriptionStyleModel",
      "state": {
       "description_width": ""
      }
     },
     "9bd19b862ea8428d9e35b8bf79c5fb4d": {
      "model_module": "@jupyter-widgets/controls",
      "model_module_version": "1.5.0",
      "model_name": "DescriptionStyleModel",
      "state": {
       "description_width": ""
      }
     },
     "a0c9c649a2054469acb80ef088cfecf4": {
      "model_module": "@jupyter-widgets/controls",
      "model_module_version": "1.5.0",
      "model_name": "DescriptionStyleModel",
      "state": {
       "description_width": ""
      }
     },
     "a13b2645084f4e6b825def5f6bde4f14": {
      "model_module": "@jupyter-widgets/base",
      "model_module_version": "1.2.0",
      "model_name": "LayoutModel",
      "state": {}
     },
     "a2f1853730ca46ad920ed21daf914940": {
      "model_module": "@jupyter-widgets/controls",
      "model_module_version": "1.5.0",
      "model_name": "DropdownModel",
      "state": {
       "_options_labels": [
        "Freq.M",
        "Woman-Man.VG",
        "Polit-Acad.HGI",
        "Qual-Quant.HGI",
        "Active-Passive.HGI",
        "Pleasure-Pain.HGI",
        "Interp-Desc.HGI",
        "Abs-Conc.Median",
        "Pos-Neg.HGI",
        "Human-Object.VG",
        "Strong-Weak.HGI",
        "Time-Space.HGI",
        "Ambig.NX"
       ],
       "description": "vec",
       "index": 0,
       "layout": "IPY_MODEL_e96eaeb96ce449b0ba544d07da26a5f1",
       "style": "IPY_MODEL_b170eb558859408da676922f957543e5"
      }
     },
     "a4074595c99c495eba2cc361654d7740": {
      "model_module": "@jupyter-widgets/controls",
      "model_module_version": "1.5.0",
      "model_name": "DropdownModel",
      "state": {
       "_options_labels": [
        "mean1",
        "mean2",
        "mean_diff"
       ],
       "description": "sby",
       "index": 1,
       "layout": "IPY_MODEL_82e165fcb10742a1b7b28f451a52789e",
       "style": "IPY_MODEL_df82e7048ad1490fb1187b559e706d71"
      }
     },
     "a45cf65617fd41e79a97455b23dd8a08": {
      "model_module": "@jupyter-widgets/controls",
      "model_module_version": "1.5.0",
      "model_name": "DescriptionStyleModel",
      "state": {
       "description_width": ""
      }
     },
     "a62cfa91adab4f21a0f0ef24d55f9087": {
      "model_module": "@jupyter-widgets/controls",
      "model_module_version": "1.5.0",
      "model_name": "DropdownModel",
      "state": {
       "_options_labels": [
        "Freq.M",
        "Woman-Man.VG",
        "Polit-Acad.HGI",
        "Qual-Quant.HGI",
        "Active-Passive.HGI",
        "Pleasure-Pain.HGI",
        "Interp-Desc.HGI",
        "Abs-Conc.Median",
        "Pos-Neg.HGI",
        "Human-Object.VG",
        "Strong-Weak.HGI",
        "Time-Space.HGI",
        "Ambig.NX"
       ],
       "description": "vec",
       "index": 7,
       "layout": "IPY_MODEL_ad72add59d1e4fe196774af6bfa64509",
       "style": "IPY_MODEL_103b3f39f27749aa9e01e0edca7078c4"
      }
     },
     "a6fc2d2089104ecca1c1fdba45f262f7": {
      "model_module": "@jupyter-widgets/base",
      "model_module_version": "1.2.0",
      "model_name": "LayoutModel",
      "state": {}
     },
     "a9dc5882c9c749bd85a85c536f7647b3": {
      "model_module": "@jupyter-widgets/controls",
      "model_module_version": "1.5.0",
      "model_name": "DropdownModel",
      "state": {
       "_options_labels": [
        "mean1",
        "mean2",
        "mean_diff"
       ],
       "description": "sby",
       "index": 2,
       "layout": "IPY_MODEL_362b5a8798974ba48b36d45c9e7ceda1",
       "style": "IPY_MODEL_01d67e83537d4b81bcd7173d3c9579de"
      }
     },
     "ad72add59d1e4fe196774af6bfa64509": {
      "model_module": "@jupyter-widgets/base",
      "model_module_version": "1.2.0",
      "model_name": "LayoutModel",
      "state": {}
     },
     "ae19adf54a2244e1bd81c7fdc4374768": {
      "model_module": "@jupyter-widgets/output",
      "model_module_version": "1.0.0",
      "model_name": "OutputModel",
      "state": {
       "layout": "IPY_MODEL_efa23576d376479aaf087bba67e38e38",
       "outputs": [
        {
         "data": {
          "text/markdown": "### Abs-Conc.Median",
          "text/plain": "<IPython.core.display.Markdown object>"
         },
         "metadata": {},
         "output_type": "display_data"
        },
        {
         "data": {
          "text/markdown": "* Top 100 words: disregard, distrust, toleration, perversion, vindication, renunciation, sincerity, incapacity, inconsistency, denial, condemnation, forbearance, ignorance, rectitude, moderation, religion, rash, neglect, justification, contradiction, reprobation, arrogance, submission, universality, injustice, rashness, acquiescence, scepticism, misrepresentation, immorality, appeal, morality, judgment, desire, censure, inexperience, presumption, adherence, justice, advocate, indifference, impartiality, bigotry, conviction, cause, prudence, exaltation, future, respect, expediency, reproach, dissent, humiliation, disobedience, impiety, licentiousness, infallibility, magnanimity, violation, detestation, baseness, deference, faithfulness, infidelity, truth, patriotism, hostility, exclusion, celibacy, abhorrence, confidence, levity, independence, loyalty, atheism, integrity, honesty, participation, ruling, hypocrisy, fanaticism, abuse, freedom, understanding, persuasion, pleading, credulity, subordination, veracity, prejudice, humanity, necessity, belief, rebuke, interpreting, imbecility, character, opinion, beneficence, profligacy",
          "text/plain": "<IPython.core.display.Markdown object>"
         },
         "metadata": {},
         "output_type": "display_data"
        },
        {
         "data": {
          "text/markdown": "* Bottom 100 words: stack, trough, wood, pond, broom, comb, cove, top, hoop, tank, basket, bucket, hole, rim, pea, bunch, bag, bran, perch, tray, roller, patch, shell, feather, log, pot, wick, carpet, rug, trunk, blanket, cage, chip, stalk, towel, seam, belt, cane, rag, barrel, pin, jug, barn, gut, yard, cutter, cask, beetle, rib, straw, snail, pan, kettle, pool, beaver, stove, nail, litter, lizard, rabbit, shoe, pewter, ash, button, duck, tuft, cedar, plank, squirrel, bog, kite, chalk, pigeon, bark, leather, cart, soot, chimney, bead, crab, sack, plate, stocking, bowl, dolphin, fringe, dung, belly, jar, sand, hatch, pail, loop, moss, horn, foot, truck, quarry, beak, cushion",
          "text/plain": "<IPython.core.display.Markdown object>"
         },
         "metadata": {},
         "output_type": "display_data"
        },
        {
         "data": {
          "text/html": "<div>\n<style scoped>\n    .dataframe tbody tr th:only-of-type {\n        vertical-align: middle;\n    }\n\n    .dataframe tbody tr th {\n        vertical-align: top;\n    }\n\n    .dataframe thead th {\n        text-align: right;\n    }\n</style>\n<table border=\"1\" class=\"dataframe\">\n  <thead>\n    <tr style=\"text-align: right;\">\n      <th></th>\n      <th>mean1</th>\n      <th>mean2</th>\n      <th>mean_diff</th>\n      <th>mean_diff_t</th>\n      <th>mean_diff_p</th>\n      <th>mean_diff_t_abs</th>\n      <th>len1</th>\n      <th>len2</th>\n      <th>trun</th>\n      <th>year1</th>\n      <th>year2</th>\n      <th>perc_mean_diff_t_abs</th>\n    </tr>\n    <tr>\n      <th>word</th>\n      <th></th>\n      <th></th>\n      <th></th>\n      <th></th>\n      <th></th>\n      <th></th>\n      <th></th>\n      <th></th>\n      <th></th>\n      <th></th>\n      <th></th>\n      <th></th>\n    </tr>\n  </thead>\n  <tbody>\n    <tr>\n      <th>disregard</th>\n      <td>2.540521</td>\n      <td>3.213270</td>\n      <td>0.672749</td>\n      <td>-22.914245</td>\n      <td>5.886934e-54</td>\n      <td>22.914245</td>\n      <td>100.0</td>\n      <td>100.0</td>\n      <td>12.0</td>\n      <td>1745.0</td>\n      <td>1850.0</td>\n      <td>85.467980</td>\n    </tr>\n    <tr>\n      <th>distrust</th>\n      <td>1.561001</td>\n      <td>3.017556</td>\n      <td>1.456554</td>\n      <td>-32.738469</td>\n      <td>2.974695e-75</td>\n      <td>32.738469</td>\n      <td>100.0</td>\n      <td>100.0</td>\n      <td>12.0</td>\n      <td>1740.0</td>\n      <td>1850.0</td>\n      <td>94.448655</td>\n    </tr>\n    <tr>\n      <th>toleration</th>\n      <td>1.969707</td>\n      <td>2.861850</td>\n      <td>0.892144</td>\n      <td>-15.263428</td>\n      <td>1.244022e-27</td>\n      <td>15.263428</td>\n      <td>100.0</td>\n      <td>100.0</td>\n      <td>12.0</td>\n      <td>1730.0</td>\n      <td>1850.0</td>\n      <td>70.045472</td>\n    </tr>\n    <tr>\n      <th>perversion</th>\n      <td>1.809191</td>\n      <td>2.834038</td>\n      <td>1.024847</td>\n      <td>-36.158570</td>\n      <td>2.587911e-80</td>\n      <td>36.158570</td>\n      <td>100.0</td>\n      <td>100.0</td>\n      <td>12.0</td>\n      <td>1755.0</td>\n      <td>1850.0</td>\n      <td>96.002274</td>\n    </tr>\n    <tr>\n      <th>vindication</th>\n      <td>1.425063</td>\n      <td>2.772257</td>\n      <td>1.347194</td>\n      <td>-22.685324</td>\n      <td>7.123409e-53</td>\n      <td>22.685324</td>\n      <td>100.0</td>\n      <td>100.0</td>\n      <td>12.0</td>\n      <td>1730.0</td>\n      <td>1850.0</td>\n      <td>84.975369</td>\n    </tr>\n    <tr>\n      <th>...</th>\n      <td>...</td>\n      <td>...</td>\n      <td>...</td>\n      <td>...</td>\n      <td>...</td>\n      <td>...</td>\n      <td>...</td>\n      <td>...</td>\n      <td>...</td>\n      <td>...</td>\n      <td>...</td>\n      <td>...</td>\n    </tr>\n    <tr>\n      <th>broom</th>\n      <td>-1.845064</td>\n      <td>-2.461926</td>\n      <td>-0.616861</td>\n      <td>31.789852</td>\n      <td>2.343827e-75</td>\n      <td>31.789852</td>\n      <td>100.0</td>\n      <td>100.0</td>\n      <td>12.0</td>\n      <td>1745.0</td>\n      <td>1850.0</td>\n      <td>94.012884</td>\n    </tr>\n    <tr>\n      <th>pond</th>\n      <td>-1.921880</td>\n      <td>-2.480243</td>\n      <td>-0.558364</td>\n      <td>8.658859</td>\n      <td>3.070528e-12</td>\n      <td>8.658859</td>\n      <td>100.0</td>\n      <td>100.0</td>\n      <td>12.0</td>\n      <td>1730.0</td>\n      <td>1850.0</td>\n      <td>45.604396</td>\n    </tr>\n    <tr>\n      <th>wood</th>\n      <td>-2.254080</td>\n      <td>-2.511966</td>\n      <td>-0.257886</td>\n      <td>11.758895</td>\n      <td>5.130237e-18</td>\n      <td>11.758895</td>\n      <td>100.0</td>\n      <td>100.0</td>\n      <td>12.0</td>\n      <td>1730.0</td>\n      <td>1850.0</td>\n      <td>58.696476</td>\n    </tr>\n    <tr>\n      <th>trough</th>\n      <td>-1.614068</td>\n      <td>-2.594086</td>\n      <td>-0.980018</td>\n      <td>16.048875</td>\n      <td>7.393692e-33</td>\n      <td>16.048875</td>\n      <td>100.0</td>\n      <td>100.0</td>\n      <td>12.0</td>\n      <td>1745.0</td>\n      <td>1850.0</td>\n      <td>72.243274</td>\n    </tr>\n    <tr>\n      <th>stack</th>\n      <td>-1.601659</td>\n      <td>-2.616738</td>\n      <td>-1.015080</td>\n      <td>22.094936</td>\n      <td>1.025807e-51</td>\n      <td>22.094936</td>\n      <td>100.0</td>\n      <td>100.0</td>\n      <td>12.0</td>\n      <td>1745.0</td>\n      <td>1850.0</td>\n      <td>84.122774</td>\n    </tr>\n  </tbody>\n</table>\n<p>4824 rows × 12 columns</p>\n</div>",
          "text/plain": "                mean1     mean2  mean_diff  mean_diff_t   mean_diff_p  \\\nword                                                                    \ndisregard    2.540521  3.213270   0.672749   -22.914245  5.886934e-54   \ndistrust     1.561001  3.017556   1.456554   -32.738469  2.974695e-75   \ntoleration   1.969707  2.861850   0.892144   -15.263428  1.244022e-27   \nperversion   1.809191  2.834038   1.024847   -36.158570  2.587911e-80   \nvindication  1.425063  2.772257   1.347194   -22.685324  7.123409e-53   \n...               ...       ...        ...          ...           ...   \nbroom       -1.845064 -2.461926  -0.616861    31.789852  2.343827e-75   \npond        -1.921880 -2.480243  -0.558364     8.658859  3.070528e-12   \nwood        -2.254080 -2.511966  -0.257886    11.758895  5.130237e-18   \ntrough      -1.614068 -2.594086  -0.980018    16.048875  7.393692e-33   \nstack       -1.601659 -2.616738  -1.015080    22.094936  1.025807e-51   \n\n             mean_diff_t_abs   len1   len2  trun   year1   year2  \\\nword                                                               \ndisregard          22.914245  100.0  100.0  12.0  1745.0  1850.0   \ndistrust           32.738469  100.0  100.0  12.0  1740.0  1850.0   \ntoleration         15.263428  100.0  100.0  12.0  1730.0  1850.0   \nperversion         36.158570  100.0  100.0  12.0  1755.0  1850.0   \nvindication        22.685324  100.0  100.0  12.0  1730.0  1850.0   \n...                      ...    ...    ...   ...     ...     ...   \nbroom              31.789852  100.0  100.0  12.0  1745.0  1850.0   \npond                8.658859  100.0  100.0  12.0  1730.0  1850.0   \nwood               11.758895  100.0  100.0  12.0  1730.0  1850.0   \ntrough             16.048875  100.0  100.0  12.0  1745.0  1850.0   \nstack              22.094936  100.0  100.0  12.0  1745.0  1850.0   \n\n             perc_mean_diff_t_abs  \nword                               \ndisregard               85.467980  \ndistrust                94.448655  \ntoleration              70.045472  \nperversion              96.002274  \nvindication             84.975369  \n...                           ...  \nbroom                   94.012884  \npond                    45.604396  \nwood                    58.696476  \ntrough                  72.243274  \nstack                   84.122774  \n\n[4824 rows x 12 columns]"
         },
         "metadata": {},
         "output_type": "display_data"
        }
       ]
      }
     },
     "b170eb558859408da676922f957543e5": {
      "model_module": "@jupyter-widgets/controls",
      "model_module_version": "1.5.0",
      "model_name": "DescriptionStyleModel",
      "state": {
       "description_width": ""
      }
     },
     "b1f319a53a514414b1c7239bd81b8a60": {
      "model_module": "@jupyter-widgets/controls",
      "model_module_version": "1.5.0",
      "model_name": "DescriptionStyleModel",
      "state": {
       "description_width": ""
      }
     },
     "b3ea96129ac4481d82c05bba830ef0a7": {
      "model_module": "@jupyter-widgets/controls",
      "model_module_version": "1.5.0",
      "model_name": "DescriptionStyleModel",
      "state": {
       "description_width": ""
      }
     },
     "b73779e24ea9451fb49add6c76726347": {
      "model_module": "@jupyter-widgets/controls",
      "model_module_version": "1.5.0",
      "model_name": "VBoxModel",
      "state": {
       "_dom_classes": [
        "widget-interact"
       ],
       "children": [
        "IPY_MODEL_a62cfa91adab4f21a0f0ef24d55f9087",
        "IPY_MODEL_873295160aaa44a29db1c64730fa2a74",
        "IPY_MODEL_ae19adf54a2244e1bd81c7fdc4374768"
       ],
       "layout": "IPY_MODEL_813b59dec0504fe0972df5ed91bf16d0"
      }
     },
     "c572f5a15a1e48eeaa14508534a1d890": {
      "model_module": "@jupyter-widgets/base",
      "model_module_version": "1.2.0",
      "model_name": "LayoutModel",
      "state": {}
     },
     "c7d4583fadf646ab87a2ee7b064f1e74": {
      "model_module": "@jupyter-widgets/base",
      "model_module_version": "1.2.0",
      "model_name": "LayoutModel",
      "state": {}
     },
     "c8208c3e53b04249a49e7e889ed54594": {
      "model_module": "@jupyter-widgets/base",
      "model_module_version": "1.2.0",
      "model_name": "LayoutModel",
      "state": {}
     },
     "cb05804d8d77474eacc7f564336e1286": {
      "model_module": "@jupyter-widgets/controls",
      "model_module_version": "1.5.0",
      "model_name": "VBoxModel",
      "state": {
       "_dom_classes": [
        "widget-interact"
       ],
       "children": [
        "IPY_MODEL_7e1a0a4ef3ad44f1827c2273b4f92dfc",
        "IPY_MODEL_048a201472e84cc996fcdd3a22559bc2",
        "IPY_MODEL_7655b2e743e14f53937c1672fe762795"
       ],
       "layout": "IPY_MODEL_c7d4583fadf646ab87a2ee7b064f1e74"
      }
     },
     "d0e5a532ebfc43218c0ea5d98a45035b": {
      "model_module": "@jupyter-widgets/base",
      "model_module_version": "1.2.0",
      "model_name": "LayoutModel",
      "state": {}
     },
     "d3b45a05ac42445382b41b439f81e310": {
      "model_module": "@jupyter-widgets/controls",
      "model_module_version": "1.5.0",
      "model_name": "DropdownModel",
      "state": {
       "_options_labels": [
        "mean1",
        "mean2",
        "mean_diff"
       ],
       "description": "sby",
       "index": 0,
       "layout": "IPY_MODEL_1318a6ee44654b80b60372b35348061b",
       "style": "IPY_MODEL_46033b6dc5404d8bb4e2be566bddcf34"
      }
     },
     "d712887f3f454861b5b00cb15dbe505d": {
      "model_module": "@jupyter-widgets/controls",
      "model_module_version": "1.5.0",
      "model_name": "VBoxModel",
      "state": {
       "_dom_classes": [
        "widget-interact"
       ],
       "children": [
        "IPY_MODEL_7b3ad6d34f4a4a778ac41db010e740f0",
        "IPY_MODEL_3af6f24144cd4b449e4c682818eb2cd0",
        "IPY_MODEL_953e94255a904404b7014f1bf2b16c02"
       ],
       "layout": "IPY_MODEL_f7e047c258c8477c85f7b41bfd3920dd"
      }
     },
     "d83002a7268d42368cf272d985da3572": {
      "model_module": "@jupyter-widgets/base",
      "model_module_version": "1.2.0",
      "model_name": "LayoutModel",
      "state": {}
     },
     "da4366d4961046bc90faf0cb3361409a": {
      "model_module": "@jupyter-widgets/controls",
      "model_module_version": "1.5.0",
      "model_name": "DropdownModel",
      "state": {
       "_options_labels": [
        "Abs-Conc.Median",
        "Freq.M",
        "Woman-Man.VG",
        "Polit-Acad.HGI",
        "Qual-Quant.HGI",
        "Active-Passive.HGI",
        "Pleasure-Pain.HGI",
        "Interp-Desc.HGI",
        "Abs-Conc.Median",
        "Pos-Neg.HGI",
        "Human-Object.VG",
        "Strong-Weak.HGI",
        "Time-Space.HGI",
        "Ambig.NX"
       ],
       "description": "vec",
       "index": 0,
       "layout": "IPY_MODEL_998e632bf53445d59989723247371251",
       "style": "IPY_MODEL_a0c9c649a2054469acb80ef088cfecf4"
      }
     },
     "dbb7c60f0ffd49b5a63c149bdd0478cc": {
      "model_module": "@jupyter-widgets/output",
      "model_module_version": "1.0.0",
      "model_name": "OutputModel",
      "state": {
       "layout": "IPY_MODEL_3842e849467849c8a14c825b8fc35825",
       "outputs": [
        {
         "data": {
          "text/html": "<div>\n<style scoped>\n    .dataframe tbody tr th:only-of-type {\n        vertical-align: middle;\n    }\n\n    .dataframe tbody tr th {\n        vertical-align: top;\n    }\n\n    .dataframe thead th {\n        text-align: right;\n    }\n</style>\n<table border=\"1\" class=\"dataframe\">\n  <thead>\n    <tr style=\"text-align: right;\">\n      <th></th>\n      <th>mean1</th>\n      <th>mean2</th>\n      <th>mean_diff</th>\n      <th>mean_diff_t</th>\n      <th>mean_diff_p</th>\n      <th>mean_diff_t_abs</th>\n      <th>len1</th>\n      <th>len2</th>\n      <th>trun</th>\n      <th>year1</th>\n      <th>year2</th>\n      <th>perc_mean_diff_t_abs</th>\n    </tr>\n    <tr>\n      <th>word</th>\n      <th></th>\n      <th></th>\n      <th></th>\n      <th></th>\n      <th></th>\n      <th></th>\n      <th></th>\n      <th></th>\n      <th></th>\n      <th></th>\n      <th></th>\n      <th></th>\n    </tr>\n  </thead>\n  <tbody>\n    <tr>\n      <th>faction</th>\n      <td>2.399924</td>\n      <td>4.278327</td>\n      <td>1.878404</td>\n      <td>-49.930673</td>\n      <td>4.113559e-107</td>\n      <td>49.930673</td>\n      <td>100.0</td>\n      <td>100.0</td>\n      <td>12.0</td>\n      <td>1735.0</td>\n      <td>1850.0</td>\n      <td>98.711633</td>\n    </tr>\n    <tr>\n      <th>coalition</th>\n      <td>1.533107</td>\n      <td>4.143596</td>\n      <td>2.610488</td>\n      <td>-78.846296</td>\n      <td>2.903739e-145</td>\n      <td>78.846296</td>\n      <td>100.0</td>\n      <td>100.0</td>\n      <td>12.0</td>\n      <td>1745.0</td>\n      <td>1850.0</td>\n      <td>99.867374</td>\n    </tr>\n    <tr>\n      <th>rebel</th>\n      <td>2.023132</td>\n      <td>4.046241</td>\n      <td>2.023109</td>\n      <td>-22.636321</td>\n      <td>2.248087e-49</td>\n      <td>22.636321</td>\n      <td>100.0</td>\n      <td>100.0</td>\n      <td>12.0</td>\n      <td>1730.0</td>\n      <td>1850.0</td>\n      <td>83.099659</td>\n    </tr>\n    <tr>\n      <th>rebellion</th>\n      <td>2.886886</td>\n      <td>4.037729</td>\n      <td>1.150843</td>\n      <td>-17.494704</td>\n      <td>4.021560e-38</td>\n      <td>17.494704</td>\n      <td>100.0</td>\n      <td>100.0</td>\n      <td>12.0</td>\n      <td>1730.0</td>\n      <td>1850.0</td>\n      <td>72.868511</td>\n    </tr>\n    <tr>\n      <th>menace</th>\n      <td>1.612977</td>\n      <td>4.007833</td>\n      <td>2.394856</td>\n      <td>-50.792113</td>\n      <td>8.283214e-105</td>\n      <td>50.792113</td>\n      <td>100.0</td>\n      <td>100.0</td>\n      <td>12.0</td>\n      <td>1750.0</td>\n      <td>1850.0</td>\n      <td>98.787419</td>\n    </tr>\n    <tr>\n      <th>...</th>\n      <td>...</td>\n      <td>...</td>\n      <td>...</td>\n      <td>...</td>\n      <td>...</td>\n      <td>...</td>\n      <td>...</td>\n      <td>...</td>\n      <td>...</td>\n      <td>...</td>\n      <td>...</td>\n      <td>...</td>\n    </tr>\n    <tr>\n      <th>arithmetic</th>\n      <td>-2.887319</td>\n      <td>-4.074151</td>\n      <td>-1.186832</td>\n      <td>30.798932</td>\n      <td>2.241804e-70</td>\n      <td>30.798932</td>\n      <td>100.0</td>\n      <td>100.0</td>\n      <td>12.0</td>\n      <td>1745.0</td>\n      <td>1850.0</td>\n      <td>92.667677</td>\n    </tr>\n    <tr>\n      <th>student</th>\n      <td>-1.934331</td>\n      <td>-4.088025</td>\n      <td>-2.153694</td>\n      <td>22.711910</td>\n      <td>1.551917e-53</td>\n      <td>22.711910</td>\n      <td>100.0</td>\n      <td>100.0</td>\n      <td>12.0</td>\n      <td>1730.0</td>\n      <td>1850.0</td>\n      <td>83.289125</td>\n    </tr>\n    <tr>\n      <th>geometry</th>\n      <td>-2.625792</td>\n      <td>-4.264725</td>\n      <td>-1.638934</td>\n      <td>26.599717</td>\n      <td>5.994383e-63</td>\n      <td>26.599717</td>\n      <td>100.0</td>\n      <td>100.0</td>\n      <td>12.0</td>\n      <td>1730.0</td>\n      <td>1850.0</td>\n      <td>88.669951</td>\n    </tr>\n    <tr>\n      <th>mathematics</th>\n      <td>-2.177602</td>\n      <td>-4.306970</td>\n      <td>-2.129368</td>\n      <td>30.783338</td>\n      <td>3.618355e-71</td>\n      <td>30.783338</td>\n      <td>100.0</td>\n      <td>100.0</td>\n      <td>12.0</td>\n      <td>1740.0</td>\n      <td>1850.0</td>\n      <td>92.629784</td>\n    </tr>\n    <tr>\n      <th>study</th>\n      <td>-2.113799</td>\n      <td>-4.488924</td>\n      <td>-2.375124</td>\n      <td>72.098605</td>\n      <td>5.639914e-134</td>\n      <td>72.098605</td>\n      <td>100.0</td>\n      <td>100.0</td>\n      <td>12.0</td>\n      <td>1730.0</td>\n      <td>1850.0</td>\n      <td>99.791588</td>\n    </tr>\n  </tbody>\n</table>\n<p>4824 rows × 12 columns</p>\n</div>",
          "text/plain": "                mean1     mean2  mean_diff  mean_diff_t    mean_diff_p  \\\nword                                                                     \nfaction      2.399924  4.278327   1.878404   -49.930673  4.113559e-107   \ncoalition    1.533107  4.143596   2.610488   -78.846296  2.903739e-145   \nrebel        2.023132  4.046241   2.023109   -22.636321   2.248087e-49   \nrebellion    2.886886  4.037729   1.150843   -17.494704   4.021560e-38   \nmenace       1.612977  4.007833   2.394856   -50.792113  8.283214e-105   \n...               ...       ...        ...          ...            ...   \narithmetic  -2.887319 -4.074151  -1.186832    30.798932   2.241804e-70   \nstudent     -1.934331 -4.088025  -2.153694    22.711910   1.551917e-53   \ngeometry    -2.625792 -4.264725  -1.638934    26.599717   5.994383e-63   \nmathematics -2.177602 -4.306970  -2.129368    30.783338   3.618355e-71   \nstudy       -2.113799 -4.488924  -2.375124    72.098605  5.639914e-134   \n\n             mean_diff_t_abs   len1   len2  trun   year1   year2  \\\nword                                                               \nfaction            49.930673  100.0  100.0  12.0  1735.0  1850.0   \ncoalition          78.846296  100.0  100.0  12.0  1745.0  1850.0   \nrebel              22.636321  100.0  100.0  12.0  1730.0  1850.0   \nrebellion          17.494704  100.0  100.0  12.0  1730.0  1850.0   \nmenace             50.792113  100.0  100.0  12.0  1750.0  1850.0   \n...                      ...    ...    ...   ...     ...     ...   \narithmetic         30.798932  100.0  100.0  12.0  1745.0  1850.0   \nstudent            22.711910  100.0  100.0  12.0  1730.0  1850.0   \ngeometry           26.599717  100.0  100.0  12.0  1730.0  1850.0   \nmathematics        30.783338  100.0  100.0  12.0  1740.0  1850.0   \nstudy              72.098605  100.0  100.0  12.0  1730.0  1850.0   \n\n             perc_mean_diff_t_abs  \nword                               \nfaction                 98.711633  \ncoalition               99.867374  \nrebel                   83.099659  \nrebellion               72.868511  \nmenace                  98.787419  \n...                           ...  \narithmetic              92.667677  \nstudent                 83.289125  \ngeometry                88.669951  \nmathematics             92.629784  \nstudy                   99.791588  \n\n[4824 rows x 12 columns]"
         },
         "metadata": {},
         "output_type": "display_data"
        }
       ]
      }
     },
     "dcf00019966c4baca9015e3d468e3a23": {
      "model_module": "@jupyter-widgets/controls",
      "model_module_version": "1.5.0",
      "model_name": "DescriptionStyleModel",
      "state": {
       "description_width": ""
      }
     },
     "df013df55bd6471cb7e2936374e419de": {
      "model_module": "@jupyter-widgets/output",
      "model_module_version": "1.0.0",
      "model_name": "OutputModel",
      "state": {
       "layout": "IPY_MODEL_960a2104b6c94f99b474b5acc2dba13f",
       "outputs": [
        {
         "data": {
          "text/markdown": "### Pleasure-Pain.HGI",
          "text/plain": "<IPython.core.display.Markdown object>"
         },
         "metadata": {},
         "output_type": "display_data"
        },
        {
         "data": {
          "text/markdown": "* **Top 100 words**: chef, gem, fete, tact, pic, chat, villa, tea, coffee, spa, attraction, trio, evening, studio, carol, prize, solo, watering, forte, monday, dining, hock, chocolate, wednesday, library, friday, sunday, rainbow, flower, street, bouquet, star, swan, park, belle, childe, presentation, contribution, afternoon, sheen, tavern, jubilee, inn, claret, holiday, goal, op, thursday, lake, warehouse, fishing, harp, cricket, champagne, singer, punch, mater, dancing, encore, saturday, glee, gilt, sip, garden, entertainment, recreation, tuesday, toy, presentment, village, meadow, rowing, goldsmith, highland, duo, poetry, finale, silver, mall, meal, stud, drawing, peacock, gallery, duet, fun, cornet, card, strand, ballad, circle, wine, poultry, era, art, dinner, tennis, plum, goodwill, pavilion",
          "text/plain": "<IPython.core.display.Markdown object>"
         },
         "metadata": {},
         "output_type": "display_data"
        },
        {
         "data": {
          "text/markdown": "* **Bottom 100 words**: scourge, misery, disgrace, wretch, dread, guilt, shame, curse, oppression, calamity, terror, distress, calumny, doom, infamy, ingratitude, iniquity, depravity, redress, suffering, despair, torture, victim, indignity, insensibility, groan, anger, punishment, poverty, moan, famine, anguish, horror, slander, resentment, wretchedness, reproach, consequence, grief, brutality, bondage, negligence, injustice, imprudence, tyranny, injury, wrath, retribution, persecution, crime, immorality, destruction, corruption, wickedness, neglect, remorse, detection, displeasure, malady, cruelty, rage, torment, reptile, grievance, cowardice, indignation, sufferer, vengeance, humiliation, fate, sedition, abuse, safety, conscience, impiety, disobedience, blast, suicide, severity, weakness, disease, malice, treachery, drunkenness, rebellion, barbarity, rack, sacrilege, slave, discontent, falsehood, tyrant, perfidy, pang, deformity, perjury, compassion, uncertainty, threat, folly",
          "text/plain": "<IPython.core.display.Markdown object>"
         },
         "metadata": {},
         "output_type": "display_data"
        },
        {
         "data": {
          "text/html": "<div>\n<style scoped>\n    .dataframe tbody tr th:only-of-type {\n        vertical-align: middle;\n    }\n\n    .dataframe tbody tr th {\n        vertical-align: top;\n    }\n\n    .dataframe thead th {\n        text-align: right;\n    }\n</style>\n<table border=\"1\" class=\"dataframe\">\n  <thead>\n    <tr style=\"text-align: right;\">\n      <th></th>\n      <th>mean1</th>\n      <th>mean2</th>\n      <th>mean_diff</th>\n      <th>mean_diff_t</th>\n      <th>mean_diff_p</th>\n      <th>mean_diff_t_abs</th>\n      <th>len1</th>\n      <th>len2</th>\n      <th>trun</th>\n      <th>year1</th>\n      <th>year2</th>\n      <th>perc_mean_diff_t_abs</th>\n    </tr>\n    <tr>\n      <th>word</th>\n      <th></th>\n      <th></th>\n      <th></th>\n      <th></th>\n      <th></th>\n      <th></th>\n      <th></th>\n      <th></th>\n      <th></th>\n      <th></th>\n      <th></th>\n      <th></th>\n    </tr>\n  </thead>\n  <tbody>\n    <tr>\n      <th>chef</th>\n      <td>-1.170563</td>\n      <td>2.182760</td>\n      <td>3.353323</td>\n      <td>-64.265701</td>\n      <td>5.351442e-123</td>\n      <td>64.265701</td>\n      <td>100.0</td>\n      <td>100.0</td>\n      <td>12.0</td>\n      <td>1740.0</td>\n      <td>1850.0</td>\n      <td>99.242137</td>\n    </tr>\n    <tr>\n      <th>gem</th>\n      <td>-0.260419</td>\n      <td>3.003452</td>\n      <td>3.263871</td>\n      <td>-49.239197</td>\n      <td>2.535265e-103</td>\n      <td>49.239197</td>\n      <td>100.0</td>\n      <td>100.0</td>\n      <td>12.0</td>\n      <td>1730.0</td>\n      <td>1850.0</td>\n      <td>97.669572</td>\n    </tr>\n    <tr>\n      <th>fete</th>\n      <td>-0.519506</td>\n      <td>2.707967</td>\n      <td>3.227473</td>\n      <td>-44.340177</td>\n      <td>3.417827e-94</td>\n      <td>44.340177</td>\n      <td>100.0</td>\n      <td>100.0</td>\n      <td>12.0</td>\n      <td>1735.0</td>\n      <td>1850.0</td>\n      <td>96.267526</td>\n    </tr>\n    <tr>\n      <th>tact</th>\n      <td>-0.844070</td>\n      <td>2.225664</td>\n      <td>3.069733</td>\n      <td>-75.513825</td>\n      <td>1.792752e-139</td>\n      <td>75.513825</td>\n      <td>100.0</td>\n      <td>100.0</td>\n      <td>12.0</td>\n      <td>1745.0</td>\n      <td>1850.0</td>\n      <td>99.715801</td>\n    </tr>\n    <tr>\n      <th>pic</th>\n      <td>-0.688459</td>\n      <td>2.313763</td>\n      <td>3.002222</td>\n      <td>-50.458470</td>\n      <td>6.339180e-109</td>\n      <td>50.458470</td>\n      <td>100.0</td>\n      <td>100.0</td>\n      <td>12.0</td>\n      <td>1730.0</td>\n      <td>1850.0</td>\n      <td>97.915877</td>\n    </tr>\n    <tr>\n      <th>...</th>\n      <td>...</td>\n      <td>...</td>\n      <td>...</td>\n      <td>...</td>\n      <td>...</td>\n      <td>...</td>\n      <td>...</td>\n      <td>...</td>\n      <td>...</td>\n      <td>...</td>\n      <td>...</td>\n      <td>...</td>\n    </tr>\n    <tr>\n      <th>dread</th>\n      <td>1.008533</td>\n      <td>-2.765129</td>\n      <td>-3.773663</td>\n      <td>48.566691</td>\n      <td>2.898243e-102</td>\n      <td>48.566691</td>\n      <td>100.0</td>\n      <td>100.0</td>\n      <td>12.0</td>\n      <td>1730.0</td>\n      <td>1850.0</td>\n      <td>97.442213</td>\n    </tr>\n    <tr>\n      <th>wretch</th>\n      <td>0.689290</td>\n      <td>-3.123289</td>\n      <td>-3.812579</td>\n      <td>58.287829</td>\n      <td>2.179083e-118</td>\n      <td>58.287829</td>\n      <td>100.0</td>\n      <td>100.0</td>\n      <td>12.0</td>\n      <td>1730.0</td>\n      <td>1850.0</td>\n      <td>98.957939</td>\n    </tr>\n    <tr>\n      <th>disgrace</th>\n      <td>1.412439</td>\n      <td>-2.509356</td>\n      <td>-3.921795</td>\n      <td>84.449651</td>\n      <td>6.990776e-148</td>\n      <td>84.449651</td>\n      <td>100.0</td>\n      <td>100.0</td>\n      <td>12.0</td>\n      <td>1730.0</td>\n      <td>1850.0</td>\n      <td>99.886321</td>\n    </tr>\n    <tr>\n      <th>misery</th>\n      <td>1.463030</td>\n      <td>-2.551141</td>\n      <td>-4.014170</td>\n      <td>58.052985</td>\n      <td>5.807820e-119</td>\n      <td>58.052985</td>\n      <td>100.0</td>\n      <td>100.0</td>\n      <td>12.0</td>\n      <td>1730.0</td>\n      <td>1850.0</td>\n      <td>98.920045</td>\n    </tr>\n    <tr>\n      <th>scourge</th>\n      <td>0.922386</td>\n      <td>-3.575598</td>\n      <td>-4.497984</td>\n      <td>73.645891</td>\n      <td>3.799456e-141</td>\n      <td>73.645891</td>\n      <td>100.0</td>\n      <td>100.0</td>\n      <td>12.0</td>\n      <td>1735.0</td>\n      <td>1850.0</td>\n      <td>99.640015</td>\n    </tr>\n  </tbody>\n</table>\n<p>4824 rows × 12 columns</p>\n</div>",
          "text/plain": "             mean1     mean2  mean_diff  mean_diff_t    mean_diff_p  \\\nword                                                                  \nchef     -1.170563  2.182760   3.353323   -64.265701  5.351442e-123   \ngem      -0.260419  3.003452   3.263871   -49.239197  2.535265e-103   \nfete     -0.519506  2.707967   3.227473   -44.340177   3.417827e-94   \ntact     -0.844070  2.225664   3.069733   -75.513825  1.792752e-139   \npic      -0.688459  2.313763   3.002222   -50.458470  6.339180e-109   \n...            ...       ...        ...          ...            ...   \ndread     1.008533 -2.765129  -3.773663    48.566691  2.898243e-102   \nwretch    0.689290 -3.123289  -3.812579    58.287829  2.179083e-118   \ndisgrace  1.412439 -2.509356  -3.921795    84.449651  6.990776e-148   \nmisery    1.463030 -2.551141  -4.014170    58.052985  5.807820e-119   \nscourge   0.922386 -3.575598  -4.497984    73.645891  3.799456e-141   \n\n          mean_diff_t_abs   len1   len2  trun   year1   year2  \\\nword                                                            \nchef            64.265701  100.0  100.0  12.0  1740.0  1850.0   \ngem             49.239197  100.0  100.0  12.0  1730.0  1850.0   \nfete            44.340177  100.0  100.0  12.0  1735.0  1850.0   \ntact            75.513825  100.0  100.0  12.0  1745.0  1850.0   \npic             50.458470  100.0  100.0  12.0  1730.0  1850.0   \n...                   ...    ...    ...   ...     ...     ...   \ndread           48.566691  100.0  100.0  12.0  1730.0  1850.0   \nwretch          58.287829  100.0  100.0  12.0  1730.0  1850.0   \ndisgrace        84.449651  100.0  100.0  12.0  1730.0  1850.0   \nmisery          58.052985  100.0  100.0  12.0  1730.0  1850.0   \nscourge         73.645891  100.0  100.0  12.0  1735.0  1850.0   \n\n          perc_mean_diff_t_abs  \nword                            \nchef                 99.242137  \ngem                  97.669572  \nfete                 96.267526  \ntact                 99.715801  \npic                  97.915877  \n...                        ...  \ndread                97.442213  \nwretch               98.957939  \ndisgrace             99.886321  \nmisery               98.920045  \nscourge              99.640015  \n\n[4824 rows x 12 columns]"
         },
         "metadata": {},
         "output_type": "display_data"
        }
       ]
      }
     },
     "df82e7048ad1490fb1187b559e706d71": {
      "model_module": "@jupyter-widgets/controls",
      "model_module_version": "1.5.0",
      "model_name": "DescriptionStyleModel",
      "state": {
       "description_width": ""
      }
     },
     "e54073d73d8042ffa57f479a6bd2ad81": {
      "model_module": "@jupyter-widgets/base",
      "model_module_version": "1.2.0",
      "model_name": "LayoutModel",
      "state": {}
     },
     "e96eaeb96ce449b0ba544d07da26a5f1": {
      "model_module": "@jupyter-widgets/base",
      "model_module_version": "1.2.0",
      "model_name": "LayoutModel",
      "state": {}
     },
     "ea569c2dfd334979980cb826a1ee7f63": {
      "model_module": "@jupyter-widgets/controls",
      "model_module_version": "1.5.0",
      "model_name": "DropdownModel",
      "state": {
       "_options_labels": [
        "mean1",
        "mean2",
        "mean_diff"
       ],
       "description": "sby",
       "index": 1,
       "layout": "IPY_MODEL_965ec0f699ec4213881775ecd34052c1",
       "style": "IPY_MODEL_48c00b6520d0461598c4f476c038f265"
      }
     },
     "ece5e4172ba44edb89411f45246a9abd": {
      "model_module": "@jupyter-widgets/output",
      "model_module_version": "1.0.0",
      "model_name": "OutputModel",
      "state": {
       "layout": "IPY_MODEL_3d2300acc19c4c918cf11cc9669b56a3",
       "outputs": [
        {
         "data": {
          "text/html": "<div>\n<style scoped>\n    .dataframe tbody tr th:only-of-type {\n        vertical-align: middle;\n    }\n\n    .dataframe tbody tr th {\n        vertical-align: top;\n    }\n\n    .dataframe thead th {\n        text-align: right;\n    }\n</style>\n<table border=\"1\" class=\"dataframe\">\n  <thead>\n    <tr style=\"text-align: right;\">\n      <th></th>\n      <th>mean1</th>\n      <th>mean2</th>\n      <th>mean_diff</th>\n      <th>mean_diff_t</th>\n      <th>mean_diff_p</th>\n      <th>mean_diff_t_abs</th>\n      <th>len1</th>\n      <th>len2</th>\n      <th>trun</th>\n      <th>year1</th>\n      <th>year2</th>\n      <th>perc_mean_diff_t_abs</th>\n    </tr>\n    <tr>\n      <th>word</th>\n      <th></th>\n      <th></th>\n      <th></th>\n      <th></th>\n      <th></th>\n      <th></th>\n      <th></th>\n      <th></th>\n      <th></th>\n      <th></th>\n      <th></th>\n      <th></th>\n    </tr>\n  </thead>\n  <tbody>\n    <tr>\n      <th>wisdom</th>\n      <td>2.859524</td>\n      <td>2.240307</td>\n      <td>-0.619217</td>\n      <td>30.135760</td>\n      <td>1.099626e-71</td>\n      <td>30.135760</td>\n      <td>100.0</td>\n      <td>100.0</td>\n      <td>12.0</td>\n      <td>1730.0</td>\n      <td>1850.0</td>\n      <td>92.743463</td>\n    </tr>\n    <tr>\n      <th>prejudice</th>\n      <td>2.811378</td>\n      <td>2.328712</td>\n      <td>-0.482666</td>\n      <td>21.250331</td>\n      <td>1.759020e-48</td>\n      <td>21.250331</td>\n      <td>100.0</td>\n      <td>100.0</td>\n      <td>12.0</td>\n      <td>1730.0</td>\n      <td>1850.0</td>\n      <td>82.834407</td>\n    </tr>\n    <tr>\n      <th>prudence</th>\n      <td>2.733077</td>\n      <td>2.468045</td>\n      <td>-0.265032</td>\n      <td>8.398579</td>\n      <td>5.952861e-10</td>\n      <td>8.398579</td>\n      <td>100.0</td>\n      <td>100.0</td>\n      <td>12.0</td>\n      <td>1730.0</td>\n      <td>1850.0</td>\n      <td>44.012884</td>\n    </tr>\n    <tr>\n      <th>equity</th>\n      <td>2.708116</td>\n      <td>2.115946</td>\n      <td>-0.592171</td>\n      <td>22.570801</td>\n      <td>1.739707e-49</td>\n      <td>22.570801</td>\n      <td>100.0</td>\n      <td>100.0</td>\n      <td>12.0</td>\n      <td>1730.0</td>\n      <td>1850.0</td>\n      <td>84.842743</td>\n    </tr>\n    <tr>\n      <th>mankind</th>\n      <td>2.693199</td>\n      <td>2.262456</td>\n      <td>-0.430743</td>\n      <td>16.720627</td>\n      <td>2.711169e-29</td>\n      <td>16.720627</td>\n      <td>100.0</td>\n      <td>100.0</td>\n      <td>12.0</td>\n      <td>1730.0</td>\n      <td>1850.0</td>\n      <td>73.872679</td>\n    </tr>\n    <tr>\n      <th>religion</th>\n      <td>2.679732</td>\n      <td>2.633712</td>\n      <td>-0.046020</td>\n      <td>2.807781</td>\n      <td>6.610921e-02</td>\n      <td>2.807781</td>\n      <td>100.0</td>\n      <td>100.0</td>\n      <td>12.0</td>\n      <td>1730.0</td>\n      <td>1850.0</td>\n      <td>15.877226</td>\n    </tr>\n    <tr>\n      <th>truth</th>\n      <td>2.649993</td>\n      <td>2.416050</td>\n      <td>-0.233943</td>\n      <td>16.041492</td>\n      <td>7.428956e-32</td>\n      <td>16.041492</td>\n      <td>100.0</td>\n      <td>100.0</td>\n      <td>12.0</td>\n      <td>1730.0</td>\n      <td>1850.0</td>\n      <td>72.224327</td>\n    </tr>\n    <tr>\n      <th>judgment</th>\n      <td>2.638159</td>\n      <td>2.514862</td>\n      <td>-0.123297</td>\n      <td>6.421208</td>\n      <td>1.515960e-06</td>\n      <td>6.421208</td>\n      <td>100.0</td>\n      <td>100.0</td>\n      <td>12.0</td>\n      <td>1730.0</td>\n      <td>1850.0</td>\n      <td>34.615385</td>\n    </tr>\n    <tr>\n      <th>authority</th>\n      <td>2.628539</td>\n      <td>2.114807</td>\n      <td>-0.513732</td>\n      <td>25.492727</td>\n      <td>5.881626e-62</td>\n      <td>25.492727</td>\n      <td>100.0</td>\n      <td>100.0</td>\n      <td>12.0</td>\n      <td>1730.0</td>\n      <td>1850.0</td>\n      <td>88.764684</td>\n    </tr>\n    <tr>\n      <th>belief</th>\n      <td>2.604413</td>\n      <td>2.323120</td>\n      <td>-0.281293</td>\n      <td>6.640615</td>\n      <td>8.477970e-07</td>\n      <td>6.640615</td>\n      <td>100.0</td>\n      <td>100.0</td>\n      <td>12.0</td>\n      <td>1730.0</td>\n      <td>1850.0</td>\n      <td>35.714286</td>\n    </tr>\n    <tr>\n      <th>happiness</th>\n      <td>2.597784</td>\n      <td>1.751998</td>\n      <td>-0.845785</td>\n      <td>35.074901</td>\n      <td>2.863633e-82</td>\n      <td>35.074901</td>\n      <td>100.0</td>\n      <td>100.0</td>\n      <td>12.0</td>\n      <td>1730.0</td>\n      <td>1850.0</td>\n      <td>95.395983</td>\n    </tr>\n    <tr>\n      <th>obedience</th>\n      <td>2.594990</td>\n      <td>2.268930</td>\n      <td>-0.326060</td>\n      <td>13.361429</td>\n      <td>2.230576e-17</td>\n      <td>13.361429</td>\n      <td>100.0</td>\n      <td>100.0</td>\n      <td>12.0</td>\n      <td>1730.0</td>\n      <td>1850.0</td>\n      <td>64.266768</td>\n    </tr>\n    <tr>\n      <th>moderation</th>\n      <td>2.584507</td>\n      <td>2.643061</td>\n      <td>0.058554</td>\n      <td>-0.993292</td>\n      <td>3.799197e-01</td>\n      <td>1.049962</td>\n      <td>100.0</td>\n      <td>100.0</td>\n      <td>12.0</td>\n      <td>1730.0</td>\n      <td>1850.0</td>\n      <td>4.622963</td>\n    </tr>\n    <tr>\n      <th>faith</th>\n      <td>2.556532</td>\n      <td>2.204728</td>\n      <td>-0.351805</td>\n      <td>12.962610</td>\n      <td>3.181174e-21</td>\n      <td>12.962610</td>\n      <td>100.0</td>\n      <td>100.0</td>\n      <td>12.0</td>\n      <td>1730.0</td>\n      <td>1850.0</td>\n      <td>62.864721</td>\n    </tr>\n    <tr>\n      <th>sincerity</th>\n      <td>2.556529</td>\n      <td>2.756402</td>\n      <td>0.199873</td>\n      <td>-5.127092</td>\n      <td>5.772567e-05</td>\n      <td>5.127092</td>\n      <td>100.0</td>\n      <td>100.0</td>\n      <td>12.0</td>\n      <td>1730.0</td>\n      <td>1850.0</td>\n      <td>28.363016</td>\n    </tr>\n    <tr>\n      <th>ministry</th>\n      <td>2.543469</td>\n      <td>2.024161</td>\n      <td>-0.519307</td>\n      <td>13.935769</td>\n      <td>6.177431e-24</td>\n      <td>13.935769</td>\n      <td>100.0</td>\n      <td>100.0</td>\n      <td>12.0</td>\n      <td>1730.0</td>\n      <td>1850.0</td>\n      <td>66.009852</td>\n    </tr>\n    <tr>\n      <th>disregard</th>\n      <td>2.540521</td>\n      <td>3.213270</td>\n      <td>0.672749</td>\n      <td>-22.914245</td>\n      <td>5.886934e-54</td>\n      <td>22.914245</td>\n      <td>100.0</td>\n      <td>100.0</td>\n      <td>12.0</td>\n      <td>1745.0</td>\n      <td>1850.0</td>\n      <td>85.467980</td>\n    </tr>\n    <tr>\n      <th>freedom</th>\n      <td>2.530273</td>\n      <td>2.356895</td>\n      <td>-0.173378</td>\n      <td>6.401138</td>\n      <td>4.630488e-07</td>\n      <td>6.401138</td>\n      <td>100.0</td>\n      <td>100.0</td>\n      <td>12.0</td>\n      <td>1730.0</td>\n      <td>1850.0</td>\n      <td>34.539598</td>\n    </tr>\n    <tr>\n      <th>understanding</th>\n      <td>2.522322</td>\n      <td>2.343932</td>\n      <td>-0.178389</td>\n      <td>4.779711</td>\n      <td>2.731362e-03</td>\n      <td>4.779711</td>\n      <td>100.0</td>\n      <td>100.0</td>\n      <td>12.0</td>\n      <td>1730.0</td>\n      <td>1850.0</td>\n      <td>26.411520</td>\n    </tr>\n    <tr>\n      <th>future</th>\n      <td>2.517248</td>\n      <td>2.461483</td>\n      <td>-0.055765</td>\n      <td>3.214381</td>\n      <td>3.128588e-02</td>\n      <td>3.214381</td>\n      <td>100.0</td>\n      <td>100.0</td>\n      <td>12.0</td>\n      <td>1730.0</td>\n      <td>1850.0</td>\n      <td>18.188708</td>\n    </tr>\n    <tr>\n      <th>favour</th>\n      <td>2.516552</td>\n      <td>2.210303</td>\n      <td>-0.306249</td>\n      <td>19.946104</td>\n      <td>7.905121e-42</td>\n      <td>19.946104</td>\n      <td>100.0</td>\n      <td>100.0</td>\n      <td>12.0</td>\n      <td>1730.0</td>\n      <td>1850.0</td>\n      <td>80.996590</td>\n    </tr>\n    <tr>\n      <th>posterity</th>\n      <td>2.514776</td>\n      <td>1.691041</td>\n      <td>-0.823735</td>\n      <td>37.672902</td>\n      <td>4.162996e-85</td>\n      <td>37.672902</td>\n      <td>100.0</td>\n      <td>100.0</td>\n      <td>12.0</td>\n      <td>1730.0</td>\n      <td>1850.0</td>\n      <td>96.438045</td>\n    </tr>\n    <tr>\n      <th>sense</th>\n      <td>2.509957</td>\n      <td>2.270648</td>\n      <td>-0.239309</td>\n      <td>9.725627</td>\n      <td>2.706835e-13</td>\n      <td>9.725627</td>\n      <td>100.0</td>\n      <td>100.0</td>\n      <td>12.0</td>\n      <td>1730.0</td>\n      <td>1850.0</td>\n      <td>50.701023</td>\n    </tr>\n    <tr>\n      <th>goodness</th>\n      <td>2.509085</td>\n      <td>1.793305</td>\n      <td>-0.715780</td>\n      <td>30.865248</td>\n      <td>1.521859e-74</td>\n      <td>30.865248</td>\n      <td>100.0</td>\n      <td>100.0</td>\n      <td>12.0</td>\n      <td>1730.0</td>\n      <td>1850.0</td>\n      <td>93.368700</td>\n    </tr>\n    <tr>\n      <th>censure</th>\n      <td>2.506619</td>\n      <td>2.509555</td>\n      <td>0.002935</td>\n      <td>-0.014599</td>\n      <td>4.718776e-01</td>\n      <td>0.924818</td>\n      <td>100.0</td>\n      <td>100.0</td>\n      <td>12.0</td>\n      <td>1730.0</td>\n      <td>1850.0</td>\n      <td>2.917772</td>\n    </tr>\n  </tbody>\n</table>\n</div>",
          "text/plain": "                  mean1     mean2  mean_diff  mean_diff_t   mean_diff_p  \\\nword                                                                      \nwisdom         2.859524  2.240307  -0.619217    30.135760  1.099626e-71   \nprejudice      2.811378  2.328712  -0.482666    21.250331  1.759020e-48   \nprudence       2.733077  2.468045  -0.265032     8.398579  5.952861e-10   \nequity         2.708116  2.115946  -0.592171    22.570801  1.739707e-49   \nmankind        2.693199  2.262456  -0.430743    16.720627  2.711169e-29   \nreligion       2.679732  2.633712  -0.046020     2.807781  6.610921e-02   \ntruth          2.649993  2.416050  -0.233943    16.041492  7.428956e-32   \njudgment       2.638159  2.514862  -0.123297     6.421208  1.515960e-06   \nauthority      2.628539  2.114807  -0.513732    25.492727  5.881626e-62   \nbelief         2.604413  2.323120  -0.281293     6.640615  8.477970e-07   \nhappiness      2.597784  1.751998  -0.845785    35.074901  2.863633e-82   \nobedience      2.594990  2.268930  -0.326060    13.361429  2.230576e-17   \nmoderation     2.584507  2.643061   0.058554    -0.993292  3.799197e-01   \nfaith          2.556532  2.204728  -0.351805    12.962610  3.181174e-21   \nsincerity      2.556529  2.756402   0.199873    -5.127092  5.772567e-05   \nministry       2.543469  2.024161  -0.519307    13.935769  6.177431e-24   \ndisregard      2.540521  3.213270   0.672749   -22.914245  5.886934e-54   \nfreedom        2.530273  2.356895  -0.173378     6.401138  4.630488e-07   \nunderstanding  2.522322  2.343932  -0.178389     4.779711  2.731362e-03   \nfuture         2.517248  2.461483  -0.055765     3.214381  3.128588e-02   \nfavour         2.516552  2.210303  -0.306249    19.946104  7.905121e-42   \nposterity      2.514776  1.691041  -0.823735    37.672902  4.162996e-85   \nsense          2.509957  2.270648  -0.239309     9.725627  2.706835e-13   \ngoodness       2.509085  1.793305  -0.715780    30.865248  1.521859e-74   \ncensure        2.506619  2.509555   0.002935    -0.014599  4.718776e-01   \n\n               mean_diff_t_abs   len1   len2  trun   year1   year2  \\\nword                                                                 \nwisdom               30.135760  100.0  100.0  12.0  1730.0  1850.0   \nprejudice            21.250331  100.0  100.0  12.0  1730.0  1850.0   \nprudence              8.398579  100.0  100.0  12.0  1730.0  1850.0   \nequity               22.570801  100.0  100.0  12.0  1730.0  1850.0   \nmankind              16.720627  100.0  100.0  12.0  1730.0  1850.0   \nreligion              2.807781  100.0  100.0  12.0  1730.0  1850.0   \ntruth                16.041492  100.0  100.0  12.0  1730.0  1850.0   \njudgment              6.421208  100.0  100.0  12.0  1730.0  1850.0   \nauthority            25.492727  100.0  100.0  12.0  1730.0  1850.0   \nbelief                6.640615  100.0  100.0  12.0  1730.0  1850.0   \nhappiness            35.074901  100.0  100.0  12.0  1730.0  1850.0   \nobedience            13.361429  100.0  100.0  12.0  1730.0  1850.0   \nmoderation            1.049962  100.0  100.0  12.0  1730.0  1850.0   \nfaith                12.962610  100.0  100.0  12.0  1730.0  1850.0   \nsincerity             5.127092  100.0  100.0  12.0  1730.0  1850.0   \nministry             13.935769  100.0  100.0  12.0  1730.0  1850.0   \ndisregard            22.914245  100.0  100.0  12.0  1745.0  1850.0   \nfreedom               6.401138  100.0  100.0  12.0  1730.0  1850.0   \nunderstanding         4.779711  100.0  100.0  12.0  1730.0  1850.0   \nfuture                3.214381  100.0  100.0  12.0  1730.0  1850.0   \nfavour               19.946104  100.0  100.0  12.0  1730.0  1850.0   \nposterity            37.672902  100.0  100.0  12.0  1730.0  1850.0   \nsense                 9.725627  100.0  100.0  12.0  1730.0  1850.0   \ngoodness             30.865248  100.0  100.0  12.0  1730.0  1850.0   \ncensure               0.924818  100.0  100.0  12.0  1730.0  1850.0   \n\n               perc_mean_diff_t_abs  \nword                                 \nwisdom                    92.743463  \nprejudice                 82.834407  \nprudence                  44.012884  \nequity                    84.842743  \nmankind                   73.872679  \nreligion                  15.877226  \ntruth                     72.224327  \njudgment                  34.615385  \nauthority                 88.764684  \nbelief                    35.714286  \nhappiness                 95.395983  \nobedience                 64.266768  \nmoderation                 4.622963  \nfaith                     62.864721  \nsincerity                 28.363016  \nministry                  66.009852  \ndisregard                 85.467980  \nfreedom                   34.539598  \nunderstanding             26.411520  \nfuture                    18.188708  \nfavour                    80.996590  \nposterity                 96.438045  \nsense                     50.701023  \ngoodness                  93.368700  \ncensure                    2.917772  "
         },
         "metadata": {},
         "output_type": "display_data"
        }
       ]
      }
     },
     "ee4b715c7d0449a3899cc54828806a06": {
      "model_module": "@jupyter-widgets/controls",
      "model_module_version": "1.5.0",
      "model_name": "DropdownModel",
      "state": {
       "_options_labels": [
        "mean1",
        "mean2",
        "mean_diff",
        "mean_diff_t",
        "mean_diff_t_abs"
       ],
       "description": "sby",
       "index": 3,
       "layout": "IPY_MODEL_3062b30880f647618f1edf1108bf386a",
       "style": "IPY_MODEL_33e273889a2b44f39eedc26e45a3905f"
      }
     },
     "ee93311d3d6c4bd0bfc286a48a17f279": {
      "model_module": "@jupyter-widgets/controls",
      "model_module_version": "1.5.0",
      "model_name": "VBoxModel",
      "state": {
       "_dom_classes": [
        "widget-interact"
       ],
       "children": [
        "IPY_MODEL_8b8b23dd9dbf48bfb1d4ddbbdac10666",
        "IPY_MODEL_f5cf77f7b70b4e4ca87fa0be66ae2ca9",
        "IPY_MODEL_1cd0025c83434e2ba07068d62e9aa5d8"
       ],
       "layout": "IPY_MODEL_f6bfd8a679134fb18bc281592f338bdf"
      }
     },
     "efa23576d376479aaf087bba67e38e38": {
      "model_module": "@jupyter-widgets/base",
      "model_module_version": "1.2.0",
      "model_name": "LayoutModel",
      "state": {}
     },
     "f049b4528a0c4ed8bb00d62b83a5b2d0": {
      "model_module": "@jupyter-widgets/output",
      "model_module_version": "1.0.0",
      "model_name": "OutputModel",
      "state": {
       "layout": "IPY_MODEL_5ba1d3f7e4ad4e61800e10610d3291b0",
       "outputs": [
        {
         "data": {
          "text/markdown": "### Polit-Acad.HGI",
          "text/plain": "<IPython.core.display.Markdown object>"
         },
         "metadata": {},
         "output_type": "display_data"
        },
        {
         "data": {
          "text/markdown": "* **Top 100 words**: interest, learning, study, lecturer, demand, training, kingdom, value, majesty, advice, concert, modelling, beginner, vigour, zeal, wisdom, deficiency, tuition, lore, care, condition, trade, profit, cloth, fidelity, fame, ability, thinker, hospital, aim, foot, science, duty, aid, knowledge, sunday, execution, graduate, consideration, advantage, diligence, consent, provision, family, hall, manufacture, communication, preservation, experience, cheapness, accommodation, advance, industry, navy, earnestness, support, proficiency, authority, supply, possession, elocution, exercise, manual, patience, rate, advancement, department, person, contribution, march, point, information, syntax, report, encouragement, form, opportunity, future, fink, discoverer, article, highness, room, welfare, treatment, ordnance, process, learner, merit, collector, intelligence, depth, enjoyment, power, sequence, credit, application, number, resolution, nature",
          "text/plain": "<IPython.core.display.Markdown object>"
         },
         "metadata": {},
         "output_type": "display_data"
        },
        {
         "data": {
          "text/markdown": "* **Bottom 100 words**: carnage, coalition, disaffection, strife, legation, merriment, concession, bloodshed, retaliation, malignity, song, convulsion, spy, traitor, catastrophe, confederation, hurricane, attitude, menace, chorus, faction, brand, assemblage, intrigue, remnant, plight, deficit, transaction, glare, demon, seizure, robber, blackness, whirlwind, canning, conspiracy, insurrection, festivity, bondage, curse, prediction, gaiety, budget, stoppage, creed, frenzy, confiscation, epidemic, conflagration, doom, kinsman, invective, parody, bride, bravo, ferocity, bite, disaster, toast, patriotism, exultation, scenery, retribution, volcano, irritability, termination, throng, intoxication, spell, opponent, spleen, arbitration, verse, ruler, cloud, allusion, serf, barbarity, scoundrel, heroism, pox, assassination, indiscretion, dungeon, feud, republican, monster, fanatic, tongue, vegetation, intervention, gesture, salute, suicide, border, blaze, strait, enchantment, antagonist, invader",
          "text/plain": "<IPython.core.display.Markdown object>"
         },
         "metadata": {},
         "output_type": "display_data"
        },
        {
         "data": {
          "text/html": "<div>\n<style scoped>\n    .dataframe tbody tr th:only-of-type {\n        vertical-align: middle;\n    }\n\n    .dataframe tbody tr th {\n        vertical-align: top;\n    }\n\n    .dataframe thead th {\n        text-align: right;\n    }\n</style>\n<table border=\"1\" class=\"dataframe\">\n  <thead>\n    <tr style=\"text-align: right;\">\n      <th></th>\n      <th>mean1</th>\n      <th>mean2</th>\n      <th>mean_diff</th>\n      <th>mean_diff_t</th>\n      <th>mean_diff_p</th>\n      <th>mean_diff_t_abs</th>\n      <th>len1</th>\n      <th>len2</th>\n      <th>trun</th>\n      <th>year1</th>\n      <th>year2</th>\n      <th>perc_mean_diff_t_abs</th>\n    </tr>\n    <tr>\n      <th>word</th>\n      <th></th>\n      <th></th>\n      <th></th>\n      <th></th>\n      <th></th>\n      <th></th>\n      <th></th>\n      <th></th>\n      <th></th>\n      <th></th>\n      <th></th>\n      <th></th>\n    </tr>\n  </thead>\n  <tbody>\n    <tr>\n      <th>interest</th>\n      <td>3.004822</td>\n      <td>-0.729350</td>\n      <td>-3.734172</td>\n      <td>124.333500</td>\n      <td>8.960557e-182</td>\n      <td>124.333500</td>\n      <td>100.0</td>\n      <td>100.0</td>\n      <td>12.0</td>\n      <td>1730.0</td>\n      <td>1850.0</td>\n      <td>99.981053</td>\n    </tr>\n    <tr>\n      <th>learning</th>\n      <td>-2.022957</td>\n      <td>-3.605126</td>\n      <td>-1.582169</td>\n      <td>74.736947</td>\n      <td>5.953665e-143</td>\n      <td>74.736947</td>\n      <td>100.0</td>\n      <td>100.0</td>\n      <td>12.0</td>\n      <td>1730.0</td>\n      <td>1850.0</td>\n      <td>99.829481</td>\n    </tr>\n    <tr>\n      <th>study</th>\n      <td>-2.113799</td>\n      <td>-4.488924</td>\n      <td>-2.375124</td>\n      <td>72.098605</td>\n      <td>5.639914e-134</td>\n      <td>72.098605</td>\n      <td>100.0</td>\n      <td>100.0</td>\n      <td>12.0</td>\n      <td>1730.0</td>\n      <td>1850.0</td>\n      <td>99.791588</td>\n    </tr>\n    <tr>\n      <th>lecturer</th>\n      <td>-0.617503</td>\n      <td>-3.326313</td>\n      <td>-2.708811</td>\n      <td>71.456961</td>\n      <td>9.426658e-136</td>\n      <td>71.456961</td>\n      <td>100.0</td>\n      <td>100.0</td>\n      <td>12.0</td>\n      <td>1745.0</td>\n      <td>1850.0</td>\n      <td>99.772641</td>\n    </tr>\n    <tr>\n      <th>demand</th>\n      <td>3.084325</td>\n      <td>1.071278</td>\n      <td>-2.013046</td>\n      <td>70.542218</td>\n      <td>1.470740e-136</td>\n      <td>70.542218</td>\n      <td>100.0</td>\n      <td>100.0</td>\n      <td>12.0</td>\n      <td>1730.0</td>\n      <td>1850.0</td>\n      <td>99.753695</td>\n    </tr>\n    <tr>\n      <th>...</th>\n      <td>...</td>\n      <td>...</td>\n      <td>...</td>\n      <td>...</td>\n      <td>...</td>\n      <td>...</td>\n      <td>...</td>\n      <td>...</td>\n      <td>...</td>\n      <td>...</td>\n      <td>...</td>\n      <td>...</td>\n    </tr>\n    <tr>\n      <th>legation</th>\n      <td>-1.883471</td>\n      <td>1.284809</td>\n      <td>3.168280</td>\n      <td>-66.214924</td>\n      <td>2.232676e-131</td>\n      <td>66.214924</td>\n      <td>100.0</td>\n      <td>100.0</td>\n      <td>12.0</td>\n      <td>1745.0</td>\n      <td>1850.0</td>\n      <td>99.640015</td>\n    </tr>\n    <tr>\n      <th>strife</th>\n      <td>0.104905</td>\n      <td>2.323140</td>\n      <td>2.218235</td>\n      <td>-67.046199</td>\n      <td>8.295789e-133</td>\n      <td>67.046199</td>\n      <td>100.0</td>\n      <td>100.0</td>\n      <td>12.0</td>\n      <td>1735.0</td>\n      <td>1850.0</td>\n      <td>99.658962</td>\n    </tr>\n    <tr>\n      <th>disaffection</th>\n      <td>0.590327</td>\n      <td>3.440423</td>\n      <td>2.850097</td>\n      <td>-70.468398</td>\n      <td>7.828014e-134</td>\n      <td>70.468398</td>\n      <td>100.0</td>\n      <td>100.0</td>\n      <td>12.0</td>\n      <td>1745.0</td>\n      <td>1850.0</td>\n      <td>99.715801</td>\n    </tr>\n    <tr>\n      <th>coalition</th>\n      <td>1.533107</td>\n      <td>4.143596</td>\n      <td>2.610488</td>\n      <td>-78.846296</td>\n      <td>2.903739e-145</td>\n      <td>78.846296</td>\n      <td>100.0</td>\n      <td>100.0</td>\n      <td>12.0</td>\n      <td>1745.0</td>\n      <td>1850.0</td>\n      <td>99.867374</td>\n    </tr>\n    <tr>\n      <th>carnage</th>\n      <td>0.424455</td>\n      <td>3.081036</td>\n      <td>2.656580</td>\n      <td>-83.031225</td>\n      <td>3.436821e-145</td>\n      <td>83.031225</td>\n      <td>100.0</td>\n      <td>100.0</td>\n      <td>12.0</td>\n      <td>1750.0</td>\n      <td>1850.0</td>\n      <td>99.924214</td>\n    </tr>\n  </tbody>\n</table>\n<p>4824 rows × 12 columns</p>\n</div>",
          "text/plain": "                 mean1     mean2  mean_diff  mean_diff_t    mean_diff_p  \\\nword                                                                      \ninterest      3.004822 -0.729350  -3.734172   124.333500  8.960557e-182   \nlearning     -2.022957 -3.605126  -1.582169    74.736947  5.953665e-143   \nstudy        -2.113799 -4.488924  -2.375124    72.098605  5.639914e-134   \nlecturer     -0.617503 -3.326313  -2.708811    71.456961  9.426658e-136   \ndemand        3.084325  1.071278  -2.013046    70.542218  1.470740e-136   \n...                ...       ...        ...          ...            ...   \nlegation     -1.883471  1.284809   3.168280   -66.214924  2.232676e-131   \nstrife        0.104905  2.323140   2.218235   -67.046199  8.295789e-133   \ndisaffection  0.590327  3.440423   2.850097   -70.468398  7.828014e-134   \ncoalition     1.533107  4.143596   2.610488   -78.846296  2.903739e-145   \ncarnage       0.424455  3.081036   2.656580   -83.031225  3.436821e-145   \n\n              mean_diff_t_abs   len1   len2  trun   year1   year2  \\\nword                                                                \ninterest           124.333500  100.0  100.0  12.0  1730.0  1850.0   \nlearning            74.736947  100.0  100.0  12.0  1730.0  1850.0   \nstudy               72.098605  100.0  100.0  12.0  1730.0  1850.0   \nlecturer            71.456961  100.0  100.0  12.0  1745.0  1850.0   \ndemand              70.542218  100.0  100.0  12.0  1730.0  1850.0   \n...                       ...    ...    ...   ...     ...     ...   \nlegation            66.214924  100.0  100.0  12.0  1745.0  1850.0   \nstrife              67.046199  100.0  100.0  12.0  1735.0  1850.0   \ndisaffection        70.468398  100.0  100.0  12.0  1745.0  1850.0   \ncoalition           78.846296  100.0  100.0  12.0  1745.0  1850.0   \ncarnage             83.031225  100.0  100.0  12.0  1750.0  1850.0   \n\n              perc_mean_diff_t_abs  \nword                                \ninterest                 99.981053  \nlearning                 99.829481  \nstudy                    99.791588  \nlecturer                 99.772641  \ndemand                   99.753695  \n...                            ...  \nlegation                 99.640015  \nstrife                   99.658962  \ndisaffection             99.715801  \ncoalition                99.867374  \ncarnage                  99.924214  \n\n[4824 rows x 12 columns]"
         },
         "metadata": {},
         "output_type": "display_data"
        }
       ]
      }
     },
     "f2378ed7998c4f62a80522f4cbc80e68": {
      "model_module": "@jupyter-widgets/base",
      "model_module_version": "1.2.0",
      "model_name": "LayoutModel",
      "state": {}
     },
     "f510c9d649484d9b91f164a66cf3c0b4": {
      "model_module": "@jupyter-widgets/base",
      "model_module_version": "1.2.0",
      "model_name": "LayoutModel",
      "state": {}
     },
     "f5cf77f7b70b4e4ca87fa0be66ae2ca9": {
      "model_module": "@jupyter-widgets/controls",
      "model_module_version": "1.5.0",
      "model_name": "DropdownModel",
      "state": {
       "_options_labels": [
        "mean1",
        "mean2",
        "mean_diff"
       ],
       "description": "sby",
       "index": 1,
       "layout": "IPY_MODEL_36c3dc2645f240b9906f45e39ea2b1eb",
       "style": "IPY_MODEL_9bd19b862ea8428d9e35b8bf79c5fb4d"
      }
     },
     "f6bfd8a679134fb18bc281592f338bdf": {
      "model_module": "@jupyter-widgets/base",
      "model_module_version": "1.2.0",
      "model_name": "LayoutModel",
      "state": {}
     },
     "f78cc1acc5cf4c96b1327558316fdf16": {
      "model_module": "@jupyter-widgets/base",
      "model_module_version": "1.2.0",
      "model_name": "LayoutModel",
      "state": {}
     },
     "f7e047c258c8477c85f7b41bfd3920dd": {
      "model_module": "@jupyter-widgets/base",
      "model_module_version": "1.2.0",
      "model_name": "LayoutModel",
      "state": {}
     },
     "f9522daf6c5d4aa09e4152e898586c5a": {
      "model_module": "@jupyter-widgets/base",
      "model_module_version": "1.2.0",
      "model_name": "LayoutModel",
      "state": {}
     }
    },
    "version_major": 2,
    "version_minor": 0
   }
  }
 },
 "nbformat": 4,
 "nbformat_minor": 4
}
