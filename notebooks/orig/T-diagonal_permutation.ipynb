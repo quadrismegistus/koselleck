{
 "cells": [
  {
   "cell_type": "markdown",
   "metadata": {},
   "source": [
    "# Diagonal permutation\n",
    "\n",
    "Our goal in this notebook is \n",
    "\n",
    "1. to create a distance matrix that reflects the distances between particular quarters of the Billboard Hot 100, 1960-2010, and measure Foote novelty on that matrix\n",
    "\n",
    "2. to create a null model that will allow us to assess the significance of those Foote novelty measurements.\n",
    "\n",
    "The underlying dataset is borrowed from Mauch et al., \"The Evolution of Popular Music,\" but the methods we develop here can, we hope, be adapted to other domains.\n",
    "\n",
    "This notebook was written up by Ted Underwood, in response to an insight about the appropriate null model suggested by Yuancheng Zhu.\n",
    "\n",
    "We begin by reading in the data, which consists of principal components of a topic model that identifies \"harmonic and timbral topics\" in the music. The appropriateness of that dimension-reduction is not our central concern here; we're interested in what happens _after_ you've got points on a timeline characterized in some kind of dimension space."
   ]
  },
  {
   "cell_type": "code",
   "execution_count": 1,
   "metadata": {},
   "outputs": [],
   "source": [
    "from koselleck import *"
   ]
  },
  {
   "cell_type": "code",
   "execution_count": 2,
   "metadata": {
    "collapsed": false,
    "jupyter": {
     "outputs_hidden": false
    }
   },
   "outputs": [],
   "source": [
    "%matplotlib inline\n",
    "import matplotlib.pyplot as plt\n",
    "from matplotlib.collections import LineCollection\n",
    "import csv, random\n",
    "import numpy as np\n",
    "from scipy import spatial\n",
    "extent=[1700,1900, 1700,1900]\n",
    "\n",
    "pcafields = ['PC' + str(x) for x in range(1,15)]\n",
    "# Here we just create a list of strings that will\n",
    "# correspond to field names in the data provided\n",
    "# by Mauch et al.\n",
    "\n",
    "# pca = list()\n",
    "# with open('nb/quarterlypca.csv', encoding = 'utf-8') as f:\n",
    "#     reader = csv.DictReader(f)\n",
    "#     for row in reader:\n",
    "#         newpcarow = []\n",
    "#         for field in pcafields:\n",
    "#             newpcarow.append(float(row[field]))\n",
    "#         pca.append(newpcarow)\n",
    "\n",
    "# pca = np.array(pca)\n",
    "# print(pca.shape)"
   ]
  },
  {
   "cell_type": "code",
   "execution_count": null,
   "metadata": {},
   "outputs": [],
   "source": []
  },
  {
   "cell_type": "markdown",
   "metadata": {},
   "source": [
    "Now we have an array of 200 observations, each of which is characterized by 14 variables. Let's define a function to create a distance matrix by comparing each observation against all the others."
   ]
  },
  {
   "cell_type": "code",
   "execution_count": null,
   "metadata": {},
   "outputs": [],
   "source": [
    "df=pd.read_pickle('data/data.semantic_change_over_decades.1run.v3.pkl')\n",
    "df"
   ]
  },
  {
   "cell_type": "code",
   "execution_count": null,
   "metadata": {},
   "outputs": [],
   "source": []
  },
  {
   "cell_type": "code",
   "execution_count": 3,
   "metadata": {
    "collapsed": false,
    "jupyter": {
     "outputs_hidden": false
    }
   },
   "outputs": [],
   "source": [
    "# def distance_matrix(pca):\n",
    "#     observations, dimensions = pca.shape\n",
    "#     distmat = np.zeros((observations, observations))\n",
    "#     for i in range(observations):\n",
    "#         for j in range(observations):\n",
    "#             dist = spatial.distance.cosine(pca[i], pca[j])\n",
    "#             distmat[i, j] = dist\n",
    "#     return distmat\n",
    "\n",
    "# d = distance_matrix(pca)    "
   ]
  },
  {
   "cell_type": "code",
   "execution_count": 4,
   "metadata": {},
   "outputs": [
    {
     "name": "stderr",
     "output_type": "stream",
     "text": [
      "Internal Python error in the inspect module.\n",
      "Below is the traceback from this internal error.\n",
      "\n",
      "\n",
      "Unfortunately, your original traceback can not be constructed.\n",
      "\n"
     ]
    },
    {
     "name": "stdout",
     "output_type": "stream",
     "text": [
      "Traceback (most recent call last):\n",
      "  File \"/home/ryan/miniconda3/lib/python3.7/site-packages/IPython/core/interactiveshell.py\", line 3417, in run_code\n",
      "    exec(code_obj, self.user_global_ns, self.user_ns)\n",
      "  File \"<ipython-input-4-3f40ae87b0ba>\", line 1, in <module>\n",
      "    d = get_distmatrix_rateofchange()\n",
      "  File \"/home/ryan/github/koselleck/koselleck/tools.py\", line 334, in get_distmatrix_rateofchange\n",
      "    figdf=get_figdf1_rateofchange(**y)\n",
      "  File \"/home/ryan/github/koselleck/koselleck/tools.py\", line 318, in get_figdf1_rateofchange\n",
      "    if df is None: df=get_rate_of_change_data()\n",
      "  File \"/home/ryan/github/koselleck/koselleck/tools.py\", line 313, in get_rate_of_change_data\n",
      "    df['period_int1']=[int(y[:4]) for y in df.period1]\n",
      "  File \"/home/ryan/miniconda3/lib/python3.7/site-packages/pandas/core/frame.py\", line 3040, in __setitem__\n",
      "    self._set_item(key, value)\n",
      "  File \"/home/ryan/miniconda3/lib/python3.7/site-packages/pandas/core/frame.py\", line 3116, in _set_item\n",
      "    value = self._sanitize_column(key, value)\n",
      "  File \"/home/ryan/miniconda3/lib/python3.7/site-packages/pandas/core/frame.py\", line 3767, in _sanitize_column\n",
      "    value = maybe_convert_platform(value)\n",
      "  File \"/home/ryan/miniconda3/lib/python3.7/site-packages/pandas/core/dtypes/cast.py\", line 95, in maybe_convert_platform\n",
      "    values = lib.maybe_convert_objects(values)\n",
      "KeyboardInterrupt\n",
      "\n",
      "During handling of the above exception, another exception occurred:\n",
      "\n",
      "Traceback (most recent call last):\n",
      "  File \"/home/ryan/miniconda3/lib/python3.7/site-packages/IPython/core/interactiveshell.py\", line 2044, in showtraceback\n",
      "    stb = value._render_traceback_()\n",
      "AttributeError: 'KeyboardInterrupt' object has no attribute '_render_traceback_'\n",
      "\n",
      "During handling of the above exception, another exception occurred:\n",
      "\n",
      "Traceback (most recent call last):\n",
      "  File \"/home/ryan/miniconda3/lib/python3.7/site-packages/IPython/core/ultratb.py\", line 1169, in get_records\n",
      "    return _fixed_getinnerframes(etb, number_of_lines_of_context, tb_offset)\n",
      "  File \"/home/ryan/miniconda3/lib/python3.7/site-packages/IPython/core/ultratb.py\", line 316, in wrapped\n",
      "    return f(*args, **kwargs)\n",
      "  File \"/home/ryan/miniconda3/lib/python3.7/site-packages/IPython/core/ultratb.py\", line 350, in _fixed_getinnerframes\n",
      "    records = fix_frame_records_filenames(inspect.getinnerframes(etb, context))\n",
      "  File \"/home/ryan/miniconda3/lib/python3.7/inspect.py\", line 1502, in getinnerframes\n",
      "    frameinfo = (tb.tb_frame,) + getframeinfo(tb, context)\n",
      "  File \"/home/ryan/miniconda3/lib/python3.7/inspect.py\", line 1460, in getframeinfo\n",
      "    filename = getsourcefile(frame) or getfile(frame)\n",
      "  File \"/home/ryan/miniconda3/lib/python3.7/inspect.py\", line 696, in getsourcefile\n",
      "    if getattr(getmodule(object, filename), '__loader__', None) is not None:\n",
      "  File \"/home/ryan/miniconda3/lib/python3.7/inspect.py\", line 739, in getmodule\n",
      "    f = getabsfile(module)\n",
      "  File \"/home/ryan/miniconda3/lib/python3.7/inspect.py\", line 708, in getabsfile\n",
      "    _filename = getsourcefile(object) or getfile(object)\n",
      "  File \"/home/ryan/miniconda3/lib/python3.7/inspect.py\", line 687, in getsourcefile\n",
      "    if any(filename.endswith(s) for s in all_bytecode_suffixes):\n",
      "  File \"/home/ryan/miniconda3/lib/python3.7/inspect.py\", line 687, in <genexpr>\n",
      "    if any(filename.endswith(s) for s in all_bytecode_suffixes):\n",
      "KeyboardInterrupt\n"
     ]
    },
    {
     "ename": "TypeError",
     "evalue": "object of type 'NoneType' has no len()",
     "output_type": "error",
     "traceback": [
      "\u001b[0;31m---------------------------------------------------------------------------\u001b[0m",
      "\u001b[0;31mKeyboardInterrupt\u001b[0m                         Traceback (most recent call last)",
      "    \u001b[0;31m[... skipping hidden 1 frame]\u001b[0m\n",
      "\u001b[0;32m<ipython-input-4-3f40ae87b0ba>\u001b[0m in \u001b[0;36m<module>\u001b[0;34m\u001b[0m\n\u001b[0;32m----> 1\u001b[0;31m \u001b[0md\u001b[0m \u001b[0;34m=\u001b[0m \u001b[0mget_distmatrix_rateofchange\u001b[0m\u001b[0;34m(\u001b[0m\u001b[0;34m)\u001b[0m\u001b[0;34m\u001b[0m\u001b[0;34m\u001b[0m\u001b[0m\n\u001b[0m\u001b[1;32m      2\u001b[0m \u001b[0md\u001b[0m\u001b[0;34m\u001b[0m\u001b[0;34m\u001b[0m\u001b[0m\n",
      "\u001b[0;32m~/github/koselleck/koselleck/tools.py\u001b[0m in \u001b[0;36mget_distmatrix_rateofchange\u001b[0;34m(**y)\u001b[0m\n\u001b[1;32m    333\u001b[0m \u001b[0;32mdef\u001b[0m \u001b[0mget_distmatrix_rateofchange\u001b[0m\u001b[0;34m(\u001b[0m\u001b[0;34m**\u001b[0m\u001b[0my\u001b[0m\u001b[0;34m)\u001b[0m\u001b[0;34m:\u001b[0m\u001b[0;34m\u001b[0m\u001b[0;34m\u001b[0m\u001b[0m\n\u001b[0;32m--> 334\u001b[0;31m     \u001b[0mfigdf\u001b[0m\u001b[0;34m=\u001b[0m\u001b[0mget_figdf1_rateofchange\u001b[0m\u001b[0;34m(\u001b[0m\u001b[0;34m**\u001b[0m\u001b[0my\u001b[0m\u001b[0;34m)\u001b[0m\u001b[0;34m\u001b[0m\u001b[0;34m\u001b[0m\u001b[0m\n\u001b[0m\u001b[1;32m    335\u001b[0m     \u001b[0modf\u001b[0m\u001b[0;34m=\u001b[0m\u001b[0mfigdf\u001b[0m\u001b[0;34m.\u001b[0m\u001b[0mgroupby\u001b[0m\u001b[0;34m(\u001b[0m\u001b[0;34m[\u001b[0m\u001b[0;34m'period_int1'\u001b[0m\u001b[0;34m,\u001b[0m\u001b[0;34m'period_int2'\u001b[0m\u001b[0;34m]\u001b[0m\u001b[0;34m)\u001b[0m\u001b[0;34m.\u001b[0m\u001b[0mmean\u001b[0m\u001b[0;34m(\u001b[0m\u001b[0;34m)\u001b[0m\u001b[0;34m.\u001b[0m\u001b[0mreset_index\u001b[0m\u001b[0;34m(\u001b[0m\u001b[0;34m)\u001b[0m\u001b[0;34m\u001b[0m\u001b[0;34m\u001b[0m\u001b[0m\n",
      "\u001b[0;32m~/github/koselleck/koselleck/tools.py\u001b[0m in \u001b[0;36mget_figdf1_rateofchange\u001b[0;34m(df, randomize)\u001b[0m\n\u001b[1;32m    317\u001b[0m \u001b[0;32mdef\u001b[0m \u001b[0mget_figdf1_rateofchange\u001b[0m\u001b[0;34m(\u001b[0m\u001b[0mdf\u001b[0m\u001b[0;34m=\u001b[0m\u001b[0;32mNone\u001b[0m\u001b[0;34m,\u001b[0m\u001b[0mrandomize\u001b[0m\u001b[0;34m=\u001b[0m\u001b[0;32mFalse\u001b[0m\u001b[0;34m)\u001b[0m\u001b[0;34m:\u001b[0m\u001b[0;34m\u001b[0m\u001b[0;34m\u001b[0m\u001b[0m\n\u001b[0;32m--> 318\u001b[0;31m     \u001b[0;32mif\u001b[0m \u001b[0mdf\u001b[0m \u001b[0;32mis\u001b[0m \u001b[0;32mNone\u001b[0m\u001b[0;34m:\u001b[0m \u001b[0mdf\u001b[0m\u001b[0;34m=\u001b[0m\u001b[0mget_rate_of_change_data\u001b[0m\u001b[0;34m(\u001b[0m\u001b[0;34m)\u001b[0m\u001b[0;34m\u001b[0m\u001b[0;34m\u001b[0m\u001b[0m\n\u001b[0m\u001b[1;32m    319\u001b[0m     \u001b[0mpdf\u001b[0m\u001b[0;34m=\u001b[0m\u001b[0mdf\u001b[0m\u001b[0;34m.\u001b[0m\u001b[0mgroupby\u001b[0m\u001b[0;34m(\u001b[0m\u001b[0;34m[\u001b[0m\u001b[0;34m'period'\u001b[0m\u001b[0;34m,\u001b[0m\u001b[0;34m'period1'\u001b[0m\u001b[0;34m,\u001b[0m\u001b[0;34m'period2'\u001b[0m\u001b[0;34m]\u001b[0m\u001b[0;34m)\u001b[0m\u001b[0;34m.\u001b[0m\u001b[0mmean\u001b[0m\u001b[0;34m(\u001b[0m\u001b[0;34m)\u001b[0m\u001b[0;34m.\u001b[0m\u001b[0mreset_index\u001b[0m\u001b[0;34m(\u001b[0m\u001b[0;34m)\u001b[0m\u001b[0;34m\u001b[0m\u001b[0;34m\u001b[0m\u001b[0m\n",
      "\u001b[0;32m~/github/koselleck/koselleck/tools.py\u001b[0m in \u001b[0;36mget_rate_of_change_data\u001b[0;34m(key)\u001b[0m\n\u001b[1;32m    312\u001b[0m     \u001b[0mdf\u001b[0m\u001b[0;34m[\u001b[0m\u001b[0;34m'period'\u001b[0m\u001b[0;34m]\u001b[0m\u001b[0;34m=\u001b[0m\u001b[0;34m[\u001b[0m\u001b[0;34mf'{x[:4]}s->{y[:4]}s'\u001b[0m \u001b[0;32mfor\u001b[0m \u001b[0mx\u001b[0m\u001b[0;34m,\u001b[0m\u001b[0my\u001b[0m \u001b[0;32min\u001b[0m \u001b[0mzip\u001b[0m\u001b[0;34m(\u001b[0m\u001b[0mdf\u001b[0m\u001b[0;34m.\u001b[0m\u001b[0mperiod1\u001b[0m\u001b[0;34m,\u001b[0m\u001b[0mdf\u001b[0m\u001b[0;34m.\u001b[0m\u001b[0mperiod2\u001b[0m\u001b[0;34m)\u001b[0m\u001b[0;34m]\u001b[0m\u001b[0;34m\u001b[0m\u001b[0;34m\u001b[0m\u001b[0m\n\u001b[0;32m--> 313\u001b[0;31m     \u001b[0mdf\u001b[0m\u001b[0;34m[\u001b[0m\u001b[0;34m'period_int1'\u001b[0m\u001b[0;34m]\u001b[0m\u001b[0;34m=\u001b[0m\u001b[0;34m[\u001b[0m\u001b[0mint\u001b[0m\u001b[0;34m(\u001b[0m\u001b[0my\u001b[0m\u001b[0;34m[\u001b[0m\u001b[0;34m:\u001b[0m\u001b[0;36m4\u001b[0m\u001b[0;34m]\u001b[0m\u001b[0;34m)\u001b[0m \u001b[0;32mfor\u001b[0m \u001b[0my\u001b[0m \u001b[0;32min\u001b[0m \u001b[0mdf\u001b[0m\u001b[0;34m.\u001b[0m\u001b[0mperiod1\u001b[0m\u001b[0;34m]\u001b[0m\u001b[0;34m\u001b[0m\u001b[0;34m\u001b[0m\u001b[0m\n\u001b[0m\u001b[1;32m    314\u001b[0m     \u001b[0mdf\u001b[0m\u001b[0;34m[\u001b[0m\u001b[0;34m'period_int2'\u001b[0m\u001b[0;34m]\u001b[0m\u001b[0;34m=\u001b[0m\u001b[0;34m[\u001b[0m\u001b[0mint\u001b[0m\u001b[0;34m(\u001b[0m\u001b[0my\u001b[0m\u001b[0;34m[\u001b[0m\u001b[0;34m:\u001b[0m\u001b[0;36m4\u001b[0m\u001b[0;34m]\u001b[0m\u001b[0;34m)\u001b[0m \u001b[0;32mfor\u001b[0m \u001b[0my\u001b[0m \u001b[0;32min\u001b[0m \u001b[0mdf\u001b[0m\u001b[0;34m.\u001b[0m\u001b[0mperiod2\u001b[0m\u001b[0;34m]\u001b[0m\u001b[0;34m\u001b[0m\u001b[0;34m\u001b[0m\u001b[0m\n",
      "\u001b[0;32m~/miniconda3/lib/python3.7/site-packages/pandas/core/frame.py\u001b[0m in \u001b[0;36m__setitem__\u001b[0;34m(self, key, value)\u001b[0m\n\u001b[1;32m   3039\u001b[0m             \u001b[0;31m# set column\u001b[0m\u001b[0;34m\u001b[0m\u001b[0;34m\u001b[0m\u001b[0;34m\u001b[0m\u001b[0m\n\u001b[0;32m-> 3040\u001b[0;31m             \u001b[0mself\u001b[0m\u001b[0;34m.\u001b[0m\u001b[0m_set_item\u001b[0m\u001b[0;34m(\u001b[0m\u001b[0mkey\u001b[0m\u001b[0;34m,\u001b[0m \u001b[0mvalue\u001b[0m\u001b[0;34m)\u001b[0m\u001b[0;34m\u001b[0m\u001b[0;34m\u001b[0m\u001b[0m\n\u001b[0m\u001b[1;32m   3041\u001b[0m \u001b[0;34m\u001b[0m\u001b[0m\n",
      "\u001b[0;32m~/miniconda3/lib/python3.7/site-packages/pandas/core/frame.py\u001b[0m in \u001b[0;36m_set_item\u001b[0;34m(self, key, value)\u001b[0m\n\u001b[1;32m   3115\u001b[0m         \u001b[0mself\u001b[0m\u001b[0;34m.\u001b[0m\u001b[0m_ensure_valid_index\u001b[0m\u001b[0;34m(\u001b[0m\u001b[0mvalue\u001b[0m\u001b[0;34m)\u001b[0m\u001b[0;34m\u001b[0m\u001b[0;34m\u001b[0m\u001b[0m\n\u001b[0;32m-> 3116\u001b[0;31m         \u001b[0mvalue\u001b[0m \u001b[0;34m=\u001b[0m \u001b[0mself\u001b[0m\u001b[0;34m.\u001b[0m\u001b[0m_sanitize_column\u001b[0m\u001b[0;34m(\u001b[0m\u001b[0mkey\u001b[0m\u001b[0;34m,\u001b[0m \u001b[0mvalue\u001b[0m\u001b[0;34m)\u001b[0m\u001b[0;34m\u001b[0m\u001b[0;34m\u001b[0m\u001b[0m\n\u001b[0m\u001b[1;32m   3117\u001b[0m         \u001b[0mNDFrame\u001b[0m\u001b[0;34m.\u001b[0m\u001b[0m_set_item\u001b[0m\u001b[0;34m(\u001b[0m\u001b[0mself\u001b[0m\u001b[0;34m,\u001b[0m \u001b[0mkey\u001b[0m\u001b[0;34m,\u001b[0m \u001b[0mvalue\u001b[0m\u001b[0;34m)\u001b[0m\u001b[0;34m\u001b[0m\u001b[0;34m\u001b[0m\u001b[0m\n",
      "\u001b[0;32m~/miniconda3/lib/python3.7/site-packages/pandas/core/frame.py\u001b[0m in \u001b[0;36m_sanitize_column\u001b[0;34m(self, key, value, broadcast)\u001b[0m\n\u001b[1;32m   3766\u001b[0m                 \u001b[0;32mif\u001b[0m \u001b[0misinstance\u001b[0m\u001b[0;34m(\u001b[0m\u001b[0mvalue\u001b[0m\u001b[0;34m,\u001b[0m \u001b[0mlist\u001b[0m\u001b[0;34m)\u001b[0m \u001b[0;32mand\u001b[0m \u001b[0mlen\u001b[0m\u001b[0;34m(\u001b[0m\u001b[0mvalue\u001b[0m\u001b[0;34m)\u001b[0m \u001b[0;34m>\u001b[0m \u001b[0;36m0\u001b[0m\u001b[0;34m:\u001b[0m\u001b[0;34m\u001b[0m\u001b[0;34m\u001b[0m\u001b[0m\n\u001b[0;32m-> 3767\u001b[0;31m                     \u001b[0mvalue\u001b[0m \u001b[0;34m=\u001b[0m \u001b[0mmaybe_convert_platform\u001b[0m\u001b[0;34m(\u001b[0m\u001b[0mvalue\u001b[0m\u001b[0;34m)\u001b[0m\u001b[0;34m\u001b[0m\u001b[0;34m\u001b[0m\u001b[0m\n\u001b[0m\u001b[1;32m   3768\u001b[0m                 \u001b[0;32melse\u001b[0m\u001b[0;34m:\u001b[0m\u001b[0;34m\u001b[0m\u001b[0;34m\u001b[0m\u001b[0m\n",
      "\u001b[0;32m~/miniconda3/lib/python3.7/site-packages/pandas/core/dtypes/cast.py\u001b[0m in \u001b[0;36mmaybe_convert_platform\u001b[0;34m(values)\u001b[0m\n\u001b[1;32m     94\u001b[0m             \u001b[0mvalues\u001b[0m \u001b[0;34m=\u001b[0m \u001b[0mvalues\u001b[0m\u001b[0;34m.\u001b[0m\u001b[0m_values\u001b[0m\u001b[0;34m\u001b[0m\u001b[0;34m\u001b[0m\u001b[0m\n\u001b[0;32m---> 95\u001b[0;31m         \u001b[0mvalues\u001b[0m \u001b[0;34m=\u001b[0m \u001b[0mlib\u001b[0m\u001b[0;34m.\u001b[0m\u001b[0mmaybe_convert_objects\u001b[0m\u001b[0;34m(\u001b[0m\u001b[0mvalues\u001b[0m\u001b[0;34m)\u001b[0m\u001b[0;34m\u001b[0m\u001b[0;34m\u001b[0m\u001b[0m\n\u001b[0m\u001b[1;32m     96\u001b[0m \u001b[0;34m\u001b[0m\u001b[0m\n",
      "\u001b[0;31mKeyboardInterrupt\u001b[0m: ",
      "\nDuring handling of the above exception, another exception occurred:\n",
      "\u001b[0;31mAttributeError\u001b[0m                            Traceback (most recent call last)",
      "\u001b[0;32m~/miniconda3/lib/python3.7/site-packages/IPython/core/interactiveshell.py\u001b[0m in \u001b[0;36mshowtraceback\u001b[0;34m(self, exc_tuple, filename, tb_offset, exception_only, running_compiled_code)\u001b[0m\n\u001b[1;32m   2043\u001b[0m                         \u001b[0;31m# in the engines. This should return a list of strings.\u001b[0m\u001b[0;34m\u001b[0m\u001b[0;34m\u001b[0m\u001b[0;34m\u001b[0m\u001b[0m\n\u001b[0;32m-> 2044\u001b[0;31m                         \u001b[0mstb\u001b[0m \u001b[0;34m=\u001b[0m \u001b[0mvalue\u001b[0m\u001b[0;34m.\u001b[0m\u001b[0m_render_traceback_\u001b[0m\u001b[0;34m(\u001b[0m\u001b[0;34m)\u001b[0m\u001b[0;34m\u001b[0m\u001b[0;34m\u001b[0m\u001b[0m\n\u001b[0m\u001b[1;32m   2045\u001b[0m                     \u001b[0;32mexcept\u001b[0m \u001b[0mException\u001b[0m\u001b[0;34m:\u001b[0m\u001b[0;34m\u001b[0m\u001b[0;34m\u001b[0m\u001b[0m\n",
      "\u001b[0;31mAttributeError\u001b[0m: 'KeyboardInterrupt' object has no attribute '_render_traceback_'",
      "\nDuring handling of the above exception, another exception occurred:\n",
      "\u001b[0;31mTypeError\u001b[0m                                 Traceback (most recent call last)",
      "    \u001b[0;31m[... skipping hidden 1 frame]\u001b[0m\n",
      "\u001b[0;32m~/miniconda3/lib/python3.7/site-packages/IPython/core/interactiveshell.py\u001b[0m in \u001b[0;36mshowtraceback\u001b[0;34m(self, exc_tuple, filename, tb_offset, exception_only, running_compiled_code)\u001b[0m\n\u001b[1;32m   2045\u001b[0m                     \u001b[0;32mexcept\u001b[0m \u001b[0mException\u001b[0m\u001b[0;34m:\u001b[0m\u001b[0;34m\u001b[0m\u001b[0;34m\u001b[0m\u001b[0m\n\u001b[1;32m   2046\u001b[0m                         stb = self.InteractiveTB.structured_traceback(etype,\n\u001b[0;32m-> 2047\u001b[0;31m                                             value, tb, tb_offset=tb_offset)\n\u001b[0m\u001b[1;32m   2048\u001b[0m \u001b[0;34m\u001b[0m\u001b[0m\n\u001b[1;32m   2049\u001b[0m                     \u001b[0mself\u001b[0m\u001b[0;34m.\u001b[0m\u001b[0m_showtraceback\u001b[0m\u001b[0;34m(\u001b[0m\u001b[0metype\u001b[0m\u001b[0;34m,\u001b[0m \u001b[0mvalue\u001b[0m\u001b[0;34m,\u001b[0m \u001b[0mstb\u001b[0m\u001b[0;34m)\u001b[0m\u001b[0;34m\u001b[0m\u001b[0;34m\u001b[0m\u001b[0m\n",
      "\u001b[0;32m~/miniconda3/lib/python3.7/site-packages/IPython/core/ultratb.py\u001b[0m in \u001b[0;36mstructured_traceback\u001b[0;34m(self, etype, value, tb, tb_offset, number_of_lines_of_context)\u001b[0m\n\u001b[1;32m   1434\u001b[0m             \u001b[0mself\u001b[0m\u001b[0;34m.\u001b[0m\u001b[0mtb\u001b[0m \u001b[0;34m=\u001b[0m \u001b[0mtb\u001b[0m\u001b[0;34m\u001b[0m\u001b[0;34m\u001b[0m\u001b[0m\n\u001b[1;32m   1435\u001b[0m         return FormattedTB.structured_traceback(\n\u001b[0;32m-> 1436\u001b[0;31m             self, etype, value, tb, tb_offset, number_of_lines_of_context)\n\u001b[0m\u001b[1;32m   1437\u001b[0m \u001b[0;34m\u001b[0m\u001b[0m\n\u001b[1;32m   1438\u001b[0m \u001b[0;34m\u001b[0m\u001b[0m\n",
      "\u001b[0;32m~/miniconda3/lib/python3.7/site-packages/IPython/core/ultratb.py\u001b[0m in \u001b[0;36mstructured_traceback\u001b[0;34m(self, etype, value, tb, tb_offset, number_of_lines_of_context)\u001b[0m\n\u001b[1;32m   1334\u001b[0m             \u001b[0;31m# Verbose modes need a full traceback\u001b[0m\u001b[0;34m\u001b[0m\u001b[0;34m\u001b[0m\u001b[0;34m\u001b[0m\u001b[0m\n\u001b[1;32m   1335\u001b[0m             return VerboseTB.structured_traceback(\n\u001b[0;32m-> 1336\u001b[0;31m                 \u001b[0mself\u001b[0m\u001b[0;34m,\u001b[0m \u001b[0metype\u001b[0m\u001b[0;34m,\u001b[0m \u001b[0mvalue\u001b[0m\u001b[0;34m,\u001b[0m \u001b[0mtb\u001b[0m\u001b[0;34m,\u001b[0m \u001b[0mtb_offset\u001b[0m\u001b[0;34m,\u001b[0m \u001b[0mnumber_of_lines_of_context\u001b[0m\u001b[0;34m\u001b[0m\u001b[0;34m\u001b[0m\u001b[0m\n\u001b[0m\u001b[1;32m   1337\u001b[0m             )\n\u001b[1;32m   1338\u001b[0m         \u001b[0;32melif\u001b[0m \u001b[0mmode\u001b[0m \u001b[0;34m==\u001b[0m \u001b[0;34m'Minimal'\u001b[0m\u001b[0;34m:\u001b[0m\u001b[0;34m\u001b[0m\u001b[0;34m\u001b[0m\u001b[0m\n",
      "\u001b[0;32m~/miniconda3/lib/python3.7/site-packages/IPython/core/ultratb.py\u001b[0m in \u001b[0;36mstructured_traceback\u001b[0;34m(self, etype, evalue, etb, tb_offset, number_of_lines_of_context)\u001b[0m\n\u001b[1;32m   1191\u001b[0m \u001b[0;34m\u001b[0m\u001b[0m\n\u001b[1;32m   1192\u001b[0m         formatted_exception = self.format_exception_as_a_whole(etype, evalue, etb, number_of_lines_of_context,\n\u001b[0;32m-> 1193\u001b[0;31m                                                                tb_offset)\n\u001b[0m\u001b[1;32m   1194\u001b[0m \u001b[0;34m\u001b[0m\u001b[0m\n\u001b[1;32m   1195\u001b[0m         \u001b[0mcolors\u001b[0m \u001b[0;34m=\u001b[0m \u001b[0mself\u001b[0m\u001b[0;34m.\u001b[0m\u001b[0mColors\u001b[0m  \u001b[0;31m# just a shorthand + quicker name lookup\u001b[0m\u001b[0;34m\u001b[0m\u001b[0;34m\u001b[0m\u001b[0m\n",
      "\u001b[0;32m~/miniconda3/lib/python3.7/site-packages/IPython/core/ultratb.py\u001b[0m in \u001b[0;36mformat_exception_as_a_whole\u001b[0;34m(self, etype, evalue, etb, number_of_lines_of_context, tb_offset)\u001b[0m\n\u001b[1;32m   1148\u001b[0m \u001b[0;34m\u001b[0m\u001b[0m\n\u001b[1;32m   1149\u001b[0m \u001b[0;34m\u001b[0m\u001b[0m\n\u001b[0;32m-> 1150\u001b[0;31m         \u001b[0mlast_unique\u001b[0m\u001b[0;34m,\u001b[0m \u001b[0mrecursion_repeat\u001b[0m \u001b[0;34m=\u001b[0m \u001b[0mfind_recursion\u001b[0m\u001b[0;34m(\u001b[0m\u001b[0morig_etype\u001b[0m\u001b[0;34m,\u001b[0m \u001b[0mevalue\u001b[0m\u001b[0;34m,\u001b[0m \u001b[0mrecords\u001b[0m\u001b[0;34m)\u001b[0m\u001b[0;34m\u001b[0m\u001b[0;34m\u001b[0m\u001b[0m\n\u001b[0m\u001b[1;32m   1151\u001b[0m \u001b[0;34m\u001b[0m\u001b[0m\n\u001b[1;32m   1152\u001b[0m         \u001b[0mframes\u001b[0m \u001b[0;34m=\u001b[0m \u001b[0mself\u001b[0m\u001b[0;34m.\u001b[0m\u001b[0mformat_records\u001b[0m\u001b[0;34m(\u001b[0m\u001b[0mrecords\u001b[0m\u001b[0;34m,\u001b[0m \u001b[0mlast_unique\u001b[0m\u001b[0;34m,\u001b[0m \u001b[0mrecursion_repeat\u001b[0m\u001b[0;34m)\u001b[0m\u001b[0;34m\u001b[0m\u001b[0;34m\u001b[0m\u001b[0m\n",
      "\u001b[0;32m~/miniconda3/lib/python3.7/site-packages/IPython/core/ultratb.py\u001b[0m in \u001b[0;36mfind_recursion\u001b[0;34m(etype, value, records)\u001b[0m\n\u001b[1;32m    449\u001b[0m     \u001b[0;31m# first frame (from in to out) that looks different.\u001b[0m\u001b[0;34m\u001b[0m\u001b[0;34m\u001b[0m\u001b[0;34m\u001b[0m\u001b[0m\n\u001b[1;32m    450\u001b[0m     \u001b[0;32mif\u001b[0m \u001b[0;32mnot\u001b[0m \u001b[0mis_recursion_error\u001b[0m\u001b[0;34m(\u001b[0m\u001b[0metype\u001b[0m\u001b[0;34m,\u001b[0m \u001b[0mvalue\u001b[0m\u001b[0;34m,\u001b[0m \u001b[0mrecords\u001b[0m\u001b[0;34m)\u001b[0m\u001b[0;34m:\u001b[0m\u001b[0;34m\u001b[0m\u001b[0;34m\u001b[0m\u001b[0m\n\u001b[0;32m--> 451\u001b[0;31m         \u001b[0;32mreturn\u001b[0m \u001b[0mlen\u001b[0m\u001b[0;34m(\u001b[0m\u001b[0mrecords\u001b[0m\u001b[0;34m)\u001b[0m\u001b[0;34m,\u001b[0m \u001b[0;36m0\u001b[0m\u001b[0;34m\u001b[0m\u001b[0;34m\u001b[0m\u001b[0m\n\u001b[0m\u001b[1;32m    452\u001b[0m \u001b[0;34m\u001b[0m\u001b[0m\n\u001b[1;32m    453\u001b[0m     \u001b[0;31m# Select filename, lineno, func_name to track frames with\u001b[0m\u001b[0;34m\u001b[0m\u001b[0;34m\u001b[0m\u001b[0;34m\u001b[0m\u001b[0m\n",
      "\u001b[0;31mTypeError\u001b[0m: object of type 'NoneType' has no len()"
     ]
    }
   ],
   "source": [
    "d = get_distmatrix_rateofchange()\n",
    "d"
   ]
  },
  {
   "cell_type": "code",
   "execution_count": null,
   "metadata": {
    "collapsed": false,
    "jupyter": {
     "outputs_hidden": false
    }
   },
   "outputs": [],
   "source": [
    "plt.rcParams[\"figure.figsize\"] = [9.0, 6.0]\n",
    "plt.matshow(d, origin = 'lower', cmap = plt.cm.YlOrRd, extent = extent)\n",
    "plt.show()"
   ]
  },
  {
   "cell_type": "markdown",
   "metadata": {},
   "source": [
    "So far so good; that closely resembles the distance matrix seen in Mauch et al. Now let's calculate Foote novelties. There are two parts to this process. Calculating Foote novelties is done by sliding a smaller matrix along the diagonal of the distance matrix and then multiplying elementwise. \n",
    "\n",
    "So first we have to create the smaller matrix, using the function make_foote. Then we pass that as a parameter to the function foote_novelty. Passing matrices of different size will calculate different windows of similarity. Below we define these two functions, and then calculate Foote novelties for a window with a five-year half-width."
   ]
  },
  {
   "cell_type": "code",
   "execution_count": 6,
   "metadata": {
    "collapsed": false,
    "jupyter": {
     "outputs_hidden": false
    }
   },
   "outputs": [
    {
     "data": {
      "image/png": "[encoded data removed]",
      "text/plain": [
       "<Figure size 648x432 with 1 Axes>"
      ]
     },
     "metadata": {
      "needs_background": "light"
     },
     "output_type": "display_data"
    },
    {
     "name": "stdout",
     "output_type": "stream",
     "text": [
      "Max novelty for a five-year half-width: 4.953912032690048\n"
     ]
    }
   ],
   "source": [
    "FOOTE_W=5\n",
    "\n",
    "\n",
    "\n",
    "def make_foote(quart=FOOTE_W):\n",
    "    tophalf = [-1] * quart + [1] * quart\n",
    "    bottomhalf = [1] * quart + [-1] * quart\n",
    "    foote = list()\n",
    "    for i in range(quart):\n",
    "        foote.append(tophalf)\n",
    "    for i in range(quart):\n",
    "        foote.append(bottomhalf)\n",
    "    foote = np.array(foote)\n",
    "    return foote\n",
    "\n",
    "foote5 = make_foote(FOOTE_W)\n",
    "# This gives us a Foote matrix with a five-year half-width.\n",
    "# 5 becomes 20 because the underlying dataset has four\n",
    "# \"quarters\" of data in each year.\n",
    "\n",
    "def foote_novelty(distmat, foote):\n",
    "    axis1, axis2 = distmat.shape\n",
    "    assert axis1 == axis2\n",
    "    distsize = axis1\n",
    "    \n",
    "    axis1, axis2 = foote.shape\n",
    "    assert axis1 == axis2\n",
    "    halfwidth = axis1 / 2\n",
    "    \n",
    "#     print(foote.shape, distmat.shape)\n",
    "    \n",
    "    novelties = []\n",
    "    \n",
    "    for i in range(distsize):\n",
    "        \n",
    "        start = int(i - halfwidth)\n",
    "        end = int(i + halfwidth)\n",
    "#         print(i,start,end,distsize)\n",
    "        \n",
    "        if start < 0 or end > (distsize - 1):\n",
    "            novelties.append(0)\n",
    "        else:\n",
    "            novelties.append(np.sum(foote * distmat[start: end, start: end]))\n",
    "    \n",
    "#     print(novelties)\n",
    "    return novelties\n",
    "\n",
    "def getyears():\n",
    "    years=list(d.columns)\n",
    "#     years = []\n",
    "#     for i in range(200):\n",
    "#         years.append(1960 + i*0.25)\n",
    "    return years\n",
    "\n",
    "years = getyears()\n",
    "\n",
    "novelties = foote_novelty(d.values, foote5)\n",
    "plt.plot(years, novelties)\n",
    "plt.show()\n",
    "print(\"Max novelty for a five-year half-width: \" + str(np.max(novelties)))"
   ]
  },
  {
   "cell_type": "markdown",
   "metadata": {},
   "source": [
    "## Testing significance\n",
    "\n",
    "Okay, now we have functions that can test Foote novelty in a distance matrix. But how do we know whether the apparent peaks and troughs in the plot above represent statistically significant variation?\n",
    "\n",
    "We need a \"null model\": a way of producing distance matrices that represent a random version of our data. On the other hand, we want to get the _right kind_ of randomness. Foote novelty is sensitive to the distribution of values relative to the central diagonal timeline. So if we produce a \"random model\" where those values are evenly distributed, for instance by randomizing the underlying data and then calculating a distance matrix on it ..."
   ]
  },
  {
   "cell_type": "code",
   "execution_count": 37,
   "metadata": {},
   "outputs": [
    {
     "data": {
      "text/html": [
       "<div>\n",
       "<style scoped>\n",
       "    .dataframe tbody tr th:only-of-type {\n",
       "        vertical-align: middle;\n",
       "    }\n",
       "\n",
       "    .dataframe tbody tr th {\n",
       "        vertical-align: top;\n",
       "    }\n",
       "\n",
       "    .dataframe thead th {\n",
       "        text-align: right;\n",
       "    }\n",
       "</style>\n",
       "<table border=\"1\" class=\"dataframe\">\n",
       "  <thead>\n",
       "    <tr style=\"text-align: right;\">\n",
       "      <th></th>\n",
       "      <th>period</th>\n",
       "      <th>period1</th>\n",
       "      <th>period2</th>\n",
       "      <th>rank</th>\n",
       "      <th>perc</th>\n",
       "      <th>dist</th>\n",
       "      <th>rank_abstractness</th>\n",
       "      <th>rank_noiseaware</th>\n",
       "      <th>rank_procrustes</th>\n",
       "      <th>rank_local</th>\n",
       "      <th>...</th>\n",
       "      <th>score2_abstractness</th>\n",
       "      <th>score_diff_abstractness</th>\n",
       "      <th>z_abstractness</th>\n",
       "      <th>is_clean_noiseaware</th>\n",
       "      <th>z_noiseaware</th>\n",
       "      <th>z_procrustes</th>\n",
       "      <th>z_local</th>\n",
       "      <th>period_int1</th>\n",
       "      <th>period_int2</th>\n",
       "      <th>perc_local_int</th>\n",
       "    </tr>\n",
       "  </thead>\n",
       "  <tbody>\n",
       "    <tr>\n",
       "      <th>0</th>\n",
       "      <td>1700s-&gt;1710s</td>\n",
       "      <td>1840-1850</td>\n",
       "      <td>1890-1900</td>\n",
       "      <td>1487.5</td>\n",
       "      <td>50.016812</td>\n",
       "      <td>0.151043</td>\n",
       "      <td>1487.5</td>\n",
       "      <td>1487.5</td>\n",
       "      <td>1487.5</td>\n",
       "      <td>1487.5</td>\n",
       "      <td>...</td>\n",
       "      <td>6.928628e-17</td>\n",
       "      <td>-3.923485e-17</td>\n",
       "      <td>9.133022e-17</td>\n",
       "      <td>0.811029</td>\n",
       "      <td>1.027442e-16</td>\n",
       "      <td>1.844337e-16</td>\n",
       "      <td>1.242375e-16</td>\n",
       "      <td>1840</td>\n",
       "      <td>1890</td>\n",
       "      <td>22</td>\n",
       "    </tr>\n",
       "    <tr>\n",
       "      <th>1</th>\n",
       "      <td>1700s-&gt;1720s</td>\n",
       "      <td>1750-1760</td>\n",
       "      <td>1890-1900</td>\n",
       "      <td>1400.5</td>\n",
       "      <td>50.017857</td>\n",
       "      <td>0.166259</td>\n",
       "      <td>1400.5</td>\n",
       "      <td>1400.5</td>\n",
       "      <td>1400.5</td>\n",
       "      <td>1400.5</td>\n",
       "      <td>...</td>\n",
       "      <td>1.862796e-16</td>\n",
       "      <td>5.681963e-17</td>\n",
       "      <td>2.942091e-17</td>\n",
       "      <td>0.765357</td>\n",
       "      <td>-4.966265e-18</td>\n",
       "      <td>1.770954e-16</td>\n",
       "      <td>8.402009e-17</td>\n",
       "      <td>1750</td>\n",
       "      <td>1890</td>\n",
       "      <td>31</td>\n",
       "    </tr>\n",
       "    <tr>\n",
       "      <th>2</th>\n",
       "      <td>1700s-&gt;1730s</td>\n",
       "      <td>1740-1750</td>\n",
       "      <td>1880-1890</td>\n",
       "      <td>1598.0</td>\n",
       "      <td>50.015649</td>\n",
       "      <td>0.235051</td>\n",
       "      <td>1598.0</td>\n",
       "      <td>1598.0</td>\n",
       "      <td>1598.0</td>\n",
       "      <td>1598.0</td>\n",
       "      <td>...</td>\n",
       "      <td>-1.678887e-16</td>\n",
       "      <td>5.540690e-17</td>\n",
       "      <td>-3.867537e-17</td>\n",
       "      <td>0.655399</td>\n",
       "      <td>-2.625617e-16</td>\n",
       "      <td>-3.544374e-17</td>\n",
       "      <td>3.273334e-17</td>\n",
       "      <td>1740</td>\n",
       "      <td>1880</td>\n",
       "      <td>54</td>\n",
       "    </tr>\n",
       "    <tr>\n",
       "      <th>3</th>\n",
       "      <td>1700s-&gt;1740s</td>\n",
       "      <td>1710-1720</td>\n",
       "      <td>1870-1880</td>\n",
       "      <td>1591.0</td>\n",
       "      <td>50.015718</td>\n",
       "      <td>0.228605</td>\n",
       "      <td>1591.0</td>\n",
       "      <td>1591.0</td>\n",
       "      <td>1591.0</td>\n",
       "      <td>1591.0</td>\n",
       "      <td>...</td>\n",
       "      <td>-5.422851e-17</td>\n",
       "      <td>-2.027789e-16</td>\n",
       "      <td>2.841216e-18</td>\n",
       "      <td>0.690663</td>\n",
       "      <td>-1.707042e-16</td>\n",
       "      <td>4.837375e-17</td>\n",
       "      <td>-1.218418e-16</td>\n",
       "      <td>1710</td>\n",
       "      <td>1870</td>\n",
       "      <td>51</td>\n",
       "    </tr>\n",
       "    <tr>\n",
       "      <th>4</th>\n",
       "      <td>1700s-&gt;1750s</td>\n",
       "      <td>1710-1720</td>\n",
       "      <td>1720-1730</td>\n",
       "      <td>1599.5</td>\n",
       "      <td>50.015635</td>\n",
       "      <td>0.246373</td>\n",
       "      <td>1599.5</td>\n",
       "      <td>1599.5</td>\n",
       "      <td>1599.5</td>\n",
       "      <td>1599.5</td>\n",
       "      <td>...</td>\n",
       "      <td>-3.725045e-17</td>\n",
       "      <td>-2.243879e-16</td>\n",
       "      <td>-2.011802e-17</td>\n",
       "      <td>0.619762</td>\n",
       "      <td>2.793957e-16</td>\n",
       "      <td>6.262797e-17</td>\n",
       "      <td>4.520045e-17</td>\n",
       "      <td>1710</td>\n",
       "      <td>1720</td>\n",
       "      <td>60</td>\n",
       "    </tr>\n",
       "    <tr>\n",
       "      <th>...</th>\n",
       "      <td>...</td>\n",
       "      <td>...</td>\n",
       "      <td>...</td>\n",
       "      <td>...</td>\n",
       "      <td>...</td>\n",
       "      <td>...</td>\n",
       "      <td>...</td>\n",
       "      <td>...</td>\n",
       "      <td>...</td>\n",
       "      <td>...</td>\n",
       "      <td>...</td>\n",
       "      <td>...</td>\n",
       "      <td>...</td>\n",
       "      <td>...</td>\n",
       "      <td>...</td>\n",
       "      <td>...</td>\n",
       "      <td>...</td>\n",
       "      <td>...</td>\n",
       "      <td>...</td>\n",
       "      <td>...</td>\n",
       "      <td>...</td>\n",
       "    </tr>\n",
       "    <tr>\n",
       "      <th>183</th>\n",
       "      <td>1860s-&gt;1870s</td>\n",
       "      <td>1800-1810</td>\n",
       "      <td>1730-1740</td>\n",
       "      <td>2990.5</td>\n",
       "      <td>50.008361</td>\n",
       "      <td>0.053234</td>\n",
       "      <td>2990.5</td>\n",
       "      <td>2990.5</td>\n",
       "      <td>2990.5</td>\n",
       "      <td>2990.5</td>\n",
       "      <td>...</td>\n",
       "      <td>-3.439649e-16</td>\n",
       "      <td>-2.516289e-16</td>\n",
       "      <td>-4.197683e-17</td>\n",
       "      <td>0.983946</td>\n",
       "      <td>-2.753836e-16</td>\n",
       "      <td>2.716148e-17</td>\n",
       "      <td>-2.505428e-17</td>\n",
       "      <td>1800</td>\n",
       "      <td>1730</td>\n",
       "      <td>0</td>\n",
       "    </tr>\n",
       "    <tr>\n",
       "      <th>184</th>\n",
       "      <td>1860s-&gt;1880s</td>\n",
       "      <td>1890-1900</td>\n",
       "      <td>1780-1790</td>\n",
       "      <td>2990.5</td>\n",
       "      <td>50.008361</td>\n",
       "      <td>0.062832</td>\n",
       "      <td>2990.5</td>\n",
       "      <td>2990.5</td>\n",
       "      <td>2990.5</td>\n",
       "      <td>2990.5</td>\n",
       "      <td>...</td>\n",
       "      <td>-1.990233e-16</td>\n",
       "      <td>-1.784154e-17</td>\n",
       "      <td>-9.375629e-19</td>\n",
       "      <td>0.967391</td>\n",
       "      <td>1.153202e-16</td>\n",
       "      <td>1.185646e-17</td>\n",
       "      <td>3.436029e-17</td>\n",
       "      <td>1890</td>\n",
       "      <td>1780</td>\n",
       "      <td>3</td>\n",
       "    </tr>\n",
       "    <tr>\n",
       "      <th>185</th>\n",
       "      <td>1860s-&gt;1890s</td>\n",
       "      <td>1840-1850</td>\n",
       "      <td>1710-1720</td>\n",
       "      <td>2990.5</td>\n",
       "      <td>50.008361</td>\n",
       "      <td>0.070116</td>\n",
       "      <td>2990.5</td>\n",
       "      <td>2990.5</td>\n",
       "      <td>2990.5</td>\n",
       "      <td>2990.5</td>\n",
       "      <td>...</td>\n",
       "      <td>2.426571e-16</td>\n",
       "      <td>4.003997e-16</td>\n",
       "      <td>1.176595e-18</td>\n",
       "      <td>0.960535</td>\n",
       "      <td>1.066269e-16</td>\n",
       "      <td>7.412085e-17</td>\n",
       "      <td>2.788553e-17</td>\n",
       "      <td>1840</td>\n",
       "      <td>1710</td>\n",
       "      <td>5</td>\n",
       "    </tr>\n",
       "    <tr>\n",
       "      <th>186</th>\n",
       "      <td>1870s-&gt;1880s</td>\n",
       "      <td>1890-1900</td>\n",
       "      <td>1750-1760</td>\n",
       "      <td>2995.0</td>\n",
       "      <td>50.008349</td>\n",
       "      <td>0.054580</td>\n",
       "      <td>2995.0</td>\n",
       "      <td>2995.0</td>\n",
       "      <td>2995.0</td>\n",
       "      <td>2995.0</td>\n",
       "      <td>...</td>\n",
       "      <td>-1.683038e-16</td>\n",
       "      <td>1.208983e-16</td>\n",
       "      <td>-1.918652e-17</td>\n",
       "      <td>0.983470</td>\n",
       "      <td>1.184374e-16</td>\n",
       "      <td>4.975519e-17</td>\n",
       "      <td>-2.922469e-17</td>\n",
       "      <td>1890</td>\n",
       "      <td>1750</td>\n",
       "      <td>0</td>\n",
       "    </tr>\n",
       "    <tr>\n",
       "      <th>187</th>\n",
       "      <td>1870s-&gt;1890s</td>\n",
       "      <td>1760-1770</td>\n",
       "      <td>1770-1780</td>\n",
       "      <td>2995.0</td>\n",
       "      <td>50.008349</td>\n",
       "      <td>0.061226</td>\n",
       "      <td>2995.0</td>\n",
       "      <td>2995.0</td>\n",
       "      <td>2995.0</td>\n",
       "      <td>2995.0</td>\n",
       "      <td>...</td>\n",
       "      <td>9.743417e-17</td>\n",
       "      <td>3.952238e-16</td>\n",
       "      <td>-1.000109e-17</td>\n",
       "      <td>0.969277</td>\n",
       "      <td>-1.158421e-16</td>\n",
       "      <td>2.085492e-17</td>\n",
       "      <td>6.345456e-17</td>\n",
       "      <td>1760</td>\n",
       "      <td>1770</td>\n",
       "      <td>3</td>\n",
       "    </tr>\n",
       "  </tbody>\n",
       "</table>\n",
       "<p>376 rows × 29 columns</p>\n",
       "</div>"
      ],
      "text/plain": [
       "           period    period1    period2    rank       perc      dist  \\\n",
       "0    1700s->1710s  1840-1850  1890-1900  1487.5  50.016812  0.151043   \n",
       "1    1700s->1720s  1750-1760  1890-1900  1400.5  50.017857  0.166259   \n",
       "2    1700s->1730s  1740-1750  1880-1890  1598.0  50.015649  0.235051   \n",
       "3    1700s->1740s  1710-1720  1870-1880  1591.0  50.015718  0.228605   \n",
       "4    1700s->1750s  1710-1720  1720-1730  1599.5  50.015635  0.246373   \n",
       "..            ...        ...        ...     ...        ...       ...   \n",
       "183  1860s->1870s  1800-1810  1730-1740  2990.5  50.008361  0.053234   \n",
       "184  1860s->1880s  1890-1900  1780-1790  2990.5  50.008361  0.062832   \n",
       "185  1860s->1890s  1840-1850  1710-1720  2990.5  50.008361  0.070116   \n",
       "186  1870s->1880s  1890-1900  1750-1760  2995.0  50.008349  0.054580   \n",
       "187  1870s->1890s  1760-1770  1770-1780  2995.0  50.008349  0.061226   \n",
       "\n",
       "     rank_abstractness  rank_noiseaware  rank_procrustes  rank_local  ...  \\\n",
       "0               1487.5           1487.5           1487.5      1487.5  ...   \n",
       "1               1400.5           1400.5           1400.5      1400.5  ...   \n",
       "2               1598.0           1598.0           1598.0      1598.0  ...   \n",
       "3               1591.0           1591.0           1591.0      1591.0  ...   \n",
       "4               1599.5           1599.5           1599.5      1599.5  ...   \n",
       "..                 ...              ...              ...         ...  ...   \n",
       "183             2990.5           2990.5           2990.5      2990.5  ...   \n",
       "184             2990.5           2990.5           2990.5      2990.5  ...   \n",
       "185             2990.5           2990.5           2990.5      2990.5  ...   \n",
       "186             2995.0           2995.0           2995.0      2995.0  ...   \n",
       "187             2995.0           2995.0           2995.0      2995.0  ...   \n",
       "\n",
       "     score2_abstractness  score_diff_abstractness  z_abstractness  \\\n",
       "0           6.928628e-17            -3.923485e-17    9.133022e-17   \n",
       "1           1.862796e-16             5.681963e-17    2.942091e-17   \n",
       "2          -1.678887e-16             5.540690e-17   -3.867537e-17   \n",
       "3          -5.422851e-17            -2.027789e-16    2.841216e-18   \n",
       "4          -3.725045e-17            -2.243879e-16   -2.011802e-17   \n",
       "..                   ...                      ...             ...   \n",
       "183        -3.439649e-16            -2.516289e-16   -4.197683e-17   \n",
       "184        -1.990233e-16            -1.784154e-17   -9.375629e-19   \n",
       "185         2.426571e-16             4.003997e-16    1.176595e-18   \n",
       "186        -1.683038e-16             1.208983e-16   -1.918652e-17   \n",
       "187         9.743417e-17             3.952238e-16   -1.000109e-17   \n",
       "\n",
       "     is_clean_noiseaware  z_noiseaware  z_procrustes       z_local  \\\n",
       "0               0.811029  1.027442e-16  1.844337e-16  1.242375e-16   \n",
       "1               0.765357 -4.966265e-18  1.770954e-16  8.402009e-17   \n",
       "2               0.655399 -2.625617e-16 -3.544374e-17  3.273334e-17   \n",
       "3               0.690663 -1.707042e-16  4.837375e-17 -1.218418e-16   \n",
       "4               0.619762  2.793957e-16  6.262797e-17  4.520045e-17   \n",
       "..                   ...           ...           ...           ...   \n",
       "183             0.983946 -2.753836e-16  2.716148e-17 -2.505428e-17   \n",
       "184             0.967391  1.153202e-16  1.185646e-17  3.436029e-17   \n",
       "185             0.960535  1.066269e-16  7.412085e-17  2.788553e-17   \n",
       "186             0.983470  1.184374e-16  4.975519e-17 -2.922469e-17   \n",
       "187             0.969277 -1.158421e-16  2.085492e-17  6.345456e-17   \n",
       "\n",
       "     period_int1  period_int2  perc_local_int  \n",
       "0           1840         1890              22  \n",
       "1           1750         1890              31  \n",
       "2           1740         1880              54  \n",
       "3           1710         1870              51  \n",
       "4           1710         1720              60  \n",
       "..           ...          ...             ...  \n",
       "183         1800         1730               0  \n",
       "184         1890         1780               3  \n",
       "185         1840         1710               5  \n",
       "186         1890         1750               0  \n",
       "187         1760         1770               3  \n",
       "\n",
       "[376 rows x 29 columns]"
      ]
     },
     "execution_count": 37,
     "metadata": {},
     "output_type": "execute_result"
    }
   ],
   "source": [
    "get_figdf1_rateofchange(randomize=True)"
   ]
  },
  {
   "cell_type": "code",
   "execution_count": 38,
   "metadata": {
    "collapsed": false,
    "jupyter": {
     "outputs_hidden": false
    }
   },
   "outputs": [
    {
     "data": {
      "image/png": "[encoded data removed]",
      "text/plain": [
       "<Figure size 432x432 with 1 Axes>"
      ]
     },
     "metadata": {
      "needs_background": "light"
     },
     "output_type": "display_data"
    }
   ],
   "source": [
    "# randomized = np.array(pca)\n",
    "# np.random.shuffle(randomized)\n",
    "randdist = get_distmatrix_rateofchange(randomize=True)\n",
    "plt.matshow(randdist, origin = 'lower', cmap = plt.cm.YlOrRd, extent = extent)\n",
    "plt.show()"
   ]
  },
  {
   "cell_type": "markdown",
   "metadata": {},
   "source": [
    "That is far from an apples-to-apples null model. The problem is that the original data was _sequential,_ so distances between nearby points were usually smaller than distances between remote ones. That created the central \"yellow path\" running from lower left to upper right, following the diagonal timeline of quarters compared-to-themselves.\n",
    "\n",
    "We need a better null model. The one below relies on a suggestion from Yuancheng Zhu, which was to permute values of the original distance matrix, and do it only _within_ diagonals. That way comparisons across a distance of (say) two quarters are permuted only with other two-quarter comparisons. I've added a small twist, which is to try to preserve the same underlying permutation for every diagonal (as far as possible), keying it to the x or y value for each point. That way vertically and horizontally-adjacent \"pixels\" of the matrix retain the same kind of \"cross-hatched\" correlation with each other that we saw in the original matrix. It's not perfect, but it's a reasonable approximation of a dataset where change is sequential, but randomly distributed."
   ]
  },
  {
   "cell_type": "code",
   "execution_count": 90,
   "metadata": {
    "collapsed": false,
    "jupyter": {
     "outputs_hidden": false
    }
   },
   "outputs": [
    {
     "data": {
      "image/png": "[encoded data removed]",
      "text/plain": [
       "<Figure size 432x432 with 1 Axes>"
      ]
     },
     "metadata": {
      "needs_background": "light"
     },
     "output_type": "display_data"
    }
   ],
   "source": [
    "def diagonal_permute(d):\n",
    "    newmat = np.zeros((20,20))\n",
    "    \n",
    "    # We create one randomly-permuted list of integers called \"translate\"\n",
    "    # that is going to be used for the whole matrix.\n",
    "    \n",
    "    translate = [i for i in range(20)]\n",
    "    random.shuffle(translate)\n",
    "    \n",
    "    # Because distances matrices are symmetrical, we're going to be doing\n",
    "    # two diagonals at once each time. We only need one set of values\n",
    "    # (because symmetrical) but we need two sets of indices in the original\n",
    "    # matrix so we know where to put the values back when we're done permuting\n",
    "    # them.\n",
    "    \n",
    "    for i in range(0, 200):\n",
    "        indices1 = []\n",
    "        indices2 = []\n",
    "        values = []\n",
    "        for x in range(200):\n",
    "            y1 = x + i\n",
    "            y2 = x - i\n",
    "            if y1 >= 0 and y1 < 20:\n",
    "                values.append(d[x, y1])\n",
    "                indices1.append((x, y1))\n",
    "            if y2 >= 0 and y2 < 20:\n",
    "                indices2.append((x, y2))\n",
    "        \n",
    "        # Okay, for each diagonal, we permute the values.\n",
    "        # We'll store the permuted values in newvalues.\n",
    "        # We also check to see how many values we have,\n",
    "        # so we can randomly select values if needed.\n",
    "        \n",
    "        newvalues = []\n",
    "        lenvals = len(values)\n",
    "        vallist = [i for i in range(lenvals)]\n",
    "        \n",
    "        for indexes, value in zip(indices1, values):\n",
    "            x, y = indexes\n",
    "            \n",
    "            xposition = translate[x]\n",
    "            yposition = translate[y]\n",
    "            \n",
    "            # We're going to key the randomization to the x, y\n",
    "            # values for each point, insofar as that's possible.\n",
    "            # Doing this will ensure that specific horizontal and\n",
    "            # vertical lines preserve the dependence relations in\n",
    "            # the original matrix.\n",
    "            \n",
    "            # But the way we're doing this is to use the permuted\n",
    "            # x (or y) values to select an index in our list of\n",
    "            # values in the present diagonal, and that's only possible\n",
    "            # if the list is long enough to permit it. So we check:\n",
    "            \n",
    "            if xposition < 0 and yposition < 0:\n",
    "                position = random.choice(vallist)\n",
    "            elif xposition >= lenvals and yposition >= lenvals:\n",
    "                position = random.choice(vallist)\n",
    "            elif xposition < 0:\n",
    "                position = yposition\n",
    "            elif yposition < 0:\n",
    "                position = xposition\n",
    "            elif xposition >= lenvals:\n",
    "                position = yposition\n",
    "            elif yposition >= lenvals:\n",
    "                position = xposition\n",
    "            else:\n",
    "                position = random.choice([xposition, yposition])\n",
    "                # If either x or y could be used as an index, we\n",
    "                # select randomly.\n",
    "            \n",
    "            # Whatever index was chosen, we use it to select a value\n",
    "            # from our diagonal. \n",
    "            \n",
    "            newvalues.append(values[position])\n",
    "            \n",
    "        values = newvalues\n",
    "        \n",
    "        # Now we lay down (both versions of) the diagonal in the\n",
    "        # new matrix.\n",
    "        \n",
    "        for idxtuple1, idxtuple2, value in zip(indices1, indices2, values):\n",
    "            x, y = idxtuple1\n",
    "            newmat[x, y] = value\n",
    "            x, y = idxtuple2\n",
    "            newmat[x, y] = value\n",
    "    \n",
    "    return newmat\n",
    "\n",
    "newmat = diagonal_permute(d.values)\n",
    "plt.matshow(newmat, origin = 'lower', cmap = plt.cm.YlOrRd, extent = extent)\n",
    "plt.show()"
   ]
  },
  {
   "cell_type": "markdown",
   "metadata": {},
   "source": [
    "What if we now try assessing foote novelties on this randomized matrix? What maximum or minimum value will we get?"
   ]
  },
  {
   "cell_type": "code",
   "execution_count": 93,
   "metadata": {
    "collapsed": false,
    "jupyter": {
     "outputs_hidden": false
    }
   },
   "outputs": [
    {
     "data": {
      "image/png": "[encoded data removed]",
      "text/plain": [
       "<Figure size 648x432 with 1 Axes>"
      ]
     },
     "metadata": {
      "needs_background": "light"
     },
     "output_type": "display_data"
    },
    {
     "name": "stdout",
     "output_type": "stream",
     "text": [
      "Max novelty for five-year half-width:0.3173917807432248\n",
      "Min novelty for five-year half-width:0.0709843115413837\n"
     ]
    }
   ],
   "source": [
    "novelties = foote_novelty(newmat, foote5)\n",
    "years = getyears()\n",
    "plt.plot(years, novelties)\n",
    "plt.show()\n",
    "print(\"Max novelty for five-year half-width:\" + str(np.max(novelties)))\n",
    "\n",
    "def zeroless(sequence):\n",
    "    newseq = []\n",
    "    for element in sequence:\n",
    "        if element > 0.01:\n",
    "            newseq.append(element)\n",
    "    return newseq\n",
    "print(\"Min novelty for five-year half-width:\" + str(np.min(zeroless(novelties))))"
   ]
  },
  {
   "cell_type": "markdown",
   "metadata": {},
   "source": [
    "By repeatedly running that test, we can assess the likely range of random variation. It turns out that there are only two \"peaks\" in the dataset that are clearly and consistently p < 0.05: one in the early eighties, and one in the earl nineties. The _slowing_ of change at the end of the nineties is also statistically significant."
   ]
  },
  {
   "cell_type": "code",
   "execution_count": 104,
   "metadata": {
    "collapsed": false,
    "jupyter": {
     "outputs_hidden": false
    }
   },
   "outputs": [
    {
     "data": {
      "image/png": "[encoded data removed]",
      "text/plain": [
       "<Figure size 648x432 with 1 Axes>"
      ]
     },
     "metadata": {
      "needs_background": "light"
     },
     "output_type": "display_data"
    },
    {
     "name": "stdout",
     "output_type": "stream",
     "text": [
      "<matplotlib.collections.LineCollection object at 0x7f9f0992f9d0> [1730 1750] [1.2765489  1.02294065]\n"
     ]
    },
    {
     "data": {
      "image/png": "[encoded data removed]",
      "text/plain": [
       "<Figure size 648x432 with 1 Axes>"
      ]
     },
     "metadata": {
      "needs_background": "light"
     },
     "output_type": "display_data"
    }
   ],
   "source": [
    "def permute_test(distmatrix, yrwidth, footesize=3):\n",
    "#     footematrix = make_foote(4 * yrwidth)\n",
    "    footematrix = make_foote(footesize)\n",
    "    actual_novelties = foote_novelty(distmatrix, footematrix)\n",
    "    \n",
    "    permuted_peaks = []\n",
    "    permuted_troughs = []\n",
    "    for i in range(100):\n",
    "        randdist = diagonal_permute(distmatrix)\n",
    "        nov = foote_novelty(randdist, footematrix)\n",
    "        nov = zeroless(nov)\n",
    "        permuted_peaks.append(np.max(nov))\n",
    "        permuted_troughs.append(np.min(nov))\n",
    "    permuted_peaks.sort(reverse = True)\n",
    "    permuted_troughs.sort(reverse = True)\n",
    "    threshold05 = permuted_peaks[4]\n",
    "    threshold01 = permuted_peaks[0]\n",
    "    threshold95 = permuted_troughs[94]\n",
    "    threshold99 = permuted_troughs[99]\n",
    "    threshold90 = permuted_troughs[89]\n",
    "    threshold10 = permuted_troughs[9]\n",
    "#     print(threshold05)\n",
    "#     print(threshold95)\n",
    "    \n",
    "    significance = np.ones(len(actual_novelties))\n",
    "    for idx, novelty in enumerate(actual_novelties):\n",
    "#         print(idx,novelty,threshold05,threshold95)\n",
    "\n",
    "        if novelty > threshold10 or novelty < threshold90:\n",
    "            significance[idx] = 0.099\n",
    "        if novelty > threshold05 or novelty < threshold95:\n",
    "            significance[idx] = 0.049\n",
    "        elif novelty > threshold01 or novelty < threshold99:\n",
    "            significance[idx] = 0.009\n",
    "    \n",
    "    return actual_novelties, significance, threshold01, threshold05, threshold95, threshold99\n",
    "\n",
    "def colored_segments(novelties, significance):\n",
    "    x = []\n",
    "    y = []\n",
    "    t = []\n",
    "    idx = 0\n",
    "    for nov, sig in zip(novelties, significance):\n",
    "        if nov > 1:\n",
    "            x.append((idx*10) + 1700)\n",
    "            y.append(nov)\n",
    "            t.append(sig)\n",
    "        idx += 1\n",
    "        \n",
    "    x = np.array(x)\n",
    "    y = np.array(y)\n",
    "    t = np.array(t)\n",
    "    \n",
    "#     print(x)\n",
    "#     print(y)\n",
    "#     print(t)\n",
    "    \n",
    "    points = np.array([x,y]).transpose().reshape(-1,1,2)\n",
    "    segs = np.concatenate([points[:-1],points[1:]],axis=1)\n",
    "    lc = LineCollection(segs, cmap=plt.get_cmap('jet'))\n",
    "    lc.set_array(t)\n",
    "    \n",
    "    return lc, x, y\n",
    "\n",
    "novelties, significance, threshold01, threshold05, threshold95, threshold99 = permute_test(d.values, 1, footesize=3)\n",
    "years = getyears()\n",
    "plt.plot(years, novelties)\n",
    "startpoint = years[0]\n",
    "endpoint = years[19]\n",
    "plt.hlines(threshold05, startpoint, endpoint, 'r', linewidth = 3)\n",
    "plt.hlines(threshold95, startpoint, endpoint, 'r', linewidth = 3)\n",
    "plt.show()\n",
    "\n",
    "lc, x, y = colored_segments(novelties, significance)\n",
    "print(lc, x, y)\n",
    "\n",
    "plt.gca().add_collection(lc) # add the collection to the plot\n",
    "plt.xlim(1700, 1900) # line collections don't auto-scale the plot\n",
    "plt.ylim(0, 1.5)\n",
    "plt.show()\n",
    "    "
   ]
  },
  {
   "cell_type": "markdown",
   "metadata": {},
   "source": [
    "## Visualization\n",
    "\n",
    "Neither of the methods used above are terribly good as visualizations, so let's come up with a slightly better version: getting rid of the misleading \"edges\" and overplotting points to indicate the number of significant observations in particular periods."
   ]
  },
  {
   "cell_type": "code",
   "execution_count": 96,
   "metadata": {
    "collapsed": false,
    "jupyter": {
     "outputs_hidden": false
    }
   },
   "outputs": [
    {
     "data": {
      "image/png": "[encoded data removed]",
      "text/plain": [
       "<Figure size 648x432 with 1 Axes>"
      ]
     },
     "metadata": {
      "needs_background": "light"
     },
     "output_type": "display_data"
    }
   ],
   "source": [
    "def zeroless_seq(thefilter, filtereda, filteredb):\n",
    "    thefilter = np.array(thefilter)\n",
    "    filtereda = np.array(filtereda)\n",
    "    filteredb = np.array(filteredb)\n",
    "    filtereda = filtereda[thefilter > 0]\n",
    "    filteredb = filteredb[thefilter > 0]\n",
    "    thefilter = thefilter[thefilter > 0]\n",
    "    return thefilter, filtereda, filteredb\n",
    "\n",
    "plt.clf()\n",
    "# plt.axis([1700, 1900, 45, 325])\n",
    "novelties, significance, threshold01, threshold05, threshold95, threshold99 = permute_test(d.values, 5)\n",
    "novelties, years, significance = zeroless_seq(novelties, getyears(), significance)\n",
    "yplot = novelties[significance < 0.1]\n",
    "xplot = years[significance < 0.1]\n",
    "plt.scatter(xplot, yplot, c = 'red')\n",
    "plt.plot(years, novelties)\n",
    "years = getyears()\n",
    "startpoint = years[0]\n",
    "endpoint = years[19]\n",
    "plt.hlines(threshold05, startpoint, endpoint, 'r', linewidth = 3)\n",
    "plt.hlines(threshold95, startpoint, endpoint, 'r', linewidth = 3)\n",
    "plt.show()"
   ]
  },
  {
   "cell_type": "markdown",
   "metadata": {},
   "source": [
    "## Effect size\n",
    "\n",
    "What about the effect size? Foote novelty is not really a direct measurement of the pace of change.\n",
    "\n",
    "One way to measure it is, to accept the periods defined by the visualization above, and compare change across each of those periods. \n",
    "\n",
    "So, for instance, the significant points in the second peak range from 1990 to 1994, and the lowest trough is roughly 2001 to 2005. We can divide each of those periods in half, and compare the first half to the second half. It looks like Mauch et al. are roughly right about effect size: it's a sixfold difference."
   ]
  },
  {
   "cell_type": "code",
   "execution_count": 83,
   "metadata": {
    "collapsed": false,
    "jupyter": {
     "outputs_hidden": false
    }
   },
   "outputs": [
    {
     "name": "stdout",
     "output_type": "stream",
     "text": [
      "0.019378402221876145\n",
      "0.0379207427730015\n",
      "0.048775252656902524\n",
      "0.0032672122529983083\n"
     ]
    }
   ],
   "source": [
    "def pacechange(startdate, enddate, pca):\n",
    "    years = getyears()\n",
    "    startidx = years.index(startdate)\n",
    "    endidx = years.index(enddate)\n",
    "    midpoint = int((startidx + endidx)/2)\n",
    "    firsthalf = np.zeros(20)\n",
    "    for i in range(startidx,midpoint):\n",
    "        firsthalf = firsthalf + pca[i]\n",
    "    secondhalf = np.zeros(20)\n",
    "    for i in range(midpoint, endidx):\n",
    "        secondhalf = secondhalf + pca[i]\n",
    "    return spatial.distance.cosine(firsthalf, secondhalf)\n",
    "\n",
    "print(pacechange(1700, 1750, d.values))\n",
    "print(pacechange(1750, 1800, d.values))\n",
    "print(pacechange(1800, 1850, d.values))\n",
    "print(pacechange(1850, 1890, d.values))\n"
   ]
  },
  {
   "cell_type": "markdown",
   "metadata": {},
   "source": [
    "We can also get a mean value for the whole run."
   ]
  },
  {
   "cell_type": "code",
   "execution_count": 70,
   "metadata": {
    "collapsed": false,
    "jupyter": {
     "outputs_hidden": false
    }
   },
   "outputs": [
    {
     "name": "stdout",
     "output_type": "stream",
     "text": [
      "nan\n"
     ]
    }
   ],
   "source": [
    "thesum = 0\n",
    "theobservations = 0\n",
    "for i in range(1700, 1890, 10):\n",
    "    theobservations += 1\n",
    "    thesum += pacechange(i, i+10, d.values)\n",
    "print(thesum / theobservations)"
   ]
  },
  {
   "cell_type": "markdown",
   "metadata": {},
   "source": [
    "## Comparing multiple scales at once\n",
    "\n",
    "If we wanted to, we could also overplot multiple scales of comparison with different half-widths. Doing this reveals one of the nice things about the \"Foote novelty\" method, which is that it remains relatively stable as you vary scales of comparison. The same cannot be said, for instance, of changepoint analysis!\n",
    "\n",
    "In the cell below we've overplotted three-year, four-year, and five-year Foote novelties, highlighting in each case the specific quarters that have two-tailed p values lower than 0.05."
   ]
  },
  {
   "cell_type": "code",
   "execution_count": 74,
   "metadata": {
    "collapsed": false,
    "jupyter": {
     "outputs_hidden": false
    }
   },
   "outputs": [
    {
     "name": "stdout",
     "output_type": "stream",
     "text": [
      "1.2206317354759117\n",
      "0.18306756217874526\n",
      "0 0 1.2206317354759117 0.18306756217874526\n",
      "1 0 1.2206317354759117 0.18306756217874526\n",
      "2 0 1.2206317354759117 0.18306756217874526\n",
      "3 1.2765488995690069 1.2206317354759117 0.18306756217874526\n",
      "4 0.9972125409665535 1.2206317354759117 0.18306756217874526\n",
      "5 1.0229406458438437 1.2206317354759117 0.18306756217874526\n",
      "6 0.8138655719075626 1.2206317354759117 0.18306756217874526\n",
      "7 0.6659052730768931 1.2206317354759117 0.18306756217874526\n",
      "8 0.5297024117104789 1.2206317354759117 0.18306756217874526\n",
      "9 0.5599554361418758 1.2206317354759117 0.18306756217874526\n",
      "10 0.6773552697042635 1.2206317354759117 0.18306756217874526\n",
      "11 0.7272484063121969 1.2206317354759117 0.18306756217874526\n",
      "12 0.6466388009675373 1.2206317354759117 0.18306756217874526\n",
      "13 0.4321883275904729 1.2206317354759117 0.18306756217874526\n",
      "14 0.3988236129135217 1.2206317354759117 0.18306756217874526\n",
      "15 0.3433117369751839 1.2206317354759117 0.18306756217874526\n",
      "16 0.27402031202171806 1.2206317354759117 0.18306756217874526\n",
      "17 0 1.2206317354759117 0.18306756217874526\n",
      "18 0 1.2206317354759117 0.18306756217874526\n",
      "19 0 1.2206317354759117 0.18306756217874526\n",
      "1.225964006890619\n",
      "0.16578515440797387\n",
      "0 0 1.225964006890619 0.16578515440797387\n",
      "1 0 1.225964006890619 0.16578515440797387\n",
      "2 0 1.225964006890619 0.16578515440797387\n",
      "3 1.2765488995690069 1.225964006890619 0.16578515440797387\n",
      "4 0.9972125409665535 1.225964006890619 0.16578515440797387\n",
      "5 1.0229406458438437 1.225964006890619 0.16578515440797387\n",
      "6 0.8138655719075626 1.225964006890619 0.16578515440797387\n",
      "7 0.6659052730768931 1.225964006890619 0.16578515440797387\n",
      "8 0.5297024117104789 1.225964006890619 0.16578515440797387\n",
      "9 0.5599554361418758 1.225964006890619 0.16578515440797387\n",
      "10 0.6773552697042635 1.225964006890619 0.16578515440797387\n",
      "11 0.7272484063121969 1.225964006890619 0.16578515440797387\n",
      "12 0.6466388009675373 1.225964006890619 0.16578515440797387\n",
      "13 0.4321883275904729 1.225964006890619 0.16578515440797387\n",
      "14 0.3988236129135217 1.225964006890619 0.16578515440797387\n",
      "15 0.3433117369751839 1.225964006890619 0.16578515440797387\n",
      "16 0.27402031202171806 1.225964006890619 0.16578515440797387\n",
      "17 0 1.225964006890619 0.16578515440797387\n",
      "18 0 1.225964006890619 0.16578515440797387\n",
      "19 0 1.225964006890619 0.16578515440797387\n",
      "1.173709200206811\n",
      "0.10376840526761993\n",
      "0 0 1.173709200206811 0.10376840526761993\n",
      "1 0 1.173709200206811 0.10376840526761993\n",
      "2 0 1.173709200206811 0.10376840526761993\n",
      "3 1.2765488995690069 1.173709200206811 0.10376840526761993\n",
      "4 0.9972125409665535 1.173709200206811 0.10376840526761993\n",
      "5 1.0229406458438437 1.173709200206811 0.10376840526761993\n",
      "6 0.8138655719075626 1.173709200206811 0.10376840526761993\n",
      "7 0.6659052730768931 1.173709200206811 0.10376840526761993\n",
      "8 0.5297024117104789 1.173709200206811 0.10376840526761993\n",
      "9 0.5599554361418758 1.173709200206811 0.10376840526761993\n",
      "10 0.6773552697042635 1.173709200206811 0.10376840526761993\n",
      "11 0.7272484063121969 1.173709200206811 0.10376840526761993\n",
      "12 0.6466388009675373 1.173709200206811 0.10376840526761993\n",
      "13 0.4321883275904729 1.173709200206811 0.10376840526761993\n",
      "14 0.3988236129135217 1.173709200206811 0.10376840526761993\n",
      "15 0.3433117369751839 1.173709200206811 0.10376840526761993\n",
      "16 0.27402031202171806 1.173709200206811 0.10376840526761993\n",
      "17 0 1.173709200206811 0.10376840526761993\n",
      "18 0 1.173709200206811 0.10376840526761993\n",
      "19 0 1.173709200206811 0.10376840526761993\n"
     ]
    },
    {
     "data": {
      "image/png": "[encoded data removed]",
      "text/plain": [
       "<Figure size 648x432 with 1 Axes>"
      ]
     },
     "metadata": {
      "needs_background": "light"
     },
     "output_type": "display_data"
    }
   ],
   "source": [
    "# plt.axis([1700, 1900, 0, y.max() + 10])\n",
    "    \n",
    "def add_scatter(d, width):\n",
    "    novelties, significance, threshold01, threshold05, threshold95, threshold99 = permute_test(d, width)\n",
    "    novelties, years, significance = zeroless_seq(novelties, getyears(), significance)\n",
    "    yplot = novelties[significance < 0.05]\n",
    "    xplot = years[significance < 0.05]\n",
    "    plt.scatter(xplot, yplot, c = 'red')\n",
    "    plt.plot(years, novelties)\n",
    "\n",
    "add_scatter(d.values, 3)\n",
    "add_scatter(d.values, 4)\n",
    "add_scatter(d.values, 5)\n",
    "plt.ylabel('Foote novelty')\n",
    "plt.show()"
   ]
  },
  {
   "cell_type": "code",
   "execution_count": null,
   "metadata": {
    "collapsed": true,
    "jupyter": {
     "outputs_hidden": true
    }
   },
   "outputs": [],
   "source": []
  },
  {
   "cell_type": "code",
   "execution_count": null,
   "metadata": {
    "collapsed": true,
    "jupyter": {
     "outputs_hidden": true
    }
   },
   "outputs": [],
   "source": []
  }
 ],
 "metadata": {
  "kernelspec": {
   "display_name": "Python 3",
   "language": "python",
   "name": "python3"
  },
  "language_info": {
   "codemirror_mode": {
    "name": "ipython",
    "version": 3
   },
   "file_extension": ".py",
   "mimetype": "text/x-python",
   "name": "python",
   "nbconvert_exporter": "python",
   "pygments_lexer": "ipython3",
   "version": "3.7.7"
  },
  "widgets": {
   "application/vnd.jupyter.widget-state+json": {
    "state": {},
    "version_major": 2,
    "version_minor": 0
   }
  }
 },
 "nbformat": 4,
 "nbformat_minor": 4
}
