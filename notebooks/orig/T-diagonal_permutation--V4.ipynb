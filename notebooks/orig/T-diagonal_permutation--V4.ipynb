{
 "cells": [
  {
   "cell_type": "code",
   "execution_count": 1,
   "metadata": {},
   "outputs": [
    {
     "data": {
      "text/html": [
       "<div>\n",
       "<style scoped>\n",
       "    .dataframe tbody tr th:only-of-type {\n",
       "        vertical-align: middle;\n",
       "    }\n",
       "\n",
       "    .dataframe tbody tr th {\n",
       "        vertical-align: top;\n",
       "    }\n",
       "\n",
       "    .dataframe thead th {\n",
       "        text-align: right;\n",
       "    }\n",
       "</style>\n",
       "<table border=\"1\" class=\"dataframe\">\n",
       "  <thead>\n",
       "    <tr style=\"text-align: right;\">\n",
       "      <th></th>\n",
       "      <th>word</th>\n",
       "      <th>dist</th>\n",
       "      <th>is_clean</th>\n",
       "      <th>period1</th>\n",
       "      <th>period2</th>\n",
       "    </tr>\n",
       "  </thead>\n",
       "  <tbody>\n",
       "    <tr>\n",
       "      <th>0</th>\n",
       "      <td>abbe</td>\n",
       "      <td>0.560645</td>\n",
       "      <td>False</td>\n",
       "      <td>1700-1705</td>\n",
       "      <td>1705-1710</td>\n",
       "    </tr>\n",
       "    <tr>\n",
       "      <th>1</th>\n",
       "      <td>abbey</td>\n",
       "      <td>0.691516</td>\n",
       "      <td>False</td>\n",
       "      <td>1700-1705</td>\n",
       "      <td>1705-1710</td>\n",
       "    </tr>\n",
       "    <tr>\n",
       "      <th>2</th>\n",
       "      <td>abbot</td>\n",
       "      <td>0.369839</td>\n",
       "      <td>True</td>\n",
       "      <td>1700-1705</td>\n",
       "      <td>1705-1710</td>\n",
       "    </tr>\n",
       "    <tr>\n",
       "      <th>3</th>\n",
       "      <td>abdication</td>\n",
       "      <td>0.743533</td>\n",
       "      <td>False</td>\n",
       "      <td>1700-1705</td>\n",
       "      <td>1705-1710</td>\n",
       "    </tr>\n",
       "    <tr>\n",
       "      <th>4</th>\n",
       "      <td>abhorrence</td>\n",
       "      <td>0.753346</td>\n",
       "      <td>False</td>\n",
       "      <td>1700-1705</td>\n",
       "      <td>1705-1710</td>\n",
       "    </tr>\n",
       "    <tr>\n",
       "      <th>...</th>\n",
       "      <td>...</td>\n",
       "      <td>...</td>\n",
       "      <td>...</td>\n",
       "      <td>...</td>\n",
       "      <td>...</td>\n",
       "    </tr>\n",
       "    <tr>\n",
       "      <th>3507627</th>\n",
       "      <td>zest</td>\n",
       "      <td>0.450700</td>\n",
       "      <td>True</td>\n",
       "      <td>1890-1895</td>\n",
       "      <td>1895-1900</td>\n",
       "    </tr>\n",
       "    <tr>\n",
       "      <th>3507628</th>\n",
       "      <td>zinc</td>\n",
       "      <td>0.194274</td>\n",
       "      <td>True</td>\n",
       "      <td>1890-1895</td>\n",
       "      <td>1895-1900</td>\n",
       "    </tr>\n",
       "    <tr>\n",
       "      <th>3507629</th>\n",
       "      <td>zone</td>\n",
       "      <td>0.444468</td>\n",
       "      <td>True</td>\n",
       "      <td>1890-1895</td>\n",
       "      <td>1895-1900</td>\n",
       "    </tr>\n",
       "    <tr>\n",
       "      <th>3507630</th>\n",
       "      <td>zoo</td>\n",
       "      <td>0.362270</td>\n",
       "      <td>True</td>\n",
       "      <td>1890-1895</td>\n",
       "      <td>1895-1900</td>\n",
       "    </tr>\n",
       "    <tr>\n",
       "      <th>3507631</th>\n",
       "      <td>zoology</td>\n",
       "      <td>0.260216</td>\n",
       "      <td>True</td>\n",
       "      <td>1890-1895</td>\n",
       "      <td>1895-1900</td>\n",
       "    </tr>\n",
       "  </tbody>\n",
       "</table>\n",
       "<p>3507632 rows × 5 columns</p>\n",
       "</div>"
      ],
      "text/plain": [
       "               word      dist  is_clean    period1    period2\n",
       "0              abbe  0.560645     False  1700-1705  1705-1710\n",
       "1             abbey  0.691516     False  1700-1705  1705-1710\n",
       "2             abbot  0.369839      True  1700-1705  1705-1710\n",
       "3        abdication  0.743533     False  1700-1705  1705-1710\n",
       "4        abhorrence  0.753346     False  1700-1705  1705-1710\n",
       "...             ...       ...       ...        ...        ...\n",
       "3507627        zest  0.450700      True  1890-1895  1895-1900\n",
       "3507628        zinc  0.194274      True  1890-1895  1895-1900\n",
       "3507629        zone  0.444468      True  1890-1895  1895-1900\n",
       "3507630         zoo  0.362270      True  1890-1895  1895-1900\n",
       "3507631     zoology  0.260216      True  1890-1895  1895-1900\n",
       "\n",
       "[3507632 rows x 5 columns]"
      ]
     },
     "execution_count": 1,
     "metadata": {},
     "output_type": "execute_result"
    }
   ],
   "source": [
    "from koselleck import *\n",
    "absw=get_words_ever_abs()\n",
    "\n",
    "DF=df=pd.read_pickle(FN_DATA_PACEOFCHANGE).reset_index()\n",
    "df"
   ]
  },
  {
   "cell_type": "code",
   "execution_count": 2,
   "metadata": {
    "collapsed": false,
    "jupyter": {
     "outputs_hidden": false
    }
   },
   "outputs": [],
   "source": [
    "%matplotlib inline\n",
    "import matplotlib.pyplot as plt\n",
    "from matplotlib.collections import LineCollection\n",
    "import csv, random\n",
    "import numpy as np\n",
    "from scipy import spatial\n",
    "extent=[1700,1900, 1700,1900]\n",
    "FOOTE_W=5\n",
    "NUM=100"
   ]
  },
  {
   "cell_type": "code",
   "execution_count": 3,
   "metadata": {
    "collapsed": false,
    "jupyter": {
     "outputs_hidden": false
    }
   },
   "outputs": [],
   "source": [
    "# plt.rcParams[\"figure.figsize\"] = [9.0, 6.0]\n",
    "# plt.matshow(distdf, origin = 'lower', cmap = plt.cm.YlOrRd, extent = extent)\n",
    "# plt.show()"
   ]
  },
  {
   "cell_type": "code",
   "execution_count": 4,
   "metadata": {},
   "outputs": [],
   "source": [
    "def plot_distmat(distdf):\n",
    "    plt.rcParams[\"figure.figsize\"] = [9.0, 6.0]\n",
    "    plt.matshow(distdf, origin = 'lower', cmap = plt.cm.YlOrRd, extent = extent)\n",
    "    plt.show()"
   ]
  },
  {
   "cell_type": "code",
   "execution_count": 5,
   "metadata": {},
   "outputs": [
    {
     "data": {
      "application/vnd.jupyter.widget-view+json": {
       "model_id": "acca30745cc040fe875e5ae8c903216a",
       "version_major": 2,
       "version_minor": 0
      },
      "text/plain": [
       "interactive(children=(Text(value='critique', description='w'), Output()), _dom_classes=('widget-interact',))"
      ]
     },
     "metadata": {},
     "output_type": "display_data"
    }
   ],
   "source": [
    "@interact\n",
    "def showdistmat(w='critique'):\n",
    "    try:\n",
    "        distdf=get_distmatrix_rateofchange(DF, words={w})\n",
    "        plot_distmat(distdf)\n",
    "    except Exception as e:\n",
    "        print(e)\n",
    "        pass"
   ]
  },
  {
   "cell_type": "code",
   "execution_count": 6,
   "metadata": {},
   "outputs": [
    {
     "data": {
      "image/png": "[encoded data removed]",
      "text/plain": [
       "<Figure size 432x432 with 1 Axes>"
      ]
     },
     "metadata": {
      "needs_background": "light"
     },
     "output_type": "display_data"
    }
   ],
   "source": [
    "# d=distdf=get_distmatrix_rateofchange(DF, words=None)#'interest'})\n",
    "d=distdf=get_distmatrix_rateofchange(DF, words={'attachment'})\n",
    "dq=d.values\n",
    "plot_distmat(distdf)"
   ]
  },
  {
   "cell_type": "code",
   "execution_count": null,
   "metadata": {
    "collapsed": false,
    "jupyter": {
     "outputs_hidden": false
    }
   },
   "outputs": [],
   "source": []
  },
  {
   "cell_type": "code",
   "execution_count": 7,
   "metadata": {},
   "outputs": [],
   "source": [
    "# novelties = foote_novelty(distdf)\n",
    "# plt.plot(getyears(), novelties)\n",
    "# plt.show()\n",
    "# print(\"Max novelty for a five-year half-width: \" + str(np.max(novelties)))"
   ]
  },
  {
   "cell_type": "code",
   "execution_count": null,
   "metadata": {
    "collapsed": false,
    "jupyter": {
     "outputs_hidden": false
    }
   },
   "outputs": [],
   "source": []
  },
  {
   "cell_type": "code",
   "execution_count": 8,
   "metadata": {},
   "outputs": [
    {
     "data": {
      "image/png": "[encoded data removed]",
      "text/plain": [
       "<Figure size 432x432 with 1 Axes>"
      ]
     },
     "metadata": {
      "needs_background": "light"
     },
     "output_type": "display_data"
    }
   ],
   "source": [
    "newmat = diagonal_permute(distdf.values)\n",
    "plt.matshow(newmat, origin = 'lower', cmap = plt.cm.YlOrRd, extent = extent)\n",
    "plt.show()"
   ]
  },
  {
   "cell_type": "code",
   "execution_count": 9,
   "metadata": {
    "collapsed": false,
    "jupyter": {
     "outputs_hidden": false
    }
   },
   "outputs": [],
   "source": [
    "# novelties = foote_novelty(newmat)\n",
    "# years = getyears()\n",
    "# plt.plot(years, novelties)\n",
    "# plt.show()\n",
    "# print(\"Max novelty for five-year half-width:\" + str(np.max(novelties)))\n",
    "\n",
    "# def zeroless(sequence):\n",
    "#     newseq = []\n",
    "#     for element in sequence:\n",
    "#         if element > 0.01:\n",
    "#             newseq.append(element)\n",
    "#     return newseq\n",
    "# print(\"Min novelty for five-year half-width:\" + str(np.min(zeroless(novelties))))"
   ]
  },
  {
   "cell_type": "code",
   "execution_count": 10,
   "metadata": {},
   "outputs": [],
   "source": [
    "\n",
    "# novelties, significance, threshold01, threshold05, threshold95, threshold99 = permute_test(dq)\n",
    "# years = getyears()\n",
    "# plt.plot(years, novelties)\n",
    "# startpoint = years[0]\n",
    "# endpoint = years[-1]\n",
    "# plt.hlines(threshold05, startpoint, endpoint, 'r', linewidth = 3)\n",
    "# plt.hlines(threshold95, startpoint, endpoint, 'r', linewidth = 3)\n",
    "# plt.show()\n",
    "\n",
    "# # lc, x, y = colored_segments(novelties, significance)\n",
    "\n",
    "# # plt.gca().add_collection(lc) # add the collection to the plot\n",
    "# # plt.xlim(years[0], years[-1]) # line collections don't auto-scale the plot\n",
    "# # plt.ylim(y.min(), y.max())\n",
    "# # plt.show()"
   ]
  },
  {
   "cell_type": "code",
   "execution_count": 12,
   "metadata": {},
   "outputs": [
    {
     "data": {
      "text/html": [
       "<div>\n",
       "<style scoped>\n",
       "    .dataframe tbody tr th:only-of-type {\n",
       "        vertical-align: middle;\n",
       "    }\n",
       "\n",
       "    .dataframe tbody tr th {\n",
       "        vertical-align: top;\n",
       "    }\n",
       "\n",
       "    .dataframe thead th {\n",
       "        text-align: right;\n",
       "    }\n",
       "</style>\n",
       "<table border=\"1\" class=\"dataframe\">\n",
       "  <thead>\n",
       "    <tr style=\"text-align: right;\">\n",
       "      <th></th>\n",
       "      <th>year</th>\n",
       "      <th>foote_novelty</th>\n",
       "      <th>foote_size</th>\n",
       "      <th>p_peak</th>\n",
       "      <th>p_trough</th>\n",
       "    </tr>\n",
       "  </thead>\n",
       "  <tbody>\n",
       "    <tr>\n",
       "      <th>5</th>\n",
       "      <td>1735</td>\n",
       "      <td>11.019207</td>\n",
       "      <td>5</td>\n",
       "      <td>0.04</td>\n",
       "      <td>1.00</td>\n",
       "    </tr>\n",
       "    <tr>\n",
       "      <th>6</th>\n",
       "      <td>1740</td>\n",
       "      <td>6.640216</td>\n",
       "      <td>5</td>\n",
       "      <td>0.70</td>\n",
       "      <td>1.00</td>\n",
       "    </tr>\n",
       "    <tr>\n",
       "      <th>32</th>\n",
       "      <td>1870</td>\n",
       "      <td>6.080114</td>\n",
       "      <td>5</td>\n",
       "      <td>0.87</td>\n",
       "      <td>1.00</td>\n",
       "    </tr>\n",
       "    <tr>\n",
       "      <th>7</th>\n",
       "      <td>1745</td>\n",
       "      <td>5.370216</td>\n",
       "      <td>5</td>\n",
       "      <td>0.96</td>\n",
       "      <td>1.00</td>\n",
       "    </tr>\n",
       "    <tr>\n",
       "      <th>31</th>\n",
       "      <td>1865</td>\n",
       "      <td>5.049577</td>\n",
       "      <td>5</td>\n",
       "      <td>0.99</td>\n",
       "      <td>1.00</td>\n",
       "    </tr>\n",
       "    <tr>\n",
       "      <th>30</th>\n",
       "      <td>1860</td>\n",
       "      <td>4.490706</td>\n",
       "      <td>5</td>\n",
       "      <td>1.00</td>\n",
       "      <td>1.00</td>\n",
       "    </tr>\n",
       "    <tr>\n",
       "      <th>8</th>\n",
       "      <td>1750</td>\n",
       "      <td>4.363853</td>\n",
       "      <td>5</td>\n",
       "      <td>1.00</td>\n",
       "      <td>1.00</td>\n",
       "    </tr>\n",
       "    <tr>\n",
       "      <th>9</th>\n",
       "      <td>1755</td>\n",
       "      <td>4.259815</td>\n",
       "      <td>5</td>\n",
       "      <td>1.00</td>\n",
       "      <td>1.00</td>\n",
       "    </tr>\n",
       "    <tr>\n",
       "      <th>10</th>\n",
       "      <td>1760</td>\n",
       "      <td>4.078062</td>\n",
       "      <td>5</td>\n",
       "      <td>1.00</td>\n",
       "      <td>1.00</td>\n",
       "    </tr>\n",
       "    <tr>\n",
       "      <th>11</th>\n",
       "      <td>1765</td>\n",
       "      <td>3.890631</td>\n",
       "      <td>5</td>\n",
       "      <td>1.00</td>\n",
       "      <td>1.00</td>\n",
       "    </tr>\n",
       "    <tr>\n",
       "      <th>12</th>\n",
       "      <td>1770</td>\n",
       "      <td>3.140830</td>\n",
       "      <td>5</td>\n",
       "      <td>1.00</td>\n",
       "      <td>1.00</td>\n",
       "    </tr>\n",
       "    <tr>\n",
       "      <th>29</th>\n",
       "      <td>1855</td>\n",
       "      <td>3.102261</td>\n",
       "      <td>5</td>\n",
       "      <td>1.00</td>\n",
       "      <td>1.00</td>\n",
       "    </tr>\n",
       "    <tr>\n",
       "      <th>24</th>\n",
       "      <td>1830</td>\n",
       "      <td>2.438195</td>\n",
       "      <td>5</td>\n",
       "      <td>1.00</td>\n",
       "      <td>1.00</td>\n",
       "    </tr>\n",
       "    <tr>\n",
       "      <th>17</th>\n",
       "      <td>1795</td>\n",
       "      <td>2.380164</td>\n",
       "      <td>5</td>\n",
       "      <td>1.00</td>\n",
       "      <td>1.00</td>\n",
       "    </tr>\n",
       "    <tr>\n",
       "      <th>28</th>\n",
       "      <td>1850</td>\n",
       "      <td>2.343235</td>\n",
       "      <td>5</td>\n",
       "      <td>1.00</td>\n",
       "      <td>1.00</td>\n",
       "    </tr>\n",
       "    <tr>\n",
       "      <th>16</th>\n",
       "      <td>1790</td>\n",
       "      <td>2.324401</td>\n",
       "      <td>5</td>\n",
       "      <td>1.00</td>\n",
       "      <td>1.00</td>\n",
       "    </tr>\n",
       "    <tr>\n",
       "      <th>13</th>\n",
       "      <td>1775</td>\n",
       "      <td>2.319593</td>\n",
       "      <td>5</td>\n",
       "      <td>1.00</td>\n",
       "      <td>1.00</td>\n",
       "    </tr>\n",
       "    <tr>\n",
       "      <th>23</th>\n",
       "      <td>1825</td>\n",
       "      <td>2.306113</td>\n",
       "      <td>5</td>\n",
       "      <td>1.00</td>\n",
       "      <td>1.00</td>\n",
       "    </tr>\n",
       "    <tr>\n",
       "      <th>15</th>\n",
       "      <td>1785</td>\n",
       "      <td>2.281916</td>\n",
       "      <td>5</td>\n",
       "      <td>1.00</td>\n",
       "      <td>1.00</td>\n",
       "    </tr>\n",
       "    <tr>\n",
       "      <th>27</th>\n",
       "      <td>1845</td>\n",
       "      <td>2.231392</td>\n",
       "      <td>5</td>\n",
       "      <td>1.00</td>\n",
       "      <td>1.00</td>\n",
       "    </tr>\n",
       "    <tr>\n",
       "      <th>22</th>\n",
       "      <td>1820</td>\n",
       "      <td>2.006505</td>\n",
       "      <td>5</td>\n",
       "      <td>1.00</td>\n",
       "      <td>1.00</td>\n",
       "    </tr>\n",
       "    <tr>\n",
       "      <th>25</th>\n",
       "      <td>1835</td>\n",
       "      <td>1.936402</td>\n",
       "      <td>5</td>\n",
       "      <td>1.00</td>\n",
       "      <td>1.00</td>\n",
       "    </tr>\n",
       "    <tr>\n",
       "      <th>14</th>\n",
       "      <td>1780</td>\n",
       "      <td>1.932829</td>\n",
       "      <td>5</td>\n",
       "      <td>1.00</td>\n",
       "      <td>1.00</td>\n",
       "    </tr>\n",
       "    <tr>\n",
       "      <th>26</th>\n",
       "      <td>1840</td>\n",
       "      <td>1.876387</td>\n",
       "      <td>5</td>\n",
       "      <td>1.00</td>\n",
       "      <td>1.00</td>\n",
       "    </tr>\n",
       "    <tr>\n",
       "      <th>18</th>\n",
       "      <td>1800</td>\n",
       "      <td>1.835443</td>\n",
       "      <td>5</td>\n",
       "      <td>1.00</td>\n",
       "      <td>1.00</td>\n",
       "    </tr>\n",
       "    <tr>\n",
       "      <th>21</th>\n",
       "      <td>1815</td>\n",
       "      <td>1.830726</td>\n",
       "      <td>5</td>\n",
       "      <td>1.00</td>\n",
       "      <td>1.00</td>\n",
       "    </tr>\n",
       "    <tr>\n",
       "      <th>20</th>\n",
       "      <td>1810</td>\n",
       "      <td>1.754078</td>\n",
       "      <td>5</td>\n",
       "      <td>1.00</td>\n",
       "      <td>0.00</td>\n",
       "    </tr>\n",
       "    <tr>\n",
       "      <th>19</th>\n",
       "      <td>1805</td>\n",
       "      <td>1.696170</td>\n",
       "      <td>5</td>\n",
       "      <td>1.00</td>\n",
       "      <td>0.00</td>\n",
       "    </tr>\n",
       "    <tr>\n",
       "      <th>33</th>\n",
       "      <td>1875</td>\n",
       "      <td>0.000000</td>\n",
       "      <td>5</td>\n",
       "      <td>1.00</td>\n",
       "      <td>0.99</td>\n",
       "    </tr>\n",
       "    <tr>\n",
       "      <th>34</th>\n",
       "      <td>1880</td>\n",
       "      <td>0.000000</td>\n",
       "      <td>5</td>\n",
       "      <td>1.00</td>\n",
       "      <td>0.99</td>\n",
       "    </tr>\n",
       "    <tr>\n",
       "      <th>35</th>\n",
       "      <td>1885</td>\n",
       "      <td>0.000000</td>\n",
       "      <td>5</td>\n",
       "      <td>1.00</td>\n",
       "      <td>0.99</td>\n",
       "    </tr>\n",
       "    <tr>\n",
       "      <th>36</th>\n",
       "      <td>1890</td>\n",
       "      <td>0.000000</td>\n",
       "      <td>5</td>\n",
       "      <td>1.00</td>\n",
       "      <td>0.99</td>\n",
       "    </tr>\n",
       "    <tr>\n",
       "      <th>0</th>\n",
       "      <td>1700</td>\n",
       "      <td>0.000000</td>\n",
       "      <td>5</td>\n",
       "      <td>1.00</td>\n",
       "      <td>0.99</td>\n",
       "    </tr>\n",
       "    <tr>\n",
       "      <th>1</th>\n",
       "      <td>1715</td>\n",
       "      <td>0.000000</td>\n",
       "      <td>5</td>\n",
       "      <td>1.00</td>\n",
       "      <td>0.99</td>\n",
       "    </tr>\n",
       "    <tr>\n",
       "      <th>4</th>\n",
       "      <td>1730</td>\n",
       "      <td>0.000000</td>\n",
       "      <td>5</td>\n",
       "      <td>1.00</td>\n",
       "      <td>0.99</td>\n",
       "    </tr>\n",
       "    <tr>\n",
       "      <th>3</th>\n",
       "      <td>1725</td>\n",
       "      <td>0.000000</td>\n",
       "      <td>5</td>\n",
       "      <td>1.00</td>\n",
       "      <td>0.99</td>\n",
       "    </tr>\n",
       "    <tr>\n",
       "      <th>2</th>\n",
       "      <td>1720</td>\n",
       "      <td>0.000000</td>\n",
       "      <td>5</td>\n",
       "      <td>1.00</td>\n",
       "      <td>0.99</td>\n",
       "    </tr>\n",
       "    <tr>\n",
       "      <th>37</th>\n",
       "      <td>1895</td>\n",
       "      <td>0.000000</td>\n",
       "      <td>5</td>\n",
       "      <td>1.00</td>\n",
       "      <td>0.99</td>\n",
       "    </tr>\n",
       "  </tbody>\n",
       "</table>\n",
       "</div>"
      ],
      "text/plain": [
       "    year  foote_novelty  foote_size  p_peak  p_trough\n",
       "5   1735      11.019207           5    0.04      1.00\n",
       "6   1740       6.640216           5    0.70      1.00\n",
       "32  1870       6.080114           5    0.87      1.00\n",
       "7   1745       5.370216           5    0.96      1.00\n",
       "31  1865       5.049577           5    0.99      1.00\n",
       "30  1860       4.490706           5    1.00      1.00\n",
       "8   1750       4.363853           5    1.00      1.00\n",
       "9   1755       4.259815           5    1.00      1.00\n",
       "10  1760       4.078062           5    1.00      1.00\n",
       "11  1765       3.890631           5    1.00      1.00\n",
       "12  1770       3.140830           5    1.00      1.00\n",
       "29  1855       3.102261           5    1.00      1.00\n",
       "24  1830       2.438195           5    1.00      1.00\n",
       "17  1795       2.380164           5    1.00      1.00\n",
       "28  1850       2.343235           5    1.00      1.00\n",
       "16  1790       2.324401           5    1.00      1.00\n",
       "13  1775       2.319593           5    1.00      1.00\n",
       "23  1825       2.306113           5    1.00      1.00\n",
       "15  1785       2.281916           5    1.00      1.00\n",
       "27  1845       2.231392           5    1.00      1.00\n",
       "22  1820       2.006505           5    1.00      1.00\n",
       "25  1835       1.936402           5    1.00      1.00\n",
       "14  1780       1.932829           5    1.00      1.00\n",
       "26  1840       1.876387           5    1.00      1.00\n",
       "18  1800       1.835443           5    1.00      1.00\n",
       "21  1815       1.830726           5    1.00      1.00\n",
       "20  1810       1.754078           5    1.00      0.00\n",
       "19  1805       1.696170           5    1.00      0.00\n",
       "33  1875       0.000000           5    1.00      0.99\n",
       "34  1880       0.000000           5    1.00      0.99\n",
       "35  1885       0.000000           5    1.00      0.99\n",
       "36  1890       0.000000           5    1.00      0.99\n",
       "0   1700       0.000000           5    1.00      0.99\n",
       "1   1715       0.000000           5    1.00      0.99\n",
       "4   1730       0.000000           5    1.00      0.99\n",
       "3   1725       0.000000           5    1.00      0.99\n",
       "2   1720       0.000000           5    1.00      0.99\n",
       "37  1895       0.000000           5    1.00      0.99"
      ]
     },
     "execution_count": 12,
     "metadata": {},
     "output_type": "execute_result"
    }
   ],
   "source": [
    "odf=test_novelty(distdf,foote_sizes=[5])\n",
    "odf"
   ]
  },
  {
   "cell_type": "code",
   "execution_count": null,
   "metadata": {},
   "outputs": [],
   "source": []
  },
  {
   "cell_type": "code",
   "execution_count": 13,
   "metadata": {},
   "outputs": [
    {
     "ename": "NameError",
     "evalue": "name 'stop' is not defined",
     "output_type": "error",
     "traceback": [
      "\u001b[0;31m---------------------------------------------------------------------------\u001b[0m",
      "\u001b[0;31mNameError\u001b[0m                                 Traceback (most recent call last)",
      "\u001b[0;32m<ipython-input-13-4f76a9dad686>\u001b[0m in \u001b[0;36m<module>\u001b[0;34m\u001b[0m\n\u001b[0;32m----> 1\u001b[0;31m \u001b[0mstop\u001b[0m\u001b[0;34m\u001b[0m\u001b[0;34m\u001b[0m\u001b[0m\n\u001b[0m",
      "\u001b[0;31mNameError\u001b[0m: name 'stop' is not defined"
     ]
    }
   ],
   "source": [
    "stop"
   ]
  },
  {
   "cell_type": "markdown",
   "metadata": {},
   "source": [
    "## Visualization\n",
    "\n",
    "Neither of the methods used above are terribly good as visualizations, so let's come up with a slightly better version: getting rid of the misleading \"edges\" and overplotting points to indicate the number of significant observations in particular periods."
   ]
  },
  {
   "cell_type": "code",
   "execution_count": null,
   "metadata": {
    "collapsed": false,
    "jupyter": {
     "outputs_hidden": false
    }
   },
   "outputs": [],
   "source": [
    "def zeroless_seq(thefilter, filtereda, filteredb):\n",
    "    thefilter = np.array(thefilter)\n",
    "    filtereda = np.array(filtereda)\n",
    "    filteredb = np.array(filteredb)\n",
    "    filtereda = filtereda[thefilter > 0]\n",
    "    filteredb = filteredb[thefilter > 0]\n",
    "    thefilter = thefilter[thefilter > 0]\n",
    "    return thefilter, filtereda, filteredb\n",
    "\n",
    "plt.clf()\n",
    "# plt.axis([1700, 1900, 45, 325])\n",
    "novelties, significance, threshold01, threshold05, threshold95, threshold99 = permute_test(d.values)\n",
    "novelties, years, significance = zeroless_seq(novelties, getyears(), significance)\n",
    "yplot = novelties[significance < 0.05]\n",
    "xplot = years[significance < 0.05]\n",
    "plt.scatter(xplot, yplot, c = 'red')\n",
    "plt.plot(years, novelties)\n",
    "years = getyears()\n",
    "startpoint = years[0]\n",
    "endpoint = years[-1]\n",
    "plt.hlines(threshold05, startpoint, endpoint, 'r', linewidth = 3)\n",
    "plt.hlines(threshold95, startpoint, endpoint, 'r', linewidth = 3)\n",
    "plt.show()"
   ]
  },
  {
   "cell_type": "markdown",
   "metadata": {},
   "source": [
    "## Effect size\n",
    "\n",
    "What about the effect size? Foote novelty is not really a direct measurement of the pace of change.\n",
    "\n",
    "One way to measure it is, to accept the periods defined by the visualization above, and compare change across each of those periods. \n",
    "\n",
    "So, for instance, the significant points in the second peak range from 1990 to 1994, and the lowest trough is roughly 2001 to 2005. We can divide each of those periods in half, and compare the first half to the second half. It looks like Mauch et al. are roughly right about effect size: it's a sixfold difference."
   ]
  },
  {
   "cell_type": "code",
   "execution_count": null,
   "metadata": {
    "collapsed": false,
    "jupyter": {
     "outputs_hidden": false
    }
   },
   "outputs": [],
   "source": [
    "def pacechange(startdate, enddate, pca):\n",
    "    years = getyears()\n",
    "    startidx = years.index(startdate)\n",
    "    endidx = years.index(enddate)\n",
    "    midpoint = int((startidx + endidx)/2)\n",
    "    firsthalf = np.zeros(len(years))\n",
    "    for i in range(startidx,midpoint):\n",
    "        firsthalf = firsthalf + pca[i]\n",
    "    secondhalf = np.zeros(len(years))\n",
    "    for i in range(midpoint, endidx):\n",
    "        secondhalf = secondhalf + pca[i]\n",
    "    return spatial.distance.cosine(firsthalf, secondhalf)\n",
    "\n",
    "print(pacechange(1700, 1750, d.values))\n",
    "print(pacechange(1750, 1800, d.values))\n",
    "print(pacechange(1800, 1850, d.values))\n",
    "print(pacechange(1850, 1890, d.values))\n"
   ]
  },
  {
   "cell_type": "markdown",
   "metadata": {},
   "source": [
    "We can also get a mean value for the whole run."
   ]
  },
  {
   "cell_type": "code",
   "execution_count": null,
   "metadata": {
    "collapsed": false,
    "jupyter": {
     "outputs_hidden": false
    }
   },
   "outputs": [],
   "source": [
    "thesum = 0\n",
    "theobservations = 0\n",
    "for i in range(1700, 1890, 10):\n",
    "    theobservations += 1\n",
    "    thesum += pacechange(i, i+10, d.values)\n",
    "print(thesum / theobservations)"
   ]
  },
  {
   "cell_type": "markdown",
   "metadata": {},
   "source": [
    "## Comparing multiple scales at once\n",
    "\n",
    "If we wanted to, we could also overplot multiple scales of comparison with different half-widths. Doing this reveals one of the nice things about the \"Foote novelty\" method, which is that it remains relatively stable as you vary scales of comparison. The same cannot be said, for instance, of changepoint analysis!\n",
    "\n",
    "In the cell below we've overplotted three-year, four-year, and five-year Foote novelties, highlighting in each case the specific quarters that have two-tailed p values lower than 0.05."
   ]
  },
  {
   "cell_type": "code",
   "execution_count": null,
   "metadata": {
    "collapsed": false,
    "jupyter": {
     "outputs_hidden": false
    }
   },
   "outputs": [],
   "source": [
    "# plt.axis([1700, 1900, 0, y.max() + 10])\n",
    "    \n",
    "def add_scatter(d, width):\n",
    "    novelties, significance, threshold01, threshold05, threshold95, threshold99 = permute_test(d, width)\n",
    "    novelties, years, significance = zeroless_seq(novelties, getyears(), significance)\n",
    "    yplot = novelties[significance < 0.05]\n",
    "    xplot = years[significance < 0.05]\n",
    "    plt.scatter(xplot, yplot, c = 'red')\n",
    "    plt.plot(years, novelties)\n",
    "\n",
    "ll=list(range(2,11))\n",
    "for n in ll:\n",
    "    add_scatter(d.values, n)\n",
    "# add_scatter(d.values, 4)\n",
    "# add_scatter(d.values, 5)\n",
    "# add_scatter(d.values, 5)\n",
    "plt.legend([str(n) for n in ll])\n",
    "plt.ylabel('Foote novelty')\n",
    "plt.show()"
   ]
  },
  {
   "cell_type": "code",
   "execution_count": null,
   "metadata": {
    "collapsed": true,
    "jupyter": {
     "outputs_hidden": true
    }
   },
   "outputs": [],
   "source": []
  },
  {
   "cell_type": "code",
   "execution_count": null,
   "metadata": {
    "collapsed": true,
    "jupyter": {
     "outputs_hidden": true
    }
   },
   "outputs": [],
   "source": []
  },
  {
   "cell_type": "code",
   "execution_count": null,
   "metadata": {},
   "outputs": [],
   "source": []
  },
  {
   "cell_type": "code",
   "execution_count": null,
   "metadata": {},
   "outputs": [],
   "source": []
  }
 ],
 "metadata": {
  "kernelspec": {
   "display_name": "Python 3",
   "language": "python",
   "name": "python3"
  },
  "language_info": {
   "codemirror_mode": {
    "name": "ipython",
    "version": 3
   },
   "file_extension": ".py",
   "mimetype": "text/x-python",
   "name": "python",
   "nbconvert_exporter": "python",
   "pygments_lexer": "ipython3",
   "version": "3.7.7"
  },
  "toc-autonumbering": false,
  "widgets": {
   "application/vnd.jupyter.widget-state+json": {
    "state": {
     "2eea020fcb804828b43e6c2433109cc7": {
      "model_module": "@jupyter-widgets/base",
      "model_module_version": "1.2.0",
      "model_name": "LayoutModel",
      "state": {}
     },
     "4b28f11335944ef0be289c7a2241ffa1": {
      "model_module": "@jupyter-widgets/controls",
      "model_module_version": "1.5.0",
      "model_name": "DescriptionStyleModel",
      "state": {
       "description_width": ""
      }
     },
     "57db38a97cb642e597be5c8a7f54c37f": {
      "model_module": "@jupyter-widgets/base",
      "model_module_version": "1.2.0",
      "model_name": "LayoutModel",
      "state": {}
     },
     "acca30745cc040fe875e5ae8c903216a": {
      "model_module": "@jupyter-widgets/controls",
      "model_module_version": "1.5.0",
      "model_name": "VBoxModel",
      "state": {
       "_dom_classes": [
        "widget-interact"
       ],
       "children": [
        "IPY_MODEL_b0b1c73ea3fd4e1fa125dd9101476cbf",
        "IPY_MODEL_b2bcdb0ca2c94f0d9621f527d2f2eef3"
       ],
       "layout": "IPY_MODEL_2eea020fcb804828b43e6c2433109cc7"
      }
     },
     "b0b1c73ea3fd4e1fa125dd9101476cbf": {
      "model_module": "@jupyter-widgets/controls",
      "model_module_version": "1.5.0",
      "model_name": "TextModel",
      "state": {
       "description": "w",
       "layout": "IPY_MODEL_57db38a97cb642e597be5c8a7f54c37f",
       "style": "IPY_MODEL_4b28f11335944ef0be289c7a2241ffa1",
       "value": "critique"
      }
     },
     "b2bcdb0ca2c94f0d9621f527d2f2eef3": {
      "model_module": "@jupyter-widgets/output",
      "model_module_version": "1.0.0",
      "model_name": "OutputModel",
      "state": {
       "layout": "IPY_MODEL_cfceba980a284bc99dcaa13098c667f0",
       "outputs": [
        {
         "data": {
          "image/png": "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\n",
          "text/plain": "<Figure size 432x432 with 1 Axes>"
         },
         "metadata": {
          "needs_background": "light"
         },
         "output_type": "display_data"
        }
       ]
      }
     },
     "cfceba980a284bc99dcaa13098c667f0": {
      "model_module": "@jupyter-widgets/base",
      "model_module_version": "1.2.0",
      "model_name": "LayoutModel",
      "state": {}
     }
    },
    "version_major": 2,
    "version_minor": 0
   }
  }
 },
 "nbformat": 4,
 "nbformat_minor": 4
}
