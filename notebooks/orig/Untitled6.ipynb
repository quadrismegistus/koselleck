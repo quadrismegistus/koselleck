{
 "cells": [
  {
   "cell_type": "code",
   "execution_count": 1,
   "metadata": {},
   "outputs": [],
   "source": [
    "from koselleck import *\n",
    "FN_NOVELTY_DATA=os.path.join(PATH_DATA,'data.words_by_rateofchange.v4.pkl')\n"
   ]
  },
  {
   "cell_type": "code",
   "execution_count": 83,
   "metadata": {},
   "outputs": [],
   "source": [
    "DF=pd.read_pickle(FN_DATA_PACEOFCHANGE).reset_index()\n",
    "DF['year']=[int(x[:4]) for x in DF.period1]\n",
    "# DF"
   ]
  },
  {
   "cell_type": "code",
   "execution_count": null,
   "metadata": {},
   "outputs": [],
   "source": []
  },
  {
   "cell_type": "code",
   "execution_count": 51,
   "metadata": {},
   "outputs": [],
   "source": [
    "NOVDF=pd.read_pickle(FN_NOVELTY_DATA)\n",
    "# NOVDF"
   ]
  },
  {
   "cell_type": "code",
   "execution_count": 82,
   "metadata": {},
   "outputs": [
    {
     "data": {
      "text/plain": [
       "10"
      ]
     },
     "execution_count": 82,
     "metadata": {},
     "output_type": "execute_result"
    }
   ],
   "source": [
    "words=[\n",
    "    'labourer',\n",
    "    'reform',\n",
    "    'catastrophe',\n",
    "    'demand',\n",
    "#     'insurrection',\n",
    "#         'value',\n",
    "#     'institution',\n",
    "    'circulation',\n",
    "    'slave',\n",
    "    'service',\n",
    "#         'revolution',\n",
    "#         'formula',\n",
    "#         'slavery',\n",
    "        'example',\n",
    "#         'citizen',\n",
    "        'interest',\n",
    "#         'workmanship',\n",
    "        'vehicle',\n",
    "#         'disease',\n",
    "#     'relationship'\n",
    "]\n",
    "len(words)"
   ]
  },
  {
   "cell_type": "code",
   "execution_count": 76,
   "metadata": {},
   "outputs": [
    {
     "data": {
      "text/html": [
       "<div>\n",
       "<style scoped>\n",
       "    .dataframe tbody tr th:only-of-type {\n",
       "        vertical-align: middle;\n",
       "    }\n",
       "\n",
       "    .dataframe tbody tr th {\n",
       "        vertical-align: top;\n",
       "    }\n",
       "\n",
       "    .dataframe thead th {\n",
       "        text-align: right;\n",
       "    }\n",
       "</style>\n",
       "<table border=\"1\" class=\"dataframe\">\n",
       "  <thead>\n",
       "    <tr style=\"text-align: right;\">\n",
       "      <th></th>\n",
       "      <th>year</th>\n",
       "      <th>foote_novelty</th>\n",
       "      <th>foote_size</th>\n",
       "      <th>p_peak</th>\n",
       "      <th>p_trough</th>\n",
       "    </tr>\n",
       "    <tr>\n",
       "      <th>word</th>\n",
       "      <th></th>\n",
       "      <th></th>\n",
       "      <th></th>\n",
       "      <th></th>\n",
       "      <th></th>\n",
       "    </tr>\n",
       "  </thead>\n",
       "  <tbody>\n",
       "    <tr>\n",
       "      <th>marriage</th>\n",
       "      <td>1750.0</td>\n",
       "      <td>5.399894</td>\n",
       "      <td>6.0</td>\n",
       "      <td>0.00</td>\n",
       "      <td>1.00</td>\n",
       "    </tr>\n",
       "    <tr>\n",
       "      <th>comment</th>\n",
       "      <td>1750.0</td>\n",
       "      <td>3.072193</td>\n",
       "      <td>6.0</td>\n",
       "      <td>0.65</td>\n",
       "      <td>1.00</td>\n",
       "    </tr>\n",
       "    <tr>\n",
       "      <th>conclusion</th>\n",
       "      <td>1750.0</td>\n",
       "      <td>6.233616</td>\n",
       "      <td>6.0</td>\n",
       "      <td>0.00</td>\n",
       "      <td>1.00</td>\n",
       "    </tr>\n",
       "    <tr>\n",
       "      <th>brass</th>\n",
       "      <td>1750.0</td>\n",
       "      <td>1.672172</td>\n",
       "      <td>6.0</td>\n",
       "      <td>0.44</td>\n",
       "      <td>1.00</td>\n",
       "    </tr>\n",
       "    <tr>\n",
       "      <th>series</th>\n",
       "      <td>1750.0</td>\n",
       "      <td>2.749507</td>\n",
       "      <td>6.0</td>\n",
       "      <td>0.36</td>\n",
       "      <td>1.00</td>\n",
       "    </tr>\n",
       "    <tr>\n",
       "      <th>...</th>\n",
       "      <td>...</td>\n",
       "      <td>...</td>\n",
       "      <td>...</td>\n",
       "      <td>...</td>\n",
       "      <td>...</td>\n",
       "    </tr>\n",
       "    <tr>\n",
       "      <th>continuity</th>\n",
       "      <td>1865.0</td>\n",
       "      <td>3.748205</td>\n",
       "      <td>6.0</td>\n",
       "      <td>0.18</td>\n",
       "      <td>1.00</td>\n",
       "    </tr>\n",
       "    <tr>\n",
       "      <th>fount</th>\n",
       "      <td>1865.0</td>\n",
       "      <td>6.713187</td>\n",
       "      <td>6.0</td>\n",
       "      <td>0.13</td>\n",
       "      <td>1.00</td>\n",
       "    </tr>\n",
       "    <tr>\n",
       "      <th>immigration</th>\n",
       "      <td>1865.0</td>\n",
       "      <td>2.077823</td>\n",
       "      <td>6.0</td>\n",
       "      <td>0.84</td>\n",
       "      <td>0.83</td>\n",
       "    </tr>\n",
       "    <tr>\n",
       "      <th>scripture</th>\n",
       "      <td>1865.0</td>\n",
       "      <td>1.618645</td>\n",
       "      <td>6.0</td>\n",
       "      <td>0.81</td>\n",
       "      <td>1.00</td>\n",
       "    </tr>\n",
       "    <tr>\n",
       "      <th>ripple</th>\n",
       "      <td>1865.0</td>\n",
       "      <td>0.518209</td>\n",
       "      <td>6.0</td>\n",
       "      <td>0.45</td>\n",
       "      <td>0.44</td>\n",
       "    </tr>\n",
       "  </tbody>\n",
       "</table>\n",
       "<p>5714 rows × 5 columns</p>\n",
       "</div>"
      ],
      "text/plain": [
       "               year  foote_novelty  foote_size  p_peak  p_trough\n",
       "word                                                            \n",
       "marriage     1750.0       5.399894         6.0    0.00      1.00\n",
       "comment      1750.0       3.072193         6.0    0.65      1.00\n",
       "conclusion   1750.0       6.233616         6.0    0.00      1.00\n",
       "brass        1750.0       1.672172         6.0    0.44      1.00\n",
       "series       1750.0       2.749507         6.0    0.36      1.00\n",
       "...             ...            ...         ...     ...       ...\n",
       "continuity   1865.0       3.748205         6.0    0.18      1.00\n",
       "fount        1865.0       6.713187         6.0    0.13      1.00\n",
       "immigration  1865.0       2.077823         6.0    0.84      0.83\n",
       "scripture    1865.0       1.618645         6.0    0.81      1.00\n",
       "ripple       1865.0       0.518209         6.0    0.45      0.44\n",
       "\n",
       "[5714 rows x 5 columns]"
      ]
     },
     "execution_count": 76,
     "metadata": {},
     "output_type": "execute_result"
    }
   ],
   "source": [
    "firstsig=NOVDF.query(\n",
    "#     'p_peak<0.05 & foote_size==6 & year>=1700'\n",
    "    'foote_size==6 & year>=1700'\n",
    ").reset_index().sort_values('foote_novelty',ascending=False).drop_duplicates(\n",
    "    'word',keep='first'\n",
    ").sort_values('year').set_index('word')\n",
    "firstsig"
   ]
  },
  {
   "cell_type": "code",
   "execution_count": 77,
   "metadata": {},
   "outputs": [
    {
     "data": {
      "text/html": [
       "<div>\n",
       "<style scoped>\n",
       "    .dataframe tbody tr th:only-of-type {\n",
       "        vertical-align: middle;\n",
       "    }\n",
       "\n",
       "    .dataframe tbody tr th {\n",
       "        vertical-align: top;\n",
       "    }\n",
       "\n",
       "    .dataframe thead th {\n",
       "        text-align: right;\n",
       "    }\n",
       "</style>\n",
       "<table border=\"1\" class=\"dataframe\">\n",
       "  <thead>\n",
       "    <tr style=\"text-align: right;\">\n",
       "      <th></th>\n",
       "      <th>year</th>\n",
       "      <th>foote_novelty</th>\n",
       "      <th>foote_size</th>\n",
       "      <th>p_peak</th>\n",
       "      <th>p_trough</th>\n",
       "    </tr>\n",
       "    <tr>\n",
       "      <th>word</th>\n",
       "      <th></th>\n",
       "      <th></th>\n",
       "      <th></th>\n",
       "      <th></th>\n",
       "      <th></th>\n",
       "    </tr>\n",
       "  </thead>\n",
       "  <tbody>\n",
       "    <tr>\n",
       "      <th>labourer</th>\n",
       "      <td>1815.0</td>\n",
       "      <td>15.252218</td>\n",
       "      <td>6.0</td>\n",
       "      <td>0.00</td>\n",
       "      <td>1.0</td>\n",
       "    </tr>\n",
       "    <tr>\n",
       "      <th>reform</th>\n",
       "      <td>1780.0</td>\n",
       "      <td>25.235090</td>\n",
       "      <td>6.0</td>\n",
       "      <td>0.00</td>\n",
       "      <td>1.0</td>\n",
       "    </tr>\n",
       "    <tr>\n",
       "      <th>catastrophe</th>\n",
       "      <td>1820.0</td>\n",
       "      <td>10.652314</td>\n",
       "      <td>6.0</td>\n",
       "      <td>0.00</td>\n",
       "      <td>1.0</td>\n",
       "    </tr>\n",
       "    <tr>\n",
       "      <th>demand</th>\n",
       "      <td>1800.0</td>\n",
       "      <td>10.413591</td>\n",
       "      <td>6.0</td>\n",
       "      <td>0.00</td>\n",
       "      <td>1.0</td>\n",
       "    </tr>\n",
       "    <tr>\n",
       "      <th>institution</th>\n",
       "      <td>1805.0</td>\n",
       "      <td>6.051498</td>\n",
       "      <td>6.0</td>\n",
       "      <td>0.00</td>\n",
       "      <td>1.0</td>\n",
       "    </tr>\n",
       "    <tr>\n",
       "      <th>circulation</th>\n",
       "      <td>1755.0</td>\n",
       "      <td>10.561017</td>\n",
       "      <td>6.0</td>\n",
       "      <td>0.00</td>\n",
       "      <td>1.0</td>\n",
       "    </tr>\n",
       "    <tr>\n",
       "      <th>slave</th>\n",
       "      <td>1785.0</td>\n",
       "      <td>35.028109</td>\n",
       "      <td>6.0</td>\n",
       "      <td>0.00</td>\n",
       "      <td>1.0</td>\n",
       "    </tr>\n",
       "    <tr>\n",
       "      <th>service</th>\n",
       "      <td>1865.0</td>\n",
       "      <td>7.068791</td>\n",
       "      <td>6.0</td>\n",
       "      <td>0.00</td>\n",
       "      <td>1.0</td>\n",
       "    </tr>\n",
       "    <tr>\n",
       "      <th>example</th>\n",
       "      <td>1835.0</td>\n",
       "      <td>3.997227</td>\n",
       "      <td>6.0</td>\n",
       "      <td>0.04</td>\n",
       "      <td>1.0</td>\n",
       "    </tr>\n",
       "    <tr>\n",
       "      <th>interest</th>\n",
       "      <td>1820.0</td>\n",
       "      <td>3.018702</td>\n",
       "      <td>6.0</td>\n",
       "      <td>0.06</td>\n",
       "      <td>1.0</td>\n",
       "    </tr>\n",
       "    <tr>\n",
       "      <th>vehicle</th>\n",
       "      <td>1830.0</td>\n",
       "      <td>12.728558</td>\n",
       "      <td>6.0</td>\n",
       "      <td>0.01</td>\n",
       "      <td>1.0</td>\n",
       "    </tr>\n",
       "  </tbody>\n",
       "</table>\n",
       "</div>"
      ],
      "text/plain": [
       "               year  foote_novelty  foote_size  p_peak  p_trough\n",
       "word                                                            \n",
       "labourer     1815.0      15.252218         6.0    0.00       1.0\n",
       "reform       1780.0      25.235090         6.0    0.00       1.0\n",
       "catastrophe  1820.0      10.652314         6.0    0.00       1.0\n",
       "demand       1800.0      10.413591         6.0    0.00       1.0\n",
       "institution  1805.0       6.051498         6.0    0.00       1.0\n",
       "circulation  1755.0      10.561017         6.0    0.00       1.0\n",
       "slave        1785.0      35.028109         6.0    0.00       1.0\n",
       "service      1865.0       7.068791         6.0    0.00       1.0\n",
       "example      1835.0       3.997227         6.0    0.04       1.0\n",
       "interest     1820.0       3.018702         6.0    0.06       1.0\n",
       "vehicle      1830.0      12.728558         6.0    0.01       1.0"
      ]
     },
     "execution_count": 77,
     "metadata": {},
     "output_type": "execute_result"
    }
   ],
   "source": [
    "firstsig.loc[words]"
   ]
  },
  {
   "cell_type": "code",
   "execution_count": 84,
   "metadata": {},
   "outputs": [],
   "source": [
    "def combine_neighbs(ndf,lim=50):\n",
    "    ndf=ndf.reset_index()\n",
    "    countd=Counter([\n",
    "        w[1:] if not w[0].isalpha() else w\n",
    "        for neighb in ndf.neighborhood1\n",
    "        for w in neighb.split(', ')\n",
    "        if w\n",
    "    ])\n",
    "    return dict(list(countd.most_common())[:lim])\n",
    "def format_neighbs(countd,other_countd,surprise='-',lim=50):    \n",
    "    return ', '.join([\n",
    "        f'{surprise+w if w not in other_countd else w}'#' ({c})'\n",
    "        for w,c in countd.items()\n",
    "    ][:lim])\n",
    "\n",
    "\n",
    "def compare_neighbs_at_changepoint(w='culture'):\n",
    "    changepoint=firstsig.loc[w].year\n",
    "#     print(f'Changepoint for {w} is {changepoint}')\n",
    "    df=DF.query(f'word==\"{w}\"').drop_duplicates(['word','year'])\n",
    "    start=df.query(f'year<{changepoint}')\n",
    "    end=df.query(f'year>={changepoint}')\n",
    "    \n",
    "    start_countd = combine_neighbs(start)\n",
    "    end_countd = combine_neighbs(end)\n",
    "#     return start_countd,end_countd\n",
    "    \n",
    "    start_str = format_neighbs(start_countd,end_countd,'-',lim=25)\n",
    "    end_str = format_neighbs(end_countd,start_countd,'+',lim=25)\n",
    "    \n",
    "    return {'Word':w,'Changepoint':int(changepoint),\n",
    "            'Semantic environment before changepoint':start_str,\n",
    "            'Semantic environment after changepoint':end_str\n",
    "           }"
   ]
  },
  {
   "cell_type": "code",
   "execution_count": 85,
   "metadata": {},
   "outputs": [],
   "source": [
    "# compare_neighbs_at_changepoint('culture')"
   ]
  },
  {
   "cell_type": "code",
   "execution_count": 91,
   "metadata": {},
   "outputs": [
    {
     "name": "stderr",
     "output_type": "stream",
     "text": [
      "Mapping compare_neighbs_at_changepoint() [x1]: 100%|██████████| 10/10 [00:00<00:00, 16.82it/s]\n"
     ]
    },
    {
     "data": {
      "text/html": [
       "<div>\n",
       "<style scoped>\n",
       "    .dataframe tbody tr th:only-of-type {\n",
       "        vertical-align: middle;\n",
       "    }\n",
       "\n",
       "    .dataframe tbody tr th {\n",
       "        vertical-align: top;\n",
       "    }\n",
       "\n",
       "    .dataframe thead th {\n",
       "        text-align: right;\n",
       "    }\n",
       "</style>\n",
       "<table border=\"1\" class=\"dataframe\">\n",
       "  <thead>\n",
       "    <tr style=\"text-align: right;\">\n",
       "      <th></th>\n",
       "      <th>Word</th>\n",
       "      <th>Changepoint</th>\n",
       "      <th>Semantic environment before changepoint</th>\n",
       "      <th>Semantic environment after changepoint</th>\n",
       "    </tr>\n",
       "  </thead>\n",
       "  <tbody>\n",
       "    <tr>\n",
       "      <th>1</th>\n",
       "      <td>circulation</td>\n",
       "      <td>1755</td>\n",
       "      <td>-animal, -stomach, -ferment, -brain, -blood, -...</td>\n",
       "      <td>+revenue, +operation, +cultivation, +manufactu...</td>\n",
       "    </tr>\n",
       "    <tr>\n",
       "      <th>2</th>\n",
       "      <td>reform</td>\n",
       "      <td>1780</td>\n",
       "      <td>-benevolence, -abuse, -exercise, -curb, -avari...</td>\n",
       "      <td>+administration, +legislature, +parliament, +g...</td>\n",
       "    </tr>\n",
       "    <tr>\n",
       "      <th>3</th>\n",
       "      <td>slave</td>\n",
       "      <td>1785</td>\n",
       "      <td>-tyrant, -pride, -wretch, -darling, -bosom, -e...</td>\n",
       "      <td>+abolition, +trade, +slavery, +commerce, +gove...</td>\n",
       "    </tr>\n",
       "    <tr>\n",
       "      <th>4</th>\n",
       "      <td>demand</td>\n",
       "      <td>1800</td>\n",
       "      <td>-consent, -interest, payment, -promise, securi...</td>\n",
       "      <td>supply, +amount, payment, +expenditure, +profi...</td>\n",
       "    </tr>\n",
       "    <tr>\n",
       "      <th>5</th>\n",
       "      <td>labourer</td>\n",
       "      <td>1815</td>\n",
       "      <td>-weaver, farmer, -butcher, -mutton, -cheese, -...</td>\n",
       "      <td>+labour, +income, farmer, +rent, tradesman, +e...</td>\n",
       "    </tr>\n",
       "    <tr>\n",
       "      <th>6</th>\n",
       "      <td>catastrophe</td>\n",
       "      <td>1820</td>\n",
       "      <td>spectacle, -stanza, -hurricane, -spectator, sc...</td>\n",
       "      <td>+event, +calamity, +crisis, +disaster, +shock,...</td>\n",
       "    </tr>\n",
       "    <tr>\n",
       "      <th>7</th>\n",
       "      <td>interest</td>\n",
       "      <td>1820</td>\n",
       "      <td>-security, -government, -support, advantage, w...</td>\n",
       "      <td>advantage, +importance, +satisfaction, +attent...</td>\n",
       "    </tr>\n",
       "    <tr>\n",
       "      <th>8</th>\n",
       "      <td>vehicle</td>\n",
       "      <td>1830</td>\n",
       "      <td>-nourishment, -colouring, -texture, -metaphor,...</td>\n",
       "      <td>+aperture, +edge, +ceiling, +pipe, +casement, ...</td>\n",
       "    </tr>\n",
       "    <tr>\n",
       "      <th>9</th>\n",
       "      <td>example</td>\n",
       "      <td>1835</td>\n",
       "      <td>-profession, -wisdom, -veneration, -attachment...</td>\n",
       "      <td>instance, +illustration, +explanation, +exposi...</td>\n",
       "    </tr>\n",
       "    <tr>\n",
       "      <th>10</th>\n",
       "      <td>service</td>\n",
       "      <td>1865</td>\n",
       "      <td>-office, -benefit, -business, -navy, -commissi...</td>\n",
       "      <td>+congregation, +parish, attendance, +church, +...</td>\n",
       "    </tr>\n",
       "  </tbody>\n",
       "</table>\n",
       "</div>"
      ],
      "text/plain": [
       "           Word  Changepoint  \\\n",
       "1   circulation         1755   \n",
       "2        reform         1780   \n",
       "3         slave         1785   \n",
       "4        demand         1800   \n",
       "5      labourer         1815   \n",
       "6   catastrophe         1820   \n",
       "7      interest         1820   \n",
       "8       vehicle         1830   \n",
       "9       example         1835   \n",
       "10      service         1865   \n",
       "\n",
       "              Semantic environment before changepoint  \\\n",
       "1   -animal, -stomach, -ferment, -brain, -blood, -...   \n",
       "2   -benevolence, -abuse, -exercise, -curb, -avari...   \n",
       "3   -tyrant, -pride, -wretch, -darling, -bosom, -e...   \n",
       "4   -consent, -interest, payment, -promise, securi...   \n",
       "5   -weaver, farmer, -butcher, -mutton, -cheese, -...   \n",
       "6   spectacle, -stanza, -hurricane, -spectator, sc...   \n",
       "7   -security, -government, -support, advantage, w...   \n",
       "8   -nourishment, -colouring, -texture, -metaphor,...   \n",
       "9   -profession, -wisdom, -veneration, -attachment...   \n",
       "10  -office, -benefit, -business, -navy, -commissi...   \n",
       "\n",
       "               Semantic environment after changepoint  \n",
       "1   +revenue, +operation, +cultivation, +manufactu...  \n",
       "2   +administration, +legislature, +parliament, +g...  \n",
       "3   +abolition, +trade, +slavery, +commerce, +gove...  \n",
       "4   supply, +amount, payment, +expenditure, +profi...  \n",
       "5   +labour, +income, farmer, +rent, tradesman, +e...  \n",
       "6   +event, +calamity, +crisis, +disaster, +shock,...  \n",
       "7   advantage, +importance, +satisfaction, +attent...  \n",
       "8   +aperture, +edge, +ceiling, +pipe, +casement, ...  \n",
       "9   instance, +illustration, +explanation, +exposi...  \n",
       "10  +congregation, +parish, attendance, +church, +...  "
      ]
     },
     "execution_count": 91,
     "metadata": {},
     "output_type": "execute_result"
    }
   ],
   "source": [
    "odf=pd.DataFrame(pmap(compare_neighbs_at_changepoint,words,num_proc=1)).sort_values('Changepoint')\n",
    "odf.index=pd.Series(list(range(len(odf))))+1\n",
    "odf"
   ]
  },
  {
   "cell_type": "code",
   "execution_count": 92,
   "metadata": {},
   "outputs": [
    {
     "data": {
      "text/markdown": [
       "|    | Word        |   Changepoint | Semantic environment before changepoint                                                                                                                                                                                                                                                            | Semantic environment after changepoint                                                                                                                                                                                                                                                                         |\n",
       "|---:|:------------|--------------:|:---------------------------------------------------------------------------------------------------------------------------------------------------------------------------------------------------------------------------------------------------------------------------------------------------|:---------------------------------------------------------------------------------------------------------------------------------------------------------------------------------------------------------------------------------------------------------------------------------------------------------------|\n",
       "|  1 | circulation |          1755 | -animal, -stomach, -ferment, -brain, -blood, -copper, fluid, mineral, -malt, pressure, -skin, -nerve, vegetable, -perspiration, -elasticity, -premium, -assurance, -oats, -cop, -loaf, -barley, -limb, -rye, -salt, -acid                                                                          | +revenue, +operation, +cultivation, +manufacture, +expenditure, +formation, +diminution, +value, +currency, +distribution, +consumption, +extension, +machinery, +agriculture, +deficiency, +reduction, +improvement, +importation, +application, +construction, +supply, +amount, +scale, +commerce, +surplus |\n",
       "|  2 | reform      |          1780 | -benevolence, -abuse, -exercise, -curb, -avarice, -hatred, -neglect, election, -subordination, -disregard, -abhorrence, -support, -unanimity, -sobriety, -enjoyment, -affection, -patriotism, -compassion, -wickedness, -extravagance, -understanding, -misery, -sacrifice, -adherence, -depravity | +administration, +legislature, +parliament, +government, +abolition, +policy, +opposition, +constitution, ministry, +legislation, +regulation, +decision, +defence, +suppression, election, +vote, +discussion, +prosecution, +adoption, +expediency, +bill, +amendment, +slavery, +scheme, +sanction          |\n",
       "|  3 | slave       |          1785 | -tyrant, -pride, -wretch, -darling, -bosom, -envy, -rage, -scorn, -bliss, -muse, -ambition, -offspring, -sway, -innocence, -lover, -woe, -nymph, -disdain, -hero, -breast, -renown, -glory, -shame, -blessing, -repose                                                                             | +abolition, +trade, +slavery, +commerce, +government, +protection, +negro, +colony, +monopoly, +taxation, +legislature, +territory, +emigration, +policy, +tax, +monarchy, +emancipation, +revenue, +traffic, +administration, +trading, +property, +jurisdiction, +tyranny, +importation                      |\n",
       "|  4 | demand      |          1800 | -consent, -interest, payment, -promise, security, money, -redress, -grant, -delay, -resolution, -refusal, -declaration, -discharge, -vote, -duty, support, -majesty, -warrant, revenue, debt, -charge, supply, accommodation, -commission, -request                                                | supply, +amount, payment, +expenditure, +profit, provision, revenue, security, support, +employment, +reduction, +maintenance, +benefit, +labour, +allowance, +outlay, +tax, +fund, deficiency, +trade, debt, +necessity, +sum, +surplus, +competition                                                         |\n",
       "|  5 | labourer    |          1815 | -weaver, farmer, -butcher, -mutton, -cheese, -pasture, tradesman, market, -bread, -sheep, farm, -meadow, -boarding, -highway, -beer, pound, -beef, -poultry, -clover, -pork, -farthing, -oatmeal, -tanner, -sight, -shire                                                                          | +labour, +income, farmer, +rent, tradesman, +employment, +tenant, +purchase, +estate, +money, +debt, +tax, +payment, +capital, +pauper, landlord, +property, +expenditure, +profit, +stock, +sum, +selling, farm, +surplus, +consumption                                                                       |\n",
       "|  6 | catastrophe |          1820 | spectacle, -stanza, -hurricane, -spectator, scene, symptom, -delirium, -conflagration, -story, -murderer, -obscurity, consciousness, -prelude, -matron, -courtesy, -narration, -volcano, -imagery, phenomenon, melancholy, -singularity, -fatality, -astronomer, agitation, -languor               | +event, +calamity, +crisis, +disaster, +shock, +confusion, +sensation, +malady, agitation, +alarm, +disappointment, +explosion, +change, +incident, +excitement, +movement, consciousness, +uncertainty, scene, +outbreak, +reaction, +impulse, +termination, +circumstance, spectacle                         |\n",
       "|  7 | interest    |          1820 | -security, -government, -support, advantage, welfare, -duty, credit, -nation, -community, -prosperity, -happiness, -revenue, -profit, -influence, -debt, -safety, -preservation, -legislature, -policy, -exercise, -constitution, -encouragement, benefit, -money, -prejudice                      | advantage, +importance, +satisfaction, +attention, +consideration, +degree, +merit, +pleasure, +success, +information, +opportunity, ability, +object, +undertaking, credit, respect, +popularity, confidence, +talent, +improvement, +curiosity, +concern, +facility, +acquaintance, +attraction              |\n",
       "|  8 | vehicle     |          1830 | -nourishment, -colouring, -texture, -metaphor, -membrane, -sulphur, -fermentation, -construction, -perspiration, -production, -illustration, -tincture, -syrup, -variable, -mechanism, -composition, -contrivance, -atmosphere, -fluid, -digestion, -sweat, -smell, -zone, -singularity, -cavity   | +aperture, +edge, +ceiling, +pipe, +casement, +lamp, +bag, +bowl, +boat, +ascent, +trunk, +gravel, +carriage, +blade, +cylinder, +cord, +smoke, +tube, +bucket, +throat, +background, +cabin, +meal, +wheel, +cask                                                                                             |\n",
       "|  9 | example     |          1835 | -profession, -wisdom, -veneration, -attachment, -disposition, -integrity, testimony, -mankind, -esteem, understanding, -goodness, -piety, instance, -zeal, -obligation, -undertaking, -happiness, -aversion, -generosity, -creator, -providence, -object, -behaviour, motive, imitation            | instance, +illustration, +explanation, +exposition, +purpose, +argument, imitation, historian, +interpretation, +anecdote, +apology, authority, +opportunity, +artist, +specimen, +preference, +scope, +essay, +translation, +element, +acknowledgment, +reason, assertion, +doctrine, testimony               |\n",
       "| 10 | service     |          1865 | -office, -benefit, -business, -navy, -commission, duty, attendance, profession, -army, -assistance, -maintenance, employment, -station, -council, minister, -command, -security, appointment, -welfare, -company, ministry, -discharge, -favour, -honour, -protection                              | +congregation, +parish, attendance, +church, +choir, +organist, +communion, +festival, +cathedral, +celebration, appointment, +diocese, +chapel, +anthem, +worship, +sunday, establishment, +practice, ministry, +promotion, minister, kingdom, +prayer, +morn, +credo                                         |"
      ],
      "text/plain": [
       "<IPython.core.display.Markdown object>"
      ]
     },
     "metadata": {},
     "output_type": "display_data"
    }
   ],
   "source": [
    "printm(odf.to_markdown())"
   ]
  },
  {
   "cell_type": "code",
   "execution_count": 88,
   "metadata": {},
   "outputs": [
    {
     "data": {
      "text/plain": [
       "10"
      ]
     },
     "execution_count": 88,
     "metadata": {},
     "output_type": "execute_result"
    }
   ],
   "source": [
    "len(odf)"
   ]
  },
  {
   "cell_type": "code",
   "execution_count": 71,
   "metadata": {},
   "outputs": [],
   "source": [
    "swas=get_word_abstractness_scores()"
   ]
  },
  {
   "cell_type": "code",
   "execution_count": 72,
   "metadata": {},
   "outputs": [
    {
     "data": {
      "text/plain": [
       "1700"
      ]
     },
     "execution_count": 72,
     "metadata": {},
     "output_type": "execute_result"
    }
   ],
   "source": [
    "# def prdz(y,ystart=1710,yend=3000,ystep=40):\n",
    "def prdz(y,ystart=1600,yend=3000,ystep=20):\n",
    "    ln=None\n",
    "    for n in range(ystart,yend,ystep):\n",
    "        if ln is None: ln=n\n",
    "        if y<n: return ln\n",
    "        ln=n\n",
    "        \n",
    "prdz(1715)"
   ]
  },
  {
   "cell_type": "code",
   "execution_count": 73,
   "metadata": {},
   "outputs": [
    {
     "ename": "NameError",
     "evalue": "name 'dfres' is not defined",
     "output_type": "error",
     "traceback": [
      "\u001b[0;31m---------------------------------------------------------------------------\u001b[0m",
      "\u001b[0;31mNameError\u001b[0m                                 Traceback (most recent call last)",
      "\u001b[0;32m<ipython-input-73-28f473540353>\u001b[0m in \u001b[0;36m<module>\u001b[0;34m\u001b[0m\n\u001b[0;32m----> 1\u001b[0;31m \u001b[0mdfres6\u001b[0m\u001b[0;34m=\u001b[0m\u001b[0mdfres\u001b[0m\u001b[0;34m.\u001b[0m\u001b[0mquery\u001b[0m\u001b[0;34m(\u001b[0m\u001b[0;34m'foote_size==6'\u001b[0m\u001b[0;34m)\u001b[0m\u001b[0;34m\u001b[0m\u001b[0;34m\u001b[0m\u001b[0m\n\u001b[0m\u001b[1;32m      2\u001b[0m \u001b[0mdfres6\u001b[0m\u001b[0;34m\u001b[0m\u001b[0;34m\u001b[0m\u001b[0m\n",
      "\u001b[0;31mNameError\u001b[0m: name 'dfres' is not defined"
     ]
    }
   ],
   "source": [
    "dfres6=dfres.query('foote_size==6')\n",
    "dfres6"
   ]
  },
  {
   "cell_type": "code",
   "execution_count": null,
   "metadata": {},
   "outputs": [],
   "source": [
    "dfres6"
   ]
  },
  {
   "cell_type": "code",
   "execution_count": null,
   "metadata": {},
   "outputs": [],
   "source": []
  },
  {
   "cell_type": "code",
   "execution_count": 5,
   "metadata": {},
   "outputs": [],
   "source": [
    "def to_neighb_str(neighb_str,min_count=5,max_len=25):\n",
    "    return ', '.join([\n",
    "        w.split()[0]\n",
    "        for w in neighb_str.split(', ')\n",
    "        if int(w.split('(')[-1].split(')')[0])>=min_count\n",
    "    ][:max_len])"
   ]
  },
  {
   "cell_type": "code",
   "execution_count": null,
   "metadata": {},
   "outputs": [],
   "source": []
  },
  {
   "cell_type": "code",
   "execution_count": 4,
   "metadata": {},
   "outputs": [
    {
     "ename": "KeyError",
     "evalue": "'relationship'",
     "output_type": "error",
     "traceback": [
      "\u001b[0;31m---------------------------------------------------------------------------\u001b[0m",
      "\u001b[0;31mKeyError\u001b[0m                                  Traceback (most recent call last)",
      "\u001b[0;32m~/miniconda3/lib/python3.7/site-packages/pandas/core/indexes/base.py\u001b[0m in \u001b[0;36mget_loc\u001b[0;34m(self, key, method, tolerance)\u001b[0m\n\u001b[1;32m   2894\u001b[0m             \u001b[0;32mtry\u001b[0m\u001b[0;34m:\u001b[0m\u001b[0;34m\u001b[0m\u001b[0;34m\u001b[0m\u001b[0m\n\u001b[0;32m-> 2895\u001b[0;31m                 \u001b[0;32mreturn\u001b[0m \u001b[0mself\u001b[0m\u001b[0;34m.\u001b[0m\u001b[0m_engine\u001b[0m\u001b[0;34m.\u001b[0m\u001b[0mget_loc\u001b[0m\u001b[0;34m(\u001b[0m\u001b[0mcasted_key\u001b[0m\u001b[0;34m)\u001b[0m\u001b[0;34m\u001b[0m\u001b[0;34m\u001b[0m\u001b[0m\n\u001b[0m\u001b[1;32m   2896\u001b[0m             \u001b[0;32mexcept\u001b[0m \u001b[0mKeyError\u001b[0m \u001b[0;32mas\u001b[0m \u001b[0merr\u001b[0m\u001b[0;34m:\u001b[0m\u001b[0;34m\u001b[0m\u001b[0;34m\u001b[0m\u001b[0m\n",
      "\u001b[0;32mpandas/_libs/index.pyx\u001b[0m in \u001b[0;36mpandas._libs.index.IndexEngine.get_loc\u001b[0;34m()\u001b[0m\n",
      "\u001b[0;32mpandas/_libs/index.pyx\u001b[0m in \u001b[0;36mpandas._libs.index.IndexEngine.get_loc\u001b[0;34m()\u001b[0m\n",
      "\u001b[0;32mpandas/_libs/hashtable_class_helper.pxi\u001b[0m in \u001b[0;36mpandas._libs.hashtable.PyObjectHashTable.get_item\u001b[0;34m()\u001b[0m\n",
      "\u001b[0;32mpandas/_libs/hashtable_class_helper.pxi\u001b[0m in \u001b[0;36mpandas._libs.hashtable.PyObjectHashTable.get_item\u001b[0;34m()\u001b[0m\n",
      "\u001b[0;31mKeyError\u001b[0m: 'relationship'",
      "\nThe above exception was the direct cause of the following exception:\n",
      "\u001b[0;31mKeyError\u001b[0m                                  Traceback (most recent call last)",
      "\u001b[0;32m<ipython-input-4-2ee42535846f>\u001b[0m in \u001b[0;36m<module>\u001b[0;34m\u001b[0m\n\u001b[1;32m      6\u001b[0m         \u001b[0;34m'neighborhood2'\u001b[0m\u001b[0;34m:\u001b[0m\u001b[0mto_neighb_str\u001b[0m\u001b[0;34m(\u001b[0m\u001b[0mdfchange\u001b[0m\u001b[0;34m.\u001b[0m\u001b[0mloc\u001b[0m\u001b[0;34m[\u001b[0m\u001b[0mw\u001b[0m\u001b[0;34m]\u001b[0m\u001b[0;34m.\u001b[0m\u001b[0mneighborhood2_local\u001b[0m\u001b[0;34m)\u001b[0m\u001b[0;34m,\u001b[0m\u001b[0;34m\u001b[0m\u001b[0;34m\u001b[0m\u001b[0m\n\u001b[1;32m      7\u001b[0m         \u001b[0;34m'perc_local'\u001b[0m\u001b[0;34m:\u001b[0m\u001b[0mround\u001b[0m\u001b[0;34m(\u001b[0m\u001b[0mdfchange\u001b[0m\u001b[0;34m.\u001b[0m\u001b[0mloc\u001b[0m\u001b[0;34m[\u001b[0m\u001b[0mw\u001b[0m\u001b[0;34m]\u001b[0m\u001b[0;34m.\u001b[0m\u001b[0mperc_local\u001b[0m\u001b[0;34m,\u001b[0m\u001b[0;36m1\u001b[0m\u001b[0;34m)\u001b[0m\u001b[0;34m\u001b[0m\u001b[0;34m\u001b[0m\u001b[0m\n\u001b[0;32m----> 8\u001b[0;31m     } for w in words\n\u001b[0m\u001b[1;32m      9\u001b[0m ]).sort_values('word').set_index('word')\n\u001b[1;32m     10\u001b[0m \u001b[0;31m# odf\u001b[0m\u001b[0;34m\u001b[0m\u001b[0;34m\u001b[0m\u001b[0;34m\u001b[0m\u001b[0m\n",
      "\u001b[0;32m<ipython-input-4-2ee42535846f>\u001b[0m in \u001b[0;36m<listcomp>\u001b[0;34m(.0)\u001b[0m\n\u001b[1;32m      6\u001b[0m         \u001b[0;34m'neighborhood2'\u001b[0m\u001b[0;34m:\u001b[0m\u001b[0mto_neighb_str\u001b[0m\u001b[0;34m(\u001b[0m\u001b[0mdfchange\u001b[0m\u001b[0;34m.\u001b[0m\u001b[0mloc\u001b[0m\u001b[0;34m[\u001b[0m\u001b[0mw\u001b[0m\u001b[0;34m]\u001b[0m\u001b[0;34m.\u001b[0m\u001b[0mneighborhood2_local\u001b[0m\u001b[0;34m)\u001b[0m\u001b[0;34m,\u001b[0m\u001b[0;34m\u001b[0m\u001b[0;34m\u001b[0m\u001b[0m\n\u001b[1;32m      7\u001b[0m         \u001b[0;34m'perc_local'\u001b[0m\u001b[0;34m:\u001b[0m\u001b[0mround\u001b[0m\u001b[0;34m(\u001b[0m\u001b[0mdfchange\u001b[0m\u001b[0;34m.\u001b[0m\u001b[0mloc\u001b[0m\u001b[0;34m[\u001b[0m\u001b[0mw\u001b[0m\u001b[0;34m]\u001b[0m\u001b[0;34m.\u001b[0m\u001b[0mperc_local\u001b[0m\u001b[0;34m,\u001b[0m\u001b[0;36m1\u001b[0m\u001b[0;34m)\u001b[0m\u001b[0;34m\u001b[0m\u001b[0;34m\u001b[0m\u001b[0m\n\u001b[0;32m----> 8\u001b[0;31m     } for w in words\n\u001b[0m\u001b[1;32m      9\u001b[0m ]).sort_values('word').set_index('word')\n\u001b[1;32m     10\u001b[0m \u001b[0;31m# odf\u001b[0m\u001b[0;34m\u001b[0m\u001b[0;34m\u001b[0m\u001b[0;34m\u001b[0m\u001b[0m\n",
      "\u001b[0;32m~/miniconda3/lib/python3.7/site-packages/pandas/core/indexing.py\u001b[0m in \u001b[0;36m__getitem__\u001b[0;34m(self, key)\u001b[0m\n\u001b[1;32m    877\u001b[0m \u001b[0;34m\u001b[0m\u001b[0m\n\u001b[1;32m    878\u001b[0m             \u001b[0mmaybe_callable\u001b[0m \u001b[0;34m=\u001b[0m \u001b[0mcom\u001b[0m\u001b[0;34m.\u001b[0m\u001b[0mapply_if_callable\u001b[0m\u001b[0;34m(\u001b[0m\u001b[0mkey\u001b[0m\u001b[0;34m,\u001b[0m \u001b[0mself\u001b[0m\u001b[0;34m.\u001b[0m\u001b[0mobj\u001b[0m\u001b[0;34m)\u001b[0m\u001b[0;34m\u001b[0m\u001b[0;34m\u001b[0m\u001b[0m\n\u001b[0;32m--> 879\u001b[0;31m             \u001b[0;32mreturn\u001b[0m \u001b[0mself\u001b[0m\u001b[0;34m.\u001b[0m\u001b[0m_getitem_axis\u001b[0m\u001b[0;34m(\u001b[0m\u001b[0mmaybe_callable\u001b[0m\u001b[0;34m,\u001b[0m \u001b[0maxis\u001b[0m\u001b[0;34m=\u001b[0m\u001b[0maxis\u001b[0m\u001b[0;34m)\u001b[0m\u001b[0;34m\u001b[0m\u001b[0;34m\u001b[0m\u001b[0m\n\u001b[0m\u001b[1;32m    880\u001b[0m \u001b[0;34m\u001b[0m\u001b[0m\n\u001b[1;32m    881\u001b[0m     \u001b[0;32mdef\u001b[0m \u001b[0m_is_scalar_access\u001b[0m\u001b[0;34m(\u001b[0m\u001b[0mself\u001b[0m\u001b[0;34m,\u001b[0m \u001b[0mkey\u001b[0m\u001b[0;34m:\u001b[0m \u001b[0mTuple\u001b[0m\u001b[0;34m)\u001b[0m\u001b[0;34m:\u001b[0m\u001b[0;34m\u001b[0m\u001b[0;34m\u001b[0m\u001b[0m\n",
      "\u001b[0;32m~/miniconda3/lib/python3.7/site-packages/pandas/core/indexing.py\u001b[0m in \u001b[0;36m_getitem_axis\u001b[0;34m(self, key, axis)\u001b[0m\n\u001b[1;32m   1108\u001b[0m         \u001b[0;31m# fall thru to straight lookup\u001b[0m\u001b[0;34m\u001b[0m\u001b[0;34m\u001b[0m\u001b[0;34m\u001b[0m\u001b[0m\n\u001b[1;32m   1109\u001b[0m         \u001b[0mself\u001b[0m\u001b[0;34m.\u001b[0m\u001b[0m_validate_key\u001b[0m\u001b[0;34m(\u001b[0m\u001b[0mkey\u001b[0m\u001b[0;34m,\u001b[0m \u001b[0maxis\u001b[0m\u001b[0;34m)\u001b[0m\u001b[0;34m\u001b[0m\u001b[0;34m\u001b[0m\u001b[0m\n\u001b[0;32m-> 1110\u001b[0;31m         \u001b[0;32mreturn\u001b[0m \u001b[0mself\u001b[0m\u001b[0;34m.\u001b[0m\u001b[0m_get_label\u001b[0m\u001b[0;34m(\u001b[0m\u001b[0mkey\u001b[0m\u001b[0;34m,\u001b[0m \u001b[0maxis\u001b[0m\u001b[0;34m=\u001b[0m\u001b[0maxis\u001b[0m\u001b[0;34m)\u001b[0m\u001b[0;34m\u001b[0m\u001b[0;34m\u001b[0m\u001b[0m\n\u001b[0m\u001b[1;32m   1111\u001b[0m \u001b[0;34m\u001b[0m\u001b[0m\n\u001b[1;32m   1112\u001b[0m     \u001b[0;32mdef\u001b[0m \u001b[0m_get_slice_axis\u001b[0m\u001b[0;34m(\u001b[0m\u001b[0mself\u001b[0m\u001b[0;34m,\u001b[0m \u001b[0mslice_obj\u001b[0m\u001b[0;34m:\u001b[0m \u001b[0mslice\u001b[0m\u001b[0;34m,\u001b[0m \u001b[0maxis\u001b[0m\u001b[0;34m:\u001b[0m \u001b[0mint\u001b[0m\u001b[0;34m)\u001b[0m\u001b[0;34m:\u001b[0m\u001b[0;34m\u001b[0m\u001b[0;34m\u001b[0m\u001b[0m\n",
      "\u001b[0;32m~/miniconda3/lib/python3.7/site-packages/pandas/core/indexing.py\u001b[0m in \u001b[0;36m_get_label\u001b[0;34m(self, label, axis)\u001b[0m\n\u001b[1;32m   1057\u001b[0m     \u001b[0;32mdef\u001b[0m \u001b[0m_get_label\u001b[0m\u001b[0;34m(\u001b[0m\u001b[0mself\u001b[0m\u001b[0;34m,\u001b[0m \u001b[0mlabel\u001b[0m\u001b[0;34m,\u001b[0m \u001b[0maxis\u001b[0m\u001b[0;34m:\u001b[0m \u001b[0mint\u001b[0m\u001b[0;34m)\u001b[0m\u001b[0;34m:\u001b[0m\u001b[0;34m\u001b[0m\u001b[0;34m\u001b[0m\u001b[0m\n\u001b[1;32m   1058\u001b[0m         \u001b[0;31m# GH#5667 this will fail if the label is not present in the axis.\u001b[0m\u001b[0;34m\u001b[0m\u001b[0;34m\u001b[0m\u001b[0;34m\u001b[0m\u001b[0m\n\u001b[0;32m-> 1059\u001b[0;31m         \u001b[0;32mreturn\u001b[0m \u001b[0mself\u001b[0m\u001b[0;34m.\u001b[0m\u001b[0mobj\u001b[0m\u001b[0;34m.\u001b[0m\u001b[0mxs\u001b[0m\u001b[0;34m(\u001b[0m\u001b[0mlabel\u001b[0m\u001b[0;34m,\u001b[0m \u001b[0maxis\u001b[0m\u001b[0;34m=\u001b[0m\u001b[0maxis\u001b[0m\u001b[0;34m)\u001b[0m\u001b[0;34m\u001b[0m\u001b[0;34m\u001b[0m\u001b[0m\n\u001b[0m\u001b[1;32m   1060\u001b[0m \u001b[0;34m\u001b[0m\u001b[0m\n\u001b[1;32m   1061\u001b[0m     \u001b[0;32mdef\u001b[0m \u001b[0m_handle_lowerdim_multi_index_axis0\u001b[0m\u001b[0;34m(\u001b[0m\u001b[0mself\u001b[0m\u001b[0;34m,\u001b[0m \u001b[0mtup\u001b[0m\u001b[0;34m:\u001b[0m \u001b[0mTuple\u001b[0m\u001b[0;34m)\u001b[0m\u001b[0;34m:\u001b[0m\u001b[0;34m\u001b[0m\u001b[0;34m\u001b[0m\u001b[0m\n",
      "\u001b[0;32m~/miniconda3/lib/python3.7/site-packages/pandas/core/generic.py\u001b[0m in \u001b[0;36mxs\u001b[0;34m(self, key, axis, level, drop_level)\u001b[0m\n\u001b[1;32m   3489\u001b[0m             \u001b[0mloc\u001b[0m\u001b[0;34m,\u001b[0m \u001b[0mnew_index\u001b[0m \u001b[0;34m=\u001b[0m \u001b[0mself\u001b[0m\u001b[0;34m.\u001b[0m\u001b[0mindex\u001b[0m\u001b[0;34m.\u001b[0m\u001b[0mget_loc_level\u001b[0m\u001b[0;34m(\u001b[0m\u001b[0mkey\u001b[0m\u001b[0;34m,\u001b[0m \u001b[0mdrop_level\u001b[0m\u001b[0;34m=\u001b[0m\u001b[0mdrop_level\u001b[0m\u001b[0;34m)\u001b[0m\u001b[0;34m\u001b[0m\u001b[0;34m\u001b[0m\u001b[0m\n\u001b[1;32m   3490\u001b[0m         \u001b[0;32melse\u001b[0m\u001b[0;34m:\u001b[0m\u001b[0;34m\u001b[0m\u001b[0;34m\u001b[0m\u001b[0m\n\u001b[0;32m-> 3491\u001b[0;31m             \u001b[0mloc\u001b[0m \u001b[0;34m=\u001b[0m \u001b[0mself\u001b[0m\u001b[0;34m.\u001b[0m\u001b[0mindex\u001b[0m\u001b[0;34m.\u001b[0m\u001b[0mget_loc\u001b[0m\u001b[0;34m(\u001b[0m\u001b[0mkey\u001b[0m\u001b[0;34m)\u001b[0m\u001b[0;34m\u001b[0m\u001b[0;34m\u001b[0m\u001b[0m\n\u001b[0m\u001b[1;32m   3492\u001b[0m \u001b[0;34m\u001b[0m\u001b[0m\n\u001b[1;32m   3493\u001b[0m             \u001b[0;32mif\u001b[0m \u001b[0misinstance\u001b[0m\u001b[0;34m(\u001b[0m\u001b[0mloc\u001b[0m\u001b[0;34m,\u001b[0m \u001b[0mnp\u001b[0m\u001b[0;34m.\u001b[0m\u001b[0mndarray\u001b[0m\u001b[0;34m)\u001b[0m\u001b[0;34m:\u001b[0m\u001b[0;34m\u001b[0m\u001b[0;34m\u001b[0m\u001b[0m\n",
      "\u001b[0;32m~/miniconda3/lib/python3.7/site-packages/pandas/core/indexes/base.py\u001b[0m in \u001b[0;36mget_loc\u001b[0;34m(self, key, method, tolerance)\u001b[0m\n\u001b[1;32m   2895\u001b[0m                 \u001b[0;32mreturn\u001b[0m \u001b[0mself\u001b[0m\u001b[0;34m.\u001b[0m\u001b[0m_engine\u001b[0m\u001b[0;34m.\u001b[0m\u001b[0mget_loc\u001b[0m\u001b[0;34m(\u001b[0m\u001b[0mcasted_key\u001b[0m\u001b[0;34m)\u001b[0m\u001b[0;34m\u001b[0m\u001b[0;34m\u001b[0m\u001b[0m\n\u001b[1;32m   2896\u001b[0m             \u001b[0;32mexcept\u001b[0m \u001b[0mKeyError\u001b[0m \u001b[0;32mas\u001b[0m \u001b[0merr\u001b[0m\u001b[0;34m:\u001b[0m\u001b[0;34m\u001b[0m\u001b[0;34m\u001b[0m\u001b[0m\n\u001b[0;32m-> 2897\u001b[0;31m                 \u001b[0;32mraise\u001b[0m \u001b[0mKeyError\u001b[0m\u001b[0;34m(\u001b[0m\u001b[0mkey\u001b[0m\u001b[0;34m)\u001b[0m \u001b[0;32mfrom\u001b[0m \u001b[0merr\u001b[0m\u001b[0;34m\u001b[0m\u001b[0;34m\u001b[0m\u001b[0m\n\u001b[0m\u001b[1;32m   2898\u001b[0m \u001b[0;34m\u001b[0m\u001b[0m\n\u001b[1;32m   2899\u001b[0m         \u001b[0;32mif\u001b[0m \u001b[0mtolerance\u001b[0m \u001b[0;32mis\u001b[0m \u001b[0;32mnot\u001b[0m \u001b[0;32mNone\u001b[0m\u001b[0;34m:\u001b[0m\u001b[0;34m\u001b[0m\u001b[0;34m\u001b[0m\u001b[0m\n",
      "\u001b[0;31mKeyError\u001b[0m: 'relationship'"
     ]
    }
   ],
   "source": [
    "dfchange=get_dfchange()\n",
    "odf = pd.DataFrame([\n",
    "    {\n",
    "        'word':w,\n",
    "        'neighborhood1':to_neighb_str(dfchange.loc[w].neighborhood1_local),\n",
    "        'neighborhood2':to_neighb_str(dfchange.loc[w].neighborhood2_local),\n",
    "        'perc_local':round(dfchange.loc[w].perc_local,1)\n",
    "    } for w in words\n",
    "]).sort_values('word').set_index('word')\n",
    "# odf\n",
    "printm(odf.to_markdown())"
   ]
  },
  {
   "cell_type": "code",
   "execution_count": null,
   "metadata": {},
   "outputs": [],
   "source": []
  },
  {
   "cell_type": "code",
   "execution_count": 76,
   "metadata": {},
   "outputs": [
    {
     "data": {
      "text/markdown": [
       "| word         | neighborhood1                                                                                                                                                                                                                                                                                                                                    | neighborhood2                                                                                                                                                                                                                                                                                                                               |   perc_local |\n",
       "|:-------------|:-------------------------------------------------------------------------------------------------------------------------------------------------------------------------------------------------------------------------------------------------------------------------------------------------------------------------------------------------|:--------------------------------------------------------------------------------------------------------------------------------------------------------------------------------------------------------------------------------------------------------------------------------------------------------------------------------------------|-------------:|\n",
       "| catastrophe  | scene (10), -soliloquy (10), tragedy (10), -story (10), circumstance (10), -recital (10), apparition (10), -narrative (10), disappointment (10), spectacle (10), -plot (10), event (10), -narration (10), episode (9), -prelude (9), -drama (9), disaster (9), suicide (9), massacre (9), -conspiracy (9)                                        | disaster (10), calamity (10), event (10), crisis (10), +explosion (10), +convulsion (10), +panic (10), conflagration (10), +termination (10), +commotion (10), +fate (10), +retribution (10), +malady (10), earthquake (10), +disturbance (10), +shock (10), massacre (10), +fatality (10), incident (10), destruction (10)                 |         69.6 |\n",
       "| circulation  | -digestion (10), fluid (10), -perspiration (10), -fermentation (10), -nerve (10), -moisture (10), respiration (10), evaporation (10), contraction (10), ferment (10), -fibre (10), -tension (10), -elasticity (10), -texture (10), -irritation (10), -bile (10), -acidity (10), -animal (10), -sap (10), -acid (10)                              | +publication (10), +currency (10), +periodical (10), +distribution (10), +press (10), +amount (10), +quantity (10), +sale (10), +bulk (10), +popularity (10), +exportation (10), +bullion (10), +demand (10), +surplus (10), +sales (10), +reduction (10), +consumption (10), +number (10), +extension (10), +value (10)                    |         92.2 |\n",
       "| citizen      | -freeman (10), tradesman (10), alderman (10), shopkeeper (10), -barber (10), -squire (10), senator (10), -holder (10), englishman (10), scholar (10), courtier (10), labourer (10), -comedian (10), politician (10), -goldsmith (10), -grocer (10), merchant (10), statesman (10), lawyer (10), apprentice (10)                                  | senator (10), tradesman (10), patriot (10), statesman (10), englishman (10), +soldier (10), nobleman (10), banker (10), politician (10), +frenchman (10), merchant (10), man (10), trader (10), adventurer (10), +elector (10), foreigner (10), +legislator (10), inhabitant (10), member (10), +defender (9)                               |         71.1 |\n",
       "| demand       | -refusal (10), -reparation (10), compensation (10), restitution (10), subsidy (10), payment (10), -delay (10), -declaration (10), -acknowledgment (10), -grant (10), -promise (10), -renunciation (10), contract (10), -ransom (10), -purchase (10), claim (10), proposal (10), -neutrality (10), -majesty (10), -money (10)                     | reduction (10), exportation (10), +deficiency (10), +consumer (10), augmentation (10), +supply (10), +necessity (10), +importation (10), provision (10), compensation (10), payment (10), +amount (10), +commodity (10), +taxation (10), +discount (10), allowance (10), +tariff (10), +surplus (10), prohibition (10), concession (10)     |         82.2 |\n",
       "| insurrection | invasion (10), revolt (10), rebellion (10), defeat (10), -enterprise (10), -inundation (10), assault (10), edict (10), earthquake (10), army (10), usurper (10), conspiracy (10), confederacy (10), usurpation (10), outcry (10), -innovation (10), -rumour (10), soldiery (10), -consternation (10), -ruffian (10)                              | rebellion (10), revolt (10), invasion (10), disaffection (10), +evacuation (10), massacre (10), conspiracy (10), mutiny (10), anarchy (10), invader (10), +bombardment (10), +campaign (10), confederacy (10), edict (10), defeat (10), +capitulation (10), soldiery (10), panic (10), +republic (10), +siege (10)                          |         38.7 |\n",
       "| labourer     | farmer (10), tradesman (10), butcher (10), shopkeeper (10), weaver (10), landlord (10), apprentice (10), beggar (10), -cheese (10), -manufacturer (10), -carrier (10), shoemaker (10), peasant (10), sheep (10), -barber (10), -sailor (10), farm (10), -barn (10), -parish (9), publican (9)                                                    | farmer (10), workman (10), +mechanic (10), +employer (10), planter (10), tradesman (10), labour (10), farming (10), peasant (10), tenant (10), landlord (10), shopkeeper (10), +employment (10), livelihood (10), consumer (10), shoemaker (10), farm (10), +trader (10), plough (10), subsistence (10)                                     |         71.3 |\n",
       "| reform       | reformation (10), -edification (10), -neglect (10), -curb (10), -immorality (10), -discipline (10), -licentiousness (10), -exercise (10), -prejudice (10), -teaching (10), -superstition (10), -idleness (10), -disregard (10), sedition (10), -institution (10), -bigotry (10), -ignorance (10), -incline (10), -religion (10), -adherence (10) | +abolition (10), +amendment (10), +ballot (10), +bill (10), +democracy (10), reformation (10), +opposition (10), +parliament (10), +administration (10), +ministry (10), +legislature (10), policy (10), +toleration (10), +suffrage (10), +extension (10), +session (10), +convocation (10), +debate (10), +reformer (10), +agitation (10) |         95.3 |\n",
       "| service      | commission (10), maintenance (10), -recruiting (10), -revenue (10), navy (10), employment (10), discharge (10), assistance (10), -benefit (10), militia (10), -readiness (10), -station (10), duty (10), -money (10), business (10), -augmentation (10), -support (10), -sake (10), -interest (10), -security (10)                               | +celebration (10), +appointment (10), +promotion (10), +organist (10), navy (10), +anthem (10), militia (10), +choir (10), +communion (10), +chaplain (10), +ceremony (10), +worship (10), +consecration (10), regiment (10), duty (10), attendance (10), office (10), mission (10), +prayer (10), discharge (10)                           |         85.9 |\n",
       "| slave        | tyrant (10), -wretch (10), -victim (10), -traitor (10), -coward (10), -scorn (10), -dupe (10), -fool (10), -miser (10), -darling (10), -beggar (10), -mistress (10), -monarch (10), -villain (10), -hypocrite (10), -disdain (10), -knave (10), scourge (10), curse (10), -prey (10)                                                             | +negro (10), slavery (10), +planter (10), +trader (10), +contraband (10), +serf (10), +piracy (10), +fugitive (10), +traffic (10), +galley (10), +servitude (10), bondage (10), +smuggling (10), +trade (10), +trading (10), +abolition (10), +monopoly (10), +colony (10), +suppression (10), +opium (10)                                  |         97   |\n",
       "| vehicle      | -ingredient (10), -nourishment (10), apparatus (10), -sulphur (10), -composition (10), -organization (10), -liquor (10), -acid (10), -juice (10), -membrane (10), -fluid (10), -moisture (10), -fermentation (10), -vapour (10), -texture (10), -alkali (10), receptacle (9), -preparation (9), -mechanism (9), -tincture (9)                    | +driver (10), +coach (10), +cart (10), +carriage (10), +cab (10), +coachman (10), conveyance (10), +gig (10), +mule (10), +baggage (10), +equipage (10), +chaise (10), +train (10), +passenger (10), +engine (10), +horse (10), +omnibus (10), +saddle (10), +bridle (10), +car (10)                                                        |         96.7 |"
      ],
      "text/plain": [
       "<IPython.core.display.Markdown object>"
      ]
     },
     "metadata": {},
     "output_type": "display_data"
    }
   ],
   "source": []
  },
  {
   "cell_type": "code",
   "execution_count": null,
   "metadata": {},
   "outputs": [],
   "source": []
  },
  {
   "cell_type": "code",
   "execution_count": null,
   "metadata": {},
   "outputs": [],
   "source": []
  }
 ],
 "metadata": {
  "kernelspec": {
   "display_name": "Python 3",
   "language": "python",
   "name": "python3"
  },
  "language_info": {
   "codemirror_mode": {
    "name": "ipython",
    "version": 3
   },
   "file_extension": ".py",
   "mimetype": "text/x-python",
   "name": "python",
   "nbconvert_exporter": "python",
   "pygments_lexer": "ipython3",
   "version": "3.7.7"
  },
  "toc": {
   "base_numbering": 1,
   "nav_menu": {},
   "number_sections": false,
   "sideBar": false,
   "skip_h1_title": false,
   "title_cell": "Table of Contents",
   "title_sidebar": "Contents",
   "toc_cell": false,
   "toc_position": {},
   "toc_section_display": false,
   "toc_window_display": false
  },
  "widgets": {
   "application/vnd.jupyter.widget-state+json": {
    "state": {},
    "version_major": 2,
    "version_minor": 0
   }
  }
 },
 "nbformat": 4,
 "nbformat_minor": 4
}
