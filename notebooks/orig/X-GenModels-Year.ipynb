{
 "cells": [
  {
   "cell_type": "markdown",
   "metadata": {},
   "source": [
    "# BPO"
   ]
  },
  {
   "cell_type": "code",
   "execution_count": null,
   "metadata": {},
   "outputs": [],
   "source": [
    "from koselleck import *"
   ]
  },
  {
   "cell_type": "code",
   "execution_count": null,
   "metadata": {},
   "outputs": [],
   "source": [
    "def periodize(y,ybin=2):\n",
    "    y1=y//ybin*ybin\n",
    "    y2=y1+ybin\n",
    "    return f'{y1}-{y2}'"
   ]
  },
  {
   "cell_type": "code",
   "execution_count": null,
   "metadata": {},
   "outputs": [],
   "source": [
    "dfskip=get_skipgrams()\n",
    "dfskip['period']=dfskip.year.apply(periodize)\n",
    "dfskip=dfskip.query('1700<=year<1900')\n",
    "# dfskip"
   ]
  },
  {
   "cell_type": "code",
   "execution_count": 63,
   "metadata": {},
   "outputs": [],
   "source": [
    "dfskipruns=pd.concat([\n",
    "    dfskip.assign(run=f'run_{str(i+1).zfill(2)}')\n",
    "    for i in range(25)\n",
    "])\n",
    "dfskipruns['opath']=dfskipruns.apply(lambda row: os.path.join(PATH_MODELS_NEW,row.corpus,row.period,row.run,'model.bin'),1)\n",
    "dfskipruns['opath_exists']=dfskipruns.opath.apply(lambda x: os.path.exists(x))\n",
    "dfskipruns=dfskipruns.query('run!=\"run_01\"')\n",
    "# dfskipruns=dfskipruns[dfskipruns.opath_exists==False]\n",
    "# dfskipruns"
   ]
  },
  {
   "cell_type": "code",
   "execution_count": null,
   "metadata": {},
   "outputs": [],
   "source": [
    "# for x in ss2: print(x)"
   ]
  },
  {
   "cell_type": "code",
   "execution_count": null,
   "metadata": {},
   "outputs": [],
   "source": [
    "tokenize_fast('hello,--hewrwe,rwerwerweot,@223-|world')"
   ]
  },
  {
   "cell_type": "code",
   "execution_count": null,
   "metadata": {},
   "outputs": [],
   "source": [
    "enable_gensim_logging()"
   ]
  },
  {
   "cell_type": "code",
   "execution_count": null,
   "metadata": {},
   "outputs": [],
   "source": [
    "def gen_and_save_model(dfskip,nskip=DEFAULT_NUM_SKIP,force=False,vector_size=100,window=10,min_count=5,epochs=10,workers=8):\n",
    "    row=dfskip.iloc[0]\n",
    "    odir=os.path.join(PATH_MODELS_NEW,row.corpus,row.period,row.run)\n",
    "    ofnfn=os.path.join(odir,'model.bin')\n",
    "    if force or not os.path.exists(ofnfn):\n",
    "        ensure_dir_exists(odir)\n",
    "        ss=SkipgramsSamplers(dfskip.path, nskip)\n",
    "        model = Word2Vec(sentences=ss,vector_size=vector_size,window=window,min_count=min_count,epochs=epochs,workers=workers)\n",
    "        model.save(ofnfn)\n",
    "    return pd.DataFrame()\n",
    "\n",
    "# model.wv.most_similar('value',topn=25)"
   ]
  },
  {
   "cell_type": "code",
   "execution_count": null,
   "metadata": {},
   "outputs": [],
   "source": [
    "gen_and_save_model(dfskipruns.iloc[:1],force=True,nskip=100000,epochs=10)"
   ]
  },
  {
   "cell_type": "code",
   "execution_count": null,
   "metadata": {},
   "outputs": [],
   "source": [
    "m=load_model('/home/ryan/github/koselleck/data/models/bpo/1700-1702/run_01/model.bin')"
   ]
  },
  {
   "cell_type": "code",
   "execution_count": null,
   "metadata": {},
   "outputs": [],
   "source": []
  },
  {
   "cell_type": "code",
   "execution_count": null,
   "metadata": {},
   "outputs": [],
   "source": [
    "m.wv.get_vecattr(\"calv'd\",'count')"
   ]
  },
  {
   "cell_type": "code",
   "execution_count": null,
   "metadata": {},
   "outputs": [],
   "source": [
    "# tokenize(None)#  retretre erter err\\n\\n')"
   ]
  },
  {
   "cell_type": "code",
   "execution_count": null,
   "metadata": {},
   "outputs": [],
   "source": [
    "# gen_and_save_model(dfskipruns.iloc[:1],force=True)"
   ]
  },
  {
   "cell_type": "code",
   "execution_count": null,
   "metadata": {},
   "outputs": [],
   "source": [
    "gby=['period','run']"
   ]
  },
  {
   "cell_type": "code",
   "execution_count": null,
   "metadata": {},
   "outputs": [],
   "source": [
    "# dfskipruns.groupby(gby).size()"
   ]
  },
  {
   "cell_type": "code",
   "execution_count": null,
   "metadata": {},
   "outputs": [],
   "source": [
    "# dfskipruns_now = dfskipruns.query('period>=\"1870\" & period<\"1900\" & run>\"run_01\"')\n",
    "# dfskipruns_now.groupby(gby).size()"
   ]
  },
  {
   "cell_type": "code",
   "execution_count": null,
   "metadata": {},
   "outputs": [],
   "source": [
    "dfskipruns_now=dfskipruns"
   ]
  },
  {
   "cell_type": "code",
   "execution_count": 56,
   "metadata": {},
   "outputs": [],
   "source": [
    "# enable_gensim_logging()\n",
    "disable_gensim_logging()"
   ]
  },
  {
   "cell_type": "code",
   "execution_count": 57,
   "metadata": {},
   "outputs": [
    {
     "name": "stderr",
     "output_type": "stream",
     "text": [
      "Mapping gen_and_save_model [x4]: 100%|██████████| 100/100 [42:03<00:00, 25.24s/it]\n"
     ]
    }
   ],
   "source": [
    "res=pmap_groups(\n",
    "    gen_and_save_model,\n",
    "    dfskipruns_now.groupby(gby),\n",
    "    num_proc=4,\n",
    "    kwargs=dict(force=True)\n",
    ")"
   ]
  },
  {
   "cell_type": "code",
   "execution_count": 64,
   "metadata": {},
   "outputs": [],
   "source": [
    "m=load_model('/home/ryan/github/koselleck/data/models/bpo/1702-1704/run_01/model.bin')"
   ]
  },
  {
   "cell_type": "code",
   "execution_count": 66,
   "metadata": {},
   "outputs": [
    {
     "data": {
      "text/plain": [
       "[('port', 0.378718763589859),\n",
       " ('gain', 0.378711998462677),\n",
       " ('abroad', 0.37046191096305847),\n",
       " ('therewith', 0.36011365056037903),\n",
       " ('confederat', 0.3581629991531372),\n",
       " ('service', 0.35240113735198975),\n",
       " ('shipping', 0.35218411684036255),\n",
       " ('fleet', 0.3480740487575531),\n",
       " ('intercept', 0.3449084460735321),\n",
       " ('grievances', 0.3374038338661194)]"
      ]
     },
     "execution_count": 66,
     "metadata": {},
     "output_type": "execute_result"
    }
   ],
   "source": [
    "m.wv.most_similar('station')"
   ]
  },
  {
   "cell_type": "code",
   "execution_count": 68,
   "metadata": {},
   "outputs": [
    {
     "data": {
      "text/plain": [
       "[('cloven', 0.44143182039260864),\n",
       " ('quieting', 0.4248404800891876),\n",
       " ('dispelling', 0.4025260806083679),\n",
       " ('receded', 0.3775304853916168),\n",
       " ('pend', 0.3730579912662506),\n",
       " ('comply', 0.36801713705062866),\n",
       " ('wicked', 0.3633556067943573),\n",
       " ('diffusive', 0.3584693372249603),\n",
       " ('invincible', 0.3528475761413574),\n",
       " ('fb', 0.35259586572647095)]"
      ]
     },
     "execution_count": 68,
     "metadata": {},
     "output_type": "execute_result"
    }
   ],
   "source": [
    "m.wv.most_similar('virtue')"
   ]
  },
  {
   "cell_type": "code",
   "execution_count": null,
   "metadata": {},
   "outputs": [],
   "source": []
  },
  {
   "cell_type": "code",
   "execution_count": null,
   "metadata": {},
   "outputs": [],
   "source": []
  },
  {
   "cell_type": "code",
   "execution_count": null,
   "metadata": {},
   "outputs": [],
   "source": []
  },
  {
   "cell_type": "code",
   "execution_count": null,
   "metadata": {},
   "outputs": [],
   "source": []
  }
 ],
 "metadata": {
  "kernelspec": {
   "display_name": "Python 3",
   "language": "python",
   "name": "python3"
  },
  "language_info": {
   "codemirror_mode": {
    "name": "ipython",
    "version": 3
   },
   "file_extension": ".py",
   "mimetype": "text/x-python",
   "name": "python",
   "nbconvert_exporter": "python",
   "pygments_lexer": "ipython3",
   "version": "3.7.7"
  },
  "toc-autonumbering": true,
  "widgets": {
   "application/vnd.jupyter.widget-state+json": {
    "state": {},
    "version_major": 2,
    "version_minor": 0
   }
  }
 },
 "nbformat": 4,
 "nbformat_minor": 4
}
