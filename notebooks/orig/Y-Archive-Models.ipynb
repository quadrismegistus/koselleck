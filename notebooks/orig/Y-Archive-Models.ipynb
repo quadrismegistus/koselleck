{
 "cells": [
  {
   "cell_type": "code",
   "execution_count": 1,
   "metadata": {},
   "outputs": [],
   "source": [
    "from koselleck import *\n",
    "df=get_pathdf_models()"
   ]
  },
  {
   "cell_type": "code",
   "execution_count": 5,
   "metadata": {},
   "outputs": [],
   "source": [
    "dfdecs=get_pathdf_models().query('period_len==5 & run==\"run_01\" & period_start>=1720 & period_start<1900')\n",
    "grps=dfdecs.groupby('run')\n",
    "for i,dfgrp in grps: pass\n",
    "# dfgrp"
   ]
  },
  {
   "cell_type": "code",
   "execution_count": 72,
   "metadata": {},
   "outputs": [],
   "source": [
    "def zipdirs(ofnfn_zip,paths2zip,path_rel_to=None,progress=True):\n",
    "    savedir=os.path.dirname(ofnfn_zip)\n",
    "#     if not os.path.exists(savedir): os.makedirs(savedir)\n",
    "    path_rel_to=os.getcwd() if not path_rel_to else os.path.abspath(path_rel_to)\n",
    "    def getfiles(dir):\n",
    "        return [\n",
    "            os.path.join(root,fn)\n",
    "            for root,dirs,fns in os.walk(dir)\n",
    "            for fn in fns\n",
    "        ]\n",
    "    \n",
    "    files2zip = sorted([\n",
    "        (\n",
    "            fnfn,\n",
    "            fnfn.replace(path_rel_to,'.')\n",
    "        )\n",
    "        for path in paths2zip\n",
    "        for fnfn in (\n",
    "            getfiles(path)\n",
    "            if os.path.isdir(path)\n",
    "            else [path]\n",
    "        )\n",
    "    ])\n",
    "#     return files2zip\n",
    "\n",
    "    with zipfile.ZipFile(ofnfn_zip,'w',zipfile.ZIP_DEFLATED) as zipf:\n",
    "        iterr = tqdm(files2zip) if progress else files2zip\n",
    "        for (ifnfn,ofnfn) in iterr:\n",
    "            iterr.set_description(f'Compressing: {ofnfn}')\n",
    "            zipf.write(ifnfn,ofnfn)"
   ]
  },
  {
   "cell_type": "code",
   "execution_count": 73,
   "metadata": {},
   "outputs": [],
   "source": [
    "# zipdirs('x.zip', [\n",
    "#     '/home/ryan/github/koselleck/data/models/bpo/1720-1725/run_01',\n",
    "#     '/home/ryan/github/koselleck/data/models/bpo/1725-1730/run_01',\n",
    "# ])"
   ]
  },
  {
   "cell_type": "code",
   "execution_count": 74,
   "metadata": {},
   "outputs": [],
   "source": [
    "paths2zip = [os.path.dirname(fnfn) for fnfn in dfdecs.path]\n",
    "# paths2zip"
   ]
  },
  {
   "cell_type": "code",
   "execution_count": 75,
   "metadata": {},
   "outputs": [],
   "source": [
    "# zipdirs('data/data.models.halfdec.zip', paths2zip)"
   ]
  },
  {
   "cell_type": "code",
   "execution_count": 76,
   "metadata": {},
   "outputs": [
    {
     "name": "stderr",
     "output_type": "stream",
     "text": [
      "Compressing: data/skipgrams/years/data.skipgrams.bpo.1974.txt: 100%|██████████| 289/289 [07:43<00:00,  1.60s/it]\n"
     ]
    }
   ],
   "source": [
    "zipdirs('data/data.skipgrams.zip',['data/skipgrams/years/'])"
   ]
  },
  {
   "cell_type": "code",
   "execution_count": null,
   "metadata": {},
   "outputs": [],
   "source": []
  }
 ],
 "metadata": {
  "kernelspec": {
   "display_name": "Python 3",
   "language": "python",
   "name": "python3"
  },
  "language_info": {
   "codemirror_mode": {
    "name": "ipython",
    "version": 3
   },
   "file_extension": ".py",
   "mimetype": "text/x-python",
   "name": "python",
   "nbconvert_exporter": "python",
   "pygments_lexer": "ipython3",
   "version": "3.7.7"
  },
  "widgets": {
   "application/vnd.jupyter.widget-state+json": {
    "state": {},
    "version_major": 2,
    "version_minor": 0
   }
  }
 },
 "nbformat": 4,
 "nbformat_minor": 4
}
