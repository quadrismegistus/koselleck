{
 "cells": [
  {
   "cell_type": "code",
   "execution_count": 49,
   "metadata": {},
   "outputs": [
    {
     "data": {
      "text/html": [
       "<div>\n",
       "<style scoped>\n",
       "    .dataframe tbody tr th:only-of-type {\n",
       "        vertical-align: middle;\n",
       "    }\n",
       "\n",
       "    .dataframe tbody tr th {\n",
       "        vertical-align: top;\n",
       "    }\n",
       "\n",
       "    .dataframe thead th {\n",
       "        text-align: right;\n",
       "    }\n",
       "</style>\n",
       "<table border=\"1\" class=\"dataframe\">\n",
       "  <thead>\n",
       "    <tr style=\"text-align: right;\">\n",
       "      <th></th>\n",
       "      <th>word</th>\n",
       "      <th>dist</th>\n",
       "      <th>is_clean</th>\n",
       "      <th>period1</th>\n",
       "      <th>period2</th>\n",
       "    </tr>\n",
       "  </thead>\n",
       "  <tbody>\n",
       "    <tr>\n",
       "      <th>0</th>\n",
       "      <td>abbe</td>\n",
       "      <td>0.560645</td>\n",
       "      <td>False</td>\n",
       "      <td>1700-1705</td>\n",
       "      <td>1705-1710</td>\n",
       "    </tr>\n",
       "    <tr>\n",
       "      <th>1</th>\n",
       "      <td>abbey</td>\n",
       "      <td>0.691516</td>\n",
       "      <td>False</td>\n",
       "      <td>1700-1705</td>\n",
       "      <td>1705-1710</td>\n",
       "    </tr>\n",
       "    <tr>\n",
       "      <th>2</th>\n",
       "      <td>abbot</td>\n",
       "      <td>0.369839</td>\n",
       "      <td>True</td>\n",
       "      <td>1700-1705</td>\n",
       "      <td>1705-1710</td>\n",
       "    </tr>\n",
       "    <tr>\n",
       "      <th>3</th>\n",
       "      <td>abdication</td>\n",
       "      <td>0.743533</td>\n",
       "      <td>False</td>\n",
       "      <td>1700-1705</td>\n",
       "      <td>1705-1710</td>\n",
       "    </tr>\n",
       "    <tr>\n",
       "      <th>4</th>\n",
       "      <td>abhorrence</td>\n",
       "      <td>0.753346</td>\n",
       "      <td>False</td>\n",
       "      <td>1700-1705</td>\n",
       "      <td>1705-1710</td>\n",
       "    </tr>\n",
       "    <tr>\n",
       "      <th>...</th>\n",
       "      <td>...</td>\n",
       "      <td>...</td>\n",
       "      <td>...</td>\n",
       "      <td>...</td>\n",
       "      <td>...</td>\n",
       "    </tr>\n",
       "    <tr>\n",
       "      <th>3507627</th>\n",
       "      <td>zest</td>\n",
       "      <td>0.450700</td>\n",
       "      <td>True</td>\n",
       "      <td>1890-1895</td>\n",
       "      <td>1895-1900</td>\n",
       "    </tr>\n",
       "    <tr>\n",
       "      <th>3507628</th>\n",
       "      <td>zinc</td>\n",
       "      <td>0.194274</td>\n",
       "      <td>True</td>\n",
       "      <td>1890-1895</td>\n",
       "      <td>1895-1900</td>\n",
       "    </tr>\n",
       "    <tr>\n",
       "      <th>3507629</th>\n",
       "      <td>zone</td>\n",
       "      <td>0.444468</td>\n",
       "      <td>True</td>\n",
       "      <td>1890-1895</td>\n",
       "      <td>1895-1900</td>\n",
       "    </tr>\n",
       "    <tr>\n",
       "      <th>3507630</th>\n",
       "      <td>zoo</td>\n",
       "      <td>0.362270</td>\n",
       "      <td>True</td>\n",
       "      <td>1890-1895</td>\n",
       "      <td>1895-1900</td>\n",
       "    </tr>\n",
       "    <tr>\n",
       "      <th>3507631</th>\n",
       "      <td>zoology</td>\n",
       "      <td>0.260216</td>\n",
       "      <td>True</td>\n",
       "      <td>1890-1895</td>\n",
       "      <td>1895-1900</td>\n",
       "    </tr>\n",
       "  </tbody>\n",
       "</table>\n",
       "<p>3507632 rows × 5 columns</p>\n",
       "</div>"
      ],
      "text/plain": [
       "               word      dist  is_clean    period1    period2\n",
       "0              abbe  0.560645     False  1700-1705  1705-1710\n",
       "1             abbey  0.691516     False  1700-1705  1705-1710\n",
       "2             abbot  0.369839      True  1700-1705  1705-1710\n",
       "3        abdication  0.743533     False  1700-1705  1705-1710\n",
       "4        abhorrence  0.753346     False  1700-1705  1705-1710\n",
       "...             ...       ...       ...        ...        ...\n",
       "3507627        zest  0.450700      True  1890-1895  1895-1900\n",
       "3507628        zinc  0.194274      True  1890-1895  1895-1900\n",
       "3507629        zone  0.444468      True  1890-1895  1895-1900\n",
       "3507630         zoo  0.362270      True  1890-1895  1895-1900\n",
       "3507631     zoology  0.260216      True  1890-1895  1895-1900\n",
       "\n",
       "[3507632 rows x 5 columns]"
      ]
     },
     "execution_count": 49,
     "metadata": {},
     "output_type": "execute_result"
    }
   ],
   "source": [
    "from koselleck import *\n",
    "absw=get_words_ever_abs()\n",
    "\n",
    "DF=df=pd.read_pickle(FN_DATA_PACEOFCHANGE).reset_index()\n",
    "df"
   ]
  },
  {
   "cell_type": "code",
   "execution_count": 50,
   "metadata": {
    "collapsed": false,
    "jupyter": {
     "outputs_hidden": false
    }
   },
   "outputs": [],
   "source": [
    "%matplotlib inline\n",
    "import matplotlib.pyplot as plt\n",
    "from matplotlib.collections import LineCollection\n",
    "import csv, random\n",
    "import numpy as np\n",
    "from scipy import spatial\n",
    "extent=[1700,1900, 1700,1900]\n",
    "FOOTE_W=5\n",
    "NUM=100"
   ]
  },
  {
   "cell_type": "code",
   "execution_count": 51,
   "metadata": {
    "collapsed": false,
    "jupyter": {
     "outputs_hidden": false
    }
   },
   "outputs": [],
   "source": [
    "# plt.rcParams[\"figure.figsize\"] = [9.0, 6.0]\n",
    "# plt.matshow(distdf, origin = 'lower', cmap = plt.cm.YlOrRd, extent = extent)\n",
    "# plt.show()"
   ]
  },
  {
   "cell_type": "code",
   "execution_count": 52,
   "metadata": {},
   "outputs": [],
   "source": [
    "def plot_distmat(distdf):\n",
    "    plt.rcParams[\"figure.figsize\"] = [9.0, 6.0]\n",
    "    plt.matshow(distdf, origin = 'lower', cmap = plt.cm.YlOrRd, extent = extent)\n",
    "    plt.show()"
   ]
  },
  {
   "cell_type": "code",
   "execution_count": 53,
   "metadata": {},
   "outputs": [
    {
     "data": {
      "application/vnd.jupyter.widget-view+json": {
       "model_id": "212973437c1f4146865236aa3e3e4984",
       "version_major": 2,
       "version_minor": 0
      },
      "text/plain": [
       "interactive(children=(Text(value='critique', description='w'), Output()), _dom_classes=('widget-interact',))"
      ]
     },
     "metadata": {},
     "output_type": "display_data"
    }
   ],
   "source": [
    "@interact\n",
    "def showdistmat(w='critique'):\n",
    "    try:\n",
    "        distdf=get_distmatrix_rateofchange(DF, words={w})\n",
    "        plot_distmat(distdf)\n",
    "    except Exception as e:\n",
    "        print(e)\n",
    "        pass"
   ]
  },
  {
   "cell_type": "code",
   "execution_count": 14,
   "metadata": {},
   "outputs": [
    {
     "data": {
      "image/png": "[encoded data removed]",
      "text/plain": [
       "<Figure size 432x432 with 1 Axes>"
      ]
     },
     "metadata": {
      "needs_background": "light"
     },
     "output_type": "display_data"
    }
   ],
   "source": [
    "# d=distdf=get_distmatrix_rateofchange(DF, words=None)#'interest'})\n",
    "d=distdf=get_distmatrix_rateofchange(DF, words={'slave'})\n",
    "dq=d.values\n",
    "plot_distmat(distdf)"
   ]
  },
  {
   "cell_type": "code",
   "execution_count": null,
   "metadata": {
    "collapsed": false,
    "jupyter": {
     "outputs_hidden": false
    }
   },
   "outputs": [],
   "source": []
  },
  {
   "cell_type": "code",
   "execution_count": 15,
   "metadata": {},
   "outputs": [],
   "source": [
    "# novelties = foote_novelty(distdf)\n",
    "# plt.plot(getyears(), novelties)\n",
    "# plt.show()\n",
    "# print(\"Max novelty for a five-year half-width: \" + str(np.max(novelties)))"
   ]
  },
  {
   "cell_type": "code",
   "execution_count": null,
   "metadata": {
    "collapsed": false,
    "jupyter": {
     "outputs_hidden": false
    }
   },
   "outputs": [],
   "source": []
  },
  {
   "cell_type": "code",
   "execution_count": 16,
   "metadata": {},
   "outputs": [
    {
     "data": {
      "image/png": "[encoded data removed]",
      "text/plain": [
       "<Figure size 432x432 with 1 Axes>"
      ]
     },
     "metadata": {
      "needs_background": "light"
     },
     "output_type": "display_data"
    }
   ],
   "source": [
    "newmat = diagonal_permute(distdf.values)\n",
    "plt.matshow(newmat, origin = 'lower', cmap = plt.cm.YlOrRd, extent = extent)\n",
    "plt.show()"
   ]
  },
  {
   "cell_type": "code",
   "execution_count": 17,
   "metadata": {
    "collapsed": false,
    "jupyter": {
     "outputs_hidden": false
    }
   },
   "outputs": [],
   "source": [
    "# novelties = foote_novelty(newmat)\n",
    "# years = getyears()\n",
    "# plt.plot(years, novelties)\n",
    "# plt.show()\n",
    "# print(\"Max novelty for five-year half-width:\" + str(np.max(novelties)))\n",
    "\n",
    "# def zeroless(sequence):\n",
    "#     newseq = []\n",
    "#     for element in sequence:\n",
    "#         if element > 0.01:\n",
    "#             newseq.append(element)\n",
    "#     return newseq\n",
    "# print(\"Min novelty for five-year half-width:\" + str(np.min(zeroless(novelties))))"
   ]
  },
  {
   "cell_type": "code",
   "execution_count": 18,
   "metadata": {},
   "outputs": [],
   "source": [
    "\n",
    "# novelties, significance, threshold01, threshold05, threshold95, threshold99 = permute_test(dq)\n",
    "# years = getyears()\n",
    "# plt.plot(years, novelties)\n",
    "# startpoint = years[0]\n",
    "# endpoint = years[-1]\n",
    "# plt.hlines(threshold05, startpoint, endpoint, 'r', linewidth = 3)\n",
    "# plt.hlines(threshold95, startpoint, endpoint, 'r', linewidth = 3)\n",
    "# plt.show()\n",
    "\n",
    "# # lc, x, y = colored_segments(novelties, significance)\n",
    "\n",
    "# # plt.gca().add_collection(lc) # add the collection to the plot\n",
    "# # plt.xlim(years[0], years[-1]) # line collections don't auto-scale the plot\n",
    "# # plt.ylim(y.min(), y.max())\n",
    "# # plt.show()"
   ]
  },
  {
   "cell_type": "code",
   "execution_count": 46,
   "metadata": {},
   "outputs": [],
   "source": [
    "def test_novelty(distdf, foote_sizes=None, num_runs=100):\n",
    "    if not foote_sizes: foote_sizes=range(FOOTE_W-3, FOOTE_W+2)\n",
    "    dq=distdf.values\n",
    "    o=[]\n",
    "    for fs in foote_sizes:\n",
    "        novelties, significance = permute_test(dq, foote_size=fs, num_runs=num_runs)\n",
    "        for year,nov,sig in zip(distdf.columns, novelties, significance):\n",
    "            odx={\n",
    "                'year':year,\n",
    "                'foote_novelty':nov,\n",
    "                'foote_size':fs,\n",
    "                'p':sig\n",
    "            }\n",
    "            o.append(odx)\n",
    "    return pd.DataFrame(o).sort_values('foote_novelty',ascending=False)"
   ]
  },
  {
   "cell_type": "code",
   "execution_count": 47,
   "metadata": {},
   "outputs": [
    {
     "name": "stdout",
     "output_type": "stream",
     "text": [
      "6.05 s ± 52.2 ms per loop (mean ± std. dev. of 7 runs, 1 loop each)\n"
     ]
    }
   ],
   "source": [
    "%%timeit\n",
    "test_novelty(distdf)"
   ]
  },
  {
   "cell_type": "code",
   "execution_count": 13,
   "metadata": {},
   "outputs": [
    {
     "ename": "NameError",
     "evalue": "name 'stop' is not defined",
     "output_type": "error",
     "traceback": [
      "\u001b[0;31m---------------------------------------------------------------------------\u001b[0m",
      "\u001b[0;31mNameError\u001b[0m                                 Traceback (most recent call last)",
      "\u001b[0;32m<ipython-input-13-4f76a9dad686>\u001b[0m in \u001b[0;36m<module>\u001b[0;34m\u001b[0m\n\u001b[0;32m----> 1\u001b[0;31m \u001b[0mstop\u001b[0m\u001b[0;34m\u001b[0m\u001b[0;34m\u001b[0m\u001b[0m\n\u001b[0m",
      "\u001b[0;31mNameError\u001b[0m: name 'stop' is not defined"
     ]
    }
   ],
   "source": [
    "stop"
   ]
  },
  {
   "cell_type": "markdown",
   "metadata": {},
   "source": [
    "## Visualization\n",
    "\n",
    "Neither of the methods used above are terribly good as visualizations, so let's come up with a slightly better version: getting rid of the misleading \"edges\" and overplotting points to indicate the number of significant observations in particular periods."
   ]
  },
  {
   "cell_type": "code",
   "execution_count": null,
   "metadata": {
    "collapsed": false,
    "jupyter": {
     "outputs_hidden": false
    }
   },
   "outputs": [],
   "source": [
    "def zeroless_seq(thefilter, filtereda, filteredb):\n",
    "    thefilter = np.array(thefilter)\n",
    "    filtereda = np.array(filtereda)\n",
    "    filteredb = np.array(filteredb)\n",
    "    filtereda = filtereda[thefilter > 0]\n",
    "    filteredb = filteredb[thefilter > 0]\n",
    "    thefilter = thefilter[thefilter > 0]\n",
    "    return thefilter, filtereda, filteredb\n",
    "\n",
    "plt.clf()\n",
    "# plt.axis([1700, 1900, 45, 325])\n",
    "novelties, significance, threshold01, threshold05, threshold95, threshold99 = permute_test(d.values)\n",
    "novelties, years, significance = zeroless_seq(novelties, getyears(), significance)\n",
    "yplot = novelties[significance < 0.05]\n",
    "xplot = years[significance < 0.05]\n",
    "plt.scatter(xplot, yplot, c = 'red')\n",
    "plt.plot(years, novelties)\n",
    "years = getyears()\n",
    "startpoint = years[0]\n",
    "endpoint = years[-1]\n",
    "plt.hlines(threshold05, startpoint, endpoint, 'r', linewidth = 3)\n",
    "plt.hlines(threshold95, startpoint, endpoint, 'r', linewidth = 3)\n",
    "plt.show()"
   ]
  },
  {
   "cell_type": "markdown",
   "metadata": {},
   "source": [
    "## Effect size\n",
    "\n",
    "What about the effect size? Foote novelty is not really a direct measurement of the pace of change.\n",
    "\n",
    "One way to measure it is, to accept the periods defined by the visualization above, and compare change across each of those periods. \n",
    "\n",
    "So, for instance, the significant points in the second peak range from 1990 to 1994, and the lowest trough is roughly 2001 to 2005. We can divide each of those periods in half, and compare the first half to the second half. It looks like Mauch et al. are roughly right about effect size: it's a sixfold difference."
   ]
  },
  {
   "cell_type": "code",
   "execution_count": null,
   "metadata": {
    "collapsed": false,
    "jupyter": {
     "outputs_hidden": false
    }
   },
   "outputs": [],
   "source": [
    "def pacechange(startdate, enddate, pca):\n",
    "    years = getyears()\n",
    "    startidx = years.index(startdate)\n",
    "    endidx = years.index(enddate)\n",
    "    midpoint = int((startidx + endidx)/2)\n",
    "    firsthalf = np.zeros(len(years))\n",
    "    for i in range(startidx,midpoint):\n",
    "        firsthalf = firsthalf + pca[i]\n",
    "    secondhalf = np.zeros(len(years))\n",
    "    for i in range(midpoint, endidx):\n",
    "        secondhalf = secondhalf + pca[i]\n",
    "    return spatial.distance.cosine(firsthalf, secondhalf)\n",
    "\n",
    "print(pacechange(1700, 1750, d.values))\n",
    "print(pacechange(1750, 1800, d.values))\n",
    "print(pacechange(1800, 1850, d.values))\n",
    "print(pacechange(1850, 1890, d.values))\n"
   ]
  },
  {
   "cell_type": "markdown",
   "metadata": {},
   "source": [
    "We can also get a mean value for the whole run."
   ]
  },
  {
   "cell_type": "code",
   "execution_count": null,
   "metadata": {
    "collapsed": false,
    "jupyter": {
     "outputs_hidden": false
    }
   },
   "outputs": [],
   "source": [
    "thesum = 0\n",
    "theobservations = 0\n",
    "for i in range(1700, 1890, 10):\n",
    "    theobservations += 1\n",
    "    thesum += pacechange(i, i+10, d.values)\n",
    "print(thesum / theobservations)"
   ]
  },
  {
   "cell_type": "markdown",
   "metadata": {},
   "source": [
    "## Comparing multiple scales at once\n",
    "\n",
    "If we wanted to, we could also overplot multiple scales of comparison with different half-widths. Doing this reveals one of the nice things about the \"Foote novelty\" method, which is that it remains relatively stable as you vary scales of comparison. The same cannot be said, for instance, of changepoint analysis!\n",
    "\n",
    "In the cell below we've overplotted three-year, four-year, and five-year Foote novelties, highlighting in each case the specific quarters that have two-tailed p values lower than 0.05."
   ]
  },
  {
   "cell_type": "code",
   "execution_count": null,
   "metadata": {
    "collapsed": false,
    "jupyter": {
     "outputs_hidden": false
    }
   },
   "outputs": [],
   "source": [
    "# plt.axis([1700, 1900, 0, y.max() + 10])\n",
    "    \n",
    "def add_scatter(d, width):\n",
    "    novelties, significance, threshold01, threshold05, threshold95, threshold99 = permute_test(d, width)\n",
    "    novelties, years, significance = zeroless_seq(novelties, getyears(), significance)\n",
    "    yplot = novelties[significance < 0.05]\n",
    "    xplot = years[significance < 0.05]\n",
    "    plt.scatter(xplot, yplot, c = 'red')\n",
    "    plt.plot(years, novelties)\n",
    "\n",
    "ll=list(range(2,11))\n",
    "for n in ll:\n",
    "    add_scatter(d.values, n)\n",
    "# add_scatter(d.values, 4)\n",
    "# add_scatter(d.values, 5)\n",
    "# add_scatter(d.values, 5)\n",
    "plt.legend([str(n) for n in ll])\n",
    "plt.ylabel('Foote novelty')\n",
    "plt.show()"
   ]
  },
  {
   "cell_type": "code",
   "execution_count": null,
   "metadata": {
    "collapsed": true,
    "jupyter": {
     "outputs_hidden": true
    }
   },
   "outputs": [],
   "source": []
  },
  {
   "cell_type": "code",
   "execution_count": null,
   "metadata": {
    "collapsed": true,
    "jupyter": {
     "outputs_hidden": true
    }
   },
   "outputs": [],
   "source": []
  },
  {
   "cell_type": "code",
   "execution_count": null,
   "metadata": {},
   "outputs": [],
   "source": []
  },
  {
   "cell_type": "code",
   "execution_count": null,
   "metadata": {},
   "outputs": [],
   "source": []
  }
 ],
 "metadata": {
  "kernelspec": {
   "display_name": "Python 3",
   "language": "python",
   "name": "python3"
  },
  "language_info": {
   "codemirror_mode": {
    "name": "ipython",
    "version": 3
   },
   "file_extension": ".py",
   "mimetype": "text/x-python",
   "name": "python",
   "nbconvert_exporter": "python",
   "pygments_lexer": "ipython3",
   "version": "3.7.7"
  },
  "toc-autonumbering": false,
  "widgets": {
   "application/vnd.jupyter.widget-state+json": {
    "state": {
     "07ddd57a758d488f8e6b68fc2be6b09b": {
      "model_module": "@jupyter-widgets/controls",
      "model_module_version": "1.5.0",
      "model_name": "VBoxModel",
      "state": {
       "_dom_classes": [
        "widget-interact"
       ],
       "children": [
        "IPY_MODEL_4a44227227bb463aa51ec08969b255a3",
        "IPY_MODEL_bbcc6b7bf6bb4c03a26afcfdd46dfe72"
       ],
       "layout": "IPY_MODEL_221bfa666a2b4ebd9e02c40e54b92c43"
      }
     },
     "181a401d1df24428b461e719e077d916": {
      "model_module": "@jupyter-widgets/output",
      "model_module_version": "1.0.0",
      "model_name": "OutputModel",
      "state": {
       "layout": "IPY_MODEL_eee969cb066b45d8b0989f2a8628b1b0",
       "outputs": [
        {
         "data": {
          "image/png": "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\n",
          "text/plain": "<Figure size 432x432 with 1 Axes>"
         },
         "metadata": {
          "needs_background": "light"
         },
         "output_type": "display_data"
        }
       ]
      }
     },
     "212973437c1f4146865236aa3e3e4984": {
      "model_module": "@jupyter-widgets/controls",
      "model_module_version": "1.5.0",
      "model_name": "VBoxModel",
      "state": {
       "_dom_classes": [
        "widget-interact"
       ],
       "children": [
        "IPY_MODEL_47b462dbcef84da9b544137889870c67",
        "IPY_MODEL_181a401d1df24428b461e719e077d916"
       ],
       "layout": "IPY_MODEL_66637e3db5a74c87ac733cfd23c2ef68"
      }
     },
     "221bfa666a2b4ebd9e02c40e54b92c43": {
      "model_module": "@jupyter-widgets/base",
      "model_module_version": "1.2.0",
      "model_name": "LayoutModel",
      "state": {}
     },
     "2288d16bd360418e884c39a0311cc0d2": {
      "model_module": "@jupyter-widgets/base",
      "model_module_version": "1.2.0",
      "model_name": "LayoutModel",
      "state": {}
     },
     "3e495766632f41b2be8c72e872f2c6ed": {
      "model_module": "@jupyter-widgets/base",
      "model_module_version": "1.2.0",
      "model_name": "LayoutModel",
      "state": {}
     },
     "47b462dbcef84da9b544137889870c67": {
      "model_module": "@jupyter-widgets/controls",
      "model_module_version": "1.5.0",
      "model_name": "TextModel",
      "state": {
       "description": "w",
       "layout": "IPY_MODEL_cb426ec9219440a78777e5e38339bd7b",
       "style": "IPY_MODEL_4dc75e02d31e4055bfa0b4c9feb8d337",
       "value": "cheek"
      }
     },
     "4a44227227bb463aa51ec08969b255a3": {
      "model_module": "@jupyter-widgets/controls",
      "model_module_version": "1.5.0",
      "model_name": "TextModel",
      "state": {
       "description": "w",
       "layout": "IPY_MODEL_64c2bf7d399c4a7fbb011ae44a9c21b5",
       "style": "IPY_MODEL_de9a1303190b4a3384dcb2c1e196112e",
       "value": "critique"
      }
     },
     "4dc75e02d31e4055bfa0b4c9feb8d337": {
      "model_module": "@jupyter-widgets/controls",
      "model_module_version": "1.5.0",
      "model_name": "DescriptionStyleModel",
      "state": {
       "description_width": ""
      }
     },
     "546706326d5948c99db8acc68e8e2f7f": {
      "model_module": "@jupyter-widgets/controls",
      "model_module_version": "1.5.0",
      "model_name": "TextModel",
      "state": {
       "description": "w",
       "layout": "IPY_MODEL_2288d16bd360418e884c39a0311cc0d2",
       "style": "IPY_MODEL_c281829f8b9748ed9fde25dde6683f82",
       "value": "station"
      }
     },
     "64c2bf7d399c4a7fbb011ae44a9c21b5": {
      "model_module": "@jupyter-widgets/base",
      "model_module_version": "1.2.0",
      "model_name": "LayoutModel",
      "state": {}
     },
     "66637e3db5a74c87ac733cfd23c2ef68": {
      "model_module": "@jupyter-widgets/base",
      "model_module_version": "1.2.0",
      "model_name": "LayoutModel",
      "state": {}
     },
     "aa7f458b53c240069118879e27fc77f3": {
      "model_module": "@jupyter-widgets/controls",
      "model_module_version": "1.5.0",
      "model_name": "VBoxModel",
      "state": {
       "_dom_classes": [
        "widget-interact"
       ],
       "children": [
        "IPY_MODEL_546706326d5948c99db8acc68e8e2f7f",
        "IPY_MODEL_c657e673b9ab44feaa3422017fbfe979"
       ],
       "layout": "IPY_MODEL_f99648205e284d118e8116410346b7e8"
      }
     },
     "ae248e7ab9524fc5b0949782b665294d": {
      "model_module": "@jupyter-widgets/base",
      "model_module_version": "1.2.0",
      "model_name": "LayoutModel",
      "state": {}
     },
     "bbcc6b7bf6bb4c03a26afcfdd46dfe72": {
      "model_module": "@jupyter-widgets/output",
      "model_module_version": "1.0.0",
      "model_name": "OutputModel",
      "state": {
       "layout": "IPY_MODEL_3e495766632f41b2be8c72e872f2c6ed",
       "outputs": [
        {
         "data": {
          "image/png": "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\n",
          "text/plain": "<Figure size 432x432 with 1 Axes>"
         },
         "metadata": {
          "needs_background": "light"
         },
         "output_type": "display_data"
        }
       ]
      }
     },
     "c281829f8b9748ed9fde25dde6683f82": {
      "model_module": "@jupyter-widgets/controls",
      "model_module_version": "1.5.0",
      "model_name": "DescriptionStyleModel",
      "state": {
       "description_width": ""
      }
     },
     "c657e673b9ab44feaa3422017fbfe979": {
      "model_module": "@jupyter-widgets/output",
      "model_module_version": "1.0.0",
      "model_name": "OutputModel",
      "state": {
       "layout": "IPY_MODEL_ae248e7ab9524fc5b0949782b665294d"
      }
     },
     "cb426ec9219440a78777e5e38339bd7b": {
      "model_module": "@jupyter-widgets/base",
      "model_module_version": "1.2.0",
      "model_name": "LayoutModel",
      "state": {}
     },
     "de9a1303190b4a3384dcb2c1e196112e": {
      "model_module": "@jupyter-widgets/controls",
      "model_module_version": "1.5.0",
      "model_name": "DescriptionStyleModel",
      "state": {
       "description_width": ""
      }
     },
     "eee969cb066b45d8b0989f2a8628b1b0": {
      "model_module": "@jupyter-widgets/base",
      "model_module_version": "1.2.0",
      "model_name": "LayoutModel",
      "state": {}
     },
     "f99648205e284d118e8116410346b7e8": {
      "model_module": "@jupyter-widgets/base",
      "model_module_version": "1.2.0",
      "model_name": "LayoutModel",
      "state": {}
     }
    },
    "version_major": 2,
    "version_minor": 0
   }
  }
 },
 "nbformat": 4,
 "nbformat_minor": 4
}
