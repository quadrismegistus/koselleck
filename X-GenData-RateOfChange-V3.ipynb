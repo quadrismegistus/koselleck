{
 "cells": [
  {
   "cell_type": "markdown",
   "metadata": {},
   "source": [
    "# Q_ RATE OF CHANGE"
   ]
  },
  {
   "cell_type": "code",
   "execution_count": 1,
   "metadata": {},
   "outputs": [],
   "source": [
    "from koselleck import *"
   ]
  },
  {
   "cell_type": "code",
   "execution_count": 2,
   "metadata": {},
   "outputs": [],
   "source": [
    "def do_measure_change_over_years(obj,words=None,progress=True,k=50,**y):\n",
    "    try:\n",
    "        row1,row2=obj\n",
    "        if words is None: words=get_valid_words()\n",
    "        m1,m2=load_model_row(row1),load_model_row(row2)\n",
    "#         odf=measure_change(m1,m2,words=words,progress=progress,\n",
    "# #                            funcs=[measure_change_procrustes],\n",
    "#                            funcs=[measure_change_noiseaware],\n",
    "#                            **y).reset_index()\n",
    "#         odf=measure_change_noiseaware(m1,m2,words=words,progress=progress,**y)\n",
    "#         odf=measure_change_procrustes(m1,m2,words=words,progress=progress,**y)\n",
    "        odf=measure_change_local(m1,m2,words=words,k=k,progress=progress,**y)\n",
    "        odf['period1'],odf['period2']=row1.period,row2.period\n",
    "        return odf\n",
    "    except Exception:\n",
    "        return pd.DataFrame()\n",
    "\n",
    "def measure_change_over_years(dfgrp,words=None,num_proc=1,progress=True,**y):\n",
    "    dfgrp=dfgrp.sort_values('period_start')\n",
    "    row1=None\n",
    "    m1=None\n",
    "    odf=pd.DataFrame()\n",
    "    #iterr=tqdm(dfgrp.iterrows(),total=len(dfgrp)) if progress else dfgrp.iterrows()\n",
    "    rows=[row for i,row in dfgrp.iterrows()]\n",
    "    objs=[\n",
    "        (row1,row2)\n",
    "        for i1,row1 in dfgrp.iterrows() \n",
    "        for i2,row2 in dfgrp.iterrows() \n",
    "        if row2.period>row1.period\n",
    "    ]\n",
    "#     objs=random.sample(objs,3)\n",
    "    resdfs=[\n",
    "        x for x in pmap(\n",
    "            do_measure_change_over_years,\n",
    "            objs,\n",
    "            num_proc=num_proc,\n",
    "            progress=progress,\n",
    "            kwargs=dict(\n",
    "                progress=False,\n",
    "                words=words,\n",
    "                **y\n",
    "            ),\n",
    "            desc='Measuring rate of change across years'\n",
    "        ) if type(x)==pd.DataFrame\n",
    "    ]\n",
    "    return pd.concat(resdfs) if len(resdfs) else pd.DataFrame()"
   ]
  },
  {
   "cell_type": "code",
   "execution_count": null,
   "metadata": {},
   "outputs": [],
   "source": [
    "dfdecs=get_pathdf_models().query('period_len==5 & run==\"run_01\" & period_start>=1720 & period_start<1900')\n",
    "grps=dfdecs.groupby('run')\n",
    "for i,dfgrp in grps: pass\n",
    "# dfgrp"
   ]
  },
  {
   "cell_type": "code",
   "execution_count": null,
   "metadata": {},
   "outputs": [
    {
     "name": "stderr",
     "output_type": "stream",
     "text": [
      "Measuring rate of change across years [x4]:  29%|██▊       | 180/630 [49:58<2:18:35, 18.48s/it]"
     ]
    }
   ],
   "source": [
    "# gen\n",
    "# odf=measure_change_over_years(dfgrp.iloc[:3],num_proc=4)\n",
    "odf=measure_change_over_years(dfgrp,num_proc=4)\n",
    "# save\n",
    "odf.to_pickle('data/data.semantic_change_over_decades.1run.v10-local-k50-halfdec.pkl')\n",
    "odf"
   ]
  },
  {
   "cell_type": "code",
   "execution_count": null,
   "metadata": {},
   "outputs": [],
   "source": []
  }
 ],
 "metadata": {
  "kernelspec": {
   "display_name": "Python 3",
   "language": "python",
   "name": "python3"
  },
  "language_info": {
   "codemirror_mode": {
    "name": "ipython",
    "version": 3
   },
   "file_extension": ".py",
   "mimetype": "text/x-python",
   "name": "python",
   "nbconvert_exporter": "python",
   "pygments_lexer": "ipython3",
   "version": "3.7.7"
  },
  "widgets": {
   "application/vnd.jupyter.widget-state+json": {
    "state": {},
    "version_major": 2,
    "version_minor": 0
   }
  }
 },
 "nbformat": 4,
 "nbformat_minor": 4
}
