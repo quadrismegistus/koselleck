{
 "cells": [
  {
   "cell_type": "code",
   "execution_count": 1,
   "metadata": {},
   "outputs": [],
   "source": [
    "from koselleck import *"
   ]
  },
  {
   "cell_type": "code",
   "execution_count": 2,
   "metadata": {},
   "outputs": [],
   "source": [
    "swas=get_word_abstractness_scores()"
   ]
  },
  {
   "cell_type": "code",
   "execution_count": 3,
   "metadata": {},
   "outputs": [
    {
     "data": {
      "text/plain": [
       "1700"
      ]
     },
     "execution_count": 3,
     "metadata": {},
     "output_type": "execute_result"
    }
   ],
   "source": [
    "# def prdz(y,ystart=1710,yend=3000,ystep=40):\n",
    "def prdz(y,ystart=1600,yend=3000,ystep=20):\n",
    "    ln=None\n",
    "    for n in range(ystart,yend,ystep):\n",
    "        if ln is None: ln=n\n",
    "        if y<n: return ln\n",
    "        ln=n\n",
    "        \n",
    "prdz(1715)"
   ]
  },
  {
   "cell_type": "code",
   "execution_count": 4,
   "metadata": {},
   "outputs": [
    {
     "data": {
      "text/html": [
       "<div>\n",
       "<style scoped>\n",
       "    .dataframe tbody tr th:only-of-type {\n",
       "        vertical-align: middle;\n",
       "    }\n",
       "\n",
       "    .dataframe tbody tr th {\n",
       "        vertical-align: top;\n",
       "    }\n",
       "\n",
       "    .dataframe thead th {\n",
       "        text-align: right;\n",
       "    }\n",
       "</style>\n",
       "<table border=\"1\" class=\"dataframe\">\n",
       "  <thead>\n",
       "    <tr style=\"text-align: right;\">\n",
       "      <th></th>\n",
       "      <th>period</th>\n",
       "      <th>word2</th>\n",
       "      <th>rank</th>\n",
       "      <th>count</th>\n",
       "      <th>rankcount</th>\n",
       "      <th>rank2</th>\n",
       "      <th>period_int</th>\n",
       "      <th>period2</th>\n",
       "    </tr>\n",
       "    <tr>\n",
       "      <th>word</th>\n",
       "      <th></th>\n",
       "      <th></th>\n",
       "      <th></th>\n",
       "      <th></th>\n",
       "      <th></th>\n",
       "      <th></th>\n",
       "      <th></th>\n",
       "      <th></th>\n",
       "    </tr>\n",
       "  </thead>\n",
       "  <tbody>\n",
       "    <tr>\n",
       "      <th>abandonment</th>\n",
       "      <td>1780-1790</td>\n",
       "      <td>insuperable</td>\n",
       "      <td>17.25</td>\n",
       "      <td>4</td>\n",
       "      <td>0.219178</td>\n",
       "      <td>61.0</td>\n",
       "      <td>1780</td>\n",
       "      <td>1780</td>\n",
       "    </tr>\n",
       "    <tr>\n",
       "      <th>abandonment</th>\n",
       "      <td>1780-1790</td>\n",
       "      <td>exactions</td>\n",
       "      <td>2.00</td>\n",
       "      <td>1</td>\n",
       "      <td>0.333333</td>\n",
       "      <td>27.0</td>\n",
       "      <td>1780</td>\n",
       "      <td>1780</td>\n",
       "    </tr>\n",
       "    <tr>\n",
       "      <th>abandonment</th>\n",
       "      <td>1780-1790</td>\n",
       "      <td>friary</td>\n",
       "      <td>3.00</td>\n",
       "      <td>1</td>\n",
       "      <td>0.250000</td>\n",
       "      <td>49.0</td>\n",
       "      <td>1780</td>\n",
       "      <td>1780</td>\n",
       "    </tr>\n",
       "    <tr>\n",
       "      <th>abandonment</th>\n",
       "      <td>1780-1790</td>\n",
       "      <td>indemnification</td>\n",
       "      <td>34.00</td>\n",
       "      <td>4</td>\n",
       "      <td>0.114286</td>\n",
       "      <td>137.5</td>\n",
       "      <td>1780</td>\n",
       "      <td>1780</td>\n",
       "    </tr>\n",
       "    <tr>\n",
       "      <th>abandonment</th>\n",
       "      <td>1780-1790</td>\n",
       "      <td>uncandid</td>\n",
       "      <td>5.00</td>\n",
       "      <td>1</td>\n",
       "      <td>0.166667</td>\n",
       "      <td>100.5</td>\n",
       "      <td>1780</td>\n",
       "      <td>1780</td>\n",
       "    </tr>\n",
       "    <tr>\n",
       "      <th>...</th>\n",
       "      <td>...</td>\n",
       "      <td>...</td>\n",
       "      <td>...</td>\n",
       "      <td>...</td>\n",
       "      <td>...</td>\n",
       "      <td>...</td>\n",
       "      <td>...</td>\n",
       "      <td>...</td>\n",
       "    </tr>\n",
       "    <tr>\n",
       "      <th>zoology</th>\n",
       "      <td>1950-1960</td>\n",
       "      <td>morel</td>\n",
       "      <td>39.00</td>\n",
       "      <td>1</td>\n",
       "      <td>0.025000</td>\n",
       "      <td>403.5</td>\n",
       "      <td>1950</td>\n",
       "      <td>1940</td>\n",
       "    </tr>\n",
       "    <tr>\n",
       "      <th>zoology</th>\n",
       "      <td>1950-1960</td>\n",
       "      <td>limbless</td>\n",
       "      <td>41.00</td>\n",
       "      <td>1</td>\n",
       "      <td>0.023810</td>\n",
       "      <td>411.5</td>\n",
       "      <td>1950</td>\n",
       "      <td>1940</td>\n",
       "    </tr>\n",
       "    <tr>\n",
       "      <th>zoology</th>\n",
       "      <td>1950-1960</td>\n",
       "      <td>stabs</td>\n",
       "      <td>42.00</td>\n",
       "      <td>1</td>\n",
       "      <td>0.023256</td>\n",
       "      <td>418.5</td>\n",
       "      <td>1950</td>\n",
       "      <td>1940</td>\n",
       "    </tr>\n",
       "    <tr>\n",
       "      <th>zoology</th>\n",
       "      <td>1950-1960</td>\n",
       "      <td>betti</td>\n",
       "      <td>45.00</td>\n",
       "      <td>1</td>\n",
       "      <td>0.021739</td>\n",
       "      <td>436.5</td>\n",
       "      <td>1950</td>\n",
       "      <td>1940</td>\n",
       "    </tr>\n",
       "    <tr>\n",
       "      <th>zoology</th>\n",
       "      <td>1950-1960</td>\n",
       "      <td>reams</td>\n",
       "      <td>49.00</td>\n",
       "      <td>1</td>\n",
       "      <td>0.020000</td>\n",
       "      <td>464.0</td>\n",
       "      <td>1950</td>\n",
       "      <td>1940</td>\n",
       "    </tr>\n",
       "  </tbody>\n",
       "</table>\n",
       "<p>28876576 rows × 8 columns</p>\n",
       "</div>"
      ],
      "text/plain": [
       "                period            word2   rank  count  rankcount  rank2  \\\n",
       "word                                                                      \n",
       "abandonment  1780-1790      insuperable  17.25      4   0.219178   61.0   \n",
       "abandonment  1780-1790        exactions   2.00      1   0.333333   27.0   \n",
       "abandonment  1780-1790           friary   3.00      1   0.250000   49.0   \n",
       "abandonment  1780-1790  indemnification  34.00      4   0.114286  137.5   \n",
       "abandonment  1780-1790         uncandid   5.00      1   0.166667  100.5   \n",
       "...                ...              ...    ...    ...        ...    ...   \n",
       "zoology      1950-1960            morel  39.00      1   0.025000  403.5   \n",
       "zoology      1950-1960         limbless  41.00      1   0.023810  411.5   \n",
       "zoology      1950-1960            stabs  42.00      1   0.023256  418.5   \n",
       "zoology      1950-1960            betti  45.00      1   0.021739  436.5   \n",
       "zoology      1950-1960            reams  49.00      1   0.020000  464.0   \n",
       "\n",
       "             period_int  period2  \n",
       "word                              \n",
       "abandonment        1780     1780  \n",
       "abandonment        1780     1780  \n",
       "abandonment        1780     1780  \n",
       "abandonment        1780     1780  \n",
       "abandonment        1780     1780  \n",
       "...                 ...      ...  \n",
       "zoology            1950     1940  \n",
       "zoology            1950     1940  \n",
       "zoology            1950     1940  \n",
       "zoology            1950     1940  \n",
       "zoology            1950     1940  \n",
       "\n",
       "[28876576 rows x 8 columns]"
      ]
     },
     "execution_count": 4,
     "metadata": {},
     "output_type": "execute_result"
    }
   ],
   "source": [
    "def get_neighb_data(ystart=1600,ystep=20):\n",
    "    df=pd.read_pickle('data/data.neighborhoods.cache.v2.pkl')\n",
    "    df['period_int']=df.period.apply(lambda x:int(x[:4]))\n",
    "    df['period2']=df.period_int.apply(lambda y: prdz(y,ystart=ystart,ystep=ystep))\n",
    "    #df['period']=df['period']\n",
    "    return df#.query('1700<=period_int<1900')\n",
    "\n",
    "\n",
    "dfres=df=get_neighb_data()\n",
    "df.groupby('period').size()\n",
    "df"
   ]
  },
  {
   "cell_type": "code",
   "execution_count": 5,
   "metadata": {},
   "outputs": [
    {
     "data": {
      "text/html": [
       "<div>\n",
       "<style scoped>\n",
       "    .dataframe tbody tr th:only-of-type {\n",
       "        vertical-align: middle;\n",
       "    }\n",
       "\n",
       "    .dataframe tbody tr th {\n",
       "        vertical-align: top;\n",
       "    }\n",
       "\n",
       "    .dataframe thead th {\n",
       "        text-align: right;\n",
       "    }\n",
       "</style>\n",
       "<table border=\"1\" class=\"dataframe\">\n",
       "  <thead>\n",
       "    <tr style=\"text-align: right;\">\n",
       "      <th></th>\n",
       "      <th>word</th>\n",
       "      <th>period2</th>\n",
       "      <th>abs</th>\n",
       "      <th>word2</th>\n",
       "    </tr>\n",
       "  </thead>\n",
       "  <tbody>\n",
       "    <tr>\n",
       "      <th>4</th>\n",
       "      <td>abandonment</td>\n",
       "      <td>1780</td>\n",
       "      <td>1.249668</td>\n",
       "      <td>abandonment</td>\n",
       "    </tr>\n",
       "    <tr>\n",
       "      <th>5</th>\n",
       "      <td>abandonment</td>\n",
       "      <td>1800</td>\n",
       "      <td>2.563577</td>\n",
       "      <td>abandonment</td>\n",
       "    </tr>\n",
       "    <tr>\n",
       "      <th>6</th>\n",
       "      <td>abandonment</td>\n",
       "      <td>1820</td>\n",
       "      <td>2.896265</td>\n",
       "      <td>abandonment</td>\n",
       "    </tr>\n",
       "    <tr>\n",
       "      <th>7</th>\n",
       "      <td>abandonment</td>\n",
       "      <td>1840</td>\n",
       "      <td>2.677320</td>\n",
       "      <td>abandonment</td>\n",
       "    </tr>\n",
       "    <tr>\n",
       "      <th>8</th>\n",
       "      <td>abandonment</td>\n",
       "      <td>1860</td>\n",
       "      <td>2.750508</td>\n",
       "      <td>abandonment</td>\n",
       "    </tr>\n",
       "    <tr>\n",
       "      <th>...</th>\n",
       "      <td>...</td>\n",
       "      <td>...</td>\n",
       "      <td>...</td>\n",
       "      <td>...</td>\n",
       "    </tr>\n",
       "    <tr>\n",
       "      <th>60005</th>\n",
       "      <td>zoology</td>\n",
       "      <td>1800</td>\n",
       "      <td>0.090642</td>\n",
       "      <td>zoology</td>\n",
       "    </tr>\n",
       "    <tr>\n",
       "      <th>60006</th>\n",
       "      <td>zoology</td>\n",
       "      <td>1820</td>\n",
       "      <td>-0.096660</td>\n",
       "      <td>zoology</td>\n",
       "    </tr>\n",
       "    <tr>\n",
       "      <th>60007</th>\n",
       "      <td>zoology</td>\n",
       "      <td>1840</td>\n",
       "      <td>0.144612</td>\n",
       "      <td>zoology</td>\n",
       "    </tr>\n",
       "    <tr>\n",
       "      <th>60008</th>\n",
       "      <td>zoology</td>\n",
       "      <td>1860</td>\n",
       "      <td>0.079964</td>\n",
       "      <td>zoology</td>\n",
       "    </tr>\n",
       "    <tr>\n",
       "      <th>60009</th>\n",
       "      <td>zoology</td>\n",
       "      <td>1880</td>\n",
       "      <td>0.027592</td>\n",
       "      <td>zoology</td>\n",
       "    </tr>\n",
       "  </tbody>\n",
       "</table>\n",
       "<p>53992 rows × 4 columns</p>\n",
       "</div>"
      ],
      "text/plain": [
       "              word  period2       abs        word2\n",
       "4      abandonment     1780  1.249668  abandonment\n",
       "5      abandonment     1800  2.563577  abandonment\n",
       "6      abandonment     1820  2.896265  abandonment\n",
       "7      abandonment     1840  2.677320  abandonment\n",
       "8      abandonment     1860  2.750508  abandonment\n",
       "...            ...      ...       ...          ...\n",
       "60005      zoology     1800  0.090642      zoology\n",
       "60006      zoology     1820 -0.096660      zoology\n",
       "60007      zoology     1840  0.144612      zoology\n",
       "60008      zoology     1860  0.079964      zoology\n",
       "60009      zoology     1880  0.027592      zoology\n",
       "\n",
       "[53992 rows x 4 columns]"
      ]
     },
     "execution_count": 5,
     "metadata": {},
     "output_type": "execute_result"
    }
   ],
   "source": [
    "dfabs=get_dfpiv_abs().reset_index().melt(id_vars=['word'],value_name='abs')\n",
    "dfabs['period2']=dfabs['period'].apply(prdz)\n",
    "dfabs=dfabs.groupby(['word','period2']).mean().reset_index().dropna()\n",
    "dfabs['word2']=dfabs['word']\n",
    "okwords=set(dfabs.word)\n",
    "dfabs"
   ]
  },
  {
   "cell_type": "code",
   "execution_count": 6,
   "metadata": {},
   "outputs": [
    {
     "data": {
      "application/vnd.jupyter.widget-view+json": {
       "model_id": "165c671bb8fe4746881e6e52927fdd8d",
       "version_major": 2,
       "version_minor": 0
      },
      "text/plain": [
       "interactive(children=(Text(value='progress', description='w'), IntSlider(value=2, description='min_periods', m…"
      ]
     },
     "metadata": {},
     "output_type": "display_data"
    }
   ],
   "source": [
    "def show(\n",
    "        w='culture',\n",
    "        min_periods=2,\n",
    "        max_rank=20,\n",
    "        max_rank1=10,\n",
    "        width=8,\n",
    "        height=6,\n",
    "        save=False,\n",
    "        vnum='v13-20y',\n",
    "        showdata=False,\n",
    "        year_min=1720,\n",
    "        year_max=1900):\n",
    "    \n",
    "    if w in set(dfres.index):\n",
    "        wdf=dfres.loc[w].query(f'period2>={year_min}')\n",
    "        wdf=dfres.loc[w].query(f'period2<{year_max}')\n",
    "        wdf=wdf[wdf.word2.isin(okwords)]\n",
    "        wdf=wdf[~wdf.word2.isin({'foil','slate'})]\n",
    "        figdf=wdf\n",
    "        words_ever_high=set(wdf[wdf.rank2<=max_rank1].word2)\n",
    "        figdf=figdf[figdf.word2.isin(words_ever_high)].groupby(['word2','period2']).mean().reset_index()\n",
    "        wdfp=figdf.pivot('word2','period2','rankcount')\n",
    "        figdf=wdfp.reset_index().melt(id_vars=['word2'],value_name='rankcount')\n",
    "        figdf=figdf.groupby('word2').filter(lambda gdf: len(gdf.dropna())>=min_periods)\n",
    "        figdf=pd.concat(\n",
    "            grp.assign(rank3=(-1*grp['rankcount']).rank(method='first'))\n",
    "            for i,grp in figdf.groupby('period2')\n",
    "        )\n",
    "        figdf=figdf[figdf.rank3<max_rank]\n",
    "        figdf=figdf.sort_values('rankcount')#.set_index('word2')\n",
    "#         figdf=figdf.merge(dfabs,on=['word2','period2'])\n",
    "#         figdf['conc']=figdf['abs']*-1\n",
    "#         figdf['is_abs']=figdf['abs']>0\n",
    "        figdf['period_str']=[\n",
    "            f'{x}' #'-{x+40 if x+40<1900 else 1900}'\n",
    "            for x in figdf['period2']\n",
    "        ]\n",
    "        figdf['word']=figdf['word2']  \n",
    "        if showdata: display(figdf)\n",
    "        fig=start_fig(\n",
    "            figdf,\n",
    "            x='period_str',\n",
    "            y='rank3',\n",
    "            label='word',\n",
    "            group='word',\n",
    "#             fill='conc',\n",
    "            figure_size=(width,height)\n",
    "        ) + p9.geom_line(size=0.5) + p9.scale_y_reverse()\n",
    "        \n",
    "        first_appearances=figdf.sort_values('period_str').drop_duplicates('word')\n",
    "        other_appearances=figdf.loc[set(figdf.index) - set(first_appearances.index)]\n",
    "        \n",
    "        fig+=p9.geom_label(size=6.5,fill='#BBBBBB',fontweight='bold',data=first_appearances)\n",
    "        fig+=p9.geom_label(size=6.5,data=other_appearances)\n",
    "        \n",
    "        fig+=p9.scale_fill_gradient(low='white',high='#999999')\n",
    "        fig+=p9.scale_color_gradient(low='white',high='#999999')\n",
    "        fig+=p9.labs(\n",
    "            title=f'Changing associations of \"{w}\"',\n",
    "            x='Date of semantic model',\n",
    "            y=f'Proximity to \"{w}\" →',\n",
    "            fill='Concreteness'\n",
    "        )\n",
    "        if save:\n",
    "            ofn=f'fig.changing_simple.{w}.{vnum}.png'\n",
    "            fig.save(f'figures/{ofn}')\n",
    "            fig.save(f'/home/ryan/Markdown/Drafts/TheGreatAbstraction/figures/{ofn}')\n",
    "        display(fig)\n",
    "        return figdf\n",
    "    else:\n",
    "        print(f'!! {w} not in data')\n",
    "    \n",
    "    \n",
    "res=interact_manual(show, w='progress')"
   ]
  },
  {
   "cell_type": "code",
   "execution_count": null,
   "metadata": {},
   "outputs": [],
   "source": []
  },
  {
   "cell_type": "code",
   "execution_count": null,
   "metadata": {},
   "outputs": [],
   "source": []
  }
 ],
 "metadata": {
  "kernelspec": {
   "display_name": "Python 3",
   "language": "python",
   "name": "python3"
  },
  "language_info": {
   "codemirror_mode": {
    "name": "ipython",
    "version": 3
   },
   "file_extension": ".py",
   "mimetype": "text/x-python",
   "name": "python",
   "nbconvert_exporter": "python",
   "pygments_lexer": "ipython3",
   "version": "3.7.7"
  },
  "toc": {
   "base_numbering": 1,
   "nav_menu": {},
   "number_sections": false,
   "sideBar": false,
   "skip_h1_title": false,
   "title_cell": "Table of Contents",
   "title_sidebar": "Contents",
   "toc_cell": false,
   "toc_position": {},
   "toc_section_display": false,
   "toc_window_display": false
  },
  "widgets": {
   "application/vnd.jupyter.widget-state+json": {
    "state": {
     "03a201b49d874ac186fcae51036261b3": {
      "model_module": "@jupyter-widgets/base",
      "model_module_version": "1.2.0",
      "model_name": "LayoutModel",
      "state": {}
     },
     "0ef4c8a32d254cb488f7017dc4778b95": {
      "model_module": "@jupyter-widgets/base",
      "model_module_version": "1.2.0",
      "model_name": "LayoutModel",
      "state": {}
     },
     "1469c7d289c744419e6d00bdc0315f75": {
      "model_module": "@jupyter-widgets/controls",
      "model_module_version": "1.5.0",
      "model_name": "IntSliderModel",
      "state": {
       "description": "height",
       "layout": "IPY_MODEL_aa5e0a8009ec4e1884a7a2673f64278a",
       "max": 18,
       "min": -6,
       "style": "IPY_MODEL_1f895781301d410e80f94149747dd558",
       "value": 6
      }
     },
     "165c671bb8fe4746881e6e52927fdd8d": {
      "model_module": "@jupyter-widgets/controls",
      "model_module_version": "1.5.0",
      "model_name": "VBoxModel",
      "state": {
       "_dom_classes": [
        "widget-interact"
       ],
       "children": [
        "IPY_MODEL_22659ae348a54453b5548ee512aeeb93",
        "IPY_MODEL_1c2e09acc5584f4eba94bc188b90c0d9",
        "IPY_MODEL_7c142d0a914d4a0da38b076c5331ef1d",
        "IPY_MODEL_f257c3de13634797a882fa1ebb758cd3",
        "IPY_MODEL_9e721a1bf2d74bbbbc25d4504fecd7cf",
        "IPY_MODEL_1469c7d289c744419e6d00bdc0315f75",
        "IPY_MODEL_aeec91fcf1e14db6ad8bd26557797a93",
        "IPY_MODEL_c08249c280ac4d1f96bb559510b47697",
        "IPY_MODEL_16de127113b247c8bc0d7bc77a503c2a",
        "IPY_MODEL_375cade8c03f45a898bf3c2581d2379e",
        "IPY_MODEL_8a3532e8a8664a9b8454ac815980d524",
        "IPY_MODEL_bb85c8993be84dcd82e52ce38b151270",
        "IPY_MODEL_643e34ade3d94eb0958a381071265cf2"
       ],
       "layout": "IPY_MODEL_1d202ce5b82d42a3a5eca8f21a38bb61"
      }
     },
     "16de127113b247c8bc0d7bc77a503c2a": {
      "model_module": "@jupyter-widgets/controls",
      "model_module_version": "1.5.0",
      "model_name": "CheckboxModel",
      "state": {
       "description": "showdata",
       "disabled": false,
       "layout": "IPY_MODEL_89a346a00a5c4cbe83aa5cce98151f04",
       "style": "IPY_MODEL_5aec5c83db734e02ad3dbfcdd44932ba",
       "value": false
      }
     },
     "1acd75af4c6f42dd876bbd653cc54faf": {
      "model_module": "@jupyter-widgets/base",
      "model_module_version": "1.2.0",
      "model_name": "LayoutModel",
      "state": {}
     },
     "1c2e09acc5584f4eba94bc188b90c0d9": {
      "model_module": "@jupyter-widgets/controls",
      "model_module_version": "1.5.0",
      "model_name": "IntSliderModel",
      "state": {
       "description": "min_periods",
       "layout": "IPY_MODEL_58aee9f515ff42b6b69277285fe39363",
       "max": 6,
       "min": -2,
       "style": "IPY_MODEL_26e5942dc49a4294bdce466900b25b0d",
       "value": 2
      }
     },
     "1d202ce5b82d42a3a5eca8f21a38bb61": {
      "model_module": "@jupyter-widgets/base",
      "model_module_version": "1.2.0",
      "model_name": "LayoutModel",
      "state": {}
     },
     "1f895781301d410e80f94149747dd558": {
      "model_module": "@jupyter-widgets/controls",
      "model_module_version": "1.5.0",
      "model_name": "SliderStyleModel",
      "state": {
       "description_width": ""
      }
     },
     "22659ae348a54453b5548ee512aeeb93": {
      "model_module": "@jupyter-widgets/controls",
      "model_module_version": "1.5.0",
      "model_name": "TextModel",
      "state": {
       "description": "w",
       "layout": "IPY_MODEL_0ef4c8a32d254cb488f7017dc4778b95",
       "style": "IPY_MODEL_eae42138dbe044b7a3e4fc0bc8fd0f8a",
       "value": "progress"
      }
     },
     "26e5942dc49a4294bdce466900b25b0d": {
      "model_module": "@jupyter-widgets/controls",
      "model_module_version": "1.5.0",
      "model_name": "SliderStyleModel",
      "state": {
       "description_width": ""
      }
     },
     "375cade8c03f45a898bf3c2581d2379e": {
      "model_module": "@jupyter-widgets/controls",
      "model_module_version": "1.5.0",
      "model_name": "IntSliderModel",
      "state": {
       "description": "year_min",
       "layout": "IPY_MODEL_8c6a884ca8344655afc04dc666f5c4ba",
       "max": 5160,
       "min": -1720,
       "style": "IPY_MODEL_f6b0e37bf7ec4400805eeaec68309a93",
       "value": 1720
      }
     },
     "37db3a36cbc94c99b9c7da4304b1dce4": {
      "model_module": "@jupyter-widgets/base",
      "model_module_version": "1.2.0",
      "model_name": "LayoutModel",
      "state": {}
     },
     "4dcc2cfcf7944e399222b62f8543446b": {
      "model_module": "@jupyter-widgets/controls",
      "model_module_version": "1.5.0",
      "model_name": "DescriptionStyleModel",
      "state": {
       "description_width": ""
      }
     },
     "58aee9f515ff42b6b69277285fe39363": {
      "model_module": "@jupyter-widgets/base",
      "model_module_version": "1.2.0",
      "model_name": "LayoutModel",
      "state": {}
     },
     "5aec5c83db734e02ad3dbfcdd44932ba": {
      "model_module": "@jupyter-widgets/controls",
      "model_module_version": "1.5.0",
      "model_name": "DescriptionStyleModel",
      "state": {
       "description_width": ""
      }
     },
     "643e34ade3d94eb0958a381071265cf2": {
      "model_module": "@jupyter-widgets/output",
      "model_module_version": "1.0.0",
      "model_name": "OutputModel",
      "state": {
       "layout": "IPY_MODEL_f1ce132c3cc24dc2bd2b55a6b178d655"
      }
     },
     "6b32d4c59e7c4dc68a42f4adad81d004": {
      "model_module": "@jupyter-widgets/controls",
      "model_module_version": "1.5.0",
      "model_name": "ButtonStyleModel",
      "state": {}
     },
     "6e761f67755d46449f523fe86568bbcb": {
      "model_module": "@jupyter-widgets/controls",
      "model_module_version": "1.5.0",
      "model_name": "SliderStyleModel",
      "state": {
       "description_width": ""
      }
     },
     "7886155dcd7e4e0594ee1cb7de436e30": {
      "model_module": "@jupyter-widgets/base",
      "model_module_version": "1.2.0",
      "model_name": "LayoutModel",
      "state": {}
     },
     "7c0e65f9f2ff48619590db80de858e6d": {
      "model_module": "@jupyter-widgets/controls",
      "model_module_version": "1.5.0",
      "model_name": "SliderStyleModel",
      "state": {
       "description_width": ""
      }
     },
     "7c142d0a914d4a0da38b076c5331ef1d": {
      "model_module": "@jupyter-widgets/controls",
      "model_module_version": "1.5.0",
      "model_name": "IntSliderModel",
      "state": {
       "description": "max_rank",
       "layout": "IPY_MODEL_03a201b49d874ac186fcae51036261b3",
       "max": 60,
       "min": -20,
       "style": "IPY_MODEL_839eea10deea474ea8b95422ad9ecdde",
       "value": 20
      }
     },
     "839eea10deea474ea8b95422ad9ecdde": {
      "model_module": "@jupyter-widgets/controls",
      "model_module_version": "1.5.0",
      "model_name": "SliderStyleModel",
      "state": {
       "description_width": ""
      }
     },
     "89a346a00a5c4cbe83aa5cce98151f04": {
      "model_module": "@jupyter-widgets/base",
      "model_module_version": "1.2.0",
      "model_name": "LayoutModel",
      "state": {}
     },
     "8a3532e8a8664a9b8454ac815980d524": {
      "model_module": "@jupyter-widgets/controls",
      "model_module_version": "1.5.0",
      "model_name": "IntSliderModel",
      "state": {
       "description": "year_max",
       "layout": "IPY_MODEL_7886155dcd7e4e0594ee1cb7de436e30",
       "max": 5700,
       "min": -1900,
       "style": "IPY_MODEL_6e761f67755d46449f523fe86568bbcb",
       "value": 1900
      }
     },
     "8c6a884ca8344655afc04dc666f5c4ba": {
      "model_module": "@jupyter-widgets/base",
      "model_module_version": "1.2.0",
      "model_name": "LayoutModel",
      "state": {}
     },
     "9e721a1bf2d74bbbbc25d4504fecd7cf": {
      "model_module": "@jupyter-widgets/controls",
      "model_module_version": "1.5.0",
      "model_name": "IntSliderModel",
      "state": {
       "description": "width",
       "layout": "IPY_MODEL_a48decbd0c1f4f9cb3aac392dc646fab",
       "max": 24,
       "min": -8,
       "style": "IPY_MODEL_d558f022e5b54dacac031400d4b8b619",
       "value": 8
      }
     },
     "a48decbd0c1f4f9cb3aac392dc646fab": {
      "model_module": "@jupyter-widgets/base",
      "model_module_version": "1.2.0",
      "model_name": "LayoutModel",
      "state": {}
     },
     "a9915d2593d741f187808da2b0d6dfae": {
      "model_module": "@jupyter-widgets/controls",
      "model_module_version": "1.5.0",
      "model_name": "DescriptionStyleModel",
      "state": {
       "description_width": ""
      }
     },
     "aa5e0a8009ec4e1884a7a2673f64278a": {
      "model_module": "@jupyter-widgets/base",
      "model_module_version": "1.2.0",
      "model_name": "LayoutModel",
      "state": {}
     },
     "abd2eed819a645559589ecc0e03b1269": {
      "model_module": "@jupyter-widgets/base",
      "model_module_version": "1.2.0",
      "model_name": "LayoutModel",
      "state": {}
     },
     "aeec91fcf1e14db6ad8bd26557797a93": {
      "model_module": "@jupyter-widgets/controls",
      "model_module_version": "1.5.0",
      "model_name": "CheckboxModel",
      "state": {
       "description": "save",
       "disabled": false,
       "layout": "IPY_MODEL_37db3a36cbc94c99b9c7da4304b1dce4",
       "style": "IPY_MODEL_a9915d2593d741f187808da2b0d6dfae",
       "value": false
      }
     },
     "bb85c8993be84dcd82e52ce38b151270": {
      "model_module": "@jupyter-widgets/controls",
      "model_module_version": "1.5.0",
      "model_name": "ButtonModel",
      "state": {
       "description": "Run Interact",
       "layout": "IPY_MODEL_e917f1ebd5d542279423fa81d84207e4",
       "style": "IPY_MODEL_6b32d4c59e7c4dc68a42f4adad81d004"
      }
     },
     "c08249c280ac4d1f96bb559510b47697": {
      "model_module": "@jupyter-widgets/controls",
      "model_module_version": "1.5.0",
      "model_name": "TextModel",
      "state": {
       "description": "vnum",
       "layout": "IPY_MODEL_1acd75af4c6f42dd876bbd653cc54faf",
       "style": "IPY_MODEL_4dcc2cfcf7944e399222b62f8543446b",
       "value": "v13-20y"
      }
     },
     "d558f022e5b54dacac031400d4b8b619": {
      "model_module": "@jupyter-widgets/controls",
      "model_module_version": "1.5.0",
      "model_name": "SliderStyleModel",
      "state": {
       "description_width": ""
      }
     },
     "e917f1ebd5d542279423fa81d84207e4": {
      "model_module": "@jupyter-widgets/base",
      "model_module_version": "1.2.0",
      "model_name": "LayoutModel",
      "state": {}
     },
     "eae42138dbe044b7a3e4fc0bc8fd0f8a": {
      "model_module": "@jupyter-widgets/controls",
      "model_module_version": "1.5.0",
      "model_name": "DescriptionStyleModel",
      "state": {
       "description_width": ""
      }
     },
     "f1ce132c3cc24dc2bd2b55a6b178d655": {
      "model_module": "@jupyter-widgets/base",
      "model_module_version": "1.2.0",
      "model_name": "LayoutModel",
      "state": {}
     },
     "f257c3de13634797a882fa1ebb758cd3": {
      "model_module": "@jupyter-widgets/controls",
      "model_module_version": "1.5.0",
      "model_name": "IntSliderModel",
      "state": {
       "description": "max_rank1",
       "layout": "IPY_MODEL_abd2eed819a645559589ecc0e03b1269",
       "max": 30,
       "min": -10,
       "style": "IPY_MODEL_7c0e65f9f2ff48619590db80de858e6d",
       "value": 10
      }
     },
     "f6b0e37bf7ec4400805eeaec68309a93": {
      "model_module": "@jupyter-widgets/controls",
      "model_module_version": "1.5.0",
      "model_name": "SliderStyleModel",
      "state": {
       "description_width": ""
      }
     }
    },
    "version_major": 2,
    "version_minor": 0
   }
  }
 },
 "nbformat": 4,
 "nbformat_minor": 4
}
