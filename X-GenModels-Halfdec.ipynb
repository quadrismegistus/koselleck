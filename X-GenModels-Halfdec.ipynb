{
 "cells": [
  {
   "cell_type": "markdown",
   "metadata": {},
   "source": [
    "# BPO"
   ]
  },
  {
   "cell_type": "code",
   "execution_count": null,
   "metadata": {},
   "outputs": [],
   "source": [
    "from koselleck import *"
   ]
  },
  {
   "cell_type": "code",
   "execution_count": null,
   "metadata": {},
   "outputs": [],
   "source": [
    "def periodize(y,ybin=5):\n",
    "    y1=y//ybin*ybin\n",
    "    y2=y1+ybin\n",
    "    return f'{y1}-{y2}'"
   ]
  },
  {
   "cell_type": "code",
   "execution_count": null,
   "metadata": {},
   "outputs": [],
   "source": [
    "dfskip=get_skipgrams(calc_numlines=True)\n",
    "dfskip['period']=dfskip.year.apply(periodize)\n",
    "dfskip=dfskip.query('1700<=year<1900')\n",
    "dfskip"
   ]
  },
  {
   "cell_type": "code",
   "execution_count": null,
   "metadata": {},
   "outputs": [],
   "source": [
    "# dfgg=dfskip.groupby('period').sum()\n",
    "# dfgg"
   ]
  },
  {
   "cell_type": "code",
   "execution_count": null,
   "metadata": {},
   "outputs": [],
   "source": [
    "# dfskip[dfskip.num_lines<20000]"
   ]
  },
  {
   "cell_type": "code",
   "execution_count": 49,
   "metadata": {},
   "outputs": [
    {
     "data": {
      "text/html": [
       "<div>\n",
       "<style scoped>\n",
       "    .dataframe tbody tr th:only-of-type {\n",
       "        vertical-align: middle;\n",
       "    }\n",
       "\n",
       "    .dataframe tbody tr th {\n",
       "        vertical-align: top;\n",
       "    }\n",
       "\n",
       "    .dataframe thead th {\n",
       "        text-align: right;\n",
       "    }\n",
       "</style>\n",
       "<table border=\"1\" class=\"dataframe\">\n",
       "  <thead>\n",
       "    <tr style=\"text-align: right;\">\n",
       "      <th></th>\n",
       "      <th>corpus</th>\n",
       "      <th>year</th>\n",
       "      <th>path</th>\n",
       "      <th>num_lines</th>\n",
       "      <th>num_words</th>\n",
       "      <th>period</th>\n",
       "      <th>run</th>\n",
       "      <th>opath</th>\n",
       "      <th>opath_exists</th>\n",
       "    </tr>\n",
       "  </thead>\n",
       "  <tbody>\n",
       "    <tr>\n",
       "      <th>157</th>\n",
       "      <td>bpo</td>\n",
       "      <td>1700</td>\n",
       "      <td>/home/ryan/github/koselleck/data/skipgrams/yea...</td>\n",
       "      <td>2232</td>\n",
       "      <td>55800</td>\n",
       "      <td>1700-1705</td>\n",
       "      <td>run_01</td>\n",
       "      <td>/home/ryan/github/koselleck/data/models/bpo/17...</td>\n",
       "      <td>True</td>\n",
       "    </tr>\n",
       "    <tr>\n",
       "      <th>42</th>\n",
       "      <td>bpo</td>\n",
       "      <td>1701</td>\n",
       "      <td>/home/ryan/github/koselleck/data/skipgrams/yea...</td>\n",
       "      <td>2475</td>\n",
       "      <td>61875</td>\n",
       "      <td>1700-1705</td>\n",
       "      <td>run_01</td>\n",
       "      <td>/home/ryan/github/koselleck/data/models/bpo/17...</td>\n",
       "      <td>True</td>\n",
       "    </tr>\n",
       "    <tr>\n",
       "      <th>25</th>\n",
       "      <td>bpo</td>\n",
       "      <td>1702</td>\n",
       "      <td>/home/ryan/github/koselleck/data/skipgrams/yea...</td>\n",
       "      <td>3001</td>\n",
       "      <td>75025</td>\n",
       "      <td>1700-1705</td>\n",
       "      <td>run_01</td>\n",
       "      <td>/home/ryan/github/koselleck/data/models/bpo/17...</td>\n",
       "      <td>True</td>\n",
       "    </tr>\n",
       "    <tr>\n",
       "      <th>288</th>\n",
       "      <td>bpo</td>\n",
       "      <td>1703</td>\n",
       "      <td>/home/ryan/github/koselleck/data/skipgrams/yea...</td>\n",
       "      <td>6546</td>\n",
       "      <td>163650</td>\n",
       "      <td>1700-1705</td>\n",
       "      <td>run_01</td>\n",
       "      <td>/home/ryan/github/koselleck/data/models/bpo/17...</td>\n",
       "      <td>True</td>\n",
       "    </tr>\n",
       "    <tr>\n",
       "      <th>69</th>\n",
       "      <td>bpo</td>\n",
       "      <td>1704</td>\n",
       "      <td>/home/ryan/github/koselleck/data/skipgrams/yea...</td>\n",
       "      <td>10910</td>\n",
       "      <td>272750</td>\n",
       "      <td>1700-1705</td>\n",
       "      <td>run_01</td>\n",
       "      <td>/home/ryan/github/koselleck/data/models/bpo/17...</td>\n",
       "      <td>True</td>\n",
       "    </tr>\n",
       "    <tr>\n",
       "      <th>...</th>\n",
       "      <td>...</td>\n",
       "      <td>...</td>\n",
       "      <td>...</td>\n",
       "      <td>...</td>\n",
       "      <td>...</td>\n",
       "      <td>...</td>\n",
       "      <td>...</td>\n",
       "      <td>...</td>\n",
       "      <td>...</td>\n",
       "    </tr>\n",
       "    <tr>\n",
       "      <th>21</th>\n",
       "      <td>bpo</td>\n",
       "      <td>1895</td>\n",
       "      <td>/home/ryan/github/koselleck/data/skipgrams/yea...</td>\n",
       "      <td>504743</td>\n",
       "      <td>12618575</td>\n",
       "      <td>1895-1900</td>\n",
       "      <td>run_01</td>\n",
       "      <td>/home/ryan/github/koselleck/data/models/bpo/18...</td>\n",
       "      <td>False</td>\n",
       "    </tr>\n",
       "    <tr>\n",
       "      <th>108</th>\n",
       "      <td>bpo</td>\n",
       "      <td>1896</td>\n",
       "      <td>/home/ryan/github/koselleck/data/skipgrams/yea...</td>\n",
       "      <td>490371</td>\n",
       "      <td>12259275</td>\n",
       "      <td>1895-1900</td>\n",
       "      <td>run_01</td>\n",
       "      <td>/home/ryan/github/koselleck/data/models/bpo/18...</td>\n",
       "      <td>False</td>\n",
       "    </tr>\n",
       "    <tr>\n",
       "      <th>17</th>\n",
       "      <td>bpo</td>\n",
       "      <td>1897</td>\n",
       "      <td>/home/ryan/github/koselleck/data/skipgrams/yea...</td>\n",
       "      <td>486894</td>\n",
       "      <td>12172350</td>\n",
       "      <td>1895-1900</td>\n",
       "      <td>run_01</td>\n",
       "      <td>/home/ryan/github/koselleck/data/models/bpo/18...</td>\n",
       "      <td>False</td>\n",
       "    </tr>\n",
       "    <tr>\n",
       "      <th>285</th>\n",
       "      <td>bpo</td>\n",
       "      <td>1898</td>\n",
       "      <td>/home/ryan/github/koselleck/data/skipgrams/yea...</td>\n",
       "      <td>495025</td>\n",
       "      <td>12375625</td>\n",
       "      <td>1895-1900</td>\n",
       "      <td>run_01</td>\n",
       "      <td>/home/ryan/github/koselleck/data/models/bpo/18...</td>\n",
       "      <td>False</td>\n",
       "    </tr>\n",
       "    <tr>\n",
       "      <th>260</th>\n",
       "      <td>bpo</td>\n",
       "      <td>1899</td>\n",
       "      <td>/home/ryan/github/koselleck/data/skipgrams/yea...</td>\n",
       "      <td>467676</td>\n",
       "      <td>11691900</td>\n",
       "      <td>1895-1900</td>\n",
       "      <td>run_01</td>\n",
       "      <td>/home/ryan/github/koselleck/data/models/bpo/18...</td>\n",
       "      <td>False</td>\n",
       "    </tr>\n",
       "  </tbody>\n",
       "</table>\n",
       "<p>200 rows × 9 columns</p>\n",
       "</div>"
      ],
      "text/plain": [
       "    corpus  year                                               path  \\\n",
       "157    bpo  1700  /home/ryan/github/koselleck/data/skipgrams/yea...   \n",
       "42     bpo  1701  /home/ryan/github/koselleck/data/skipgrams/yea...   \n",
       "25     bpo  1702  /home/ryan/github/koselleck/data/skipgrams/yea...   \n",
       "288    bpo  1703  /home/ryan/github/koselleck/data/skipgrams/yea...   \n",
       "69     bpo  1704  /home/ryan/github/koselleck/data/skipgrams/yea...   \n",
       "..     ...   ...                                                ...   \n",
       "21     bpo  1895  /home/ryan/github/koselleck/data/skipgrams/yea...   \n",
       "108    bpo  1896  /home/ryan/github/koselleck/data/skipgrams/yea...   \n",
       "17     bpo  1897  /home/ryan/github/koselleck/data/skipgrams/yea...   \n",
       "285    bpo  1898  /home/ryan/github/koselleck/data/skipgrams/yea...   \n",
       "260    bpo  1899  /home/ryan/github/koselleck/data/skipgrams/yea...   \n",
       "\n",
       "     num_lines  num_words     period     run  \\\n",
       "157       2232      55800  1700-1705  run_01   \n",
       "42        2475      61875  1700-1705  run_01   \n",
       "25        3001      75025  1700-1705  run_01   \n",
       "288       6546     163650  1700-1705  run_01   \n",
       "69       10910     272750  1700-1705  run_01   \n",
       "..         ...        ...        ...     ...   \n",
       "21      504743   12618575  1895-1900  run_01   \n",
       "108     490371   12259275  1895-1900  run_01   \n",
       "17      486894   12172350  1895-1900  run_01   \n",
       "285     495025   12375625  1895-1900  run_01   \n",
       "260     467676   11691900  1895-1900  run_01   \n",
       "\n",
       "                                                 opath  opath_exists  \n",
       "157  /home/ryan/github/koselleck/data/models/bpo/17...          True  \n",
       "42   /home/ryan/github/koselleck/data/models/bpo/17...          True  \n",
       "25   /home/ryan/github/koselleck/data/models/bpo/17...          True  \n",
       "288  /home/ryan/github/koselleck/data/models/bpo/17...          True  \n",
       "69   /home/ryan/github/koselleck/data/models/bpo/17...          True  \n",
       "..                                                 ...           ...  \n",
       "21   /home/ryan/github/koselleck/data/models/bpo/18...         False  \n",
       "108  /home/ryan/github/koselleck/data/models/bpo/18...         False  \n",
       "17   /home/ryan/github/koselleck/data/models/bpo/18...         False  \n",
       "285  /home/ryan/github/koselleck/data/models/bpo/18...         False  \n",
       "260  /home/ryan/github/koselleck/data/models/bpo/18...         False  \n",
       "\n",
       "[200 rows x 9 columns]"
      ]
     },
     "execution_count": 49,
     "metadata": {},
     "output_type": "execute_result"
    }
   ],
   "source": [
    "dfskipruns=pd.concat([\n",
    "    dfskip.assign(run=f'run_{str(i+1).zfill(2)}')\n",
    "    for i in range(1)\n",
    "])\n",
    "dfskipruns['opath']=dfskipruns.apply(lambda row: os.path.join(PATH_MODELS_NEW,row.corpus,row.period,row.run,'model.bin'),1)\n",
    "dfskipruns['opath_exists']=dfskipruns.opath.apply(lambda x: os.path.exists(x))\n",
    "# dfskipruns=dfskipruns.query('run!=\"run_01\"')\n",
    "# dfskipruns=dfskipruns[dfskipruns.opath_exists==False]\n",
    "dfskipruns"
   ]
  },
  {
   "cell_type": "code",
   "execution_count": 50,
   "metadata": {},
   "outputs": [],
   "source": [
    "def gen_and_save_model(dfskip,nskip=DEFAULT_NUM_SKIP,force=False,vector_size=100,window=10,min_count=5,epochs=10,workers=8):\n",
    "    row=dfskip.iloc[0]\n",
    "    odir=os.path.join(PATH_MODELS_NEW,row.corpus,row.period,row.run)\n",
    "    ofnfn=os.path.join(odir,'model.bin')\n",
    "    if force or not os.path.exists(ofnfn):\n",
    "        ensure_dir_exists(odir)\n",
    "        ss=SkipgramsSamplers(dfskip.path, nskip)\n",
    "        model = Word2Vec(sentences=ss,vector_size=vector_size,window=window,min_count=min_count,epochs=epochs,workers=workers)\n",
    "        model.save(ofnfn)\n",
    "    return pd.DataFrame()\n",
    "\n",
    "# model.wv.most_similar('value',topn=25)"
   ]
  },
  {
   "cell_type": "code",
   "execution_count": 56,
   "metadata": {},
   "outputs": [],
   "source": [
    "# enable_gensim_logging()\n",
    "NSKIP_PER_YR=20000\n",
    "# gen_and_save_model(dfskipruns.iloc[:5],force=True,nskip=NSKIP_PER_YR,epochs=10)\n",
    "# m=load_model('/home/ryan/github/koselleck/data/models/bpo/1700-1705/run_01/model.bin')\n",
    "# m.wv.most_similar('virtue')"
   ]
  },
  {
   "cell_type": "code",
   "execution_count": 55,
   "metadata": {},
   "outputs": [],
   "source": [
    "# enable_gensim_logging()\n",
    "disable_gensim_logging()"
   ]
  },
  {
   "cell_type": "code",
   "execution_count": 58,
   "metadata": {},
   "outputs": [
    {
     "name": "stderr",
     "output_type": "stream",
     "text": [
      "Mapping gen_and_save_model [x4]: 100%|██████████| 40/40 [08:19<00:00, 12.48s/it]\n"
     ]
    }
   ],
   "source": [
    "res=pmap_groups(\n",
    "    gen_and_save_model,\n",
    "    dfskipruns.groupby(['period','run']),\n",
    "    num_proc=4,\n",
    "    kwargs=dict(force=True, nskip=NSKIP_PER_YR)\n",
    ")"
   ]
  },
  {
   "cell_type": "code",
   "execution_count": null,
   "metadata": {},
   "outputs": [],
   "source": []
  },
  {
   "cell_type": "code",
   "execution_count": 60,
   "metadata": {},
   "outputs": [
    {
     "data": {
      "text/plain": [
       "[('benefactors', 0.6232176423072815),\n",
       " ('vertue', 0.5589598417282104),\n",
       " ('unity', 0.5457756519317627),\n",
       " ('wisdom', 0.5376275181770325),\n",
       " ('innate', 0.5364933013916016),\n",
       " ('divine', 0.5251227617263794),\n",
       " ('consent', 0.5199053883552551),\n",
       " ('goodness', 0.5103564262390137),\n",
       " ('unalterable', 0.4965788722038269),\n",
       " ('eternal', 0.49366509914398193)]"
      ]
     },
     "execution_count": 60,
     "metadata": {},
     "output_type": "execute_result"
    }
   ],
   "source": [
    "m=load_model('/home/ryan/github/koselleck/data/models/bpo/1705-1710/run_01/model.bin')\n",
    "m.wv.most_similar('virtue')"
   ]
  },
  {
   "cell_type": "code",
   "execution_count": null,
   "metadata": {},
   "outputs": [],
   "source": []
  },
  {
   "cell_type": "code",
   "execution_count": null,
   "metadata": {},
   "outputs": [],
   "source": []
  }
 ],
 "metadata": {
  "kernelspec": {
   "display_name": "Python 3",
   "language": "python",
   "name": "python3"
  },
  "language_info": {
   "codemirror_mode": {
    "name": "ipython",
    "version": 3
   },
   "file_extension": ".py",
   "mimetype": "text/x-python",
   "name": "python",
   "nbconvert_exporter": "python",
   "pygments_lexer": "ipython3",
   "version": "3.7.7"
  },
  "toc-autonumbering": true,
  "widgets": {
   "application/vnd.jupyter.widget-state+json": {
    "state": {},
    "version_major": 2,
    "version_minor": 0
   }
  }
 },
 "nbformat": 4,
 "nbformat_minor": 4
}
