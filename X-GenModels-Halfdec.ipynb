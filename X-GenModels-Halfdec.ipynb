{
 "cells": [
  {
   "cell_type": "markdown",
   "metadata": {},
   "source": [
    "# BPO"
   ]
  },
  {
   "cell_type": "code",
   "execution_count": 2,
   "metadata": {},
   "outputs": [],
   "source": [
    "from koselleck import *"
   ]
  },
  {
   "cell_type": "code",
   "execution_count": 21,
   "metadata": {},
   "outputs": [],
   "source": [
    "def periodize(y,ybin=5):\n",
    "    y1=y//ybin*ybin\n",
    "    y2=y1+ybin\n",
    "    return f'{y1}-{y2}'"
   ]
  },
  {
   "cell_type": "code",
   "execution_count": 22,
   "metadata": {},
   "outputs": [
    {
     "name": "stderr",
     "output_type": "stream",
     "text": [
      "100%|██████████| 289/289 [00:57<00:00,  5.04it/s]\n"
     ]
    },
    {
     "data": {
      "text/html": [
       "<div>\n",
       "<style scoped>\n",
       "    .dataframe tbody tr th:only-of-type {\n",
       "        vertical-align: middle;\n",
       "    }\n",
       "\n",
       "    .dataframe tbody tr th {\n",
       "        vertical-align: top;\n",
       "    }\n",
       "\n",
       "    .dataframe thead th {\n",
       "        text-align: right;\n",
       "    }\n",
       "</style>\n",
       "<table border=\"1\" class=\"dataframe\">\n",
       "  <thead>\n",
       "    <tr style=\"text-align: right;\">\n",
       "      <th></th>\n",
       "      <th>corpus</th>\n",
       "      <th>year</th>\n",
       "      <th>path</th>\n",
       "      <th>num_lines</th>\n",
       "      <th>num_words</th>\n",
       "      <th>period</th>\n",
       "    </tr>\n",
       "  </thead>\n",
       "  <tbody>\n",
       "    <tr>\n",
       "      <th>234</th>\n",
       "      <td>bpo</td>\n",
       "      <td>1720</td>\n",
       "      <td>/home/ryan/github/koselleck/data/skipgrams/yea...</td>\n",
       "      <td>4166</td>\n",
       "      <td>104150</td>\n",
       "      <td>1720-1725</td>\n",
       "    </tr>\n",
       "    <tr>\n",
       "      <th>270</th>\n",
       "      <td>bpo</td>\n",
       "      <td>1721</td>\n",
       "      <td>/home/ryan/github/koselleck/data/skipgrams/yea...</td>\n",
       "      <td>5656</td>\n",
       "      <td>141400</td>\n",
       "      <td>1720-1725</td>\n",
       "    </tr>\n",
       "    <tr>\n",
       "      <th>205</th>\n",
       "      <td>bpo</td>\n",
       "      <td>1722</td>\n",
       "      <td>/home/ryan/github/koselleck/data/skipgrams/yea...</td>\n",
       "      <td>7126</td>\n",
       "      <td>178150</td>\n",
       "      <td>1720-1725</td>\n",
       "    </tr>\n",
       "    <tr>\n",
       "      <th>74</th>\n",
       "      <td>bpo</td>\n",
       "      <td>1723</td>\n",
       "      <td>/home/ryan/github/koselleck/data/skipgrams/yea...</td>\n",
       "      <td>8820</td>\n",
       "      <td>220500</td>\n",
       "      <td>1720-1725</td>\n",
       "    </tr>\n",
       "    <tr>\n",
       "      <th>93</th>\n",
       "      <td>bpo</td>\n",
       "      <td>1724</td>\n",
       "      <td>/home/ryan/github/koselleck/data/skipgrams/yea...</td>\n",
       "      <td>6070</td>\n",
       "      <td>151750</td>\n",
       "      <td>1720-1725</td>\n",
       "    </tr>\n",
       "    <tr>\n",
       "      <th>...</th>\n",
       "      <td>...</td>\n",
       "      <td>...</td>\n",
       "      <td>...</td>\n",
       "      <td>...</td>\n",
       "      <td>...</td>\n",
       "      <td>...</td>\n",
       "    </tr>\n",
       "    <tr>\n",
       "      <th>106</th>\n",
       "      <td>bpo</td>\n",
       "      <td>1965</td>\n",
       "      <td>/home/ryan/github/koselleck/data/skipgrams/yea...</td>\n",
       "      <td>20654</td>\n",
       "      <td>516350</td>\n",
       "      <td>1965-1970</td>\n",
       "    </tr>\n",
       "    <tr>\n",
       "      <th>132</th>\n",
       "      <td>bpo</td>\n",
       "      <td>1966</td>\n",
       "      <td>/home/ryan/github/koselleck/data/skipgrams/yea...</td>\n",
       "      <td>21501</td>\n",
       "      <td>537525</td>\n",
       "      <td>1965-1970</td>\n",
       "    </tr>\n",
       "    <tr>\n",
       "      <th>116</th>\n",
       "      <td>bpo</td>\n",
       "      <td>1967</td>\n",
       "      <td>/home/ryan/github/koselleck/data/skipgrams/yea...</td>\n",
       "      <td>5316</td>\n",
       "      <td>132900</td>\n",
       "      <td>1965-1970</td>\n",
       "    </tr>\n",
       "    <tr>\n",
       "      <th>20</th>\n",
       "      <td>bpo</td>\n",
       "      <td>1968</td>\n",
       "      <td>/home/ryan/github/koselleck/data/skipgrams/yea...</td>\n",
       "      <td>6281</td>\n",
       "      <td>157025</td>\n",
       "      <td>1965-1970</td>\n",
       "    </tr>\n",
       "    <tr>\n",
       "      <th>34</th>\n",
       "      <td>bpo</td>\n",
       "      <td>1969</td>\n",
       "      <td>/home/ryan/github/koselleck/data/skipgrams/yea...</td>\n",
       "      <td>5992</td>\n",
       "      <td>149800</td>\n",
       "      <td>1965-1970</td>\n",
       "    </tr>\n",
       "  </tbody>\n",
       "</table>\n",
       "<p>250 rows × 6 columns</p>\n",
       "</div>"
      ],
      "text/plain": [
       "    corpus  year                                               path  \\\n",
       "234    bpo  1720  /home/ryan/github/koselleck/data/skipgrams/yea...   \n",
       "270    bpo  1721  /home/ryan/github/koselleck/data/skipgrams/yea...   \n",
       "205    bpo  1722  /home/ryan/github/koselleck/data/skipgrams/yea...   \n",
       "74     bpo  1723  /home/ryan/github/koselleck/data/skipgrams/yea...   \n",
       "93     bpo  1724  /home/ryan/github/koselleck/data/skipgrams/yea...   \n",
       "..     ...   ...                                                ...   \n",
       "106    bpo  1965  /home/ryan/github/koselleck/data/skipgrams/yea...   \n",
       "132    bpo  1966  /home/ryan/github/koselleck/data/skipgrams/yea...   \n",
       "116    bpo  1967  /home/ryan/github/koselleck/data/skipgrams/yea...   \n",
       "20     bpo  1968  /home/ryan/github/koselleck/data/skipgrams/yea...   \n",
       "34     bpo  1969  /home/ryan/github/koselleck/data/skipgrams/yea...   \n",
       "\n",
       "     num_lines  num_words     period  \n",
       "234       4166     104150  1720-1725  \n",
       "270       5656     141400  1720-1725  \n",
       "205       7126     178150  1720-1725  \n",
       "74        8820     220500  1720-1725  \n",
       "93        6070     151750  1720-1725  \n",
       "..         ...        ...        ...  \n",
       "106      20654     516350  1965-1970  \n",
       "132      21501     537525  1965-1970  \n",
       "116       5316     132900  1965-1970  \n",
       "20        6281     157025  1965-1970  \n",
       "34        5992     149800  1965-1970  \n",
       "\n",
       "[250 rows x 6 columns]"
      ]
     },
     "execution_count": 22,
     "metadata": {},
     "output_type": "execute_result"
    }
   ],
   "source": [
    "dfskip=get_skipgrams(calc_numlines=True)\n",
    "dfskip['period']=dfskip.year.apply(periodize)\n",
    "# dfskip=dfskip.query('1700<=year<1900')\n",
    "dfskip=dfskip.query('1720<=year')  # 1725 on we have >1M words\n",
    "dfskip"
   ]
  },
  {
   "cell_type": "code",
   "execution_count": 23,
   "metadata": {},
   "outputs": [],
   "source": [
    "# dfgg=dfskip.groupby('period').sum()\n",
    "# dfgg"
   ]
  },
  {
   "cell_type": "code",
   "execution_count": 24,
   "metadata": {},
   "outputs": [
    {
     "data": {
      "text/plain": [
       "period\n",
       "1720-1725      795950\n",
       "1725-1730     1007225\n",
       "1730-1735     3335550\n",
       "1735-1740     3725500\n",
       "1740-1745     3197875\n",
       "1745-1750     3701400\n",
       "1750-1755     4202700\n",
       "1755-1760     4449375\n",
       "1760-1765     5439850\n",
       "1765-1770     5254200\n",
       "1770-1775     6778200\n",
       "1775-1780     8770100\n",
       "1780-1785     9480575\n",
       "1785-1790    10021325\n",
       "1790-1795    10028000\n",
       "1795-1800    10497650\n",
       "1800-1805    12494800\n",
       "1805-1810    15506450\n",
       "1810-1815    17915175\n",
       "1815-1820    19951425\n",
       "1820-1825    26663350\n",
       "1825-1830    24898100\n",
       "1830-1835    27177150\n",
       "1835-1840    26890875\n",
       "1840-1845    30750100\n",
       "1845-1850    32821800\n",
       "1850-1855    33975225\n",
       "1855-1860    39190800\n",
       "1860-1865    46852500\n",
       "1865-1870    52152100\n",
       "1870-1875    50863350\n",
       "1875-1880    50676650\n",
       "1880-1885    53240875\n",
       "1885-1890    54629925\n",
       "1890-1895    61195050\n",
       "1895-1900    61117725\n",
       "1900-1905    50766725\n",
       "1905-1910    38521050\n",
       "1910-1915    28646800\n",
       "1915-1920    18424325\n",
       "1920-1925    17074525\n",
       "1925-1930    17539375\n",
       "1930-1935    15295675\n",
       "1935-1940     9533850\n",
       "1940-1945     4525300\n",
       "1945-1950     4025125\n",
       "1950-1955     4677225\n",
       "1955-1960     4128150\n",
       "1960-1965     3255950\n",
       "1965-1970     1493600\n",
       "Name: num_words, dtype: int64"
      ]
     },
     "execution_count": 24,
     "metadata": {},
     "output_type": "execute_result"
    }
   ],
   "source": [
    "dfskip.groupby('period').num_words.sum()"
   ]
  },
  {
   "cell_type": "code",
   "execution_count": 25,
   "metadata": {},
   "outputs": [],
   "source": [
    "# dfskip[dfskip.num_lines<20000]"
   ]
  },
  {
   "cell_type": "code",
   "execution_count": 26,
   "metadata": {},
   "outputs": [
    {
     "data": {
      "text/plain": [
       "Series([], dtype: int64)"
      ]
     },
     "execution_count": 26,
     "metadata": {},
     "output_type": "execute_result"
    }
   ],
   "source": [
    "dfskipruns=pd.concat([\n",
    "    dfskip.assign(run=f'run_{str(i+1).zfill(2)}')\n",
    "    for i in range(1)\n",
    "])\n",
    "dfskipruns['opath']=dfskipruns.apply(lambda row: os.path.join(PATH_MODELS_NEW,row.corpus,row.period,row.run,'model.bin'),1)\n",
    "dfskipruns['opath_exists']=dfskipruns.opath.apply(lambda x: os.path.exists(x))\n",
    "# dfskipruns=dfskipruns.query('run!=\"run_01\"')\n",
    "dfskipruns=dfskipruns[dfskipruns.opath_exists==False]\n",
    "dfskipruns.groupby('opath_exists').size()\n",
    "# dfskipruns"
   ]
  },
  {
   "cell_type": "code",
   "execution_count": null,
   "metadata": {},
   "outputs": [],
   "source": []
  },
  {
   "cell_type": "code",
   "execution_count": 13,
   "metadata": {},
   "outputs": [],
   "source": [
    "def gen_and_save_model(dfskip,nskip=DEFAULT_NUM_SKIP,force=False,vector_size=100,window=10,min_count=5,epochs=10,workers=8):\n",
    "    row=dfskip.iloc[0]\n",
    "    odir=os.path.join(PATH_MODELS_NEW,row.corpus,row.period,row.run)\n",
    "    ofnfn=os.path.join(odir,'model.bin')\n",
    "    if force or not os.path.exists(ofnfn):\n",
    "        ensure_dir_exists(odir)\n",
    "        ss=SkipgramsSamplers(dfskip.path, nskip)\n",
    "        model = Word2Vec(sentences=ss,vector_size=vector_size,window=window,min_count=min_count,epochs=epochs,workers=workers)\n",
    "        model.save(ofnfn)\n",
    "    return pd.DataFrame()\n",
    "\n",
    "# model.wv.most_similar('value',topn=25)"
   ]
  },
  {
   "cell_type": "code",
   "execution_count": 14,
   "metadata": {},
   "outputs": [],
   "source": [
    "# enable_gensim_logging()\n",
    "NSKIP_PER_YR=20000\n",
    "# gen_and_save_model(dfskipruns.iloc[:5],force=True,nskip=NSKIP_PER_YR,epochs=10)\n",
    "# m=load_model('/home/ryan/github/koselleck/data/models/bpo/1700-1705/run_01/model.bin')\n",
    "# m.wv.most_similar('virtue')"
   ]
  },
  {
   "cell_type": "code",
   "execution_count": 15,
   "metadata": {},
   "outputs": [],
   "source": [
    "# enable_gensim_logging()\n",
    "disable_gensim_logging()"
   ]
  },
  {
   "cell_type": "code",
   "execution_count": 16,
   "metadata": {},
   "outputs": [
    {
     "name": "stderr",
     "output_type": "stream",
     "text": [
      "Mapping gen_and_save_model [x4]: 100%|██████████| 14/14 [02:22<00:00, 10.14s/it]\n"
     ]
    }
   ],
   "source": [
    "res=pmap_groups(\n",
    "    gen_and_save_model,\n",
    "    dfskipruns.groupby(['period','run']),\n",
    "    num_proc=4,\n",
    "    kwargs=dict(force=True, nskip=NSKIP_PER_YR)\n",
    ")"
   ]
  },
  {
   "cell_type": "code",
   "execution_count": null,
   "metadata": {},
   "outputs": [],
   "source": []
  },
  {
   "cell_type": "code",
   "execution_count": 17,
   "metadata": {},
   "outputs": [
    {
     "data": {
      "text/plain": [
       "[('ignorance', 0.7392162680625916),\n",
       " ('environment', 0.7112278342247009),\n",
       " ('greatness', 0.6904208064079285),\n",
       " ('intellect', 0.6891406178474426),\n",
       " ('motive', 0.6839988231658936),\n",
       " ('power', 0.677443265914917),\n",
       " ('welfare', 0.6711458563804626),\n",
       " ('patriotism', 0.6694182753562927),\n",
       " ('limitations', 0.6671348810195923),\n",
       " ('belief', 0.6654924154281616)]"
      ]
     },
     "execution_count": 17,
     "metadata": {},
     "output_type": "execute_result"
    }
   ],
   "source": [
    "m=load_model('/home/ryan/github/koselleck/data/models/bpo/1905-1910/run_01/model.bin')\n",
    "m.wv.most_similar('virtue')"
   ]
  },
  {
   "cell_type": "code",
   "execution_count": null,
   "metadata": {},
   "outputs": [],
   "source": []
  },
  {
   "cell_type": "code",
   "execution_count": null,
   "metadata": {},
   "outputs": [],
   "source": []
  }
 ],
 "metadata": {
  "kernelspec": {
   "display_name": "Python 3",
   "language": "python",
   "name": "python3"
  },
  "language_info": {
   "codemirror_mode": {
    "name": "ipython",
    "version": 3
   },
   "file_extension": ".py",
   "mimetype": "text/x-python",
   "name": "python",
   "nbconvert_exporter": "python",
   "pygments_lexer": "ipython3",
   "version": "3.7.7"
  },
  "toc-autonumbering": true,
  "widgets": {
   "application/vnd.jupyter.widget-state+json": {
    "state": {},
    "version_major": 2,
    "version_minor": 0
   }
  }
 },
 "nbformat": 4,
 "nbformat_minor": 4
}
